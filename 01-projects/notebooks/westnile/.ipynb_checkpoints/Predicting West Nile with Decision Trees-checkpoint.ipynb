{
 "cells": [
  {
   "cell_type": "code",
   "execution_count": null,
   "metadata": {
    "collapsed": true
   },
   "outputs": [],
   "source": [
    "import pandas as pd\n",
    "import numpy as np\n",
    "\n",
    "from sklearn.preprocessing import MinMaxScaler, StandardScaler\n",
    "from sklearn.cross_validation import KFold, cross_val_score\n",
    "from sklearn.tree import DecisionTreeRegressor\n",
    "from sklearn.tree import DecisionTreeClassifier\n",
    "from sklearn.ensemble import RandomForestClassifier, AdaBoostClassifier\n",
    "from sklearn.cross_validation import train_test_split\n",
    "from sklearn.preprocessing import LabelEncoder\n",
    "from sklearn.grid_search import GridSearchCV\n",
    "from sklearn import metrics\n",
    "from sklearn.metrics import confusion_matrix\n",
    "from sklearn.metrics import r2_score\n",
    "from sklearn.cross_validation import cross_val_score\n",
    "from sklearn.tree import export_graphviz\n",
    "from sklearn.externals.six import StringIO\n",
    "\n",
    "from IPython.display import Image\n",
    "import pydot\n",
    "import matplotlib.pyplot as plt\n",
    "import seaborn as sns\n",
    "%matplotlib inline"
   ]
  },
  {
   "cell_type": "code",
   "execution_count": null,
   "metadata": {
    "collapsed": true
   },
   "outputs": [],
   "source": [
    "df = pd.read_csv('../assets/trainWeather.csv')"
   ]
  },
  {
   "cell_type": "code",
   "execution_count": null,
   "metadata": {
    "collapsed": true
   },
   "outputs": [],
   "source": [
    "y = df['WnvPresent']\n",
    "X = df.drop(['WnvPresent','Latitude','Longitude'], axis = 1)"
   ]
  },
  {
   "cell_type": "code",
   "execution_count": null,
   "metadata": {
    "collapsed": true
   },
   "outputs": [],
   "source": [
    "X['SnowFall_x'] = X['SnowFall_x'].map({'  T' : 1} )\n",
    "X['PrecipTotal_x'] = X['PrecipTotal_x'].map({'  T' : 0} )\n",
    "X['PrecipTotal_y'] = X['PrecipTotal_y'].map({'  T' : 0} )"
   ]
  },
  {
   "cell_type": "code",
   "execution_count": null,
   "metadata": {
    "collapsed": true
   },
   "outputs": [],
   "source": [
    "X['PrecipTotal_y'].fillna(X['PrecipTotal_y'].mean(), inplace=True)\n",
    "X['PrecipTotal_x'].fillna(X['PrecipTotal_x'].mean(), inplace=True)\n",
    "X['SnowFall_x'].fillna(X['SnowFall_x'].mean(), inplace=True)"
   ]
  },
  {
   "cell_type": "code",
   "execution_count": null,
   "metadata": {
    "collapsed": true
   },
   "outputs": [],
   "source": [
    "# Scale year, runtime, and gross columns to values between 0 and 1. Our minimum will now be 0 and max will be 1\n",
    "\n",
    "scale = StandardScaler()\n",
    "\n",
    "X.ix[:,1:] = scale.fit_transform(X.ix[:,1:].as_matrix())"
   ]
  },
  {
   "cell_type": "code",
   "execution_count": null,
   "metadata": {
    "collapsed": true
   },
   "outputs": [],
   "source": [
    "def create_month(x):\n",
    "    return x.split('-')[1]\n",
    "\n",
    "def create_day(x):\n",
    "    return x.split('-')[2]\n",
    "\n",
    "X['month'] = X.Date.apply(create_month)\n",
    "X['day'] = X.Date.apply(create_day)\n",
    "# test['month'] = test.Date.apply(create_month)\n",
    "# test['day'] = test.Date.apply(create_day)"
   ]
  },
  {
   "cell_type": "code",
   "execution_count": null,
   "metadata": {
    "collapsed": true
   },
   "outputs": [],
   "source": [
    "X['Date'] = pd.to_datetime(X['Date'])\n",
    "X.set_index('Date', inplace=True)"
   ]
  },
  {
   "cell_type": "code",
   "execution_count": null,
   "metadata": {
    "collapsed": false
   },
   "outputs": [],
   "source": [
    "le = LabelEncoder()\n",
    "y = le.fit_transform(y)"
   ]
  },
  {
   "cell_type": "code",
   "execution_count": null,
   "metadata": {
    "collapsed": true
   },
   "outputs": [],
   "source": [
    "X_train, X_test, y_train, y_test = train_test_split(X, y, test_size=0.3, random_state=42)"
   ]
  },
  {
   "cell_type": "code",
   "execution_count": null,
   "metadata": {
    "collapsed": true
   },
   "outputs": [],
   "source": [
    "#Initiate GridSearch - it just may be that it's not max_depth that will get us the best model, but a certain\n",
    "#combination of the model's possible parameters\n",
    "\n",
    "PARAMETERS = {'max_depth':[1,2,3,4,5,6], 'max_features':[1,2,3,4], \n",
    "              'max_leaf_nodes':[5,6,7,8,9,10], 'min_samples_leaf':[1,2,3,4],\n",
    "              'min_samples_split':[1,2,3,4]}\n",
    "SCORING = 'mean_squared_error'"
   ]
  },
  {
   "cell_type": "code",
   "execution_count": null,
   "metadata": {
    "collapsed": false
   },
   "outputs": [],
   "source": [
    "#We use Grid Search to find optimal values for each paramter\n",
    "\n",
    "clfModel = DecisionTreeClassifier()\n",
    "clf = GridSearchCV(clfModel, PARAMETERS, scoring=SCORING, n_jobs=-1)\n",
    "clf.fit(X, y)\n",
    "\n",
    "# #After completion, show the final best results and scores\n",
    "print clf.best_estimator_\n",
    "print clf.best_score_\n",
    "print np.sqrt(-clf.best_score_)"
   ]
  },
  {
   "cell_type": "code",
   "execution_count": null,
   "metadata": {
    "collapsed": false
   },
   "outputs": [],
   "source": [
    "# GridSearch provides us with the optimal parameters, so we fit our model with those parameters to the training set\n",
    "\n",
    "treeclf = DecisionTreeClassifier(class_weight=None, criterion='gini', max_depth=1,\n",
    "            max_features=1, max_leaf_nodes=5, min_samples_leaf=1,\n",
    "            min_samples_split=2, min_weight_fraction_leaf=0.0,\n",
    "            presort=False, random_state=8, splitter='best')\n",
    "treeclf.fit(X_train, y_train)"
   ]
  },
  {
   "cell_type": "code",
   "execution_count": null,
   "metadata": {
    "collapsed": false
   },
   "outputs": [],
   "source": [
    "# Review this tree with our normal classifier, but explain why these aren't great, leading into our use of ensemble\n",
    "# in the steps below\n",
    "\n",
    "dot_data = StringIO()  \n",
    "export_graphviz(treeclf, out_file=dot_data,  \n",
    "                feature_names=X.columns,  \n",
    "                filled=True, rounded=True,  \n",
    "                special_characters=True)  \n",
    "graph = pydot.graph_from_dot_data(dot_data.getvalue())  \n",
    "Image(graph[0].create_png())"
   ]
  },
  {
   "cell_type": "code",
   "execution_count": null,
   "metadata": {
    "collapsed": false
   },
   "outputs": [],
   "source": [
    "# predict class labels for the test set\n",
    "predicted = treeclf.predict(X_test)\n",
    "print predicted"
   ]
  },
  {
   "cell_type": "code",
   "execution_count": null,
   "metadata": {
    "collapsed": true
   },
   "outputs": [],
   "source": [
    "# generate class probabilities - this will be useful for our confusion plot below\n",
    "probs = treeclf.predict_proba(X_test)"
   ]
  },
  {
   "cell_type": "code",
   "execution_count": null,
   "metadata": {
    "collapsed": false
   },
   "outputs": [],
   "source": [
    "# rfc = RandomForestClassifier(n_jobs=-1, max_features= 'sqrt', n_estimators=50, oob_score = True) \n",
    "\n",
    "# CV_rfc = GridSearchCV(rfc, PARAMETERS, scoring=SCORING, cv= 5)\n",
    "# CV_rfc.fit(X, y)\n",
    "# print CV_rfc.best_params_\n",
    "# print CV_rfc.best_estimator_"
   ]
  },
  {
   "cell_type": "code",
   "execution_count": null,
   "metadata": {
    "collapsed": false
   },
   "outputs": [],
   "source": [
    "rfClf = RandomForestClassifier(bootstrap=True, class_weight=None, criterion='gini',\n",
    "            max_depth=1, max_features=1, max_leaf_nodes=5,\n",
    "            min_samples_leaf=1, min_samples_split=1,\n",
    "            min_weight_fraction_leaf=0.0, n_estimators=50, n_jobs=-1,\n",
    "            oob_score=True, random_state=63, verbose=0, warm_start=False)\n",
    "\n",
    "rfClf.fit(X_train, y_train)"
   ]
  },
  {
   "cell_type": "code",
   "execution_count": null,
   "metadata": {
    "collapsed": false
   },
   "outputs": [],
   "source": [
    "rfPreds = rfClf.predict(X_test)\n",
    "print rfPreds\n",
    "\n",
    "rfProbs = rfClf.predict_proba(X_test)"
   ]
  },
  {
   "cell_type": "code",
   "execution_count": null,
   "metadata": {
    "collapsed": false
   },
   "outputs": [],
   "source": [
    "# Create and fit an AdaBoosted decision tree\n",
    "bdt = AdaBoostClassifier(DecisionTreeClassifier(max_depth=1),\n",
    "                         algorithm=\"SAMME\",\n",
    "                         n_estimators=200)\n",
    "\n",
    "bdt.fit(X, y)\n"
   ]
  },
  {
   "cell_type": "code",
   "execution_count": null,
   "metadata": {
    "collapsed": false
   },
   "outputs": [],
   "source": [
    "ada = AdaBoostClassifier(algorithm='SAMME',\n",
    "          base_estimator=DecisionTreeClassifier(class_weight=None, criterion='gini', max_depth=1,\n",
    "            max_features=None, max_leaf_nodes=None, min_samples_leaf=1,\n",
    "            min_samples_split=2, min_weight_fraction_leaf=0.0,\n",
    "            presort=False, random_state=5, splitter='best'),\n",
    "          learning_rate=1.0, n_estimators=200, random_state=None)\n",
    "\n",
    "ada.fit(X_train, y_train)"
   ]
  },
  {
   "cell_type": "code",
   "execution_count": null,
   "metadata": {
    "collapsed": false
   },
   "outputs": [],
   "source": [
    "adaPreds = ada.predict(X_test)\n",
    "print rfPreds\n",
    "\n",
    "adaProbs = ada.predict_proba(X_test)\n",
    "\n",
    "print \"The AdaBoost Classifier's accuracy score is\", metrics.accuracy_score(y_test, adaPreds)\n",
    "print \"The AdaBoost Classifier's area under the curve is\", metrics.roc_auc_score(y_test, adaProbs[:, 1])"
   ]
  },
  {
   "cell_type": "code",
   "execution_count": null,
   "metadata": {
    "collapsed": false
   },
   "outputs": [],
   "source": [
    "print \"The Decision Tree Classifier's accuracy score is\", metrics.accuracy_score(y_test, predicted)\n",
    "print \"The Decision Tree Classifier's area under the curve is\", metrics.roc_auc_score(y_test, probs[:, 1])\n",
    "print ' '\n",
    "\n",
    "print \"The Random Forest Classifier's accuracy score is\", metrics.accuracy_score(y_test, rfPreds)\n",
    "print \"The Random Forest Classifier's area under the curve is\", metrics.roc_auc_score(y_test, rfProbs[:, 1])\n",
    "\n",
    "print \"The AdaBoost Classifier's accuracy score is\", metrics.accuracy_score(y_test, adaPreds)\n",
    "print \"The AdaBoost Classifier's area under the curve is\", metrics.roc_auc_score(y_test, adaProbs[:, 1])"
   ]
  },
  {
   "cell_type": "code",
   "execution_count": null,
   "metadata": {
    "collapsed": false
   },
   "outputs": [],
   "source": [
    "print confusion_matrix(y_test, predicted)"
   ]
  },
  {
   "cell_type": "code",
   "execution_count": null,
   "metadata": {
    "collapsed": false
   },
   "outputs": [],
   "source": [
    "print confusion_matrix(y_test, rfPreds)"
   ]
  },
  {
   "cell_type": "code",
   "execution_count": null,
   "metadata": {
    "collapsed": false
   },
   "outputs": [],
   "source": [
    "print confusion_matrix(y_test, adaPreds)"
   ]
  },
  {
   "cell_type": "code",
   "execution_count": null,
   "metadata": {
    "collapsed": false
   },
   "outputs": [],
   "source": [
    "adaFalse_positive_rate, adaTrue_positive_rate, adaThresholds = metrics.roc_curve(y_test, adaProbs[:, 1])\n",
    "adaRoc_auc = metrics.auc(adaFalse_positive_rate, adaTrue_positive_rate)\n",
    "\n",
    "rfFalse_positive_rate, rfTrue_positive_rate, rfThresholds = metrics.roc_curve(y_test, rfProbs[:, 1])\n",
    "rfRoc_auc = metrics.auc(rfFalse_positive_rate, rfTrue_positive_rate)\n",
    "\n",
    "false_positive_rate, true_positive_rate, thresholds = metrics.roc_curve(y_test, probs[:, 1])\n",
    "roc_auc = metrics.auc(false_positive_rate, true_positive_rate)\n",
    "\n",
    "plt.rcParams['figure.figsize']=17,8\n",
    "plt.title('Receiver Operating Characteristic\\n', fontsize=20)\n",
    "\n",
    "plt.plot(adaFalse_positive_rate, adaTrue_positive_rate, 'b',\n",
    "label='AdaBoost AUC = %0.2f'% adaRoc_auc)\n",
    "\n",
    "plt.plot(rfFalse_positive_rate, rfTrue_positive_rate, 'm',\n",
    "label='RandomForest AUC = %0.2f'% rfRoc_auc)\n",
    "\n",
    "plt.plot(false_positive_rate, true_positive_rate, 'g',\n",
    "label='DecisionTree AUC = %0.2f'% roc_auc)\n",
    "\n",
    "plt.legend(loc=7, fontsize='x-large', )\n",
    "plt.plot([0,1],[0,1],'r--')\n",
    "plt.xlim([-0.1,1.2])\n",
    "plt.ylim([-0.1,1.2])\n",
    "plt.ylabel('True Positive Rate\\n', fontsize=14)\n",
    "plt.xlabel('\\nFalse Positive Rate', fontsize=14)\n",
    "plt.show()"
   ]
  },
  {
   "cell_type": "code",
   "execution_count": null,
   "metadata": {
    "collapsed": false
   },
   "outputs": [],
   "source": [
    "probDf = pd.DataFrame(rfProbs, columns=['noWN', 'WN'])\n",
    "\n",
    "probDf['actual'] = y_test\n",
    "\n",
    "cmDf = probDf[['actual','WN']]\n",
    "threshold = 0.08\n",
    "\n",
    "cmDf['predicted'] = [1 if i >= threshold else 0 for i in cmDf['WN']]"
   ]
  },
  {
   "cell_type": "code",
   "execution_count": null,
   "metadata": {
    "collapsed": false
   },
   "outputs": [],
   "source": [
    "print pd.crosstab(\n",
    "        cmDf['actual'],\n",
    "        cmDf['predicted'], \n",
    "        rownames=['actual'])"
   ]
  },
  {
   "cell_type": "code",
   "execution_count": null,
   "metadata": {
    "collapsed": true
   },
   "outputs": [],
   "source": [
    "adaProbDf = pd.DataFrame(adaProbs, columns=['noWN', 'WN'])\n",
    "\n",
    "adaProbDf['actual'] = y_test\n",
    "\n",
    "adaCmDf = adaProbDf[['actual','WN']]\n",
    "adaThreshold = 0.45\n",
    "\n",
    "adaCmDf['predicted'] = [1 if i >= adaThreshold else 0 for i in adaCmDf['WN']]"
   ]
  },
  {
   "cell_type": "code",
   "execution_count": null,
   "metadata": {
    "collapsed": false
   },
   "outputs": [],
   "source": [
    "print pd.crosstab(\n",
    "        adaCmDf['actual'],\n",
    "        adaCmDf['predicted'], \n",
    "        rownames=['actual'])"
   ]
  }
 ],
 "metadata": {
  "kernelspec": {
   "display_name": "Python 2",
   "language": "python",
   "name": "python2"
  },
  "language_info": {
   "codemirror_mode": {
    "name": "ipython",
    "version": 2
   },
   "file_extension": ".py",
   "mimetype": "text/x-python",
   "name": "python",
   "nbconvert_exporter": "python",
   "pygments_lexer": "ipython2",
   "version": "2.7.12"
  }
 },
 "nbformat": 4,
 "nbformat_minor": 0
}
