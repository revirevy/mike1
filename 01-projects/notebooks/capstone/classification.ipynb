{
 "cells": [
  {
   "cell_type": "code",
   "execution_count": 229,
   "metadata": {
    "collapsed": false
   },
   "outputs": [],
   "source": [
    "import json\n",
    "import urllib\n",
    "import pandas as pd\n",
    "import numpy as np\n",
    "import requests\n",
    "import re\n",
    "from imdbpie import Imdb\n",
    "\n",
    "import nltk\n",
    "from nltk.tokenize import RegexpTokenizer\n",
    "import collections\n",
    "from collections import Counter\n",
    "\n",
    "from sklearn.preprocessing import MinMaxScaler\n",
    "from sklearn.cross_validation import KFold, cross_val_score\n",
    "from sklearn.tree import DecisionTreeRegressor\n",
    "from sklearn.tree import DecisionTreeClassifier\n",
    "from sklearn.ensemble import RandomForestClassifier, AdaBoostClassifier\n",
    "from sklearn.cross_validation import train_test_split\n",
    "from sklearn.preprocessing import LabelEncoder\n",
    "from sklearn.grid_search import GridSearchCV\n",
    "from sklearn import metrics\n",
    "from sklearn.metrics import confusion_matrix\n",
    "from sklearn.metrics import r2_score\n",
    "from sklearn.cross_validation import cross_val_score\n",
    "from sklearn.tree import export_graphviz\n",
    "from sklearn.externals.six import StringIO\n",
    "\n",
    "from IPython.display import Image\n",
    "import pydot\n",
    "import matplotlib.pyplot as plt\n",
    "import seaborn as sns\n",
    "%matplotlib inline"
   ]
  },
  {
   "cell_type": "code",
   "execution_count": 184,
   "metadata": {
    "collapsed": true
   },
   "outputs": [],
   "source": [
    "df = pd.read_csv('../../assets/capstone-assets/CCRPI/master15Cluster.csv')"
   ]
  },
  {
   "cell_type": "code",
   "execution_count": 185,
   "metadata": {
    "collapsed": true
   },
   "outputs": [],
   "source": [
    "df2 = pd.read_csv('../../assets/capstone-assets/CCRPI/master.csv')"
   ]
  },
  {
   "cell_type": "code",
   "execution_count": 186,
   "metadata": {
    "collapsed": false
   },
   "outputs": [
    {
     "data": {
      "text/html": [
       "<div>\n",
       "<table border=\"1\" class=\"dataframe\">\n",
       "  <thead>\n",
       "    <tr style=\"text-align: right;\">\n",
       "      <th></th>\n",
       "      <th>year</th>\n",
       "      <th>sysID</th>\n",
       "      <th>sysName</th>\n",
       "      <th>schoolID</th>\n",
       "      <th>schoolName</th>\n",
       "      <th>adress</th>\n",
       "      <th>latitude</th>\n",
       "      <th>longitude</th>\n",
       "      <th>grd</th>\n",
       "      <th>ccrpi</th>\n",
       "      <th>titleI</th>\n",
       "      <th>chrtr</th>\n",
       "      <th>cluster</th>\n",
       "    </tr>\n",
       "  </thead>\n",
       "  <tbody>\n",
       "    <tr>\n",
       "      <th>0</th>\n",
       "      <td>2015</td>\n",
       "      <td>601</td>\n",
       "      <td>Appling County</td>\n",
       "      <td>103</td>\n",
       "      <td>Appling County High School</td>\n",
       "      <td>482 Blackshear Hwy,Baxley,Ga,31513</td>\n",
       "      <td>31.757758</td>\n",
       "      <td>-82.354021</td>\n",
       "      <td>H</td>\n",
       "      <td>73.6</td>\n",
       "      <td>No</td>\n",
       "      <td>No</td>\n",
       "      <td>1</td>\n",
       "    </tr>\n",
       "  </tbody>\n",
       "</table>\n",
       "</div>"
      ],
      "text/plain": [
       "   year  sysID         sysName  schoolID                  schoolName  \\\n",
       "0  2015    601  Appling County       103  Appling County High School   \n",
       "\n",
       "                               adress   latitude  longitude grd  ccrpi titleI  \\\n",
       "0  482 Blackshear Hwy,Baxley,Ga,31513  31.757758 -82.354021   H   73.6     No   \n",
       "\n",
       "  chrtr  cluster  \n",
       "0    No        1  "
      ]
     },
     "execution_count": 186,
     "metadata": {},
     "output_type": "execute_result"
    }
   ],
   "source": [
    "df.drop(['Unnamed: 0'], axis=1, inplace=True)\n",
    "df.head(1)"
   ]
  },
  {
   "cell_type": "code",
   "execution_count": 187,
   "metadata": {
    "collapsed": false
   },
   "outputs": [
    {
     "data": {
      "text/html": [
       "<div>\n",
       "<table border=\"1\" class=\"dataframe\">\n",
       "  <thead>\n",
       "    <tr style=\"text-align: right;\">\n",
       "      <th></th>\n",
       "      <th>year</th>\n",
       "      <th>sysID</th>\n",
       "      <th>sysName</th>\n",
       "      <th>schoolID</th>\n",
       "      <th>schoolName</th>\n",
       "      <th>grd</th>\n",
       "      <th>ccrpi</th>\n",
       "      <th>street</th>\n",
       "      <th>city</th>\n",
       "      <th>county</th>\n",
       "      <th>state</th>\n",
       "      <th>zip</th>\n",
       "      <th>locClass</th>\n",
       "      <th>titleI</th>\n",
       "      <th>chrtr</th>\n",
       "      <th>totStudnts</th>\n",
       "      <th>crprlPun</th>\n",
       "      <th>dtntn</th>\n",
       "      <th>iss</th>\n",
       "      <th>oss</th>\n",
       "      <th>altSchl</th>\n",
       "      <th>physRest</th>\n",
       "      <th>busSusp</th>\n",
       "      <th>explsn</th>\n",
       "      <th>other_discipline_action</th>\n",
       "      <th>pctDisc</th>\n",
       "      <th>bully</th>\n",
       "      <th>disCond</th>\n",
       "      <th>gngRel</th>\n",
       "      <th>hom</th>\n",
       "      <th>sexRelated</th>\n",
       "      <th>drugAlc</th>\n",
       "      <th>weapons</th>\n",
       "      <th>thftRbry</th>\n",
       "      <th>violence</th>\n",
       "      <th>pctBehavrs</th>\n",
       "      <th>stdTchRatio</th>\n",
       "      <th>expPerStudent</th>\n",
       "      <th>salBenSum</th>\n",
       "      <th>freeLnch</th>\n",
       "      <th>reducedLnch</th>\n",
       "      <th>pctMobile</th>\n",
       "      <th>pctAbs5orLess</th>\n",
       "      <th>pctAbsSix-Fiftn</th>\n",
       "      <th>pctOverFiftn</th>\n",
       "      <th>pctSnapTanfHmls</th>\n",
       "      <th>pctAsian</th>\n",
       "      <th>pctNative</th>\n",
       "      <th>pctBlck</th>\n",
       "      <th>pctHisp</th>\n",
       "      <th>pctMulti</th>\n",
       "      <th>pctWhite</th>\n",
       "      <th>pctMigrant</th>\n",
       "      <th>pctSPED</th>\n",
       "      <th>pctESOL</th>\n",
       "      <th>pctAltProg</th>\n",
       "      <th>pctGiftd</th>\n",
       "    </tr>\n",
       "  </thead>\n",
       "  <tbody>\n",
       "    <tr>\n",
       "      <th>0</th>\n",
       "      <td>2015</td>\n",
       "      <td>601</td>\n",
       "      <td>Appling County</td>\n",
       "      <td>103</td>\n",
       "      <td>Appling County High School</td>\n",
       "      <td>H</td>\n",
       "      <td>73.6</td>\n",
       "      <td>482 Blackshear Hwy</td>\n",
       "      <td>Baxley</td>\n",
       "      <td>Appling County</td>\n",
       "      <td>GA</td>\n",
       "      <td>31513</td>\n",
       "      <td>33.0</td>\n",
       "      <td>No</td>\n",
       "      <td>No</td>\n",
       "      <td>1063</td>\n",
       "      <td>0</td>\n",
       "      <td>0</td>\n",
       "      <td>349</td>\n",
       "      <td>90</td>\n",
       "      <td>10</td>\n",
       "      <td>0</td>\n",
       "      <td>8</td>\n",
       "      <td>0</td>\n",
       "      <td>103</td>\n",
       "      <td>0.429915</td>\n",
       "      <td>0</td>\n",
       "      <td>304</td>\n",
       "      <td>2</td>\n",
       "      <td>0</td>\n",
       "      <td>7</td>\n",
       "      <td>41</td>\n",
       "      <td>2</td>\n",
       "      <td>3</td>\n",
       "      <td>43</td>\n",
       "      <td>0.378175</td>\n",
       "      <td>16.4</td>\n",
       "      <td>5721.49</td>\n",
       "      <td>18817718.34</td>\n",
       "      <td>726.0</td>\n",
       "      <td>0.0</td>\n",
       "      <td>0.10668</td>\n",
       "      <td>41.6</td>\n",
       "      <td>38.2</td>\n",
       "      <td>20.2</td>\n",
       "      <td>30</td>\n",
       "      <td>1</td>\n",
       "      <td>0</td>\n",
       "      <td>22</td>\n",
       "      <td>11</td>\n",
       "      <td>2</td>\n",
       "      <td>64</td>\n",
       "      <td>4</td>\n",
       "      <td>12.7</td>\n",
       "      <td>1.3</td>\n",
       "      <td>6.8</td>\n",
       "      <td>6.8</td>\n",
       "    </tr>\n",
       "  </tbody>\n",
       "</table>\n",
       "</div>"
      ],
      "text/plain": [
       "   year  sysID         sysName  schoolID                  schoolName grd  \\\n",
       "0  2015    601  Appling County       103  Appling County High School   H   \n",
       "\n",
       "   ccrpi              street    city          county state    zip  locClass  \\\n",
       "0   73.6  482 Blackshear Hwy  Baxley  Appling County    GA  31513      33.0   \n",
       "\n",
       "  titleI chrtr  totStudnts  crprlPun  dtntn  iss  oss  altSchl  physRest  \\\n",
       "0     No    No        1063         0      0  349   90       10         0   \n",
       "\n",
       "   busSusp  explsn  other_discipline_action   pctDisc  bully  disCond  gngRel  \\\n",
       "0        8       0                      103  0.429915      0      304       2   \n",
       "\n",
       "   hom  sexRelated  drugAlc  weapons  thftRbry  violence  pctBehavrs  \\\n",
       "0    0           7       41        2         3        43    0.378175   \n",
       "\n",
       "   stdTchRatio  expPerStudent    salBenSum  freeLnch  reducedLnch  pctMobile  \\\n",
       "0         16.4        5721.49  18817718.34     726.0          0.0    0.10668   \n",
       "\n",
       "   pctAbs5orLess  pctAbsSix-Fiftn  pctOverFiftn  pctSnapTanfHmls  pctAsian  \\\n",
       "0           41.6             38.2          20.2               30         1   \n",
       "\n",
       "   pctNative  pctBlck  pctHisp  pctMulti  pctWhite  pctMigrant  pctSPED  \\\n",
       "0          0       22       11         2        64           4     12.7   \n",
       "\n",
       "   pctESOL  pctAltProg  pctGiftd  \n",
       "0      1.3         6.8       6.8  "
      ]
     },
     "execution_count": 187,
     "metadata": {},
     "output_type": "execute_result"
    }
   ],
   "source": [
    "\n",
    "df2.drop(['Unnamed: 0'], axis=1, inplace=True)\n",
    "df2.head(1)"
   ]
  },
  {
   "cell_type": "code",
   "execution_count": 188,
   "metadata": {
    "collapsed": false
   },
   "outputs": [
    {
     "data": {
      "text/html": [
       "<div>\n",
       "<table border=\"1\" class=\"dataframe\">\n",
       "  <thead>\n",
       "    <tr style=\"text-align: right;\">\n",
       "      <th></th>\n",
       "      <th>year</th>\n",
       "      <th>sysID</th>\n",
       "      <th>sysName</th>\n",
       "      <th>schoolID</th>\n",
       "      <th>schoolName</th>\n",
       "      <th>grd</th>\n",
       "      <th>ccrpi</th>\n",
       "      <th>street</th>\n",
       "      <th>city</th>\n",
       "      <th>county</th>\n",
       "      <th>state</th>\n",
       "      <th>zip</th>\n",
       "      <th>locClass</th>\n",
       "      <th>titleI</th>\n",
       "      <th>chrtr</th>\n",
       "      <th>totStudnts</th>\n",
       "      <th>crprlPun</th>\n",
       "      <th>dtntn</th>\n",
       "      <th>iss</th>\n",
       "      <th>oss</th>\n",
       "      <th>altSchl</th>\n",
       "      <th>physRest</th>\n",
       "      <th>busSusp</th>\n",
       "      <th>explsn</th>\n",
       "      <th>other_discipline_action</th>\n",
       "      <th>pctDisc</th>\n",
       "      <th>bully</th>\n",
       "      <th>disCond</th>\n",
       "      <th>gngRel</th>\n",
       "      <th>hom</th>\n",
       "      <th>sexRelated</th>\n",
       "      <th>drugAlc</th>\n",
       "      <th>weapons</th>\n",
       "      <th>thftRbry</th>\n",
       "      <th>violence</th>\n",
       "      <th>pctBehavrs</th>\n",
       "      <th>stdTchRatio</th>\n",
       "      <th>expPerStudent</th>\n",
       "      <th>salBenSum</th>\n",
       "      <th>freeLnch</th>\n",
       "      <th>reducedLnch</th>\n",
       "      <th>pctMobile</th>\n",
       "      <th>pctAbs5orLess</th>\n",
       "      <th>pctAbsSix-Fiftn</th>\n",
       "      <th>pctOverFiftn</th>\n",
       "      <th>pctSnapTanfHmls</th>\n",
       "      <th>pctAsian</th>\n",
       "      <th>pctNative</th>\n",
       "      <th>pctBlck</th>\n",
       "      <th>pctHisp</th>\n",
       "      <th>pctMulti</th>\n",
       "      <th>pctWhite</th>\n",
       "      <th>pctMigrant</th>\n",
       "      <th>pctSPED</th>\n",
       "      <th>pctESOL</th>\n",
       "      <th>pctAltProg</th>\n",
       "      <th>pctGiftd</th>\n",
       "    </tr>\n",
       "  </thead>\n",
       "  <tbody>\n",
       "    <tr>\n",
       "      <th>0</th>\n",
       "      <td>2015</td>\n",
       "      <td>601</td>\n",
       "      <td>Appling County</td>\n",
       "      <td>103</td>\n",
       "      <td>Appling County High School</td>\n",
       "      <td>H</td>\n",
       "      <td>73.6</td>\n",
       "      <td>482 Blackshear Hwy</td>\n",
       "      <td>Baxley</td>\n",
       "      <td>Appling County</td>\n",
       "      <td>GA</td>\n",
       "      <td>31513</td>\n",
       "      <td>33.0</td>\n",
       "      <td>No</td>\n",
       "      <td>No</td>\n",
       "      <td>1063</td>\n",
       "      <td>0</td>\n",
       "      <td>0</td>\n",
       "      <td>349</td>\n",
       "      <td>90</td>\n",
       "      <td>10</td>\n",
       "      <td>0</td>\n",
       "      <td>8</td>\n",
       "      <td>0</td>\n",
       "      <td>103</td>\n",
       "      <td>0.429915</td>\n",
       "      <td>0</td>\n",
       "      <td>304</td>\n",
       "      <td>2</td>\n",
       "      <td>0</td>\n",
       "      <td>7</td>\n",
       "      <td>41</td>\n",
       "      <td>2</td>\n",
       "      <td>3</td>\n",
       "      <td>43</td>\n",
       "      <td>0.378175</td>\n",
       "      <td>16.4</td>\n",
       "      <td>5721.49</td>\n",
       "      <td>18817718.34</td>\n",
       "      <td>726.0</td>\n",
       "      <td>0.0</td>\n",
       "      <td>0.10668</td>\n",
       "      <td>41.6</td>\n",
       "      <td>38.2</td>\n",
       "      <td>20.2</td>\n",
       "      <td>30</td>\n",
       "      <td>1</td>\n",
       "      <td>0</td>\n",
       "      <td>22</td>\n",
       "      <td>11</td>\n",
       "      <td>2</td>\n",
       "      <td>64</td>\n",
       "      <td>4</td>\n",
       "      <td>12.7</td>\n",
       "      <td>1.3</td>\n",
       "      <td>6.8</td>\n",
       "      <td>6.8</td>\n",
       "    </tr>\n",
       "  </tbody>\n",
       "</table>\n",
       "</div>"
      ],
      "text/plain": [
       "   year  sysID         sysName  schoolID                  schoolName grd  \\\n",
       "0  2015    601  Appling County       103  Appling County High School   H   \n",
       "\n",
       "   ccrpi              street    city          county state    zip  locClass  \\\n",
       "0   73.6  482 Blackshear Hwy  Baxley  Appling County    GA  31513      33.0   \n",
       "\n",
       "  titleI chrtr  totStudnts  crprlPun  dtntn  iss  oss  altSchl  physRest  \\\n",
       "0     No    No        1063         0      0  349   90       10         0   \n",
       "\n",
       "   busSusp  explsn  other_discipline_action   pctDisc  bully  disCond  gngRel  \\\n",
       "0        8       0                      103  0.429915      0      304       2   \n",
       "\n",
       "   hom  sexRelated  drugAlc  weapons  thftRbry  violence  pctBehavrs  \\\n",
       "0    0           7       41        2         3        43    0.378175   \n",
       "\n",
       "   stdTchRatio  expPerStudent    salBenSum  freeLnch  reducedLnch  pctMobile  \\\n",
       "0         16.4        5721.49  18817718.34     726.0          0.0    0.10668   \n",
       "\n",
       "   pctAbs5orLess  pctAbsSix-Fiftn  pctOverFiftn  pctSnapTanfHmls  pctAsian  \\\n",
       "0           41.6             38.2          20.2               30         1   \n",
       "\n",
       "   pctNative  pctBlck  pctHisp  pctMulti  pctWhite  pctMigrant  pctSPED  \\\n",
       "0          0       22       11         2        64           4     12.7   \n",
       "\n",
       "   pctESOL  pctAltProg  pctGiftd  \n",
       "0      1.3         6.8       6.8  "
      ]
     },
     "execution_count": 188,
     "metadata": {},
     "output_type": "execute_result"
    }
   ],
   "source": [
    "pd.set_option('display.max_columns', None)\n",
    "df2.head(1)"
   ]
  },
  {
   "cell_type": "code",
   "execution_count": 189,
   "metadata": {
    "collapsed": true
   },
   "outputs": [],
   "source": [
    "data = pd.merge(df2, df, how='inner', on=['year', 'sysID','sysName', 'schoolID','schoolName','grd','ccrpi','titleI','chrtr'])"
   ]
  },
  {
   "cell_type": "code",
   "execution_count": 190,
   "metadata": {
    "collapsed": false
   },
   "outputs": [],
   "source": [
    "rprtCrd = []"
   ]
  },
  {
   "cell_type": "code",
   "execution_count": 191,
   "metadata": {
    "collapsed": false
   },
   "outputs": [],
   "source": [
    "for row in data['ccrpi']:\n",
    "    if row >= 90:\n",
    "        rprtCrd.append('A')\n",
    "    elif row >= 80:\n",
    "        rprtCrd.append('B')\n",
    "    elif row >= 70:\n",
    "        rprtCrd.append('C')\n",
    "    elif row >= 60:\n",
    "        rprtCrd.append('D')\n",
    "    else:\n",
    "        rprtCrd.append('F')"
   ]
  },
  {
   "cell_type": "code",
   "execution_count": 192,
   "metadata": {
    "collapsed": false
   },
   "outputs": [],
   "source": [
    "data['rprtCrd'] = rprtCrd"
   ]
  },
  {
   "cell_type": "code",
   "execution_count": 193,
   "metadata": {
    "collapsed": false
   },
   "outputs": [
    {
     "data": {
      "text/html": [
       "<div>\n",
       "<table border=\"1\" class=\"dataframe\">\n",
       "  <thead>\n",
       "    <tr style=\"text-align: right;\">\n",
       "      <th></th>\n",
       "      <th>year</th>\n",
       "      <th>sysID</th>\n",
       "      <th>sysName</th>\n",
       "      <th>schoolID</th>\n",
       "      <th>schoolName</th>\n",
       "      <th>grd</th>\n",
       "      <th>ccrpi</th>\n",
       "      <th>street</th>\n",
       "      <th>city</th>\n",
       "      <th>county</th>\n",
       "      <th>state</th>\n",
       "      <th>zip</th>\n",
       "      <th>locClass</th>\n",
       "      <th>titleI</th>\n",
       "      <th>chrtr</th>\n",
       "      <th>totStudnts</th>\n",
       "      <th>crprlPun</th>\n",
       "      <th>dtntn</th>\n",
       "      <th>iss</th>\n",
       "      <th>oss</th>\n",
       "      <th>altSchl</th>\n",
       "      <th>physRest</th>\n",
       "      <th>busSusp</th>\n",
       "      <th>explsn</th>\n",
       "      <th>other_discipline_action</th>\n",
       "      <th>pctDisc</th>\n",
       "      <th>bully</th>\n",
       "      <th>disCond</th>\n",
       "      <th>gngRel</th>\n",
       "      <th>hom</th>\n",
       "      <th>sexRelated</th>\n",
       "      <th>drugAlc</th>\n",
       "      <th>weapons</th>\n",
       "      <th>thftRbry</th>\n",
       "      <th>violence</th>\n",
       "      <th>pctBehavrs</th>\n",
       "      <th>stdTchRatio</th>\n",
       "      <th>expPerStudent</th>\n",
       "      <th>salBenSum</th>\n",
       "      <th>freeLnch</th>\n",
       "      <th>reducedLnch</th>\n",
       "      <th>pctMobile</th>\n",
       "      <th>pctAbs5orLess</th>\n",
       "      <th>pctAbsSix-Fiftn</th>\n",
       "      <th>pctOverFiftn</th>\n",
       "      <th>pctSnapTanfHmls</th>\n",
       "      <th>pctAsian</th>\n",
       "      <th>pctNative</th>\n",
       "      <th>pctBlck</th>\n",
       "      <th>pctHisp</th>\n",
       "      <th>pctMulti</th>\n",
       "      <th>pctWhite</th>\n",
       "      <th>pctMigrant</th>\n",
       "      <th>pctSPED</th>\n",
       "      <th>pctESOL</th>\n",
       "      <th>pctAltProg</th>\n",
       "      <th>pctGiftd</th>\n",
       "      <th>adress</th>\n",
       "      <th>latitude</th>\n",
       "      <th>longitude</th>\n",
       "      <th>cluster</th>\n",
       "      <th>rprtCrd</th>\n",
       "    </tr>\n",
       "  </thead>\n",
       "  <tbody>\n",
       "    <tr>\n",
       "      <th>0</th>\n",
       "      <td>2015</td>\n",
       "      <td>601</td>\n",
       "      <td>Appling County</td>\n",
       "      <td>103</td>\n",
       "      <td>Appling County High School</td>\n",
       "      <td>H</td>\n",
       "      <td>73.6</td>\n",
       "      <td>482 Blackshear Hwy</td>\n",
       "      <td>Baxley</td>\n",
       "      <td>Appling County</td>\n",
       "      <td>GA</td>\n",
       "      <td>31513</td>\n",
       "      <td>33.0</td>\n",
       "      <td>No</td>\n",
       "      <td>No</td>\n",
       "      <td>1063</td>\n",
       "      <td>0</td>\n",
       "      <td>0</td>\n",
       "      <td>349</td>\n",
       "      <td>90</td>\n",
       "      <td>10</td>\n",
       "      <td>0</td>\n",
       "      <td>8</td>\n",
       "      <td>0</td>\n",
       "      <td>103</td>\n",
       "      <td>0.429915</td>\n",
       "      <td>0</td>\n",
       "      <td>304</td>\n",
       "      <td>2</td>\n",
       "      <td>0</td>\n",
       "      <td>7</td>\n",
       "      <td>41</td>\n",
       "      <td>2</td>\n",
       "      <td>3</td>\n",
       "      <td>43</td>\n",
       "      <td>0.378175</td>\n",
       "      <td>16.4</td>\n",
       "      <td>5721.49</td>\n",
       "      <td>18817718.34</td>\n",
       "      <td>726.0</td>\n",
       "      <td>0.0</td>\n",
       "      <td>0.106680</td>\n",
       "      <td>41.6</td>\n",
       "      <td>38.2</td>\n",
       "      <td>20.2</td>\n",
       "      <td>30</td>\n",
       "      <td>1</td>\n",
       "      <td>0</td>\n",
       "      <td>22</td>\n",
       "      <td>11</td>\n",
       "      <td>2</td>\n",
       "      <td>64</td>\n",
       "      <td>4</td>\n",
       "      <td>12.7</td>\n",
       "      <td>1.3</td>\n",
       "      <td>6.8</td>\n",
       "      <td>6.8</td>\n",
       "      <td>482 Blackshear Hwy,Baxley,Ga,31513</td>\n",
       "      <td>31.757758</td>\n",
       "      <td>-82.354021</td>\n",
       "      <td>1</td>\n",
       "      <td>C</td>\n",
       "    </tr>\n",
       "    <tr>\n",
       "      <th>1</th>\n",
       "      <td>2015</td>\n",
       "      <td>601</td>\n",
       "      <td>Appling County</td>\n",
       "      <td>177</td>\n",
       "      <td>Appling County Elementary School</td>\n",
       "      <td>E</td>\n",
       "      <td>68.8</td>\n",
       "      <td>680 Blackshear Hwy</td>\n",
       "      <td>Baxley</td>\n",
       "      <td>Appling County</td>\n",
       "      <td>GA</td>\n",
       "      <td>31513</td>\n",
       "      <td>33.0</td>\n",
       "      <td>Yes</td>\n",
       "      <td>No</td>\n",
       "      <td>619</td>\n",
       "      <td>29</td>\n",
       "      <td>0</td>\n",
       "      <td>0</td>\n",
       "      <td>15</td>\n",
       "      <td>0</td>\n",
       "      <td>0</td>\n",
       "      <td>7</td>\n",
       "      <td>0</td>\n",
       "      <td>1</td>\n",
       "      <td>0.082391</td>\n",
       "      <td>0</td>\n",
       "      <td>0</td>\n",
       "      <td>0</td>\n",
       "      <td>0</td>\n",
       "      <td>1</td>\n",
       "      <td>0</td>\n",
       "      <td>3</td>\n",
       "      <td>0</td>\n",
       "      <td>10</td>\n",
       "      <td>0.022617</td>\n",
       "      <td>14.3</td>\n",
       "      <td>4936.78</td>\n",
       "      <td>18817718.34</td>\n",
       "      <td>480.0</td>\n",
       "      <td>1.0</td>\n",
       "      <td>0.093857</td>\n",
       "      <td>55.1</td>\n",
       "      <td>38.6</td>\n",
       "      <td>6.3</td>\n",
       "      <td>46</td>\n",
       "      <td>1</td>\n",
       "      <td>0</td>\n",
       "      <td>29</td>\n",
       "      <td>19</td>\n",
       "      <td>4</td>\n",
       "      <td>47</td>\n",
       "      <td>7</td>\n",
       "      <td>12.8</td>\n",
       "      <td>8.7</td>\n",
       "      <td>0.0</td>\n",
       "      <td>2.0</td>\n",
       "      <td>680 Blackshear Hwy,Baxley,Ga,31513</td>\n",
       "      <td>31.754824</td>\n",
       "      <td>-82.354584</td>\n",
       "      <td>3</td>\n",
       "      <td>D</td>\n",
       "    </tr>\n",
       "    <tr>\n",
       "      <th>2</th>\n",
       "      <td>2015</td>\n",
       "      <td>601</td>\n",
       "      <td>Appling County</td>\n",
       "      <td>195</td>\n",
       "      <td>Appling County Middle School</td>\n",
       "      <td>M</td>\n",
       "      <td>68.8</td>\n",
       "      <td>2997 Blackshear Hwy</td>\n",
       "      <td>Baxley</td>\n",
       "      <td>Appling County</td>\n",
       "      <td>GA</td>\n",
       "      <td>31513</td>\n",
       "      <td>41.0</td>\n",
       "      <td>Yes</td>\n",
       "      <td>No</td>\n",
       "      <td>826</td>\n",
       "      <td>34</td>\n",
       "      <td>0</td>\n",
       "      <td>159</td>\n",
       "      <td>33</td>\n",
       "      <td>3</td>\n",
       "      <td>10</td>\n",
       "      <td>8</td>\n",
       "      <td>0</td>\n",
       "      <td>4</td>\n",
       "      <td>0.299031</td>\n",
       "      <td>4</td>\n",
       "      <td>8</td>\n",
       "      <td>0</td>\n",
       "      <td>0</td>\n",
       "      <td>7</td>\n",
       "      <td>5</td>\n",
       "      <td>1</td>\n",
       "      <td>2</td>\n",
       "      <td>39</td>\n",
       "      <td>0.079903</td>\n",
       "      <td>15.6</td>\n",
       "      <td>5703.74</td>\n",
       "      <td>18817718.34</td>\n",
       "      <td>553.0</td>\n",
       "      <td>0.0</td>\n",
       "      <td>0.102865</td>\n",
       "      <td>48.1</td>\n",
       "      <td>41.2</td>\n",
       "      <td>10.8</td>\n",
       "      <td>38</td>\n",
       "      <td>1</td>\n",
       "      <td>0</td>\n",
       "      <td>22</td>\n",
       "      <td>12</td>\n",
       "      <td>4</td>\n",
       "      <td>62</td>\n",
       "      <td>4</td>\n",
       "      <td>11.2</td>\n",
       "      <td>1.4</td>\n",
       "      <td>2.2</td>\n",
       "      <td>7.0</td>\n",
       "      <td>2997 Blackshear Hwy,Baxley,Ga,31513</td>\n",
       "      <td>31.723121</td>\n",
       "      <td>-82.339760</td>\n",
       "      <td>3</td>\n",
       "      <td>D</td>\n",
       "    </tr>\n",
       "    <tr>\n",
       "      <th>3</th>\n",
       "      <td>2015</td>\n",
       "      <td>601</td>\n",
       "      <td>Appling County</td>\n",
       "      <td>1050</td>\n",
       "      <td>Altamaha Elementary School</td>\n",
       "      <td>E</td>\n",
       "      <td>72.3</td>\n",
       "      <td>344 Altamaha School Rd</td>\n",
       "      <td>Baxley</td>\n",
       "      <td>Appling County</td>\n",
       "      <td>GA</td>\n",
       "      <td>31513</td>\n",
       "      <td>42.0</td>\n",
       "      <td>Yes</td>\n",
       "      <td>No</td>\n",
       "      <td>361</td>\n",
       "      <td>40</td>\n",
       "      <td>0</td>\n",
       "      <td>0</td>\n",
       "      <td>0</td>\n",
       "      <td>0</td>\n",
       "      <td>0</td>\n",
       "      <td>1</td>\n",
       "      <td>0</td>\n",
       "      <td>0</td>\n",
       "      <td>0.113573</td>\n",
       "      <td>0</td>\n",
       "      <td>3</td>\n",
       "      <td>0</td>\n",
       "      <td>0</td>\n",
       "      <td>0</td>\n",
       "      <td>0</td>\n",
       "      <td>0</td>\n",
       "      <td>0</td>\n",
       "      <td>0</td>\n",
       "      <td>0.008310</td>\n",
       "      <td>14.9</td>\n",
       "      <td>6076.04</td>\n",
       "      <td>18817718.34</td>\n",
       "      <td>264.0</td>\n",
       "      <td>0.0</td>\n",
       "      <td>0.105128</td>\n",
       "      <td>44.9</td>\n",
       "      <td>42.7</td>\n",
       "      <td>12.5</td>\n",
       "      <td>34</td>\n",
       "      <td>0</td>\n",
       "      <td>0</td>\n",
       "      <td>6</td>\n",
       "      <td>6</td>\n",
       "      <td>2</td>\n",
       "      <td>86</td>\n",
       "      <td>2</td>\n",
       "      <td>13.2</td>\n",
       "      <td>4.1</td>\n",
       "      <td>0.0</td>\n",
       "      <td>6.2</td>\n",
       "      <td>344 Altamaha School Rd,Baxley,Ga,31513</td>\n",
       "      <td>31.875677</td>\n",
       "      <td>-82.365238</td>\n",
       "      <td>3</td>\n",
       "      <td>C</td>\n",
       "    </tr>\n",
       "    <tr>\n",
       "      <th>4</th>\n",
       "      <td>2015</td>\n",
       "      <td>601</td>\n",
       "      <td>Appling County</td>\n",
       "      <td>5050</td>\n",
       "      <td>Fourth District Elementary School</td>\n",
       "      <td>E</td>\n",
       "      <td>68.2</td>\n",
       "      <td>13396 Blackshear Hwy</td>\n",
       "      <td>Surrency</td>\n",
       "      <td>Appling County</td>\n",
       "      <td>GA</td>\n",
       "      <td>31563</td>\n",
       "      <td>43.0</td>\n",
       "      <td>Yes</td>\n",
       "      <td>No</td>\n",
       "      <td>164</td>\n",
       "      <td>0</td>\n",
       "      <td>0</td>\n",
       "      <td>0</td>\n",
       "      <td>0</td>\n",
       "      <td>0</td>\n",
       "      <td>0</td>\n",
       "      <td>0</td>\n",
       "      <td>0</td>\n",
       "      <td>1</td>\n",
       "      <td>0.000000</td>\n",
       "      <td>0</td>\n",
       "      <td>0</td>\n",
       "      <td>0</td>\n",
       "      <td>0</td>\n",
       "      <td>0</td>\n",
       "      <td>0</td>\n",
       "      <td>0</td>\n",
       "      <td>1</td>\n",
       "      <td>0</td>\n",
       "      <td>0.006098</td>\n",
       "      <td>14.2</td>\n",
       "      <td>5533.32</td>\n",
       "      <td>18817718.34</td>\n",
       "      <td>130.0</td>\n",
       "      <td>0.0</td>\n",
       "      <td>0.121387</td>\n",
       "      <td>43.3</td>\n",
       "      <td>45.7</td>\n",
       "      <td>11.0</td>\n",
       "      <td>33</td>\n",
       "      <td>0</td>\n",
       "      <td>0</td>\n",
       "      <td>9</td>\n",
       "      <td>9</td>\n",
       "      <td>5</td>\n",
       "      <td>78</td>\n",
       "      <td>5</td>\n",
       "      <td>8.6</td>\n",
       "      <td>2.6</td>\n",
       "      <td>0.0</td>\n",
       "      <td>2.0</td>\n",
       "      <td>13396 Blackshear Hwy,Surrency,Ga,31563</td>\n",
       "      <td>31.611834</td>\n",
       "      <td>-82.247988</td>\n",
       "      <td>3</td>\n",
       "      <td>D</td>\n",
       "    </tr>\n",
       "  </tbody>\n",
       "</table>\n",
       "</div>"
      ],
      "text/plain": [
       "   year  sysID         sysName  schoolID                         schoolName  \\\n",
       "0  2015    601  Appling County       103         Appling County High School   \n",
       "1  2015    601  Appling County       177   Appling County Elementary School   \n",
       "2  2015    601  Appling County       195       Appling County Middle School   \n",
       "3  2015    601  Appling County      1050         Altamaha Elementary School   \n",
       "4  2015    601  Appling County      5050  Fourth District Elementary School   \n",
       "\n",
       "  grd  ccrpi                  street      city          county state    zip  \\\n",
       "0   H   73.6      482 Blackshear Hwy    Baxley  Appling County    GA  31513   \n",
       "1   E   68.8      680 Blackshear Hwy    Baxley  Appling County    GA  31513   \n",
       "2   M   68.8     2997 Blackshear Hwy    Baxley  Appling County    GA  31513   \n",
       "3   E   72.3  344 Altamaha School Rd    Baxley  Appling County    GA  31513   \n",
       "4   E   68.2    13396 Blackshear Hwy  Surrency  Appling County    GA  31563   \n",
       "\n",
       "   locClass titleI chrtr  totStudnts  crprlPun  dtntn  iss  oss  altSchl  \\\n",
       "0      33.0     No    No        1063         0      0  349   90       10   \n",
       "1      33.0    Yes    No         619        29      0    0   15        0   \n",
       "2      41.0    Yes    No         826        34      0  159   33        3   \n",
       "3      42.0    Yes    No         361        40      0    0    0        0   \n",
       "4      43.0    Yes    No         164         0      0    0    0        0   \n",
       "\n",
       "   physRest  busSusp  explsn  other_discipline_action   pctDisc  bully  \\\n",
       "0         0        8       0                      103  0.429915      0   \n",
       "1         0        7       0                        1  0.082391      0   \n",
       "2        10        8       0                        4  0.299031      4   \n",
       "3         0        1       0                        0  0.113573      0   \n",
       "4         0        0       0                        1  0.000000      0   \n",
       "\n",
       "   disCond  gngRel  hom  sexRelated  drugAlc  weapons  thftRbry  violence  \\\n",
       "0      304       2    0           7       41        2         3        43   \n",
       "1        0       0    0           1        0        3         0        10   \n",
       "2        8       0    0           7        5        1         2        39   \n",
       "3        3       0    0           0        0        0         0         0   \n",
       "4        0       0    0           0        0        0         1         0   \n",
       "\n",
       "   pctBehavrs  stdTchRatio  expPerStudent    salBenSum  freeLnch  reducedLnch  \\\n",
       "0    0.378175         16.4        5721.49  18817718.34     726.0          0.0   \n",
       "1    0.022617         14.3        4936.78  18817718.34     480.0          1.0   \n",
       "2    0.079903         15.6        5703.74  18817718.34     553.0          0.0   \n",
       "3    0.008310         14.9        6076.04  18817718.34     264.0          0.0   \n",
       "4    0.006098         14.2        5533.32  18817718.34     130.0          0.0   \n",
       "\n",
       "   pctMobile  pctAbs5orLess  pctAbsSix-Fiftn  pctOverFiftn  pctSnapTanfHmls  \\\n",
       "0   0.106680           41.6             38.2          20.2               30   \n",
       "1   0.093857           55.1             38.6           6.3               46   \n",
       "2   0.102865           48.1             41.2          10.8               38   \n",
       "3   0.105128           44.9             42.7          12.5               34   \n",
       "4   0.121387           43.3             45.7          11.0               33   \n",
       "\n",
       "   pctAsian  pctNative  pctBlck  pctHisp  pctMulti  pctWhite  pctMigrant  \\\n",
       "0         1          0       22       11         2        64           4   \n",
       "1         1          0       29       19         4        47           7   \n",
       "2         1          0       22       12         4        62           4   \n",
       "3         0          0        6        6         2        86           2   \n",
       "4         0          0        9        9         5        78           5   \n",
       "\n",
       "   pctSPED  pctESOL  pctAltProg  pctGiftd  \\\n",
       "0     12.7      1.3         6.8       6.8   \n",
       "1     12.8      8.7         0.0       2.0   \n",
       "2     11.2      1.4         2.2       7.0   \n",
       "3     13.2      4.1         0.0       6.2   \n",
       "4      8.6      2.6         0.0       2.0   \n",
       "\n",
       "                                   adress   latitude  longitude  cluster  \\\n",
       "0      482 Blackshear Hwy,Baxley,Ga,31513  31.757758 -82.354021        1   \n",
       "1      680 Blackshear Hwy,Baxley,Ga,31513  31.754824 -82.354584        3   \n",
       "2     2997 Blackshear Hwy,Baxley,Ga,31513  31.723121 -82.339760        3   \n",
       "3  344 Altamaha School Rd,Baxley,Ga,31513  31.875677 -82.365238        3   \n",
       "4  13396 Blackshear Hwy,Surrency,Ga,31563  31.611834 -82.247988        3   \n",
       "\n",
       "  rprtCrd  \n",
       "0       C  \n",
       "1       D  \n",
       "2       D  \n",
       "3       C  \n",
       "4       D  "
      ]
     },
     "execution_count": 193,
     "metadata": {},
     "output_type": "execute_result"
    }
   ],
   "source": [
    "data.head()"
   ]
  },
  {
   "cell_type": "code",
   "execution_count": 194,
   "metadata": {
    "collapsed": false
   },
   "outputs": [
    {
     "data": {
      "text/plain": [
       "Index([u'year', u'sysID', u'sysName', u'schoolID', u'schoolName', u'grd',\n",
       "       u'ccrpi', u'street', u'city', u'county', u'state', u'zip', u'locClass',\n",
       "       u'titleI', u'chrtr', u'totStudnts', u'crprlPun', u'dtntn', u'iss',\n",
       "       u'oss', u'altSchl', u'physRest', u'busSusp', u'explsn',\n",
       "       u'other_discipline_action', u'pctDisc', u'bully', u'disCond', u'gngRel',\n",
       "       u'hom', u'sexRelated', u'drugAlc', u'weapons', u'thftRbry', u'violence',\n",
       "       u'pctBehavrs', u'stdTchRatio', u'expPerStudent', u'salBenSum',\n",
       "       u'freeLnch', u'reducedLnch', u'pctMobile', u'pctAbs5orLess',\n",
       "       u'pctAbsSix-Fiftn', u'pctOverFiftn', u'pctSnapTanfHmls', u'pctAsian',\n",
       "       u'pctNative', u'pctBlck', u'pctHisp', u'pctMulti', u'pctWhite',\n",
       "       u'pctMigrant', u'pctSPED', u'pctESOL', u'pctAltProg', u'pctGiftd'],\n",
       "      dtype='object')"
      ]
     },
     "execution_count": 194,
     "metadata": {},
     "output_type": "execute_result"
    }
   ],
   "source": [
    "df2.columns"
   ]
  },
  {
   "cell_type": "code",
   "execution_count": 195,
   "metadata": {
    "collapsed": true
   },
   "outputs": [],
   "source": [
    "# Regroup features\n",
    "\n",
    "features = df2[['titleI','chrtr','stdTchRatio','expPerStudent','salBenSum','freeLnch','reducedLnch','pctMobile',\n",
    "               'pctAbs5orLess','pctAbsSix-Fiftn','pctOverFiftn','pctSnapTanfHmls','pctAsian','pctNative',\n",
    "               'pctBlck','pctHisp','pctMulti','pctWhite','pctMigrant','pctSPED','pctESOL','pctAltProg','pctGiftd',\n",
    "               'pctDisc','pctBehavrs']]"
   ]
  },
  {
   "cell_type": "code",
   "execution_count": 196,
   "metadata": {
    "collapsed": false
   },
   "outputs": [
    {
     "data": {
      "text/html": [
       "<div>\n",
       "<table border=\"1\" class=\"dataframe\">\n",
       "  <thead>\n",
       "    <tr style=\"text-align: right;\">\n",
       "      <th></th>\n",
       "      <th>titleI</th>\n",
       "      <th>chrtr</th>\n",
       "      <th>stdTchRatio</th>\n",
       "      <th>expPerStudent</th>\n",
       "      <th>salBenSum</th>\n",
       "      <th>freeLnch</th>\n",
       "      <th>reducedLnch</th>\n",
       "      <th>pctMobile</th>\n",
       "      <th>pctAbs5orLess</th>\n",
       "      <th>pctAbsSix-Fiftn</th>\n",
       "      <th>pctOverFiftn</th>\n",
       "      <th>pctSnapTanfHmls</th>\n",
       "      <th>pctAsian</th>\n",
       "      <th>pctNative</th>\n",
       "      <th>pctBlck</th>\n",
       "      <th>pctHisp</th>\n",
       "      <th>pctMulti</th>\n",
       "      <th>pctWhite</th>\n",
       "      <th>pctMigrant</th>\n",
       "      <th>pctSPED</th>\n",
       "      <th>pctESOL</th>\n",
       "      <th>pctAltProg</th>\n",
       "      <th>pctGiftd</th>\n",
       "      <th>pctDisc</th>\n",
       "      <th>pctBehavrs</th>\n",
       "    </tr>\n",
       "  </thead>\n",
       "  <tbody>\n",
       "    <tr>\n",
       "      <th>0</th>\n",
       "      <td>No</td>\n",
       "      <td>No</td>\n",
       "      <td>16.4</td>\n",
       "      <td>5721.49</td>\n",
       "      <td>18817718.34</td>\n",
       "      <td>726.0</td>\n",
       "      <td>0.0</td>\n",
       "      <td>0.10668</td>\n",
       "      <td>41.6</td>\n",
       "      <td>38.2</td>\n",
       "      <td>20.2</td>\n",
       "      <td>30</td>\n",
       "      <td>1</td>\n",
       "      <td>0</td>\n",
       "      <td>22</td>\n",
       "      <td>11</td>\n",
       "      <td>2</td>\n",
       "      <td>64</td>\n",
       "      <td>4</td>\n",
       "      <td>12.7</td>\n",
       "      <td>1.3</td>\n",
       "      <td>6.8</td>\n",
       "      <td>6.8</td>\n",
       "      <td>0.429915</td>\n",
       "      <td>0.378175</td>\n",
       "    </tr>\n",
       "  </tbody>\n",
       "</table>\n",
       "</div>"
      ],
      "text/plain": [
       "  titleI chrtr  stdTchRatio  expPerStudent    salBenSum  freeLnch  \\\n",
       "0     No    No         16.4        5721.49  18817718.34     726.0   \n",
       "\n",
       "   reducedLnch  pctMobile  pctAbs5orLess  pctAbsSix-Fiftn  pctOverFiftn  \\\n",
       "0          0.0    0.10668           41.6             38.2          20.2   \n",
       "\n",
       "   pctSnapTanfHmls  pctAsian  pctNative  pctBlck  pctHisp  pctMulti  pctWhite  \\\n",
       "0               30         1          0       22       11         2        64   \n",
       "\n",
       "   pctMigrant  pctSPED  pctESOL  pctAltProg  pctGiftd   pctDisc  pctBehavrs  \n",
       "0           4     12.7      1.3         6.8       6.8  0.429915    0.378175  "
      ]
     },
     "execution_count": 196,
     "metadata": {},
     "output_type": "execute_result"
    }
   ],
   "source": [
    "features.head(1)"
   ]
  },
  {
   "cell_type": "code",
   "execution_count": 197,
   "metadata": {
    "collapsed": false
   },
   "outputs": [
    {
     "name": "stderr",
     "output_type": "stream",
     "text": [
      "/Users/michaelmainzer/anaconda/lib/python2.7/site-packages/ipykernel/__main__.py:5: SettingWithCopyWarning: \n",
      "A value is trying to be set on a copy of a slice from a DataFrame.\n",
      "Try using .loc[row_indexer,col_indexer] = value instead\n",
      "\n",
      "See the caveats in the documentation: http://pandas.pydata.org/pandas-docs/stable/indexing.html#indexing-view-versus-copy\n"
     ]
    }
   ],
   "source": [
    "# Apply MinMaxScaler to numeric columns that are not already in percentages\n",
    "\n",
    "scaler = MinMaxScaler()\n",
    "\n",
    "features[['stdTchRatio', 'expPerStudent','salBenSum','freeLnch','reducedLnch']] = scaler.fit_transform(features[['stdTchRatio', 'expPerStudent','salBenSum','freeLnch','reducedLnch']])"
   ]
  },
  {
   "cell_type": "code",
   "execution_count": 198,
   "metadata": {
    "collapsed": false
   },
   "outputs": [
    {
     "data": {
      "text/html": [
       "<div>\n",
       "<table border=\"1\" class=\"dataframe\">\n",
       "  <thead>\n",
       "    <tr style=\"text-align: right;\">\n",
       "      <th></th>\n",
       "      <th>titleI</th>\n",
       "      <th>chrtr</th>\n",
       "      <th>stdTchRatio</th>\n",
       "      <th>expPerStudent</th>\n",
       "      <th>salBenSum</th>\n",
       "      <th>freeLnch</th>\n",
       "      <th>reducedLnch</th>\n",
       "      <th>pctMobile</th>\n",
       "      <th>pctAbs5orLess</th>\n",
       "      <th>pctAbsSix-Fiftn</th>\n",
       "      <th>pctOverFiftn</th>\n",
       "      <th>pctSnapTanfHmls</th>\n",
       "      <th>pctAsian</th>\n",
       "      <th>pctNative</th>\n",
       "      <th>pctBlck</th>\n",
       "      <th>pctHisp</th>\n",
       "      <th>pctMulti</th>\n",
       "      <th>pctWhite</th>\n",
       "      <th>pctMigrant</th>\n",
       "      <th>pctSPED</th>\n",
       "      <th>pctESOL</th>\n",
       "      <th>pctAltProg</th>\n",
       "      <th>pctGiftd</th>\n",
       "      <th>pctDisc</th>\n",
       "      <th>pctBehavrs</th>\n",
       "    </tr>\n",
       "  </thead>\n",
       "  <tbody>\n",
       "    <tr>\n",
       "      <th>0</th>\n",
       "      <td>No</td>\n",
       "      <td>No</td>\n",
       "      <td>0.00441</td>\n",
       "      <td>0.284628</td>\n",
       "      <td>0.021683</td>\n",
       "      <td>0.297907</td>\n",
       "      <td>0.0</td>\n",
       "      <td>0.10668</td>\n",
       "      <td>41.6</td>\n",
       "      <td>38.2</td>\n",
       "      <td>20.2</td>\n",
       "      <td>30</td>\n",
       "      <td>1</td>\n",
       "      <td>0</td>\n",
       "      <td>22</td>\n",
       "      <td>11</td>\n",
       "      <td>2</td>\n",
       "      <td>64</td>\n",
       "      <td>4</td>\n",
       "      <td>12.7</td>\n",
       "      <td>1.3</td>\n",
       "      <td>6.8</td>\n",
       "      <td>6.8</td>\n",
       "      <td>0.429915</td>\n",
       "      <td>0.378175</td>\n",
       "    </tr>\n",
       "  </tbody>\n",
       "</table>\n",
       "</div>"
      ],
      "text/plain": [
       "  titleI chrtr  stdTchRatio  expPerStudent  salBenSum  freeLnch  reducedLnch  \\\n",
       "0     No    No      0.00441       0.284628   0.021683  0.297907          0.0   \n",
       "\n",
       "   pctMobile  pctAbs5orLess  pctAbsSix-Fiftn  pctOverFiftn  pctSnapTanfHmls  \\\n",
       "0    0.10668           41.6             38.2          20.2               30   \n",
       "\n",
       "   pctAsian  pctNative  pctBlck  pctHisp  pctMulti  pctWhite  pctMigrant  \\\n",
       "0         1          0       22       11         2        64           4   \n",
       "\n",
       "   pctSPED  pctESOL  pctAltProg  pctGiftd   pctDisc  pctBehavrs  \n",
       "0     12.7      1.3         6.8       6.8  0.429915    0.378175  "
      ]
     },
     "execution_count": 198,
     "metadata": {},
     "output_type": "execute_result"
    }
   ],
   "source": [
    "features.head(1)"
   ]
  },
  {
   "cell_type": "code",
   "execution_count": 199,
   "metadata": {
    "collapsed": true
   },
   "outputs": [],
   "source": [
    "X = features"
   ]
  },
  {
   "cell_type": "code",
   "execution_count": 200,
   "metadata": {
    "collapsed": false
   },
   "outputs": [],
   "source": [
    "# Forgot to change titleI and charter to integers\n",
    "\n",
    "X.ix[:,0] = X.ix[:,0].map({'No': 0, 'Yes': 1} )\n",
    "X.ix[:,1] = X.ix[:,1].map({'No': 0, 'Yes': 1} )"
   ]
  },
  {
   "cell_type": "code",
   "execution_count": 201,
   "metadata": {
    "collapsed": false
   },
   "outputs": [],
   "source": [
    "# Forgot to fill in the missing values for percent of gifted students\n",
    "\n",
    "X['pctGiftd'].fillna((X['pctGiftd'].mean()), inplace=True)"
   ]
  },
  {
   "cell_type": "code",
   "execution_count": 202,
   "metadata": {
    "collapsed": true
   },
   "outputs": [],
   "source": [
    "# We need to regroup our features, but specify our y as the report card grade\n",
    "le = LabelEncoder()\n",
    "yClass = le.fit_transform(data['rprtCrd'])"
   ]
  },
  {
   "cell_type": "code",
   "execution_count": 203,
   "metadata": {
    "collapsed": false
   },
   "outputs": [],
   "source": [
    "X_train, X_test, y_train, y_test = train_test_split(X, yClass, test_size=0.3, random_state=42)"
   ]
  },
  {
   "cell_type": "code",
   "execution_count": 204,
   "metadata": {
    "collapsed": true
   },
   "outputs": [],
   "source": [
    "# Initiate GridSearch - it just may be that it's not max_depth that will get us the best model, but a certain\n",
    "# combination of the model's possible parameters\n",
    "\n",
    "PARAMETERS = {'max_depth':[1,2,3,4,5,6], 'max_features':[1,2,3,4], \n",
    "              'max_leaf_nodes':[5,6,7,8,9,10], 'min_samples_leaf':[1,2,3,4],\n",
    "              'min_samples_split':[1,2,3,4]}\n",
    "SCORING = 'mean_squared_error'"
   ]
  },
  {
   "cell_type": "code",
   "execution_count": 205,
   "metadata": {
    "collapsed": false
   },
   "outputs": [
    {
     "data": {
      "text/html": [
       "<div>\n",
       "<table border=\"1\" class=\"dataframe\">\n",
       "  <thead>\n",
       "    <tr style=\"text-align: right;\">\n",
       "      <th></th>\n",
       "      <th>titleI</th>\n",
       "      <th>chrtr</th>\n",
       "      <th>stdTchRatio</th>\n",
       "      <th>expPerStudent</th>\n",
       "      <th>salBenSum</th>\n",
       "      <th>freeLnch</th>\n",
       "      <th>reducedLnch</th>\n",
       "      <th>pctMobile</th>\n",
       "      <th>pctAbs5orLess</th>\n",
       "      <th>pctAbsSix-Fiftn</th>\n",
       "      <th>pctOverFiftn</th>\n",
       "      <th>pctSnapTanfHmls</th>\n",
       "      <th>pctAsian</th>\n",
       "      <th>pctNative</th>\n",
       "      <th>pctBlck</th>\n",
       "      <th>pctHisp</th>\n",
       "      <th>pctMulti</th>\n",
       "      <th>pctWhite</th>\n",
       "      <th>pctMigrant</th>\n",
       "      <th>pctSPED</th>\n",
       "      <th>pctESOL</th>\n",
       "      <th>pctAltProg</th>\n",
       "      <th>pctGiftd</th>\n",
       "      <th>pctDisc</th>\n",
       "      <th>pctBehavrs</th>\n",
       "    </tr>\n",
       "  </thead>\n",
       "  <tbody>\n",
       "    <tr>\n",
       "      <th>0</th>\n",
       "      <td>0</td>\n",
       "      <td>0</td>\n",
       "      <td>0.00441</td>\n",
       "      <td>0.284628</td>\n",
       "      <td>0.021683</td>\n",
       "      <td>0.297907</td>\n",
       "      <td>0.0</td>\n",
       "      <td>0.10668</td>\n",
       "      <td>41.6</td>\n",
       "      <td>38.2</td>\n",
       "      <td>20.2</td>\n",
       "      <td>30</td>\n",
       "      <td>1</td>\n",
       "      <td>0</td>\n",
       "      <td>22</td>\n",
       "      <td>11</td>\n",
       "      <td>2</td>\n",
       "      <td>64</td>\n",
       "      <td>4</td>\n",
       "      <td>12.7</td>\n",
       "      <td>1.3</td>\n",
       "      <td>6.8</td>\n",
       "      <td>6.8</td>\n",
       "      <td>0.429915</td>\n",
       "      <td>0.378175</td>\n",
       "    </tr>\n",
       "  </tbody>\n",
       "</table>\n",
       "</div>"
      ],
      "text/plain": [
       "   titleI  chrtr  stdTchRatio  expPerStudent  salBenSum  freeLnch  \\\n",
       "0       0      0      0.00441       0.284628   0.021683  0.297907   \n",
       "\n",
       "   reducedLnch  pctMobile  pctAbs5orLess  pctAbsSix-Fiftn  pctOverFiftn  \\\n",
       "0          0.0    0.10668           41.6             38.2          20.2   \n",
       "\n",
       "   pctSnapTanfHmls  pctAsian  pctNative  pctBlck  pctHisp  pctMulti  pctWhite  \\\n",
       "0               30         1          0       22       11         2        64   \n",
       "\n",
       "   pctMigrant  pctSPED  pctESOL  pctAltProg  pctGiftd   pctDisc  pctBehavrs  \n",
       "0           4     12.7      1.3         6.8       6.8  0.429915    0.378175  "
      ]
     },
     "execution_count": 205,
     "metadata": {},
     "output_type": "execute_result"
    }
   ],
   "source": [
    "X.head(1)"
   ]
  },
  {
   "cell_type": "code",
   "execution_count": 206,
   "metadata": {
    "collapsed": false
   },
   "outputs": [
    {
     "name": "stdout",
     "output_type": "stream",
     "text": [
      "DecisionTreeClassifier(class_weight=None, criterion='gini', max_depth=2,\n",
      "            max_features=3, max_leaf_nodes=5, min_samples_leaf=2,\n",
      "            min_samples_split=4, min_weight_fraction_leaf=0.0,\n",
      "            presort=False, random_state=None, splitter='best')\n",
      "-0.915560276155\n",
      "0.956849139705\n"
     ]
    }
   ],
   "source": [
    "#We use Grid Search to find optimal values for each paramter\n",
    "clfModel = DecisionTreeClassifier()\n",
    "clf = GridSearchCV(clfModel, PARAMETERS, scoring=SCORING, n_jobs=-1)\n",
    "clf.fit(X, yClass)\n",
    "\n",
    "#After completion, show the final best results and scores\n",
    "print clf.best_estimator_\n",
    "print clf.best_score_\n",
    "print np.sqrt(-clf.best_score_)\n",
    "\n",
    "# Be sure to inrepret the scores below for your best model (are these good or bad?)"
   ]
  },
  {
   "cell_type": "code",
   "execution_count": 207,
   "metadata": {
    "collapsed": false
   },
   "outputs": [
    {
     "data": {
      "text/plain": [
       "DecisionTreeClassifier(class_weight=None, criterion='gini', max_depth=5,\n",
       "            max_features=4, max_leaf_nodes=8, min_samples_leaf=1,\n",
       "            min_samples_split=4, min_weight_fraction_leaf=0.0,\n",
       "            presort=False, random_state=None, splitter='best')"
      ]
     },
     "execution_count": 207,
     "metadata": {},
     "output_type": "execute_result"
    }
   ],
   "source": [
    "# GridSearch provides us with the optimal parameters, so we fit our model with those parameters\n",
    "\n",
    "treeclf = DecisionTreeClassifier(class_weight=None, criterion='gini', max_depth=5,\n",
    "            max_features=4, max_leaf_nodes=8, min_samples_leaf=1,\n",
    "            min_samples_split=4, min_weight_fraction_leaf=0.0,\n",
    "            presort=False, random_state=None, splitter='best')\n",
    "\n",
    "treeclf.fit(X_train, y_train)"
   ]
  },
  {
   "cell_type": "code",
   "execution_count": 227,
   "metadata": {
    "collapsed": false
   },
   "outputs": [
    {
     "name": "stdout",
     "output_type": "stream",
     "text": [
      "0.38502524406\n"
     ]
    }
   ],
   "source": [
    "cv=KFold(len(yClass), shuffle=False)\n",
    "treeclfScore = cross_val_score(treeclf, X,yClass, cv=cv)\n",
    "print treeclfScore.mean()"
   ]
  },
  {
   "cell_type": "code",
   "execution_count": 230,
   "metadata": {
    "collapsed": false
   },
   "outputs": [
    {
     "name": "stdout",
     "output_type": "stream",
     "text": [
      "The decision tree classifier's score was 0.38502524406\n",
      "The random forest regressor's score was 0.409993329202\n"
     ]
    }
   ],
   "source": [
    "rf = RandomForestClassifier(random_state=5)\n",
    "rfScore = cross_val_score(rf, X,yClass, cv=cv)\n",
    "rfScore\n",
    "print \"The decision tree classifier's score was\", treeclfScore.mean()\n",
    "print \"The random forest regressor's score was\", rfScore.mean()"
   ]
  },
  {
   "cell_type": "code",
   "execution_count": 231,
   "metadata": {
    "collapsed": false
   },
   "outputs": [
    {
     "name": "stdout",
     "output_type": "stream",
     "text": [
      "The decision tree regressor's score was 0.38502524406\n",
      "The random forest regressor's score was 0.409993329202\n",
      "The adaboost regressor's score was 0.439205159202\n"
     ]
    }
   ],
   "source": [
    "ab = AdaBoostClassifier(random_state=5)\n",
    "\n",
    "abScore = cross_val_score(ab, X,yClass, cv=cv)\n",
    "abScore\n",
    "print \"The decision tree regressor's score was\", treeclfScore.mean()\n",
    "print \"The random forest regressor's score was\", rfScore.mean()\n",
    "print \"The adaboost regressor's score was\", abScore.mean()"
   ]
  },
  {
   "cell_type": "code",
   "execution_count": 239,
   "metadata": {
    "collapsed": true
   },
   "outputs": [],
   "source": [
    "# PARAMETERS2 = {'max_depth':[1,2,3,4,5,6],'min_samples_leaf':[1,2,3,4]}\n",
    "# SCORING2 = 'mean_squared_error'"
   ]
  },
  {
   "cell_type": "code",
   "execution_count": 242,
   "metadata": {
    "collapsed": false
   },
   "outputs": [],
   "source": [
    "# so the AdaBoostClassifier is our best bet so far. Let's do grid search with this, instead, for optimal parameters\n",
    "\n",
    "# abcModel = AdaBoostClassifier()\n",
    "# abc = GridSearchCV(abcModel, scoring=SCORING2, n_jobs=-1)\n",
    "# abc.fit(X, yClass)"
   ]
  },
  {
   "cell_type": "code",
   "execution_count": 245,
   "metadata": {
    "collapsed": false
   },
   "outputs": [
    {
     "data": {
      "text/plain": [
       "AdaBoostClassifier(algorithm='SAMME.R', base_estimator=None,\n",
       "          learning_rate=1.0, n_estimators=50, random_state=5)"
      ]
     },
     "execution_count": 245,
     "metadata": {},
     "output_type": "execute_result"
    }
   ],
   "source": [
    "ab.fit(X_train, y_train)"
   ]
  },
  {
   "cell_type": "code",
   "execution_count": 246,
   "metadata": {
    "collapsed": false
   },
   "outputs": [
    {
     "data": {
      "text/html": [
       "<div>\n",
       "<table border=\"1\" class=\"dataframe\">\n",
       "  <thead>\n",
       "    <tr style=\"text-align: right;\">\n",
       "      <th></th>\n",
       "      <th>Feature</th>\n",
       "      <th>Importance</th>\n",
       "    </tr>\n",
       "  </thead>\n",
       "  <tbody>\n",
       "    <tr>\n",
       "      <th>11</th>\n",
       "      <td>pctSnapTanfHmls</td>\n",
       "      <td>0.18</td>\n",
       "    </tr>\n",
       "    <tr>\n",
       "      <th>10</th>\n",
       "      <td>pctOverFiftn</td>\n",
       "      <td>0.18</td>\n",
       "    </tr>\n",
       "    <tr>\n",
       "      <th>17</th>\n",
       "      <td>pctWhite</td>\n",
       "      <td>0.10</td>\n",
       "    </tr>\n",
       "    <tr>\n",
       "      <th>7</th>\n",
       "      <td>pctMobile</td>\n",
       "      <td>0.08</td>\n",
       "    </tr>\n",
       "    <tr>\n",
       "      <th>15</th>\n",
       "      <td>pctHisp</td>\n",
       "      <td>0.06</td>\n",
       "    </tr>\n",
       "    <tr>\n",
       "      <th>22</th>\n",
       "      <td>pctGiftd</td>\n",
       "      <td>0.06</td>\n",
       "    </tr>\n",
       "  </tbody>\n",
       "</table>\n",
       "</div>"
      ],
      "text/plain": [
       "            Feature  Importance\n",
       "11  pctSnapTanfHmls        0.18\n",
       "10     pctOverFiftn        0.18\n",
       "17         pctWhite        0.10\n",
       "7         pctMobile        0.08\n",
       "15          pctHisp        0.06\n",
       "22         pctGiftd        0.06"
      ]
     },
     "execution_count": 246,
     "metadata": {},
     "output_type": "execute_result"
    }
   ],
   "source": [
    "# compute the feature importances\n",
    "\n",
    "pd.DataFrame({'Feature':X.columns,\n",
    "              'Importance':ab.feature_importances_}).sort_values('Importance', ascending=False).head(6)"
   ]
  },
  {
   "cell_type": "code",
   "execution_count": 248,
   "metadata": {
    "collapsed": false
   },
   "outputs": [
    {
     "data": {
      "image/png": "[encoded data removed]",
      "text/plain": [
       "<IPython.core.display.Image object>"
      ]
     },
     "execution_count": 248,
     "metadata": {},
     "output_type": "execute_result"
    }
   ],
   "source": [
    "dot_data = StringIO()  \n",
    "export_graphviz(treeclf, out_file=dot_data,  \n",
    "                feature_names=X.columns,  \n",
    "                filled=True, rounded=True,  \n",
    "                special_characters=True)  \n",
    "graph = pydot.graph_from_dot_data(dot_data.getvalue())  \n",
    "Image(graph[0].create_png())"
   ]
  },
  {
   "cell_type": "code",
   "execution_count": 249,
   "metadata": {
    "collapsed": false
   },
   "outputs": [
    {
     "name": "stdout",
     "output_type": "stream",
     "text": [
      "[1 1 1 0 1 1 3 4 3 2 0 0 2 0 0 4 2 2 3 2 2 2 2 2 2 1 1 3 4 4 0 3 1 2 2 2 3\n",
      " 0 0 2 2 0 0 1 2 4 1 2 4 2 2 2 2 4 0 3 4 2 2 1 3 2 2 0 3 2 4 2 4 2 2 3 0 0\n",
      " 2 2 0 2 2 4 3 0 4 2 2 1 1 1 2 1 2 3 4 1 2 2 1 2 3 2 2 2 4 0 1 4 4 1 3 1 2\n",
      " 3 0 2 2 3 4 4 1 2 3 1 0 2 1 4 3 2 2 4 0 1 3 2 0 4 0 2 2 0 1 1 3 2 0 1 1 2\n",
      " 2 3 1 4 0 4 2 2 4 3 2 0 0 2 2 3 4 2 2 1 2 3 1 4 2 0 0 2 4 3 2 2 2 0 2 2 1\n",
      " 0 1 4 3 3 2 3 2 1 2 3 2 3 1 0 3 1 1 4 2 1 2 2 3 3 4 0 1 3 2 2 2 1 4 2 3 1\n",
      " 1 3 2 1 0 3 3 0 4 2 2 0 2 3 2 4 4 2 3 4 3 2 4 1 3 3 3 1 4 2 2 1 2 3 2 1 0\n",
      " 2 1 4 2 3 3 2 3 2 4 2 0 4 1 2 1 4 4 0 3 1 1 0 1 4 2 4 3 2 3 2 2 3 2 2 4 4\n",
      " 1 1 0 4 0 4 1 4 4 4 1 1 2 0 2 1 3 1 2 3 0 2 4 0 2 2 4 4 3 2 3 2 4 3 2 0 3\n",
      " 3 0 1 2 4 0 1 0 2 4 4 2 0 2 2 3 0 4 2 1 2 1 2 2 0 1 3 2 3 3 2 2 3 3 2 2 1\n",
      " 2 4 3 4 3 4 1 3 4 2 2 0 2 1 2 4 0 3 1 1 4 3 1 3 2 3 2 4 2 1 0 0 1 1 3 0 3\n",
      " 2 4 3 4 2 3 2 2 2 0 3 2 0 2 3 2 2 3 2 3 0 4 2 4 2 2 3 0 1 0 4 0 4 1 2 2 2\n",
      " 2 2 4 4 4 0 1 1 1 1 1 3 2 0 1 0 4 0 4 3 3 2 2 0 3 4 1 2 2 4 3 3 0 3 3 0 2\n",
      " 2 2 4 3 1 1 2 2 2 1 1 0 0 3 3 3 3 4 2 2 0 0 2 4 2 2 2 1 2 4 2 2 4 3 3 0 3\n",
      " 2 0 4 4 1 4 3 2 2 3 3 3 2 1 2 0 0 2 2 4 2 1 0 0 2 2 1 2 3 1 3 0 0 3 4 2 2\n",
      " 1 1 0 2 3 1 4 4 4 4]\n"
     ]
    }
   ],
   "source": [
    "# predict class labels for the test set\n",
    "predicted = ab.predict(X_test)\n",
    "print predicted"
   ]
  },
  {
   "cell_type": "code",
   "execution_count": 250,
   "metadata": {
    "collapsed": true
   },
   "outputs": [],
   "source": [
    "# generate class probabilities - this will be useful for our confusion plot below\n",
    "\n",
    "probs = ab.predict_proba(X_test)"
   ]
  },
  {
   "cell_type": "code",
   "execution_count": 251,
   "metadata": {
    "collapsed": false
   },
   "outputs": [],
   "source": [
    "probDf = pd.DataFrame(probs, columns=['probA','probB','probC','probD','probF'])"
   ]
  },
  {
   "cell_type": "code",
   "execution_count": 252,
   "metadata": {
    "collapsed": false
   },
   "outputs": [
    {
     "data": {
      "text/html": [
       "<div>\n",
       "<table border=\"1\" class=\"dataframe\">\n",
       "  <thead>\n",
       "    <tr style=\"text-align: right;\">\n",
       "      <th></th>\n",
       "      <th>probA</th>\n",
       "      <th>probB</th>\n",
       "      <th>probC</th>\n",
       "      <th>probD</th>\n",
       "      <th>probF</th>\n",
       "    </tr>\n",
       "  </thead>\n",
       "  <tbody>\n",
       "    <tr>\n",
       "      <th>0</th>\n",
       "      <td>0.175286</td>\n",
       "      <td>0.240527</td>\n",
       "      <td>0.228503</td>\n",
       "      <td>0.239954</td>\n",
       "      <td>0.11573</td>\n",
       "    </tr>\n",
       "  </tbody>\n",
       "</table>\n",
       "</div>"
      ],
      "text/plain": [
       "      probA     probB     probC     probD    probF\n",
       "0  0.175286  0.240527  0.228503  0.239954  0.11573"
      ]
     },
     "execution_count": 252,
     "metadata": {},
     "output_type": "execute_result"
    }
   ],
   "source": [
    "probDf.head(1)"
   ]
  },
  {
   "cell_type": "code",
   "execution_count": 253,
   "metadata": {
    "collapsed": true
   },
   "outputs": [],
   "source": [
    "probDf['actual'] = y_test"
   ]
  },
  {
   "cell_type": "code",
   "execution_count": 254,
   "metadata": {
    "collapsed": false
   },
   "outputs": [
    {
     "name": "stdout",
     "output_type": "stream",
     "text": [
      "Accuracy score is 0.433628318584\n"
     ]
    }
   ],
   "source": [
    "# generate evaluation metrics\n",
    "\n",
    "print \"Accuracy score is\", metrics.accuracy_score(y_test, predicted)\n",
    " # print \"Area under the curve is\", metrics.roc_auc_score(y_test, probs[:, 1])"
   ]
  },
  {
   "cell_type": "code",
   "execution_count": 255,
   "metadata": {
    "collapsed": false
   },
   "outputs": [
    {
     "name": "stdout",
     "output_type": "stream",
     "text": [
      "             precision    recall  f1-score   support\n",
      "\n",
      "          0       0.34      0.74      0.46        38\n",
      "          1       0.38      0.28      0.32       127\n",
      "          2       0.46      0.49      0.47       177\n",
      "          3       0.48      0.36      0.41       139\n",
      "          4       0.48      0.54      0.51        84\n",
      "\n",
      "avg / total       0.44      0.43      0.43       565\n",
      "\n"
     ]
    }
   ],
   "source": [
    "print metrics.classification_report(y_test, predicted)"
   ]
  },
  {
   "cell_type": "code",
   "execution_count": 256,
   "metadata": {
    "collapsed": false
   },
   "outputs": [
    {
     "name": "stdout",
     "output_type": "stream",
     "text": [
      "[[28  8  2  0  0]\n",
      " [38 36 45  8  0]\n",
      " [ 8 40 86 26 17]\n",
      " [ 7  7 44 50 31]\n",
      " [ 2  5 11 21 45]]\n"
     ]
    }
   ],
   "source": [
    "print confusion_matrix(y_test, predicted)"
   ]
  },
  {
   "cell_type": "code",
   "execution_count": null,
   "metadata": {
    "collapsed": true
   },
   "outputs": [],
   "source": []
  }
 ],
 "metadata": {
  "kernelspec": {
   "display_name": "Python 2",
   "language": "python",
   "name": "python2"
  },
  "language_info": {
   "codemirror_mode": {
    "name": "ipython",
    "version": 2
   },
   "file_extension": ".py",
   "mimetype": "text/x-python",
   "name": "python",
   "nbconvert_exporter": "python",
   "pygments_lexer": "ipython2",
   "version": "2.7.12"
  }
 },
 "nbformat": 4,
 "nbformat_minor": 0
}
