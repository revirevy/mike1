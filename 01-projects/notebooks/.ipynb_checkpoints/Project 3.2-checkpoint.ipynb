{
 "cells": [
  {
   "cell_type": "code",
   "execution_count": 597,
   "metadata": {
    "collapsed": true
   },
   "outputs": [],
   "source": [
    "import pandas as pd\n",
    "import datetime\n",
    "import numpy as np\n",
    "import pandas as pd\n",
    "\n",
    "import seaborn as sns\n",
    "import matplotlib.pyplot as plt\n",
    "% matplotlib inline"
   ]
  },
  {
   "cell_type": "code",
   "execution_count": 598,
   "metadata": {
    "collapsed": true
   },
   "outputs": [],
   "source": [
    "def read_csv(path): return pd.read_csv( path, sep = ',' ) \n",
    "\n",
    "path = \"/Users/michaelmainzer/Documents/GA/DSI/mike1/01-projects/assets/03-project3-assets/Iowa_Liquor_sales_sample.csv\" # relative path\n",
    "df = read_csv(path)"
   ]
  },
  {
   "cell_type": "code",
   "execution_count": 599,
   "metadata": {
    "collapsed": false
   },
   "outputs": [
    {
     "data": {
      "text/html": [
       "<div>\n",
       "<table border=\"1\" class=\"dataframe\">\n",
       "  <thead>\n",
       "    <tr style=\"text-align: right;\">\n",
       "      <th></th>\n",
       "      <th>Date</th>\n",
       "      <th>Store Number</th>\n",
       "      <th>City</th>\n",
       "      <th>Zip Code</th>\n",
       "      <th>County Number</th>\n",
       "      <th>County</th>\n",
       "      <th>Category</th>\n",
       "      <th>Category Name</th>\n",
       "      <th>Vendor Number</th>\n",
       "      <th>Item Number</th>\n",
       "      <th>Item Description</th>\n",
       "      <th>Bottle Volume (ml)</th>\n",
       "      <th>State Bottle Cost</th>\n",
       "      <th>State Bottle Retail</th>\n",
       "      <th>Bottles Sold</th>\n",
       "      <th>Sale (Dollars)</th>\n",
       "      <th>Volume Sold (Liters)</th>\n",
       "      <th>Volume Sold (Gallons)</th>\n",
       "    </tr>\n",
       "  </thead>\n",
       "  <tbody>\n",
       "    <tr>\n",
       "      <th>0</th>\n",
       "      <td>11/04/2015</td>\n",
       "      <td>3717</td>\n",
       "      <td>SUMNER</td>\n",
       "      <td>50674</td>\n",
       "      <td>9.0</td>\n",
       "      <td>Bremer</td>\n",
       "      <td>1051100.0</td>\n",
       "      <td>APRICOT BRANDIES</td>\n",
       "      <td>55</td>\n",
       "      <td>54436</td>\n",
       "      <td>Mr. Boston Apricot Brandy</td>\n",
       "      <td>750</td>\n",
       "      <td>$4.50</td>\n",
       "      <td>$6.75</td>\n",
       "      <td>12</td>\n",
       "      <td>$81.00</td>\n",
       "      <td>9.0</td>\n",
       "      <td>2.38</td>\n",
       "    </tr>\n",
       "    <tr>\n",
       "      <th>1</th>\n",
       "      <td>03/02/2016</td>\n",
       "      <td>2614</td>\n",
       "      <td>DAVENPORT</td>\n",
       "      <td>52807</td>\n",
       "      <td>82.0</td>\n",
       "      <td>Scott</td>\n",
       "      <td>1011100.0</td>\n",
       "      <td>BLENDED WHISKIES</td>\n",
       "      <td>395</td>\n",
       "      <td>27605</td>\n",
       "      <td>Tin Cup</td>\n",
       "      <td>750</td>\n",
       "      <td>$13.75</td>\n",
       "      <td>$20.63</td>\n",
       "      <td>2</td>\n",
       "      <td>$41.26</td>\n",
       "      <td>1.5</td>\n",
       "      <td>0.40</td>\n",
       "    </tr>\n",
       "    <tr>\n",
       "      <th>2</th>\n",
       "      <td>02/11/2016</td>\n",
       "      <td>2106</td>\n",
       "      <td>CEDAR FALLS</td>\n",
       "      <td>50613</td>\n",
       "      <td>7.0</td>\n",
       "      <td>Black Hawk</td>\n",
       "      <td>1011200.0</td>\n",
       "      <td>STRAIGHT BOURBON WHISKIES</td>\n",
       "      <td>65</td>\n",
       "      <td>19067</td>\n",
       "      <td>Jim Beam</td>\n",
       "      <td>1000</td>\n",
       "      <td>$12.59</td>\n",
       "      <td>$18.89</td>\n",
       "      <td>24</td>\n",
       "      <td>$453.36</td>\n",
       "      <td>24.0</td>\n",
       "      <td>6.34</td>\n",
       "    </tr>\n",
       "    <tr>\n",
       "      <th>3</th>\n",
       "      <td>02/03/2016</td>\n",
       "      <td>2501</td>\n",
       "      <td>AMES</td>\n",
       "      <td>50010</td>\n",
       "      <td>85.0</td>\n",
       "      <td>Story</td>\n",
       "      <td>1071100.0</td>\n",
       "      <td>AMERICAN COCKTAILS</td>\n",
       "      <td>395</td>\n",
       "      <td>59154</td>\n",
       "      <td>1800 Ultimate Margarita</td>\n",
       "      <td>1750</td>\n",
       "      <td>$9.50</td>\n",
       "      <td>$14.25</td>\n",
       "      <td>6</td>\n",
       "      <td>$85.50</td>\n",
       "      <td>10.5</td>\n",
       "      <td>2.77</td>\n",
       "    </tr>\n",
       "    <tr>\n",
       "      <th>4</th>\n",
       "      <td>08/18/2015</td>\n",
       "      <td>3654</td>\n",
       "      <td>BELMOND</td>\n",
       "      <td>50421</td>\n",
       "      <td>99.0</td>\n",
       "      <td>Wright</td>\n",
       "      <td>1031080.0</td>\n",
       "      <td>VODKA 80 PROOF</td>\n",
       "      <td>297</td>\n",
       "      <td>35918</td>\n",
       "      <td>Five O'clock Vodka</td>\n",
       "      <td>1750</td>\n",
       "      <td>$7.20</td>\n",
       "      <td>$10.80</td>\n",
       "      <td>12</td>\n",
       "      <td>$129.60</td>\n",
       "      <td>21.0</td>\n",
       "      <td>5.55</td>\n",
       "    </tr>\n",
       "  </tbody>\n",
       "</table>\n",
       "</div>"
      ],
      "text/plain": [
       "         Date  Store Number         City Zip Code  County Number      County  \\\n",
       "0  11/04/2015          3717       SUMNER    50674            9.0      Bremer   \n",
       "1  03/02/2016          2614    DAVENPORT    52807           82.0       Scott   \n",
       "2  02/11/2016          2106  CEDAR FALLS    50613            7.0  Black Hawk   \n",
       "3  02/03/2016          2501         AMES    50010           85.0       Story   \n",
       "4  08/18/2015          3654      BELMOND    50421           99.0      Wright   \n",
       "\n",
       "    Category              Category Name  Vendor Number  Item Number  \\\n",
       "0  1051100.0           APRICOT BRANDIES             55        54436   \n",
       "1  1011100.0           BLENDED WHISKIES            395        27605   \n",
       "2  1011200.0  STRAIGHT BOURBON WHISKIES             65        19067   \n",
       "3  1071100.0         AMERICAN COCKTAILS            395        59154   \n",
       "4  1031080.0             VODKA 80 PROOF            297        35918   \n",
       "\n",
       "            Item Description  Bottle Volume (ml) State Bottle Cost  \\\n",
       "0  Mr. Boston Apricot Brandy                 750             $4.50   \n",
       "1                    Tin Cup                 750            $13.75   \n",
       "2                   Jim Beam                1000            $12.59   \n",
       "3    1800 Ultimate Margarita                1750             $9.50   \n",
       "4         Five O'clock Vodka                1750             $7.20   \n",
       "\n",
       "  State Bottle Retail  Bottles Sold Sale (Dollars)  Volume Sold (Liters)  \\\n",
       "0               $6.75            12         $81.00                   9.0   \n",
       "1              $20.63             2         $41.26                   1.5   \n",
       "2              $18.89            24        $453.36                  24.0   \n",
       "3              $14.25             6         $85.50                  10.5   \n",
       "4              $10.80            12        $129.60                  21.0   \n",
       "\n",
       "   Volume Sold (Gallons)  \n",
       "0                   2.38  \n",
       "1                   0.40  \n",
       "2                   6.34  \n",
       "3                   2.77  \n",
       "4                   5.55  "
      ]
     },
     "execution_count": 599,
     "metadata": {},
     "output_type": "execute_result"
    }
   ],
   "source": [
    "df.head()"
   ]
  },
  {
   "cell_type": "code",
   "execution_count": 600,
   "metadata": {
    "collapsed": false
   },
   "outputs": [
    {
     "data": {
      "text/plain": [
       "Date                      object\n",
       "Store Number               int64\n",
       "City                      object\n",
       "Zip Code                  object\n",
       "County Number            float64\n",
       "County                    object\n",
       "Category                 float64\n",
       "Category Name             object\n",
       "Vendor Number              int64\n",
       "Item Number                int64\n",
       "Item Description          object\n",
       "Bottle Volume (ml)         int64\n",
       "State Bottle Cost         object\n",
       "State Bottle Retail       object\n",
       "Bottles Sold               int64\n",
       "Sale (Dollars)            object\n",
       "Volume Sold (Liters)     float64\n",
       "Volume Sold (Gallons)    float64\n",
       "dtype: object"
      ]
     },
     "execution_count": 600,
     "metadata": {},
     "output_type": "execute_result"
    }
   ],
   "source": [
    "df.dtypes"
   ]
  },
  {
   "cell_type": "code",
   "execution_count": 601,
   "metadata": {
    "collapsed": false
   },
   "outputs": [
    {
     "data": {
      "text/plain": [
       "Date                     270955\n",
       "Store Number             270955\n",
       "City                     270955\n",
       "Zip Code                 270955\n",
       "County Number            269878\n",
       "County                   269878\n",
       "Category                 270887\n",
       "Category Name            270323\n",
       "Vendor Number            270955\n",
       "Item Number              270955\n",
       "Item Description         270955\n",
       "Bottle Volume (ml)       270955\n",
       "State Bottle Cost        270955\n",
       "State Bottle Retail      270955\n",
       "Bottles Sold             270955\n",
       "Sale (Dollars)           270955\n",
       "Volume Sold (Liters)     270955\n",
       "Volume Sold (Gallons)    270955\n",
       "dtype: int64"
      ]
     },
     "execution_count": 601,
     "metadata": {},
     "output_type": "execute_result"
    }
   ],
   "source": [
    "df.count()"
   ]
  },
  {
   "cell_type": "code",
   "execution_count": 602,
   "metadata": {
    "collapsed": false
   },
   "outputs": [
    {
     "data": {
      "text/plain": [
       "(270955, 18)"
      ]
     },
     "execution_count": 602,
     "metadata": {},
     "output_type": "execute_result"
    }
   ],
   "source": [
    "df.shape"
   ]
  },
  {
   "cell_type": "code",
   "execution_count": null,
   "metadata": {
    "collapsed": true
   },
   "outputs": [],
   "source": []
  },
  {
   "cell_type": "code",
   "execution_count": null,
   "metadata": {
    "collapsed": false
   },
   "outputs": [],
   "source": []
  },
  {
   "cell_type": "code",
   "execution_count": 603,
   "metadata": {
    "collapsed": true
   },
   "outputs": [],
   "source": [
    "# Remove redundant columns\n",
    "del df['Volume Sold (Gallons)']"
   ]
  },
  {
   "cell_type": "code",
   "execution_count": 604,
   "metadata": {
    "collapsed": true
   },
   "outputs": [],
   "source": [
    "# Remove $ from certain columns\n",
    "df['State Bottle Cost'] = [x.lstrip('$')for x in df['State Bottle Cost']]\n",
    "df['State Bottle Retail'] = [x.lstrip('$')for x in df['State Bottle Retail']]\n",
    "df['Sale (Dollars)'] = [x.lstrip('$')for x in df['Sale (Dollars)']]\n",
    "\n",
    "#Convert dates\n",
    "df[\"Date\"] = pd.to_datetime(df[\"Date\"], format=\"%m/%d/%Y\")\n",
    "\n",
    "# Drop or replace bad values\n",
    "\n",
    "# Convert integers\n",
    "df[['State Bottle Cost','State Bottle Retail', 'Sale (Dollars)']] = df[['State Bottle Cost','State Bottle Retail', \n",
    "                                                                        'Sale (Dollars)']].astype(float)\n",
    "\n",
    "# Add Margin column and Price per liter column\n",
    "df['Margin'] = df['State Bottle Retail'] - df['State Bottle Cost']\n",
    "df['Price per Liter'] = (df['State Bottle Retail'] / df['Bottle Volume (ml)'])*1000"
   ]
  },
  {
   "cell_type": "code",
   "execution_count": 605,
   "metadata": {
    "collapsed": true
   },
   "outputs": [],
   "source": [
    "# Sales per store, 2015. Only includes stores that were open for all of 2015.\n",
    "\n",
    "# Filter by our start and end dates\n",
    "df.sort_values(by=[\"Store Number\", \"Date\"], inplace=True)\n",
    "start_date = pd.Timestamp(\"20150101\")\n",
    "end_date = pd.Timestamp(\"20151231\")\n",
    "mask = (df['Date'] >= start_date) & (df['Date'] <= end_date)\n",
    "sales2015 = df[mask]\n",
    "\n",
    "# Group by store name\n",
    "sales2015 = sales2015.groupby(by=[\"Store Number\"], as_index=False)\n",
    "# Compute sums, means\n",
    "sales2015 = sales2015.agg({\"Sale (Dollars)\": [np.sum, np.mean],\n",
    "                   \"Volume Sold (Liters)\": [np.sum, np.mean],\n",
    "                   \"Margin\": np.mean,\n",
    "                   \"Price per Liter\": np.mean,\n",
    "                   \"Zip Code\": lambda x: x.iloc[0], # just extract once, should be the same\n",
    "                   \"City\": lambda x: x.iloc[0],\n",
    "                   \"County Number\": lambda x: x.iloc[0]})\n",
    "# Collapse the column indices\n",
    "sales2015.columns = [' '.join(col).strip() for col in sales2015.columns.values]"
   ]
  },
  {
   "cell_type": "code",
   "execution_count": 606,
   "metadata": {
    "collapsed": false
   },
   "outputs": [
    {
     "data": {
      "text/html": [
       "<div>\n",
       "<table border=\"1\" class=\"dataframe\">\n",
       "  <thead>\n",
       "    <tr style=\"text-align: right;\">\n",
       "      <th></th>\n",
       "      <th>Store Number</th>\n",
       "      <th>City &lt;lambda&gt;</th>\n",
       "      <th>Sale (Dollars) sum</th>\n",
       "      <th>Sale (Dollars) mean</th>\n",
       "      <th>County Number &lt;lambda&gt;</th>\n",
       "      <th>Price per Liter mean</th>\n",
       "      <th>Zip Code &lt;lambda&gt;</th>\n",
       "      <th>Volume Sold (Liters) sum</th>\n",
       "      <th>Volume Sold (Liters) mean</th>\n",
       "      <th>Margin mean</th>\n",
       "    </tr>\n",
       "  </thead>\n",
       "  <tbody>\n",
       "    <tr>\n",
       "      <th>0</th>\n",
       "      <td>2106</td>\n",
       "      <td>CEDAR FALLS</td>\n",
       "      <td>146326.22</td>\n",
       "      <td>277.658861</td>\n",
       "      <td>7.0</td>\n",
       "      <td>17.856601</td>\n",
       "      <td>50613</td>\n",
       "      <td>9731.85</td>\n",
       "      <td>18.466509</td>\n",
       "      <td>5.166319</td>\n",
       "    </tr>\n",
       "    <tr>\n",
       "      <th>1</th>\n",
       "      <td>2113</td>\n",
       "      <td>GOWRIE</td>\n",
       "      <td>9310.22</td>\n",
       "      <td>63.334830</td>\n",
       "      <td>94.0</td>\n",
       "      <td>18.504292</td>\n",
       "      <td>50543</td>\n",
       "      <td>659.85</td>\n",
       "      <td>4.488776</td>\n",
       "      <td>5.445102</td>\n",
       "    </tr>\n",
       "    <tr>\n",
       "      <th>2</th>\n",
       "      <td>2130</td>\n",
       "      <td>WATERLOO</td>\n",
       "      <td>111871.43</td>\n",
       "      <td>285.386301</td>\n",
       "      <td>7.0</td>\n",
       "      <td>16.835669</td>\n",
       "      <td>50703</td>\n",
       "      <td>6891.37</td>\n",
       "      <td>17.580026</td>\n",
       "      <td>4.925842</td>\n",
       "    </tr>\n",
       "    <tr>\n",
       "      <th>3</th>\n",
       "      <td>2152</td>\n",
       "      <td>ROCKWELL</td>\n",
       "      <td>7721.08</td>\n",
       "      <td>54.759433</td>\n",
       "      <td>17.0</td>\n",
       "      <td>13.020983</td>\n",
       "      <td>50469</td>\n",
       "      <td>633.37</td>\n",
       "      <td>4.491986</td>\n",
       "      <td>4.322624</td>\n",
       "    </tr>\n",
       "    <tr>\n",
       "      <th>4</th>\n",
       "      <td>2178</td>\n",
       "      <td>WAUKON</td>\n",
       "      <td>24324.18</td>\n",
       "      <td>102.633671</td>\n",
       "      <td>3.0</td>\n",
       "      <td>16.062136</td>\n",
       "      <td>52172</td>\n",
       "      <td>1917.12</td>\n",
       "      <td>8.089114</td>\n",
       "      <td>4.868861</td>\n",
       "    </tr>\n",
       "  </tbody>\n",
       "</table>\n",
       "</div>"
      ],
      "text/plain": [
       "   Store Number City <lambda>  Sale (Dollars) sum  Sale (Dollars) mean  \\\n",
       "0          2106   CEDAR FALLS           146326.22           277.658861   \n",
       "1          2113        GOWRIE             9310.22            63.334830   \n",
       "2          2130      WATERLOO           111871.43           285.386301   \n",
       "3          2152      ROCKWELL             7721.08            54.759433   \n",
       "4          2178        WAUKON            24324.18           102.633671   \n",
       "\n",
       "   County Number <lambda>  Price per Liter mean Zip Code <lambda>  \\\n",
       "0                     7.0             17.856601             50613   \n",
       "1                    94.0             18.504292             50543   \n",
       "2                     7.0             16.835669             50703   \n",
       "3                    17.0             13.020983             50469   \n",
       "4                     3.0             16.062136             52172   \n",
       "\n",
       "   Volume Sold (Liters) sum  Volume Sold (Liters) mean  Margin mean  \n",
       "0                   9731.85                  18.466509     5.166319  \n",
       "1                    659.85                   4.488776     5.445102  \n",
       "2                   6891.37                  17.580026     4.925842  \n",
       "3                    633.37                   4.491986     4.322624  \n",
       "4                   1917.12                   8.089114     4.868861  "
      ]
     },
     "execution_count": 606,
     "metadata": {},
     "output_type": "execute_result"
    }
   ],
   "source": [
    "sales2015.head()"
   ]
  },
  {
   "cell_type": "code",
   "execution_count": 607,
   "metadata": {
    "collapsed": false
   },
   "outputs": [
    {
     "data": {
      "text/plain": [
       "Store Number                   int64\n",
       "City <lambda>                 object\n",
       "Sale (Dollars) sum           float64\n",
       "Sale (Dollars) mean          float64\n",
       "County Number <lambda>       float64\n",
       "Price per Liter mean         float64\n",
       "Zip Code <lambda>             object\n",
       "Volume Sold (Liters) sum     float64\n",
       "Volume Sold (Liters) mean    float64\n",
       "Margin mean                  float64\n",
       "dtype: object"
      ]
     },
     "execution_count": 607,
     "metadata": {},
     "output_type": "execute_result"
    }
   ],
   "source": [
    "sales2015.dtypes"
   ]
  },
  {
   "cell_type": "code",
   "execution_count": 608,
   "metadata": {
    "collapsed": false
   },
   "outputs": [
    {
     "data": {
      "text/plain": [
       "Store Number                 1372\n",
       "City <lambda>                1372\n",
       "Sale (Dollars) sum           1372\n",
       "Sale (Dollars) mean          1372\n",
       "County Number <lambda>       1371\n",
       "Price per Liter mean         1372\n",
       "Zip Code <lambda>            1372\n",
       "Volume Sold (Liters) sum     1372\n",
       "Volume Sold (Liters) mean    1372\n",
       "Margin mean                  1372\n",
       "dtype: int64"
      ]
     },
     "execution_count": 608,
     "metadata": {},
     "output_type": "execute_result"
    }
   ],
   "source": [
    "sales2015.count()"
   ]
  },
  {
   "cell_type": "code",
   "execution_count": 609,
   "metadata": {
    "collapsed": false
   },
   "outputs": [
    {
     "data": {
      "text/plain": [
       "(1372, 10)"
      ]
     },
     "execution_count": 609,
     "metadata": {},
     "output_type": "execute_result"
    }
   ],
   "source": [
    "sales2015.shape"
   ]
  },
  {
   "cell_type": "code",
   "execution_count": 610,
   "metadata": {
    "collapsed": true
   },
   "outputs": [],
   "source": [
    "#Make dataframe that computes info for sales by store, made in the first quarter of 2015\n",
    "df.sort_values(by=[\"Store Number\", \"Date\"], inplace=True)\n",
    "start_date2 = pd.Timestamp(\"20150101\")\n",
    "end_date2 = pd.Timestamp(\"20150331\")\n",
    "mask2 = (df['Date'] >= start_date2) & (df['Date'] <= end_date2)\n",
    "sales2015Q1 = df[mask2]\n",
    "\n",
    "sales2015Q1 = sales2015Q1.groupby(by=[\"Store Number\"], as_index=False)\n",
    "\n",
    "sales2015Q1 = sales2015Q1.agg({\"Sale (Dollars)\": [np.sum, np.mean],\n",
    "                   \"Volume Sold (Liters)\": [np.sum, np.mean],\n",
    "                   \"Margin\": np.mean,\n",
    "                   \"Price per Liter\": np.mean,\n",
    "                   \"Zip Code\": lambda x: x.iloc[0], # just extract once, should be the same\n",
    "                   \"City\": lambda x: x.iloc[0],\n",
    "                   \"County Number\": lambda x: x.iloc[0]})\n",
    "\n",
    "sales2015Q1.columns = [' '.join(col).strip() for col in sales2015Q1.columns.values]"
   ]
  },
  {
   "cell_type": "code",
   "execution_count": 611,
   "metadata": {
    "collapsed": false
   },
   "outputs": [
    {
     "name": "stdout",
     "output_type": "stream",
     "text": [
      "Index([u'Store Number', u'Sale (Dollars) sum', u'Sale (Dollars) mean'], dtype='object')\n"
     ]
    }
   ],
   "source": [
    "del sales2015Q1['City <lambda>']\n",
    "del sales2015Q1['County Number <lambda>']\n",
    "del sales2015Q1['Price per Liter mean']\n",
    "del sales2015Q1['Zip Code <lambda>']\n",
    "del sales2015Q1['Volume Sold (Liters) sum']\n",
    "del sales2015Q1['Volume Sold (Liters) mean']\n",
    "del sales2015Q1['Margin mean']\n",
    "print sales2015Q1.columns"
   ]
  },
  {
   "cell_type": "code",
   "execution_count": 612,
   "metadata": {
    "collapsed": false
   },
   "outputs": [
    {
     "data": {
      "text/plain": [
       "(1262, 3)"
      ]
     },
     "execution_count": 612,
     "metadata": {},
     "output_type": "execute_result"
    }
   ],
   "source": [
    "sales2015Q1.columns = [u'Store Number', u'Q1 Total Sales', u'Q1 Average Sales']\n",
    "sales2015Q1.shape"
   ]
  },
  {
   "cell_type": "code",
   "execution_count": 613,
   "metadata": {
    "collapsed": false
   },
   "outputs": [],
   "source": [
    "#join tables on 'Store Number' so each store has its yearly totals and corresponding Q1 total and average sale\n",
    "#note that some Q1 values are NaN, meaning some stores either opened after Q1 in 2015, and others may be seasonal\n",
    "sales15 = pd.merge(sales2015, sales2015Q1, on='Store Number', how='outer')"
   ]
  },
  {
   "cell_type": "code",
   "execution_count": 641,
   "metadata": {
    "collapsed": false
   },
   "outputs": [],
   "source": [
    "# Sales per store, 2016, to date. \n",
    "\n",
    "# Filter by our start and end dates\n",
    "df.sort_values(by=[\"Store Number\", \"Date\"], inplace=True)\n",
    "start_date4 = pd.Timestamp(\"20160101\")\n",
    "mask4 = (df['Date'] >= start_date4)\n",
    "sales2016 = df[mask4]\n",
    "\n",
    "# Group by store name\n",
    "sales2016 = sales2016.groupby(by=[\"Store Number\"], as_index=False)\n",
    "# Compute sums, means\n",
    "sales2016 = sales2016.agg({\"Sale (Dollars)\": [np.sum, np.mean],\n",
    "                   \"Volume Sold (Liters)\": [np.sum, np.mean],\n",
    "                   \"Margin\": np.mean,\n",
    "                   \"Price per Liter\": np.mean,\n",
    "                   \"Zip Code\": lambda x: x.iloc[0], # just extract once, should be the same\n",
    "                   \"City\": lambda x: x.iloc[0],\n",
    "                   \"County Number\": lambda x: x.iloc[0]})\n",
    "# Collapse the column indices\n",
    "sales2016.columns = [' '.join(col).strip() for col in sales2016.columns.values]"
   ]
  },
  {
   "cell_type": "code",
   "execution_count": 638,
   "metadata": {
    "collapsed": false
   },
   "outputs": [
    {
     "data": {
      "text/plain": [
       "Store Number                 1280\n",
       "City <lambda>                1280\n",
       "Sale (Dollars) sum           1280\n",
       "Sale (Dollars) mean          1280\n",
       "County Number <lambda>       1280\n",
       "Price per Liter mean         1280\n",
       "Zip Code <lambda>            1280\n",
       "Volume Sold (Liters) sum     1280\n",
       "Volume Sold (Liters) mean    1280\n",
       "Margin mean                  1280\n",
       "dtype: int64"
      ]
     },
     "execution_count": 638,
     "metadata": {},
     "output_type": "execute_result"
    }
   ],
   "source": [
    "sales2016.dropna(inplace=True)"
   ]
  },
  {
   "cell_type": "code",
   "execution_count": 646,
   "metadata": {
    "collapsed": false
   },
   "outputs": [],
   "source": [
    "#Make dataframe that computes info for sales by store, made in the first quarter of 2016\n",
    "df.sort_values(by=[\"Store Number\", \"Date\"], inplace=True)\n",
    "start_date5 = pd.Timestamp(\"20160101\")\n",
    "end_date5 = pd.Timestamp(\"20160331\")\n",
    "mask5 = (df['Date'] >= start_date5) & (df['Date'] <= end_date5)\n",
    "sales2016Q1 = df[mask5]\n",
    "\n",
    "sales2016Q1 = sales2016Q1.groupby(by=[\"Store Number\"], as_index=False)\n",
    "\n",
    "sales2016Q1 = sales2016Q1.agg({\"Sale (Dollars)\": [np.sum, np.mean],\n",
    "                   \"Volume Sold (Liters)\": [np.sum, np.mean],\n",
    "                   \"Margin\": np.mean,\n",
    "                   \"Price per Liter\": np.mean,\n",
    "                   \"Zip Code\": lambda x: x.iloc[0], # just extract once, should be the same\n",
    "                   \"City\": lambda x: x.iloc[0],\n",
    "                   \"County Number\": lambda x: x.iloc[0]})\n",
    "\n",
    "sales2016Q1.columns = [' '.join(col).strip() for col in sales2016Q1.columns.values]"
   ]
  },
  {
   "cell_type": "code",
   "execution_count": 647,
   "metadata": {
    "collapsed": false
   },
   "outputs": [
    {
     "data": {
      "text/plain": [
       "Store Number                 1280\n",
       "City <lambda>                1280\n",
       "Sale (Dollars) sum           1280\n",
       "Sale (Dollars) mean          1280\n",
       "County Number <lambda>       1280\n",
       "Price per Liter mean         1280\n",
       "Zip Code <lambda>            1280\n",
       "Volume Sold (Liters) sum     1280\n",
       "Volume Sold (Liters) mean    1280\n",
       "Margin mean                  1280\n",
       "dtype: int64"
      ]
     },
     "execution_count": 647,
     "metadata": {},
     "output_type": "execute_result"
    }
   ],
   "source": [
    "sales2016Q1.dropna(inplace=True)"
   ]
  },
  {
   "cell_type": "code",
   "execution_count": 648,
   "metadata": {
    "collapsed": false
   },
   "outputs": [
    {
     "name": "stdout",
     "output_type": "stream",
     "text": [
      "Index([u'Store Number', u'Sale (Dollars) sum', u'Sale (Dollars) mean'], dtype='object')\n"
     ]
    }
   ],
   "source": [
    "del sales2016Q1['City <lambda>']\n",
    "del sales2016Q1['County Number <lambda>']\n",
    "del sales2016Q1['Price per Liter mean']\n",
    "del sales2016Q1['Zip Code <lambda>']\n",
    "del sales2016Q1['Volume Sold (Liters) sum']\n",
    "del sales2016Q1['Volume Sold (Liters) mean']\n",
    "del sales2016Q1['Margin mean']\n",
    "print sales2016Q1.columns"
   ]
  },
  {
   "cell_type": "code",
   "execution_count": 652,
   "metadata": {
    "collapsed": true
   },
   "outputs": [],
   "source": [
    "sales2016Q1.columns = [u'Store Number', u'Q1 Total Sales', u'Q1 Average Sale']"
   ]
  },
  {
   "cell_type": "code",
   "execution_count": 653,
   "metadata": {
    "collapsed": true
   },
   "outputs": [],
   "source": [
    "sales16 = pd.merge(sales2016, sales2016Q1, on='Store Number', how='outer')"
   ]
  },
  {
   "cell_type": "code",
   "execution_count": null,
   "metadata": {
    "collapsed": false
   },
   "outputs": [],
   "source": []
  },
  {
   "cell_type": "code",
   "execution_count": null,
   "metadata": {
    "collapsed": true
   },
   "outputs": [],
   "source": []
  },
  {
   "cell_type": "code",
   "execution_count": null,
   "metadata": {
    "collapsed": true
   },
   "outputs": [],
   "source": []
  },
  {
   "cell_type": "code",
   "execution_count": null,
   "metadata": {
    "collapsed": true
   },
   "outputs": [],
   "source": []
  },
  {
   "cell_type": "code",
   "execution_count": 614,
   "metadata": {
    "collapsed": true
   },
   "outputs": [
    {
     "data": {
      "text/plain": [
       "Store Number                 1261\n",
       "City <lambda>                1261\n",
       "Sale (Dollars) sum           1261\n",
       "Sale (Dollars) mean          1261\n",
       "County Number <lambda>       1261\n",
       "Price per Liter mean         1261\n",
       "Zip Code <lambda>            1261\n",
       "Volume Sold (Liters) sum     1261\n",
       "Volume Sold (Liters) mean    1261\n",
       "Margin mean                  1261\n",
       "Q1 Total Sales               1261\n",
       "Q1 Average Sales             1261\n",
       "dtype: int64"
      ]
     },
     "execution_count": 614,
     "metadata": {},
     "output_type": "execute_result"
    }
   ],
   "source": [
    "sales15.dropna(inplace=True)\n",
    "sales15.count()"
   ]
  },
  {
   "cell_type": "code",
   "execution_count": 615,
   "metadata": {
    "collapsed": false
   },
   "outputs": [],
   "source": [
    "sales15.columns = [' '.join(col).strip() for col in sales15.columns.values]\n",
    "sales15.columns = [u'Store Number', u'City', u'TotalSales', u'Average Sales', u'County Number',\n",
    "                   u'Average Price per Liter', u'Zip Code', u'Total Volume Sold (Liters)',\n",
    "                   u'Average Volume Sold (Liters)', u'Average Margin', u'Q1TotalSales', u'Q1AverageSales']"
   ]
  },
  {
   "cell_type": "code",
   "execution_count": 616,
   "metadata": {
    "collapsed": false
   },
   "outputs": [
    {
     "data": {
      "text/html": [
       "<div>\n",
       "<table border=\"1\" class=\"dataframe\">\n",
       "  <thead>\n",
       "    <tr style=\"text-align: right;\">\n",
       "      <th></th>\n",
       "      <th>Store Number</th>\n",
       "      <th>City</th>\n",
       "      <th>TotalSales</th>\n",
       "      <th>Average Sales</th>\n",
       "      <th>County Number</th>\n",
       "      <th>Average Price per Liter</th>\n",
       "      <th>Zip Code</th>\n",
       "      <th>Total Volume Sold (Liters)</th>\n",
       "      <th>Average Volume Sold (Liters)</th>\n",
       "      <th>Average Margin</th>\n",
       "      <th>Q1TotalSales</th>\n",
       "      <th>Q1AverageSales</th>\n",
       "    </tr>\n",
       "  </thead>\n",
       "  <tbody>\n",
       "    <tr>\n",
       "      <th>0</th>\n",
       "      <td>2106</td>\n",
       "      <td>CEDAR FALLS</td>\n",
       "      <td>146326.22</td>\n",
       "      <td>277.658861</td>\n",
       "      <td>7.0</td>\n",
       "      <td>17.856601</td>\n",
       "      <td>50613</td>\n",
       "      <td>9731.85</td>\n",
       "      <td>18.466509</td>\n",
       "      <td>5.166319</td>\n",
       "      <td>39287.29</td>\n",
       "      <td>304.552636</td>\n",
       "    </tr>\n",
       "    <tr>\n",
       "      <th>1</th>\n",
       "      <td>2113</td>\n",
       "      <td>GOWRIE</td>\n",
       "      <td>9310.22</td>\n",
       "      <td>63.334830</td>\n",
       "      <td>94.0</td>\n",
       "      <td>18.504292</td>\n",
       "      <td>50543</td>\n",
       "      <td>659.85</td>\n",
       "      <td>4.488776</td>\n",
       "      <td>5.445102</td>\n",
       "      <td>2833.25</td>\n",
       "      <td>67.458333</td>\n",
       "    </tr>\n",
       "    <tr>\n",
       "      <th>2</th>\n",
       "      <td>2130</td>\n",
       "      <td>WATERLOO</td>\n",
       "      <td>111871.43</td>\n",
       "      <td>285.386301</td>\n",
       "      <td>7.0</td>\n",
       "      <td>16.835669</td>\n",
       "      <td>50703</td>\n",
       "      <td>6891.37</td>\n",
       "      <td>17.580026</td>\n",
       "      <td>4.925842</td>\n",
       "      <td>24272.57</td>\n",
       "      <td>278.995057</td>\n",
       "    </tr>\n",
       "    <tr>\n",
       "      <th>3</th>\n",
       "      <td>2152</td>\n",
       "      <td>ROCKWELL</td>\n",
       "      <td>7721.08</td>\n",
       "      <td>54.759433</td>\n",
       "      <td>17.0</td>\n",
       "      <td>13.020983</td>\n",
       "      <td>50469</td>\n",
       "      <td>633.37</td>\n",
       "      <td>4.491986</td>\n",
       "      <td>4.322624</td>\n",
       "      <td>2003.46</td>\n",
       "      <td>62.608125</td>\n",
       "    </tr>\n",
       "    <tr>\n",
       "      <th>4</th>\n",
       "      <td>2178</td>\n",
       "      <td>WAUKON</td>\n",
       "      <td>24324.18</td>\n",
       "      <td>102.633671</td>\n",
       "      <td>3.0</td>\n",
       "      <td>16.062136</td>\n",
       "      <td>52172</td>\n",
       "      <td>1917.12</td>\n",
       "      <td>8.089114</td>\n",
       "      <td>4.868861</td>\n",
       "      <td>5856.41</td>\n",
       "      <td>122.008542</td>\n",
       "    </tr>\n",
       "  </tbody>\n",
       "</table>\n",
       "</div>"
      ],
      "text/plain": [
       "   Store Number         City  TotalSales  Average Sales  County Number  \\\n",
       "0          2106  CEDAR FALLS   146326.22     277.658861            7.0   \n",
       "1          2113       GOWRIE     9310.22      63.334830           94.0   \n",
       "2          2130     WATERLOO   111871.43     285.386301            7.0   \n",
       "3          2152     ROCKWELL     7721.08      54.759433           17.0   \n",
       "4          2178       WAUKON    24324.18     102.633671            3.0   \n",
       "\n",
       "   Average Price per Liter Zip Code  Total Volume Sold (Liters)  \\\n",
       "0                17.856601    50613                     9731.85   \n",
       "1                18.504292    50543                      659.85   \n",
       "2                16.835669    50703                     6891.37   \n",
       "3                13.020983    50469                      633.37   \n",
       "4                16.062136    52172                     1917.12   \n",
       "\n",
       "   Average Volume Sold (Liters)  Average Margin  Q1TotalSales  Q1AverageSales  \n",
       "0                     18.466509        5.166319      39287.29      304.552636  \n",
       "1                      4.488776        5.445102       2833.25       67.458333  \n",
       "2                     17.580026        4.925842      24272.57      278.995057  \n",
       "3                      4.491986        4.322624       2003.46       62.608125  \n",
       "4                      8.089114        4.868861       5856.41      122.008542  "
      ]
     },
     "execution_count": 616,
     "metadata": {},
     "output_type": "execute_result"
    }
   ],
   "source": [
    "sales15.head()"
   ]
  },
  {
   "cell_type": "code",
   "execution_count": 617,
   "metadata": {
    "collapsed": true
   },
   "outputs": [],
   "source": [
    "sales15.to_csv('../assets/03-project3-assets/Iowa_liquor_sales_2015.csv')"
   ]
  },
  {
   "cell_type": "markdown",
   "metadata": {},
   "source": [
    "# Explore the data\n",
    "\n",
    "Perform some exploratory statistical analysis and make some plots, such as histograms of transaction totals, bottles sold, etc."
   ]
  },
  {
   "cell_type": "code",
   "execution_count": 618,
   "metadata": {
    "collapsed": false
   },
   "outputs": [
    {
     "data": {
      "text/html": [
       "<div>\n",
       "<table border=\"1\" class=\"dataframe\">\n",
       "  <thead>\n",
       "    <tr style=\"text-align: right;\">\n",
       "      <th></th>\n",
       "      <th>Store Number</th>\n",
       "      <th>TotalSales</th>\n",
       "      <th>Average Sales</th>\n",
       "      <th>County Number</th>\n",
       "      <th>Average Price per Liter</th>\n",
       "      <th>Total Volume Sold (Liters)</th>\n",
       "      <th>Average Volume Sold (Liters)</th>\n",
       "      <th>Average Margin</th>\n",
       "      <th>Q1TotalSales</th>\n",
       "      <th>Q1AverageSales</th>\n",
       "    </tr>\n",
       "  </thead>\n",
       "  <tbody>\n",
       "    <tr>\n",
       "      <th>Store Number</th>\n",
       "      <td>1.000000</td>\n",
       "      <td>-0.347898</td>\n",
       "      <td>0.025699</td>\n",
       "      <td>-0.009329</td>\n",
       "      <td>0.079180</td>\n",
       "      <td>-0.386031</td>\n",
       "      <td>-0.048487</td>\n",
       "      <td>-0.253210</td>\n",
       "      <td>-0.342912</td>\n",
       "      <td>0.001476</td>\n",
       "    </tr>\n",
       "    <tr>\n",
       "      <th>TotalSales</th>\n",
       "      <td>-0.347898</td>\n",
       "      <td>1.000000</td>\n",
       "      <td>0.424885</td>\n",
       "      <td>0.044452</td>\n",
       "      <td>0.164090</td>\n",
       "      <td>0.992406</td>\n",
       "      <td>0.412590</td>\n",
       "      <td>0.291317</td>\n",
       "      <td>0.981455</td>\n",
       "      <td>0.404064</td>\n",
       "    </tr>\n",
       "    <tr>\n",
       "      <th>Average Sales</th>\n",
       "      <td>0.025699</td>\n",
       "      <td>0.424885</td>\n",
       "      <td>1.000000</td>\n",
       "      <td>0.010075</td>\n",
       "      <td>0.188501</td>\n",
       "      <td>0.417280</td>\n",
       "      <td>0.911271</td>\n",
       "      <td>0.390102</td>\n",
       "      <td>0.397014</td>\n",
       "      <td>0.899453</td>\n",
       "    </tr>\n",
       "    <tr>\n",
       "      <th>County Number</th>\n",
       "      <td>-0.009329</td>\n",
       "      <td>0.044452</td>\n",
       "      <td>0.010075</td>\n",
       "      <td>1.000000</td>\n",
       "      <td>0.092867</td>\n",
       "      <td>0.036670</td>\n",
       "      <td>-0.015606</td>\n",
       "      <td>0.016168</td>\n",
       "      <td>0.048110</td>\n",
       "      <td>0.007427</td>\n",
       "    </tr>\n",
       "    <tr>\n",
       "      <th>Average Price per Liter</th>\n",
       "      <td>0.079180</td>\n",
       "      <td>0.164090</td>\n",
       "      <td>0.188501</td>\n",
       "      <td>0.092867</td>\n",
       "      <td>1.000000</td>\n",
       "      <td>0.122433</td>\n",
       "      <td>-0.064902</td>\n",
       "      <td>0.433668</td>\n",
       "      <td>0.158975</td>\n",
       "      <td>0.142628</td>\n",
       "    </tr>\n",
       "    <tr>\n",
       "      <th>Total Volume Sold (Liters)</th>\n",
       "      <td>-0.386031</td>\n",
       "      <td>0.992406</td>\n",
       "      <td>0.417280</td>\n",
       "      <td>0.036670</td>\n",
       "      <td>0.122433</td>\n",
       "      <td>1.000000</td>\n",
       "      <td>0.434226</td>\n",
       "      <td>0.284404</td>\n",
       "      <td>0.972805</td>\n",
       "      <td>0.397797</td>\n",
       "    </tr>\n",
       "    <tr>\n",
       "      <th>Average Volume Sold (Liters)</th>\n",
       "      <td>-0.048487</td>\n",
       "      <td>0.412590</td>\n",
       "      <td>0.911271</td>\n",
       "      <td>-0.015606</td>\n",
       "      <td>-0.064902</td>\n",
       "      <td>0.434226</td>\n",
       "      <td>1.000000</td>\n",
       "      <td>0.268889</td>\n",
       "      <td>0.390907</td>\n",
       "      <td>0.849465</td>\n",
       "    </tr>\n",
       "    <tr>\n",
       "      <th>Average Margin</th>\n",
       "      <td>-0.253210</td>\n",
       "      <td>0.291317</td>\n",
       "      <td>0.390102</td>\n",
       "      <td>0.016168</td>\n",
       "      <td>0.433668</td>\n",
       "      <td>0.284404</td>\n",
       "      <td>0.268889</td>\n",
       "      <td>1.000000</td>\n",
       "      <td>0.282356</td>\n",
       "      <td>0.343991</td>\n",
       "    </tr>\n",
       "    <tr>\n",
       "      <th>Q1TotalSales</th>\n",
       "      <td>-0.342912</td>\n",
       "      <td>0.981455</td>\n",
       "      <td>0.397014</td>\n",
       "      <td>0.048110</td>\n",
       "      <td>0.158975</td>\n",
       "      <td>0.972805</td>\n",
       "      <td>0.390907</td>\n",
       "      <td>0.282356</td>\n",
       "      <td>1.000000</td>\n",
       "      <td>0.421404</td>\n",
       "    </tr>\n",
       "    <tr>\n",
       "      <th>Q1AverageSales</th>\n",
       "      <td>0.001476</td>\n",
       "      <td>0.404064</td>\n",
       "      <td>0.899453</td>\n",
       "      <td>0.007427</td>\n",
       "      <td>0.142628</td>\n",
       "      <td>0.397797</td>\n",
       "      <td>0.849465</td>\n",
       "      <td>0.343991</td>\n",
       "      <td>0.421404</td>\n",
       "      <td>1.000000</td>\n",
       "    </tr>\n",
       "  </tbody>\n",
       "</table>\n",
       "</div>"
      ],
      "text/plain": [
       "                              Store Number  TotalSales  Average Sales  \\\n",
       "Store Number                      1.000000   -0.347898       0.025699   \n",
       "TotalSales                       -0.347898    1.000000       0.424885   \n",
       "Average Sales                     0.025699    0.424885       1.000000   \n",
       "County Number                    -0.009329    0.044452       0.010075   \n",
       "Average Price per Liter           0.079180    0.164090       0.188501   \n",
       "Total Volume Sold (Liters)       -0.386031    0.992406       0.417280   \n",
       "Average Volume Sold (Liters)     -0.048487    0.412590       0.911271   \n",
       "Average Margin                   -0.253210    0.291317       0.390102   \n",
       "Q1TotalSales                     -0.342912    0.981455       0.397014   \n",
       "Q1AverageSales                    0.001476    0.404064       0.899453   \n",
       "\n",
       "                              County Number  Average Price per Liter  \\\n",
       "Store Number                      -0.009329                 0.079180   \n",
       "TotalSales                         0.044452                 0.164090   \n",
       "Average Sales                      0.010075                 0.188501   \n",
       "County Number                      1.000000                 0.092867   \n",
       "Average Price per Liter            0.092867                 1.000000   \n",
       "Total Volume Sold (Liters)         0.036670                 0.122433   \n",
       "Average Volume Sold (Liters)      -0.015606                -0.064902   \n",
       "Average Margin                     0.016168                 0.433668   \n",
       "Q1TotalSales                       0.048110                 0.158975   \n",
       "Q1AverageSales                     0.007427                 0.142628   \n",
       "\n",
       "                              Total Volume Sold (Liters)  \\\n",
       "Store Number                                   -0.386031   \n",
       "TotalSales                                      0.992406   \n",
       "Average Sales                                   0.417280   \n",
       "County Number                                   0.036670   \n",
       "Average Price per Liter                         0.122433   \n",
       "Total Volume Sold (Liters)                      1.000000   \n",
       "Average Volume Sold (Liters)                    0.434226   \n",
       "Average Margin                                  0.284404   \n",
       "Q1TotalSales                                    0.972805   \n",
       "Q1AverageSales                                  0.397797   \n",
       "\n",
       "                              Average Volume Sold (Liters)  Average Margin  \\\n",
       "Store Number                                     -0.048487       -0.253210   \n",
       "TotalSales                                        0.412590        0.291317   \n",
       "Average Sales                                     0.911271        0.390102   \n",
       "County Number                                    -0.015606        0.016168   \n",
       "Average Price per Liter                          -0.064902        0.433668   \n",
       "Total Volume Sold (Liters)                        0.434226        0.284404   \n",
       "Average Volume Sold (Liters)                      1.000000        0.268889   \n",
       "Average Margin                                    0.268889        1.000000   \n",
       "Q1TotalSales                                      0.390907        0.282356   \n",
       "Q1AverageSales                                    0.849465        0.343991   \n",
       "\n",
       "                              Q1TotalSales  Q1AverageSales  \n",
       "Store Number                     -0.342912        0.001476  \n",
       "TotalSales                        0.981455        0.404064  \n",
       "Average Sales                     0.397014        0.899453  \n",
       "County Number                     0.048110        0.007427  \n",
       "Average Price per Liter           0.158975        0.142628  \n",
       "Total Volume Sold (Liters)        0.972805        0.397797  \n",
       "Average Volume Sold (Liters)      0.390907        0.849465  \n",
       "Average Margin                    0.282356        0.343991  \n",
       "Q1TotalSales                      1.000000        0.421404  \n",
       "Q1AverageSales                    0.421404        1.000000  "
      ]
     },
     "execution_count": 618,
     "metadata": {},
     "output_type": "execute_result"
    }
   ],
   "source": [
    "sales15.corr()"
   ]
  },
  {
   "cell_type": "code",
   "execution_count": 619,
   "metadata": {
    "collapsed": false,
    "scrolled": true
   },
   "outputs": [
    {
     "data": {
      "text/plain": [
       "<matplotlib.axes._subplots.AxesSubplot at 0x137e94250>"
      ]
     },
     "execution_count": 619,
     "metadata": {},
     "output_type": "execute_result"
    },
    {
     "data": {
      "image/png": "[encoded data removed]",
      "text/plain": [
       "<matplotlib.figure.Figure at 0x137e94550>"
      ]
     },
     "metadata": {},
     "output_type": "display_data"
    }
   ],
   "source": [
    "sns.heatmap(sales15.corr())"
   ]
  },
  {
   "cell_type": "code",
   "execution_count": 620,
   "metadata": {
    "collapsed": false
   },
   "outputs": [
    {
     "data": {
      "text/plain": [
       "<matplotlib.axes._subplots.AxesSubplot at 0x13f6a4a90>"
      ]
     },
     "execution_count": 620,
     "metadata": {},
     "output_type": "execute_result"
    },
    {
     "data": {
      "image/png": "[encoded data removed]",
      "text/plain": [
       "<matplotlib.figure.Figure at 0x140b1f790>"
      ]
     },
     "metadata": {},
     "output_type": "display_data"
    }
   ],
   "source": [
    "fig, axs = plt.subplots(1, 3, sharey=True) # ( _, _ )\n",
    "\n",
    "sales15.plot(kind='scatter', x='Q1TotalSales', y='TotalSales', ax=axs[0], figsize=(16, 8), color='orange')\n",
    "sales15.plot(kind='scatter', x='Average Margin', y='TotalSales', ax=axs[1], color='w')\n",
    "sales15.plot(kind='scatter', x='Average Sales', y='TotalSales', ax=axs[2],color='navy')"
   ]
  },
  {
   "cell_type": "code",
   "execution_count": 625,
   "metadata": {
    "collapsed": false
   },
   "outputs": [
    {
     "data": {
      "text/html": [
       "<table class=\"simpletable\">\n",
       "<caption>OLS Regression Results</caption>\n",
       "<tr>\n",
       "  <th>Dep. Variable:</th>       <td>TotalSales</td>    <th>  R-squared:         </th> <td>   0.963</td> \n",
       "</tr>\n",
       "<tr>\n",
       "  <th>Model:</th>                   <td>OLS</td>       <th>  Adj. R-squared:    </th> <td>   0.963</td> \n",
       "</tr>\n",
       "<tr>\n",
       "  <th>Method:</th>             <td>Least Squares</td>  <th>  F-statistic:       </th> <td>3.300e+04</td>\n",
       "</tr>\n",
       "<tr>\n",
       "  <th>Date:</th>             <td>Thu, 23 Jun 2016</td> <th>  Prob (F-statistic):</th>  <td>  0.00</td>  \n",
       "</tr>\n",
       "<tr>\n",
       "  <th>Time:</th>                 <td>16:36:26</td>     <th>  Log-Likelihood:    </th> <td> -13418.</td> \n",
       "</tr>\n",
       "<tr>\n",
       "  <th>No. Observations:</th>      <td>  1261</td>      <th>  AIC:               </th> <td>2.684e+04</td>\n",
       "</tr>\n",
       "<tr>\n",
       "  <th>Df Residuals:</th>          <td>  1259</td>      <th>  BIC:               </th> <td>2.685e+04</td>\n",
       "</tr>\n",
       "<tr>\n",
       "  <th>Df Model:</th>              <td>     1</td>      <th>                     </th>     <td> </td>    \n",
       "</tr>\n",
       "<tr>\n",
       "  <th>Covariance Type:</th>      <td>nonrobust</td>    <th>                     </th>     <td> </td>    \n",
       "</tr>\n",
       "</table>\n",
       "<table class=\"simpletable\">\n",
       "<tr>\n",
       "        <td></td>          <th>coef</th>     <th>std err</th>      <th>t</th>      <th>P>|t|</th> <th>[95.0% Conf. Int.]</th> \n",
       "</tr>\n",
       "<tr>\n",
       "  <th>Intercept</th>    <td>  279.7219</td> <td>  309.252</td> <td>    0.905</td> <td> 0.366</td> <td> -326.984   886.428</td>\n",
       "</tr>\n",
       "<tr>\n",
       "  <th>Q1TotalSales</th> <td>    4.4710</td> <td>    0.025</td> <td>  181.670</td> <td> 0.000</td> <td>    4.423     4.519</td>\n",
       "</tr>\n",
       "</table>\n",
       "<table class=\"simpletable\">\n",
       "<tr>\n",
       "  <th>Omnibus:</th>       <td>608.483</td> <th>  Durbin-Watson:     </th> <td>   1.911</td> \n",
       "</tr>\n",
       "<tr>\n",
       "  <th>Prob(Omnibus):</th> <td> 0.000</td>  <th>  Jarque-Bera (JB):  </th> <td>36456.060</td>\n",
       "</tr>\n",
       "<tr>\n",
       "  <th>Skew:</th>          <td> 1.420</td>  <th>  Prob(JB):          </th> <td>    0.00</td> \n",
       "</tr>\n",
       "<tr>\n",
       "  <th>Kurtosis:</th>      <td>29.188</td>  <th>  Cond. No.          </th> <td>1.36e+04</td> \n",
       "</tr>\n",
       "</table>"
      ],
      "text/plain": [
       "<class 'statsmodels.iolib.summary.Summary'>\n",
       "\"\"\"\n",
       "                            OLS Regression Results                            \n",
       "==============================================================================\n",
       "Dep. Variable:             TotalSales   R-squared:                       0.963\n",
       "Model:                            OLS   Adj. R-squared:                  0.963\n",
       "Method:                 Least Squares   F-statistic:                 3.300e+04\n",
       "Date:                Thu, 23 Jun 2016   Prob (F-statistic):               0.00\n",
       "Time:                        16:36:26   Log-Likelihood:                -13418.\n",
       "No. Observations:                1261   AIC:                         2.684e+04\n",
       "Df Residuals:                    1259   BIC:                         2.685e+04\n",
       "Df Model:                           1                                         \n",
       "Covariance Type:            nonrobust                                         \n",
       "================================================================================\n",
       "                   coef    std err          t      P>|t|      [95.0% Conf. Int.]\n",
       "--------------------------------------------------------------------------------\n",
       "Intercept      279.7219    309.252      0.905      0.366      -326.984   886.428\n",
       "Q1TotalSales     4.4710      0.025    181.670      0.000         4.423     4.519\n",
       "==============================================================================\n",
       "Omnibus:                      608.483   Durbin-Watson:                   1.911\n",
       "Prob(Omnibus):                  0.000   Jarque-Bera (JB):            36456.060\n",
       "Skew:                           1.420   Prob(JB):                         0.00\n",
       "Kurtosis:                      29.188   Cond. No.                     1.36e+04\n",
       "==============================================================================\n",
       "\n",
       "Warnings:\n",
       "[1] Standard Errors assume that the covariance matrix of the errors is correctly specified.\n",
       "[2] The condition number is large, 1.36e+04. This might indicate that there are\n",
       "strong multicollinearity or other numerical problems.\n",
       "\"\"\""
      ]
     },
     "execution_count": 625,
     "metadata": {},
     "output_type": "execute_result"
    }
   ],
   "source": [
    "import statsmodels.formula.api as smf\n",
    "\n",
    "model = smf.ols(formula=\"TotalSales ~ Q1TotalSales\", data=sales15)\n",
    "\n",
    "fit = model.fit_regularized()\n",
    "\n",
    "predictions = fit.predict(sales15[['Q1TotalSales']])\n",
    "\n",
    "fit.summary()\n",
    "\n",
    "#lm.summary()\n",
    "\n",
    "#Prob (F-stat) is the p-value for the model as a whole?"
   ]
  },
  {
   "cell_type": "code",
   "execution_count": 626,
   "metadata": {
    "collapsed": false
   },
   "outputs": [
    {
     "data": {
      "text/plain": [
       "[<matplotlib.lines.Line2D at 0x140b2fbd0>]"
      ]
     },
     "execution_count": 626,
     "metadata": {},
     "output_type": "execute_result"
    },
    {
     "data": {
      "image/png": "[encoded data removed]",
      "text/plain": [
       "<matplotlib.figure.Figure at 0x137b5e3d0>"
      ]
     },
     "metadata": {},
     "output_type": "display_data"
    }
   ],
   "source": [
    "plt.scatter(sales15['Q1TotalSales'], sales15['TotalSales'])\n",
    "plt.plot(sales15['Q1TotalSales'],predictions)"
   ]
  },
  {
   "cell_type": "code",
   "execution_count": null,
   "metadata": {
    "collapsed": true
   },
   "outputs": [],
   "source": []
  }
 ],
 "metadata": {
  "kernelspec": {
   "display_name": "Python 2",
   "language": "python",
   "name": "python2"
  },
  "language_info": {
   "codemirror_mode": {
    "name": "ipython",
    "version": 2
   },
   "file_extension": ".py",
   "mimetype": "text/x-python",
   "name": "python",
   "nbconvert_exporter": "python",
   "pygments_lexer": "ipython2",
   "version": "2.7.11"
  }
 },
 "nbformat": 4,
 "nbformat_minor": 0
}
