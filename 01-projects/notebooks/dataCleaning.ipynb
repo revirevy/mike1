{
 "cells": [
  {
   "cell_type": "code",
   "execution_count": 201,
   "metadata": {
    "collapsed": false
   },
   "outputs": [],
   "source": [
    "import pandas as pd\n",
    "from io import StringIO\n",
    "import requests\n",
    "from sas7bdat import *\n",
    "\n",
    "import sqlalchemy\n",
    "from sqlalchemy import create_engine\n",
    "from sqlalchemy import databases"
   ]
  },
  {
   "cell_type": "code",
   "execution_count": 202,
   "metadata": {
    "collapsed": true
   },
   "outputs": [],
   "source": [
    "df2 = pd.ExcelFile(\"../assets/capstone-assets/CCRPI/2012 Content Mastery By Subgroups for Public Release.xls\")"
   ]
  },
  {
   "cell_type": "code",
   "execution_count": 203,
   "metadata": {
    "collapsed": false
   },
   "outputs": [
    {
     "data": {
      "text/plain": [
       "[u'Appling - Glynn',\n",
       " u'Glynn - Carrollton City',\n",
       " u'Carrollton City - State Schools']"
      ]
     },
     "execution_count": 203,
     "metadata": {},
     "output_type": "execute_result"
    }
   ],
   "source": [
    "df2.sheet_names"
   ]
  },
  {
   "cell_type": "code",
   "execution_count": 204,
   "metadata": {
    "collapsed": true
   },
   "outputs": [],
   "source": [
    "counties1 = df2.parse('Appling - Glynn')"
   ]
  },
  {
   "cell_type": "code",
   "execution_count": 205,
   "metadata": {
    "collapsed": true
   },
   "outputs": [],
   "source": [
    "counties2 = df2.parse('Glynn - Carrollton City')\n",
    "counties3 = df2.parse('Carrollton City - State Schools')"
   ]
  },
  {
   "cell_type": "code",
   "execution_count": 206,
   "metadata": {
    "collapsed": false
   },
   "outputs": [
    {
     "data": {
      "text/plain": [
       "Index([u'SCHOOL YEAR', u'SYSTEM ID', u'SYSTEM NAME', u'SCHOOL ID',\n",
       "       u'SCHOOL NAME', u'GRADE CLUSTER', u'REPORTING CATEGORY',\n",
       "       u'ASSESSMENT TYPE', u'ASSESSMENT SUBJECT', u'PARTICIPATION RATE',\n",
       "       u'MEETS & EXCEEDS RATE'],\n",
       "      dtype='object')"
      ]
     },
     "execution_count": 206,
     "metadata": {},
     "output_type": "execute_result"
    }
   ],
   "source": [
    "counties1.columns"
   ]
  },
  {
   "cell_type": "code",
   "execution_count": 207,
   "metadata": {
    "collapsed": false
   },
   "outputs": [],
   "source": [
    "contentMastery12 = pd.concat([counties1, counties2], axis=0)"
   ]
  },
  {
   "cell_type": "code",
   "execution_count": 208,
   "metadata": {
    "collapsed": false
   },
   "outputs": [],
   "source": [
    "contentMastery12.reset_index(inplace=True)"
   ]
  },
  {
   "cell_type": "code",
   "execution_count": 209,
   "metadata": {
    "collapsed": false
   },
   "outputs": [
    {
     "data": {
      "text/plain": [
       "(129998, 12)"
      ]
     },
     "execution_count": 209,
     "metadata": {},
     "output_type": "execute_result"
    }
   ],
   "source": [
    "contentMastery12.shape"
   ]
  },
  {
   "cell_type": "code",
   "execution_count": 210,
   "metadata": {
    "collapsed": false
   },
   "outputs": [
    {
     "data": {
      "text/plain": [
       "(8002, 11)"
      ]
     },
     "execution_count": 210,
     "metadata": {},
     "output_type": "execute_result"
    }
   ],
   "source": [
    "counties3.shape"
   ]
  },
  {
   "cell_type": "code",
   "execution_count": 211,
   "metadata": {
    "collapsed": false
   },
   "outputs": [],
   "source": [
    "contentMastery12 = pd.concat([contentMastery12, counties3], axis=0)"
   ]
  },
  {
   "cell_type": "code",
   "execution_count": 212,
   "metadata": {
    "collapsed": false
   },
   "outputs": [],
   "source": [
    "contentMastery12.reset_index(inplace=True)"
   ]
  },
  {
   "cell_type": "code",
   "execution_count": 213,
   "metadata": {
    "collapsed": true
   },
   "outputs": [],
   "source": [
    "#drop columns I won't use in this dataframe\n",
    "contentMastery12.drop(['level_0', 'index'], axis=1, inplace=True)"
   ]
  },
  {
   "cell_type": "code",
   "execution_count": 214,
   "metadata": {
    "collapsed": false
   },
   "outputs": [
    {
     "data": {
      "text/plain": [
       "Index([u'ASSESSMENT SUBJECT', u'ASSESSMENT TYPE', u'GRADE CLUSTER',\n",
       "       u'MEETS & EXCEEDS RATE', u'PARTICIPATION RATE', u'REPORTING CATEGORY',\n",
       "       u'SCHOOL ID', u'SCHOOL NAME', u'SCHOOL YEAR', u'SYSTEM ID',\n",
       "       u'SYSTEM NAME'],\n",
       "      dtype='object')"
      ]
     },
     "execution_count": 214,
     "metadata": {},
     "output_type": "execute_result"
    }
   ],
   "source": [
    "contentMastery12.columns"
   ]
  },
  {
   "cell_type": "code",
   "execution_count": 215,
   "metadata": {
    "collapsed": true
   },
   "outputs": [],
   "source": [
    "#I also want them in a certain order to make the dataframe more readable\n",
    "contentMastery12 = contentMastery12[['SCHOOL YEAR','SYSTEM ID','SYSTEM NAME','SCHOOL ID','SCHOOL NAME',\n",
    "                'GRADE CLUSTER', 'REPORTING CATEGORY', 'ASSESSMENT TYPE', 'ASSESSMENT SUBJECT',\n",
    "                'PARTICIPATION RATE', 'MEETS & EXCEEDS RATE']]"
   ]
  },
  {
   "cell_type": "code",
   "execution_count": 216,
   "metadata": {
    "collapsed": true
   },
   "outputs": [],
   "source": [
    "#clean column names\n",
    "contentMastery12.rename(columns={'SCHOOL YEAR'         : 'year',\n",
    "                                 'SYSTEM ID'           : 'sysID',\n",
    "                                 'SYSTEM NAME'         : 'sysName',\n",
    "                                 'SCHOOL ID'           : 'schoolID',\n",
    "                                 'SCHOOL NAME'         : 'schoolName',\n",
    "                                 'GRADE CLUSTER'       : 'grd',\n",
    "                                 'REPORTING CATEGORY'  : 'demCat',\n",
    "                                 'ASSESSMENT TYPE'     : 'assessType',\n",
    "                                 'ASSESSMENT SUBJECT'  : 'assessSub',\n",
    "                                 'PARTICIPATION RATE'  : 'partRt',\n",
    "                                 'MEETS & EXCEEDS RATE': 'MtExcdRt'}, inplace=True)"
   ]
  },
  {
   "cell_type": "code",
   "execution_count": 217,
   "metadata": {
    "collapsed": false
   },
   "outputs": [
    {
     "data": {
      "text/html": [
       "<div>\n",
       "<table border=\"1\" class=\"dataframe\">\n",
       "  <thead>\n",
       "    <tr style=\"text-align: right;\">\n",
       "      <th></th>\n",
       "      <th>year</th>\n",
       "      <th>sysID</th>\n",
       "      <th>sysName</th>\n",
       "      <th>schoolID</th>\n",
       "      <th>schoolName</th>\n",
       "      <th>grd</th>\n",
       "      <th>demCat</th>\n",
       "      <th>assessType</th>\n",
       "      <th>assessSub</th>\n",
       "      <th>partRt</th>\n",
       "      <th>MtExcdRt</th>\n",
       "    </tr>\n",
       "  </thead>\n",
       "  <tbody>\n",
       "    <tr>\n",
       "      <th>0</th>\n",
       "      <td>2012</td>\n",
       "      <td>601</td>\n",
       "      <td>Appling County</td>\n",
       "      <td>103</td>\n",
       "      <td>Appling County High School</td>\n",
       "      <td>H</td>\n",
       "      <td>ALL Students</td>\n",
       "      <td>EOCT</td>\n",
       "      <td>9th Grade Literature and Composition</td>\n",
       "      <td>99.7</td>\n",
       "      <td>83</td>\n",
       "    </tr>\n",
       "    <tr>\n",
       "      <th>1</th>\n",
       "      <td>2012</td>\n",
       "      <td>601</td>\n",
       "      <td>Appling County</td>\n",
       "      <td>103</td>\n",
       "      <td>Appling County High School</td>\n",
       "      <td>H</td>\n",
       "      <td>Asian/Pacific Islander</td>\n",
       "      <td>EOCT</td>\n",
       "      <td>9th Grade Literature and Composition</td>\n",
       "      <td>Too Few Students</td>\n",
       "      <td>Too Few Students</td>\n",
       "    </tr>\n",
       "    <tr>\n",
       "      <th>2</th>\n",
       "      <td>2012</td>\n",
       "      <td>601</td>\n",
       "      <td>Appling County</td>\n",
       "      <td>103</td>\n",
       "      <td>Appling County High School</td>\n",
       "      <td>H</td>\n",
       "      <td>Black</td>\n",
       "      <td>EOCT</td>\n",
       "      <td>9th Grade Literature and Composition</td>\n",
       "      <td>100</td>\n",
       "      <td>75</td>\n",
       "    </tr>\n",
       "    <tr>\n",
       "      <th>3</th>\n",
       "      <td>2012</td>\n",
       "      <td>601</td>\n",
       "      <td>Appling County</td>\n",
       "      <td>103</td>\n",
       "      <td>Appling County High School</td>\n",
       "      <td>H</td>\n",
       "      <td>Hispanic</td>\n",
       "      <td>EOCT</td>\n",
       "      <td>9th Grade Literature and Composition</td>\n",
       "      <td>100</td>\n",
       "      <td>80.8</td>\n",
       "    </tr>\n",
       "    <tr>\n",
       "      <th>4</th>\n",
       "      <td>2012</td>\n",
       "      <td>601</td>\n",
       "      <td>Appling County</td>\n",
       "      <td>103</td>\n",
       "      <td>Appling County High School</td>\n",
       "      <td>H</td>\n",
       "      <td>American Indian/Alaskan</td>\n",
       "      <td>EOCT</td>\n",
       "      <td>9th Grade Literature and Composition</td>\n",
       "      <td>No Data</td>\n",
       "      <td>No Data</td>\n",
       "    </tr>\n",
       "  </tbody>\n",
       "</table>\n",
       "</div>"
      ],
      "text/plain": [
       "   year  sysID         sysName  schoolID                  schoolName grd  \\\n",
       "0  2012    601  Appling County       103  Appling County High School   H   \n",
       "1  2012    601  Appling County       103  Appling County High School   H   \n",
       "2  2012    601  Appling County       103  Appling County High School   H   \n",
       "3  2012    601  Appling County       103  Appling County High School   H   \n",
       "4  2012    601  Appling County       103  Appling County High School   H   \n",
       "\n",
       "                    demCat assessType                             assessSub  \\\n",
       "0             ALL Students       EOCT  9th Grade Literature and Composition   \n",
       "1   Asian/Pacific Islander       EOCT  9th Grade Literature and Composition   \n",
       "2                    Black       EOCT  9th Grade Literature and Composition   \n",
       "3                 Hispanic       EOCT  9th Grade Literature and Composition   \n",
       "4  American Indian/Alaskan       EOCT  9th Grade Literature and Composition   \n",
       "\n",
       "             partRt          MtExcdRt  \n",
       "0              99.7                83  \n",
       "1  Too Few Students  Too Few Students  \n",
       "2               100                75  \n",
       "3               100              80.8  \n",
       "4           No Data           No Data  "
      ]
     },
     "execution_count": 217,
     "metadata": {},
     "output_type": "execute_result"
    }
   ],
   "source": [
    "contentMastery12.head()"
   ]
  },
  {
   "cell_type": "code",
   "execution_count": 218,
   "metadata": {
    "collapsed": true
   },
   "outputs": [],
   "source": [
    "user = \"postgres:GoOrange\"\n",
    "engine = sqlalchemy.create_engine('postgresql://{}{}'.format(user, '@localhost:5432/ccrpi'))\n",
    "contentMastery12.to_sql(\"2012contentMasterySubgroups\", con=engine, if_exists = \"replace\")"
   ]
  },
  {
   "cell_type": "code",
   "execution_count": 219,
   "metadata": {
    "collapsed": true
   },
   "outputs": [],
   "source": [
    "df3 = pd.ExcelFile(\"../assets/capstone-assets/CCRPI/2013 Content Mastery By Subgroups for Public Release.xls\")"
   ]
  },
  {
   "cell_type": "code",
   "execution_count": 220,
   "metadata": {
    "collapsed": false
   },
   "outputs": [
    {
     "data": {
      "text/plain": [
       "[u'Appling to Gordon',\n",
       " u'Gordon - Decatur City',\n",
       " u'Decatur City - State Schools']"
      ]
     },
     "execution_count": 220,
     "metadata": {},
     "output_type": "execute_result"
    }
   ],
   "source": [
    "df3.sheet_names"
   ]
  },
  {
   "cell_type": "code",
   "execution_count": 221,
   "metadata": {
    "collapsed": true
   },
   "outputs": [],
   "source": [
    "counties1 = df3.parse('Appling to Gordon')\n",
    "counties2 = df3.parse('Gordon - Decatur City')\n",
    "counties3 = df3.parse('Decatur City - State Schools')"
   ]
  },
  {
   "cell_type": "code",
   "execution_count": 222,
   "metadata": {
    "collapsed": true
   },
   "outputs": [],
   "source": [
    "contentMastery13 = pd.concat([counties1, counties2], axis=0)"
   ]
  },
  {
   "cell_type": "code",
   "execution_count": 223,
   "metadata": {
    "collapsed": true
   },
   "outputs": [],
   "source": [
    "contentMastery13.reset_index(inplace=True)"
   ]
  },
  {
   "cell_type": "code",
   "execution_count": 224,
   "metadata": {
    "collapsed": false
   },
   "outputs": [
    {
     "data": {
      "text/plain": [
       "(129998, 12)"
      ]
     },
     "execution_count": 224,
     "metadata": {},
     "output_type": "execute_result"
    }
   ],
   "source": [
    "contentMastery13.shape"
   ]
  },
  {
   "cell_type": "code",
   "execution_count": 225,
   "metadata": {
    "collapsed": true
   },
   "outputs": [],
   "source": [
    "contentMastery13 = pd.concat([contentMastery13, counties3], axis=0)"
   ]
  },
  {
   "cell_type": "code",
   "execution_count": 226,
   "metadata": {
    "collapsed": true
   },
   "outputs": [],
   "source": [
    "contentMastery13.reset_index(inplace=True)"
   ]
  },
  {
   "cell_type": "code",
   "execution_count": 227,
   "metadata": {
    "collapsed": false
   },
   "outputs": [],
   "source": [
    "#drop columns I won't use in this dataframe\n",
    "contentMastery13.drop(['level_0', 'index'], axis=1, inplace=True)"
   ]
  },
  {
   "cell_type": "code",
   "execution_count": 228,
   "metadata": {
    "collapsed": true
   },
   "outputs": [],
   "source": [
    "#I also want them in a certain order to make the dataframe more readable\n",
    "contentMastery13 = contentMastery13[['SCHOOL YEAR','SYSTEM ID','SYSTEM NAME','SCHOOL ID','SCHOOL NAME',\n",
    "                'GRADE CLUSTER', 'REPORTING CATEGORY', 'ASSESSMENT TYPE', 'ASSESSMENT SUBJECT',\n",
    "                'PARTICIPATION RATE', 'MEETS & EXCEEDS RATE']]"
   ]
  },
  {
   "cell_type": "code",
   "execution_count": 229,
   "metadata": {
    "collapsed": true
   },
   "outputs": [],
   "source": [
    "#clean column names\n",
    "contentMastery13.rename(columns={'SCHOOL YEAR'         : 'year',\n",
    "                                 'SYSTEM ID'           : 'sysID',\n",
    "                                 'SYSTEM NAME'         : 'sysName',\n",
    "                                 'SCHOOL ID'           : 'schoolID',\n",
    "                                 'SCHOOL NAME'         : 'schoolName',\n",
    "                                 'GRADE CLUSTER'       : 'grd',\n",
    "                                 'REPORTING CATEGORY'  : 'demCat',\n",
    "                                 'ASSESSMENT TYPE'     : 'assessType',\n",
    "                                 'ASSESSMENT SUBJECT'  : 'assessSub',\n",
    "                                 'PARTICIPATION RATE'  : 'partRt',\n",
    "                                 'MEETS & EXCEEDS RATE': 'MtExcdRt'}, inplace=True)"
   ]
  },
  {
   "cell_type": "code",
   "execution_count": 235,
   "metadata": {
    "collapsed": true
   },
   "outputs": [],
   "source": [
    "contentMastery13.to_sql(\"2013contentMasterySubgroups\", con=engine, if_exists = \"replace\")"
   ]
  },
  {
   "cell_type": "code",
   "execution_count": 236,
   "metadata": {
    "collapsed": true
   },
   "outputs": [],
   "source": [
    "#2014 doesn't have separate sheets in a workbook, so no need for the parsing steps above.\n",
    "#Just read it in to a single dataframe and skip to the cleaning step\n",
    "contentMastery14 = pd.read_excel(\"../assets/capstone-assets/CCRPI/2014 Content Mastery By Subgroup Ammended (2) for Web Page.xlsx\")"
   ]
  },
  {
   "cell_type": "code",
   "execution_count": 237,
   "metadata": {
    "collapsed": true
   },
   "outputs": [],
   "source": [
    "#clean column names\n",
    "contentMastery13.rename(columns={'School Year'         : 'year',\n",
    "                                 'System ID'           : 'sysID',\n",
    "                                 'System Name'         : 'sysName',\n",
    "                                 'School ID'           : 'schoolID',\n",
    "                                 'School Name'         : 'schoolName',\n",
    "                                 'Grade Cluster'       : 'grd',\n",
    "                                 'Reporting Category'  : 'demCat',\n",
    "                                 'Assessment Type'     : 'assessType',\n",
    "                                 'Assessment Subject'  : 'assessSub',\n",
    "                                 'Participation Rate'  : 'partRt',\n",
    "                                 'Meets Exceeds Rate': 'MtExcdRt'}, inplace=True)"
   ]
  },
  {
   "cell_type": "code",
   "execution_count": 238,
   "metadata": {
    "collapsed": false
   },
   "outputs": [],
   "source": [
    "contentMastery14.to_sql(\"2014contentMasterySubgroups\", con=engine, if_exists = \"replace\")"
   ]
  },
  {
   "cell_type": "code",
   "execution_count": 239,
   "metadata": {
    "collapsed": true
   },
   "outputs": [],
   "source": [
    "#2015 goes back to multiple sheets, so back to the tedious clean\n",
    "df4 = pd.ExcelFile(\"../assets/capstone-assets/CCRPI/2015 Content Mastery By Subgroups 05.03.16.xlsx\")"
   ]
  },
  {
   "cell_type": "code",
   "execution_count": 240,
   "metadata": {
    "collapsed": true
   },
   "outputs": [],
   "source": [
    "counties1 = df4.parse('Appling - Gordon')\n",
    "counties2 = df4.parse('Gordon - Atlanta')\n",
    "counties3 = df4.parse('Atlanta - RTC')"
   ]
  },
  {
   "cell_type": "code",
   "execution_count": 241,
   "metadata": {
    "collapsed": true
   },
   "outputs": [],
   "source": [
    "contentMastery15 = pd.concat([counties1, counties2], axis=0)"
   ]
  },
  {
   "cell_type": "code",
   "execution_count": 242,
   "metadata": {
    "collapsed": true
   },
   "outputs": [],
   "source": [
    "contentMastery15 = pd.concat([contentMastery15, counties3], axis=0)"
   ]
  },
  {
   "cell_type": "code",
   "execution_count": 243,
   "metadata": {
    "collapsed": true
   },
   "outputs": [],
   "source": [
    "contentMastery15.reset_index(inplace=True)"
   ]
  },
  {
   "cell_type": "code",
   "execution_count": 244,
   "metadata": {
    "collapsed": false
   },
   "outputs": [
    {
     "data": {
      "text/plain": [
       "Index([             u'index',        u'School Year',          u'System Id',\n",
       "              u'System Name',          u'School Id',        u'School Name',\n",
       "            u'Grade Cluster', u'Reporting Category',    u'Assessment Type',\n",
       "       u'Assessment Subject', u'Participation Rate',   u'Proficiency Rate'],\n",
       "      dtype='object')"
      ]
     },
     "execution_count": 244,
     "metadata": {},
     "output_type": "execute_result"
    }
   ],
   "source": [
    "contentMastery15.columns"
   ]
  },
  {
   "cell_type": "code",
   "execution_count": 247,
   "metadata": {
    "collapsed": false
   },
   "outputs": [],
   "source": [
    "#drop columns I won't use in this dataframe\n",
    "contentMastery15.drop(['index'], axis=1, inplace=True)"
   ]
  },
  {
   "cell_type": "code",
   "execution_count": 248,
   "metadata": {
    "collapsed": false
   },
   "outputs": [],
   "source": [
    "#I also want them in a certain order to make the dataframe more readable\n",
    "contentMastery15 = contentMastery15[['School Year','System Id','System Name','School Id','School Name',\n",
    "                'Grade Cluster', 'Reporting Category', 'Assessment Type', 'Assessment Subject',\n",
    "                'Participation Rate', 'Proficiency Rate']]"
   ]
  },
  {
   "cell_type": "code",
   "execution_count": 249,
   "metadata": {
    "collapsed": true
   },
   "outputs": [],
   "source": [
    "#clean column names\n",
    "contentMastery15.rename(columns={'School Year'         : 'year',\n",
    "                                 'System Id'           : 'sysID',\n",
    "                                 'System Name'         : 'sysName',\n",
    "                                 'School Id'           : 'schoolID',\n",
    "                                 'School Name'         : 'schoolName',\n",
    "                                 'Grade Cluster'       : 'grd',\n",
    "                                 'Reporting Category'  : 'demCat',\n",
    "                                 'Assessment Type'     : 'assessType',\n",
    "                                 'Assessment Subject'  : 'assessSub',\n",
    "                                 'Participation Rate'  : 'partRt',\n",
    "                                 'Proficiency Rate'    : 'MtExcdRt'}, inplace=True)"
   ]
  },
  {
   "cell_type": "code",
   "execution_count": 250,
   "metadata": {
    "collapsed": true
   },
   "outputs": [],
   "source": [
    "contentMastery15.to_sql(\"2015contentMasterySubgroups\", con=engine, if_exists = \"replace\")"
   ]
  },
  {
   "cell_type": "code",
   "execution_count": 251,
   "metadata": {
    "collapsed": true
   },
   "outputs": [],
   "source": [
    "#Now let's pull in the indicator tables\n",
    "indicators12 = pd.read_excel(\"../assets/capstone-assets/CCRPI/2012 Indicator Rates for Public Release.xls\")\n",
    "indicators13 = pd.read_excel(\"../assets/capstone-assets/CCRPI/2013 Indicator Rates for Public Release.xls\")\n",
    "indicators14 = pd.read_excel(\"../assets/capstone-assets/CCRPI/2014 Indicator Score Ammended for Web Page.xlsx\")\n",
    "indicators15 = pd.read_excel(\"../assets/capstone-assets/CCRPI/2015 CCRPI Indicator Score 07.14.16.xlsx\")"
   ]
  },
  {
   "cell_type": "code",
   "execution_count": 252,
   "metadata": {
    "collapsed": true
   },
   "outputs": [],
   "source": [
    "# norm naming conventions across all dataframes\n",
    "#clean column names\n",
    "indicators12.rename(columns={'SCHOOL YEAR'                : 'year',\n",
    "                             'SYSTEM ID'                  : 'sysID',\n",
    "                             'SYSTEM NAME'                : 'sysName',\n",
    "                             'SCHOOL ID'                  : 'schoolID',\n",
    "                             'SCHOOL NAME'                : 'schoolName',\n",
    "                             'INDICATOR ID'               : 'indID',\n",
    "                             'GRADE CLUSTER'              : 'grd',\n",
    "                             'INDICATOR DESCRIPTION'      : 'indDesc',\n",
    "                             'PERFORMANCE RATE'           : 'perfRt',\n",
    "                             'POINTS EARNED ON INDICATOR' : 'ptsFrmInd'}, inplace=True)\n",
    "\n",
    "indicators13.rename(columns={'SCHOOL YEAR'                   : 'year',\n",
    "                             'SYSTEM ID'                     : 'sysID',\n",
    "                             'SYSTEM NAME'                   : 'sysName',\n",
    "                             'SCHOOL ID'                     : 'schoolID',\n",
    "                             'SCHOOL NAME'                   : 'schoolName',\n",
    "                             'INDICATOR ID'                  : 'indID',\n",
    "                             'GRADE CLUSTER DESCRIPTION'     : 'grd',\n",
    "                             'PERFORMANCE INDEX DESCRIPTION' : 'indDesc',\n",
    "                             'PERFORMANCE'                   : 'perfRt',\n",
    "                             'POINTS EARNED ON INDICATOR'    : 'ptsFrmInd'}, inplace=True)\n",
    "\n",
    "indicators14.rename(columns={'School Year'                       : 'year',\n",
    "                             'System ID'                         : 'sysID',\n",
    "                             'System Name'                       : 'sysName',\n",
    "                             'School ID'                         : 'schoolID',\n",
    "                             'School Name'                       : 'schoolName',\n",
    "                             'Indicator ID'                      : 'indID',\n",
    "                             'Grade Cluster '                    : 'grd',\n",
    "                             'Performance Index Description'     : 'indDesc',\n",
    "                             'Performance'                       : 'perfRt',\n",
    "                             'Points Earned on Indicator'        : 'ptsFrmInd'}, inplace=True)\n",
    "\n",
    "indicators15.rename(columns={'School Year'                       : 'year',\n",
    "                             'System ID'                         : 'sysID',\n",
    "                             'System Name'                       : 'sysName',\n",
    "                             'School ID'                         : 'schoolID',\n",
    "                             'School Name'                       : 'schoolName',\n",
    "                             'Indicator ID'                      : 'indID',\n",
    "                             'Grade Cluster '                    : 'grd',\n",
    "                             'Performance Index Description'     : 'indDesc',\n",
    "                             'Performance'                       : 'perfRt',\n",
    "                             'Points Earned on Indicator'        : 'ptsFrmInd'}, inplace=True)"
   ]
  },
  {
   "cell_type": "code",
   "execution_count": 253,
   "metadata": {
    "collapsed": true
   },
   "outputs": [],
   "source": [
    "indicators12.to_sql(\"ccrpiIndicators12\", con=engine, if_exists = \"replace\")\n",
    "indicators13.to_sql(\"ccrpiIndicators13\", con=engine, if_exists = \"replace\")\n",
    "indicators14.to_sql(\"ccrpiIndicators14\", con=engine, if_exists = \"replace\")\n",
    "indicators15.to_sql(\"ccrpiIndicators15\", con=engine, if_exists = \"replace\")"
   ]
  },
  {
   "cell_type": "code",
   "execution_count": 254,
   "metadata": {
    "collapsed": true
   },
   "outputs": [],
   "source": [
    "#Finally, repeat process for Component Score Tables\n",
    "componentScores12 = pd.read_excel(\"../assets/capstone-assets/CCRPI/2012 Scoring By Component for Public Release.xls\")\n",
    "componentScores13 = pd.read_excel(\"../assets/capstone-assets/CCRPI/2013 Scoring By Component for Public Release v2.xls\")\n",
    "componentScores14 = pd.read_excel(\"../assets/capstone-assets/CCRPI/2014 CCRPI Scoring by Component.03.10.2016.xls\")\n",
    "componentScores15 = pd.read_excel(\"../assets/capstone-assets/CCRPI/2015 CCRPI Scoring By Component 07.14.16.xlsx\")"
   ]
  },
  {
   "cell_type": "code",
   "execution_count": 255,
   "metadata": {
    "collapsed": true
   },
   "outputs": [],
   "source": [
    "componentScores12.rename(columns={'SCHOOL YEAR'                : 'year',\n",
    "                                  'SYSTEM ID'                  : 'sysID',\n",
    "                                  'SYSTEM NAME'                : 'sysName',\n",
    "                                  'SCHOOL ID'                  : 'schoolID',\n",
    "                                  'SCHOOL NAME'                : 'schoolName',\n",
    "                                  'GRADE CLUSTER'              : 'grd',\n",
    "                                  'ACHIEVEMENT POINTS'         : 'achvmntPts',\n",
    "                                  'PROGRESS POINTS'            : 'prgPts',\n",
    "                                  'ACHIEVEMENT GAP POINTS'     : 'achvmntGapPts',\n",
    "                                  'ED/EL/SWD PERFORMANCE'      : 'disStdntPerf',\n",
    "                                  'ETB POINTS'                 : 'etbPts',\n",
    "                                  'CHALLENGE POINTS'           : 'chlngPts',\n",
    "                                  'CCRPI SCORE'                : 'ccrpi',\n",
    "                                  'SINGLE SCORE'               : 'singScore',}, inplace=True)\n",
    "\n",
    "componentScores13.rename(columns={'SCHOOL YEAR'                : 'year',\n",
    "                                  'SYSTEM ID'                  : 'sysID',\n",
    "                                  'SYSTEM NAME'                : 'sysName',\n",
    "                                  'SCHOOL ID'                  : 'schoolID',\n",
    "                                  'SCHOOL NAME'                : 'schoolName',\n",
    "                                  'GRADE CLUSTER'              : 'grd',\n",
    "                                  'ACHIEVEMENT POINTS'         : 'achvmntPts',\n",
    "                                  'PROGRESS POINTS'            : 'prgPts',\n",
    "                                  'ACHIEVEMENT GAP POINTS'     : 'achvmntGapPts',\n",
    "                                  'ED/EL/SWD PERFORMANCE'      : 'disStdntPerf',\n",
    "                                  'ETB POINTS'                 : 'etbPts',\n",
    "                                  'CHALLENGE POINTS'           : 'chlngPts',\n",
    "                                  'CCRPI SCORE'                : 'ccrpi',\n",
    "                                  'SINGLE SCORE'               : 'singScore',}, inplace=True)\n",
    "\n",
    "componentScores14.rename(columns={'School Year'                : 'year',\n",
    "                                  'System Id'                  : 'sysID',\n",
    "                                  'System Name'                : 'sysName',\n",
    "                                  'School Id'                  : 'schoolID',\n",
    "                                  'School Name'                : 'schoolName',\n",
    "                                  'Grade Configuration'        : 'grdConfig',\n",
    "                                  'Grade Cluster'              : 'grd',\n",
    "                                  'Achievement Points'         : 'achvmntPts',\n",
    "                                  'Progress Points'            : 'prgPts',\n",
    "                                  'Achievement Gap Points'     : 'achvmntGapPts',\n",
    "                                  'ED/EL/SWD Performance'      : 'disStdntPerf',\n",
    "                                  'ETB Points'                 : 'etbPts',\n",
    "                                  'Challenge Points'           : 'chlngPts',\n",
    "                                  'CCRPI Score'                : 'ccrpi',\n",
    "                                  'Single Score'               : 'singScore',}, inplace=True)\n",
    "\n",
    "componentScores15.rename(columns={'School Year'                : 'year',\n",
    "                                  'System Id'                  : 'sysID',\n",
    "                                  'System Name'                : 'sysName',\n",
    "                                  'School Id'                  : 'schoolID',\n",
    "                                  'School Name'                : 'schoolName',\n",
    "                                  'Grade Configuration'        : 'grdConfig',\n",
    "                                  'Grade Cluster'              : 'grd',\n",
    "                                  'Achievement Points'         : 'achvmntPts',\n",
    "                                  'Progress Points'            : 'prgPts',\n",
    "                                  'Achievement Gap Points'     : 'achvmntGapPts',\n",
    "                                  'ED/EL/SWD Performance'      : 'disStdntPerf',\n",
    "                                  'ETB Points'                 : 'etbPts',\n",
    "                                  'Challenge Points'           : 'chlngPts',\n",
    "                                  'CCRPI Score'                : 'ccrpi',\n",
    "                                  'Single Score'               : 'singScore',}, inplace=True)"
   ]
  },
  {
   "cell_type": "code",
   "execution_count": 256,
   "metadata": {
    "collapsed": true
   },
   "outputs": [],
   "source": [
    "componentScores12.to_sql(\"componentScores12\", con=engine, if_exists = \"replace\")\n",
    "componentScores13.to_sql(\"componentScores13\", con=engine, if_exists = \"replace\")\n",
    "componentScores14.to_sql(\"componentScores14\", con=engine, if_exists = \"replace\")\n",
    "componentScores15.to_sql(\"componentScores15\", con=engine, if_exists = \"replace\")"
   ]
  },
  {
   "cell_type": "code",
   "execution_count": 257,
   "metadata": {
    "collapsed": true
   },
   "outputs": [],
   "source": [
    "url = 'https://gosa.georgia.gov/sites/gosa.georgia.gov/files/related_files/site_page/Revenues_and_Expenditures_2015_Mar292016.csv'\n",
    "a=requests.get(url).text\n",
    "\n",
    "schoolExpenses15=pd.read_csv(StringIO(a), low_memory=False)\n",
    "\n",
    "url2 = 'http://gosa.georgia.gov/sites/gosa.georgia.gov/files/related_files/site_page/Revenues_and_Expenditures_2014_Jan_15th_2015.csv'\n",
    "b=requests.get(url2).text\n",
    "\n",
    "schoolExpenses14=pd.read_csv(StringIO(b), low_memory=False)\n",
    "\n",
    "url3 = 'https://gosa.georgia.gov/sites/gosa.georgia.gov/files/related_files/site_page/Revenues_and_Expenditures_2013_Jan_15th_2015.csv'\n",
    "c=requests.get(url3).text\n",
    "\n",
    "schoolExpenses13=pd.read_csv(StringIO(c), low_memory=False)\n",
    "\n",
    "url4 = 'https://gosa.georgia.gov/sites/gosa.georgia.gov/files/related_files/site_page/Revenues_and_Expenditures_2012_Jan_15th_2015.csv'\n",
    "d=requests.get(url4).text\n",
    "\n",
    "schoolExpenses12=pd.read_csv(StringIO(d), low_memory=False)"
   ]
  },
  {
   "cell_type": "code",
   "execution_count": 266,
   "metadata": {
    "collapsed": false
   },
   "outputs": [],
   "source": [
    "schoolExpenses15.rename(columns={'SCHOOL_YEAR'           : 'year',\n",
    "                                 'DISTRICT_CODE'         : 'sysID',\n",
    "                                 'DISTRICT_NAME'         : 'sysName',\n",
    "                                 'SCHOOL_CODE'           : 'schoolID',\n",
    "                                 'SCHOOL_NAME'           : 'schoolName',\n",
    "                                 'Revenues/Expenditures' : 'revExp', \n",
    "                                 'Description'           : 'descr',\n",
    "                                 'REV_EXP_VALUE'         : 'revExpVal',\n",
    "                                 'Dollars per FTE'       : 'expPerStudent'}, inplace=True)\n",
    "\n",
    "schoolExpenses14.rename(columns={'SCHOOL_YEAR'           : 'year',\n",
    "                                 'DISTRICT_CODE'         : 'sysID',\n",
    "                                 'DISTRICT_NAME'         : 'sysName',\n",
    "                                 'SCHOOL_CODE'           : 'schoolID',\n",
    "                                 'SCHOOL_NAME'           : 'schoolName',\n",
    "                                 'Revenues/Expenditures' : 'revExp', \n",
    "                                 'Description'           : 'descr',\n",
    "                                 'REV_EXP_VALUE'         : 'revExpVal',\n",
    "                                 'Dollars per FTE'       : 'expPerStudent',\n",
    "                                 'FTE_Count'             : 'totStudents'}, inplace=True)\n",
    "\n",
    "schoolExpenses13.rename(columns={'SCHOOL_YEAR'           : 'year',\n",
    "                                 'DISTRICT_CODE'         : 'sysID',\n",
    "                                 'DISTRICT_NAME'         : 'sysName',\n",
    "                                 'SCHOOL_CODE'           : 'schoolID',\n",
    "                                 'SCHOOL_NAME'           : 'schoolName',\n",
    "                                 'Revenues/Expenditures' : 'revExp', \n",
    "                                 'Description'           : 'descr',\n",
    "                                 'REV_EXP_VALUE'         : 'revExpVal',\n",
    "                                 'Dollars per FTE'       : 'expPerStudent',\n",
    "                                 'FTE_Count'             : 'totStudents'}, inplace=True)\n",
    "\n",
    "schoolExpenses12.rename(columns={'SCHOOL_YEAR'           : 'year',\n",
    "                                 'DISTRICT_CODE'         : 'sysID',\n",
    "                                 'DISTRICT_NAME'         : 'sysName',\n",
    "                                 'SCHOOL_CODE'           : 'schoolID',\n",
    "                                 'SCHOOL_NAME'           : 'schoolName',\n",
    "                                 'Revenues/Expenditures' : 'revExp', \n",
    "                                 'Description'           : 'descr',\n",
    "                                 'REV_EXP_VALUE'         : 'revExpVal',\n",
    "                                 'Dollars per FTE'       : 'expPerStudent',\n",
    "                                 'FTE_COUNT'             : 'totStudents'}, inplace=True)"
   ]
  },
  {
   "cell_type": "code",
   "execution_count": 269,
   "metadata": {
    "collapsed": false
   },
   "outputs": [],
   "source": [
    "#drop columns I won't use in this dataframe\n",
    "schoolExpenses12.drop(['revExp'], axis=1, inplace=True)\n",
    "schoolExpenses13.drop(['revExp'], axis=1, inplace=True)\n",
    "schoolExpenses14.drop(['revExp'], axis=1, inplace=True)\n",
    "schoolExpenses15.drop(['revExp'], axis=1, inplace=True)"
   ]
  },
  {
   "cell_type": "code",
   "execution_count": 271,
   "metadata": {
    "collapsed": true
   },
   "outputs": [],
   "source": [
    "schoolExpenses12.to_sql(\"schoolExpenses12\", con=engine, if_exists = \"replace\")\n",
    "schoolExpenses13.to_sql(\"schoolExpenses13\", con=engine, if_exists = \"replace\")\n",
    "schoolExpenses14.to_sql(\"schoolExpenses14\", con=engine, if_exists = \"replace\")\n",
    "schoolExpenses15.to_sql(\"schoolExpenses15\", con=engine, if_exists = \"replace\")"
   ]
  },
  {
   "cell_type": "code",
   "execution_count": 299,
   "metadata": {
    "collapsed": true
   },
   "outputs": [],
   "source": [
    "schoolLocs = pd.read_excel(\"../assets/capstone-assets/CCRPI/schoolLocationsBasicDemos.xls\")"
   ]
  },
  {
   "cell_type": "code",
   "execution_count": 301,
   "metadata": {
    "collapsed": true
   },
   "outputs": [],
   "source": [
    "schoolLocs.drop(['NCES School ID', 'NCES District ID', 'Low Grade*', 'High Grade*',\n",
    "                'ZIP 4-digit', 'Locale*', 'Title 1 School Wide*', 'Teachers*',\n",
    "                 'Students*'], axis=1, inplace=True)"
   ]
  },
  {
   "cell_type": "code",
   "execution_count": 303,
   "metadata": {
    "collapsed": false
   },
   "outputs": [],
   "source": [
    "schoolLocs.rename(columns={'State School ID'        : 'schoolID',\n",
    "                           'State District ID'      : 'sysID',\n",
    "                           'School Name'            : 'schoolName',\n",
    "                           'District'               : 'sysName',\n",
    "                           'County Name*'           : 'county',\n",
    "                           'Street Address'         : 'street',\n",
    "                           'City'                   : 'city',\n",
    "                           'State'                  : 'state',\n",
    "                           'ZIP'                    : 'zip',\n",
    "                           'Locale Code*'           : 'locClass',\n",
    "                           'Charter'                : 'chrtr',\n",
    "                           'Title I School*'        : 'titleI', \n",
    "                           'Student Teacher Ratio*' : 'stdTchRatio', \n",
    "                           'Free Lunch*'            : 'freeLnch',\n",
    "                           'Reduced Lunch*'         : 'reducedLnch'}, inplace=True)"
   ]
  },
  {
   "cell_type": "code",
   "execution_count": 305,
   "metadata": {
    "collapsed": false
   },
   "outputs": [],
   "source": [
    "schoolLocs.to_sql(\"schoolLocs\", con=engine, if_exists = \"replace\")"
   ]
  },
  {
   "cell_type": "code",
   "execution_count": 314,
   "metadata": {
    "collapsed": true
   },
   "outputs": [],
   "source": [
    "url5 = 'https://gosa.georgia.gov/sites/gosa.georgia.gov/files/related_files/site_page/Salaries_and_Benefits_2015_Mar292016.csv'\n",
    "e=requests.get(url5).text\n",
    "\n",
    "distSals15=pd.read_csv(StringIO(e), low_memory=False)\n",
    "\n",
    "url6 = 'http://gosa.georgia.gov/sites/gosa.georgia.gov/files/related_files/site_page/Salaries_and_Benefits_2014_Jan_15th_2015.csv'\n",
    "f=requests.get(url6).text\n",
    "\n",
    "distSals14=pd.read_csv(StringIO(f), low_memory=False)\n",
    "\n",
    "url7 = 'https://gosa.georgia.gov/sites/gosa.georgia.gov/files/related_files/site_page/Salaries_and_Benefits_2013_Jan_15th_2015.csv'\n",
    "g=requests.get(url7).text\n",
    "\n",
    "distSals13=pd.read_csv(StringIO(g), low_memory=False)\n",
    "\n",
    "url8 = 'https://gosa.georgia.gov/sites/gosa.georgia.gov/files/related_files/site_page/Salaries_and_Benefits_2012_Jan_15th_2015.csv'\n",
    "h=requests.get(url8).text\n",
    "\n",
    "distSals12=pd.read_csv(StringIO(h), low_memory=False)"
   ]
  },
  {
   "cell_type": "code",
   "execution_count": 322,
   "metadata": {
    "collapsed": true
   },
   "outputs": [],
   "source": [
    "distSals12.rename(columns={'LONG_SCHOOL_YEAR'        : 'year',\n",
    "                           'SCHOOL_DSTRCT_CD'        : 'sysID',\n",
    "                           'SCHOOL_DSTRCT_NM'        : 'sysName',\n",
    "                           'INSTN_NUMBER'            : 'schoolID',\n",
    "                           'INSTN_NAME'              : 'schoolName',\n",
    "                           'CATEGORY'                : 'jobClass',\n",
    "                           'SALARIES'                : 'salaries',\n",
    "                           'BENEFITS'                : 'benefits',\n",
    "                           'SALARIES_AND_BENEFITS'   : 'salBenSum',\n",
    "                           '% Rev- GF/Title/Lottery' : 'pctRevGFTitleLot',\n",
    "                           '% Rev- Total K-12'       : 'pctRevK12',\n",
    "                           '% Exp- GF/Title/Lottery' : 'pctExpGFTitleLot',\n",
    "                           '% Exp-Total K-12'        : 'pctExpK12'}, inplace=True)\n",
    "\n",
    "distSals13.rename(columns={'LONG_SCHOOL_YEAR'        : 'year',\n",
    "                           'SCHOOL_DSTRCT_CD'        : 'sysID',\n",
    "                           'SCHOOL_DSTRCT_NM'        : 'sysName',\n",
    "                           'INSTN_NUMBER'            : 'schoolID',\n",
    "                           'INSTN_NAME'              : 'schoolName',\n",
    "                           'CATEGORY'                : 'jobClass',\n",
    "                           'SALARIES'                : 'salaries',\n",
    "                           'BENEFITS'                : 'benefits',\n",
    "                           'SALARIES_AND_BENEFITS'   : 'salBenSum',\n",
    "                           '% Rev- GF/Title/Lottery' : 'pctRevGFTitleLot',\n",
    "                           '% Rev- Total K-12'       : 'pctRevK12',\n",
    "                           '% Exp- GF/Title/Lottery' : 'pctExpGFTitleLot',\n",
    "                           '% Exp-Total K-12'        : 'pctExpK12'}, inplace=True)\n",
    "\n",
    "distSals14.rename(columns={'LONG_SCHOOL_YEAR'        : 'year',\n",
    "                           'SCHOOL_DSTRCT_CD'        : 'sysID',\n",
    "                           'SCHOOL_DSTRCT_NM'        : 'sysName',\n",
    "                           'INSTN_NUMBER'            : 'schoolID',\n",
    "                           'INSTN_NAME'              : 'schoolName',\n",
    "                           'CATEGORY'                : 'jobClass',\n",
    "                           'SALARIES'                : 'salaries',\n",
    "                           'BENEFITS'                : 'benefits',\n",
    "                           'SALARIES_AND_BENEFITS'   : 'salBenSum',\n",
    "                           '% Rev- GF/Title/Lottery' : 'pctRevGFTitleLot',\n",
    "                           '% Rev- Total K-12'       : 'pctRevK12',\n",
    "                           '% Exp- GF/Title/Lottery' : 'pctExpGFTitleLot',\n",
    "                           '% Exp-Total K-12'        : 'pctExpK12'}, inplace=True)\n",
    "\n",
    "distSals15.rename(columns={'LONG_SCHOOL_YEAR'        : 'year',\n",
    "                           'SCHOOL_DSTRCT_CD'        : 'sysID',\n",
    "                           'SCHOOL_DSTRCT_NM'        : 'sysName',\n",
    "                           'INSTN_NUMBER'            : 'schoolID',\n",
    "                           'INSTN_NAME'              : 'schoolName',\n",
    "                           'CATEGORY'                : 'jobClass',\n",
    "                           'SALARIES'                : 'salaries',\n",
    "                           'BENEFITS'                : 'benefits',\n",
    "                           'SALARIES_AND_BENEFITS'   : 'salBenSum',\n",
    "                           '% Rev- GF/Title/Lottery' : 'pctRevGFTitleLot',\n",
    "                           '% Rev- Total K-12'       : 'pctRevK12',\n",
    "                           '% Exp- GF/Title/Lottery' : 'pctExpGFTitleLot',\n",
    "                           '% Exp-Total K-12'        : 'pctExpK12'}, inplace=True)"
   ]
  },
  {
   "cell_type": "code",
   "execution_count": 323,
   "metadata": {
    "collapsed": false
   },
   "outputs": [],
   "source": [
    "#These are just by districts, so these would be good for some EDA, but not in building models\n",
    "distSals15.to_sql(\"distSals15\", con=engine, if_exists = \"replace\")\n",
    "distSals14.to_sql(\"distSals14\", con=engine, if_exists = \"replace\")\n",
    "distSals13.to_sql(\"distSals13\", con=engine, if_exists = \"replace\")\n",
    "distSals12.to_sql(\"distSals12\", con=engine, if_exists = \"replace\")"
   ]
  },
  {
   "cell_type": "code",
   "execution_count": 324,
   "metadata": {
    "collapsed": true
   },
   "outputs": [],
   "source": [
    "#Now get teacher/administrator experience levels\n",
    "url9 = 'https://gosa.georgia.gov/sites/gosa.georgia.gov/files/related_files/site_page/Certified_Personnel_Data_2015_Mar292016.csv'\n",
    "i=requests.get(url9).text\n",
    "\n",
    "staffExp15=pd.read_csv(StringIO(i), low_memory=False)\n",
    "\n",
    "url10 = 'http://gosa.georgia.gov/sites/gosa.georgia.gov/files/related_files/site_page/Certified_Personnel_Data_2014_Jan_15th_2015.csv'\n",
    "j=requests.get(url10).text\n",
    "\n",
    "staffExp14=pd.read_csv(StringIO(j), low_memory=False)\n",
    "\n",
    "url11 = 'https://gosa.georgia.gov/sites/gosa.georgia.gov/files/related_files/site_page/Certified_Personnel_Data_2013_Jan_15th_2015.csv'\n",
    "k=requests.get(url11).text\n",
    "\n",
    "staffExp13=pd.read_csv(StringIO(k), low_memory=False)\n",
    "\n",
    "url12 = 'https://gosa.georgia.gov/sites/gosa.georgia.gov/files/related_files/site_page/Certified_Personnel_Data_2012_Jan_15th_2015.csv'\n",
    "l=requests.get(url12).text\n",
    "\n",
    "staffExp=pd.read_csv(StringIO(l), low_memory=False)"
   ]
  },
  {
   "cell_type": "code",
   "execution_count": 336,
   "metadata": {
    "collapsed": true
   },
   "outputs": [],
   "source": [
    "staffExp12 = staffExp"
   ]
  },
  {
   "cell_type": "code",
   "execution_count": 338,
   "metadata": {
    "collapsed": true
   },
   "outputs": [],
   "source": [
    "staffExp15.rename(columns={'LONG_SCHOOL_YEAR'  : 'year',\n",
    "                           'SCHOOL_DSTRCT_CD'  : 'sysID',\n",
    "                           'SCHOOL_DSTRCT_NM'  : 'sysName',\n",
    "                           'INSTN_NUMBER'      : 'schoolID',\n",
    "                           'INSTN_NAME'        : 'schoolName',\n",
    "                           'DATA_CATEGORY'     : 'expLevel',\n",
    "                           'DATA_SUB_CATEGORY' : 'expLevelClass',\n",
    "                           'EMPLOYEE_TYPE'     : 'staffClass',\n",
    "                           'MEASURE'           : 'totStaff'}, inplace=True)\n",
    "\n",
    "staffExp14.rename(columns={'LONG_SCHOOL_YEAR'  : 'year',\n",
    "                           'SCHOOL_DSTRCT_CD'  : 'sysID',\n",
    "                           'SCHOOL_DSTRCT_NM'  : 'sysName',\n",
    "                           'INSTN_NUMBER'      : 'schoolID',\n",
    "                           'INSTN_NAME'        : 'schoolName',\n",
    "                           'DATA_CATEGORY'     : 'expLevel',\n",
    "                           'DATA_SUB_CATEGORY' : 'expLevelClass',\n",
    "                           'EMPLOYEE_TYPE'     : 'staffClass',\n",
    "                           'MEASURE'           : 'totStaff'}, inplace=True)\n",
    "\n",
    "staffExp13.rename(columns={'LONG_SCHOOL_YEAR'  : 'year',\n",
    "                           'SCHOOL_DSTRCT_CD'  : 'sysID',\n",
    "                           'SCHOOL_DSTRCT_NM'  : 'sysName',\n",
    "                           'INSTN_NUMBER'      : 'schoolID',\n",
    "                           'INSTN_NAME'        : 'schoolName',\n",
    "                           'DATA_CATEGORY'     : 'expLevel',\n",
    "                           'DATA_SUB_CATEGORY' : 'expLevelClass',\n",
    "                           'EMPLOYEE_TYPE'     : 'staffClass',\n",
    "                           'MEASURE'           : 'totStaff'}, inplace=True)\n",
    "\n",
    "staffExp12.rename(columns={'LONG_SCHOOL_YEAR'  : 'year',\n",
    "                           'SCHOOL_DSTRCT_CD'  : 'sysID',\n",
    "                           'SCHOOL_DSTRCT_NM'  : 'sysName',\n",
    "                           'INSTN_NUMBER'      : 'schoolID',\n",
    "                           'INSTN_NAME'        : 'schoolName',\n",
    "                           'DATA_CATEGORY'     : 'expLevel',\n",
    "                           'DATA_SUB_CATEGORY' : 'expLevelClass',\n",
    "                           'EMPLOYEE_TYPE'     : 'staffClass',\n",
    "                           'MEASURE'           : 'totStaff'}, inplace=True)"
   ]
  },
  {
   "cell_type": "code",
   "execution_count": 339,
   "metadata": {
    "collapsed": true
   },
   "outputs": [],
   "source": [
    "staffExp12.to_sql(\"staffExp12\", con=engine, if_exists = \"replace\")\n",
    "staffExp13.to_sql(\"staffExp13\", con=engine, if_exists = \"replace\")\n",
    "staffExp14.to_sql(\"staffExp14\", con=engine, if_exists = \"replace\")\n",
    "staffExp15.to_sql(\"staffExp15\", con=engine, if_exists = \"replace\")"
   ]
  },
  {
   "cell_type": "code",
   "execution_count": 342,
   "metadata": {
    "collapsed": true
   },
   "outputs": [],
   "source": [
    "#Read in excel on school discipline for 2015\n",
    "schoolDisc15 = pd.read_excel(\"../assets/capstone-assets/CCRPI/sr2015_discipline_action_counts_sch.xls\")"
   ]
  },
  {
   "cell_type": "code",
   "execution_count": 344,
   "metadata": {
    "collapsed": true
   },
   "outputs": [],
   "source": [
    "schoolDisc15.columns = [x.lower() for x in schoolDisc15.columns]"
   ]
  },
  {
   "cell_type": "code",
   "execution_count": 348,
   "metadata": {
    "collapsed": true
   },
   "outputs": [],
   "source": [
    "schoolDisc15.rename(columns={'school_year': 'year',\n",
    "                             'system_id'  : 'sysID',\n",
    "                             'system_name': 'sysName', \n",
    "                             'school_id'  : 'schoolID',\n",
    "                             'school_name': 'schoolName'}, inplace=True)"
   ]
  },
  {
   "cell_type": "code",
   "execution_count": 350,
   "metadata": {
    "collapsed": true
   },
   "outputs": [],
   "source": [
    "schoolDisc15.to_sql(\"schoolDisc15\", con=engine, if_exists = \"replace\")"
   ]
  },
  {
   "cell_type": "code",
   "execution_count": null,
   "metadata": {
    "collapsed": true
   },
   "outputs": [],
   "source": []
  }
 ],
 "metadata": {
  "kernelspec": {
   "display_name": "Python 2",
   "language": "python",
   "name": "python2"
  },
  "language_info": {
   "codemirror_mode": {
    "name": "ipython",
    "version": 2
   },
   "file_extension": ".py",
   "mimetype": "text/x-python",
   "name": "python",
   "nbconvert_exporter": "python",
   "pygments_lexer": "ipython2",
   "version": "2.7.12"
  }
 },
 "nbformat": 4,
 "nbformat_minor": 0
}
