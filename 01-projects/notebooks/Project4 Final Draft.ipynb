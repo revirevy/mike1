{
 "cells": [
  {
   "cell_type": "markdown",
   "metadata": {},
   "source": [
    "# Problem Statement\n",
    "\n",
    "I am trying to reliably predict which jobs related to data science will have the highest salaries. Many jobs don't post their salaries, so I need to create a model using existing job postings with posted salaries in order to predict future job postings based on the job's location and whether or not the company operatesi n he public or private sector.\n",
    "\n",
    "\n",
    "# Data\n",
    "\n",
    "I gathered job postings from indeed.com using a web scraper, then organized those results into a dataframe that is posted below. The postings are taken from eleven different cities across the U.S. Many of the jobs only posted salary ranges, so I had to average these ranges for a single estimated salary, and then divide salaries into high and moderate salaries. Anything above $120,000 per year is considered high, and anything below is labeled moderate."
   ]
  },
  {
   "cell_type": "code",
   "execution_count": 1270,
   "metadata": {
    "collapsed": true
   },
   "outputs": [],
   "source": [
    "import urllib2\n",
    "import requests\n",
    "import bs4\n",
    "from bs4 import BeautifulSoup\n",
    "import re\n",
    "\n",
    "import pandas as pd\n",
    "import numpy as np\n",
    "\n",
    "from sklearn.cross_validation import train_test_split\n",
    "import statsmodels.api as sm\n",
    "\n",
    "import seaborn as sns\n",
    "import matplotlib as plt\n",
    "%matplotlib inline\n",
    "\n",
    "from IPython.display import Image"
   ]
  },
  {
   "cell_type": "code",
   "execution_count": 1271,
   "metadata": {
    "collapsed": true
   },
   "outputs": [],
   "source": [
    "#def extract_text(el):\n",
    "#    if el:\n",
    "#        return el.text.strip()\n",
    "#    else:\n",
    "#        return ''\n",
    "        \n",
    "\n",
    "#def get_company_from_result(result):\n",
    "#    return extract_text(result.find('span', {'class' : 'company'}))\n",
    "\n",
    "#def get_location_from_result(result):\n",
    "#    return  extract_text(result.find('span', {'class' : 'location'}))\n",
    "\n",
    "#def get_summary_from_result(result):\n",
    "#    return  extract_text(result.find('span', {'class' : 'summary'}))\n",
    "\n",
    "#def get_title_from_result(result):\n",
    "#    return result.find('a', {'data-tn-element' : 'jobTitle'}).text.strip()\n",
    "\n",
    "#def get_salary_from_result(result):\n",
    "#    salary_table = result.find('td', {'class' : 'snip'})\n",
    "#    if salary_table:\n",
    "#        snip = salary_table.find('nobr')\n",
    "#        if snip:\n",
    "#            return snip.text.strip()\n",
    "        \n",
    "#    return None"
   ]
  },
  {
   "cell_type": "code",
   "execution_count": 1272,
   "metadata": {
    "collapsed": true
   },
   "outputs": [],
   "source": [
    "#url = \"http://www.indeed.com/jobs?q=data+scientist+%2420%2C000&l={}&start={}\"\n",
    "#rows = []\n",
    "#max_results_per_city = 5000\n",
    "\n",
    "#for city in set(['New+York', 'Chicago', 'San+Francisco', 'Austin', 'Atlanta', 'Washington+DC', \n",
    "#                 'Minneapolis', 'Denver', 'Seattle', 'Boston', 'Los+Angeles']):\n",
    "#    for start in range(0, max_results_per_city, 10):\n",
    "#        r = requests.get(url.format(city, start))\n",
    "#        soup = BeautifulSoup(r.content)\n",
    "#        results = soup.findAll('div', { \"class\" : \"result\" })\n",
    "#        for result in results:\n",
    "#            if result:\n",
    "#                row = {}\n",
    "#                row['title'] = get_title_from_result(result)\n",
    "#                row['company'] = get_company_from_result(result)\n",
    "#                row['summary'] = get_summary_from_result(result)\n",
    "#                row['salary'] = get_salary_from_result(result)\n",
    "#                row['city'] = city\n",
    "#                rows.append(row)\n",
    "#\n",
    "\n",
    "#data = pd.DataFrame.from_records(rows)\n",
    "\n",
    "#salary_data = data[data.salary.notnull()]\n",
    "\n",
    "#salary_data = salary_data[~(salary_data.salary.astype('str').str.contains('hour'))]\n",
    "\n",
    "#salary_data = salary_data[~(salary_data.salary.astype('str').str.contains('day'))]\n",
    "\n",
    "#salary_data = salary_data.drop_duplicates()\n",
    "\n",
    "#salary_data.salary.apply(str)\n",
    "\n",
    "#salary_data = salary_data[~(salary_data.salary.astype('str').str.contains('month'))]\n",
    "\n",
    "#salary_data.salary = salary_data['salary'].apply(lambda x: x.lstrip('$').rstrip('abcdefghijklmnopqrstuvwxyz'))\n",
    "\n",
    "#salary_data.to_csv('../assets/04-project4-assets/dataScienceSalaries.csv', encoding='utf8', index=False)"
   ]
  },
  {
   "cell_type": "code",
   "execution_count": 1273,
   "metadata": {
    "collapsed": true
   },
   "outputs": [],
   "source": [
    "dsSalaries = pd.read_csv('../assets/04-project4-assets/dataScienceSalaries.csv')"
   ]
  },
  {
   "cell_type": "markdown",
   "metadata": {},
   "source": [
    "After importing records, there was a lot to clean, especially with the salaries. Nearly all of them had unwanted string characters, as well as two numbers to establish a range. I first had to split this into two columns so the opposite ends of the ranges were separated. I then cleaned each column of any non-numeric characterics and converted the columns to integers. Finally, a third column was created that averaged the preceding cells, which were ultaimately deleted for clarity."
   ]
  },
  {
   "cell_type": "code",
   "execution_count": 1274,
   "metadata": {
    "collapsed": true
   },
   "outputs": [],
   "source": [
    "dsSalaries2= dsSalaries['salary'].apply(lambda x: pd.Series(x.split('-')))\n",
    "\n",
    "dsSalaries2[0] = dsSalaries2[0].str.replace(r'\\D+', '').astype('int')\n",
    "\n",
    "dsSalaries2[1].fillna(dsSalaries2[0], inplace=True)\n",
    "\n",
    "dsSalaries2[1] = dsSalaries2[1].str.replace(r'\\D+', '')\n",
    "\n",
    "dsSalaries2[1].fillna(dsSalaries2[0], inplace=True)\n",
    "\n",
    "dsSalaries2[1] = dsSalaries2[1].astype(int)\n",
    "\n",
    "dsSalaries2['meanSalary'] = dsSalaries2.mean(axis=1)\n",
    "\n",
    "dfSal = dsSalaries.join(dsSalaries2)\n",
    "\n",
    "dfSal.drop(['salary', 0, 1], axis=1, inplace=True)\n",
    "\n",
    "dfSal.columns = [u'city', u'company', u'description', u'jobTitle', u'salary']\n",
    "\n",
    "dfSal['city'] = dfSal['city'].str.replace('+', ' ')\n",
    "\n",
    "dfSal = dfSal[dfSal['salary'] >= 20000.0]"
   ]
  },
  {
   "cell_type": "code",
   "execution_count": 1275,
   "metadata": {
    "collapsed": true
   },
   "outputs": [],
   "source": [
    "bins = [0.0, 120000.0, 400000.0]\n",
    "group_names = ['moderate', 'high']\n",
    "category = pd.cut(dfSal['salary'], bins, labels=group_names)"
   ]
  },
  {
   "cell_type": "code",
   "execution_count": 1276,
   "metadata": {
    "collapsed": true
   },
   "outputs": [],
   "source": [
    "dfSal['salCategory'] = category"
   ]
  },
  {
   "cell_type": "code",
   "execution_count": 1277,
   "metadata": {
    "collapsed": true
   },
   "outputs": [],
   "source": [
    "dfSal['salClass'] = dfSal['salCategory'].map({'moderate': 0, 'high': 1} )"
   ]
  },
  {
   "cell_type": "code",
   "execution_count": 1278,
   "metadata": {
    "collapsed": true
   },
   "outputs": [],
   "source": [
    "dfSal.to_csv('../assets/04-project4-assets/dataScienceSalariesClean.csv', encoding='utf8', index=False)"
   ]
  },
  {
   "cell_type": "markdown",
   "metadata": {},
   "source": [
    "Variable | Description | Variable Type\n",
    "--|--|--\n",
    "city | The city in which the posted job is located | Object\n",
    "company | The name of the company that posted the job | Object\n",
    "description | The company's description of the job's tasks and responsibilities | Object\n",
    "jobTitle | The official name of the job | Object\n",
    "salary | The estimated salary for the job. These are mostly an average of a range given by Indeed.com | Float\n",
    "salCategory | The category a job's salary falls. Moderate is below $120,000, while high is anything above | Category\n",
    "salClass | The binary number assigned to each of the salary categories. Moderate = 0, and High = 1 | Category"
   ]
  },
  {
   "cell_type": "code",
   "execution_count": 1279,
   "metadata": {
    "collapsed": false
   },
   "outputs": [
    {
     "data": {
      "text/html": [
       "<div>\n",
       "<table border=\"1\" class=\"dataframe\">\n",
       "  <thead>\n",
       "    <tr style=\"text-align: right;\">\n",
       "      <th></th>\n",
       "      <th>city</th>\n",
       "      <th>company</th>\n",
       "      <th>description</th>\n",
       "      <th>jobTitle</th>\n",
       "      <th>salary</th>\n",
       "      <th>salCategory</th>\n",
       "      <th>salClass</th>\n",
       "    </tr>\n",
       "  </thead>\n",
       "  <tbody>\n",
       "    <tr>\n",
       "      <th>0</th>\n",
       "      <td>Washington DC</td>\n",
       "      <td>Department Of Education</td>\n",
       "      <td>Analyze data of extreme complexity largely thr...</td>\n",
       "      <td>Statistician (Predictive Analytics), GS-1530-1...</td>\n",
       "      <td>116850.0</td>\n",
       "      <td>moderate</td>\n",
       "      <td>0</td>\n",
       "    </tr>\n",
       "    <tr>\n",
       "      <th>1</th>\n",
       "      <td>Washington DC</td>\n",
       "      <td>Department Of The Interior</td>\n",
       "      <td>Data collection tools; Identify precise operat...</td>\n",
       "      <td>Education Research Analyst, GS-1730-13</td>\n",
       "      <td>105969.5</td>\n",
       "      <td>moderate</td>\n",
       "      <td>0</td>\n",
       "    </tr>\n",
       "    <tr>\n",
       "      <th>2</th>\n",
       "      <td>Washington DC</td>\n",
       "      <td>Legislative Branch</td>\n",
       "      <td>Or in the social sciences including demography...</td>\n",
       "      <td>Senior Statistician</td>\n",
       "      <td>101701.5</td>\n",
       "      <td>moderate</td>\n",
       "      <td>0</td>\n",
       "    </tr>\n",
       "    <tr>\n",
       "      <th>3</th>\n",
       "      <td>Washington DC</td>\n",
       "      <td>Department Of Commerce</td>\n",
       "      <td>Analyze and evaluate data. Assist in data coll...</td>\n",
       "      <td>Recent Graduate Statistician GS-1530-7/9/11, C...</td>\n",
       "      <td>63864.0</td>\n",
       "      <td>moderate</td>\n",
       "      <td>0</td>\n",
       "    </tr>\n",
       "    <tr>\n",
       "      <th>4</th>\n",
       "      <td>Washington DC</td>\n",
       "      <td>Jobspring Partners</td>\n",
       "      <td>The data scientist will develop algorithms and...</td>\n",
       "      <td>Mid Level Data Scientist</td>\n",
       "      <td>140000.0</td>\n",
       "      <td>high</td>\n",
       "      <td>1</td>\n",
       "    </tr>\n",
       "  </tbody>\n",
       "</table>\n",
       "</div>"
      ],
      "text/plain": [
       "            city                     company  \\\n",
       "0  Washington DC     Department Of Education   \n",
       "1  Washington DC  Department Of The Interior   \n",
       "2  Washington DC          Legislative Branch   \n",
       "3  Washington DC      Department Of Commerce   \n",
       "4  Washington DC          Jobspring Partners   \n",
       "\n",
       "                                         description  \\\n",
       "0  Analyze data of extreme complexity largely thr...   \n",
       "1  Data collection tools; Identify precise operat...   \n",
       "2  Or in the social sciences including demography...   \n",
       "3  Analyze and evaluate data. Assist in data coll...   \n",
       "4  The data scientist will develop algorithms and...   \n",
       "\n",
       "                                            jobTitle    salary salCategory  \\\n",
       "0  Statistician (Predictive Analytics), GS-1530-1...  116850.0    moderate   \n",
       "1             Education Research Analyst, GS-1730-13  105969.5    moderate   \n",
       "2                                Senior Statistician  101701.5    moderate   \n",
       "3  Recent Graduate Statistician GS-1530-7/9/11, C...   63864.0    moderate   \n",
       "4                           Mid Level Data Scientist  140000.0        high   \n",
       "\n",
       "   salClass  \n",
       "0         0  \n",
       "1         0  \n",
       "2         0  \n",
       "3         0  \n",
       "4         1  "
      ]
     },
     "execution_count": 1279,
     "metadata": {},
     "output_type": "execute_result"
    }
   ],
   "source": [
    "dfSal.head()"
   ]
  },
  {
   "cell_type": "code",
   "execution_count": 1280,
   "metadata": {
    "collapsed": false
   },
   "outputs": [
    {
     "data": {
      "text/plain": [
       "city             object\n",
       "company          object\n",
       "description      object\n",
       "jobTitle         object\n",
       "salary          float64\n",
       "salCategory    category\n",
       "salClass          int64\n",
       "dtype: object"
      ]
     },
     "execution_count": 1280,
     "metadata": {},
     "output_type": "execute_result"
    }
   ],
   "source": [
    "dfSal.dtypes"
   ]
  },
  {
   "cell_type": "code",
   "execution_count": 1281,
   "metadata": {
    "collapsed": false
   },
   "outputs": [
    {
     "data": {
      "text/plain": [
       "city           400\n",
       "company        400\n",
       "description    400\n",
       "jobTitle       400\n",
       "salary         400\n",
       "salCategory    400\n",
       "salClass       400\n",
       "dtype: int64"
      ]
     },
     "execution_count": 1281,
     "metadata": {},
     "output_type": "execute_result"
    }
   ],
   "source": [
    "dfSal.count()"
   ]
  },
  {
   "cell_type": "code",
   "execution_count": 1282,
   "metadata": {
    "collapsed": false
   },
   "outputs": [
    {
     "data": {
      "text/plain": [
       "(400, 7)"
      ]
     },
     "execution_count": 1282,
     "metadata": {},
     "output_type": "execute_result"
    }
   ],
   "source": [
    "dfSal.shape"
   ]
  },
  {
   "cell_type": "markdown",
   "metadata": {
    "collapsed": true
   },
   "source": [
    "## Part 1. Frequency Tables"
   ]
  },
  {
   "cell_type": "code",
   "execution_count": 1283,
   "metadata": {
    "collapsed": false
   },
   "outputs": [
    {
     "name": "stdout",
     "output_type": "stream",
     "text": [
      "city      Atlanta  Austin  Boston  Chicago  Denver  Los Angeles  Minneapolis  \\\n",
      "salClass                                                                       \n",
      "0              18       4      27       18      15           18            5   \n",
      "1               4       4      21       17       2            7            0   \n",
      "\n",
      "city      New York  San Francisco  Seattle  Washington DC  \n",
      "salClass                                                   \n",
      "0               53             10       11             61  \n",
      "1               37             28        9             31  \n"
     ]
    }
   ],
   "source": [
    "print pd.crosstab(dfSal['salClass'], dfSal['city'], rownames=['salClass'])"
   ]
  },
  {
   "cell_type": "markdown",
   "metadata": {},
   "source": [
    "The map below lets us visualize our job postings by location and the average salary one could expect from those cities. The states themselves are also shaded according to per capita income so we can compare the estimated salaries for a job in data science to the income of a state's average resident.\n",
    "\n",
    "The size of the circle indicates the average salary of a job posting, so the larger the circle, the larger the salary for that job.\n",
    "\n",
    "The shade of green in the circle indicates the number of jobs we were able to pull from that city. The darker the green, the more jobs that were posted.\n",
    "\n",
    "New York, Boston, and D.C. had the most jobs posted, as well as high salaries on average. San Francisco, Los Angeles and Chicago also post jobs with large expected salaries, although slightly less jobs are available. Not much of this is surprising, considering these are the largest population centers in the U.S., and while the salaries are high, the cost of living is very high as well, so the salaries need to increase accordingly.\n",
    "\n",
    "A couple surprises were Seattle and Minneapolis. Seattle didn't have very many jobs posted relative to New YOrk or Boston, but the average salary available was very high. On theo ther hand, Minneapolis had no high salary job postings, so their circle is the smallest. While this may be because they also had few job postings, this was somewhat surprising since with every other state, the average salary of a data science job posting increases as their state's per capita income increases. Minnesota is a state with one of the highest per capita income rates, yet its data science job postings don't follow the same pattern as other cities in states with high per capita income."
   ]
  },
  {
   "cell_type": "code",
   "execution_count": 1284,
   "metadata": {
    "collapsed": false
   },
   "outputs": [
    {
     "data": {
      "image/jpeg": "[encoded data removed]",
      "text/plain": [
       "<IPython.core.display.Image object>"
      ]
     },
     "execution_count": 1284,
     "metadata": {},
     "output_type": "execute_result"
    }
   ],
   "source": [
    "Image(filename='../assets/04-project4-assets/visuals_dataScienceJobs/mapAndBarChart.jpg')"
   ]
  },
  {
   "cell_type": "code",
   "execution_count": 1285,
   "metadata": {
    "collapsed": false
   },
   "outputs": [
    {
     "name": "stdout",
     "output_type": "stream",
     "text": [
      "   Atlanta  Austin  Boston  Chicago  Denver  Los Angeles  Minneapolis  \\\n",
      "0      0.0     0.0     0.0      0.0     0.0          0.0          0.0   \n",
      "1      0.0     0.0     0.0      0.0     0.0          0.0          0.0   \n",
      "2      0.0     0.0     0.0      0.0     0.0          0.0          0.0   \n",
      "3      0.0     0.0     0.0      0.0     0.0          0.0          0.0   \n",
      "4      0.0     0.0     0.0      0.0     0.0          0.0          0.0   \n",
      "\n",
      "   New York  San Francisco  Seattle  Washington DC  \n",
      "0       0.0            0.0      0.0            1.0  \n",
      "1       0.0            0.0      0.0            1.0  \n",
      "2       0.0            0.0      0.0            1.0  \n",
      "3       0.0            0.0      0.0            1.0  \n",
      "4       0.0            0.0      0.0            1.0  \n"
     ]
    }
   ],
   "source": [
    "dummies = pd.get_dummies(dfSal['city'])\n",
    "print dummies.head()"
   ]
  },
  {
   "cell_type": "code",
   "execution_count": 1286,
   "metadata": {
    "collapsed": false
   },
   "outputs": [
    {
     "data": {
      "text/html": [
       "<div>\n",
       "<table border=\"1\" class=\"dataframe\">\n",
       "  <thead>\n",
       "    <tr style=\"text-align: right;\">\n",
       "      <th></th>\n",
       "      <th>salClass</th>\n",
       "      <th>Atlanta</th>\n",
       "      <th>Austin</th>\n",
       "      <th>Boston</th>\n",
       "      <th>Chicago</th>\n",
       "      <th>Denver</th>\n",
       "      <th>Los Angeles</th>\n",
       "      <th>Minneapolis</th>\n",
       "      <th>New York</th>\n",
       "      <th>San Francisco</th>\n",
       "      <th>Seattle</th>\n",
       "      <th>Washington DC</th>\n",
       "      <th>intercept</th>\n",
       "    </tr>\n",
       "  </thead>\n",
       "  <tbody>\n",
       "    <tr>\n",
       "      <th>0</th>\n",
       "      <td>0</td>\n",
       "      <td>0.0</td>\n",
       "      <td>0.0</td>\n",
       "      <td>0.0</td>\n",
       "      <td>0.0</td>\n",
       "      <td>0.0</td>\n",
       "      <td>0.0</td>\n",
       "      <td>0.0</td>\n",
       "      <td>0.0</td>\n",
       "      <td>0.0</td>\n",
       "      <td>0.0</td>\n",
       "      <td>1.0</td>\n",
       "      <td>1</td>\n",
       "    </tr>\n",
       "    <tr>\n",
       "      <th>1</th>\n",
       "      <td>0</td>\n",
       "      <td>0.0</td>\n",
       "      <td>0.0</td>\n",
       "      <td>0.0</td>\n",
       "      <td>0.0</td>\n",
       "      <td>0.0</td>\n",
       "      <td>0.0</td>\n",
       "      <td>0.0</td>\n",
       "      <td>0.0</td>\n",
       "      <td>0.0</td>\n",
       "      <td>0.0</td>\n",
       "      <td>1.0</td>\n",
       "      <td>1</td>\n",
       "    </tr>\n",
       "    <tr>\n",
       "      <th>2</th>\n",
       "      <td>0</td>\n",
       "      <td>0.0</td>\n",
       "      <td>0.0</td>\n",
       "      <td>0.0</td>\n",
       "      <td>0.0</td>\n",
       "      <td>0.0</td>\n",
       "      <td>0.0</td>\n",
       "      <td>0.0</td>\n",
       "      <td>0.0</td>\n",
       "      <td>0.0</td>\n",
       "      <td>0.0</td>\n",
       "      <td>1.0</td>\n",
       "      <td>1</td>\n",
       "    </tr>\n",
       "    <tr>\n",
       "      <th>3</th>\n",
       "      <td>0</td>\n",
       "      <td>0.0</td>\n",
       "      <td>0.0</td>\n",
       "      <td>0.0</td>\n",
       "      <td>0.0</td>\n",
       "      <td>0.0</td>\n",
       "      <td>0.0</td>\n",
       "      <td>0.0</td>\n",
       "      <td>0.0</td>\n",
       "      <td>0.0</td>\n",
       "      <td>0.0</td>\n",
       "      <td>1.0</td>\n",
       "      <td>1</td>\n",
       "    </tr>\n",
       "    <tr>\n",
       "      <th>4</th>\n",
       "      <td>1</td>\n",
       "      <td>0.0</td>\n",
       "      <td>0.0</td>\n",
       "      <td>0.0</td>\n",
       "      <td>0.0</td>\n",
       "      <td>0.0</td>\n",
       "      <td>0.0</td>\n",
       "      <td>0.0</td>\n",
       "      <td>0.0</td>\n",
       "      <td>0.0</td>\n",
       "      <td>0.0</td>\n",
       "      <td>1.0</td>\n",
       "      <td>1</td>\n",
       "    </tr>\n",
       "  </tbody>\n",
       "</table>\n",
       "</div>"
      ],
      "text/plain": [
       "   salClass  Atlanta  Austin  Boston  Chicago  Denver  Los Angeles  \\\n",
       "0         0      0.0     0.0     0.0      0.0     0.0          0.0   \n",
       "1         0      0.0     0.0     0.0      0.0     0.0          0.0   \n",
       "2         0      0.0     0.0     0.0      0.0     0.0          0.0   \n",
       "3         0      0.0     0.0     0.0      0.0     0.0          0.0   \n",
       "4         1      0.0     0.0     0.0      0.0     0.0          0.0   \n",
       "\n",
       "   Minneapolis  New York  San Francisco  Seattle  Washington DC  intercept  \n",
       "0          0.0       0.0            0.0      0.0            1.0          1  \n",
       "1          0.0       0.0            0.0      0.0            1.0          1  \n",
       "2          0.0       0.0            0.0      0.0            1.0          1  \n",
       "3          0.0       0.0            0.0      0.0            1.0          1  \n",
       "4          0.0       0.0            0.0      0.0            1.0          1  "
      ]
     },
     "execution_count": 1286,
     "metadata": {},
     "output_type": "execute_result"
    }
   ],
   "source": [
    "join = dfSal[['salClass']].join(dummies)\n",
    "join[\"intercept\"] = 1\n",
    "join.head()"
   ]
  },
  {
   "cell_type": "code",
   "execution_count": 1287,
   "metadata": {
    "collapsed": false
   },
   "outputs": [],
   "source": [
    "joinColumns = join.columns\n",
    "y = join.salClass\n",
    "X = join[ joinColumns[1:11].union(joinColumns[-1:]) ]"
   ]
  },
  {
   "cell_type": "markdown",
   "metadata": {},
   "source": [
    "# Build Logit Model\n",
    "\n",
    "Using our salary class of moderate or high as our target variable, we'll build a logit model below, using our ten cities as predictors of salary class. We'll build the model using 70% of our data, and use the remaining 30% to actually test if our model can reliably predict what a job posting's salary will be, based simply on its location."
   ]
  },
  {
   "cell_type": "code",
   "execution_count": 1288,
   "metadata": {
    "collapsed": false
   },
   "outputs": [],
   "source": [
    "X_train, X_test, y_train, y_test = train_test_split( X, y, test_size=.3, random_state=10 )"
   ]
  },
  {
   "cell_type": "code",
   "execution_count": 1289,
   "metadata": {
    "collapsed": false
   },
   "outputs": [
    {
     "name": "stdout",
     "output_type": "stream",
     "text": [
      "Warning: Maximum number of iterations has been exceeded.\n",
      "         Current function value: 0.608946\n",
      "         Iterations: 35\n"
     ]
    },
    {
     "name": "stderr",
     "output_type": "stream",
     "text": [
      "/Users/michaelmainzer/anaconda/lib/python2.7/site-packages/statsmodels/base/model.py:466: ConvergenceWarning: Maximum Likelihood optimization failed to converge. Check mle_retvals\n",
      "  \"Check mle_retvals\", ConvergenceWarning)\n"
     ]
    },
    {
     "data": {
      "text/html": [
       "<table class=\"simpletable\">\n",
       "<caption>Logit Regression Results</caption>\n",
       "<tr>\n",
       "  <th>Dep. Variable:</th>     <td>salClass</td>     <th>  No. Observations:  </th>  <td>   280</td>  \n",
       "</tr>\n",
       "<tr>\n",
       "  <th>Model:</th>               <td>Logit</td>      <th>  Df Residuals:      </th>  <td>   269</td>  \n",
       "</tr>\n",
       "<tr>\n",
       "  <th>Method:</th>               <td>MLE</td>       <th>  Df Model:          </th>  <td>    10</td>  \n",
       "</tr>\n",
       "<tr>\n",
       "  <th>Date:</th>          <td>Fri, 01 Jul 2016</td> <th>  Pseudo R-squ.:     </th>  <td>0.09519</td> \n",
       "</tr>\n",
       "<tr>\n",
       "  <th>Time:</th>              <td>09:54:32</td>     <th>  Log-Likelihood:    </th> <td> -170.50</td> \n",
       "</tr>\n",
       "<tr>\n",
       "  <th>converged:</th>           <td>False</td>      <th>  LL-Null:           </th> <td> -188.44</td> \n",
       "</tr>\n",
       "<tr>\n",
       "  <th> </th>                      <td> </td>        <th>  LLR p-value:       </th> <td>8.838e-05</td>\n",
       "</tr>\n",
       "</table>\n",
       "<table class=\"simpletable\">\n",
       "<tr>\n",
       "        <td></td>           <th>coef</th>     <th>std err</th>      <th>z</th>      <th>P>|z|</th> <th>[95.0% Conf. Int.]</th> \n",
       "</tr>\n",
       "<tr>\n",
       "  <th>Atlanta</th>       <td>   -0.5695</td> <td>    0.702</td> <td>   -0.812</td> <td> 0.417</td> <td>   -1.945     0.806</td>\n",
       "</tr>\n",
       "<tr>\n",
       "  <th>Austin</th>        <td>    0.8168</td> <td>    0.862</td> <td>    0.948</td> <td> 0.343</td> <td>   -0.872     2.506</td>\n",
       "</tr>\n",
       "<tr>\n",
       "  <th>Boston</th>        <td>    0.7114</td> <td>    0.426</td> <td>    1.670</td> <td> 0.095</td> <td>   -0.123     1.546</td>\n",
       "</tr>\n",
       "<tr>\n",
       "  <th>Chicago</th>       <td>    0.7114</td> <td>    0.536</td> <td>    1.328</td> <td> 0.184</td> <td>   -0.339     1.761</td>\n",
       "</tr>\n",
       "<tr>\n",
       "  <th>Denver</th>        <td>   -1.7482</td> <td>    1.074</td> <td>   -1.628</td> <td> 0.103</td> <td>   -3.853     0.356</td>\n",
       "</tr>\n",
       "<tr>\n",
       "  <th>Los Angeles</th>   <td>    0.0436</td> <td>    0.565</td> <td>    0.077</td> <td> 0.939</td> <td>   -1.064     1.151</td>\n",
       "</tr>\n",
       "<tr>\n",
       "  <th>Minneapolis</th>   <td>  -16.0087</td> <td> 2014.278</td> <td>   -0.008</td> <td> 0.994</td> <td>-3963.922  3931.904</td>\n",
       "</tr>\n",
       "<tr>\n",
       "  <th>New York</th>      <td>    0.4803</td> <td>    0.380</td> <td>    1.264</td> <td> 0.206</td> <td>   -0.265     1.225</td>\n",
       "</tr>\n",
       "<tr>\n",
       "  <th>San Francisco</th> <td>    1.9619</td> <td>    0.514</td> <td>    3.817</td> <td> 0.000</td> <td>    0.954     2.969</td>\n",
       "</tr>\n",
       "<tr>\n",
       "  <th>Seattle</th>       <td>    0.6626</td> <td>    0.621</td> <td>    1.067</td> <td> 0.286</td> <td>   -0.554     1.879</td>\n",
       "</tr>\n",
       "<tr>\n",
       "  <th>intercept</th>     <td>   -0.8168</td> <td>    0.275</td> <td>   -2.965</td> <td> 0.003</td> <td>   -1.357    -0.277</td>\n",
       "</tr>\n",
       "</table>"
      ],
      "text/plain": [
       "<class 'statsmodels.iolib.summary.Summary'>\n",
       "\"\"\"\n",
       "                           Logit Regression Results                           \n",
       "==============================================================================\n",
       "Dep. Variable:               salClass   No. Observations:                  280\n",
       "Model:                          Logit   Df Residuals:                      269\n",
       "Method:                           MLE   Df Model:                           10\n",
       "Date:                Fri, 01 Jul 2016   Pseudo R-squ.:                 0.09519\n",
       "Time:                        09:54:32   Log-Likelihood:                -170.50\n",
       "converged:                      False   LL-Null:                       -188.44\n",
       "                                        LLR p-value:                 8.838e-05\n",
       "=================================================================================\n",
       "                    coef    std err          z      P>|z|      [95.0% Conf. Int.]\n",
       "---------------------------------------------------------------------------------\n",
       "Atlanta          -0.5695      0.702     -0.812      0.417        -1.945     0.806\n",
       "Austin            0.8168      0.862      0.948      0.343        -0.872     2.506\n",
       "Boston            0.7114      0.426      1.670      0.095        -0.123     1.546\n",
       "Chicago           0.7114      0.536      1.328      0.184        -0.339     1.761\n",
       "Denver           -1.7482      1.074     -1.628      0.103        -3.853     0.356\n",
       "Los Angeles       0.0436      0.565      0.077      0.939        -1.064     1.151\n",
       "Minneapolis     -16.0087   2014.278     -0.008      0.994     -3963.922  3931.904\n",
       "New York          0.4803      0.380      1.264      0.206        -0.265     1.225\n",
       "San Francisco     1.9619      0.514      3.817      0.000         0.954     2.969\n",
       "Seattle           0.6626      0.621      1.067      0.286        -0.554     1.879\n",
       "intercept        -0.8168      0.275     -2.965      0.003        -1.357    -0.277\n",
       "=================================================================================\n",
       "\"\"\""
      ]
     },
     "execution_count": 1289,
     "metadata": {},
     "output_type": "execute_result"
    }
   ],
   "source": [
    "logit = sm.Logit(y_train, X_train)\n",
    "result = logit.fit()\n",
    "result.summary()"
   ]
  },
  {
   "cell_type": "markdown",
   "metadata": {},
   "source": [
    "By running a logistic regression model with 70% of our data, we can see the relative impact each city will have on the odds that a job posted in that particular city will be high.\n",
    "\n",
    "For example, according to our model, if you were to take an interview for a data science job in San Francisco, it would nearly double your odds of getting a high salary as opposed to a moderate salary (if you get the offer).\n",
    "\n",
    "However, looking at our table we can see that most of these cities by themselves aren't significant predictors of a high or moderate salary. Besides San Francisco and Washington, D.C., our intercept, all of our cities have p-values over .05, which means their results are statistically significant in predicting a high or moderate salary for a job posting.\n",
    "\n",
    "All of this makes sense. There is a very small chance that a high salary in San Francisco has nothing to do with it being in San Francisco. Living in San Francisco is extremely expensive, so any company offering a job there would have to offer a large salary, since the cost of living is so high.\n",
    "\n",
    "On the other end of the spectrum, using our data from Minneapolis isn't a useful predictor for a high or moderate salary in that city. Essentailly, there is a 99% chance that the 0/5 high salary rate in Minneapolis was due to pure chance. This makes sense, considering our map earlier that showed Minnesota having one of the highest per capita incomes. Minneapolis is a major industrial center in the U.S., and one of its most prosperous cities. We only got 5 results from Minneapolis, so it's unlikely that all future job postings would have moderate salaries as well."
   ]
  },
  {
   "cell_type": "code",
   "execution_count": 1290,
   "metadata": {
    "collapsed": false
   },
   "outputs": [
    {
     "data": {
      "text/plain": [
       "Atlanta          5.657895e-01\n",
       "Austin           2.263158e+00\n",
       "Boston           2.036842e+00\n",
       "Chicago          2.036842e+00\n",
       "Denver           1.740891e-01\n",
       "Los Angeles      1.044534e+00\n",
       "Minneapolis      1.115593e-07\n",
       "New York         1.616541e+00\n",
       "San Francisco    7.112782e+00\n",
       "Seattle          1.939850e+00\n",
       "intercept        4.418605e-01\n",
       "dtype: float64"
      ]
     },
     "execution_count": 1290,
     "metadata": {},
     "output_type": "execute_result"
    }
   ],
   "source": [
    "np.exp(result.params)"
   ]
  },
  {
   "cell_type": "code",
   "execution_count": 1291,
   "metadata": {
    "collapsed": false
   },
   "outputs": [
    {
     "data": {
      "text/html": [
       "<div>\n",
       "<table border=\"1\" class=\"dataframe\">\n",
       "  <thead>\n",
       "    <tr style=\"text-align: right;\">\n",
       "      <th></th>\n",
       "      <th>2.5%</th>\n",
       "      <th>97.5%</th>\n",
       "      <th>original</th>\n",
       "    </tr>\n",
       "  </thead>\n",
       "  <tbody>\n",
       "    <tr>\n",
       "      <th>Atlanta</th>\n",
       "      <td>-1.945079</td>\n",
       "      <td>0.806013</td>\n",
       "      <td>-0.569533</td>\n",
       "    </tr>\n",
       "    <tr>\n",
       "      <th>Austin</th>\n",
       "      <td>-0.872171</td>\n",
       "      <td>2.505693</td>\n",
       "      <td>0.816761</td>\n",
       "    </tr>\n",
       "    <tr>\n",
       "      <th>Boston</th>\n",
       "      <td>-0.123468</td>\n",
       "      <td>1.546269</td>\n",
       "      <td>0.711401</td>\n",
       "    </tr>\n",
       "    <tr>\n",
       "      <th>Chicago</th>\n",
       "      <td>-0.338596</td>\n",
       "      <td>1.761397</td>\n",
       "      <td>0.711401</td>\n",
       "    </tr>\n",
       "    <tr>\n",
       "      <th>Denver</th>\n",
       "      <td>-3.852582</td>\n",
       "      <td>0.356206</td>\n",
       "      <td>-1.748188</td>\n",
       "    </tr>\n",
       "    <tr>\n",
       "      <th>Los Angeles</th>\n",
       "      <td>-1.064246</td>\n",
       "      <td>1.151388</td>\n",
       "      <td>0.043571</td>\n",
       "    </tr>\n",
       "    <tr>\n",
       "      <th>Minneapolis</th>\n",
       "      <td>-3963.921547</td>\n",
       "      <td>3931.904129</td>\n",
       "      <td>-16.008709</td>\n",
       "    </tr>\n",
       "    <tr>\n",
       "      <th>New York</th>\n",
       "      <td>-0.264649</td>\n",
       "      <td>1.225227</td>\n",
       "      <td>0.480289</td>\n",
       "    </tr>\n",
       "    <tr>\n",
       "      <th>San Francisco</th>\n",
       "      <td>0.954466</td>\n",
       "      <td>2.969321</td>\n",
       "      <td>1.961893</td>\n",
       "    </tr>\n",
       "    <tr>\n",
       "      <th>Seattle</th>\n",
       "      <td>-0.554164</td>\n",
       "      <td>1.879385</td>\n",
       "      <td>0.662610</td>\n",
       "    </tr>\n",
       "    <tr>\n",
       "      <th>intercept</th>\n",
       "      <td>-1.356685</td>\n",
       "      <td>-0.276837</td>\n",
       "      <td>-0.816761</td>\n",
       "    </tr>\n",
       "  </tbody>\n",
       "</table>\n",
       "</div>"
      ],
      "text/plain": [
       "                      2.5%        97.5%   original\n",
       "Atlanta          -1.945079     0.806013  -0.569533\n",
       "Austin           -0.872171     2.505693   0.816761\n",
       "Boston           -0.123468     1.546269   0.711401\n",
       "Chicago          -0.338596     1.761397   0.711401\n",
       "Denver           -3.852582     0.356206  -1.748188\n",
       "Los Angeles      -1.064246     1.151388   0.043571\n",
       "Minneapolis   -3963.921547  3931.904129 -16.008709\n",
       "New York         -0.264649     1.225227   0.480289\n",
       "San Francisco     0.954466     2.969321   1.961893\n",
       "Seattle          -0.554164     1.879385   0.662610\n",
       "intercept        -1.356685    -0.276837  -0.816761"
      ]
     },
     "execution_count": 1291,
     "metadata": {},
     "output_type": "execute_result"
    }
   ],
   "source": [
    "conf = result.conf_int()\n",
    "conf['original'] = result.params\n",
    "conf.columns = ['2.5%','97.5%', 'original']\n",
    "conf"
   ]
  },
  {
   "cell_type": "code",
   "execution_count": 1292,
   "metadata": {
    "collapsed": false
   },
   "outputs": [
    {
     "data": {
      "text/html": [
       "<div>\n",
       "<table border=\"1\" class=\"dataframe\">\n",
       "  <thead>\n",
       "    <tr style=\"text-align: right;\">\n",
       "      <th></th>\n",
       "      <th>2.5%</th>\n",
       "      <th>97.5%</th>\n",
       "      <th>original</th>\n",
       "    </tr>\n",
       "  </thead>\n",
       "  <tbody>\n",
       "    <tr>\n",
       "      <th>Atlanta</th>\n",
       "      <td>0.142976</td>\n",
       "      <td>2.238962</td>\n",
       "      <td>5.657895e-01</td>\n",
       "    </tr>\n",
       "    <tr>\n",
       "      <th>Austin</th>\n",
       "      <td>0.418043</td>\n",
       "      <td>12.252047</td>\n",
       "      <td>2.263158e+00</td>\n",
       "    </tr>\n",
       "    <tr>\n",
       "      <th>Boston</th>\n",
       "      <td>0.883850</td>\n",
       "      <td>4.693926</td>\n",
       "      <td>2.036842e+00</td>\n",
       "    </tr>\n",
       "    <tr>\n",
       "      <th>Chicago</th>\n",
       "      <td>0.712770</td>\n",
       "      <td>5.820565</td>\n",
       "      <td>2.036842e+00</td>\n",
       "    </tr>\n",
       "    <tr>\n",
       "      <th>Denver</th>\n",
       "      <td>0.021225</td>\n",
       "      <td>1.427901</td>\n",
       "      <td>1.740891e-01</td>\n",
       "    </tr>\n",
       "    <tr>\n",
       "      <th>Los Angeles</th>\n",
       "      <td>0.344988</td>\n",
       "      <td>3.162580</td>\n",
       "      <td>1.044534e+00</td>\n",
       "    </tr>\n",
       "    <tr>\n",
       "      <th>Minneapolis</th>\n",
       "      <td>0.000000</td>\n",
       "      <td>inf</td>\n",
       "      <td>1.115593e-07</td>\n",
       "    </tr>\n",
       "    <tr>\n",
       "      <th>New York</th>\n",
       "      <td>0.767475</td>\n",
       "      <td>3.404939</td>\n",
       "      <td>1.616541e+00</td>\n",
       "    </tr>\n",
       "    <tr>\n",
       "      <th>San Francisco</th>\n",
       "      <td>2.597283</td>\n",
       "      <td>19.478685</td>\n",
       "      <td>7.112782e+00</td>\n",
       "    </tr>\n",
       "    <tr>\n",
       "      <th>Seattle</th>\n",
       "      <td>0.574552</td>\n",
       "      <td>6.549478</td>\n",
       "      <td>1.939850e+00</td>\n",
       "    </tr>\n",
       "    <tr>\n",
       "      <th>intercept</th>\n",
       "      <td>0.257513</td>\n",
       "      <td>0.758178</td>\n",
       "      <td>4.418605e-01</td>\n",
       "    </tr>\n",
       "  </tbody>\n",
       "</table>\n",
       "</div>"
      ],
      "text/plain": [
       "                   2.5%      97.5%      original\n",
       "Atlanta        0.142976   2.238962  5.657895e-01\n",
       "Austin         0.418043  12.252047  2.263158e+00\n",
       "Boston         0.883850   4.693926  2.036842e+00\n",
       "Chicago        0.712770   5.820565  2.036842e+00\n",
       "Denver         0.021225   1.427901  1.740891e-01\n",
       "Los Angeles    0.344988   3.162580  1.044534e+00\n",
       "Minneapolis    0.000000        inf  1.115593e-07\n",
       "New York       0.767475   3.404939  1.616541e+00\n",
       "San Francisco  2.597283  19.478685  7.112782e+00\n",
       "Seattle        0.574552   6.549478  1.939850e+00\n",
       "intercept      0.257513   0.758178  4.418605e-01"
      ]
     },
     "execution_count": 1292,
     "metadata": {},
     "output_type": "execute_result"
    }
   ],
   "source": [
    "np.exp(conf)"
   ]
  },
  {
   "cell_type": "markdown",
   "metadata": {
    "collapsed": false
   },
   "source": [
    "Analysis here for above chart"
   ]
  },
  {
   "cell_type": "markdown",
   "metadata": {},
   "source": [
    "Analysis here"
   ]
  },
  {
   "cell_type": "code",
   "execution_count": 1293,
   "metadata": {
    "collapsed": false
   },
   "outputs": [
    {
     "data": {
      "text/plain": [
       "<matplotlib.axes._subplots.AxesSubplot at 0x123222590>"
      ]
     },
     "execution_count": 1293,
     "metadata": {},
     "output_type": "execute_result"
    },
    {
     "data": {
      "image/png": "[encoded data removed]",
      "text/plain": [
       "<matplotlib.figure.Figure at 0x122696d90>"
      ]
     },
     "metadata": {},
     "output_type": "display_data"
    }
   ],
   "source": [
    "sns.heatmap(join.corr())"
   ]
  },
  {
   "cell_type": "code",
   "execution_count": 1294,
   "metadata": {
    "collapsed": false
   },
   "outputs": [
    {
     "data": {
      "text/html": [
       "<div>\n",
       "<table border=\"1\" class=\"dataframe\">\n",
       "  <thead>\n",
       "    <tr style=\"text-align: right;\">\n",
       "      <th></th>\n",
       "      <th>salClass</th>\n",
       "      <th>Atlanta</th>\n",
       "      <th>Austin</th>\n",
       "      <th>Boston</th>\n",
       "      <th>Chicago</th>\n",
       "      <th>Denver</th>\n",
       "      <th>Los Angeles</th>\n",
       "      <th>Minneapolis</th>\n",
       "      <th>New York</th>\n",
       "      <th>San Francisco</th>\n",
       "      <th>Seattle</th>\n",
       "      <th>Washington DC</th>\n",
       "      <th>intercept</th>\n",
       "    </tr>\n",
       "  </thead>\n",
       "  <tbody>\n",
       "    <tr>\n",
       "      <th>salClass</th>\n",
       "      <td>1.000000</td>\n",
       "      <td>-0.107443</td>\n",
       "      <td>0.029161</td>\n",
       "      <td>0.028267</td>\n",
       "      <td>0.054180</td>\n",
       "      <td>-0.121426</td>\n",
       "      <td>-0.063246</td>\n",
       "      <td>-0.091863</td>\n",
       "      <td>0.012221</td>\n",
       "      <td>0.222771</td>\n",
       "      <td>0.023415</td>\n",
       "      <td>-0.070332</td>\n",
       "      <td>NaN</td>\n",
       "    </tr>\n",
       "    <tr>\n",
       "      <th>Atlanta</th>\n",
       "      <td>-0.107443</td>\n",
       "      <td>1.000000</td>\n",
       "      <td>-0.034464</td>\n",
       "      <td>-0.089087</td>\n",
       "      <td>-0.074706</td>\n",
       "      <td>-0.050827</td>\n",
       "      <td>-0.062290</td>\n",
       "      <td>-0.027143</td>\n",
       "      <td>-0.129989</td>\n",
       "      <td>-0.078163</td>\n",
       "      <td>-0.055346</td>\n",
       "      <td>-0.131851</td>\n",
       "      <td>NaN</td>\n",
       "    </tr>\n",
       "    <tr>\n",
       "      <th>Austin</th>\n",
       "      <td>0.029161</td>\n",
       "      <td>-0.034464</td>\n",
       "      <td>1.000000</td>\n",
       "      <td>-0.052753</td>\n",
       "      <td>-0.044237</td>\n",
       "      <td>-0.030097</td>\n",
       "      <td>-0.036886</td>\n",
       "      <td>-0.016073</td>\n",
       "      <td>-0.076974</td>\n",
       "      <td>-0.046285</td>\n",
       "      <td>-0.032774</td>\n",
       "      <td>-0.078077</td>\n",
       "      <td>NaN</td>\n",
       "    </tr>\n",
       "    <tr>\n",
       "      <th>Boston</th>\n",
       "      <td>0.028267</td>\n",
       "      <td>-0.089087</td>\n",
       "      <td>-0.052753</td>\n",
       "      <td>1.000000</td>\n",
       "      <td>-0.114350</td>\n",
       "      <td>-0.077799</td>\n",
       "      <td>-0.095346</td>\n",
       "      <td>-0.041547</td>\n",
       "      <td>-0.198971</td>\n",
       "      <td>-0.119643</td>\n",
       "      <td>-0.084717</td>\n",
       "      <td>-0.201822</td>\n",
       "      <td>NaN</td>\n",
       "    </tr>\n",
       "    <tr>\n",
       "      <th>Chicago</th>\n",
       "      <td>0.054180</td>\n",
       "      <td>-0.074706</td>\n",
       "      <td>-0.044237</td>\n",
       "      <td>-0.114350</td>\n",
       "      <td>1.000000</td>\n",
       "      <td>-0.065240</td>\n",
       "      <td>-0.079954</td>\n",
       "      <td>-0.034840</td>\n",
       "      <td>-0.166851</td>\n",
       "      <td>-0.100329</td>\n",
       "      <td>-0.071041</td>\n",
       "      <td>-0.169241</td>\n",
       "      <td>NaN</td>\n",
       "    </tr>\n",
       "    <tr>\n",
       "      <th>Denver</th>\n",
       "      <td>-0.121426</td>\n",
       "      <td>-0.050827</td>\n",
       "      <td>-0.030097</td>\n",
       "      <td>-0.077799</td>\n",
       "      <td>-0.065240</td>\n",
       "      <td>1.000000</td>\n",
       "      <td>-0.054398</td>\n",
       "      <td>-0.023703</td>\n",
       "      <td>-0.113518</td>\n",
       "      <td>-0.068259</td>\n",
       "      <td>-0.048334</td>\n",
       "      <td>-0.115145</td>\n",
       "      <td>NaN</td>\n",
       "    </tr>\n",
       "    <tr>\n",
       "      <th>Los Angeles</th>\n",
       "      <td>-0.063246</td>\n",
       "      <td>-0.062290</td>\n",
       "      <td>-0.036886</td>\n",
       "      <td>-0.095346</td>\n",
       "      <td>-0.079954</td>\n",
       "      <td>-0.054398</td>\n",
       "      <td>1.000000</td>\n",
       "      <td>-0.029050</td>\n",
       "      <td>-0.139122</td>\n",
       "      <td>-0.083655</td>\n",
       "      <td>-0.059235</td>\n",
       "      <td>-0.141115</td>\n",
       "      <td>NaN</td>\n",
       "    </tr>\n",
       "    <tr>\n",
       "      <th>Minneapolis</th>\n",
       "      <td>-0.091863</td>\n",
       "      <td>-0.027143</td>\n",
       "      <td>-0.016073</td>\n",
       "      <td>-0.041547</td>\n",
       "      <td>-0.034840</td>\n",
       "      <td>-0.023703</td>\n",
       "      <td>-0.029050</td>\n",
       "      <td>1.000000</td>\n",
       "      <td>-0.060622</td>\n",
       "      <td>-0.036452</td>\n",
       "      <td>-0.025811</td>\n",
       "      <td>-0.061490</td>\n",
       "      <td>NaN</td>\n",
       "    </tr>\n",
       "    <tr>\n",
       "      <th>New York</th>\n",
       "      <td>0.012221</td>\n",
       "      <td>-0.129989</td>\n",
       "      <td>-0.076974</td>\n",
       "      <td>-0.198971</td>\n",
       "      <td>-0.166851</td>\n",
       "      <td>-0.113518</td>\n",
       "      <td>-0.139122</td>\n",
       "      <td>-0.060622</td>\n",
       "      <td>1.000000</td>\n",
       "      <td>-0.174573</td>\n",
       "      <td>-0.123613</td>\n",
       "      <td>-0.294482</td>\n",
       "      <td>NaN</td>\n",
       "    </tr>\n",
       "    <tr>\n",
       "      <th>San Francisco</th>\n",
       "      <td>0.222771</td>\n",
       "      <td>-0.078163</td>\n",
       "      <td>-0.046285</td>\n",
       "      <td>-0.119643</td>\n",
       "      <td>-0.100329</td>\n",
       "      <td>-0.068259</td>\n",
       "      <td>-0.083655</td>\n",
       "      <td>-0.036452</td>\n",
       "      <td>-0.174573</td>\n",
       "      <td>1.000000</td>\n",
       "      <td>-0.074329</td>\n",
       "      <td>-0.177075</td>\n",
       "      <td>NaN</td>\n",
       "    </tr>\n",
       "    <tr>\n",
       "      <th>Seattle</th>\n",
       "      <td>0.023415</td>\n",
       "      <td>-0.055346</td>\n",
       "      <td>-0.032774</td>\n",
       "      <td>-0.084717</td>\n",
       "      <td>-0.071041</td>\n",
       "      <td>-0.048334</td>\n",
       "      <td>-0.059235</td>\n",
       "      <td>-0.025811</td>\n",
       "      <td>-0.123613</td>\n",
       "      <td>-0.074329</td>\n",
       "      <td>1.000000</td>\n",
       "      <td>-0.125384</td>\n",
       "      <td>NaN</td>\n",
       "    </tr>\n",
       "    <tr>\n",
       "      <th>Washington DC</th>\n",
       "      <td>-0.070332</td>\n",
       "      <td>-0.131851</td>\n",
       "      <td>-0.078077</td>\n",
       "      <td>-0.201822</td>\n",
       "      <td>-0.169241</td>\n",
       "      <td>-0.115145</td>\n",
       "      <td>-0.141115</td>\n",
       "      <td>-0.061490</td>\n",
       "      <td>-0.294482</td>\n",
       "      <td>-0.177075</td>\n",
       "      <td>-0.125384</td>\n",
       "      <td>1.000000</td>\n",
       "      <td>NaN</td>\n",
       "    </tr>\n",
       "    <tr>\n",
       "      <th>intercept</th>\n",
       "      <td>NaN</td>\n",
       "      <td>NaN</td>\n",
       "      <td>NaN</td>\n",
       "      <td>NaN</td>\n",
       "      <td>NaN</td>\n",
       "      <td>NaN</td>\n",
       "      <td>NaN</td>\n",
       "      <td>NaN</td>\n",
       "      <td>NaN</td>\n",
       "      <td>NaN</td>\n",
       "      <td>NaN</td>\n",
       "      <td>NaN</td>\n",
       "      <td>NaN</td>\n",
       "    </tr>\n",
       "  </tbody>\n",
       "</table>\n",
       "</div>"
      ],
      "text/plain": [
       "               salClass   Atlanta    Austin    Boston   Chicago    Denver  \\\n",
       "salClass       1.000000 -0.107443  0.029161  0.028267  0.054180 -0.121426   \n",
       "Atlanta       -0.107443  1.000000 -0.034464 -0.089087 -0.074706 -0.050827   \n",
       "Austin         0.029161 -0.034464  1.000000 -0.052753 -0.044237 -0.030097   \n",
       "Boston         0.028267 -0.089087 -0.052753  1.000000 -0.114350 -0.077799   \n",
       "Chicago        0.054180 -0.074706 -0.044237 -0.114350  1.000000 -0.065240   \n",
       "Denver        -0.121426 -0.050827 -0.030097 -0.077799 -0.065240  1.000000   \n",
       "Los Angeles   -0.063246 -0.062290 -0.036886 -0.095346 -0.079954 -0.054398   \n",
       "Minneapolis   -0.091863 -0.027143 -0.016073 -0.041547 -0.034840 -0.023703   \n",
       "New York       0.012221 -0.129989 -0.076974 -0.198971 -0.166851 -0.113518   \n",
       "San Francisco  0.222771 -0.078163 -0.046285 -0.119643 -0.100329 -0.068259   \n",
       "Seattle        0.023415 -0.055346 -0.032774 -0.084717 -0.071041 -0.048334   \n",
       "Washington DC -0.070332 -0.131851 -0.078077 -0.201822 -0.169241 -0.115145   \n",
       "intercept           NaN       NaN       NaN       NaN       NaN       NaN   \n",
       "\n",
       "               Los Angeles  Minneapolis  New York  San Francisco   Seattle  \\\n",
       "salClass         -0.063246    -0.091863  0.012221       0.222771  0.023415   \n",
       "Atlanta          -0.062290    -0.027143 -0.129989      -0.078163 -0.055346   \n",
       "Austin           -0.036886    -0.016073 -0.076974      -0.046285 -0.032774   \n",
       "Boston           -0.095346    -0.041547 -0.198971      -0.119643 -0.084717   \n",
       "Chicago          -0.079954    -0.034840 -0.166851      -0.100329 -0.071041   \n",
       "Denver           -0.054398    -0.023703 -0.113518      -0.068259 -0.048334   \n",
       "Los Angeles       1.000000    -0.029050 -0.139122      -0.083655 -0.059235   \n",
       "Minneapolis      -0.029050     1.000000 -0.060622      -0.036452 -0.025811   \n",
       "New York         -0.139122    -0.060622  1.000000      -0.174573 -0.123613   \n",
       "San Francisco    -0.083655    -0.036452 -0.174573       1.000000 -0.074329   \n",
       "Seattle          -0.059235    -0.025811 -0.123613      -0.074329  1.000000   \n",
       "Washington DC    -0.141115    -0.061490 -0.294482      -0.177075 -0.125384   \n",
       "intercept              NaN          NaN       NaN            NaN       NaN   \n",
       "\n",
       "               Washington DC  intercept  \n",
       "salClass           -0.070332        NaN  \n",
       "Atlanta            -0.131851        NaN  \n",
       "Austin             -0.078077        NaN  \n",
       "Boston             -0.201822        NaN  \n",
       "Chicago            -0.169241        NaN  \n",
       "Denver             -0.115145        NaN  \n",
       "Los Angeles        -0.141115        NaN  \n",
       "Minneapolis        -0.061490        NaN  \n",
       "New York           -0.294482        NaN  \n",
       "San Francisco      -0.177075        NaN  \n",
       "Seattle            -0.125384        NaN  \n",
       "Washington DC       1.000000        NaN  \n",
       "intercept                NaN        NaN  "
      ]
     },
     "execution_count": 1294,
     "metadata": {},
     "output_type": "execute_result"
    }
   ],
   "source": [
    "join.corr()"
   ]
  },
  {
   "cell_type": "markdown",
   "metadata": {},
   "source": [
    "# Make Predictions\n",
    "\n",
    "No we'll take our model and test it on the remaining 30% of our data that it hasn't seen yet."
   ]
  },
  {
   "cell_type": "code",
   "execution_count": 1295,
   "metadata": {
    "collapsed": false
   },
   "outputs": [
    {
     "name": "stderr",
     "output_type": "stream",
     "text": [
      "/Users/michaelmainzer/anaconda/lib/python2.7/site-packages/ipykernel/__main__.py:1: SettingWithCopyWarning: \n",
      "A value is trying to be set on a copy of a slice from a DataFrame.\n",
      "Try using .loc[row_indexer,col_indexer] = value instead\n",
      "\n",
      "See the caveats in the documentation: http://pandas.pydata.org/pandas-docs/stable/indexing.html#indexing-view-versus-copy\n",
      "  if __name__ == '__main__':\n"
     ]
    }
   ],
   "source": [
    "X_test['actualSal'] = y_test\n",
    "dfPredictions = X_test"
   ]
  },
  {
   "cell_type": "code",
   "execution_count": 1297,
   "metadata": {
    "collapsed": false
   },
   "outputs": [
    {
     "name": "stderr",
     "output_type": "stream",
     "text": [
      "/Users/michaelmainzer/anaconda/lib/python2.7/site-packages/ipykernel/__main__.py:1: SettingWithCopyWarning: \n",
      "A value is trying to be set on a copy of a slice from a DataFrame.\n",
      "Try using .loc[row_indexer,col_indexer] = value instead\n",
      "\n",
      "See the caveats in the documentation: http://pandas.pydata.org/pandas-docs/stable/indexing.html#indexing-view-versus-copy\n",
      "  if __name__ == '__main__':\n"
     ]
    }
   ],
   "source": [
    "dfPredictions['predictedSal'] = result.predict(dfPredictions[ dfPredictions.columns[0:11] ] )"
   ]
  },
  {
   "cell_type": "code",
   "execution_count": 1298,
   "metadata": {
    "collapsed": false
   },
   "outputs": [
    {
     "name": "stderr",
     "output_type": "stream",
     "text": [
      "/Users/michaelmainzer/anaconda/lib/python2.7/site-packages/ipykernel/__main__.py:3: SettingWithCopyWarning: \n",
      "A value is trying to be set on a copy of a slice from a DataFrame.\n",
      "Try using .loc[row_indexer,col_indexer] = value instead\n",
      "\n",
      "See the caveats in the documentation: http://pandas.pydata.org/pandas-docs/stable/indexing.html#indexing-view-versus-copy\n",
      "  app.launch_new_instance()\n"
     ]
    }
   ],
   "source": [
    "threshold = 0.5\n",
    "\n",
    "dfPredictions['approxPredict'] = [0 if i < threshold else 1 for i in dfPredictions['predictedSal']]"
   ]
  },
  {
   "cell_type": "code",
   "execution_count": 1299,
   "metadata": {
    "collapsed": false
   },
   "outputs": [
    {
     "data": {
      "text/html": [
       "<div>\n",
       "<table border=\"1\" class=\"dataframe\">\n",
       "  <thead>\n",
       "    <tr style=\"text-align: right;\">\n",
       "      <th></th>\n",
       "      <th>Atlanta</th>\n",
       "      <th>Austin</th>\n",
       "      <th>Boston</th>\n",
       "      <th>Chicago</th>\n",
       "      <th>Denver</th>\n",
       "      <th>Los Angeles</th>\n",
       "      <th>Minneapolis</th>\n",
       "      <th>New York</th>\n",
       "      <th>San Francisco</th>\n",
       "      <th>Seattle</th>\n",
       "      <th>intercept</th>\n",
       "      <th>actualSal</th>\n",
       "      <th>predictedSal</th>\n",
       "      <th>approxPredict</th>\n",
       "    </tr>\n",
       "  </thead>\n",
       "  <tbody>\n",
       "    <tr>\n",
       "      <th>335</th>\n",
       "      <td>0.0</td>\n",
       "      <td>0.0</td>\n",
       "      <td>1.0</td>\n",
       "      <td>0.0</td>\n",
       "      <td>0.0</td>\n",
       "      <td>0.0</td>\n",
       "      <td>0.0</td>\n",
       "      <td>0.0</td>\n",
       "      <td>0.0</td>\n",
       "      <td>0.0</td>\n",
       "      <td>1</td>\n",
       "      <td>0</td>\n",
       "      <td>0.473684</td>\n",
       "      <td>0</td>\n",
       "    </tr>\n",
       "    <tr>\n",
       "      <th>111</th>\n",
       "      <td>0.0</td>\n",
       "      <td>0.0</td>\n",
       "      <td>0.0</td>\n",
       "      <td>1.0</td>\n",
       "      <td>0.0</td>\n",
       "      <td>0.0</td>\n",
       "      <td>0.0</td>\n",
       "      <td>0.0</td>\n",
       "      <td>0.0</td>\n",
       "      <td>0.0</td>\n",
       "      <td>1</td>\n",
       "      <td>0</td>\n",
       "      <td>0.473684</td>\n",
       "      <td>0</td>\n",
       "    </tr>\n",
       "    <tr>\n",
       "      <th>355</th>\n",
       "      <td>1.0</td>\n",
       "      <td>0.0</td>\n",
       "      <td>0.0</td>\n",
       "      <td>0.0</td>\n",
       "      <td>0.0</td>\n",
       "      <td>0.0</td>\n",
       "      <td>0.0</td>\n",
       "      <td>0.0</td>\n",
       "      <td>0.0</td>\n",
       "      <td>0.0</td>\n",
       "      <td>1</td>\n",
       "      <td>0</td>\n",
       "      <td>0.200000</td>\n",
       "      <td>0</td>\n",
       "    </tr>\n",
       "    <tr>\n",
       "      <th>206</th>\n",
       "      <td>0.0</td>\n",
       "      <td>0.0</td>\n",
       "      <td>0.0</td>\n",
       "      <td>0.0</td>\n",
       "      <td>0.0</td>\n",
       "      <td>0.0</td>\n",
       "      <td>0.0</td>\n",
       "      <td>1.0</td>\n",
       "      <td>0.0</td>\n",
       "      <td>0.0</td>\n",
       "      <td>1</td>\n",
       "      <td>0</td>\n",
       "      <td>0.416667</td>\n",
       "      <td>0</td>\n",
       "    </tr>\n",
       "    <tr>\n",
       "      <th>56</th>\n",
       "      <td>0.0</td>\n",
       "      <td>0.0</td>\n",
       "      <td>0.0</td>\n",
       "      <td>0.0</td>\n",
       "      <td>0.0</td>\n",
       "      <td>0.0</td>\n",
       "      <td>0.0</td>\n",
       "      <td>0.0</td>\n",
       "      <td>0.0</td>\n",
       "      <td>0.0</td>\n",
       "      <td>1</td>\n",
       "      <td>0</td>\n",
       "      <td>0.306452</td>\n",
       "      <td>0</td>\n",
       "    </tr>\n",
       "  </tbody>\n",
       "</table>\n",
       "</div>"
      ],
      "text/plain": [
       "     Atlanta  Austin  Boston  Chicago  Denver  Los Angeles  Minneapolis  \\\n",
       "335      0.0     0.0     1.0      0.0     0.0          0.0          0.0   \n",
       "111      0.0     0.0     0.0      1.0     0.0          0.0          0.0   \n",
       "355      1.0     0.0     0.0      0.0     0.0          0.0          0.0   \n",
       "206      0.0     0.0     0.0      0.0     0.0          0.0          0.0   \n",
       "56       0.0     0.0     0.0      0.0     0.0          0.0          0.0   \n",
       "\n",
       "     New York  San Francisco  Seattle  intercept  actualSal  predictedSal  \\\n",
       "335       0.0            0.0      0.0          1          0      0.473684   \n",
       "111       0.0            0.0      0.0          1          0      0.473684   \n",
       "355       0.0            0.0      0.0          1          0      0.200000   \n",
       "206       1.0            0.0      0.0          1          0      0.416667   \n",
       "56        0.0            0.0      0.0          1          0      0.306452   \n",
       "\n",
       "     approxPredict  \n",
       "335              0  \n",
       "111              0  \n",
       "355              0  \n",
       "206              0  \n",
       "56               0  "
      ]
     },
     "execution_count": 1299,
     "metadata": {},
     "output_type": "execute_result"
    }
   ],
   "source": [
    "dfPredictions.head()"
   ]
  },
  {
   "cell_type": "code",
   "execution_count": 1300,
   "metadata": {
    "collapsed": false
   },
   "outputs": [
    {
     "name": "stdout",
     "output_type": "stream",
     "text": [
      "approxPredict   0  1\n",
      "actual              \n",
      "0              69  3\n",
      "1              42  6\n"
     ]
    }
   ],
   "source": [
    "print pd.crosstab(\n",
    "        dfPredictions['actualSal'],\n",
    "        dfPredictions['approxPredict'], \n",
    "        rownames=['actual'])"
   ]
  },
  {
   "cell_type": "markdown",
   "metadata": {},
   "source": [
    "We can see from the confusion matrix above that our model isn't terribly accurate overall. It mostly predicted that a particular location would result in a moderate salary as opposed to a high salary, and it guessed wrong on 42 of those cases.\n",
    "\n",
    "Overall, our model's accuracy rate is 62.5%, so it's a little better than a coin flip, which ultimately tells us that simply using the city of a job posting isn't incredibly reliable in predicting whether or not that salary is going to be high or moderate, unless it's in a city like san Francisco, where our data shows that a very high percentage of job postings are considered high, which is normal considering the very high standard of living.\n",
    "\n",
    "A more reliable indicator may be job sector, regardless of a job's location. Below, I'll repeat the process above, except I'll use the job's sector - publi or private - to predict a job's salary range."
   ]
  },
  {
   "cell_type": "markdown",
   "metadata": {},
   "source": [
    "*I'm not done with this yet!*"
   ]
  },
  {
   "cell_type": "code",
   "execution_count": 1301,
   "metadata": {
    "collapsed": true
   },
   "outputs": [],
   "source": [
    "#dfSal['company'] = dfSal['company'].astype('str')"
   ]
  },
  {
   "cell_type": "code",
   "execution_count": 1302,
   "metadata": {
    "collapsed": false
   },
   "outputs": [],
   "source": [
    "#dfSal['sector'] = ['public' if i.str.contains('Department') else 'private' for i.str in dfSal['company']]\n",
    "#frame.a.str.contains(\"dog\") | frame.a.str.contains(\"cat\")\n",
    "#dfSal['publicSector'] = dfSal.company.str.contains(\"Department\") | dfSal.company.str.contains(\"Agency\")\n",
    "#jobSectors = ['private' for c in dfSal.company if c != str.find('Department')]\n",
    "\n",
    "# Create a df of the columns in the variable cols\n",
    "#dfSal['jobSectors'] = jobSectors"
   ]
  },
  {
   "cell_type": "code",
   "execution_count": 1303,
   "metadata": {
    "collapsed": false
   },
   "outputs": [],
   "source": [
    "#publicSector = ['Departent', 'Agency', 'Government','University of','Centers','Council', 'State','Legislature']\n",
    "#dfPredictions['approxPredict'] = [0 if i < threshold else 1 for i in dfPredictions['predictedSal']]"
   ]
  },
  {
   "cell_type": "code",
   "execution_count": 1304,
   "metadata": {
    "collapsed": false
   },
   "outputs": [],
   "source": [
    "jobSectors = []\n",
    "\n",
    "for row in dfSal.company:\n",
    "    if 'department' in row.lower(): \n",
    "        jobSectors.append('public')\n",
    "    elif 'agency' in row.lower(): \n",
    "        jobSectors.append('public')\n",
    "    elif 'government' in row.lower(): \n",
    "        jobSectors.append('public')\n",
    "    elif 'university of' in row.lower(): \n",
    "        jobSectors.append('public')\n",
    "    elif 'centers' in row.lower(): \n",
    "        jobSectors.append('public')\n",
    "    elif 'council' in row.lower(): \n",
    "        jobSectors.append('public')\n",
    "    elif 'state' in row.lower(): \n",
    "        jobSectors.append('public')\n",
    "    elif 'legislature' in row.lower(): \n",
    "        jobSectors.append('public')\n",
    "    elif 'dept' in row.lower(): \n",
    "        jobSectors.append('public')\n",
    "    elif 'admin' in row.lower(): \n",
    "        jobSectors.append('public')\n",
    "    else:\n",
    "        jobSectors.append('private')"
   ]
  },
  {
   "cell_type": "code",
   "execution_count": 1305,
   "metadata": {
    "collapsed": false
   },
   "outputs": [],
   "source": [
    "dfSal['jobSector'] = jobSectors"
   ]
  },
  {
   "cell_type": "code",
   "execution_count": 1306,
   "metadata": {
    "collapsed": false
   },
   "outputs": [
    {
     "data": {
      "text/html": [
       "<div>\n",
       "<table border=\"1\" class=\"dataframe\">\n",
       "  <thead>\n",
       "    <tr style=\"text-align: right;\">\n",
       "      <th></th>\n",
       "      <th>city</th>\n",
       "      <th>company</th>\n",
       "      <th>description</th>\n",
       "      <th>jobTitle</th>\n",
       "      <th>salary</th>\n",
       "      <th>salCategory</th>\n",
       "      <th>salClass</th>\n",
       "      <th>jobSector</th>\n",
       "    </tr>\n",
       "  </thead>\n",
       "  <tbody>\n",
       "    <tr>\n",
       "      <th>0</th>\n",
       "      <td>Washington DC</td>\n",
       "      <td>Department Of Education</td>\n",
       "      <td>Analyze data of extreme complexity largely thr...</td>\n",
       "      <td>Statistician (Predictive Analytics), GS-1530-1...</td>\n",
       "      <td>116850.0</td>\n",
       "      <td>moderate</td>\n",
       "      <td>0</td>\n",
       "      <td>public</td>\n",
       "    </tr>\n",
       "    <tr>\n",
       "      <th>1</th>\n",
       "      <td>Washington DC</td>\n",
       "      <td>Department Of The Interior</td>\n",
       "      <td>Data collection tools; Identify precise operat...</td>\n",
       "      <td>Education Research Analyst, GS-1730-13</td>\n",
       "      <td>105969.5</td>\n",
       "      <td>moderate</td>\n",
       "      <td>0</td>\n",
       "      <td>public</td>\n",
       "    </tr>\n",
       "    <tr>\n",
       "      <th>2</th>\n",
       "      <td>Washington DC</td>\n",
       "      <td>Legislative Branch</td>\n",
       "      <td>Or in the social sciences including demography...</td>\n",
       "      <td>Senior Statistician</td>\n",
       "      <td>101701.5</td>\n",
       "      <td>moderate</td>\n",
       "      <td>0</td>\n",
       "      <td>private</td>\n",
       "    </tr>\n",
       "    <tr>\n",
       "      <th>3</th>\n",
       "      <td>Washington DC</td>\n",
       "      <td>Department Of Commerce</td>\n",
       "      <td>Analyze and evaluate data. Assist in data coll...</td>\n",
       "      <td>Recent Graduate Statistician GS-1530-7/9/11, C...</td>\n",
       "      <td>63864.0</td>\n",
       "      <td>moderate</td>\n",
       "      <td>0</td>\n",
       "      <td>public</td>\n",
       "    </tr>\n",
       "    <tr>\n",
       "      <th>4</th>\n",
       "      <td>Washington DC</td>\n",
       "      <td>Jobspring Partners</td>\n",
       "      <td>The data scientist will develop algorithms and...</td>\n",
       "      <td>Mid Level Data Scientist</td>\n",
       "      <td>140000.0</td>\n",
       "      <td>high</td>\n",
       "      <td>1</td>\n",
       "      <td>private</td>\n",
       "    </tr>\n",
       "  </tbody>\n",
       "</table>\n",
       "</div>"
      ],
      "text/plain": [
       "            city                     company  \\\n",
       "0  Washington DC     Department Of Education   \n",
       "1  Washington DC  Department Of The Interior   \n",
       "2  Washington DC          Legislative Branch   \n",
       "3  Washington DC      Department Of Commerce   \n",
       "4  Washington DC          Jobspring Partners   \n",
       "\n",
       "                                         description  \\\n",
       "0  Analyze data of extreme complexity largely thr...   \n",
       "1  Data collection tools; Identify precise operat...   \n",
       "2  Or in the social sciences including demography...   \n",
       "3  Analyze and evaluate data. Assist in data coll...   \n",
       "4  The data scientist will develop algorithms and...   \n",
       "\n",
       "                                            jobTitle    salary salCategory  \\\n",
       "0  Statistician (Predictive Analytics), GS-1530-1...  116850.0    moderate   \n",
       "1             Education Research Analyst, GS-1730-13  105969.5    moderate   \n",
       "2                                Senior Statistician  101701.5    moderate   \n",
       "3  Recent Graduate Statistician GS-1530-7/9/11, C...   63864.0    moderate   \n",
       "4                           Mid Level Data Scientist  140000.0        high   \n",
       "\n",
       "   salClass jobSector  \n",
       "0         0    public  \n",
       "1         0    public  \n",
       "2         0   private  \n",
       "3         0    public  \n",
       "4         1   private  "
      ]
     },
     "execution_count": 1306,
     "metadata": {},
     "output_type": "execute_result"
    }
   ],
   "source": [
    "dfSal.head()"
   ]
  },
  {
   "cell_type": "code",
   "execution_count": 1308,
   "metadata": {
    "collapsed": false
   },
   "outputs": [],
   "source": [
    "dfSal['jobSectorClass'] = dfSal['jobSector'].map({'public': 0, 'private': 1} )"
   ]
  },
  {
   "cell_type": "code",
   "execution_count": 1309,
   "metadata": {
    "collapsed": false
   },
   "outputs": [
    {
     "data": {
      "text/html": [
       "<div>\n",
       "<table border=\"1\" class=\"dataframe\">\n",
       "  <thead>\n",
       "    <tr style=\"text-align: right;\">\n",
       "      <th></th>\n",
       "      <th>city</th>\n",
       "      <th>company</th>\n",
       "      <th>description</th>\n",
       "      <th>jobTitle</th>\n",
       "      <th>salary</th>\n",
       "      <th>salCategory</th>\n",
       "      <th>salClass</th>\n",
       "      <th>jobSector</th>\n",
       "      <th>jobSectorClass</th>\n",
       "    </tr>\n",
       "  </thead>\n",
       "  <tbody>\n",
       "    <tr>\n",
       "      <th>0</th>\n",
       "      <td>Washington DC</td>\n",
       "      <td>Department Of Education</td>\n",
       "      <td>Analyze data of extreme complexity largely thr...</td>\n",
       "      <td>Statistician (Predictive Analytics), GS-1530-1...</td>\n",
       "      <td>116850.0</td>\n",
       "      <td>moderate</td>\n",
       "      <td>0</td>\n",
       "      <td>public</td>\n",
       "      <td>0</td>\n",
       "    </tr>\n",
       "    <tr>\n",
       "      <th>1</th>\n",
       "      <td>Washington DC</td>\n",
       "      <td>Department Of The Interior</td>\n",
       "      <td>Data collection tools; Identify precise operat...</td>\n",
       "      <td>Education Research Analyst, GS-1730-13</td>\n",
       "      <td>105969.5</td>\n",
       "      <td>moderate</td>\n",
       "      <td>0</td>\n",
       "      <td>public</td>\n",
       "      <td>0</td>\n",
       "    </tr>\n",
       "    <tr>\n",
       "      <th>2</th>\n",
       "      <td>Washington DC</td>\n",
       "      <td>Legislative Branch</td>\n",
       "      <td>Or in the social sciences including demography...</td>\n",
       "      <td>Senior Statistician</td>\n",
       "      <td>101701.5</td>\n",
       "      <td>moderate</td>\n",
       "      <td>0</td>\n",
       "      <td>private</td>\n",
       "      <td>1</td>\n",
       "    </tr>\n",
       "    <tr>\n",
       "      <th>3</th>\n",
       "      <td>Washington DC</td>\n",
       "      <td>Department Of Commerce</td>\n",
       "      <td>Analyze and evaluate data. Assist in data coll...</td>\n",
       "      <td>Recent Graduate Statistician GS-1530-7/9/11, C...</td>\n",
       "      <td>63864.0</td>\n",
       "      <td>moderate</td>\n",
       "      <td>0</td>\n",
       "      <td>public</td>\n",
       "      <td>0</td>\n",
       "    </tr>\n",
       "    <tr>\n",
       "      <th>4</th>\n",
       "      <td>Washington DC</td>\n",
       "      <td>Jobspring Partners</td>\n",
       "      <td>The data scientist will develop algorithms and...</td>\n",
       "      <td>Mid Level Data Scientist</td>\n",
       "      <td>140000.0</td>\n",
       "      <td>high</td>\n",
       "      <td>1</td>\n",
       "      <td>private</td>\n",
       "      <td>1</td>\n",
       "    </tr>\n",
       "  </tbody>\n",
       "</table>\n",
       "</div>"
      ],
      "text/plain": [
       "            city                     company  \\\n",
       "0  Washington DC     Department Of Education   \n",
       "1  Washington DC  Department Of The Interior   \n",
       "2  Washington DC          Legislative Branch   \n",
       "3  Washington DC      Department Of Commerce   \n",
       "4  Washington DC          Jobspring Partners   \n",
       "\n",
       "                                         description  \\\n",
       "0  Analyze data of extreme complexity largely thr...   \n",
       "1  Data collection tools; Identify precise operat...   \n",
       "2  Or in the social sciences including demography...   \n",
       "3  Analyze and evaluate data. Assist in data coll...   \n",
       "4  The data scientist will develop algorithms and...   \n",
       "\n",
       "                                            jobTitle    salary salCategory  \\\n",
       "0  Statistician (Predictive Analytics), GS-1530-1...  116850.0    moderate   \n",
       "1             Education Research Analyst, GS-1730-13  105969.5    moderate   \n",
       "2                                Senior Statistician  101701.5    moderate   \n",
       "3  Recent Graduate Statistician GS-1530-7/9/11, C...   63864.0    moderate   \n",
       "4                           Mid Level Data Scientist  140000.0        high   \n",
       "\n",
       "   salClass jobSector  jobSectorClass  \n",
       "0         0    public               0  \n",
       "1         0    public               0  \n",
       "2         0   private               1  \n",
       "3         0    public               0  \n",
       "4         1   private               1  "
      ]
     },
     "execution_count": 1309,
     "metadata": {},
     "output_type": "execute_result"
    }
   ],
   "source": [
    "dfSal.head()"
   ]
  },
  {
   "cell_type": "code",
   "execution_count": null,
   "metadata": {
    "collapsed": false
   },
   "outputs": [],
   "source": [
    "#def titleCat(title):\n",
    "#    jobtitle  = company.lower()\n",
    "#    if (\"department\" in jobtitle)|(\"agency\" in jobtitle)|(\"government\" in jobtitle) |(\"university\" in jobtitle):\n",
    "#        return 'public'\n",
    "#    elif (\"centers\" in jobtitle) |(\"council\" in jobtitle) |(\"state\" in jobtitle) |(\"legislature\" in jobtitle):\n",
    "#        return 'public'\n",
    "#    elif (\"dept\" in jobtitle) |(\"admin\" in jobtitle):\n",
    "#        return 'public'\n",
    "#    else:\n",
    "#        return 'private'\n",
    "    \n",
    "#dfSal[\"jobCat\"] = dfSal[\"company\"].apply(titleCat)"
   ]
  },
  {
   "cell_type": "code",
   "execution_count": null,
   "metadata": {
    "collapsed": false
   },
   "outputs": [],
   "source": [
    "#dfSal['jobSector'] = [if i in dfSal.company.str.lower().str.contains('Department'): 'public' else 'private' for i in dfSal['company']]"
   ]
  },
  {
   "cell_type": "code",
   "execution_count": null,
   "metadata": {
    "collapsed": false
   },
   "outputs": [],
   "source": [
    "#dfSal"
   ]
  },
  {
   "cell_type": "code",
   "execution_count": null,
   "metadata": {
    "collapsed": true
   },
   "outputs": [],
   "source": []
  }
 ],
 "metadata": {
  "kernelspec": {
   "display_name": "Python 2",
   "language": "python",
   "name": "python2"
  },
  "language_info": {
   "codemirror_mode": {
    "name": "ipython",
    "version": 2
   },
   "file_extension": ".py",
   "mimetype": "text/x-python",
   "name": "python",
   "nbconvert_exporter": "python",
   "pygments_lexer": "ipython2",
   "version": "2.7.11"
  }
 },
 "nbformat": 4,
 "nbformat_minor": 0
}
