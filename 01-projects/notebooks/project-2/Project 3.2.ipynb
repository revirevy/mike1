{
 "cells": [
  {
   "cell_type": "code",
   "execution_count": 677,
   "metadata": {
    "collapsed": true
   },
   "outputs": [],
   "source": [
    "import pandas as pd\n",
    "import datetime\n",
    "import numpy as np\n",
    "import pandas as pd\n",
    "\n",
    "import seaborn as sns\n",
    "import matplotlib.pyplot as plt\n",
    "% matplotlib inline"
   ]
  },
  {
   "cell_type": "code",
   "execution_count": 678,
   "metadata": {
    "collapsed": true
   },
   "outputs": [],
   "source": [
    "def read_csv(path): return pd.read_csv( path, sep = ',' ) \n",
    "\n",
    "path = \"/Users/michaelmainzer/Documents/GA/DSI/mike1/01-projects/assets/03-project3-assets/Iowa_Liquor_sales_sample.csv\" # relative path\n",
    "df = read_csv(path)"
   ]
  },
  {
   "cell_type": "code",
   "execution_count": 679,
   "metadata": {
    "collapsed": false
   },
   "outputs": [
    {
     "data": {
      "text/html": [
       "<div>\n",
       "<table border=\"1\" class=\"dataframe\">\n",
       "  <thead>\n",
       "    <tr style=\"text-align: right;\">\n",
       "      <th></th>\n",
       "      <th>Date</th>\n",
       "      <th>Store Number</th>\n",
       "      <th>City</th>\n",
       "      <th>Zip Code</th>\n",
       "      <th>County Number</th>\n",
       "      <th>County</th>\n",
       "      <th>Category</th>\n",
       "      <th>Category Name</th>\n",
       "      <th>Vendor Number</th>\n",
       "      <th>Item Number</th>\n",
       "      <th>Item Description</th>\n",
       "      <th>Bottle Volume (ml)</th>\n",
       "      <th>State Bottle Cost</th>\n",
       "      <th>State Bottle Retail</th>\n",
       "      <th>Bottles Sold</th>\n",
       "      <th>Sale (Dollars)</th>\n",
       "      <th>Volume Sold (Liters)</th>\n",
       "      <th>Volume Sold (Gallons)</th>\n",
       "    </tr>\n",
       "  </thead>\n",
       "  <tbody>\n",
       "    <tr>\n",
       "      <th>0</th>\n",
       "      <td>11/04/2015</td>\n",
       "      <td>3717</td>\n",
       "      <td>SUMNER</td>\n",
       "      <td>50674</td>\n",
       "      <td>9.0</td>\n",
       "      <td>Bremer</td>\n",
       "      <td>1051100.0</td>\n",
       "      <td>APRICOT BRANDIES</td>\n",
       "      <td>55</td>\n",
       "      <td>54436</td>\n",
       "      <td>Mr. Boston Apricot Brandy</td>\n",
       "      <td>750</td>\n",
       "      <td>$4.50</td>\n",
       "      <td>$6.75</td>\n",
       "      <td>12</td>\n",
       "      <td>$81.00</td>\n",
       "      <td>9.0</td>\n",
       "      <td>2.38</td>\n",
       "    </tr>\n",
       "    <tr>\n",
       "      <th>1</th>\n",
       "      <td>03/02/2016</td>\n",
       "      <td>2614</td>\n",
       "      <td>DAVENPORT</td>\n",
       "      <td>52807</td>\n",
       "      <td>82.0</td>\n",
       "      <td>Scott</td>\n",
       "      <td>1011100.0</td>\n",
       "      <td>BLENDED WHISKIES</td>\n",
       "      <td>395</td>\n",
       "      <td>27605</td>\n",
       "      <td>Tin Cup</td>\n",
       "      <td>750</td>\n",
       "      <td>$13.75</td>\n",
       "      <td>$20.63</td>\n",
       "      <td>2</td>\n",
       "      <td>$41.26</td>\n",
       "      <td>1.5</td>\n",
       "      <td>0.40</td>\n",
       "    </tr>\n",
       "    <tr>\n",
       "      <th>2</th>\n",
       "      <td>02/11/2016</td>\n",
       "      <td>2106</td>\n",
       "      <td>CEDAR FALLS</td>\n",
       "      <td>50613</td>\n",
       "      <td>7.0</td>\n",
       "      <td>Black Hawk</td>\n",
       "      <td>1011200.0</td>\n",
       "      <td>STRAIGHT BOURBON WHISKIES</td>\n",
       "      <td>65</td>\n",
       "      <td>19067</td>\n",
       "      <td>Jim Beam</td>\n",
       "      <td>1000</td>\n",
       "      <td>$12.59</td>\n",
       "      <td>$18.89</td>\n",
       "      <td>24</td>\n",
       "      <td>$453.36</td>\n",
       "      <td>24.0</td>\n",
       "      <td>6.34</td>\n",
       "    </tr>\n",
       "    <tr>\n",
       "      <th>3</th>\n",
       "      <td>02/03/2016</td>\n",
       "      <td>2501</td>\n",
       "      <td>AMES</td>\n",
       "      <td>50010</td>\n",
       "      <td>85.0</td>\n",
       "      <td>Story</td>\n",
       "      <td>1071100.0</td>\n",
       "      <td>AMERICAN COCKTAILS</td>\n",
       "      <td>395</td>\n",
       "      <td>59154</td>\n",
       "      <td>1800 Ultimate Margarita</td>\n",
       "      <td>1750</td>\n",
       "      <td>$9.50</td>\n",
       "      <td>$14.25</td>\n",
       "      <td>6</td>\n",
       "      <td>$85.50</td>\n",
       "      <td>10.5</td>\n",
       "      <td>2.77</td>\n",
       "    </tr>\n",
       "    <tr>\n",
       "      <th>4</th>\n",
       "      <td>08/18/2015</td>\n",
       "      <td>3654</td>\n",
       "      <td>BELMOND</td>\n",
       "      <td>50421</td>\n",
       "      <td>99.0</td>\n",
       "      <td>Wright</td>\n",
       "      <td>1031080.0</td>\n",
       "      <td>VODKA 80 PROOF</td>\n",
       "      <td>297</td>\n",
       "      <td>35918</td>\n",
       "      <td>Five O'clock Vodka</td>\n",
       "      <td>1750</td>\n",
       "      <td>$7.20</td>\n",
       "      <td>$10.80</td>\n",
       "      <td>12</td>\n",
       "      <td>$129.60</td>\n",
       "      <td>21.0</td>\n",
       "      <td>5.55</td>\n",
       "    </tr>\n",
       "  </tbody>\n",
       "</table>\n",
       "</div>"
      ],
      "text/plain": [
       "         Date  Store Number         City Zip Code  County Number      County  \\\n",
       "0  11/04/2015          3717       SUMNER    50674            9.0      Bremer   \n",
       "1  03/02/2016          2614    DAVENPORT    52807           82.0       Scott   \n",
       "2  02/11/2016          2106  CEDAR FALLS    50613            7.0  Black Hawk   \n",
       "3  02/03/2016          2501         AMES    50010           85.0       Story   \n",
       "4  08/18/2015          3654      BELMOND    50421           99.0      Wright   \n",
       "\n",
       "    Category              Category Name  Vendor Number  Item Number  \\\n",
       "0  1051100.0           APRICOT BRANDIES             55        54436   \n",
       "1  1011100.0           BLENDED WHISKIES            395        27605   \n",
       "2  1011200.0  STRAIGHT BOURBON WHISKIES             65        19067   \n",
       "3  1071100.0         AMERICAN COCKTAILS            395        59154   \n",
       "4  1031080.0             VODKA 80 PROOF            297        35918   \n",
       "\n",
       "            Item Description  Bottle Volume (ml) State Bottle Cost  \\\n",
       "0  Mr. Boston Apricot Brandy                 750             $4.50   \n",
       "1                    Tin Cup                 750            $13.75   \n",
       "2                   Jim Beam                1000            $12.59   \n",
       "3    1800 Ultimate Margarita                1750             $9.50   \n",
       "4         Five O'clock Vodka                1750             $7.20   \n",
       "\n",
       "  State Bottle Retail  Bottles Sold Sale (Dollars)  Volume Sold (Liters)  \\\n",
       "0               $6.75            12         $81.00                   9.0   \n",
       "1              $20.63             2         $41.26                   1.5   \n",
       "2              $18.89            24        $453.36                  24.0   \n",
       "3              $14.25             6         $85.50                  10.5   \n",
       "4              $10.80            12        $129.60                  21.0   \n",
       "\n",
       "   Volume Sold (Gallons)  \n",
       "0                   2.38  \n",
       "1                   0.40  \n",
       "2                   6.34  \n",
       "3                   2.77  \n",
       "4                   5.55  "
      ]
     },
     "execution_count": 679,
     "metadata": {},
     "output_type": "execute_result"
    }
   ],
   "source": [
    "df.head()"
   ]
  },
  {
   "cell_type": "code",
   "execution_count": 680,
   "metadata": {
    "collapsed": false
   },
   "outputs": [
    {
     "data": {
      "text/plain": [
       "Date                      object\n",
       "Store Number               int64\n",
       "City                      object\n",
       "Zip Code                  object\n",
       "County Number            float64\n",
       "County                    object\n",
       "Category                 float64\n",
       "Category Name             object\n",
       "Vendor Number              int64\n",
       "Item Number                int64\n",
       "Item Description          object\n",
       "Bottle Volume (ml)         int64\n",
       "State Bottle Cost         object\n",
       "State Bottle Retail       object\n",
       "Bottles Sold               int64\n",
       "Sale (Dollars)            object\n",
       "Volume Sold (Liters)     float64\n",
       "Volume Sold (Gallons)    float64\n",
       "dtype: object"
      ]
     },
     "execution_count": 680,
     "metadata": {},
     "output_type": "execute_result"
    }
   ],
   "source": [
    "df.dtypes"
   ]
  },
  {
   "cell_type": "code",
   "execution_count": 681,
   "metadata": {
    "collapsed": false
   },
   "outputs": [
    {
     "data": {
      "text/plain": [
       "Date                     270955\n",
       "Store Number             270955\n",
       "City                     270955\n",
       "Zip Code                 270955\n",
       "County Number            269878\n",
       "County                   269878\n",
       "Category                 270887\n",
       "Category Name            270323\n",
       "Vendor Number            270955\n",
       "Item Number              270955\n",
       "Item Description         270955\n",
       "Bottle Volume (ml)       270955\n",
       "State Bottle Cost        270955\n",
       "State Bottle Retail      270955\n",
       "Bottles Sold             270955\n",
       "Sale (Dollars)           270955\n",
       "Volume Sold (Liters)     270955\n",
       "Volume Sold (Gallons)    270955\n",
       "dtype: int64"
      ]
     },
     "execution_count": 681,
     "metadata": {},
     "output_type": "execute_result"
    }
   ],
   "source": [
    "df.count()"
   ]
  },
  {
   "cell_type": "code",
   "execution_count": 682,
   "metadata": {
    "collapsed": false
   },
   "outputs": [
    {
     "data": {
      "text/plain": [
       "(270955, 18)"
      ]
     },
     "execution_count": 682,
     "metadata": {},
     "output_type": "execute_result"
    }
   ],
   "source": [
    "df.shape"
   ]
  },
  {
   "cell_type": "code",
   "execution_count": null,
   "metadata": {
    "collapsed": true
   },
   "outputs": [],
   "source": []
  },
  {
   "cell_type": "code",
   "execution_count": null,
   "metadata": {
    "collapsed": false
   },
   "outputs": [],
   "source": []
  },
  {
   "cell_type": "code",
   "execution_count": 683,
   "metadata": {
    "collapsed": true
   },
   "outputs": [],
   "source": [
    "# Remove redundant columns\n",
    "del df['Volume Sold (Gallons)']"
   ]
  },
  {
   "cell_type": "code",
   "execution_count": 684,
   "metadata": {
    "collapsed": true
   },
   "outputs": [],
   "source": [
    "# Remove $ from certain columns\n",
    "df['State Bottle Cost'] = [x.lstrip('$')for x in df['State Bottle Cost']]\n",
    "df['State Bottle Retail'] = [x.lstrip('$')for x in df['State Bottle Retail']]\n",
    "df['Sale (Dollars)'] = [x.lstrip('$')for x in df['Sale (Dollars)']]\n",
    "\n",
    "#Convert dates\n",
    "df[\"Date\"] = pd.to_datetime(df[\"Date\"], format=\"%m/%d/%Y\")\n",
    "\n",
    "# Drop or replace bad values\n",
    "\n",
    "# Convert integers\n",
    "df[['State Bottle Cost','State Bottle Retail', 'Sale (Dollars)']] = df[['State Bottle Cost','State Bottle Retail', \n",
    "                                                                        'Sale (Dollars)']].astype(float)\n",
    "\n",
    "# Add Margin column and Price per liter column\n",
    "df['Margin'] = df['State Bottle Retail'] - df['State Bottle Cost']\n",
    "df['Price per Liter'] = (df['State Bottle Retail'] / df['Bottle Volume (ml)'])*1000"
   ]
  },
  {
   "cell_type": "code",
   "execution_count": 685,
   "metadata": {
    "collapsed": true
   },
   "outputs": [],
   "source": [
    "# Sales per store, 2015. Only includes stores that were open for all of 2015.\n",
    "\n",
    "# Filter by our start and end dates\n",
    "df.sort_values(by=[\"Store Number\", \"Date\"], inplace=True)\n",
    "start_date = pd.Timestamp(\"20150101\")\n",
    "end_date = pd.Timestamp(\"20151231\")\n",
    "mask = (df['Date'] >= start_date) & (df['Date'] <= end_date)\n",
    "sales2015 = df[mask]\n",
    "\n",
    "# Group by store name\n",
    "sales2015 = sales2015.groupby(by=[\"Store Number\"], as_index=False)\n",
    "# Compute sums, means\n",
    "sales2015 = sales2015.agg({\"Sale (Dollars)\": [np.sum, np.mean],\n",
    "                   \"Volume Sold (Liters)\": [np.sum, np.mean],\n",
    "                   \"Margin\": np.mean,\n",
    "                   \"Price per Liter\": np.mean,\n",
    "                   \"Zip Code\": lambda x: x.iloc[0], # just extract once, should be the same\n",
    "                   \"City\": lambda x: x.iloc[0],\n",
    "                   \"County Number\": lambda x: x.iloc[0]})\n",
    "# Collapse the column indices\n",
    "sales2015.columns = [' '.join(col).strip() for col in sales2015.columns.values]"
   ]
  },
  {
   "cell_type": "code",
   "execution_count": 686,
   "metadata": {
    "collapsed": false
   },
   "outputs": [
    {
     "data": {
      "text/html": [
       "<div>\n",
       "<table border=\"1\" class=\"dataframe\">\n",
       "  <thead>\n",
       "    <tr style=\"text-align: right;\">\n",
       "      <th></th>\n",
       "      <th>Store Number</th>\n",
       "      <th>City &lt;lambda&gt;</th>\n",
       "      <th>Sale (Dollars) sum</th>\n",
       "      <th>Sale (Dollars) mean</th>\n",
       "      <th>County Number &lt;lambda&gt;</th>\n",
       "      <th>Price per Liter mean</th>\n",
       "      <th>Zip Code &lt;lambda&gt;</th>\n",
       "      <th>Volume Sold (Liters) sum</th>\n",
       "      <th>Volume Sold (Liters) mean</th>\n",
       "      <th>Margin mean</th>\n",
       "    </tr>\n",
       "  </thead>\n",
       "  <tbody>\n",
       "    <tr>\n",
       "      <th>0</th>\n",
       "      <td>2106</td>\n",
       "      <td>CEDAR FALLS</td>\n",
       "      <td>146326.22</td>\n",
       "      <td>277.658861</td>\n",
       "      <td>7.0</td>\n",
       "      <td>17.856601</td>\n",
       "      <td>50613</td>\n",
       "      <td>9731.85</td>\n",
       "      <td>18.466509</td>\n",
       "      <td>5.166319</td>\n",
       "    </tr>\n",
       "    <tr>\n",
       "      <th>1</th>\n",
       "      <td>2113</td>\n",
       "      <td>GOWRIE</td>\n",
       "      <td>9310.22</td>\n",
       "      <td>63.334830</td>\n",
       "      <td>94.0</td>\n",
       "      <td>18.504292</td>\n",
       "      <td>50543</td>\n",
       "      <td>659.85</td>\n",
       "      <td>4.488776</td>\n",
       "      <td>5.445102</td>\n",
       "    </tr>\n",
       "    <tr>\n",
       "      <th>2</th>\n",
       "      <td>2130</td>\n",
       "      <td>WATERLOO</td>\n",
       "      <td>111871.43</td>\n",
       "      <td>285.386301</td>\n",
       "      <td>7.0</td>\n",
       "      <td>16.835669</td>\n",
       "      <td>50703</td>\n",
       "      <td>6891.37</td>\n",
       "      <td>17.580026</td>\n",
       "      <td>4.925842</td>\n",
       "    </tr>\n",
       "    <tr>\n",
       "      <th>3</th>\n",
       "      <td>2152</td>\n",
       "      <td>ROCKWELL</td>\n",
       "      <td>7721.08</td>\n",
       "      <td>54.759433</td>\n",
       "      <td>17.0</td>\n",
       "      <td>13.020983</td>\n",
       "      <td>50469</td>\n",
       "      <td>633.37</td>\n",
       "      <td>4.491986</td>\n",
       "      <td>4.322624</td>\n",
       "    </tr>\n",
       "    <tr>\n",
       "      <th>4</th>\n",
       "      <td>2178</td>\n",
       "      <td>WAUKON</td>\n",
       "      <td>24324.18</td>\n",
       "      <td>102.633671</td>\n",
       "      <td>3.0</td>\n",
       "      <td>16.062136</td>\n",
       "      <td>52172</td>\n",
       "      <td>1917.12</td>\n",
       "      <td>8.089114</td>\n",
       "      <td>4.868861</td>\n",
       "    </tr>\n",
       "  </tbody>\n",
       "</table>\n",
       "</div>"
      ],
      "text/plain": [
       "   Store Number City <lambda>  Sale (Dollars) sum  Sale (Dollars) mean  \\\n",
       "0          2106   CEDAR FALLS           146326.22           277.658861   \n",
       "1          2113        GOWRIE             9310.22            63.334830   \n",
       "2          2130      WATERLOO           111871.43           285.386301   \n",
       "3          2152      ROCKWELL             7721.08            54.759433   \n",
       "4          2178        WAUKON            24324.18           102.633671   \n",
       "\n",
       "   County Number <lambda>  Price per Liter mean Zip Code <lambda>  \\\n",
       "0                     7.0             17.856601             50613   \n",
       "1                    94.0             18.504292             50543   \n",
       "2                     7.0             16.835669             50703   \n",
       "3                    17.0             13.020983             50469   \n",
       "4                     3.0             16.062136             52172   \n",
       "\n",
       "   Volume Sold (Liters) sum  Volume Sold (Liters) mean  Margin mean  \n",
       "0                   9731.85                  18.466509     5.166319  \n",
       "1                    659.85                   4.488776     5.445102  \n",
       "2                   6891.37                  17.580026     4.925842  \n",
       "3                    633.37                   4.491986     4.322624  \n",
       "4                   1917.12                   8.089114     4.868861  "
      ]
     },
     "execution_count": 686,
     "metadata": {},
     "output_type": "execute_result"
    }
   ],
   "source": [
    "sales2015.head()"
   ]
  },
  {
   "cell_type": "code",
   "execution_count": 687,
   "metadata": {
    "collapsed": false
   },
   "outputs": [
    {
     "data": {
      "text/plain": [
       "Store Number                   int64\n",
       "City <lambda>                 object\n",
       "Sale (Dollars) sum           float64\n",
       "Sale (Dollars) mean          float64\n",
       "County Number <lambda>       float64\n",
       "Price per Liter mean         float64\n",
       "Zip Code <lambda>             object\n",
       "Volume Sold (Liters) sum     float64\n",
       "Volume Sold (Liters) mean    float64\n",
       "Margin mean                  float64\n",
       "dtype: object"
      ]
     },
     "execution_count": 687,
     "metadata": {},
     "output_type": "execute_result"
    }
   ],
   "source": [
    "sales2015.dtypes"
   ]
  },
  {
   "cell_type": "code",
   "execution_count": 688,
   "metadata": {
    "collapsed": false
   },
   "outputs": [
    {
     "data": {
      "text/plain": [
       "Store Number                 1372\n",
       "City <lambda>                1372\n",
       "Sale (Dollars) sum           1372\n",
       "Sale (Dollars) mean          1372\n",
       "County Number <lambda>       1371\n",
       "Price per Liter mean         1372\n",
       "Zip Code <lambda>            1372\n",
       "Volume Sold (Liters) sum     1372\n",
       "Volume Sold (Liters) mean    1372\n",
       "Margin mean                  1372\n",
       "dtype: int64"
      ]
     },
     "execution_count": 688,
     "metadata": {},
     "output_type": "execute_result"
    }
   ],
   "source": [
    "sales2015.count()"
   ]
  },
  {
   "cell_type": "code",
   "execution_count": 689,
   "metadata": {
    "collapsed": false
   },
   "outputs": [
    {
     "data": {
      "text/plain": [
       "(1372, 10)"
      ]
     },
     "execution_count": 689,
     "metadata": {},
     "output_type": "execute_result"
    }
   ],
   "source": [
    "sales2015.shape"
   ]
  },
  {
   "cell_type": "code",
   "execution_count": 690,
   "metadata": {
    "collapsed": true
   },
   "outputs": [],
   "source": [
    "#Make dataframe that computes info for sales by store, made in the first quarter of 2015\n",
    "df.sort_values(by=[\"Store Number\", \"Date\"], inplace=True)\n",
    "start_date2 = pd.Timestamp(\"20150101\")\n",
    "end_date2 = pd.Timestamp(\"20150331\")\n",
    "mask2 = (df['Date'] >= start_date2) & (df['Date'] <= end_date2)\n",
    "sales2015Q1 = df[mask2]\n",
    "\n",
    "sales2015Q1 = sales2015Q1.groupby(by=[\"Store Number\"], as_index=False)\n",
    "\n",
    "sales2015Q1 = sales2015Q1.agg({\"Sale (Dollars)\": [np.sum, np.mean],\n",
    "                   \"Volume Sold (Liters)\": [np.sum, np.mean],\n",
    "                   \"Margin\": np.mean,\n",
    "                   \"Price per Liter\": np.mean,\n",
    "                   \"Zip Code\": lambda x: x.iloc[0], # just extract once, should be the same\n",
    "                   \"City\": lambda x: x.iloc[0],\n",
    "                   \"County Number\": lambda x: x.iloc[0]})\n",
    "\n",
    "sales2015Q1.columns = [' '.join(col).strip() for col in sales2015Q1.columns.values]"
   ]
  },
  {
   "cell_type": "code",
   "execution_count": 691,
   "metadata": {
    "collapsed": false
   },
   "outputs": [
    {
     "name": "stdout",
     "output_type": "stream",
     "text": [
      "Index([u'Store Number', u'Sale (Dollars) sum', u'Sale (Dollars) mean'], dtype='object')\n"
     ]
    }
   ],
   "source": [
    "del sales2015Q1['City <lambda>']\n",
    "del sales2015Q1['County Number <lambda>']\n",
    "del sales2015Q1['Price per Liter mean']\n",
    "del sales2015Q1['Zip Code <lambda>']\n",
    "del sales2015Q1['Volume Sold (Liters) sum']\n",
    "del sales2015Q1['Volume Sold (Liters) mean']\n",
    "del sales2015Q1['Margin mean']\n",
    "print sales2015Q1.columns"
   ]
  },
  {
   "cell_type": "code",
   "execution_count": 692,
   "metadata": {
    "collapsed": false
   },
   "outputs": [
    {
     "data": {
      "text/plain": [
       "(1262, 3)"
      ]
     },
     "execution_count": 692,
     "metadata": {},
     "output_type": "execute_result"
    }
   ],
   "source": [
    "sales2015Q1.columns = [u'Store Number', u'Q1 Total Sales', u'Q1 Average Sales']\n",
    "sales2015Q1.shape"
   ]
  },
  {
   "cell_type": "code",
   "execution_count": 693,
   "metadata": {
    "collapsed": false
   },
   "outputs": [],
   "source": [
    "#join tables on 'Store Number' so each store has its yearly totals and corresponding Q1 total and average sale\n",
    "#note that some Q1 values are NaN, meaning some stores either opened after Q1 in 2015, and others may be seasonal\n",
    "sales15 = pd.merge(sales2015, sales2015Q1, on='Store Number', how='outer')"
   ]
  },
  {
   "cell_type": "code",
   "execution_count": 694,
   "metadata": {
    "collapsed": false
   },
   "outputs": [],
   "source": [
    "# Sales per store, 2016, to date. \n",
    "\n",
    "# Filter by our start and end dates\n",
    "df.sort_values(by=[\"Store Number\", \"Date\"], inplace=True)\n",
    "start_date4 = pd.Timestamp(\"20160101\")\n",
    "mask4 = (df['Date'] >= start_date4)\n",
    "sales2016 = df[mask4]\n",
    "\n",
    "# Group by store name\n",
    "sales2016 = sales2016.groupby(by=[\"Store Number\"], as_index=False)\n",
    "# Compute sums, means\n",
    "sales2016 = sales2016.agg({\"Sale (Dollars)\": [np.sum, np.mean],\n",
    "                   \"Volume Sold (Liters)\": [np.sum, np.mean],\n",
    "                   \"Margin\": np.mean,\n",
    "                   \"Price per Liter\": np.mean,\n",
    "                   \"Zip Code\": lambda x: x.iloc[0], # just extract once, should be the same\n",
    "                   \"City\": lambda x: x.iloc[0],\n",
    "                   \"County Number\": lambda x: x.iloc[0]})\n",
    "# Collapse the column indices\n",
    "sales2016.columns = [' '.join(col).strip() for col in sales2016.columns.values]"
   ]
  },
  {
   "cell_type": "code",
   "execution_count": 695,
   "metadata": {
    "collapsed": false
   },
   "outputs": [],
   "source": [
    "sales2016.dropna(inplace=True)"
   ]
  },
  {
   "cell_type": "code",
   "execution_count": 696,
   "metadata": {
    "collapsed": false
   },
   "outputs": [],
   "source": [
    "#Make dataframe that computes info for sales by store, made in the first quarter of 2016\n",
    "df.sort_values(by=[\"Store Number\", \"Date\"], inplace=True)\n",
    "start_date5 = pd.Timestamp(\"20160101\")\n",
    "end_date5 = pd.Timestamp(\"20160331\")\n",
    "mask5 = (df['Date'] >= start_date5) & (df['Date'] <= end_date5)\n",
    "sales2016Q1 = df[mask5]\n",
    "\n",
    "sales2016Q1 = sales2016Q1.groupby(by=[\"Store Number\"], as_index=False)\n",
    "\n",
    "sales2016Q1 = sales2016Q1.agg({\"Sale (Dollars)\": [np.sum, np.mean],\n",
    "                   \"Volume Sold (Liters)\": [np.sum, np.mean],\n",
    "                   \"Margin\": np.mean,\n",
    "                   \"Price per Liter\": np.mean,\n",
    "                   \"Zip Code\": lambda x: x.iloc[0], # just extract once, should be the same\n",
    "                   \"City\": lambda x: x.iloc[0],\n",
    "                   \"County Number\": lambda x: x.iloc[0]})\n",
    "\n",
    "sales2016Q1.columns = [' '.join(col).strip() for col in sales2016Q1.columns.values]"
   ]
  },
  {
   "cell_type": "code",
   "execution_count": 697,
   "metadata": {
    "collapsed": false
   },
   "outputs": [],
   "source": [
    "sales2016Q1.dropna(inplace=True)"
   ]
  },
  {
   "cell_type": "code",
   "execution_count": 698,
   "metadata": {
    "collapsed": false
   },
   "outputs": [
    {
     "name": "stdout",
     "output_type": "stream",
     "text": [
      "Index([u'Store Number', u'Sale (Dollars) sum', u'Sale (Dollars) mean'], dtype='object')\n"
     ]
    }
   ],
   "source": [
    "del sales2016Q1['City <lambda>']\n",
    "del sales2016Q1['County Number <lambda>']\n",
    "del sales2016Q1['Price per Liter mean']\n",
    "del sales2016Q1['Zip Code <lambda>']\n",
    "del sales2016Q1['Volume Sold (Liters) sum']\n",
    "del sales2016Q1['Volume Sold (Liters) mean']\n",
    "del sales2016Q1['Margin mean']\n",
    "print sales2016Q1.columns"
   ]
  },
  {
   "cell_type": "code",
   "execution_count": 699,
   "metadata": {
    "collapsed": true
   },
   "outputs": [],
   "source": [
    "sales2016Q1.columns = [u'Store Number', u'Q1 Total Sales', u'Q1 Average Sale']"
   ]
  },
  {
   "cell_type": "code",
   "execution_count": 700,
   "metadata": {
    "collapsed": true
   },
   "outputs": [],
   "source": [
    "sales16 = pd.merge(sales2016, sales2016Q1, on='Store Number', how='outer')"
   ]
  },
  {
   "cell_type": "code",
   "execution_count": 701,
   "metadata": {
    "collapsed": false
   },
   "outputs": [
    {
     "name": "stdout",
     "output_type": "stream",
     "text": [
      "Index([       u'Store Number',  u'Sale (Dollars) sum', u'Sale (Dollars) mean',\n",
      "            u'Q1 Total Sales',     u'Q1 Average Sale'],\n",
      "      dtype='object')\n"
     ]
    }
   ],
   "source": [
    "del sales16['City <lambda>']\n",
    "del sales16['County Number <lambda>']\n",
    "del sales16['Price per Liter mean']\n",
    "del sales16['Zip Code <lambda>']\n",
    "del sales16['Volume Sold (Liters) sum']\n",
    "del sales16['Volume Sold (Liters) mean']\n",
    "del sales16['Margin mean']\n",
    "print sales16.columns"
   ]
  },
  {
   "cell_type": "code",
   "execution_count": 702,
   "metadata": {
    "collapsed": false
   },
   "outputs": [],
   "source": [
    "sales16.columns = [u'Store Number', u'Total_Sales_2016_toDate', u'Average_Sale_2016_toDate', u'Q1 Total Sales', u'Q1 Average Sale']"
   ]
  },
  {
   "cell_type": "code",
   "execution_count": 703,
   "metadata": {
    "collapsed": false
   },
   "outputs": [],
   "source": [
    "sales1516 = pd.merge(sales15, sales16, on='Store Number', how='outer')"
   ]
  },
  {
   "cell_type": "code",
   "execution_count": 704,
   "metadata": {
    "collapsed": false
   },
   "outputs": [
    {
     "data": {
      "text/html": [
       "<div>\n",
       "<table border=\"1\" class=\"dataframe\">\n",
       "  <thead>\n",
       "    <tr style=\"text-align: right;\">\n",
       "      <th></th>\n",
       "      <th>Store Number</th>\n",
       "      <th>City &lt;lambda&gt;</th>\n",
       "      <th>Sale (Dollars) sum</th>\n",
       "      <th>Sale (Dollars) mean</th>\n",
       "      <th>County Number &lt;lambda&gt;</th>\n",
       "      <th>Price per Liter mean</th>\n",
       "      <th>Zip Code &lt;lambda&gt;</th>\n",
       "      <th>Volume Sold (Liters) sum</th>\n",
       "      <th>Volume Sold (Liters) mean</th>\n",
       "      <th>Margin mean</th>\n",
       "      <th>Q1 Total Sales_x</th>\n",
       "      <th>Q1 Average Sales</th>\n",
       "      <th>Total_Sales_2016_toDate</th>\n",
       "      <th>Average_Sale_2016_toDate</th>\n",
       "      <th>Q1 Total Sales_y</th>\n",
       "      <th>Q1 Average Sale</th>\n",
       "    </tr>\n",
       "  </thead>\n",
       "  <tbody>\n",
       "    <tr>\n",
       "      <th>0</th>\n",
       "      <td>2106.0</td>\n",
       "      <td>CEDAR FALLS</td>\n",
       "      <td>146326.22</td>\n",
       "      <td>277.658861</td>\n",
       "      <td>7.0</td>\n",
       "      <td>17.856601</td>\n",
       "      <td>50613</td>\n",
       "      <td>9731.85</td>\n",
       "      <td>18.466509</td>\n",
       "      <td>5.166319</td>\n",
       "      <td>39287.29</td>\n",
       "      <td>304.552636</td>\n",
       "      <td>30523.75</td>\n",
       "      <td>240.344488</td>\n",
       "      <td>30523.75</td>\n",
       "      <td>240.344488</td>\n",
       "    </tr>\n",
       "    <tr>\n",
       "      <th>1</th>\n",
       "      <td>2113.0</td>\n",
       "      <td>GOWRIE</td>\n",
       "      <td>9310.22</td>\n",
       "      <td>63.334830</td>\n",
       "      <td>94.0</td>\n",
       "      <td>18.504292</td>\n",
       "      <td>50543</td>\n",
       "      <td>659.85</td>\n",
       "      <td>4.488776</td>\n",
       "      <td>5.445102</td>\n",
       "      <td>2833.25</td>\n",
       "      <td>67.458333</td>\n",
       "      <td>2065.90</td>\n",
       "      <td>55.835135</td>\n",
       "      <td>2065.90</td>\n",
       "      <td>55.835135</td>\n",
       "    </tr>\n",
       "    <tr>\n",
       "      <th>2</th>\n",
       "      <td>2130.0</td>\n",
       "      <td>WATERLOO</td>\n",
       "      <td>111871.43</td>\n",
       "      <td>285.386301</td>\n",
       "      <td>7.0</td>\n",
       "      <td>16.835669</td>\n",
       "      <td>50703</td>\n",
       "      <td>6891.37</td>\n",
       "      <td>17.580026</td>\n",
       "      <td>4.925842</td>\n",
       "      <td>24272.57</td>\n",
       "      <td>278.995057</td>\n",
       "      <td>27856.11</td>\n",
       "      <td>238.086410</td>\n",
       "      <td>27856.11</td>\n",
       "      <td>238.086410</td>\n",
       "    </tr>\n",
       "    <tr>\n",
       "      <th>3</th>\n",
       "      <td>2152.0</td>\n",
       "      <td>ROCKWELL</td>\n",
       "      <td>7721.08</td>\n",
       "      <td>54.759433</td>\n",
       "      <td>17.0</td>\n",
       "      <td>13.020983</td>\n",
       "      <td>50469</td>\n",
       "      <td>633.37</td>\n",
       "      <td>4.491986</td>\n",
       "      <td>4.322624</td>\n",
       "      <td>2003.46</td>\n",
       "      <td>62.608125</td>\n",
       "      <td>1376.43</td>\n",
       "      <td>45.881000</td>\n",
       "      <td>1376.43</td>\n",
       "      <td>45.881000</td>\n",
       "    </tr>\n",
       "    <tr>\n",
       "      <th>4</th>\n",
       "      <td>2178.0</td>\n",
       "      <td>WAUKON</td>\n",
       "      <td>24324.18</td>\n",
       "      <td>102.633671</td>\n",
       "      <td>3.0</td>\n",
       "      <td>16.062136</td>\n",
       "      <td>52172</td>\n",
       "      <td>1917.12</td>\n",
       "      <td>8.089114</td>\n",
       "      <td>4.868861</td>\n",
       "      <td>5856.41</td>\n",
       "      <td>122.008542</td>\n",
       "      <td>5588.50</td>\n",
       "      <td>96.353448</td>\n",
       "      <td>5588.50</td>\n",
       "      <td>96.353448</td>\n",
       "    </tr>\n",
       "  </tbody>\n",
       "</table>\n",
       "</div>"
      ],
      "text/plain": [
       "   Store Number City <lambda>  Sale (Dollars) sum  Sale (Dollars) mean  \\\n",
       "0        2106.0   CEDAR FALLS           146326.22           277.658861   \n",
       "1        2113.0        GOWRIE             9310.22            63.334830   \n",
       "2        2130.0      WATERLOO           111871.43           285.386301   \n",
       "3        2152.0      ROCKWELL             7721.08            54.759433   \n",
       "4        2178.0        WAUKON            24324.18           102.633671   \n",
       "\n",
       "   County Number <lambda>  Price per Liter mean Zip Code <lambda>  \\\n",
       "0                     7.0             17.856601             50613   \n",
       "1                    94.0             18.504292             50543   \n",
       "2                     7.0             16.835669             50703   \n",
       "3                    17.0             13.020983             50469   \n",
       "4                     3.0             16.062136             52172   \n",
       "\n",
       "   Volume Sold (Liters) sum  Volume Sold (Liters) mean  Margin mean  \\\n",
       "0                   9731.85                  18.466509     5.166319   \n",
       "1                    659.85                   4.488776     5.445102   \n",
       "2                   6891.37                  17.580026     4.925842   \n",
       "3                    633.37                   4.491986     4.322624   \n",
       "4                   1917.12                   8.089114     4.868861   \n",
       "\n",
       "   Q1 Total Sales_x  Q1 Average Sales  Total_Sales_2016_toDate  \\\n",
       "0          39287.29        304.552636                 30523.75   \n",
       "1           2833.25         67.458333                  2065.90   \n",
       "2          24272.57        278.995057                 27856.11   \n",
       "3           2003.46         62.608125                  1376.43   \n",
       "4           5856.41        122.008542                  5588.50   \n",
       "\n",
       "   Average_Sale_2016_toDate  Q1 Total Sales_y  Q1 Average Sale  \n",
       "0                240.344488          30523.75       240.344488  \n",
       "1                 55.835135           2065.90        55.835135  \n",
       "2                238.086410          27856.11       238.086410  \n",
       "3                 45.881000           1376.43        45.881000  \n",
       "4                 96.353448           5588.50        96.353448  "
      ]
     },
     "execution_count": 704,
     "metadata": {},
     "output_type": "execute_result"
    }
   ],
   "source": [
    "sales1516.head()"
   ]
  },
  {
   "cell_type": "code",
   "execution_count": 705,
   "metadata": {
    "collapsed": false
   },
   "outputs": [],
   "source": [
    "sales1516.dropna(inplace=True)\n"
   ]
  },
  {
   "cell_type": "code",
   "execution_count": 729,
   "metadata": {
    "collapsed": false
   },
   "outputs": [],
   "source": [
    "sales1516.columns = [u'storeNumber', u'city', u'totalSales15',\n",
    "       u'averageSale15', u'countyNumber',\n",
    "       u'averagePrice(L)', u'zipCode',\n",
    "       u'totalVolSold(L)15',\n",
    "       u'averageVolSold(L)15',\n",
    "       u'averageMargin15', u'predictor',\n",
    "       u'Q1AverageSales15',\n",
    "       u'TotalSales16toDate',\n",
    "       u'AverageSale16toDate',\n",
    "       u'Q1TotalSales16', u'Q1AverageSale16']"
   ]
  },
  {
   "cell_type": "code",
   "execution_count": 730,
   "metadata": {
    "collapsed": false
   },
   "outputs": [
    {
     "data": {
      "text/html": [
       "<div>\n",
       "<table border=\"1\" class=\"dataframe\">\n",
       "  <thead>\n",
       "    <tr style=\"text-align: right;\">\n",
       "      <th></th>\n",
       "      <th>storeNumber</th>\n",
       "      <th>city</th>\n",
       "      <th>totalSales15</th>\n",
       "      <th>averageSale15</th>\n",
       "      <th>countyNumber</th>\n",
       "      <th>averagePrice(L)</th>\n",
       "      <th>zipCode</th>\n",
       "      <th>totalVolSold(L)15</th>\n",
       "      <th>averageVolSold(L)15</th>\n",
       "      <th>averageMargin15</th>\n",
       "      <th>predictor</th>\n",
       "      <th>Q1AverageSales15</th>\n",
       "      <th>TotalSales16toDate</th>\n",
       "      <th>AverageSale16toDate</th>\n",
       "      <th>Q1TotalSales16</th>\n",
       "      <th>Q1AverageSale16</th>\n",
       "    </tr>\n",
       "  </thead>\n",
       "  <tbody>\n",
       "    <tr>\n",
       "      <th>0</th>\n",
       "      <td>2106.0</td>\n",
       "      <td>CEDAR FALLS</td>\n",
       "      <td>146326.22</td>\n",
       "      <td>277.658861</td>\n",
       "      <td>7.0</td>\n",
       "      <td>17.856601</td>\n",
       "      <td>50613</td>\n",
       "      <td>9731.85</td>\n",
       "      <td>18.466509</td>\n",
       "      <td>5.166319</td>\n",
       "      <td>39287.29</td>\n",
       "      <td>304.552636</td>\n",
       "      <td>30523.75</td>\n",
       "      <td>240.344488</td>\n",
       "      <td>30523.75</td>\n",
       "      <td>240.344488</td>\n",
       "    </tr>\n",
       "    <tr>\n",
       "      <th>1</th>\n",
       "      <td>2113.0</td>\n",
       "      <td>GOWRIE</td>\n",
       "      <td>9310.22</td>\n",
       "      <td>63.334830</td>\n",
       "      <td>94.0</td>\n",
       "      <td>18.504292</td>\n",
       "      <td>50543</td>\n",
       "      <td>659.85</td>\n",
       "      <td>4.488776</td>\n",
       "      <td>5.445102</td>\n",
       "      <td>2833.25</td>\n",
       "      <td>67.458333</td>\n",
       "      <td>2065.90</td>\n",
       "      <td>55.835135</td>\n",
       "      <td>2065.90</td>\n",
       "      <td>55.835135</td>\n",
       "    </tr>\n",
       "    <tr>\n",
       "      <th>2</th>\n",
       "      <td>2130.0</td>\n",
       "      <td>WATERLOO</td>\n",
       "      <td>111871.43</td>\n",
       "      <td>285.386301</td>\n",
       "      <td>7.0</td>\n",
       "      <td>16.835669</td>\n",
       "      <td>50703</td>\n",
       "      <td>6891.37</td>\n",
       "      <td>17.580026</td>\n",
       "      <td>4.925842</td>\n",
       "      <td>24272.57</td>\n",
       "      <td>278.995057</td>\n",
       "      <td>27856.11</td>\n",
       "      <td>238.086410</td>\n",
       "      <td>27856.11</td>\n",
       "      <td>238.086410</td>\n",
       "    </tr>\n",
       "    <tr>\n",
       "      <th>3</th>\n",
       "      <td>2152.0</td>\n",
       "      <td>ROCKWELL</td>\n",
       "      <td>7721.08</td>\n",
       "      <td>54.759433</td>\n",
       "      <td>17.0</td>\n",
       "      <td>13.020983</td>\n",
       "      <td>50469</td>\n",
       "      <td>633.37</td>\n",
       "      <td>4.491986</td>\n",
       "      <td>4.322624</td>\n",
       "      <td>2003.46</td>\n",
       "      <td>62.608125</td>\n",
       "      <td>1376.43</td>\n",
       "      <td>45.881000</td>\n",
       "      <td>1376.43</td>\n",
       "      <td>45.881000</td>\n",
       "    </tr>\n",
       "    <tr>\n",
       "      <th>4</th>\n",
       "      <td>2178.0</td>\n",
       "      <td>WAUKON</td>\n",
       "      <td>24324.18</td>\n",
       "      <td>102.633671</td>\n",
       "      <td>3.0</td>\n",
       "      <td>16.062136</td>\n",
       "      <td>52172</td>\n",
       "      <td>1917.12</td>\n",
       "      <td>8.089114</td>\n",
       "      <td>4.868861</td>\n",
       "      <td>5856.41</td>\n",
       "      <td>122.008542</td>\n",
       "      <td>5588.50</td>\n",
       "      <td>96.353448</td>\n",
       "      <td>5588.50</td>\n",
       "      <td>96.353448</td>\n",
       "    </tr>\n",
       "  </tbody>\n",
       "</table>\n",
       "</div>"
      ],
      "text/plain": [
       "   storeNumber         city  totalSales15  averageSale15  countyNumber  \\\n",
       "0       2106.0  CEDAR FALLS     146326.22     277.658861           7.0   \n",
       "1       2113.0       GOWRIE       9310.22      63.334830          94.0   \n",
       "2       2130.0     WATERLOO     111871.43     285.386301           7.0   \n",
       "3       2152.0     ROCKWELL       7721.08      54.759433          17.0   \n",
       "4       2178.0       WAUKON      24324.18     102.633671           3.0   \n",
       "\n",
       "   averagePrice(L) zipCode  totalVolSold(L)15  averageVolSold(L)15  \\\n",
       "0        17.856601   50613            9731.85            18.466509   \n",
       "1        18.504292   50543             659.85             4.488776   \n",
       "2        16.835669   50703            6891.37            17.580026   \n",
       "3        13.020983   50469             633.37             4.491986   \n",
       "4        16.062136   52172            1917.12             8.089114   \n",
       "\n",
       "   averageMargin15  predictor  Q1AverageSales15  TotalSales16toDate  \\\n",
       "0         5.166319   39287.29        304.552636            30523.75   \n",
       "1         5.445102    2833.25         67.458333             2065.90   \n",
       "2         4.925842   24272.57        278.995057            27856.11   \n",
       "3         4.322624    2003.46         62.608125             1376.43   \n",
       "4         4.868861    5856.41        122.008542             5588.50   \n",
       "\n",
       "   AverageSale16toDate  Q1TotalSales16  Q1AverageSale16  \n",
       "0           240.344488        30523.75       240.344488  \n",
       "1            55.835135         2065.90        55.835135  \n",
       "2           238.086410        27856.11       238.086410  \n",
       "3            45.881000         1376.43        45.881000  \n",
       "4            96.353448         5588.50        96.353448  "
      ]
     },
     "execution_count": 730,
     "metadata": {},
     "output_type": "execute_result"
    }
   ],
   "source": [
    "sales1516.head()"
   ]
  },
  {
   "cell_type": "code",
   "execution_count": 731,
   "metadata": {
    "collapsed": true
   },
   "outputs": [],
   "source": [
    "sales1516.to_csv('../assets/03-project3-assets/Iowa_liquor_sales_2015-16.csv')"
   ]
  },
  {
   "cell_type": "markdown",
   "metadata": {},
   "source": [
    "# Explore the data\n",
    "\n",
    "Perform some exploratory statistical analysis and make some plots, such as histograms of transaction totals, bottles sold, etc."
   ]
  },
  {
   "cell_type": "code",
   "execution_count": 728,
   "metadata": {
    "collapsed": false
   },
   "outputs": [
    {
     "data": {
      "text/html": [
       "<div>\n",
       "<table border=\"1\" class=\"dataframe\">\n",
       "  <thead>\n",
       "    <tr style=\"text-align: right;\">\n",
       "      <th></th>\n",
       "      <th>storeNumber</th>\n",
       "      <th>totalSales15</th>\n",
       "      <th>averageSale15</th>\n",
       "      <th>countyNumber</th>\n",
       "      <th>averagePrice(L)</th>\n",
       "      <th>totalVolSold(L)15</th>\n",
       "      <th>averageVolSold(L)15</th>\n",
       "      <th>averageMargin15</th>\n",
       "      <th>Predictor</th>\n",
       "      <th>Q1AverageSales15</th>\n",
       "      <th>TotalSales16toDate</th>\n",
       "      <th>AverageSale16toDate</th>\n",
       "      <th>Q1TotalSales16</th>\n",
       "      <th>Q1AverageSale16</th>\n",
       "    </tr>\n",
       "  </thead>\n",
       "  <tbody>\n",
       "    <tr>\n",
       "      <th>storeNumber</th>\n",
       "      <td>1.000000</td>\n",
       "      <td>-0.357715</td>\n",
       "      <td>0.027066</td>\n",
       "      <td>0.008424</td>\n",
       "      <td>0.073260</td>\n",
       "      <td>-0.396328</td>\n",
       "      <td>-0.048163</td>\n",
       "      <td>-0.259780</td>\n",
       "      <td>-0.347324</td>\n",
       "      <td>-0.000285</td>\n",
       "      <td>-0.342937</td>\n",
       "      <td>-0.020088</td>\n",
       "      <td>-0.342937</td>\n",
       "      <td>-0.020088</td>\n",
       "    </tr>\n",
       "    <tr>\n",
       "      <th>totalSales15</th>\n",
       "      <td>-0.357715</td>\n",
       "      <td>1.000000</td>\n",
       "      <td>0.425807</td>\n",
       "      <td>0.043170</td>\n",
       "      <td>0.168088</td>\n",
       "      <td>0.992427</td>\n",
       "      <td>0.417130</td>\n",
       "      <td>0.297956</td>\n",
       "      <td>0.983082</td>\n",
       "      <td>0.409841</td>\n",
       "      <td>0.969142</td>\n",
       "      <td>0.331544</td>\n",
       "      <td>0.969142</td>\n",
       "      <td>0.331544</td>\n",
       "    </tr>\n",
       "    <tr>\n",
       "      <th>averageSale15</th>\n",
       "      <td>0.027066</td>\n",
       "      <td>0.425807</td>\n",
       "      <td>1.000000</td>\n",
       "      <td>0.014483</td>\n",
       "      <td>0.192467</td>\n",
       "      <td>0.418048</td>\n",
       "      <td>0.912835</td>\n",
       "      <td>0.400706</td>\n",
       "      <td>0.397290</td>\n",
       "      <td>0.900597</td>\n",
       "      <td>0.374434</td>\n",
       "      <td>0.771606</td>\n",
       "      <td>0.374434</td>\n",
       "      <td>0.771606</td>\n",
       "    </tr>\n",
       "    <tr>\n",
       "      <th>countyNumber</th>\n",
       "      <td>0.008424</td>\n",
       "      <td>0.043170</td>\n",
       "      <td>0.014483</td>\n",
       "      <td>1.000000</td>\n",
       "      <td>0.100569</td>\n",
       "      <td>0.034856</td>\n",
       "      <td>-0.010061</td>\n",
       "      <td>0.023168</td>\n",
       "      <td>0.046815</td>\n",
       "      <td>0.010714</td>\n",
       "      <td>0.044658</td>\n",
       "      <td>-0.001830</td>\n",
       "      <td>0.044658</td>\n",
       "      <td>-0.001830</td>\n",
       "    </tr>\n",
       "    <tr>\n",
       "      <th>averagePrice(L)</th>\n",
       "      <td>0.073260</td>\n",
       "      <td>0.168088</td>\n",
       "      <td>0.192467</td>\n",
       "      <td>0.100569</td>\n",
       "      <td>1.000000</td>\n",
       "      <td>0.125970</td>\n",
       "      <td>-0.055924</td>\n",
       "      <td>0.428103</td>\n",
       "      <td>0.161116</td>\n",
       "      <td>0.146796</td>\n",
       "      <td>0.155199</td>\n",
       "      <td>0.131591</td>\n",
       "      <td>0.155199</td>\n",
       "      <td>0.131591</td>\n",
       "    </tr>\n",
       "    <tr>\n",
       "      <th>totalVolSold(L)15</th>\n",
       "      <td>-0.396328</td>\n",
       "      <td>0.992427</td>\n",
       "      <td>0.418048</td>\n",
       "      <td>0.034856</td>\n",
       "      <td>0.125970</td>\n",
       "      <td>1.000000</td>\n",
       "      <td>0.438793</td>\n",
       "      <td>0.290371</td>\n",
       "      <td>0.974588</td>\n",
       "      <td>0.403511</td>\n",
       "      <td>0.956504</td>\n",
       "      <td>0.319583</td>\n",
       "      <td>0.956504</td>\n",
       "      <td>0.319583</td>\n",
       "    </tr>\n",
       "    <tr>\n",
       "      <th>averageVolSold(L)15</th>\n",
       "      <td>-0.048163</td>\n",
       "      <td>0.417130</td>\n",
       "      <td>0.912835</td>\n",
       "      <td>-0.010061</td>\n",
       "      <td>-0.055924</td>\n",
       "      <td>0.438793</td>\n",
       "      <td>1.000000</td>\n",
       "      <td>0.281963</td>\n",
       "      <td>0.394366</td>\n",
       "      <td>0.851124</td>\n",
       "      <td>0.367119</td>\n",
       "      <td>0.710034</td>\n",
       "      <td>0.367119</td>\n",
       "      <td>0.710034</td>\n",
       "    </tr>\n",
       "    <tr>\n",
       "      <th>averageMargin15</th>\n",
       "      <td>-0.259780</td>\n",
       "      <td>0.297956</td>\n",
       "      <td>0.400706</td>\n",
       "      <td>0.023168</td>\n",
       "      <td>0.428103</td>\n",
       "      <td>0.290371</td>\n",
       "      <td>0.281963</td>\n",
       "      <td>1.000000</td>\n",
       "      <td>0.285674</td>\n",
       "      <td>0.357283</td>\n",
       "      <td>0.278217</td>\n",
       "      <td>0.305234</td>\n",
       "      <td>0.278217</td>\n",
       "      <td>0.305234</td>\n",
       "    </tr>\n",
       "    <tr>\n",
       "      <th>Predictor</th>\n",
       "      <td>-0.347324</td>\n",
       "      <td>0.983082</td>\n",
       "      <td>0.397290</td>\n",
       "      <td>0.046815</td>\n",
       "      <td>0.161116</td>\n",
       "      <td>0.974588</td>\n",
       "      <td>0.394366</td>\n",
       "      <td>0.285674</td>\n",
       "      <td>1.000000</td>\n",
       "      <td>0.426981</td>\n",
       "      <td>0.951380</td>\n",
       "      <td>0.317024</td>\n",
       "      <td>0.951380</td>\n",
       "      <td>0.317024</td>\n",
       "    </tr>\n",
       "    <tr>\n",
       "      <th>Q1AverageSales15</th>\n",
       "      <td>-0.000285</td>\n",
       "      <td>0.409841</td>\n",
       "      <td>0.900597</td>\n",
       "      <td>0.010714</td>\n",
       "      <td>0.146796</td>\n",
       "      <td>0.403511</td>\n",
       "      <td>0.851124</td>\n",
       "      <td>0.357283</td>\n",
       "      <td>0.426981</td>\n",
       "      <td>1.000000</td>\n",
       "      <td>0.365847</td>\n",
       "      <td>0.773824</td>\n",
       "      <td>0.365847</td>\n",
       "      <td>0.773824</td>\n",
       "    </tr>\n",
       "    <tr>\n",
       "      <th>TotalSales16toDate</th>\n",
       "      <td>-0.342937</td>\n",
       "      <td>0.969142</td>\n",
       "      <td>0.374434</td>\n",
       "      <td>0.044658</td>\n",
       "      <td>0.155199</td>\n",
       "      <td>0.956504</td>\n",
       "      <td>0.367119</td>\n",
       "      <td>0.278217</td>\n",
       "      <td>0.951380</td>\n",
       "      <td>0.365847</td>\n",
       "      <td>1.000000</td>\n",
       "      <td>0.372170</td>\n",
       "      <td>1.000000</td>\n",
       "      <td>0.372170</td>\n",
       "    </tr>\n",
       "    <tr>\n",
       "      <th>AverageSale16toDate</th>\n",
       "      <td>-0.020088</td>\n",
       "      <td>0.331544</td>\n",
       "      <td>0.771606</td>\n",
       "      <td>-0.001830</td>\n",
       "      <td>0.131591</td>\n",
       "      <td>0.319583</td>\n",
       "      <td>0.710034</td>\n",
       "      <td>0.305234</td>\n",
       "      <td>0.317024</td>\n",
       "      <td>0.773824</td>\n",
       "      <td>0.372170</td>\n",
       "      <td>1.000000</td>\n",
       "      <td>0.372170</td>\n",
       "      <td>1.000000</td>\n",
       "    </tr>\n",
       "    <tr>\n",
       "      <th>Q1TotalSales16</th>\n",
       "      <td>-0.342937</td>\n",
       "      <td>0.969142</td>\n",
       "      <td>0.374434</td>\n",
       "      <td>0.044658</td>\n",
       "      <td>0.155199</td>\n",
       "      <td>0.956504</td>\n",
       "      <td>0.367119</td>\n",
       "      <td>0.278217</td>\n",
       "      <td>0.951380</td>\n",
       "      <td>0.365847</td>\n",
       "      <td>1.000000</td>\n",
       "      <td>0.372170</td>\n",
       "      <td>1.000000</td>\n",
       "      <td>0.372170</td>\n",
       "    </tr>\n",
       "    <tr>\n",
       "      <th>Q1AverageSale16</th>\n",
       "      <td>-0.020088</td>\n",
       "      <td>0.331544</td>\n",
       "      <td>0.771606</td>\n",
       "      <td>-0.001830</td>\n",
       "      <td>0.131591</td>\n",
       "      <td>0.319583</td>\n",
       "      <td>0.710034</td>\n",
       "      <td>0.305234</td>\n",
       "      <td>0.317024</td>\n",
       "      <td>0.773824</td>\n",
       "      <td>0.372170</td>\n",
       "      <td>1.000000</td>\n",
       "      <td>0.372170</td>\n",
       "      <td>1.000000</td>\n",
       "    </tr>\n",
       "  </tbody>\n",
       "</table>\n",
       "</div>"
      ],
      "text/plain": [
       "                     storeNumber  totalSales15  averageSale15  countyNumber  \\\n",
       "storeNumber             1.000000     -0.357715       0.027066      0.008424   \n",
       "totalSales15           -0.357715      1.000000       0.425807      0.043170   \n",
       "averageSale15           0.027066      0.425807       1.000000      0.014483   \n",
       "countyNumber            0.008424      0.043170       0.014483      1.000000   \n",
       "averagePrice(L)         0.073260      0.168088       0.192467      0.100569   \n",
       "totalVolSold(L)15      -0.396328      0.992427       0.418048      0.034856   \n",
       "averageVolSold(L)15    -0.048163      0.417130       0.912835     -0.010061   \n",
       "averageMargin15        -0.259780      0.297956       0.400706      0.023168   \n",
       "Predictor              -0.347324      0.983082       0.397290      0.046815   \n",
       "Q1AverageSales15       -0.000285      0.409841       0.900597      0.010714   \n",
       "TotalSales16toDate     -0.342937      0.969142       0.374434      0.044658   \n",
       "AverageSale16toDate    -0.020088      0.331544       0.771606     -0.001830   \n",
       "Q1TotalSales16         -0.342937      0.969142       0.374434      0.044658   \n",
       "Q1AverageSale16        -0.020088      0.331544       0.771606     -0.001830   \n",
       "\n",
       "                     averagePrice(L)  totalVolSold(L)15  averageVolSold(L)15  \\\n",
       "storeNumber                 0.073260          -0.396328            -0.048163   \n",
       "totalSales15                0.168088           0.992427             0.417130   \n",
       "averageSale15               0.192467           0.418048             0.912835   \n",
       "countyNumber                0.100569           0.034856            -0.010061   \n",
       "averagePrice(L)             1.000000           0.125970            -0.055924   \n",
       "totalVolSold(L)15           0.125970           1.000000             0.438793   \n",
       "averageVolSold(L)15        -0.055924           0.438793             1.000000   \n",
       "averageMargin15             0.428103           0.290371             0.281963   \n",
       "Predictor                   0.161116           0.974588             0.394366   \n",
       "Q1AverageSales15            0.146796           0.403511             0.851124   \n",
       "TotalSales16toDate          0.155199           0.956504             0.367119   \n",
       "AverageSale16toDate         0.131591           0.319583             0.710034   \n",
       "Q1TotalSales16              0.155199           0.956504             0.367119   \n",
       "Q1AverageSale16             0.131591           0.319583             0.710034   \n",
       "\n",
       "                     averageMargin15  Predictor  Q1AverageSales15  \\\n",
       "storeNumber                -0.259780  -0.347324         -0.000285   \n",
       "totalSales15                0.297956   0.983082          0.409841   \n",
       "averageSale15               0.400706   0.397290          0.900597   \n",
       "countyNumber                0.023168   0.046815          0.010714   \n",
       "averagePrice(L)             0.428103   0.161116          0.146796   \n",
       "totalVolSold(L)15           0.290371   0.974588          0.403511   \n",
       "averageVolSold(L)15         0.281963   0.394366          0.851124   \n",
       "averageMargin15             1.000000   0.285674          0.357283   \n",
       "Predictor                   0.285674   1.000000          0.426981   \n",
       "Q1AverageSales15            0.357283   0.426981          1.000000   \n",
       "TotalSales16toDate          0.278217   0.951380          0.365847   \n",
       "AverageSale16toDate         0.305234   0.317024          0.773824   \n",
       "Q1TotalSales16              0.278217   0.951380          0.365847   \n",
       "Q1AverageSale16             0.305234   0.317024          0.773824   \n",
       "\n",
       "                     TotalSales16toDate  AverageSale16toDate  Q1TotalSales16  \\\n",
       "storeNumber                   -0.342937            -0.020088       -0.342937   \n",
       "totalSales15                   0.969142             0.331544        0.969142   \n",
       "averageSale15                  0.374434             0.771606        0.374434   \n",
       "countyNumber                   0.044658            -0.001830        0.044658   \n",
       "averagePrice(L)                0.155199             0.131591        0.155199   \n",
       "totalVolSold(L)15              0.956504             0.319583        0.956504   \n",
       "averageVolSold(L)15            0.367119             0.710034        0.367119   \n",
       "averageMargin15                0.278217             0.305234        0.278217   \n",
       "Predictor                      0.951380             0.317024        0.951380   \n",
       "Q1AverageSales15               0.365847             0.773824        0.365847   \n",
       "TotalSales16toDate             1.000000             0.372170        1.000000   \n",
       "AverageSale16toDate            0.372170             1.000000        0.372170   \n",
       "Q1TotalSales16                 1.000000             0.372170        1.000000   \n",
       "Q1AverageSale16                0.372170             1.000000        0.372170   \n",
       "\n",
       "                     Q1AverageSale16  \n",
       "storeNumber                -0.020088  \n",
       "totalSales15                0.331544  \n",
       "averageSale15               0.771606  \n",
       "countyNumber               -0.001830  \n",
       "averagePrice(L)             0.131591  \n",
       "totalVolSold(L)15           0.319583  \n",
       "averageVolSold(L)15         0.710034  \n",
       "averageMargin15             0.305234  \n",
       "Predictor                   0.317024  \n",
       "Q1AverageSales15            0.773824  \n",
       "TotalSales16toDate          0.372170  \n",
       "AverageSale16toDate         1.000000  \n",
       "Q1TotalSales16              0.372170  \n",
       "Q1AverageSale16             1.000000  "
      ]
     },
     "execution_count": 728,
     "metadata": {},
     "output_type": "execute_result"
    }
   ],
   "source": [
    "sales1516.corr()"
   ]
  },
  {
   "cell_type": "code",
   "execution_count": 716,
   "metadata": {
    "collapsed": false,
    "scrolled": true
   },
   "outputs": [
    {
     "data": {
      "text/plain": [
       "<matplotlib.axes._subplots.AxesSubplot at 0x139413d90>"
      ]
     },
     "execution_count": 716,
     "metadata": {},
     "output_type": "execute_result"
    },
    {
     "data": {
      "image/png": "[encoded data removed]",
      "text/plain": [
       "<matplotlib.figure.Figure at 0x12acc7410>"
      ]
     },
     "metadata": {},
     "output_type": "display_data"
    }
   ],
   "source": [
    "sns.heatmap(sales1516.corr())"
   ]
  },
  {
   "cell_type": "code",
   "execution_count": 717,
   "metadata": {
    "collapsed": false
   },
   "outputs": [
    {
     "data": {
      "text/plain": [
       "<matplotlib.axes._subplots.AxesSubplot at 0x151652110>"
      ]
     },
     "execution_count": 717,
     "metadata": {},
     "output_type": "execute_result"
    },
    {
     "data": {
      "image/png": "[encoded data removed]",
      "text/plain": [
       "<matplotlib.figure.Figure at 0x14e63f590>"
      ]
     },
     "metadata": {},
     "output_type": "display_data"
    }
   ],
   "source": [
    "fig, axs = plt.subplots(1, 3, sharey=True) # ( _, _ )\n",
    "\n",
    "sales1516.plot(kind='scatter', x='Q1TotalSales15', y='totalSales15', ax=axs[0], figsize=(16, 8), color='orange')\n",
    "sales1516.plot(kind='scatter', x='averageMargin15', y='totalSales15', ax=axs[1], color='w')\n",
    "sales1516.plot(kind='scatter', x='averageSale15', y='totalSales15', ax=axs[2],color='navy')"
   ]
  },
  {
   "cell_type": "code",
   "execution_count": 721,
   "metadata": {
    "collapsed": false
   },
   "outputs": [
    {
     "data": {
      "text/html": [
       "<table class=\"simpletable\">\n",
       "<caption>OLS Regression Results</caption>\n",
       "<tr>\n",
       "  <th>Dep. Variable:</th>      <td>totalSales15</td>   <th>  R-squared:         </th> <td>   0.966</td> \n",
       "</tr>\n",
       "<tr>\n",
       "  <th>Model:</th>                   <td>OLS</td>       <th>  Adj. R-squared:    </th> <td>   0.966</td> \n",
       "</tr>\n",
       "<tr>\n",
       "  <th>Method:</th>             <td>Least Squares</td>  <th>  F-statistic:       </th> <td>3.382e+04</td>\n",
       "</tr>\n",
       "<tr>\n",
       "  <th>Date:</th>             <td>Thu, 23 Jun 2016</td> <th>  Prob (F-statistic):</th>  <td>  0.00</td>  \n",
       "</tr>\n",
       "<tr>\n",
       "  <th>Time:</th>                 <td>17:59:18</td>     <th>  Log-Likelihood:    </th> <td> -12496.</td> \n",
       "</tr>\n",
       "<tr>\n",
       "  <th>No. Observations:</th>      <td>  1176</td>      <th>  AIC:               </th> <td>2.500e+04</td>\n",
       "</tr>\n",
       "<tr>\n",
       "  <th>Df Residuals:</th>          <td>  1174</td>      <th>  BIC:               </th> <td>2.501e+04</td>\n",
       "</tr>\n",
       "<tr>\n",
       "  <th>Df Model:</th>              <td>     1</td>      <th>                     </th>     <td> </td>    \n",
       "</tr>\n",
       "<tr>\n",
       "  <th>Covariance Type:</th>      <td>nonrobust</td>    <th>                     </th>     <td> </td>    \n",
       "</tr>\n",
       "</table>\n",
       "<table class=\"simpletable\">\n",
       "<tr>\n",
       "         <td></td>           <th>coef</th>     <th>std err</th>      <th>t</th>      <th>P>|t|</th> <th>[95.0% Conf. Int.]</th> \n",
       "</tr>\n",
       "<tr>\n",
       "  <th>Intercept</th>      <td>  727.4862</td> <td>  315.621</td> <td>    2.305</td> <td> 0.021</td> <td>  108.242  1346.731</td>\n",
       "</tr>\n",
       "<tr>\n",
       "  <th>Q1TotalSales15</th> <td>    4.4755</td> <td>    0.024</td> <td>  183.897</td> <td> 0.000</td> <td>    4.428     4.523</td>\n",
       "</tr>\n",
       "</table>\n",
       "<table class=\"simpletable\">\n",
       "<tr>\n",
       "  <th>Omnibus:</th>       <td>647.948</td> <th>  Durbin-Watson:     </th> <td>   1.993</td> \n",
       "</tr>\n",
       "<tr>\n",
       "  <th>Prob(Omnibus):</th> <td> 0.000</td>  <th>  Jarque-Bera (JB):  </th> <td>39701.693</td>\n",
       "</tr>\n",
       "<tr>\n",
       "  <th>Skew:</th>          <td> 1.747</td>  <th>  Prob(JB):          </th> <td>    0.00</td> \n",
       "</tr>\n",
       "<tr>\n",
       "  <th>Kurtosis:</th>      <td>31.250</td>  <th>  Cond. No.          </th> <td>1.41e+04</td> \n",
       "</tr>\n",
       "</table>"
      ],
      "text/plain": [
       "<class 'statsmodels.iolib.summary.Summary'>\n",
       "\"\"\"\n",
       "                            OLS Regression Results                            \n",
       "==============================================================================\n",
       "Dep. Variable:           totalSales15   R-squared:                       0.966\n",
       "Model:                            OLS   Adj. R-squared:                  0.966\n",
       "Method:                 Least Squares   F-statistic:                 3.382e+04\n",
       "Date:                Thu, 23 Jun 2016   Prob (F-statistic):               0.00\n",
       "Time:                        17:59:18   Log-Likelihood:                -12496.\n",
       "No. Observations:                1176   AIC:                         2.500e+04\n",
       "Df Residuals:                    1174   BIC:                         2.501e+04\n",
       "Df Model:                           1                                         \n",
       "Covariance Type:            nonrobust                                         \n",
       "==================================================================================\n",
       "                     coef    std err          t      P>|t|      [95.0% Conf. Int.]\n",
       "----------------------------------------------------------------------------------\n",
       "Intercept        727.4862    315.621      2.305      0.021       108.242  1346.731\n",
       "Q1TotalSales15     4.4755      0.024    183.897      0.000         4.428     4.523\n",
       "==============================================================================\n",
       "Omnibus:                      647.948   Durbin-Watson:                   1.993\n",
       "Prob(Omnibus):                  0.000   Jarque-Bera (JB):            39701.693\n",
       "Skew:                           1.747   Prob(JB):                         0.00\n",
       "Kurtosis:                      31.250   Cond. No.                     1.41e+04\n",
       "==============================================================================\n",
       "\n",
       "Warnings:\n",
       "[1] Standard Errors assume that the covariance matrix of the errors is correctly specified.\n",
       "[2] The condition number is large, 1.41e+04. This might indicate that there are\n",
       "strong multicollinearity or other numerical problems.\n",
       "\"\"\""
      ]
     },
     "execution_count": 721,
     "metadata": {},
     "output_type": "execute_result"
    }
   ],
   "source": [
    "import statsmodels.formula.api as smf\n",
    "\n",
    "model = smf.ols(formula=\"totalSales15 ~ Q1TotalSales15\", data=sales1516)\n",
    "\n",
    "fit = model.fit_regularized()\n",
    "\n",
    "predictions = fit.predict(sales1516[['Q1TotalSales15']])\n",
    "\n",
    "fit.summary()\n",
    "\n",
    "#lm.summary()\n",
    "\n",
    "#Prob (F-stat) is the p-value for the model as a whole?"
   ]
  },
  {
   "cell_type": "code",
   "execution_count": 719,
   "metadata": {
    "collapsed": false
   },
   "outputs": [
    {
     "data": {
      "text/plain": [
       "[<matplotlib.lines.Line2D at 0x125cb8e90>]"
      ]
     },
     "execution_count": 719,
     "metadata": {},
     "output_type": "execute_result"
    },
    {
     "data": {
      "image/png": "[encoded data removed]",
      "text/plain": [
       "<matplotlib.figure.Figure at 0x14e25be10>"
      ]
     },
     "metadata": {},
     "output_type": "display_data"
    }
   ],
   "source": [
    "plt.scatter(sales1516['Q1TotalSales15'], sales1516['totalSales15'])\n",
    "plt.plot(sales1516['Q1TotalSales15'],predictions)"
   ]
  },
  {
   "cell_type": "code",
   "execution_count": 724,
   "metadata": {
    "collapsed": false
   },
   "outputs": [
    {
     "ename": "NameError",
     "evalue": "name 'Q1TotalSales15' is not defined",
     "output_type": "error",
     "traceback": [
      "\u001b[0;31m---------------------------------------------------------------------------\u001b[0m",
      "\u001b[0;31mNameError\u001b[0m                                 Traceback (most recent call last)",
      "\u001b[0;32m<ipython-input-724-6563a2985c09>\u001b[0m in \u001b[0;36m<module>\u001b[0;34m()\u001b[0m\n\u001b[0;32m----> 1\u001b[0;31m \u001b[0mpredictions16\u001b[0m \u001b[0;34m=\u001b[0m \u001b[0mfit\u001b[0m\u001b[0;34m.\u001b[0m\u001b[0mpredict\u001b[0m\u001b[0;34m(\u001b[0m\u001b[0msales1516\u001b[0m\u001b[0;34m[\u001b[0m\u001b[0;34m[\u001b[0m\u001b[0;34m'Q1TotalSales16'\u001b[0m\u001b[0;34m]\u001b[0m\u001b[0;34m]\u001b[0m\u001b[0;34m)\u001b[0m\u001b[0;34m\u001b[0m\u001b[0m\n\u001b[0m\u001b[1;32m      2\u001b[0m \u001b[0;34m\u001b[0m\u001b[0m\n\u001b[1;32m      3\u001b[0m \u001b[0;34m\u001b[0m\u001b[0m\n\u001b[1;32m      4\u001b[0m \u001b[0mplt\u001b[0m\u001b[0;34m.\u001b[0m\u001b[0mscatter\u001b[0m\u001b[0;34m(\u001b[0m\u001b[0msales1516\u001b[0m\u001b[0;34m[\u001b[0m\u001b[0;34m'Q1TotalSales16'\u001b[0m\u001b[0;34m]\u001b[0m\u001b[0;34m,\u001b[0m \u001b[0msales1516\u001b[0m\u001b[0;34m[\u001b[0m\u001b[0;34m'totalSales15'\u001b[0m\u001b[0;34m]\u001b[0m\u001b[0;34m)\u001b[0m\u001b[0;34m\u001b[0m\u001b[0m\n\u001b[1;32m      5\u001b[0m \u001b[0mplt\u001b[0m\u001b[0;34m.\u001b[0m\u001b[0mplot\u001b[0m\u001b[0;34m(\u001b[0m\u001b[0msales1516\u001b[0m\u001b[0;34m[\u001b[0m\u001b[0;34m'Q1TotalSales16'\u001b[0m\u001b[0;34m]\u001b[0m\u001b[0;34m,\u001b[0m\u001b[0mpredictions16\u001b[0m\u001b[0;34m)\u001b[0m\u001b[0;34m\u001b[0m\u001b[0m\n",
      "\u001b[0;32m/Users/michaelmainzer/anaconda/lib/python2.7/site-packages/statsmodels/base/model.pyc\u001b[0m in \u001b[0;36mpredict\u001b[0;34m(self, exog, transform, *args, **kwargs)\u001b[0m\n\u001b[1;32m    738\u001b[0m             \u001b[0;32mfrom\u001b[0m \u001b[0mpatsy\u001b[0m \u001b[0;32mimport\u001b[0m \u001b[0mdmatrix\u001b[0m\u001b[0;34m\u001b[0m\u001b[0m\n\u001b[1;32m    739\u001b[0m             exog = dmatrix(self.model.data.orig_exog.design_info.builder,\n\u001b[0;32m--> 740\u001b[0;31m                            exog)\n\u001b[0m\u001b[1;32m    741\u001b[0m \u001b[0;34m\u001b[0m\u001b[0m\n\u001b[1;32m    742\u001b[0m         \u001b[0;32mif\u001b[0m \u001b[0mexog\u001b[0m \u001b[0;32mis\u001b[0m \u001b[0;32mnot\u001b[0m \u001b[0mNone\u001b[0m\u001b[0;34m:\u001b[0m\u001b[0;34m\u001b[0m\u001b[0m\n",
      "\u001b[0;32m/Users/michaelmainzer/anaconda/lib/python2.7/site-packages/patsy/highlevel.pyc\u001b[0m in \u001b[0;36mdmatrix\u001b[0;34m(formula_like, data, eval_env, NA_action, return_type)\u001b[0m\n\u001b[1;32m    276\u001b[0m     \u001b[0meval_env\u001b[0m \u001b[0;34m=\u001b[0m \u001b[0mEvalEnvironment\u001b[0m\u001b[0;34m.\u001b[0m\u001b[0mcapture\u001b[0m\u001b[0;34m(\u001b[0m\u001b[0meval_env\u001b[0m\u001b[0;34m,\u001b[0m \u001b[0mreference\u001b[0m\u001b[0;34m=\u001b[0m\u001b[0;36m1\u001b[0m\u001b[0;34m)\u001b[0m\u001b[0;34m\u001b[0m\u001b[0m\n\u001b[1;32m    277\u001b[0m     (lhs, rhs) = _do_highlevel_design(formula_like, data, eval_env,\n\u001b[0;32m--> 278\u001b[0;31m                                       NA_action, return_type)\n\u001b[0m\u001b[1;32m    279\u001b[0m     \u001b[0;32mif\u001b[0m \u001b[0mlhs\u001b[0m\u001b[0;34m.\u001b[0m\u001b[0mshape\u001b[0m\u001b[0;34m[\u001b[0m\u001b[0;36m1\u001b[0m\u001b[0;34m]\u001b[0m \u001b[0;34m!=\u001b[0m \u001b[0;36m0\u001b[0m\u001b[0;34m:\u001b[0m\u001b[0;34m\u001b[0m\u001b[0m\n\u001b[1;32m    280\u001b[0m         raise PatsyError(\"encountered outcome variables for a model \"\n",
      "\u001b[0;32m/Users/michaelmainzer/anaconda/lib/python2.7/site-packages/patsy/highlevel.pyc\u001b[0m in \u001b[0;36m_do_highlevel_design\u001b[0;34m(formula_like, data, eval_env, NA_action, return_type)\u001b[0m\n\u001b[1;32m    154\u001b[0m         return build_design_matrices(design_infos, data,\n\u001b[1;32m    155\u001b[0m                                      \u001b[0mNA_action\u001b[0m\u001b[0;34m=\u001b[0m\u001b[0mNA_action\u001b[0m\u001b[0;34m,\u001b[0m\u001b[0;34m\u001b[0m\u001b[0m\n\u001b[0;32m--> 156\u001b[0;31m                                      return_type=return_type)\n\u001b[0m\u001b[1;32m    157\u001b[0m     \u001b[0;32melse\u001b[0m\u001b[0;34m:\u001b[0m\u001b[0;34m\u001b[0m\u001b[0m\n\u001b[1;32m    158\u001b[0m         \u001b[0;31m# No builders, but maybe we can still get matrices\u001b[0m\u001b[0;34m\u001b[0m\u001b[0;34m\u001b[0m\u001b[0m\n",
      "\u001b[0;32m/Users/michaelmainzer/anaconda/lib/python2.7/site-packages/patsy/build.pyc\u001b[0m in \u001b[0;36mbuild_design_matrices\u001b[0;34m(design_infos, data, NA_action, return_type, dtype)\u001b[0m\n\u001b[1;32m    886\u001b[0m         \u001b[0;32mfor\u001b[0m \u001b[0mfactor_info\u001b[0m \u001b[0;32min\u001b[0m \u001b[0msix\u001b[0m\u001b[0;34m.\u001b[0m\u001b[0mitervalues\u001b[0m\u001b[0;34m(\u001b[0m\u001b[0mdesign_info\u001b[0m\u001b[0;34m.\u001b[0m\u001b[0mfactor_infos\u001b[0m\u001b[0;34m)\u001b[0m\u001b[0;34m:\u001b[0m\u001b[0;34m\u001b[0m\u001b[0m\n\u001b[1;32m    887\u001b[0m             \u001b[0;32mif\u001b[0m \u001b[0mfactor_info\u001b[0m \u001b[0;32mnot\u001b[0m \u001b[0;32min\u001b[0m \u001b[0mfactor_info_to_values\u001b[0m\u001b[0;34m:\u001b[0m\u001b[0;34m\u001b[0m\u001b[0m\n\u001b[0;32m--> 888\u001b[0;31m                 \u001b[0mvalue\u001b[0m\u001b[0;34m,\u001b[0m \u001b[0mis_NA\u001b[0m \u001b[0;34m=\u001b[0m \u001b[0m_eval_factor\u001b[0m\u001b[0;34m(\u001b[0m\u001b[0mfactor_info\u001b[0m\u001b[0;34m,\u001b[0m \u001b[0mdata\u001b[0m\u001b[0;34m,\u001b[0m \u001b[0mNA_action\u001b[0m\u001b[0;34m)\u001b[0m\u001b[0;34m\u001b[0m\u001b[0m\n\u001b[0m\u001b[1;32m    889\u001b[0m                 \u001b[0mfactor_info_to_isNAs\u001b[0m\u001b[0;34m[\u001b[0m\u001b[0mfactor_info\u001b[0m\u001b[0;34m]\u001b[0m \u001b[0;34m=\u001b[0m \u001b[0mis_NA\u001b[0m\u001b[0;34m\u001b[0m\u001b[0m\n\u001b[1;32m    890\u001b[0m                 \u001b[0;31m# value may now be a Series, DataFrame, or ndarray\u001b[0m\u001b[0;34m\u001b[0m\u001b[0;34m\u001b[0m\u001b[0m\n",
      "\u001b[0;32m/Users/michaelmainzer/anaconda/lib/python2.7/site-packages/patsy/build.pyc\u001b[0m in \u001b[0;36m_eval_factor\u001b[0;34m(factor_info, data, NA_action)\u001b[0m\n\u001b[1;32m     61\u001b[0m \u001b[0;32mdef\u001b[0m \u001b[0m_eval_factor\u001b[0m\u001b[0;34m(\u001b[0m\u001b[0mfactor_info\u001b[0m\u001b[0;34m,\u001b[0m \u001b[0mdata\u001b[0m\u001b[0;34m,\u001b[0m \u001b[0mNA_action\u001b[0m\u001b[0;34m)\u001b[0m\u001b[0;34m:\u001b[0m\u001b[0;34m\u001b[0m\u001b[0m\n\u001b[1;32m     62\u001b[0m     \u001b[0mfactor\u001b[0m \u001b[0;34m=\u001b[0m \u001b[0mfactor_info\u001b[0m\u001b[0;34m.\u001b[0m\u001b[0mfactor\u001b[0m\u001b[0;34m\u001b[0m\u001b[0m\n\u001b[0;32m---> 63\u001b[0;31m     \u001b[0mresult\u001b[0m \u001b[0;34m=\u001b[0m \u001b[0mfactor\u001b[0m\u001b[0;34m.\u001b[0m\u001b[0meval\u001b[0m\u001b[0;34m(\u001b[0m\u001b[0mfactor_info\u001b[0m\u001b[0;34m.\u001b[0m\u001b[0mstate\u001b[0m\u001b[0;34m,\u001b[0m \u001b[0mdata\u001b[0m\u001b[0;34m)\u001b[0m\u001b[0;34m\u001b[0m\u001b[0m\n\u001b[0m\u001b[1;32m     64\u001b[0m     \u001b[0;31m# Returns either a 2d ndarray, or a DataFrame, plus is_NA mask\u001b[0m\u001b[0;34m\u001b[0m\u001b[0;34m\u001b[0m\u001b[0m\n\u001b[1;32m     65\u001b[0m     \u001b[0;32mif\u001b[0m \u001b[0mfactor_info\u001b[0m\u001b[0;34m.\u001b[0m\u001b[0mtype\u001b[0m \u001b[0;34m==\u001b[0m \u001b[0;34m\"numerical\"\u001b[0m\u001b[0;34m:\u001b[0m\u001b[0;34m\u001b[0m\u001b[0m\n",
      "\u001b[0;32m/Users/michaelmainzer/anaconda/lib/python2.7/site-packages/patsy/eval.pyc\u001b[0m in \u001b[0;36meval\u001b[0;34m(self, memorize_state, data)\u001b[0m\n\u001b[1;32m    564\u001b[0m         return self._eval(memorize_state[\"eval_code\"],\n\u001b[1;32m    565\u001b[0m                           \u001b[0mmemorize_state\u001b[0m\u001b[0;34m,\u001b[0m\u001b[0;34m\u001b[0m\u001b[0m\n\u001b[0;32m--> 566\u001b[0;31m                           data)\n\u001b[0m\u001b[1;32m    567\u001b[0m \u001b[0;34m\u001b[0m\u001b[0m\n\u001b[1;32m    568\u001b[0m     \u001b[0m__getstate__\u001b[0m \u001b[0;34m=\u001b[0m \u001b[0mno_pickling\u001b[0m\u001b[0;34m\u001b[0m\u001b[0m\n",
      "\u001b[0;32m/Users/michaelmainzer/anaconda/lib/python2.7/site-packages/patsy/eval.pyc\u001b[0m in \u001b[0;36m_eval\u001b[0;34m(self, code, memorize_state, data)\u001b[0m\n\u001b[1;32m    549\u001b[0m                                  \u001b[0mmemorize_state\u001b[0m\u001b[0;34m[\u001b[0m\u001b[0;34m\"eval_env\"\u001b[0m\u001b[0;34m]\u001b[0m\u001b[0;34m.\u001b[0m\u001b[0meval\u001b[0m\u001b[0;34m,\u001b[0m\u001b[0;34m\u001b[0m\u001b[0m\n\u001b[1;32m    550\u001b[0m                                  \u001b[0mcode\u001b[0m\u001b[0;34m,\u001b[0m\u001b[0;34m\u001b[0m\u001b[0m\n\u001b[0;32m--> 551\u001b[0;31m                                  inner_namespace=inner_namespace)\n\u001b[0m\u001b[1;32m    552\u001b[0m \u001b[0;34m\u001b[0m\u001b[0m\n\u001b[1;32m    553\u001b[0m     \u001b[0;32mdef\u001b[0m \u001b[0mmemorize_chunk\u001b[0m\u001b[0;34m(\u001b[0m\u001b[0mself\u001b[0m\u001b[0;34m,\u001b[0m \u001b[0mstate\u001b[0m\u001b[0;34m,\u001b[0m \u001b[0mwhich_pass\u001b[0m\u001b[0;34m,\u001b[0m \u001b[0mdata\u001b[0m\u001b[0;34m)\u001b[0m\u001b[0;34m:\u001b[0m\u001b[0;34m\u001b[0m\u001b[0m\n",
      "\u001b[0;32m/Users/michaelmainzer/anaconda/lib/python2.7/site-packages/patsy/compat.pyc\u001b[0m in \u001b[0;36mcall_and_wrap_exc\u001b[0;34m(msg, origin, f, *args, **kwargs)\u001b[0m\n\u001b[1;32m    115\u001b[0m \u001b[0;32mdef\u001b[0m \u001b[0mcall_and_wrap_exc\u001b[0m\u001b[0;34m(\u001b[0m\u001b[0mmsg\u001b[0m\u001b[0;34m,\u001b[0m \u001b[0morigin\u001b[0m\u001b[0;34m,\u001b[0m \u001b[0mf\u001b[0m\u001b[0;34m,\u001b[0m \u001b[0;34m*\u001b[0m\u001b[0margs\u001b[0m\u001b[0;34m,\u001b[0m \u001b[0;34m**\u001b[0m\u001b[0mkwargs\u001b[0m\u001b[0;34m)\u001b[0m\u001b[0;34m:\u001b[0m\u001b[0;34m\u001b[0m\u001b[0m\n\u001b[1;32m    116\u001b[0m     \u001b[0;32mtry\u001b[0m\u001b[0;34m:\u001b[0m\u001b[0;34m\u001b[0m\u001b[0m\n\u001b[0;32m--> 117\u001b[0;31m         \u001b[0;32mreturn\u001b[0m \u001b[0mf\u001b[0m\u001b[0;34m(\u001b[0m\u001b[0;34m*\u001b[0m\u001b[0margs\u001b[0m\u001b[0;34m,\u001b[0m \u001b[0;34m**\u001b[0m\u001b[0mkwargs\u001b[0m\u001b[0;34m)\u001b[0m\u001b[0;34m\u001b[0m\u001b[0m\n\u001b[0m\u001b[1;32m    118\u001b[0m     \u001b[0;32mexcept\u001b[0m \u001b[0mException\u001b[0m \u001b[0;32mas\u001b[0m \u001b[0me\u001b[0m\u001b[0;34m:\u001b[0m\u001b[0;34m\u001b[0m\u001b[0m\n\u001b[1;32m    119\u001b[0m         \u001b[0;32mif\u001b[0m \u001b[0msys\u001b[0m\u001b[0;34m.\u001b[0m\u001b[0mversion_info\u001b[0m\u001b[0;34m[\u001b[0m\u001b[0;36m0\u001b[0m\u001b[0;34m]\u001b[0m \u001b[0;34m>=\u001b[0m \u001b[0;36m3\u001b[0m\u001b[0;34m:\u001b[0m\u001b[0;34m\u001b[0m\u001b[0m\n",
      "\u001b[0;32m/Users/michaelmainzer/anaconda/lib/python2.7/site-packages/patsy/eval.pyc\u001b[0m in \u001b[0;36meval\u001b[0;34m(self, expr, source_name, inner_namespace)\u001b[0m\n\u001b[1;32m    164\u001b[0m         \u001b[0mcode\u001b[0m \u001b[0;34m=\u001b[0m \u001b[0mcompile\u001b[0m\u001b[0;34m(\u001b[0m\u001b[0mexpr\u001b[0m\u001b[0;34m,\u001b[0m \u001b[0msource_name\u001b[0m\u001b[0;34m,\u001b[0m \u001b[0;34m\"eval\"\u001b[0m\u001b[0;34m,\u001b[0m \u001b[0mself\u001b[0m\u001b[0;34m.\u001b[0m\u001b[0mflags\u001b[0m\u001b[0;34m,\u001b[0m \u001b[0mFalse\u001b[0m\u001b[0;34m)\u001b[0m\u001b[0;34m\u001b[0m\u001b[0m\n\u001b[1;32m    165\u001b[0m         return eval(code, {}, VarLookupDict([inner_namespace]\n\u001b[0;32m--> 166\u001b[0;31m                                             + self._namespaces))\n\u001b[0m\u001b[1;32m    167\u001b[0m \u001b[0;34m\u001b[0m\u001b[0m\n\u001b[1;32m    168\u001b[0m     \u001b[0;34m@\u001b[0m\u001b[0mclassmethod\u001b[0m\u001b[0;34m\u001b[0m\u001b[0m\n",
      "\u001b[0;32m<string>\u001b[0m in \u001b[0;36m<module>\u001b[0;34m()\u001b[0m\n",
      "\u001b[0;31mNameError\u001b[0m: name 'Q1TotalSales15' is not defined"
     ]
    }
   ],
   "source": [
    "predictions16 = fit.predict(sales1516[['Q1TotalSales16']])\n",
    "\n",
    "\n",
    "plt.scatter(sales1516['Q1TotalSales16'], sales1516['totalSales15'])\n",
    "plt.plot(sales1516['Q1TotalSales16'],predictions16)"
   ]
  },
  {
   "cell_type": "code",
   "execution_count": null,
   "metadata": {
    "collapsed": true
   },
   "outputs": [],
   "source": []
  }
 ],
 "metadata": {
  "kernelspec": {
   "display_name": "Python 2",
   "language": "python",
   "name": "python2"
  },
  "language_info": {
   "codemirror_mode": {
    "name": "ipython",
    "version": 2
   },
   "file_extension": ".py",
   "mimetype": "text/x-python",
   "name": "python",
   "nbconvert_exporter": "python",
   "pygments_lexer": "ipython2",
   "version": "2.7.11"
  }
 },
 "nbformat": 4,
 "nbformat_minor": 0
}
