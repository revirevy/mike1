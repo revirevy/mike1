{
 "cells": [
  {
   "cell_type": "code",
   "execution_count": 4,
   "metadata": {
    "collapsed": false
   },
   "outputs": [
    {
     "name": "stdout",
     "output_type": "stream",
     "text": [
      "[1, 2, 3, 4, 5, 6, 7, 8, 9]\n",
      "[2, 4, 6, 8, 10, 12, 14, 16, 18]\n"
     ]
    }
   ],
   "source": [
    "someList = range(1,10)\n",
    "print someList\n",
    "\n",
    "newList = []\n",
    "for num in someList:\n",
    "    newList.append(num*2)\n",
    "\n",
    "print newList\n",
    "\n"
   ]
  },
  {
   "cell_type": "code",
   "execution_count": 10,
   "metadata": {
    "collapsed": false
   },
   "outputs": [
    {
     "name": "stdout",
     "output_type": "stream",
     "text": [
      "[2, 4, 6, 8]\n"
     ]
    }
   ],
   "source": [
    "def multiplyNumByN(n):\n",
    "    return n*2\n",
    "\n",
    "def checkEvenNum(n):\n",
    "    return n % 2 == 0\n",
    "\n",
    "newArrayTimesTwo = map(multiplyNumByN,someList)\n",
    "newArrayEvenNums = filter(checkEvenNum,someList)\n",
    "\n",
    "print newArrayEvenNums"
   ]
  },
  {
   "cell_type": "code",
   "execution_count": 13,
   "metadata": {
    "collapsed": false
   },
   "outputs": [
    {
     "name": "stdout",
     "output_type": "stream",
     "text": [
      "{'Bilind': 27, 'John': 28, 'Matt': 23}\n",
      "27\n"
     ]
    }
   ],
   "source": [
    "names = ['Bilind', 'John', 'Matt']\n",
    "ages = [27, 28, 23]\n",
    "\n",
    "ageMap = zip(names,ages)\n",
    "ageDictionary = dict(ageMap)\n",
    "print ageDictionary\n",
    "\n",
    "print ageDictionary['Bilind']"
   ]
  },
  {
   "cell_type": "code",
   "execution_count": 14,
   "metadata": {
    "collapsed": false
   },
   "outputs": [
    {
     "name": "stdout",
     "output_type": "stream",
     "text": [
      "Bilind\n",
      "27\n",
      "John\n",
      "28\n",
      "Matt\n",
      "23\n"
     ]
    }
   ],
   "source": [
    "for key, value in ageDictionary.items():\n",
    "    print key\n",
    "    print value"
   ]
  },
  {
   "cell_type": "code",
   "execution_count": 11,
   "metadata": {
    "collapsed": false
   },
   "outputs": [
    {
     "name": "stdout",
     "output_type": "stream",
     "text": [
      "\u001b[34m1.1-lesson\u001b[m\u001b[m                   \u001b[34m3.4-lab\u001b[m\u001b[m\r\n",
      "\u001b[34m1.2-lesson\u001b[m\u001b[m                   \u001b[34m4.1-lesson\u001b[m\u001b[m\r\n",
      "\u001b[34m1.3-lesson\u001b[m\u001b[m                   \u001b[34m4.2-lab\u001b[m\u001b[m\r\n",
      "\u001b[34m1.4-lesson\u001b[m\u001b[m                   \u001b[34m4.3-lab\u001b[m\u001b[m\r\n",
      "\u001b[34m2.0-morning-exercise\u001b[m\u001b[m         \u001b[34m4.4-lesson\u001b[m\u001b[m\r\n",
      "\u001b[34m2.1-lesson\u001b[m\u001b[m                   \u001b[34m5.1-lesson\u001b[m\u001b[m\r\n",
      "\u001b[34m2.2-lab\u001b[m\u001b[m                      \u001b[34m5.2-lab\u001b[m\u001b[m\r\n",
      "\u001b[34m2.3-lesson\u001b[m\u001b[m                   \u001b[34m5.3-flex\u001b[m\u001b[m\r\n",
      "\u001b[34m2.4-lab\u001b[m\u001b[m                      DSI01 Welcome.pdf\r\n",
      "\u001b[34m3.1-lesson\u001b[m\u001b[m                   DSI1.3 Methods and Stats.pdf\r\n",
      "\u001b[34m3.2-lesson\u001b[m\u001b[m                   Untitled.ipynb\r\n",
      "\u001b[34m3.3-lesson\u001b[m\u001b[m                   readme.md\r\n"
     ]
    }
   ],
   "source": []
  },
  {
   "cell_type": "code",
   "execution_count": null,
   "metadata": {
    "collapsed": true
   },
   "outputs": [],
   "source": []
  }
 ],
 "metadata": {
  "kernelspec": {
   "display_name": "Python 2",
   "language": "python",
   "name": "python2"
  },
  "language_info": {
   "codemirror_mode": {
    "name": "ipython",
    "version": 2
   },
   "file_extension": ".py",
   "mimetype": "text/x-python",
   "name": "python",
   "nbconvert_exporter": "python",
   "pygments_lexer": "ipython2",
   "version": "2.7.11"
  }
 },
 "nbformat": 4,
 "nbformat_minor": 0
}
