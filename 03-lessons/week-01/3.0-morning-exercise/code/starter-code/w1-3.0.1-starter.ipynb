{
 "cells": [
  {
   "cell_type": "code",
   "execution_count": 52,
   "metadata": {
    "collapsed": true
   },
   "outputs": [],
   "source": [
    "# create a function, where given an input of a list, the function will return the sample standard deviation"
   ]
  },
  {
   "cell_type": "code",
   "execution_count": 53,
   "metadata": {
    "collapsed": false
   },
   "outputs": [
    {
     "name": "stdout",
     "output_type": "stream",
     "text": [
      "\n"
     ]
    }
   ],
   "source": [
    "import math # use the math package for absolute value, exp, or other special math methods\n",
    "import numpy as np # use nump for random number generation"
   ]
  },
  {
   "cell_type": "code",
   "execution_count": 54,
   "metadata": {
    "collapsed": false
   },
   "outputs": [],
   "source": [
    "# create a function called getMean(bucket), the parameter it will take will be called bucket\n",
    "# and it will be a list of integers (assume user knows how parameters must be of type List[Int])"
   ]
  },
  {
   "cell_type": "code",
   "execution_count": 55,
   "metadata": {
    "collapsed": true
   },
   "outputs": [],
   "source": [
    "# below is a function that return the sample standard deviation of a list, given the list of nums\n",
    "# called bucket, and the mean of the numbers in that bucket. Try using the for loop since it's used more often\n",
    "\n",
    "def getStandardDevWithForLoop(bucket,mean): \n",
    "    dfSum = 0\n",
    "    for num in bucket:# it pulls each individual value from the list called 'bucket'\n",
    "        dfSum += (num - mean)**2#you get your numerator by adding to the dfSum the difference btwn num and mean, each**2\n",
    "    return float(dfSum)/(len(bucket) - 1) # avoid integer division by casting dfSum as a float"
   ]
  },
  {
   "cell_type": "code",
   "execution_count": 56,
   "metadata": {
    "collapsed": true
   },
   "outputs": [],
   "source": [
    "# recreate getStandardDevWithForLoop, but use map instead of a for loop. This is the same as above, just using map\n",
    "\n",
    "def getStandardDeviationWithMap(bucket,mean): \n",
    "    df = map(lambda x: (x - mean) ** 2, bucket)#this will make df the result of that lambda function\n",
    "    dfSum = sum(df)\n",
    "    sampleVar = float(dfSum)/(len(bucket) - 1)\n",
    "    return np.sqrt(sampleVar)"
   ]
  },
  {
   "cell_type": "code",
   "execution_count": 57,
   "metadata": {
    "collapsed": false
   },
   "outputs": [],
   "source": [
    "#finish the assignment values in getSummaryStatistics, note  the order of operations.\n",
    "# 1. Get Mean of Bucket (use predfined functions above!)\n",
    "# 2. Get Standard Deviation (using either getStandardDeviationWithMap or getStandardDeviationWithForLoop)\n",
    "# note both functions require parameters! \n",
    "# 3. get the max number in the bucket\n",
    "# 4. get the min number in the bucket\n",
    "# 5. Get the Range\n",
    "# 6. Input values in dictionary\n",
    "\n",
    "def getSummaryStatistics(bucket):\n",
    "    \n",
    "    mean = np.mean(bucket)\n",
    "    stdev = getStandardDeviationWithMap(bucket, mean)\n",
    "    \n",
    "    maxNum = max(bucket)\n",
    "    minNum = min(bucket)\n",
    "    \n",
    "    rangeList = np.ptp(bucket)# or max(num) - min(num)\n",
    "    \n",
    "    statsDictionary = { \"mean\" : mean,# input assignment , \n",
    "                        \"stdev\": stdev,# input assignment, \n",
    "                        \"maxNum\": maxNum,# input assignment, \n",
    "                        \"minNum\": minNum,# input assignment, \n",
    "                        \"range\" : rangeList # input assignment - without quotes, these are values\n",
    "                      }\n",
    "    return statsDictionary"
   ]
  },
  {
   "cell_type": "code",
   "execution_count": 58,
   "metadata": {
    "collapsed": false
   },
   "outputs": [
    {
     "name": "stdout",
     "output_type": "stream",
     "text": [
      "{'minNum': 0, 'stdev': 3.0276503540974917, 'maxNum': 9, 'range': 9, 'mean': 4.5}\n"
     ]
    }
   ],
   "source": [
    "list1 = range(0,10,1)\n",
    "summaryStatistics = getSummaryStatistics(list1)\n",
    "print summaryStatistics\n",
    "# If this returns {'minNum': 0, 'stdev': 9.166666666666666, 'maxNum': 9, 'range': 9, 'mean': 4.5}\n",
    "# you are in good shape! "
   ]
  },
  {
   "cell_type": "code",
   "execution_count": 59,
   "metadata": {
    "collapsed": false
   },
   "outputs": [],
   "source": [
    "# The function below will create a list of lists, where each list number are randomly generated\n",
    "# minNumInList = minimum number to be generated in each list\n",
    "# maxNumInList = maximum number to be generated in each list\n",
    "# lenEachList = length of each list (all lists will have uniform length)\n",
    "# numOfLists = number of lists to generate\n",
    "# Note I am using np class (numpy) to to random random generation, see other methods for numpy\n",
    "\n",
    "def getRandomData(minNumInList,maxNumInList,lenEachList, numOfLists):#function creates a list of lists\n",
    "    randomSets = []#creates an empty list that will be populated once the function is run\n",
    "    for run in (0,numOfLists): # do something 5 times, since there are 5 lists\n",
    "        randNums = np.random.randint(minNumInList,maxNumInList,lenEachList)\n",
    "        randomSets.append(randNums)\n",
    "    return randomSets #so you just made a single list out of a bunch of other lists"
   ]
  },
  {
   "cell_type": "code",
   "execution_count": 60,
   "metadata": {
    "collapsed": true
   },
   "outputs": [],
   "source": [
    "# get the batch mean using functional programming\n",
    "# get your random data by calling the getRandomData Function, input parameters to this function\n",
    "# use the map method on the list of lists, to get the average of each list, hint: you should have\n",
    "# getMean defined for you by this point to use in the map\n",
    "\n",
    "def getBatchMeanByForLoop():\n",
    "    randomData = getRandomData(2,100,20,3)# so this gives you a list'randomData' made of other lists\n",
    "    randomDataAvgs = []#you need to assign all of the above into a new list\n",
    "    for i in randomData:#so now you iterate through your lsit of lists\n",
    "        randomDataAvgs.append(np.mean(i))\n",
    "    batchMean = np.mean(randomDataAvgs)\n",
    "    return batchMean"
   ]
  },
  {
   "cell_type": "code",
   "execution_count": 63,
   "metadata": {
    "collapsed": false
   },
   "outputs": [
    {
     "name": "stdout",
     "output_type": "stream",
     "text": [
      "\n"
     ]
    }
   ],
   "source": [
    "# get the batch mean using looping\n",
    "# get your random data by calling the getRandomData Function, input parameters to this function\n",
    "# get your random data by calling the getRandomData Function, input parameters to this function\n",
    "# use a for loop on the list of lists, to get the average of each list, hint: you should have\n",
    "# getMean defined for you by this point to use in the forloop\n",
    "\n",
    "def getBatchMeanByMap():\n",
    "    #randomData = getRandomData(2,100,20,3)# so this gives you a list'randomData' made of other lists\n",
    "    randomDataAvgs = map(np.mean(randomData))\n",
    "    batchMean = np.mean(randomDataAvgs)\n",
    "    return batchMean\n"
   ]
  },
  {
   "cell_type": "code",
   "execution_count": 62,
   "metadata": {
    "collapsed": false
   },
   "outputs": [
    {
     "name": "stdout",
     "output_type": "stream",
     "text": [
      "For Loop:  47.4\n",
      "With map: "
     ]
    },
    {
     "ename": "NameError",
     "evalue": "global name 'randomData' is not defined",
     "output_type": "error",
     "traceback": [
      "\u001b[0;31m---------------------------------------------------------------------------\u001b[0m",
      "\u001b[0;31mNameError\u001b[0m                                 Traceback (most recent call last)",
      "\u001b[0;32m<ipython-input-62-54e8cdfc2cf0>\u001b[0m in \u001b[0;36m<module>\u001b[0;34m()\u001b[0m\n\u001b[1;32m      2\u001b[0m \u001b[0;32mprint\u001b[0m\u001b[0;34m(\u001b[0m\u001b[0mgetBatchMeanByForLoop\u001b[0m\u001b[0;34m(\u001b[0m\u001b[0;34m)\u001b[0m\u001b[0;34m)\u001b[0m\u001b[0;34m\u001b[0m\u001b[0m\n\u001b[1;32m      3\u001b[0m \u001b[0;32mprint\u001b[0m\u001b[0;34m(\u001b[0m\u001b[0;34m\"With map: \"\u001b[0m\u001b[0;34m)\u001b[0m\u001b[0;34m,\u001b[0m\u001b[0;34m\u001b[0m\u001b[0m\n\u001b[0;32m----> 4\u001b[0;31m \u001b[0;32mprint\u001b[0m\u001b[0;34m(\u001b[0m\u001b[0mgetBatchMeanByMap\u001b[0m\u001b[0;34m(\u001b[0m\u001b[0;34m)\u001b[0m\u001b[0;34m)\u001b[0m\u001b[0;34m\u001b[0m\u001b[0m\n\u001b[0m",
      "\u001b[0;32m<ipython-input-61-b5784eaba879>\u001b[0m in \u001b[0;36mgetBatchMeanByMap\u001b[0;34m()\u001b[0m\n\u001b[1;32m      7\u001b[0m \u001b[0;32mdef\u001b[0m \u001b[0mgetBatchMeanByMap\u001b[0m\u001b[0;34m(\u001b[0m\u001b[0;34m)\u001b[0m\u001b[0;34m:\u001b[0m\u001b[0;34m\u001b[0m\u001b[0m\n\u001b[1;32m      8\u001b[0m     \u001b[0;31m#randomData = getRandomData(2,100,20,3)# so this gives you a list'randomData' made of other lists\u001b[0m\u001b[0;34m\u001b[0m\u001b[0;34m\u001b[0m\u001b[0m\n\u001b[0;32m----> 9\u001b[0;31m     \u001b[0mrandomDataAvgs\u001b[0m \u001b[0;34m=\u001b[0m \u001b[0mmap\u001b[0m\u001b[0;34m(\u001b[0m\u001b[0mnp\u001b[0m\u001b[0;34m.\u001b[0m\u001b[0mmean\u001b[0m\u001b[0;34m(\u001b[0m\u001b[0mrandomData\u001b[0m\u001b[0;34m)\u001b[0m\u001b[0;34m)\u001b[0m\u001b[0;34m\u001b[0m\u001b[0m\n\u001b[0m\u001b[1;32m     10\u001b[0m     \u001b[0mbatchMean\u001b[0m \u001b[0;34m=\u001b[0m \u001b[0mnp\u001b[0m\u001b[0;34m.\u001b[0m\u001b[0mmean\u001b[0m\u001b[0;34m(\u001b[0m\u001b[0mrandomDataAvgs\u001b[0m\u001b[0;34m)\u001b[0m\u001b[0;34m\u001b[0m\u001b[0m\n\u001b[1;32m     11\u001b[0m     \u001b[0;32mreturn\u001b[0m \u001b[0mbatchMean\u001b[0m\u001b[0;34m\u001b[0m\u001b[0m\n",
      "\u001b[0;31mNameError\u001b[0m: global name 'randomData' is not defined"
     ]
    }
   ],
   "source": [
    "print(\"For Loop: \"),\n",
    "print(getBatchMeanByForLoop())\n",
    "print(\"With map: \"),\n",
    "print(getBatchMeanByMap())"
   ]
  },
  {
   "cell_type": "code",
   "execution_count": null,
   "metadata": {
    "collapsed": true
   },
   "outputs": [],
   "source": []
  }
 ],
 "metadata": {
  "kernelspec": {
   "display_name": "Python 2",
   "language": "python",
   "name": "python2"
  },
  "language_info": {
   "codemirror_mode": {
    "name": "ipython",
    "version": 2
   },
   "file_extension": ".py",
   "mimetype": "text/x-python",
   "name": "python",
   "nbconvert_exporter": "python",
   "pygments_lexer": "ipython2",
   "version": "2.7.11"
  }
 },
 "nbformat": 4,
 "nbformat_minor": 0
}
