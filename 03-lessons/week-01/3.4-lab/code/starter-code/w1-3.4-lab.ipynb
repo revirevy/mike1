{
 "cells": [
  {
   "cell_type": "markdown",
   "metadata": {},
   "source": [
    "## Lab 3.4: csvs, functions, numpy, and distributions\n",
    "\n",
    "Run the cell below to load the required packages and set up plotting in the notebook!"
   ]
  },
  {
   "cell_type": "code",
   "execution_count": 23,
   "metadata": {
    "collapsed": false
   },
   "outputs": [],
   "source": [
    "import numpy as np\n",
    "import pandas as pd\n",
    "import scipy.stats as stats\n",
    "import csv\n",
    "import seaborn as sns\n",
    "%matplotlib inline"
   ]
  },
  {
   "cell_type": "markdown",
   "metadata": {},
   "source": [
    "### Sales data\n",
    "\n",
    "For this lab we will be using a truncated version of some sales data that we will be looking at further down the line in more detail. \n",
    "\n",
    "The csv has about 200 rows of data and 4 columns. The relative path to the csv ```sales_info.csv``` is provided below. If you copied files over and moved them around, this might be different for you and you will have to figure out the correct relative path to enter."
   ]
  },
  {
   "cell_type": "code",
   "execution_count": 24,
   "metadata": {
    "collapsed": true
   },
   "outputs": [],
   "source": [
    "sales_csv_path = '../../assets/datasets/sales_info.csv'"
   ]
  },
  {
   "cell_type": "code",
   "execution_count": 58,
   "metadata": {
    "collapsed": false
   },
   "outputs": [],
   "source": [
    "db = pd.read_csv(sales_csv_path)\n",
    "\n",
    "#db.index_col(2)\n",
    "\n",
    "#db.ix[:5,:'2015_margin'] #Just like db.iloc except you can specify by the name of the row/column, not just its index in db.iloc\n",
    "#db Shows you the whole thing\n",
    "#db.iloc[:5,:] It's ordered with rows then columns, so this will show you the first 5 rows, and all columns'\n",
    "#db.describe()#This summarizes each value over all rows for each column\n",
    "#db.head() This will show whatever number of rows you specify in the parentheses; default(empty) is 5\n",
    "#db.shape() This just gives you total rows, columns"
   ]
  },
  {
   "cell_type": "code",
   "execution_count": 48,
   "metadata": {
    "collapsed": false
   },
   "outputs": [],
   "source": [
    "db2 = db.set_index('volume_sold').to_dict()['2015_margin']#one-liner that lets you create a dictionary\n"
   ]
  },
  {
   "cell_type": "markdown",
   "metadata": {},
   "source": [
    "#### 1. Loading the data\n",
    "\n",
    "Set up an empty list called ```rows```.\n",
    "\n",
    "Using the pattern for loading csvs we learned earlier, add all of the rows in the csv file to the rows list.\n",
    "\n",
    "For your reference, the pattern is:\n",
    "```python\n",
    "with open(my_csv_path, 'r') as f:\n",
    "    reader = csv.reader(f)\n",
    "    ...\n",
    "```\n",
    "\n",
    "Beyond this, adding the rows in the csv file to the ```rows``` variable is up to you."
   ]
  },
  {
   "cell_type": "code",
   "execution_count": 49,
   "metadata": {
    "collapsed": false
   },
   "outputs": [],
   "source": [
    "rows = []\n",
    "\n",
    "with open(sales_csv_path, 'r') as f:\n",
    "    reader = csv.reader(f)\n",
    "    for row in reader:\n",
    "        rows.append(row)\n"
   ]
  },
  {
   "cell_type": "markdown",
   "metadata": {},
   "source": [
    "##### 2. Separate header and data\n",
    "\n",
    "The header of the csv is contained in the first index of the ```rows``` variable, as it is the first row in the csv file. \n",
    "\n",
    "Use python indexing to create two new variables: ```header``` which contains the 4 column names, and ```data``` which contains the list of lists, each sub-list representing a row from the csv.\n",
    "\n",
    "Lastly, print ```header``` to see the names of the columns."
   ]
  },
  {
   "cell_type": "code",
   "execution_count": 27,
   "metadata": {
    "collapsed": false
   },
   "outputs": [],
   "source": [
    "header=rows[0]\n",
    "data=[]"
   ]
  },
  {
   "cell_type": "markdown",
   "metadata": {},
   "source": [
    "#### 3. Create a dictionary with the data\n",
    "\n",
    "Use loops or list comprehensions to create a dictionary called ```sales_data```, where the keys of the dictionary are the column names, and the values of the dictionary are lists of the data points of the column corresponding to that column name."
   ]
  },
  {
   "cell_type": "code",
   "execution_count": null,
   "metadata": {
    "collapsed": false
   },
   "outputs": [],
   "source": [
    "sales_data = {}\n",
    "\n",
    "for index, column_name in enumerate(header):\n",
    "    sales_data[column_name] = []\n",
    "    for row in data:\n",
    "        sales_data[column_name].append(row[index])"
   ]
  },
  {
   "cell_type": "markdown",
   "metadata": {},
   "source": [
    "**3.A** Print out the first 10 items of the 'volume_sold' column."
   ]
  },
  {
   "cell_type": "code",
   "execution_count": null,
   "metadata": {
    "collapsed": false
   },
   "outputs": [],
   "source": [
    "sales_data['volume sold']"
   ]
  },
  {
   "cell_type": "markdown",
   "metadata": {},
   "source": [
    "#### 4. Convert data from string to float\n",
    "\n",
    "As you can see, the data is still in string format (which is how it is read in from the csv). For each key:value pair in our ```sales_data``` dictionary, convert the values (column data) from string values to float values."
   ]
  },
  {
   "cell_type": "code",
   "execution_count": null,
   "metadata": {
    "collapsed": false
   },
   "outputs": [],
   "source": []
  },
  {
   "cell_type": "markdown",
   "metadata": {},
   "source": [
    "#### 5. Write function to print summary statistics\n",
    "\n",
    "Now write a function to print out summary statistics for the data.\n",
    "\n",
    "Your function should:\n",
    "\n",
    "- Accept two arguments: the column name and the data associated with that column\n",
    "- Print out information, clearly labeling each item when you print it:\n",
    "    1. Print out the column name\n",
    "    2. Print the mean of the data using ```np.mean()```\n",
    "    3. Print out the median of the data using ```np.median()```\n",
    "    4. Print out the mode of the **rounded data** using ```stats.mode()```\n",
    "    5. Print out the variance of the data using ```np.var()```\n",
    "    6. Print out the standard deviation of the data using ```np.std()```\n",
    "    \n",
    "Remember that you will need to convert the numeric data from these function to strings by wrapping them in the ```str()``` function."
   ]
  },
  {
   "cell_type": "code",
   "execution_count": null,
   "metadata": {
    "collapsed": false,
    "scrolled": true
   },
   "outputs": [],
   "source": [
    "def getSummaryStatistics(db):\n",
    "    \n",
    "    mean = np.mean(db)\n",
    "    stdev = getStandardDeviationWithMap(bucket, mean)\n",
    "    \n",
    "    maxNum = max(bucket)\n",
    "    minNum = min(bucket)\n",
    "    \n",
    "    rangeList = np.ptp(bucket)# or max(num) - min(num)\n",
    "    \n",
    "    statsDictionary = { \"mean\" : mean,# input assignment , \n",
    "                        \"stdev\": stdev,# input assignment, \n",
    "                        \"maxNum\": maxNum,# input assignment, \n",
    "                        \"minNum\": minNum,# input assignment, \n",
    "                        \"range\" : rangeList # input assignment - without quotes, these are values\n",
    "                      }\n",
    "    return statsDictionary"
   ]
  },
  {
   "cell_type": "markdown",
   "metadata": {},
   "source": [
    "**5.A** Using your function, print the summary statistics for 'volume_sold'"
   ]
  },
  {
   "cell_type": "code",
   "execution_count": null,
   "metadata": {
    "collapsed": false
   },
   "outputs": [],
   "source": []
  },
  {
   "cell_type": "markdown",
   "metadata": {},
   "source": [
    "**5.B** Using your function, print the summary statistics for '2015_margin'"
   ]
  },
  {
   "cell_type": "code",
   "execution_count": null,
   "metadata": {
    "collapsed": false
   },
   "outputs": [],
   "source": []
  },
  {
   "cell_type": "markdown",
   "metadata": {},
   "source": [
    "**5.C** Using your function, print the summary statistics for '2015_q1_sales'"
   ]
  },
  {
   "cell_type": "code",
   "execution_count": null,
   "metadata": {
    "collapsed": false
   },
   "outputs": [],
   "source": []
  },
  {
   "cell_type": "markdown",
   "metadata": {},
   "source": [
    "**5.D** Using your function, print the summary statistics for '2016_q1_sales'"
   ]
  },
  {
   "cell_type": "code",
   "execution_count": null,
   "metadata": {
    "collapsed": false
   },
   "outputs": [],
   "source": []
  },
  {
   "cell_type": "markdown",
   "metadata": {},
   "source": [
    "#### 6. Plot the distributions\n",
    "\n",
    "We've provided a plotting function below called ```distribution_plotter()```. It takes two arguments, the name of the column and the data associated with that column.\n",
    "\n",
    "In individual cells, plot the distributions for each of the 4 columns. Do the data appear skewed? Symmetrical? If skewed, what would be your hypothesis for why?"
   ]
  },
  {
   "cell_type": "code",
   "execution_count": 28,
   "metadata": {
    "collapsed": true
   },
   "outputs": [],
   "source": [
    "def distribution_plotter(column, data):\n",
    "    sns.set(rc={\"figure.figsize\": (10, 7)})\n",
    "    sns.set_style(\"white\")\n",
    "    dist = sns.distplot(data, hist_kws={'alpha':0.2}, kde_kws={'linewidth':5})\n",
    "    dist.set_title('Distribution of ' + column + '\\n', fontsize=16)"
   ]
  },
  {
   "cell_type": "code",
   "execution_count": null,
   "metadata": {
    "collapsed": false
   },
   "outputs": [],
   "source": []
  },
  {
   "cell_type": "code",
   "execution_count": null,
   "metadata": {
    "collapsed": false
   },
   "outputs": [],
   "source": []
  },
  {
   "cell_type": "code",
   "execution_count": null,
   "metadata": {
    "collapsed": false
   },
   "outputs": [],
   "source": []
  },
  {
   "cell_type": "code",
   "execution_count": null,
   "metadata": {
    "collapsed": false
   },
   "outputs": [],
   "source": []
  }
 ],
 "metadata": {
  "kernelspec": {
   "display_name": "Python 2",
   "language": "python",
   "name": "python2"
  },
  "language_info": {
   "codemirror_mode": {
    "name": "ipython",
    "version": 2
   },
   "file_extension": ".py",
   "mimetype": "text/x-python",
   "name": "python",
   "nbconvert_exporter": "python",
   "pygments_lexer": "ipython2",
   "version": "2.7.11"
  }
 },
 "nbformat": 4,
 "nbformat_minor": 0
}
