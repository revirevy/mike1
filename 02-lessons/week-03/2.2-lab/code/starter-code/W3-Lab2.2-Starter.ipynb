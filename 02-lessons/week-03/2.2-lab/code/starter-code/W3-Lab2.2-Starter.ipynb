{
 "cells": [
  {
   "cell_type": "markdown",
   "metadata": {},
   "source": [
    "# Evaluating Model Fit\n",
    "\n",
    "So far we've used the sum of the squared errors as a measure of model fit, looking for models with smaller errors. In this lab we'll investigate a new mesure of model fit, the [coefficient of determination](https://en.wikipedia.org/wiki/Coefficient_of_determination) $r^2$, and see how it's influenced by outliers.\n",
    "\n",
    "R-squared is defined in terms of a ratio of the variance of the data, $SS_{tot}$ and the sum of squared error of the residuals of the model fit $SS_{res}$. Let's assume that our model has the form\n",
    "\n",
    "$$y_i = f(x_i) + e_i$$\n",
    "\n",
    "For some model function $f$. The mean of the data targets is $\\bar{y}$. We can write $r^2$ as:\n",
    "\n",
    "$$ r^2  = 1 - \\frac{SS_{res}}{SS_{tot}} = 1 - \\frac{\\sum_{i}{\\left(y_i - \\bar{y} \\right)^2}}{\\sum_{i}{\\left(y_i - f_i \\right)^2}}$$"
   ]
  },
  {
   "cell_type": "markdown",
   "metadata": {},
   "source": [
    "## Understanding $r^2$\n",
    "To help understand this measure, let's consider a few special cases.\n",
    "* If our model is a perfect fit then the predictions of the model always match the true values, i.e. $y_i = f(x_i) = f_i$. This means that the squared error of the residuals is 0, so r^2 is:\n",
    "\n",
    "$$ r^2  = 1 - \\frac{SS_{res}}{SS_{tot}} =  1 - \\frac{0}{SS_{tot}} = 1$$\n",
    "\n",
    "* If our model always predicted the mean value, $y_i = \\bar{y}$ for all data points, then the two sum of squares terms are equal:\n",
    "\n",
    "$$ r^2  = 1 - \\frac{SS_{res}}{SS_{tot}} =  1 - 1 = 0$$\n",
    "\n",
    "This is not a very good model -- it's simply a constant prediction, and does not vary over the data points.\n",
    "\n",
    "* Typically the better the model the larger the value of $r^2$, with $r^2=1$ being an exact fit.\n",
    "\n",
    "**Check**: It is possible for $r^2$ to be negative, despite the name. How could that happen?\n",
    "> Answer: We just need the numerator to be larger than the denominator. This could happen with a wildly bad predictor such as the line $y=10$ for the sine function.\n",
    "\n",
    "## Let's look at some data\n",
    "\n",
    "Scikit-learn can compute $r^2$ for us, so let's explore some actual data.\n"
   ]
  },
  {
   "cell_type": "code",
   "execution_count": 1,
   "metadata": {
    "collapsed": false
   },
   "outputs": [
    {
     "data": {
      "text/html": [
       "<div>\n",
       "<table border=\"1\" class=\"dataframe\">\n",
       "  <thead>\n",
       "    <tr style=\"text-align: right;\">\n",
       "      <th></th>\n",
       "      <th>CRIM</th>\n",
       "      <th>ZN</th>\n",
       "      <th>INDUS</th>\n",
       "      <th>CHAS</th>\n",
       "      <th>NOX</th>\n",
       "      <th>RM</th>\n",
       "      <th>AGE</th>\n",
       "      <th>DIS</th>\n",
       "      <th>RAD</th>\n",
       "      <th>TAX</th>\n",
       "      <th>PTRATIO</th>\n",
       "      <th>B</th>\n",
       "      <th>LSTAT</th>\n",
       "    </tr>\n",
       "  </thead>\n",
       "  <tbody>\n",
       "    <tr>\n",
       "      <th>0</th>\n",
       "      <td>0.00632</td>\n",
       "      <td>18.0</td>\n",
       "      <td>2.31</td>\n",
       "      <td>0.0</td>\n",
       "      <td>0.538</td>\n",
       "      <td>6.575</td>\n",
       "      <td>65.2</td>\n",
       "      <td>4.0900</td>\n",
       "      <td>1.0</td>\n",
       "      <td>296.0</td>\n",
       "      <td>15.3</td>\n",
       "      <td>396.90</td>\n",
       "      <td>4.98</td>\n",
       "    </tr>\n",
       "    <tr>\n",
       "      <th>1</th>\n",
       "      <td>0.02731</td>\n",
       "      <td>0.0</td>\n",
       "      <td>7.07</td>\n",
       "      <td>0.0</td>\n",
       "      <td>0.469</td>\n",
       "      <td>6.421</td>\n",
       "      <td>78.9</td>\n",
       "      <td>4.9671</td>\n",
       "      <td>2.0</td>\n",
       "      <td>242.0</td>\n",
       "      <td>17.8</td>\n",
       "      <td>396.90</td>\n",
       "      <td>9.14</td>\n",
       "    </tr>\n",
       "    <tr>\n",
       "      <th>2</th>\n",
       "      <td>0.02729</td>\n",
       "      <td>0.0</td>\n",
       "      <td>7.07</td>\n",
       "      <td>0.0</td>\n",
       "      <td>0.469</td>\n",
       "      <td>7.185</td>\n",
       "      <td>61.1</td>\n",
       "      <td>4.9671</td>\n",
       "      <td>2.0</td>\n",
       "      <td>242.0</td>\n",
       "      <td>17.8</td>\n",
       "      <td>392.83</td>\n",
       "      <td>4.03</td>\n",
       "    </tr>\n",
       "    <tr>\n",
       "      <th>3</th>\n",
       "      <td>0.03237</td>\n",
       "      <td>0.0</td>\n",
       "      <td>2.18</td>\n",
       "      <td>0.0</td>\n",
       "      <td>0.458</td>\n",
       "      <td>6.998</td>\n",
       "      <td>45.8</td>\n",
       "      <td>6.0622</td>\n",
       "      <td>3.0</td>\n",
       "      <td>222.0</td>\n",
       "      <td>18.7</td>\n",
       "      <td>394.63</td>\n",
       "      <td>2.94</td>\n",
       "    </tr>\n",
       "    <tr>\n",
       "      <th>4</th>\n",
       "      <td>0.06905</td>\n",
       "      <td>0.0</td>\n",
       "      <td>2.18</td>\n",
       "      <td>0.0</td>\n",
       "      <td>0.458</td>\n",
       "      <td>7.147</td>\n",
       "      <td>54.2</td>\n",
       "      <td>6.0622</td>\n",
       "      <td>3.0</td>\n",
       "      <td>222.0</td>\n",
       "      <td>18.7</td>\n",
       "      <td>396.90</td>\n",
       "      <td>5.33</td>\n",
       "    </tr>\n",
       "  </tbody>\n",
       "</table>\n",
       "</div>"
      ],
      "text/plain": [
       "      CRIM    ZN  INDUS  CHAS    NOX     RM   AGE     DIS  RAD    TAX  \\\n",
       "0  0.00632  18.0   2.31   0.0  0.538  6.575  65.2  4.0900  1.0  296.0   \n",
       "1  0.02731   0.0   7.07   0.0  0.469  6.421  78.9  4.9671  2.0  242.0   \n",
       "2  0.02729   0.0   7.07   0.0  0.469  7.185  61.1  4.9671  2.0  242.0   \n",
       "3  0.03237   0.0   2.18   0.0  0.458  6.998  45.8  6.0622  3.0  222.0   \n",
       "4  0.06905   0.0   2.18   0.0  0.458  7.147  54.2  6.0622  3.0  222.0   \n",
       "\n",
       "   PTRATIO       B  LSTAT  \n",
       "0     15.3  396.90   4.98  \n",
       "1     17.8  396.90   9.14  \n",
       "2     17.8  392.83   4.03  \n",
       "3     18.7  394.63   2.94  \n",
       "4     18.7  396.90   5.33  "
      ]
     },
     "execution_count": 1,
     "metadata": {},
     "output_type": "execute_result"
    }
   ],
   "source": [
    "# Let's load in some packages\n",
    "\n",
    "% matplotlib inline\n",
    "\n",
    "from matplotlib import pyplot as plt\n",
    "# Make the plots bigger\n",
    "plt.rcParams['figure.figsize'] = 10, 10\n",
    "\n",
    "import numpy as np\n",
    "import pandas as pd\n",
    "from scipy import stats\n",
    "from sklearn import datasets, linear_model\n",
    "\n",
    "# Load the Boston Housing dataset\n",
    "boston = datasets.load_boston()\n",
    "df = pd.DataFrame(boston.data, columns=boston.feature_names)\n",
    "\n",
    "# Take a look at the data again\n",
    "df.head()"
   ]
  },
  {
   "cell_type": "code",
   "execution_count": 2,
   "metadata": {
    "collapsed": false
   },
   "outputs": [
    {
     "name": "stdout",
     "output_type": "stream",
     "text": [
      "Boston House Prices dataset\n",
      "\n",
      "Notes\n",
      "------\n",
      "Data Set Characteristics:  \n",
      "\n",
      "    :Number of Instances: 506 \n",
      "\n",
      "    :Number of Attributes: 13 numeric/categorical predictive\n",
      "    \n",
      "    :Median Value (attribute 14) is usually the target\n",
      "\n",
      "    :Attribute Information (in order):\n",
      "        - CRIM     per capita crime rate by town\n",
      "        - ZN       proportion of residential land zoned for lots over 25,000 sq.ft.\n",
      "        - INDUS    proportion of non-retail business acres per town\n",
      "        - CHAS     Charles River dummy variable (= 1 if tract bounds river; 0 otherwise)\n",
      "        - NOX      nitric oxides concentration (parts per 10 million)\n",
      "        - RM       average number of rooms per dwelling\n",
      "        - AGE      proportion of owner-occupied units built prior to 1940\n",
      "        - DIS      weighted distances to five Boston employment centres\n",
      "        - RAD      index of accessibility to radial highways\n",
      "        - TAX      full-value property-tax rate per $10,000\n",
      "        - PTRATIO  pupil-teacher ratio by town\n",
      "        - B        1000(Bk - 0.63)^2 where Bk is the proportion of blacks by town\n",
      "        - LSTAT    % lower status of the population\n",
      "        - MEDV     Median value of owner-occupied homes in $1000's\n",
      "\n",
      "    :Missing Attribute Values: None\n",
      "\n",
      "    :Creator: Harrison, D. and Rubinfeld, D.L.\n",
      "\n",
      "This is a copy of UCI ML housing dataset.\n",
      "http://archive.ics.uci.edu/ml/datasets/Housing\n",
      "\n",
      "\n",
      "This dataset was taken from the StatLib library which is maintained at Carnegie Mellon University.\n",
      "\n",
      "The Boston house-price data of Harrison, D. and Rubinfeld, D.L. 'Hedonic\n",
      "prices and the demand for clean air', J. Environ. Economics & Management,\n",
      "vol.5, 81-102, 1978.   Used in Belsley, Kuh & Welsch, 'Regression diagnostics\n",
      "...', Wiley, 1980.   N.B. Various transformations are used in the table on\n",
      "pages 244-261 of the latter.\n",
      "\n",
      "The Boston house-price data has been used in many machine learning papers that address regression\n",
      "problems.   \n",
      "     \n",
      "**References**\n",
      "\n",
      "   - Belsley, Kuh & Welsch, 'Regression diagnostics: Identifying Influential Data and Sources of Collinearity', Wiley, 1980. 244-261.\n",
      "   - Quinlan,R. (1993). Combining Instance-Based and Model-Based Learning. In Proceedings on the Tenth International Conference of Machine Learning, 236-243, University of Massachusetts, Amherst. Morgan Kaufmann.\n",
      "   - many more! (see http://archive.ics.uci.edu/ml/datasets/Housing)\n",
      "\n"
     ]
    }
   ],
   "source": [
    "print boston.DESCR"
   ]
  },
  {
   "cell_type": "markdown",
   "metadata": {},
   "source": [
    "## First example\n",
    "\n",
    "Let's pick two variables and plot them against each other with a best fit line. For example, let's see if the Pupil-Teacher ratio by town and the age of a property are related."
   ]
  },
  {
   "cell_type": "code",
   "execution_count": 3,
   "metadata": {
    "collapsed": false
   },
   "outputs": [
    {
     "data": {
      "text/plain": [
       "<matplotlib.text.Text at 0x116cf2050>"
      ]
     },
     "execution_count": 3,
     "metadata": {},
     "output_type": "execute_result"
    },
    {
     "data": {
      "image/png": "[encoded data removed]",
      "text/plain": [
       "<matplotlib.figure.Figure at 0x104247c10>"
      ]
     },
     "metadata": {},
     "output_type": "display_data"
    }
   ],
   "source": [
    "# Fit a line\n",
    "\n",
    "lm = linear_model.LinearRegression()\n",
    "\n",
    "X = df[[\"PTRATIO\"]]\n",
    "y = df[\"AGE\"]\n",
    "\n",
    "model = lm.fit(X, y)\n",
    "predictions = lm.predict(X)\n",
    "\n",
    "# Plot the data and the best fit line\n",
    "## The data\n",
    "plt.scatter(X, y)\n",
    "## The line / model\n",
    "plt.plot(X, predictions)\n",
    "plt.ylabel(\"AGE\")\n",
    "plt.xlabel(\"PTRATIO\")"
   ]
  },
  {
   "cell_type": "markdown",
   "metadata": {},
   "source": [
    "The data doesn't appear to be all that linear so we should find that the model fit is poor. Let's calculate the $r^2$ value."
   ]
  },
  {
   "cell_type": "code",
   "execution_count": 4,
   "metadata": {
    "collapsed": false
   },
   "outputs": [
    {
     "name": "stdout",
     "output_type": "stream",
     "text": [
      "r^2: 0.0683901013298\n"
     ]
    }
   ],
   "source": [
    "# Scikit-learn makes it easy to get the score\n",
    "print \"r^2:\", model.score(X,y)\n",
    "\n",
    "#.06 means this isn't a great model. Only slightly more accurate than a flat line"
   ]
  },
  {
   "cell_type": "markdown",
   "metadata": {},
   "source": [
    "In this case the $r^2$ value is close to zero, as expected.\n",
    "\n",
    "### Exercise 1\n",
    "Repeat this for each pair of variables in the housing data set:\n",
    "* Fit a linear model\n",
    "* Compute the $r^2$ score\n",
    "\n",
    "Hint: use a pair of loops to cut down on the boilerplate code.\n",
    "\n",
    "For which two variables is the $r^2$ value the highest? The lowest? Plot the highest and lowest scores -- does the data seem to fit the $r^2$ score?\n",
    "\n",
    "> Answers:\n",
    "> Highest: TAX RAD 0.8285153552\n",
    "> Lowest:  RAD CHAS 5.42909737553e-05\n",
    "\n",
    "### Exercise 2\n",
    "\n",
    "Use seaborn's [linear plotting functions](https://stanford.edu/~mwaskom/software/seaborn/tutorial/regression.html) to take a closer look at your highest and lowest $r^2$ pairs.\n",
    "\n",
    "## Exercise 3\n",
    "\n",
    "Recall from our earlier exploration the best model you found that utilizes as many variables from the housing data as you'd like. What is the $r^2$ value for that model?"
   ]
  },
  {
   "cell_type": "code",
   "execution_count": 5,
   "metadata": {
    "collapsed": true
   },
   "outputs": [],
   "source": [
    "#TAX and RAD are most highly correlated"
   ]
  },
  {
   "cell_type": "code",
   "execution_count": 6,
   "metadata": {
    "collapsed": true
   },
   "outputs": [
    {
     "name": "stderr",
     "output_type": "stream",
     "text": [
      "/Users/michaelmainzer/anaconda/lib/python2.7/site-packages/ipykernel/__main__.py:4: FutureWarning: order is deprecated, use sort_values(...)\n"
     ]
    },
    {
     "data": {
      "text/plain": [
       "NOX      DIS       -0.769230\n",
       "DIS      NOX       -0.769230\n",
       "AGE      DIS       -0.747881\n",
       "DIS      AGE       -0.747881\n",
       "         INDUS     -0.708027\n",
       "INDUS    DIS       -0.708027\n",
       "RM       LSTAT     -0.613808\n",
       "LSTAT    RM        -0.613808\n",
       "AGE      ZN        -0.569537\n",
       "ZN       AGE       -0.569537\n",
       "DIS      TAX       -0.534432\n",
       "TAX      DIS       -0.534432\n",
       "ZN       INDUS     -0.533828\n",
       "INDUS    ZN        -0.533828\n",
       "NOX      ZN        -0.516604\n",
       "ZN       NOX       -0.516604\n",
       "DIS      LSTAT     -0.496996\n",
       "LSTAT    DIS       -0.496996\n",
       "DIS      RAD       -0.494588\n",
       "RAD      DIS       -0.494588\n",
       "         B         -0.444413\n",
       "B        RAD       -0.444413\n",
       "TAX      B         -0.441808\n",
       "B        TAX       -0.441808\n",
       "ZN       LSTAT     -0.412995\n",
       "LSTAT    ZN        -0.412995\n",
       "ZN       PTRATIO   -0.391679\n",
       "PTRATIO  ZN        -0.391679\n",
       "RM       INDUS     -0.391676\n",
       "INDUS    RM        -0.391676\n",
       "                      ...   \n",
       "RAD      NOX        0.611441\n",
       "         CRIM       0.622029\n",
       "CRIM     RAD        0.622029\n",
       "INDUS    AGE        0.644779\n",
       "AGE      INDUS      0.644779\n",
       "DIS      ZN         0.664408\n",
       "ZN       DIS        0.664408\n",
       "NOX      TAX        0.668023\n",
       "TAX      NOX        0.668023\n",
       "INDUS    TAX        0.720760\n",
       "TAX      INDUS      0.720760\n",
       "NOX      AGE        0.731470\n",
       "AGE      NOX        0.731470\n",
       "NOX      INDUS      0.763651\n",
       "INDUS    NOX        0.763651\n",
       "RAD      TAX        0.910228\n",
       "TAX      RAD        0.910228\n",
       "CRIM     CRIM       1.000000\n",
       "AGE      AGE        1.000000\n",
       "PTRATIO  PTRATIO    1.000000\n",
       "TAX      TAX        1.000000\n",
       "RAD      RAD        1.000000\n",
       "DIS      DIS        1.000000\n",
       "RM       RM         1.000000\n",
       "NOX      NOX        1.000000\n",
       "CHAS     CHAS       1.000000\n",
       "INDUS    INDUS      1.000000\n",
       "ZN       ZN         1.000000\n",
       "B        B          1.000000\n",
       "LSTAT    LSTAT      1.000000\n",
       "dtype: float64"
      ]
     },
     "execution_count": 6,
     "metadata": {},
     "output_type": "execute_result"
    }
   ],
   "source": [
    "corrTable = df.corr()\n",
    "corrTable#.values.max()\n",
    "s = corrTable.unstack()\n",
    "so = s.order(kind=\"quicksort\")\n",
    "so"
   ]
  },
  {
   "cell_type": "code",
   "execution_count": 7,
   "metadata": {
    "collapsed": true
   },
   "outputs": [
    {
     "name": "stdout",
     "output_type": "stream",
     "text": [
      "For CRIM and CHAS, r^2 is 0.00305756554725\n",
      "For CRIM and AGE, r^2 is 0.123049179629\n",
      "For CRIM and B, r^2 is 0.142404052841\n",
      "For ZN and CRIM, r^2 is 0.0397834776213\n",
      "For ZN and INDUS, r^2 is 0.284972532493\n",
      "For ZN and CHAS, r^2 is 0.00182300983865\n",
      "For ZN and NOX, r^2 is 0.266879390942\n",
      "For ZN and RM, r^2 is 0.09733812661\n",
      "For ZN and AGE, r^2 is 0.324372784045\n",
      "For ZN and DIS, r^2 is 0.441438286474\n",
      "For ZN and RAD, r^2 is 0.0973114461577\n",
      "For ZN and TAX, r^2 is 0.0989500852322\n",
      "For ZN and PTRATIO, r^2 is 0.153412084913\n",
      "For ZN and B, r^2 is 0.0308073818142\n",
      "For ZN and LSTAT, r^2 is 0.170564518589\n",
      "For INDUS and CRIM, r^2 is 0.163596544863\n",
      "For INDUS and CHAS, r^2 is 0.00396119530429\n",
      "For INDUS and AGE, r^2 is 0.415739328705\n",
      "For INDUS and DIS, r^2 is 0.501302216788\n",
      "For INDUS and B, r^2 is 0.127432246615\n",
      "For CHAS and AGE, r^2 is 0.00748532526196\n",
      "For CHAS and B, r^2 is 0.00238031626422\n",
      "For NOX and CRIM, r^2 is 0.174324145432\n",
      "For NOX and INDUS, r^2 is 0.583163532384\n",
      "For NOX and CHAS, r^2 is 0.00831795197595\n",
      "For NOX and AGE, r^2 is 0.535048512733\n",
      "For NOX and DIS, r^2 is 0.591714967093\n",
      "For NOX and B, r^2 is 0.144438487286\n",
      "For NOX and LSTAT, r^2 is 0.349137899141\n",
      "For RM and CRIM, r^2 is 0.048373512339\n",
      "For RM and INDUS, r^2 is 0.153409973554\n",
      "For RM and CHAS, r^2 is 0.00832678607193\n",
      "For RM and NOX, r^2 is 0.0913177008758\n",
      "For RM and AGE, r^2 is 0.0577272370914\n",
      "For RM and DIS, r^2 is 0.0421260079221\n",
      "For RM and RAD, r^2 is 0.0440356239725\n",
      "For RM and PTRATIO, r^2 is 0.126381312634\n",
      "For RM and B, r^2 is 0.0164015752945\n",
      "For RM and LSTAT, r^2 is 0.376760594612\n",
      "For DIS and CRIM, r^2 is 0.142811132556\n",
      "For DIS and CHAS, r^2 is 0.00983583537327\n",
      "For DIS and AGE, r^2 is 0.55932530341\n",
      "For DIS and B, r^2 is 0.0849790555728\n",
      "For RAD and CRIM, r^2 is 0.386919963557\n",
      "For RAD and INDUS, r^2 is 0.354178853491\n",
      "For RAD and CHAS, r^2 is 5.42909737555e-05\n",
      "For RAD and NOX, r^2 is 0.373859562676\n",
      "For RAD and AGE, r^2 is 0.207956476502\n",
      "For RAD and DIS, r^2 is 0.244617220177\n",
      "For RAD and PTRATIO, r^2 is 0.215984362996\n",
      "For RAD and B, r^2 is 0.197502750647\n",
      "For RAD and LSTAT, r^2 is 0.238804560365\n",
      "For TAX and CRIM, r^2 is 0.335894754247\n",
      "For TAX and INDUS, r^2 is 0.519495237004\n",
      "For TAX and CHAS, r^2 is 0.00126640023389\n",
      "For TAX and NOX, r^2 is 0.446254996277\n",
      "For TAX and RM, r^2 is 0.0852919365399\n",
      "For TAX and AGE, r^2 is 0.256497268239\n",
      "For TAX and DIS, r^2 is 0.285617118413\n",
      "For TAX and RAD, r^2 is 0.8285153552\n",
      "For TAX and PTRATIO, r^2 is 0.212385519929\n",
      "For TAX and B, r^2 is 0.195194314804\n",
      "For TAX and LSTAT, r^2 is 0.295928832301\n",
      "For PTRATIO and CRIM, r^2 is 0.0830881555285\n",
      "For PTRATIO and INDUS, r^2 is 0.146878689509\n",
      "For PTRATIO and CHAS, r^2 is 0.0147659374291\n",
      "For PTRATIO and NOX, r^2 is 0.035695556481\n",
      "For PTRATIO and AGE, r^2 is 0.0683901013298\n",
      "For PTRATIO and DIS, r^2 is 0.0540425530876\n",
      "For PTRATIO and B, r^2 is 0.0314648359367\n",
      "For PTRATIO and LSTAT, r^2 is 0.139909150867\n",
      "For B and AGE, r^2 is 0.0748208363757\n",
      "For LSTAT and CRIM, r^2 is 0.204503178509\n",
      "For LSTAT and INDUS, r^2 is 0.364574097617\n",
      "For LSTAT and CHAS, r^2 is 0.00290836922329\n",
      "For LSTAT and AGE, r^2 is 0.362811703188\n",
      "For LSTAT and DIS, r^2 is 0.247004855896\n",
      "For LSTAT and B, r^2 is 0.13401961959\n",
      "{'rScore': [0.0030575655472494523, 0.12304917962938544, 0.14240405284050928, 0.039783477621345265, 0.2849725324931196, 0.0018230098386520233, 0.26687939094162116, 0.09733812661003005, 0.324372784045434, 0.4414382864739057, 0.09731144615769116, 0.09895008523222504, 0.1534120849134224, 0.030807381814168533, 0.17056451858874064, 0.16359654486292496, 0.003961195304289844, 0.41573932870549934, 0.5013022167881516, 0.12743224661499475, 0.007485325261959996, 0.0023803162642204168, 0.1743241454319684, 0.5831635323844069, 0.008317951975949422, 0.535048512732641, 0.5917149670934201, 0.1444384872864103, 0.34913789914131343, 0.048373512338982017, 0.1534099735544654, 0.008326786071931602, 0.09131770087582147, 0.05772723709138072, 0.04212600792212973, 0.044035623972539684, 0.12638131263374308, 0.01640157529446684, 0.37676059461161127, 0.14281113255550493, 0.009835835373265933, 0.5593253034099575, 0.08497905557282415, 0.3869199635574604, 0.3541788534905027, 5.4290973755533045e-05, 0.37385956267556064, 0.2079564765015536, 0.24461722017731002, 0.21598436299640955, 0.19750275064741052, 0.2388045603646639, 0.33589475424673254, 0.5194952370037788, 0.0012664002338923508, 0.44625499627669685, 0.08529193653992018, 0.2564972682387976, 0.28561711841333337, 0.828515355200407, 0.2123855199292365, 0.19519431480438598, 0.2959288323011102, 0.08308815552845494, 0.1468786895087133, 0.014765937429149223, 0.035695556480997315, 0.06839010132978418, 0.054042553087588985, 0.031464835936709123, 0.13990915086654931, 0.07482083637567882, 0.20450317850877364, 0.36457409761724824, 0.002908369223294849, 0.3628117031880914, 0.2470048558958848, 0.13401961959015296], 'var1': ['CRIM', 'CRIM', 'CRIM', 'ZN', 'ZN', 'ZN', 'ZN', 'ZN', 'ZN', 'ZN', 'ZN', 'ZN', 'ZN', 'ZN', 'ZN', 'INDUS', 'INDUS', 'INDUS', 'INDUS', 'INDUS', 'CHAS', 'CHAS', 'NOX', 'NOX', 'NOX', 'NOX', 'NOX', 'NOX', 'NOX', 'RM', 'RM', 'RM', 'RM', 'RM', 'RM', 'RM', 'RM', 'RM', 'RM', 'DIS', 'DIS', 'DIS', 'DIS', 'RAD', 'RAD', 'RAD', 'RAD', 'RAD', 'RAD', 'RAD', 'RAD', 'RAD', 'TAX', 'TAX', 'TAX', 'TAX', 'TAX', 'TAX', 'TAX', 'TAX', 'TAX', 'TAX', 'TAX', 'PTRATIO', 'PTRATIO', 'PTRATIO', 'PTRATIO', 'PTRATIO', 'PTRATIO', 'PTRATIO', 'PTRATIO', 'B', 'LSTAT', 'LSTAT', 'LSTAT', 'LSTAT', 'LSTAT', 'LSTAT'], 'var2': ['CHAS', 'AGE', 'B', 'CRIM', 'INDUS', 'CHAS', 'NOX', 'RM', 'AGE', 'DIS', 'RAD', 'TAX', 'PTRATIO', 'B', 'LSTAT', 'CRIM', 'CHAS', 'AGE', 'DIS', 'B', 'AGE', 'B', 'CRIM', 'INDUS', 'CHAS', 'AGE', 'DIS', 'B', 'LSTAT', 'CRIM', 'INDUS', 'CHAS', 'NOX', 'AGE', 'DIS', 'RAD', 'PTRATIO', 'B', 'LSTAT', 'CRIM', 'CHAS', 'AGE', 'B', 'CRIM', 'INDUS', 'CHAS', 'NOX', 'AGE', 'DIS', 'PTRATIO', 'B', 'LSTAT', 'CRIM', 'INDUS', 'CHAS', 'NOX', 'RM', 'AGE', 'DIS', 'RAD', 'PTRATIO', 'B', 'LSTAT', 'CRIM', 'INDUS', 'CHAS', 'NOX', 'AGE', 'DIS', 'B', 'LSTAT', 'AGE', 'CRIM', 'INDUS', 'CHAS', 'AGE', 'DIS', 'B']}\n"
     ]
    }
   ],
   "source": [
    "# Exercise 1 Code here\n",
    "columns = list(df.columns.values)\n",
    "##print columns\n",
    "#corrTable = df.corr()\n",
    "##corrTable#.values.max()\n",
    "#s = corrTable.unstack()\n",
    "#so = s.order(kind=\"quicksort\")\n",
    "#so\n",
    "\n",
    "rScores = {'var1': [], 'var2': [], 'rScore': []}\n",
    "for i in columns:\n",
    "    for j in columns:\n",
    "        if j < i:\n",
    "            X=df[[i]]\n",
    "            y=df[[j]]\n",
    "            model=lm.fit(X,y)\n",
    "            predictions=model.predict(X)\n",
    "            print \"For {} and {}, r^2 is {}\".format(i,j,model.score(X,y))\n",
    "            rScores['var1'].append(i)\n",
    "            rScores['var2'].append(j)\n",
    "            rScores['rScore'].append(float(model.score(X,y)))\n",
    "print rScores\n",
    "\n",
    "\n",
    "#rScore.sort()\n",
    "#print rScore\n",
    "        #How do you get the results in order, so you can see the highest?"
   ]
  },
  {
   "cell_type": "code",
   "execution_count": 25,
   "metadata": {
    "collapsed": true
   },
   "outputs": [
    {
     "data": {
      "text/html": [
       "<div>\n",
       "<table border=\"1\" class=\"dataframe\">\n",
       "  <thead>\n",
       "    <tr style=\"text-align: right;\">\n",
       "      <th></th>\n",
       "      <th>rScore</th>\n",
       "      <th>var1</th>\n",
       "      <th>var2</th>\n",
       "    </tr>\n",
       "  </thead>\n",
       "  <tbody>\n",
       "    <tr>\n",
       "      <th>45</th>\n",
       "      <td>0.000054</td>\n",
       "      <td>RAD</td>\n",
       "      <td>CHAS</td>\n",
       "    </tr>\n",
       "    <tr>\n",
       "      <th>54</th>\n",
       "      <td>0.001266</td>\n",
       "      <td>TAX</td>\n",
       "      <td>CHAS</td>\n",
       "    </tr>\n",
       "    <tr>\n",
       "      <th>5</th>\n",
       "      <td>0.001823</td>\n",
       "      <td>ZN</td>\n",
       "      <td>CHAS</td>\n",
       "    </tr>\n",
       "    <tr>\n",
       "      <th>21</th>\n",
       "      <td>0.002380</td>\n",
       "      <td>CHAS</td>\n",
       "      <td>B</td>\n",
       "    </tr>\n",
       "    <tr>\n",
       "      <th>74</th>\n",
       "      <td>0.002908</td>\n",
       "      <td>LSTAT</td>\n",
       "      <td>CHAS</td>\n",
       "    </tr>\n",
       "    <tr>\n",
       "      <th>0</th>\n",
       "      <td>0.003058</td>\n",
       "      <td>CRIM</td>\n",
       "      <td>CHAS</td>\n",
       "    </tr>\n",
       "    <tr>\n",
       "      <th>16</th>\n",
       "      <td>0.003961</td>\n",
       "      <td>INDUS</td>\n",
       "      <td>CHAS</td>\n",
       "    </tr>\n",
       "    <tr>\n",
       "      <th>20</th>\n",
       "      <td>0.007485</td>\n",
       "      <td>CHAS</td>\n",
       "      <td>AGE</td>\n",
       "    </tr>\n",
       "    <tr>\n",
       "      <th>24</th>\n",
       "      <td>0.008318</td>\n",
       "      <td>NOX</td>\n",
       "      <td>CHAS</td>\n",
       "    </tr>\n",
       "    <tr>\n",
       "      <th>31</th>\n",
       "      <td>0.008327</td>\n",
       "      <td>RM</td>\n",
       "      <td>CHAS</td>\n",
       "    </tr>\n",
       "    <tr>\n",
       "      <th>40</th>\n",
       "      <td>0.009836</td>\n",
       "      <td>DIS</td>\n",
       "      <td>CHAS</td>\n",
       "    </tr>\n",
       "    <tr>\n",
       "      <th>65</th>\n",
       "      <td>0.014766</td>\n",
       "      <td>PTRATIO</td>\n",
       "      <td>CHAS</td>\n",
       "    </tr>\n",
       "    <tr>\n",
       "      <th>37</th>\n",
       "      <td>0.016402</td>\n",
       "      <td>RM</td>\n",
       "      <td>B</td>\n",
       "    </tr>\n",
       "    <tr>\n",
       "      <th>13</th>\n",
       "      <td>0.030807</td>\n",
       "      <td>ZN</td>\n",
       "      <td>B</td>\n",
       "    </tr>\n",
       "    <tr>\n",
       "      <th>69</th>\n",
       "      <td>0.031465</td>\n",
       "      <td>PTRATIO</td>\n",
       "      <td>B</td>\n",
       "    </tr>\n",
       "    <tr>\n",
       "      <th>66</th>\n",
       "      <td>0.035696</td>\n",
       "      <td>PTRATIO</td>\n",
       "      <td>NOX</td>\n",
       "    </tr>\n",
       "    <tr>\n",
       "      <th>3</th>\n",
       "      <td>0.039783</td>\n",
       "      <td>ZN</td>\n",
       "      <td>CRIM</td>\n",
       "    </tr>\n",
       "    <tr>\n",
       "      <th>34</th>\n",
       "      <td>0.042126</td>\n",
       "      <td>RM</td>\n",
       "      <td>DIS</td>\n",
       "    </tr>\n",
       "    <tr>\n",
       "      <th>35</th>\n",
       "      <td>0.044036</td>\n",
       "      <td>RM</td>\n",
       "      <td>RAD</td>\n",
       "    </tr>\n",
       "    <tr>\n",
       "      <th>29</th>\n",
       "      <td>0.048374</td>\n",
       "      <td>RM</td>\n",
       "      <td>CRIM</td>\n",
       "    </tr>\n",
       "    <tr>\n",
       "      <th>68</th>\n",
       "      <td>0.054043</td>\n",
       "      <td>PTRATIO</td>\n",
       "      <td>DIS</td>\n",
       "    </tr>\n",
       "    <tr>\n",
       "      <th>33</th>\n",
       "      <td>0.057727</td>\n",
       "      <td>RM</td>\n",
       "      <td>AGE</td>\n",
       "    </tr>\n",
       "    <tr>\n",
       "      <th>67</th>\n",
       "      <td>0.068390</td>\n",
       "      <td>PTRATIO</td>\n",
       "      <td>AGE</td>\n",
       "    </tr>\n",
       "    <tr>\n",
       "      <th>71</th>\n",
       "      <td>0.074821</td>\n",
       "      <td>B</td>\n",
       "      <td>AGE</td>\n",
       "    </tr>\n",
       "    <tr>\n",
       "      <th>63</th>\n",
       "      <td>0.083088</td>\n",
       "      <td>PTRATIO</td>\n",
       "      <td>CRIM</td>\n",
       "    </tr>\n",
       "    <tr>\n",
       "      <th>42</th>\n",
       "      <td>0.084979</td>\n",
       "      <td>DIS</td>\n",
       "      <td>B</td>\n",
       "    </tr>\n",
       "    <tr>\n",
       "      <th>56</th>\n",
       "      <td>0.085292</td>\n",
       "      <td>TAX</td>\n",
       "      <td>RM</td>\n",
       "    </tr>\n",
       "    <tr>\n",
       "      <th>32</th>\n",
       "      <td>0.091318</td>\n",
       "      <td>RM</td>\n",
       "      <td>NOX</td>\n",
       "    </tr>\n",
       "    <tr>\n",
       "      <th>10</th>\n",
       "      <td>0.097311</td>\n",
       "      <td>ZN</td>\n",
       "      <td>RAD</td>\n",
       "    </tr>\n",
       "    <tr>\n",
       "      <th>7</th>\n",
       "      <td>0.097338</td>\n",
       "      <td>ZN</td>\n",
       "      <td>RM</td>\n",
       "    </tr>\n",
       "    <tr>\n",
       "      <th>...</th>\n",
       "      <td>...</td>\n",
       "      <td>...</td>\n",
       "      <td>...</td>\n",
       "    </tr>\n",
       "    <tr>\n",
       "      <th>47</th>\n",
       "      <td>0.207956</td>\n",
       "      <td>RAD</td>\n",
       "      <td>AGE</td>\n",
       "    </tr>\n",
       "    <tr>\n",
       "      <th>60</th>\n",
       "      <td>0.212386</td>\n",
       "      <td>TAX</td>\n",
       "      <td>PTRATIO</td>\n",
       "    </tr>\n",
       "    <tr>\n",
       "      <th>49</th>\n",
       "      <td>0.215984</td>\n",
       "      <td>RAD</td>\n",
       "      <td>PTRATIO</td>\n",
       "    </tr>\n",
       "    <tr>\n",
       "      <th>51</th>\n",
       "      <td>0.238805</td>\n",
       "      <td>RAD</td>\n",
       "      <td>LSTAT</td>\n",
       "    </tr>\n",
       "    <tr>\n",
       "      <th>48</th>\n",
       "      <td>0.244617</td>\n",
       "      <td>RAD</td>\n",
       "      <td>DIS</td>\n",
       "    </tr>\n",
       "    <tr>\n",
       "      <th>76</th>\n",
       "      <td>0.247005</td>\n",
       "      <td>LSTAT</td>\n",
       "      <td>DIS</td>\n",
       "    </tr>\n",
       "    <tr>\n",
       "      <th>57</th>\n",
       "      <td>0.256497</td>\n",
       "      <td>TAX</td>\n",
       "      <td>AGE</td>\n",
       "    </tr>\n",
       "    <tr>\n",
       "      <th>6</th>\n",
       "      <td>0.266879</td>\n",
       "      <td>ZN</td>\n",
       "      <td>NOX</td>\n",
       "    </tr>\n",
       "    <tr>\n",
       "      <th>4</th>\n",
       "      <td>0.284973</td>\n",
       "      <td>ZN</td>\n",
       "      <td>INDUS</td>\n",
       "    </tr>\n",
       "    <tr>\n",
       "      <th>58</th>\n",
       "      <td>0.285617</td>\n",
       "      <td>TAX</td>\n",
       "      <td>DIS</td>\n",
       "    </tr>\n",
       "    <tr>\n",
       "      <th>62</th>\n",
       "      <td>0.295929</td>\n",
       "      <td>TAX</td>\n",
       "      <td>LSTAT</td>\n",
       "    </tr>\n",
       "    <tr>\n",
       "      <th>8</th>\n",
       "      <td>0.324373</td>\n",
       "      <td>ZN</td>\n",
       "      <td>AGE</td>\n",
       "    </tr>\n",
       "    <tr>\n",
       "      <th>52</th>\n",
       "      <td>0.335895</td>\n",
       "      <td>TAX</td>\n",
       "      <td>CRIM</td>\n",
       "    </tr>\n",
       "    <tr>\n",
       "      <th>28</th>\n",
       "      <td>0.349138</td>\n",
       "      <td>NOX</td>\n",
       "      <td>LSTAT</td>\n",
       "    </tr>\n",
       "    <tr>\n",
       "      <th>44</th>\n",
       "      <td>0.354179</td>\n",
       "      <td>RAD</td>\n",
       "      <td>INDUS</td>\n",
       "    </tr>\n",
       "    <tr>\n",
       "      <th>75</th>\n",
       "      <td>0.362812</td>\n",
       "      <td>LSTAT</td>\n",
       "      <td>AGE</td>\n",
       "    </tr>\n",
       "    <tr>\n",
       "      <th>73</th>\n",
       "      <td>0.364574</td>\n",
       "      <td>LSTAT</td>\n",
       "      <td>INDUS</td>\n",
       "    </tr>\n",
       "    <tr>\n",
       "      <th>46</th>\n",
       "      <td>0.373860</td>\n",
       "      <td>RAD</td>\n",
       "      <td>NOX</td>\n",
       "    </tr>\n",
       "    <tr>\n",
       "      <th>38</th>\n",
       "      <td>0.376761</td>\n",
       "      <td>RM</td>\n",
       "      <td>LSTAT</td>\n",
       "    </tr>\n",
       "    <tr>\n",
       "      <th>43</th>\n",
       "      <td>0.386920</td>\n",
       "      <td>RAD</td>\n",
       "      <td>CRIM</td>\n",
       "    </tr>\n",
       "    <tr>\n",
       "      <th>17</th>\n",
       "      <td>0.415739</td>\n",
       "      <td>INDUS</td>\n",
       "      <td>AGE</td>\n",
       "    </tr>\n",
       "    <tr>\n",
       "      <th>9</th>\n",
       "      <td>0.441438</td>\n",
       "      <td>ZN</td>\n",
       "      <td>DIS</td>\n",
       "    </tr>\n",
       "    <tr>\n",
       "      <th>55</th>\n",
       "      <td>0.446255</td>\n",
       "      <td>TAX</td>\n",
       "      <td>NOX</td>\n",
       "    </tr>\n",
       "    <tr>\n",
       "      <th>18</th>\n",
       "      <td>0.501302</td>\n",
       "      <td>INDUS</td>\n",
       "      <td>DIS</td>\n",
       "    </tr>\n",
       "    <tr>\n",
       "      <th>53</th>\n",
       "      <td>0.519495</td>\n",
       "      <td>TAX</td>\n",
       "      <td>INDUS</td>\n",
       "    </tr>\n",
       "    <tr>\n",
       "      <th>25</th>\n",
       "      <td>0.535049</td>\n",
       "      <td>NOX</td>\n",
       "      <td>AGE</td>\n",
       "    </tr>\n",
       "    <tr>\n",
       "      <th>41</th>\n",
       "      <td>0.559325</td>\n",
       "      <td>DIS</td>\n",
       "      <td>AGE</td>\n",
       "    </tr>\n",
       "    <tr>\n",
       "      <th>23</th>\n",
       "      <td>0.583164</td>\n",
       "      <td>NOX</td>\n",
       "      <td>INDUS</td>\n",
       "    </tr>\n",
       "    <tr>\n",
       "      <th>26</th>\n",
       "      <td>0.591715</td>\n",
       "      <td>NOX</td>\n",
       "      <td>DIS</td>\n",
       "    </tr>\n",
       "    <tr>\n",
       "      <th>59</th>\n",
       "      <td>0.828515</td>\n",
       "      <td>TAX</td>\n",
       "      <td>RAD</td>\n",
       "    </tr>\n",
       "  </tbody>\n",
       "</table>\n",
       "<p>78 rows × 3 columns</p>\n",
       "</div>"
      ],
      "text/plain": [
       "      rScore     var1     var2\n",
       "45  0.000054      RAD     CHAS\n",
       "54  0.001266      TAX     CHAS\n",
       "5   0.001823       ZN     CHAS\n",
       "21  0.002380     CHAS        B\n",
       "74  0.002908    LSTAT     CHAS\n",
       "0   0.003058     CRIM     CHAS\n",
       "16  0.003961    INDUS     CHAS\n",
       "20  0.007485     CHAS      AGE\n",
       "24  0.008318      NOX     CHAS\n",
       "31  0.008327       RM     CHAS\n",
       "40  0.009836      DIS     CHAS\n",
       "65  0.014766  PTRATIO     CHAS\n",
       "37  0.016402       RM        B\n",
       "13  0.030807       ZN        B\n",
       "69  0.031465  PTRATIO        B\n",
       "66  0.035696  PTRATIO      NOX\n",
       "3   0.039783       ZN     CRIM\n",
       "34  0.042126       RM      DIS\n",
       "35  0.044036       RM      RAD\n",
       "29  0.048374       RM     CRIM\n",
       "68  0.054043  PTRATIO      DIS\n",
       "33  0.057727       RM      AGE\n",
       "67  0.068390  PTRATIO      AGE\n",
       "71  0.074821        B      AGE\n",
       "63  0.083088  PTRATIO     CRIM\n",
       "42  0.084979      DIS        B\n",
       "56  0.085292      TAX       RM\n",
       "32  0.091318       RM      NOX\n",
       "10  0.097311       ZN      RAD\n",
       "7   0.097338       ZN       RM\n",
       "..       ...      ...      ...\n",
       "47  0.207956      RAD      AGE\n",
       "60  0.212386      TAX  PTRATIO\n",
       "49  0.215984      RAD  PTRATIO\n",
       "51  0.238805      RAD    LSTAT\n",
       "48  0.244617      RAD      DIS\n",
       "76  0.247005    LSTAT      DIS\n",
       "57  0.256497      TAX      AGE\n",
       "6   0.266879       ZN      NOX\n",
       "4   0.284973       ZN    INDUS\n",
       "58  0.285617      TAX      DIS\n",
       "62  0.295929      TAX    LSTAT\n",
       "8   0.324373       ZN      AGE\n",
       "52  0.335895      TAX     CRIM\n",
       "28  0.349138      NOX    LSTAT\n",
       "44  0.354179      RAD    INDUS\n",
       "75  0.362812    LSTAT      AGE\n",
       "73  0.364574    LSTAT    INDUS\n",
       "46  0.373860      RAD      NOX\n",
       "38  0.376761       RM    LSTAT\n",
       "43  0.386920      RAD     CRIM\n",
       "17  0.415739    INDUS      AGE\n",
       "9   0.441438       ZN      DIS\n",
       "55  0.446255      TAX      NOX\n",
       "18  0.501302    INDUS      DIS\n",
       "53  0.519495      TAX    INDUS\n",
       "25  0.535049      NOX      AGE\n",
       "41  0.559325      DIS      AGE\n",
       "23  0.583164      NOX    INDUS\n",
       "26  0.591715      NOX      DIS\n",
       "59  0.828515      TAX      RAD\n",
       "\n",
       "[78 rows x 3 columns]"
      ]
     },
     "execution_count": 25,
     "metadata": {},
     "output_type": "execute_result"
    }
   ],
   "source": [
    "df2 = pd.DataFrame(rScores)\n",
    "df2.head()\n",
    "df2.sort_values(by='rScore')"
   ]
  },
  {
   "cell_type": "code",
   "execution_count": 8,
   "metadata": {
    "collapsed": false
   },
   "outputs": [
    {
     "data": {
      "text/plain": [
       "<matplotlib.axes._subplots.AxesSubplot at 0x117461e90>"
      ]
     },
     "execution_count": 8,
     "metadata": {},
     "output_type": "execute_result"
    },
    {
     "data": {
      "image/png": "[encoded data removed]",
      "text/plain": [
       "<matplotlib.figure.Figure at 0x1174618d0>"
      ]
     },
     "metadata": {},
     "output_type": "display_data"
    }
   ],
   "source": [
    "# Exercise 2\n",
    "import seaborn as sns\n",
    "sns.regplot(x=\"TAX\", y=\"RAD\", data=df)"
   ]
  },
  {
   "cell_type": "code",
   "execution_count": 9,
   "metadata": {
    "collapsed": true
   },
   "outputs": [
    {
     "data": {
      "text/plain": [
       "<matplotlib.axes._subplots.AxesSubplot at 0x11759b250>"
      ]
     },
     "execution_count": 9,
     "metadata": {},
     "output_type": "execute_result"
    },
    {
     "data": {
      "image/png": "[encoded data removed]",
      "text/plain": [
       "<matplotlib.figure.Figure at 0x11759b150>"
      ]
     },
     "metadata": {},
     "output_type": "display_data"
    }
   ],
   "source": [
    "sns.regplot(x=\"RAD\", y=\"CHAS\", data=df)"
   ]
  },
  {
   "cell_type": "markdown",
   "metadata": {},
   "source": [
    "# Interpreting $r^2$\n",
    "\n",
    "While it's typically the case that higher $r^2$ values are better models, this is not always the case. We can have high $r^2$ for biased models and low $r^2$ for noisy data. Let's explore both cases. We've been making polynomial fits with scikit-learn so let's change it up and use numpy. We'll use numpy's [polyfit](http://docs.scipy.org/doc/numpy-1.10.0/reference/generated/numpy.polyfit.html) and [polyval](http://docs.scipy.org/doc/numpy-1.10.1/reference/generated/numpy.polyval.html) functions. I'll show you the quadratic fit first and you'll follow with the linear fit.\n",
    "\n",
    "## Exercise:\n",
    "Fit the same data with a linear fit using numpy."
   ]
  },
  {
   "cell_type": "code",
   "execution_count": 10,
   "metadata": {
    "collapsed": false
   },
   "outputs": [],
   "source": [
    "# Here's some quadratic data with a bit of noise\n",
    "import scipy\n",
    "\n",
    "noise = scipy.stats.norm(0, 4)\n",
    "#if you didn't have random noise, your quadratic line would fit perfectly.\n",
    "data = [(x, 3*x*x - 5*x + 3 + noise.rvs()) for x in np.arange(-6, 2, 0.5)]\n",
    "\n",
    "xs = [x for (x, y) in data]\n",
    "ys = [y for (x, y) in data]\n"
   ]
  },
  {
   "cell_type": "code",
   "execution_count": 11,
   "metadata": {
    "collapsed": true
   },
   "outputs": [],
   "source": [
    "#np.polyfit?"
   ]
  },
  {
   "cell_type": "code",
   "execution_count": 12,
   "metadata": {
    "collapsed": false
   },
   "outputs": [
    {
     "data": {
      "text/plain": [
       "0.99189880218491211"
      ]
     },
     "execution_count": 12,
     "metadata": {},
     "output_type": "execute_result"
    },
    {
     "data": {
      "image/png": "[encoded data removed]",
      "text/plain": [
       "<matplotlib.figure.Figure at 0x117592990>"
      ]
     },
     "metadata": {},
     "output_type": "display_data"
    }
   ],
   "source": [
    "# Now let's fit a quadratic model with numpy\n",
    "# polyfit gives us the coefficients of the best fit polynomial\n",
    "coef = np.polyfit(xs, ys, deg=2)\n",
    "# polyvals gives us the polynomial function for these coefficients\n",
    "predictions = np.polyval(coef, xs)\n",
    "\n",
    "# Let's plot the model\n",
    "plt.scatter(xs, ys)\n",
    "plt.plot(xs, predictions)\n",
    "\n",
    "# Here's another way to get r^2 from scipy\n",
    "from sklearn import metrics\n",
    "metrics.r2_score(ys, predictions)"
   ]
  },
  {
   "cell_type": "code",
   "execution_count": 13,
   "metadata": {
    "collapsed": false
   },
   "outputs": [
    {
     "data": {
      "text/plain": [
       "0.88053011152932903"
      ]
     },
     "execution_count": 13,
     "metadata": {},
     "output_type": "execute_result"
    },
    {
     "data": {
      "image/png": "[encoded data removed]",
      "text/plain": [
       "<matplotlib.figure.Figure at 0x117a28190>"
      ]
     },
     "metadata": {},
     "output_type": "display_data"
    }
   ],
   "source": [
    "#to get a straight line you just change degree to 1\n",
    "coef = np.polyfit(xs, ys, deg=1)\n",
    "predictions = np.polyval(coef, xs)\n",
    "\n",
    "plt.scatter(xs, ys)\n",
    "plt.plot(xs, predictions)\n",
    "\n",
    "from sklearn import metrics\n",
    "metrics.r2_score(ys, predictions)"
   ]
  },
  {
   "cell_type": "markdown",
   "metadata": {},
   "source": [
    "You should have seen that the $r^2$ was quite good in both cases, however the quadratic model is much better. So don't get complacement when you get a pretty good $r^2$ score -- you could still have a biased model!\n",
    "\n",
    "# Exercise\n",
    "\n",
    "Now let's look at the effect of outliers. Just one outlier can really skew your models. Let's add outlier to our data and redo both the quadratic and the linear fits. Which model type drops the most in $r^2$?"
   ]
  },
  {
   "cell_type": "code",
   "execution_count": 14,
   "metadata": {
    "collapsed": true
   },
   "outputs": [],
   "source": [
    "xs.append(2)\n",
    "ys.append(120)"
   ]
  },
  {
   "cell_type": "code",
   "execution_count": 15,
   "metadata": {
    "collapsed": false
   },
   "outputs": [
    {
     "data": {
      "text/plain": [
       "0.80465419475741007"
      ]
     },
     "execution_count": 15,
     "metadata": {},
     "output_type": "execute_result"
    },
    {
     "data": {
      "image/png": "[encoded data removed]",
      "text/plain": [
       "<matplotlib.figure.Figure at 0x1175d9d50>"
      ]
     },
     "metadata": {},
     "output_type": "display_data"
    }
   ],
   "source": [
    "# Repeat the Quadratic fit\n",
    "coef = np.polyfit(xs, ys, deg=2)\n",
    "\n",
    "predictions = np.polyval(coef, xs)\n",
    "\n",
    "\n",
    "plt.scatter(xs, ys)\n",
    "plt.plot(xs, predictions)\n",
    "\n",
    "\n",
    "from sklearn import metrics\n",
    "metrics.r2_score(ys, predictions)"
   ]
  },
  {
   "cell_type": "code",
   "execution_count": 16,
   "metadata": {
    "collapsed": false
   },
   "outputs": [
    {
     "data": {
      "text/plain": [
       "0.4189557059036314"
      ]
     },
     "execution_count": 16,
     "metadata": {},
     "output_type": "execute_result"
    },
    {
     "data": {
      "image/png": "[encoded data removed]",
      "text/plain": [
       "<matplotlib.figure.Figure at 0x1175d9e90>"
      ]
     },
     "metadata": {},
     "output_type": "display_data"
    }
   ],
   "source": [
    "# And the linear fit\n",
    "coef = np.polyfit(xs, ys, deg=1)\n",
    "predictions = np.polyval(coef, xs)\n",
    "\n",
    "plt.scatter(xs, ys)\n",
    "plt.plot(xs, predictions)\n",
    "\n",
    "from sklearn import metrics\n",
    "metrics.r2_score(ys, predictions)"
   ]
  },
  {
   "cell_type": "markdown",
   "metadata": {},
   "source": [
    "You should have seen that the $r^2$ for both models decreased dramatically! Just as in the case of higher $r^2$ values, you should be suspicious of smaller values as well. There could be outliers in the dataset from exceptional cases, bad data points, or poor measuring instruments that are obscuring the relationships in your data.\n",
    "\n",
    "**Check**: How closely did you look at the housing data? Are there any cases in which outliers are obviously a problem?\n",
    "> Answer: The plot for \"TAX\" and \"RAD\" has a pretty obvious outlier.\n",
    "\n",
    "You might be thinking: how can we detect and exclude outliers? It turns out that this is a [hard question to answer](https://en.wikipedia.org/wiki/Outlier#Identifying_outliers) and is often subjective. There are some methods, such as [Dixon's Q test](https://en.wikipedia.org/wiki/Dixon's_Q_test) and many others. Always make visualizations of your data when possible and remove outliers as appropriate, making sure that you can justify your selections!"
   ]
  },
  {
   "cell_type": "markdown",
   "metadata": {},
   "source": [
    "## Confounding Variables\n",
    "\n",
    "Another important topic when it comes to goodness of fit is [confounding variables](https://en.wikipedia.org/wiki/Confounding). It's tempting to think of models as causal but as you have likely heard before, [correlation is not causation](https://en.wikipedia.org/wiki/Correlation_does_not_imply_causation). Similarly, a high $r^2$ doesn't necessarily mean that two quantities are related in a predictive or causal manner. There are a number of examples [here](http://blog.searchmetrics.com/us/2015/09/11/ranking-factors-infographic-correlation-vs-causality/), including a nice plot of a seemingly strong relationship between per capita cheese consumption and the number of people who died by becoming tangled in their bedsheets! There is a very nice [case study](http://ocw.jhsph.edu/courses/fundepiii/pdfs/lecture18.pdf) of bias and confounding in disease studies. It's worth your time to read through the slides. \n",
    "\n",
    "The takeaway message is that you always need to check that your conclusions make sense rather than blindly interpretting statistical values. As a data scientist you will often present analyses to stakeholders and they will ask questions about the causes of the relationships you find and the logical basis of the models you fit."
   ]
  },
  {
   "cell_type": "markdown",
   "metadata": {},
   "source": [
    "# Exercises\n",
    "\n",
    "If you've gotten this far then you're doing great! Let's look at a case where a series of models have increasing better $r^2$ values as the models become more complex. Consider the function $y = sin(x)$ on the interval $[0, 6\\pi]$ (data below). If you fit polynomials of higher and higher degree to this function, you should find that the $r^2$ value increases as the degreee increases. Your task is to make a plot of $r^2$ versus polynomial degree as follows:\n",
    "* Write a loop to fit polynomials of degrees from 0 to 10 to the sine function\n",
    "* Plot the fits together on the same graph with the data\n",
    "* Compute the $r^2$ values for each model\n",
    "* Make a plot of degree versus $r^2$.\n",
    "\n",
    "Compare and contrast with earlier lessons. In some cases increasing the degree of a polynomial model can alter the tradeoff between bias and variance. Try to explain your results in that context."
   ]
  },
  {
   "cell_type": "code",
   "execution_count": 17,
   "metadata": {
    "collapsed": false
   },
   "outputs": [],
   "source": [
    "import math\n",
    "noise = scipy.stats.norm(0, 0.1)\n",
    "data = [(x, math.sin(x) + noise.rvs() ) for x in np.arange(0, 6 * 3.14, 0.1)]\n",
    "xs = [x for (x, y) in data]\n",
    "ys = [y for (x, y) in data]"
   ]
  },
  {
   "cell_type": "code",
   "execution_count": 18,
   "metadata": {
    "collapsed": false
   },
   "outputs": [
    {
     "data": {
      "image/png": "[encoded data removed]",
      "text/plain": [
       "<matplotlib.figure.Figure at 0x117ea2890>"
      ]
     },
     "metadata": {},
     "output_type": "display_data"
    }
   ],
   "source": [
    "from sklearn import metrics\n",
    "rs = []\n",
    "\n",
    "# Let's plot the model\n",
    "plt.scatter(xs, ys)\n",
    "\n",
    "for degree in range(1, 11):\n",
    "    # Fill in the modeling steps here\n",
    "    pass\n",
    "\n",
    "# Make the plots\n"
   ]
  },
  {
   "cell_type": "code",
   "execution_count": null,
   "metadata": {
    "collapsed": true
   },
   "outputs": [],
   "source": []
  }
 ],
 "metadata": {
  "kernelspec": {
   "display_name": "Python 2",
   "language": "python",
   "name": "python2"
  },
  "language_info": {
   "codemirror_mode": {
    "name": "ipython",
    "version": 2
   },
   "file_extension": ".py",
   "mimetype": "text/x-python",
   "name": "python",
   "nbconvert_exporter": "python",
   "pygments_lexer": "ipython2",
   "version": "2.7.11"
  }
 },
 "nbformat": 4,
 "nbformat_minor": 0
}
