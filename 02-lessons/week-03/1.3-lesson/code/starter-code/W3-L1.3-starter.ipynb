{
 "cells": [
  {
   "cell_type": "markdown",
   "metadata": {},
   "source": [
    "# Linear Regression with Statsmodels and Scikit-Learn"
   ]
  },
  {
   "cell_type": "markdown",
   "metadata": {},
   "source": [
    "Let's investigate the housing dataset with linear regression. We'll use two different packages and you can see examples for linear regression of each:\n",
    "* statsmodels -- [linear regression](http://statsmodels.sourceforge.net/devel/examples/#regression)\n",
    "* scikit-learn -- [linear regression](http://scikit-learn.org/stable/modules/generated/sklearn.linear_model.LinearRegression.html)"
   ]
  },
  {
   "cell_type": "markdown",
   "metadata": {},
   "source": [
    "## Intro to Scikit-Learn\n",
    "\n",
    "Scikit-learn is a machine learning package for python that includes a huge array of models including linear regression. Scikit-learn includes a number of sample data sets including the Boston housing data set. (We could also load the data with pandas as in the last lesson.)"
   ]
  },
  {
   "cell_type": "code",
   "execution_count": 1,
   "metadata": {
    "collapsed": false
   },
   "outputs": [
    {
     "name": "stdout",
     "output_type": "stream",
     "text": [
      "Boston House Prices dataset\n",
      "\n",
      "Notes\n",
      "------\n",
      "Data Set Characteristics:  \n",
      "\n",
      "    :Number of Instances: 506 \n",
      "\n",
      "    :Number of Attributes: 13 numeric/categorical predictive\n",
      "    \n",
      "    :Median Value (attribute 14) is usually the target\n",
      "\n",
      "    :Attribute Information (in order):\n",
      "        - CRIM     per capita crime rate by town\n",
      "        - ZN       proportion of residential land zoned for lots over 25,000 sq.ft.\n",
      "        - INDUS    proportion of non-retail business acres per town\n",
      "        - CHAS     Charles River dummy variable (= 1 if tract bounds river; 0 otherwise)\n",
      "        - NOX      nitric oxides concentration (parts per 10 million)\n",
      "        - RM       average number of rooms per dwelling\n",
      "        - AGE      proportion of owner-occupied units built prior to 1940\n",
      "        - DIS      weighted distances to five Boston employment centres\n",
      "        - RAD      index of accessibility to radial highways\n",
      "        - TAX      full-value property-tax rate per $10,000\n",
      "        - PTRATIO  pupil-teacher ratio by town\n",
      "        - B        1000(Bk - 0.63)^2 where Bk is the proportion of blacks by town\n",
      "        - LSTAT    % lower status of the population\n",
      "        - MEDV     Median value of owner-occupied homes in $1000's\n",
      "\n",
      "    :Missing Attribute Values: None\n",
      "\n",
      "    :Creator: Harrison, D. and Rubinfeld, D.L.\n",
      "\n",
      "This is a copy of UCI ML housing dataset.\n",
      "http://archive.ics.uci.edu/ml/datasets/Housing\n",
      "\n",
      "\n",
      "This dataset was taken from the StatLib library which is maintained at Carnegie Mellon University.\n",
      "\n",
      "The Boston house-price data of Harrison, D. and Rubinfeld, D.L. 'Hedonic\n",
      "prices and the demand for clean air', J. Environ. Economics & Management,\n",
      "vol.5, 81-102, 1978.   Used in Belsley, Kuh & Welsch, 'Regression diagnostics\n",
      "...', Wiley, 1980.   N.B. Various transformations are used in the table on\n",
      "pages 244-261 of the latter.\n",
      "\n",
      "The Boston house-price data has been used in many machine learning papers that address regression\n",
      "problems.   \n",
      "     \n",
      "**References**\n",
      "\n",
      "   - Belsley, Kuh & Welsch, 'Regression diagnostics: Identifying Influential Data and Sources of Collinearity', Wiley, 1980. 244-261.\n",
      "   - Quinlan,R. (1993). Combining Instance-Based and Model-Based Learning. In Proceedings on the Tenth International Conference of Machine Learning, 236-243, University of Massachusetts, Amherst. Morgan Kaufmann.\n",
      "   - many more! (see http://archive.ics.uci.edu/ml/datasets/Housing)\n",
      "\n"
     ]
    }
   ],
   "source": [
    "%matplotlib inline\n",
    "from matplotlib import pyplot as plt\n",
    "\n",
    "from sklearn import datasets, linear_model\n",
    "from sklearn.metrics import mean_squared_error\n",
    "#We need this to quantify how good or accurate our predictive model is\n",
    "data = datasets.load_boston()\n",
    "\n",
    "print data.DESCR\n",
    "#So sklearn just has a bunch of datasets already in the library, kind \n",
    "#of like functions already in libraries."
   ]
  },
  {
   "cell_type": "markdown",
   "metadata": {},
   "source": [
    "Let's take a minute to see what the data looks like."
   ]
  },
  {
   "cell_type": "code",
   "execution_count": 2,
   "metadata": {
    "collapsed": false
   },
   "outputs": [
    {
     "name": "stdout",
     "output_type": "stream",
     "text": [
      "['CRIM' 'ZN' 'INDUS' 'CHAS' 'NOX' 'RM' 'AGE' 'DIS' 'RAD' 'TAX' 'PTRATIO'\n",
      " 'B' 'LSTAT']\n",
      "[  6.32000000e-03   1.80000000e+01   2.31000000e+00   0.00000000e+00\n",
      "   5.38000000e-01   6.57500000e+00   6.52000000e+01   4.09000000e+00\n",
      "   1.00000000e+00   2.96000000e+02   1.53000000e+01   3.96900000e+02\n",
      "   4.98000000e+00]\n",
      "24.0\n"
     ]
    }
   ],
   "source": [
    "#This is like the list of column names from previous lesson\n",
    "print data.feature_names\n",
    "print data.data[0]\n",
    "print data.target[0]"
   ]
  },
  {
   "cell_type": "markdown",
   "metadata": {},
   "source": [
    "Scikit-learn has already split off the house value data into the target variable. Let's see how to build a linear regression. First let's put the data into a data frame for convenience, and do a quick check to see that everything loaded correctly."
   ]
  },
  {
   "cell_type": "code",
   "execution_count": 3,
   "metadata": {
    "collapsed": false
   },
   "outputs": [
    {
     "name": "stdout",
     "output_type": "stream",
     "text": [
      "      CRIM    ZN  INDUS  CHAS    NOX     RM   AGE     DIS  RAD    TAX  \\\n",
      "0  0.00632  18.0   2.31   0.0  0.538  6.575  65.2  4.0900  1.0  296.0   \n",
      "1  0.02731   0.0   7.07   0.0  0.469  6.421  78.9  4.9671  2.0  242.0   \n",
      "2  0.02729   0.0   7.07   0.0  0.469  7.185  61.1  4.9671  2.0  242.0   \n",
      "3  0.03237   0.0   2.18   0.0  0.458  6.998  45.8  6.0622  3.0  222.0   \n",
      "4  0.06905   0.0   2.18   0.0  0.458  7.147  54.2  6.0622  3.0  222.0   \n",
      "\n",
      "   PTRATIO       B  LSTAT  \n",
      "0     15.3  396.90   4.98  \n",
      "1     17.8  396.90   9.14  \n",
      "2     17.8  392.83   4.03  \n",
      "3     18.7  394.63   2.94  \n",
      "4     18.7  396.90   5.33  \n",
      "   MEDV\n",
      "0  24.0\n",
      "1  21.6\n",
      "2  34.7\n",
      "3  33.4\n",
      "4  36.2\n"
     ]
    }
   ],
   "source": [
    "import numpy as np\n",
    "import pandas as pd\n",
    "df = pd.DataFrame(data.data, columns=data.feature_names)\n",
    "\n",
    "# Put the target (housing value -- MEDV) in another DataFrame\n",
    "targets = pd.DataFrame(data.target, columns=[\"MEDV\"])\n",
    "\n",
    "# Take a look at the first few rows\n",
    "print df.head()\n",
    "print targets.head()"
   ]
  },
  {
   "cell_type": "markdown",
   "metadata": {},
   "source": [
    "Now let's fit a linear model to the data. First let's take a look at some of the variables we identified visually as being linked to house value, RM and LSTAT. Let's look at each individually and then both together.\n",
    "\n",
    "Note: If for some reason scikit-learn crashes the jupyter notebook, have conda remove mkl (there's an issue with the newer build on some systems)."
   ]
  },
  {
   "cell_type": "code",
   "execution_count": 4,
   "metadata": {
    "collapsed": false
   },
   "outputs": [
    {
     "data": {
      "image/png": "[encoded data removed]",
      "text/plain": [
       "<matplotlib.figure.Figure at 0x10401ce50>"
      ]
     },
     "metadata": {},
     "output_type": "display_data"
    },
    {
     "name": "stdout",
     "output_type": "stream",
     "text": [
      "MSE: 43.6005517712\n"
     ]
    }
   ],
   "source": [
    "#This just shortens it all so you don't have to write all that crap over\n",
    "\n",
    "#lm = linear_model.LinearRegression(fit_intercept=False)\n",
    "#This will fit a model that doesn't allow a y-intercept model, just like statsmodel's default\n",
    "lm = linear_model.LinearRegression()\n",
    "\n",
    "X = df[[\"RM\"]]\n",
    "y = targets[\"MEDV\"]\n",
    "\n",
    "model = lm.fit(X, y)#Says fit a line to x,y as specified above\n",
    "predictions = lm.predict(X)#Create a list of y-hats for each x value - in\n",
    "#this case, it's each value within 'RM', as specified above\n",
    "\n",
    "# Plot the model\n",
    "plt.scatter(predictions, y, s=30, c='r', marker='+', zorder=10)\n",
    "plt.xlabel(\"Predicted Values from RM\")\n",
    "plt.ylabel(\"Actual Values MEDV\")\n",
    "plt.show()\n",
    "print \"MSE:\", mean_squared_error(y, predictions)"
   ]
  },
  {
   "cell_type": "markdown",
   "metadata": {},
   "source": [
    "**Check**: How does this plot relate to the model? In other words, how are the independent variable (RM) and dependent variable (\"MEDV\") incorporated?"
   ]
  },
  {
   "cell_type": "code",
   "execution_count": 5,
   "metadata": {
    "collapsed": false
   },
   "outputs": [
    {
     "data": {
      "image/png": "[encoded data removed]",
      "text/plain": [
       "<matplotlib.figure.Figure at 0x10bd90f10>"
      ]
     },
     "metadata": {},
     "output_type": "display_data"
    },
    {
     "name": "stdout",
     "output_type": "stream",
     "text": [
      "MSE: 38.4829672299\n"
     ]
    }
   ],
   "source": [
    "lm = linear_model.LinearRegression()\n",
    "\n",
    "X = df[[\"LSTAT\"]]\n",
    "y = targets[\"MEDV\"]\n",
    "\n",
    "model = lm.fit(X, y)\n",
    "predictions = lm.predict(X)\n",
    "\n",
    "# Plot the model\n",
    "plt.scatter(predictions, y, s=30, c='r', marker='+', zorder=10)\n",
    "plt.xlabel(\"Predicted Values from LSTAT\")\n",
    "plt.ylabel(\"Actual Values MEDV\")\n",
    "plt.show()\n",
    "print \"MSE:\", mean_squared_error(y, predictions)\n",
    "#The lower MSE here, tells us the LSTAT is a better predictor of home value"
   ]
  },
  {
   "cell_type": "code",
   "execution_count": 6,
   "metadata": {
    "collapsed": false
   },
   "outputs": [
    {
     "data": {
      "image/png": "[encoded data removed]",
      "text/plain": [
       "<matplotlib.figure.Figure at 0x10400b290>"
      ]
     },
     "metadata": {},
     "output_type": "display_data"
    },
    {
     "name": "stdout",
     "output_type": "stream",
     "text": [
      "MSE: 30.5124687773\n"
     ]
    }
   ],
   "source": [
    "lm = linear_model.LinearRegression()\n",
    "\n",
    "X = df[[\"RM\", \"LSTAT\"]]\n",
    "y = targets[\"MEDV\"]\n",
    "\n",
    "model = lm.fit(X, y)\n",
    "predictions = model.predict(X)\n",
    "\n",
    "# Plot the model\n",
    "plt.scatter(predictions, y, s=30, c='r', marker='+', zorder=10)\n",
    "plt.xlabel(\"Predicted Values from RM and LSTAT\")\n",
    "plt.ylabel(\"Actual Values MEDV\")\n",
    "plt.show()\n",
    "print \"MSE:\", mean_squared_error(y, predictions)\n",
    "#Now when you bring in more independent variables, you get a more\n",
    "#accurate predictive model"
   ]
  },
  {
   "cell_type": "markdown",
   "metadata": {},
   "source": [
    "## Comparing the models\n",
    "\n",
    "A perfect fit would yield a straight line when we plot the predicted values versus the true values. We'll quantify the goodness of fit soon.\n",
    "\n",
    "### Exercise\n",
    "\n",
    "Run the fit on all the variables with `X = df`. Did this improve the fit versus the previously tested variable combinations? (Use mean squared error)."
   ]
  },
  {
   "cell_type": "code",
   "execution_count": 7,
   "metadata": {
    "collapsed": false
   },
   "outputs": [
    {
     "data": {
      "image/png": "[encoded data removed]",
      "text/plain": [
       "<matplotlib.figure.Figure at 0x1170380d0>"
      ]
     },
     "metadata": {},
     "output_type": "display_data"
    },
    {
     "name": "stdout",
     "output_type": "stream",
     "text": [
      "MSE: 21.8977792177\n"
     ]
    }
   ],
   "source": [
    "lm = linear_model.LinearRegression()\n",
    "\n",
    "X = df[['CRIM', 'ZN', 'INDUS', 'CHAS', 'NOX', 'RM', 'AGE', 'DIS', 'RAD', 'TAX', 'PTRATIO',\n",
    " 'B', 'LSTAT']]\n",
    "y = targets[\"MEDV\"]\n",
    "\n",
    "model = lm.fit(X, y)\n",
    "predictions = model.predict(X)\n",
    "\n",
    "# Plot the model\n",
    "plt.scatter(predictions, y, s=30, c='r', marker='+', zorder=10)\n",
    "plt.xlabel(\"Predicted Values from all variables\")\n",
    "plt.ylabel(\"Actual Values MEDV\")\n",
    "plt.show()\n",
    "print \"MSE:\", mean_squared_error(y, predictions)"
   ]
  },
  {
   "cell_type": "markdown",
   "metadata": {
    "collapsed": true
   },
   "source": [
    "## Intro to Statsmodels\n",
    "\n",
    "Now let's see how to use another popular package for regressions."
   ]
  },
  {
   "cell_type": "code",
   "execution_count": 8,
   "metadata": {
    "collapsed": false,
    "scrolled": false
   },
   "outputs": [
    {
     "data": {
      "image/png": "[encoded data removed]",
      "text/plain": [
       "<matplotlib.figure.Figure at 0x117c26150>"
      ]
     },
     "metadata": {},
     "output_type": "display_data"
    },
    {
     "name": "stdout",
     "output_type": "stream",
     "text": [
      "MSE: 43.6005517712\n"
     ]
    }
   ],
   "source": [
    "#statsmodel forces your y-intercept to start at 0\n",
    "\n",
    "import statsmodels.api as sm\n",
    "\n",
    "X = df[\"RM\"]\n",
    "X=sm.add_constant(X) #This will give you a constant, which allows for negative predicted vals.\n",
    "y = targets[\"MEDV\"]\n",
    "\n",
    "# Note the difference in argument order\n",
    "model = sm.OLS(y, X).fit()\n",
    "predictions = model.predict(X)\n",
    "#model.summary()\n",
    "\n",
    "# Plot the model\n",
    "plt.scatter(predictions, y, s=30, c='r', marker='+', zorder=10)\n",
    "plt.xlabel(\"Predicted Values from RM\")\n",
    "plt.ylabel(\"Actual Values MEDV\")\n",
    "plt.show()\n",
    "print \"MSE:\", mean_squared_error(y, predictions)"
   ]
  },
  {
   "cell_type": "markdown",
   "metadata": {
    "collapsed": true
   },
   "source": [
    "## Guided Practice\n",
    "\n",
    "Compare this to the analgous fit from scikit-learn above.\n",
    "\n",
    "### Exercises\n",
    "\n",
    "Recreate the model fits above with `statsmodels`:\n",
    "* a model using LSTAT\n",
    "* a model using RM and LSTAT\n",
    "* a model using all the variables\n",
    "\n",
    "Compare the mean squared errors for each model between the two packages. Do they differ significantly? Why or why not?"
   ]
  },
  {
   "cell_type": "code",
   "execution_count": 9,
   "metadata": {
    "collapsed": false
   },
   "outputs": [
    {
     "data": {
      "image/png": "[encoded data removed]",
      "text/plain": [
       "<matplotlib.figure.Figure at 0x10bcdbbd0>"
      ]
     },
     "metadata": {},
     "output_type": "display_data"
    },
    {
     "name": "stdout",
     "output_type": "stream",
     "text": [
      "MSE: 38.4829672299\n"
     ]
    }
   ],
   "source": [
    "X = df[\"LSTAT\"]\n",
    "y = targets[\"MEDV\"]\n",
    "X=sm.add_constant(X)\n",
    "\n",
    "model = sm.OLS(y, X).fit()\n",
    "predictions = model.predict(X)\n",
    "model.summary()\n",
    "\n",
    "# Plot the model\n",
    "plt.scatter(predictions, y, s=30, c='r', marker='+', zorder=10)\n",
    "plt.xlabel(\"Predicted Values from LSTAT\")\n",
    "plt.ylabel(\"Actual Values MEDV\")\n",
    "plt.show()\n",
    "print \"MSE:\", mean_squared_error(y, predictions)"
   ]
  },
  {
   "cell_type": "code",
   "execution_count": 10,
   "metadata": {
    "collapsed": false
   },
   "outputs": [
    {
     "data": {
      "image/png": "[encoded data removed]",
      "text/plain": [
       "<matplotlib.figure.Figure at 0x1172b6590>"
      ]
     },
     "metadata": {},
     "output_type": "display_data"
    },
    {
     "name": "stdout",
     "output_type": "stream",
     "text": [
      "MSE: 30.5124687773\n"
     ]
    }
   ],
   "source": [
    "X = df[[\"LSTAT\", \"RM\"]]\n",
    "y = targets[\"MEDV\"]\n",
    "X=sm.add_constant(X)\n",
    "\n",
    "model = sm.OLS(y, X).fit()\n",
    "predictions = model.predict(X)\n",
    "model.summary()\n",
    "\n",
    "# Plot the model\n",
    "plt.scatter(predictions, y, s=30, c='r', marker='+', zorder=10)\n",
    "plt.xlabel(\"Predicted Values from LSTAT and RM\")\n",
    "plt.ylabel(\"Actual Values MEDV\")\n",
    "plt.show()\n",
    "print \"MSE:\", mean_squared_error(y, predictions)"
   ]
  },
  {
   "cell_type": "code",
   "execution_count": 11,
   "metadata": {
    "collapsed": false
   },
   "outputs": [
    {
     "ename": "NameError",
     "evalue": "name 'indVariables' is not defined",
     "output_type": "error",
     "traceback": [
      "\u001b[0;31m---------------------------------------------------------------------------\u001b[0m",
      "\u001b[0;31mNameError\u001b[0m                                 Traceback (most recent call last)",
      "\u001b[0;32m<ipython-input-11-fa16af394014>\u001b[0m in \u001b[0;36m<module>\u001b[0;34m()\u001b[0m\n\u001b[0;32m----> 1\u001b[0;31m \u001b[0mX\u001b[0m \u001b[0;34m=\u001b[0m \u001b[0mdf\u001b[0m\u001b[0;34m[\u001b[0m\u001b[0mindVariables\u001b[0m\u001b[0;34m]\u001b[0m\u001b[0;34m\u001b[0m\u001b[0m\n\u001b[0m\u001b[1;32m      2\u001b[0m \u001b[0my\u001b[0m \u001b[0;34m=\u001b[0m \u001b[0mtargets\u001b[0m\u001b[0;34m[\u001b[0m\u001b[0;34m\"MEDV\"\u001b[0m\u001b[0;34m]\u001b[0m\u001b[0;34m\u001b[0m\u001b[0m\n\u001b[1;32m      3\u001b[0m \u001b[0mX\u001b[0m\u001b[0;34m=\u001b[0m\u001b[0msm\u001b[0m\u001b[0;34m.\u001b[0m\u001b[0madd_constant\u001b[0m\u001b[0;34m(\u001b[0m\u001b[0mX\u001b[0m\u001b[0;34m)\u001b[0m\u001b[0;34m\u001b[0m\u001b[0m\n\u001b[1;32m      4\u001b[0m \u001b[0;34m\u001b[0m\u001b[0m\n\u001b[1;32m      5\u001b[0m \u001b[0mmodel\u001b[0m \u001b[0;34m=\u001b[0m \u001b[0msm\u001b[0m\u001b[0;34m.\u001b[0m\u001b[0mOLS\u001b[0m\u001b[0;34m(\u001b[0m\u001b[0my\u001b[0m\u001b[0;34m,\u001b[0m \u001b[0mX\u001b[0m\u001b[0;34m)\u001b[0m\u001b[0;34m.\u001b[0m\u001b[0mfit\u001b[0m\u001b[0;34m(\u001b[0m\u001b[0;34m)\u001b[0m\u001b[0;34m\u001b[0m\u001b[0m\n",
      "\u001b[0;31mNameError\u001b[0m: name 'indVariables' is not defined"
     ]
    }
   ],
   "source": [
    "X = df[indVariables]\n",
    "y = targets[\"MEDV\"]\n",
    "X=sm.add_constant(X)\n",
    "\n",
    "model = sm.OLS(y, X).fit()\n",
    "predictions = model.predict(X)\n",
    "#model.summary()\n",
    "#Kind of like df.describe, this will give you summary statistics of your model, like SPSS\n",
    "\n",
    "# Plot the model\n",
    "plt.scatter(predictions, y, s=30, c='r', marker='+', zorder=10)\n",
    "plt.xlabel(\"Predicted Values from all variables\")\n",
    "plt.ylabel(\"Actual Values MEDV\")\n",
    "plt.show()\n",
    "print \"MSE:\", mean_squared_error(y, predictions)"
   ]
  },
  {
   "cell_type": "markdown",
   "metadata": {},
   "source": [
    "## Independent Practice\n",
    "\n",
    "Using our preference of `scikit-learn` or `statsmodels`, try to find the best models that you can that:\n",
    "* use only two variables\n",
    "* only three variables\n",
    "* only four variables\n",
    "\n",
    "Evaluate your models using the squared error. Which has the lowest? How do the errors compare to using all the variables?"
   ]
  },
  {
   "cell_type": "code",
   "execution_count": 12,
   "metadata": {
    "collapsed": true
   },
   "outputs": [
    {
     "name": "stdout",
     "output_type": "stream",
     "text": [
      "For CRIM and CRIM, MSE: 30.5124687773\n",
      "For CRIM and ZN, MSE: 30.5124687773\n",
      "For CRIM and INDUS, MSE: 30.5124687773\n",
      "For CRIM and CHAS, MSE: 30.5124687773\n",
      "For CRIM and NOX, MSE: 30.5124687773\n",
      "For CRIM and RM, MSE: 30.5124687773\n",
      "For CRIM and AGE, MSE: 30.5124687773\n",
      "For CRIM and DIS, MSE: 30.5124687773\n",
      "For CRIM and RAD, MSE: 30.5124687773\n",
      "For CRIM and TAX, MSE: 30.5124687773\n",
      "For CRIM and PTRATIO, MSE: 30.5124687773\n",
      "For CRIM and B, MSE: 30.5124687773\n",
      "For CRIM and LSTAT, MSE: 30.5124687773\n",
      "For ZN and CRIM, MSE: 30.5124687773\n",
      "For ZN and ZN, MSE: 30.5124687773\n",
      "For ZN and INDUS, MSE: 30.5124687773\n",
      "For ZN and CHAS, MSE: 30.5124687773\n",
      "For ZN and NOX, MSE: 30.5124687773\n",
      "For ZN and RM, MSE: 30.5124687773\n",
      "For ZN and AGE, MSE: 30.5124687773\n",
      "For ZN and DIS, MSE: 30.5124687773\n",
      "For ZN and RAD, MSE: 30.5124687773\n",
      "For ZN and TAX, MSE: 30.5124687773\n",
      "For ZN and PTRATIO, MSE: 30.5124687773\n",
      "For ZN and B, MSE: 30.5124687773\n",
      "For ZN and LSTAT, MSE: 30.5124687773\n",
      "For INDUS and CRIM, MSE: 30.5124687773\n",
      "For INDUS and ZN, MSE: 30.5124687773\n",
      "For INDUS and INDUS, MSE: 30.5124687773\n",
      "For INDUS and CHAS, MSE: 30.5124687773\n",
      "For INDUS and NOX, MSE: 30.5124687773\n",
      "For INDUS and RM, MSE: 30.5124687773\n",
      "For INDUS and AGE, MSE: 30.5124687773\n",
      "For INDUS and DIS, MSE: 30.5124687773\n",
      "For INDUS and RAD, MSE: 30.5124687773\n",
      "For INDUS and TAX, MSE: 30.5124687773\n",
      "For INDUS and PTRATIO, MSE: 30.5124687773\n",
      "For INDUS and B, MSE: 30.5124687773\n",
      "For INDUS and LSTAT, MSE: 30.5124687773\n",
      "For CHAS and CRIM, MSE: 30.5124687773\n",
      "For CHAS and ZN, MSE: 30.5124687773\n",
      "For CHAS and INDUS, MSE: 30.5124687773\n",
      "For CHAS and CHAS, MSE: 30.5124687773\n",
      "For CHAS and NOX, MSE: 30.5124687773\n",
      "For CHAS and RM, MSE: 30.5124687773\n",
      "For CHAS and AGE, MSE: 30.5124687773\n",
      "For CHAS and DIS, MSE: 30.5124687773\n",
      "For CHAS and RAD, MSE: 30.5124687773\n",
      "For CHAS and TAX, MSE: 30.5124687773\n",
      "For CHAS and PTRATIO, MSE: 30.5124687773\n",
      "For CHAS and B, MSE: 30.5124687773\n",
      "For CHAS and LSTAT, MSE: 30.5124687773\n",
      "For NOX and CRIM, MSE: 30.5124687773\n",
      "For NOX and ZN, MSE: 30.5124687773\n",
      "For NOX and INDUS, MSE: 30.5124687773\n",
      "For NOX and CHAS, MSE: 30.5124687773\n",
      "For NOX and NOX, MSE: 30.5124687773\n",
      "For NOX and RM, MSE: 30.5124687773\n",
      "For NOX and AGE, MSE: 30.5124687773\n",
      "For NOX and DIS, MSE: 30.5124687773\n",
      "For NOX and RAD, MSE: 30.5124687773\n",
      "For NOX and TAX, MSE: 30.5124687773\n",
      "For NOX and PTRATIO, MSE: 30.5124687773\n",
      "For NOX and B, MSE: 30.5124687773\n",
      "For NOX and LSTAT, MSE: 30.5124687773\n",
      "For RM and CRIM, MSE: 30.5124687773\n",
      "For RM and ZN, MSE: 30.5124687773\n",
      "For RM and INDUS, MSE: 30.5124687773\n",
      "For RM and CHAS, MSE: 30.5124687773\n",
      "For RM and NOX, MSE: 30.5124687773\n",
      "For RM and RM, MSE: 30.5124687773\n",
      "For RM and AGE, MSE: 30.5124687773\n",
      "For RM and DIS, MSE: 30.5124687773\n",
      "For RM and RAD, MSE: 30.5124687773\n",
      "For RM and TAX, MSE: 30.5124687773\n",
      "For RM and PTRATIO, MSE: 30.5124687773\n",
      "For RM and B, MSE: 30.5124687773\n",
      "For RM and LSTAT, MSE: 30.5124687773\n",
      "For AGE and CRIM, MSE: 30.5124687773\n",
      "For AGE and ZN, MSE: 30.5124687773\n",
      "For AGE and INDUS, MSE: 30.5124687773\n",
      "For AGE and CHAS, MSE: 30.5124687773\n",
      "For AGE and NOX, MSE: 30.5124687773\n",
      "For AGE and RM, MSE: 30.5124687773\n",
      "For AGE and AGE, MSE: 30.5124687773\n",
      "For AGE and DIS, MSE: 30.5124687773\n",
      "For AGE and RAD, MSE: 30.5124687773\n",
      "For AGE and TAX, MSE: 30.5124687773\n",
      "For AGE and PTRATIO, MSE: 30.5124687773\n",
      "For AGE and B, MSE: 30.5124687773\n",
      "For AGE and LSTAT, MSE: 30.5124687773\n",
      "For DIS and CRIM, MSE: 30.5124687773\n",
      "For DIS and ZN, MSE: 30.5124687773\n",
      "For DIS and INDUS, MSE: 30.5124687773\n",
      "For DIS and CHAS, MSE: 30.5124687773\n",
      "For DIS and NOX, MSE: 30.5124687773\n",
      "For DIS and RM, MSE: 30.5124687773\n",
      "For DIS and AGE, MSE: 30.5124687773\n",
      "For DIS and DIS, MSE: 30.5124687773\n",
      "For DIS and RAD, MSE: 30.5124687773\n",
      "For DIS and TAX, MSE: 30.5124687773\n",
      "For DIS and PTRATIO, MSE: 30.5124687773\n",
      "For DIS and B, MSE: 30.5124687773\n",
      "For DIS and LSTAT, MSE: 30.5124687773\n",
      "For RAD and CRIM, MSE: 30.5124687773\n",
      "For RAD and ZN, MSE: 30.5124687773\n",
      "For RAD and INDUS, MSE: 30.5124687773\n",
      "For RAD and CHAS, MSE: 30.5124687773\n",
      "For RAD and NOX, MSE: 30.5124687773\n",
      "For RAD and RM, MSE: 30.5124687773\n",
      "For RAD and AGE, MSE: 30.5124687773\n",
      "For RAD and DIS, MSE: 30.5124687773\n",
      "For RAD and RAD, MSE: 30.5124687773\n",
      "For RAD and TAX, MSE: 30.5124687773\n",
      "For RAD and PTRATIO, MSE: 30.5124687773\n",
      "For RAD and B, MSE: 30.5124687773\n",
      "For RAD and LSTAT, MSE: 30.5124687773\n",
      "For TAX and CRIM, MSE: 30.5124687773\n",
      "For TAX and ZN, MSE: 30.5124687773\n",
      "For TAX and INDUS, MSE: 30.5124687773\n",
      "For TAX and CHAS, MSE: 30.5124687773\n",
      "For TAX and NOX, MSE: 30.5124687773\n",
      "For TAX and RM, MSE: 30.5124687773\n",
      "For TAX and AGE, MSE: 30.5124687773\n",
      "For TAX and DIS, MSE: 30.5124687773\n",
      "For TAX and RAD, MSE: 30.5124687773\n",
      "For TAX and TAX, MSE: 30.5124687773\n",
      "For TAX and PTRATIO, MSE: 30.5124687773\n",
      "For TAX and B, MSE: 30.5124687773\n",
      "For TAX and LSTAT, MSE: 30.5124687773\n",
      "For PTRATIO and CRIM, MSE: 30.5124687773\n",
      "For PTRATIO and ZN, MSE: 30.5124687773\n",
      "For PTRATIO and INDUS, MSE: 30.5124687773\n",
      "For PTRATIO and CHAS, MSE: 30.5124687773\n",
      "For PTRATIO and NOX, MSE: 30.5124687773\n",
      "For PTRATIO and RM, MSE: 30.5124687773\n",
      "For PTRATIO and AGE, MSE: 30.5124687773\n",
      "For PTRATIO and DIS, MSE: 30.5124687773\n",
      "For PTRATIO and RAD, MSE: 30.5124687773\n",
      "For PTRATIO and TAX, MSE: 30.5124687773\n",
      "For PTRATIO and PTRATIO, MSE: 30.5124687773\n",
      "For PTRATIO and B, MSE: 30.5124687773\n",
      "For PTRATIO and LSTAT, MSE: 30.5124687773\n",
      "For B and CRIM, MSE: 30.5124687773\n",
      "For B and ZN, MSE: 30.5124687773\n",
      "For B and INDUS, MSE: 30.5124687773\n",
      "For B and CHAS, MSE: 30.5124687773\n",
      "For B and NOX, MSE: 30.5124687773\n",
      "For B and RM, MSE: 30.5124687773\n",
      "For B and AGE, MSE: 30.5124687773\n",
      "For B and DIS, MSE: 30.5124687773\n",
      "For B and RAD, MSE: 30.5124687773\n",
      "For B and TAX, MSE: 30.5124687773\n",
      "For B and PTRATIO, MSE: 30.5124687773\n",
      "For B and B, MSE: 30.5124687773\n",
      "For B and LSTAT, MSE: 30.5124687773\n",
      "For LSTAT and CRIM, MSE: 30.5124687773\n",
      "For LSTAT and ZN, MSE: 30.5124687773\n",
      "For LSTAT and INDUS, MSE: 30.5124687773\n",
      "For LSTAT and CHAS, MSE: 30.5124687773\n",
      "For LSTAT and NOX, MSE: 30.5124687773\n",
      "For LSTAT and RM, MSE: 30.5124687773\n",
      "For LSTAT and AGE, MSE: 30.5124687773\n",
      "For LSTAT and DIS, MSE: 30.5124687773\n",
      "For LSTAT and RAD, MSE: 30.5124687773\n",
      "For LSTAT and TAX, MSE: 30.5124687773\n",
      "For LSTAT and PTRATIO, MSE: 30.5124687773\n",
      "For LSTAT and B, MSE: 30.5124687773\n",
      "For LSTAT and LSTAT, MSE: 30.5124687773\n",
      "[30.51246877729947, 30.51246877729947, 30.51246877729947, 30.51246877729947, 30.51246877729947, 30.51246877729947, 30.51246877729947, 30.51246877729947, 30.51246877729947, 30.51246877729947, 30.51246877729947, 30.51246877729947, 30.51246877729947, 30.51246877729947, 30.51246877729947, 30.51246877729947, 30.51246877729947, 30.51246877729947, 30.51246877729947, 30.51246877729947, 30.51246877729947, 30.51246877729947, 30.51246877729947, 30.51246877729947, 30.51246877729947, 30.51246877729947, 30.51246877729947, 30.51246877729947, 30.51246877729947, 30.51246877729947, 30.51246877729947, 30.51246877729947, 30.51246877729947, 30.51246877729947, 30.51246877729947, 30.51246877729947, 30.51246877729947, 30.51246877729947, 30.51246877729947, 30.51246877729947, 30.51246877729947, 30.51246877729947, 30.51246877729947, 30.51246877729947, 30.51246877729947, 30.51246877729947, 30.51246877729947, 30.51246877729947, 30.51246877729947, 30.51246877729947, 30.51246877729947, 30.51246877729947, 30.51246877729947, 30.51246877729947, 30.51246877729947, 30.51246877729947, 30.51246877729947, 30.51246877729947, 30.51246877729947, 30.51246877729947, 30.51246877729947, 30.51246877729947, 30.51246877729947, 30.51246877729947, 30.51246877729947, 30.51246877729947, 30.51246877729947, 30.51246877729947, 30.51246877729947, 30.51246877729947, 30.51246877729947, 30.51246877729947, 30.51246877729947, 30.51246877729947, 30.51246877729947, 30.51246877729947, 30.51246877729947, 30.51246877729947, 30.51246877729947, 30.51246877729947, 30.51246877729947, 30.51246877729947, 30.51246877729947, 30.51246877729947, 30.51246877729947, 30.51246877729947, 30.51246877729947, 30.51246877729947, 30.51246877729947, 30.51246877729947, 30.51246877729947, 30.51246877729947, 30.51246877729947, 30.51246877729947, 30.51246877729947, 30.51246877729947, 30.51246877729947, 30.51246877729947, 30.51246877729947, 30.51246877729947, 30.51246877729947, 30.51246877729947, 30.51246877729947, 30.51246877729947, 30.51246877729947, 30.51246877729947, 30.51246877729947, 30.51246877729947, 30.51246877729947, 30.51246877729947, 30.51246877729947, 30.51246877729947, 30.51246877729947, 30.51246877729947, 30.51246877729947, 30.51246877729947, 30.51246877729947, 30.51246877729947, 30.51246877729947, 30.51246877729947, 30.51246877729947, 30.51246877729947, 30.51246877729947, 30.51246877729947, 30.51246877729947, 30.51246877729947, 30.51246877729947, 30.51246877729947, 30.51246877729947, 30.51246877729947, 30.51246877729947, 30.51246877729947, 30.51246877729947, 30.51246877729947, 30.51246877729947, 30.51246877729947, 30.51246877729947, 30.51246877729947, 30.51246877729947, 30.51246877729947, 30.51246877729947, 30.51246877729947, 30.51246877729947, 30.51246877729947, 30.51246877729947, 30.51246877729947, 30.51246877729947, 30.51246877729947, 30.51246877729947, 30.51246877729947, 30.51246877729947, 30.51246877729947, 30.51246877729947, 30.51246877729947, 30.51246877729947, 30.51246877729947, 30.51246877729947, 30.51246877729947, 30.51246877729947, 30.51246877729947, 30.51246877729947, 30.51246877729947, 30.51246877729947, 30.51246877729947, 30.51246877729947, 30.51246877729947, 30.51246877729947, 30.51246877729947, 30.51246877729947]\n"
     ]
    }
   ],
   "source": [
    "#data.feature_names already generates a list of all columns as specified above\n",
    "#why doesthis not work!?\n",
    "lst = []\n",
    "for i in data.feature_names:\n",
    "    for j in data.feature_names:\n",
    "        x = df[[i,j]]\n",
    "        y = targets['MEDV']\n",
    "        model = lm.fit(X,y)\n",
    "        predictions = model.predict(X)\n",
    "        print (\"For {} and {}, MSE: {}\".format(i,j,mean_squared_error(y, predictions)))\n",
    "        lst.append(float(mean_squared_error(y, predictions)))"
   ]
  },
  {
   "cell_type": "code",
   "execution_count": null,
   "metadata": {
    "collapsed": false
   },
   "outputs": [],
   "source": [
    "min(lst)"
   ]
  },
  {
   "cell_type": "code",
   "execution_count": null,
   "metadata": {
    "collapsed": false
   },
   "outputs": [],
   "source": [
    "df.corr()"
   ]
  },
  {
   "cell_type": "code",
   "execution_count": null,
   "metadata": {
    "collapsed": false
   },
   "outputs": [],
   "source": [
    "import seaborn as sns\n",
    "sns.heatmap(df.corr())"
   ]
  },
  {
   "cell_type": "code",
   "execution_count": null,
   "metadata": {
    "collapsed": false
   },
   "outputs": [],
   "source": [
    "# Start your exercises here\n",
    "#indVariables = ['CRIM', 'ZN', 'INDUS', 'CHAS', 'NOX', 'RM', 'AGE', 'DIS', 'RAD', 'TAX', 'PTRATIO',\n",
    "# 'B', 'LSTAT']\n",
    "#pairs = [(x,y) for x in indVariables for y in indVariables if x != y]\n",
    "#for entry in pairs:\n",
    "#    if (entry[1], entry[0]) in pairs:\n",
    "#        pairs.remove((entry[1],entry[0]))"
   ]
  },
  {
   "cell_type": "markdown",
   "metadata": {},
   "source": [
    "# Bonus Exercises\n",
    "\n",
    "From the LSTAT plot you may have noticed that the relationship is not quite linear. Add a new column `\"LSTAT2\"` to your data frame for the LSTAT values squared and try to fit a quadratic function using `[\"LSTAT\", \"LSTAT2\"]`. Is the resulting fit better or worse?"
   ]
  },
  {
   "cell_type": "code",
   "execution_count": null,
   "metadata": {
    "collapsed": true
   },
   "outputs": [],
   "source": [
    "# Start your exercises here\n",
    "df['LSTAT2'] = df['LSTAT']**2\n"
   ]
  },
  {
   "cell_type": "code",
   "execution_count": null,
   "metadata": {
    "collapsed": true
   },
   "outputs": [],
   "source": [
    "#Now just repeat everythin from above except:\n",
    "\n",
    "#X = df[['LSTAT','LSTAT2']]\n",
    "#y = targets['MEDV']"
   ]
  }
 ],
 "metadata": {
  "kernelspec": {
   "display_name": "Python 2",
   "language": "python",
   "name": "python2"
  },
  "language_info": {
   "codemirror_mode": {
    "name": "ipython",
    "version": 2
   },
   "file_extension": ".py",
   "mimetype": "text/x-python",
   "name": "python",
   "nbconvert_exporter": "python",
   "pygments_lexer": "ipython2",
   "version": "2.7.11"
  }
 },
 "nbformat": 4,
 "nbformat_minor": 0
}
