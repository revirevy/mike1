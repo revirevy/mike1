{
 "cells": [
  {
   "cell_type": "markdown",
   "metadata": {
    "focus": false,
    "id": "01a0feac-ab3d-4734-ab1e-ffaccc065b90"
   },
   "source": [
    "# Data Workflow Lab 1\n",
    "\n",
    "Clean and summarize Project 3 data.\n",
    "\n",
    "### Learning Objectives\n",
    "\n",
    "* Practice text cleaning techniques\n",
    "* Practice datatype conversion\n",
    "* Practice filling in missing values with either 0 or the average in the column\n",
    "* Practice categorical data techniques\n",
    "* Transform data into usable quantities\n"
   ]
  },
  {
   "cell_type": "code",
   "execution_count": 14,
   "metadata": {
    "collapsed": true,
    "focus": false,
    "id": "13018c95-3582-460f-ba8e-4910f7089e11"
   },
   "outputs": [],
   "source": [
    "% matplotlib inline\n",
    "import datetime\n",
    "import numpy as np\n",
    "import pandas as pd"
   ]
  },
  {
   "cell_type": "code",
   "execution_count": 15,
   "metadata": {
    "collapsed": false,
    "focus": false,
    "id": "80c8956f-2e08-49b5-90c6-f97c6a9676ad"
   },
   "outputs": [
    {
     "name": "stdout",
     "output_type": "stream",
     "text": [
      "Index([u'Date', u'Store Number', u'City', u'Zip Code', u'County Number',\n",
      "       u'County', u'Category', u'Category Name', u'Vendor Number',\n",
      "       u'Item Number', u'Item Description', u'Bottle Volume (ml)',\n",
      "       u'State Bottle Cost', u'State Bottle Retail', u'Bottles Sold',\n",
      "       u'Sale (Dollars)', u'Volume Sold (Liters)', u'Volume Sold (Gallons)'],\n",
      "      dtype='object')\n"
     ]
    }
   ],
   "source": [
    "# Load the data\n",
    "df = pd.read_csv(\"/Users/michaelmainzer/Documents/GA/DSI/mike1/01-projects/assets/03-project3-assets/Iowa_Liquor_Sales_sample.csv\")\n",
    "print df.columns"
   ]
  },
  {
   "cell_type": "markdown",
   "metadata": {
    "focus": false,
    "id": "109daac1-bb6d-4646-b71c-b45640b1124b"
   },
   "source": [
    "## Clean the data\n",
    "\n",
    "Let's practice our data cleaning skills on the Project 3 dataset. If you don't remember how to do any of these tasks, look back at your work from the previous weeks or search the internet. There are many blog articles and Stack Overflow posts that cover these topics.\n",
    "\n",
    "You'll want to complete at least the following tasks:\n",
    "* Remove redundant columns\n",
    "* Remove \"$\" prices from characters and convert values to floats.\n",
    "* Convert dates to pandas datetime objects\n",
    "* Convert category floats to integers\n",
    "* Drop or fill in bad values"
   ]
  },
  {
   "cell_type": "code",
   "execution_count": 16,
   "metadata": {
    "collapsed": true,
    "focus": false,
    "id": "4b812f89-b211-4492-a86f-fcc6eb6eaa75"
   },
   "outputs": [],
   "source": [
    "# Remove redundant columns\n",
    "del df['Volume Sold (Gallons)']"
   ]
  },
  {
   "cell_type": "code",
   "execution_count": 17,
   "metadata": {
    "collapsed": false,
    "focus": false,
    "id": "65a91dfe-b3b8-4e0e-a66a-ad156eb1758f"
   },
   "outputs": [],
   "source": [
    "# Remove $ from certain columns\n",
    "df['State Bottle Cost'] = [x.lstrip('$')for x in df['State Bottle Cost']]\n",
    "df['State Bottle Retail'] = [x.lstrip('$')for x in df['State Bottle Retail']]\n",
    "df['Sale (Dollars)'] = [x.lstrip('$')for x in df['Sale (Dollars)']]"
   ]
  },
  {
   "cell_type": "code",
   "execution_count": 18,
   "metadata": {
    "collapsed": false,
    "focus": false,
    "id": "8da1f2c8-cb92-42ba-b42d-d683631684f2"
   },
   "outputs": [],
   "source": [
    "# Convert dates\n",
    "df[\"Date\"] = pd.to_datetime(df[\"Date\"], format=\"%m/%d/%Y\")"
   ]
  },
  {
   "cell_type": "code",
   "execution_count": 19,
   "metadata": {
    "collapsed": false,
    "focus": false,
    "id": "d6f4a9b9-6989-4952-b239-00d1f8c2d92b"
   },
   "outputs": [],
   "source": [
    "# Drop or replace bad values\n",
    "\n",
    "# Convert integers\n",
    "df[['State Bottle Cost','State Bottle Retail', 'Sale (Dollars)']] = df[['State Bottle Cost','State Bottle Retail', \n",
    "                                                                        'Sale (Dollars)']].astype(float)\n"
   ]
  },
  {
   "cell_type": "code",
   "execution_count": 20,
   "metadata": {
    "collapsed": false
   },
   "outputs": [
    {
     "data": {
      "text/html": [
       "<div>\n",
       "<table border=\"1\" class=\"dataframe\">\n",
       "  <thead>\n",
       "    <tr style=\"text-align: right;\">\n",
       "      <th></th>\n",
       "      <th>Date</th>\n",
       "      <th>Store Number</th>\n",
       "      <th>City</th>\n",
       "      <th>Zip Code</th>\n",
       "      <th>County Number</th>\n",
       "      <th>County</th>\n",
       "      <th>Category</th>\n",
       "      <th>Category Name</th>\n",
       "      <th>Vendor Number</th>\n",
       "      <th>Item Number</th>\n",
       "      <th>Item Description</th>\n",
       "      <th>Bottle Volume (ml)</th>\n",
       "      <th>State Bottle Cost</th>\n",
       "      <th>State Bottle Retail</th>\n",
       "      <th>Bottles Sold</th>\n",
       "      <th>Sale (Dollars)</th>\n",
       "      <th>Volume Sold (Liters)</th>\n",
       "    </tr>\n",
       "  </thead>\n",
       "  <tbody>\n",
       "    <tr>\n",
       "      <th>0</th>\n",
       "      <td>2015-11-04</td>\n",
       "      <td>3717</td>\n",
       "      <td>SUMNER</td>\n",
       "      <td>50674</td>\n",
       "      <td>9.0</td>\n",
       "      <td>Bremer</td>\n",
       "      <td>1051100.0</td>\n",
       "      <td>APRICOT BRANDIES</td>\n",
       "      <td>55</td>\n",
       "      <td>54436</td>\n",
       "      <td>Mr. Boston Apricot Brandy</td>\n",
       "      <td>750</td>\n",
       "      <td>4.50</td>\n",
       "      <td>6.75</td>\n",
       "      <td>12</td>\n",
       "      <td>81.00</td>\n",
       "      <td>9.0</td>\n",
       "    </tr>\n",
       "    <tr>\n",
       "      <th>1</th>\n",
       "      <td>2016-03-02</td>\n",
       "      <td>2614</td>\n",
       "      <td>DAVENPORT</td>\n",
       "      <td>52807</td>\n",
       "      <td>82.0</td>\n",
       "      <td>Scott</td>\n",
       "      <td>1011100.0</td>\n",
       "      <td>BLENDED WHISKIES</td>\n",
       "      <td>395</td>\n",
       "      <td>27605</td>\n",
       "      <td>Tin Cup</td>\n",
       "      <td>750</td>\n",
       "      <td>13.75</td>\n",
       "      <td>20.63</td>\n",
       "      <td>2</td>\n",
       "      <td>41.26</td>\n",
       "      <td>1.5</td>\n",
       "    </tr>\n",
       "    <tr>\n",
       "      <th>2</th>\n",
       "      <td>2016-02-11</td>\n",
       "      <td>2106</td>\n",
       "      <td>CEDAR FALLS</td>\n",
       "      <td>50613</td>\n",
       "      <td>7.0</td>\n",
       "      <td>Black Hawk</td>\n",
       "      <td>1011200.0</td>\n",
       "      <td>STRAIGHT BOURBON WHISKIES</td>\n",
       "      <td>65</td>\n",
       "      <td>19067</td>\n",
       "      <td>Jim Beam</td>\n",
       "      <td>1000</td>\n",
       "      <td>12.59</td>\n",
       "      <td>18.89</td>\n",
       "      <td>24</td>\n",
       "      <td>453.36</td>\n",
       "      <td>24.0</td>\n",
       "    </tr>\n",
       "    <tr>\n",
       "      <th>3</th>\n",
       "      <td>2016-02-03</td>\n",
       "      <td>2501</td>\n",
       "      <td>AMES</td>\n",
       "      <td>50010</td>\n",
       "      <td>85.0</td>\n",
       "      <td>Story</td>\n",
       "      <td>1071100.0</td>\n",
       "      <td>AMERICAN COCKTAILS</td>\n",
       "      <td>395</td>\n",
       "      <td>59154</td>\n",
       "      <td>1800 Ultimate Margarita</td>\n",
       "      <td>1750</td>\n",
       "      <td>9.50</td>\n",
       "      <td>14.25</td>\n",
       "      <td>6</td>\n",
       "      <td>85.50</td>\n",
       "      <td>10.5</td>\n",
       "    </tr>\n",
       "    <tr>\n",
       "      <th>4</th>\n",
       "      <td>2015-08-18</td>\n",
       "      <td>3654</td>\n",
       "      <td>BELMOND</td>\n",
       "      <td>50421</td>\n",
       "      <td>99.0</td>\n",
       "      <td>Wright</td>\n",
       "      <td>1031080.0</td>\n",
       "      <td>VODKA 80 PROOF</td>\n",
       "      <td>297</td>\n",
       "      <td>35918</td>\n",
       "      <td>Five O'clock Vodka</td>\n",
       "      <td>1750</td>\n",
       "      <td>7.20</td>\n",
       "      <td>10.80</td>\n",
       "      <td>12</td>\n",
       "      <td>129.60</td>\n",
       "      <td>21.0</td>\n",
       "    </tr>\n",
       "  </tbody>\n",
       "</table>\n",
       "</div>"
      ],
      "text/plain": [
       "        Date  Store Number         City Zip Code  County Number      County  \\\n",
       "0 2015-11-04          3717       SUMNER    50674            9.0      Bremer   \n",
       "1 2016-03-02          2614    DAVENPORT    52807           82.0       Scott   \n",
       "2 2016-02-11          2106  CEDAR FALLS    50613            7.0  Black Hawk   \n",
       "3 2016-02-03          2501         AMES    50010           85.0       Story   \n",
       "4 2015-08-18          3654      BELMOND    50421           99.0      Wright   \n",
       "\n",
       "    Category              Category Name  Vendor Number  Item Number  \\\n",
       "0  1051100.0           APRICOT BRANDIES             55        54436   \n",
       "1  1011100.0           BLENDED WHISKIES            395        27605   \n",
       "2  1011200.0  STRAIGHT BOURBON WHISKIES             65        19067   \n",
       "3  1071100.0         AMERICAN COCKTAILS            395        59154   \n",
       "4  1031080.0             VODKA 80 PROOF            297        35918   \n",
       "\n",
       "            Item Description  Bottle Volume (ml)  State Bottle Cost  \\\n",
       "0  Mr. Boston Apricot Brandy                 750               4.50   \n",
       "1                    Tin Cup                 750              13.75   \n",
       "2                   Jim Beam                1000              12.59   \n",
       "3    1800 Ultimate Margarita                1750               9.50   \n",
       "4         Five O'clock Vodka                1750               7.20   \n",
       "\n",
       "   State Bottle Retail  Bottles Sold  Sale (Dollars)  Volume Sold (Liters)  \n",
       "0                 6.75            12           81.00                   9.0  \n",
       "1                20.63             2           41.26                   1.5  \n",
       "2                18.89            24          453.36                  24.0  \n",
       "3                14.25             6           85.50                  10.5  \n",
       "4                10.80            12          129.60                  21.0  "
      ]
     },
     "execution_count": 20,
     "metadata": {},
     "output_type": "execute_result"
    }
   ],
   "source": [
    "df.head()"
   ]
  },
  {
   "cell_type": "markdown",
   "metadata": {
    "focus": true,
    "id": "1a587fcc-ffdd-4f2c-a5f2-5e95ded0d1de"
   },
   "source": [
    "## Filter the Data\n",
    "\n",
    "Some stores may have opened or closed in 2015. These data points will heavily skew our models, so we need to filter them out or find a way to deal with them.\n",
    "\n",
    "You'll need to provide a summary in your project report about these data points. You may also consider using the monthly sales in your model and including other information (number of months or days each store is open) in your data to handle these unusual cases.\n",
    "\n",
    "Let's record the first and last sales dates for each store. We'll save this information for later when we fit our models."
   ]
  },
  {
   "cell_type": "markdown",
   "metadata": {
    "focus": false,
    "id": "9d4909a9-1295-4be1-bcf5-026c36c707a7"
   },
   "source": [
    "## Compute New Columns and Tables\n",
    "\n",
    "Since we're trying to predict sales and/or profits, we'll want to compute some intermediate data. There are a lot of ways to do thisand good use of pandas is crucial. For example, for each transaction we may want to know:\n",
    "* margin, retail cost minus bottle cost\n",
    "* price per bottle\n",
    "* price per liter\n",
    "\n",
    "We'll need to make a new dataframe that indexes quantities by store:\n",
    "* sales per store for all of 2015\n",
    "* sales per store for Q1 2015\n",
    "* sales per store for Q1 2016\n",
    "* total volumes sold\n",
    "* mean transaction revenue, gross margin, price per bottle, price per liter, etc.\n",
    "* average sales per day\n",
    "* number of days open\n",
    "\n",
    "Make sure to retain other variables that we'll want to use to build our models, such as zip code, county number, city, etc. We recommend that you spend some time thinking about the model you may want to fit and computing enough of the suggested quantities to give you a few options.\n",
    "\n",
    "Bonus tasks:\n",
    "* Restrict your attention to stores that were open for all of 2015 and Q1 2016. Stores that opened or closed in 2015 will introduce outliers into your data.\n",
    "* For each transaction we have the item category. You may be able to determine the store type (primarily wine, liquor, all types of alcohol, etc.) by the most common transaction category for each store. This could be a useful categorical variable for modelling. "
   ]
  },
  {
   "cell_type": "code",
   "execution_count": 21,
   "metadata": {
    "collapsed": false,
    "focus": false,
    "id": "a202ef16-b0d9-48e0-bed5-7d7b5be65f9f"
   },
   "outputs": [
    {
     "data": {
      "text/plain": [
       "Date                    datetime64[ns]\n",
       "Store Number                     int64\n",
       "City                            object\n",
       "Zip Code                        object\n",
       "County Number                  float64\n",
       "County                          object\n",
       "Category                       float64\n",
       "Category Name                   object\n",
       "Vendor Number                    int64\n",
       "Item Number                      int64\n",
       "Item Description                object\n",
       "Bottle Volume (ml)               int64\n",
       "State Bottle Cost              float64\n",
       "State Bottle Retail            float64\n",
       "Bottles Sold                     int64\n",
       "Sale (Dollars)                 float64\n",
       "Volume Sold (Liters)           float64\n",
       "Margin                         float64\n",
       "Price per Liter                float64\n",
       "dtype: object"
      ]
     },
     "execution_count": 21,
     "metadata": {},
     "output_type": "execute_result"
    }
   ],
   "source": [
    "# Margin and Price per liter\n",
    "df['Margin'] = df['State Bottle Retail'] - df['State Bottle Cost']\n",
    "df['Price per Liter'] = (df['State Bottle Retail'] / df['Bottle Volume (ml)'])*1000\n",
    "df.dtypes"
   ]
  },
  {
   "cell_type": "code",
   "execution_count": 23,
   "metadata": {
    "collapsed": false,
    "focus": false,
    "id": "5ea1cc63-a35c-4305-85b5-1c225a91c5d5"
   },
   "outputs": [
    {
     "data": {
      "text/html": [
       "<div>\n",
       "<table border=\"1\" class=\"dataframe\">\n",
       "  <thead>\n",
       "    <tr style=\"text-align: right;\">\n",
       "      <th></th>\n",
       "      <th>Store Number</th>\n",
       "      <th>City &lt;lambda&gt;</th>\n",
       "      <th>Sale (Dollars) sum</th>\n",
       "      <th>Sale (Dollars) mean</th>\n",
       "      <th>County Number &lt;lambda&gt;</th>\n",
       "      <th>Price per Liter mean</th>\n",
       "      <th>Zip Code &lt;lambda&gt;</th>\n",
       "      <th>Volume Sold (Liters) sum</th>\n",
       "      <th>Volume Sold (Liters) mean</th>\n",
       "      <th>Margin mean</th>\n",
       "    </tr>\n",
       "  </thead>\n",
       "  <tbody>\n",
       "    <tr>\n",
       "      <th>0</th>\n",
       "      <td>2106</td>\n",
       "      <td>CEDAR FALLS</td>\n",
       "      <td>146326.22</td>\n",
       "      <td>277.658861</td>\n",
       "      <td>7.0</td>\n",
       "      <td>17.856601</td>\n",
       "      <td>50613</td>\n",
       "      <td>9731.85</td>\n",
       "      <td>18.466509</td>\n",
       "      <td>5.166319</td>\n",
       "    </tr>\n",
       "    <tr>\n",
       "      <th>1</th>\n",
       "      <td>2113</td>\n",
       "      <td>GOWRIE</td>\n",
       "      <td>9310.22</td>\n",
       "      <td>63.334830</td>\n",
       "      <td>94.0</td>\n",
       "      <td>18.504292</td>\n",
       "      <td>50543</td>\n",
       "      <td>659.85</td>\n",
       "      <td>4.488776</td>\n",
       "      <td>5.445102</td>\n",
       "    </tr>\n",
       "    <tr>\n",
       "      <th>2</th>\n",
       "      <td>2130</td>\n",
       "      <td>WATERLOO</td>\n",
       "      <td>111871.43</td>\n",
       "      <td>285.386301</td>\n",
       "      <td>7.0</td>\n",
       "      <td>16.835669</td>\n",
       "      <td>50703</td>\n",
       "      <td>6891.37</td>\n",
       "      <td>17.580026</td>\n",
       "      <td>4.925842</td>\n",
       "    </tr>\n",
       "    <tr>\n",
       "      <th>3</th>\n",
       "      <td>2152</td>\n",
       "      <td>ROCKWELL</td>\n",
       "      <td>7721.08</td>\n",
       "      <td>54.759433</td>\n",
       "      <td>17.0</td>\n",
       "      <td>13.020983</td>\n",
       "      <td>50469</td>\n",
       "      <td>633.37</td>\n",
       "      <td>4.491986</td>\n",
       "      <td>4.322624</td>\n",
       "    </tr>\n",
       "    <tr>\n",
       "      <th>4</th>\n",
       "      <td>2178</td>\n",
       "      <td>WAUKON</td>\n",
       "      <td>24324.18</td>\n",
       "      <td>102.633671</td>\n",
       "      <td>3.0</td>\n",
       "      <td>16.062136</td>\n",
       "      <td>52172</td>\n",
       "      <td>1917.12</td>\n",
       "      <td>8.089114</td>\n",
       "      <td>4.868861</td>\n",
       "    </tr>\n",
       "  </tbody>\n",
       "</table>\n",
       "</div>"
      ],
      "text/plain": [
       "   Store Number City <lambda>  Sale (Dollars) sum  Sale (Dollars) mean  \\\n",
       "0          2106   CEDAR FALLS           146326.22           277.658861   \n",
       "1          2113        GOWRIE             9310.22            63.334830   \n",
       "2          2130      WATERLOO           111871.43           285.386301   \n",
       "3          2152      ROCKWELL             7721.08            54.759433   \n",
       "4          2178        WAUKON            24324.18           102.633671   \n",
       "\n",
       "   County Number <lambda>  Price per Liter mean Zip Code <lambda>  \\\n",
       "0                     7.0             17.856601             50613   \n",
       "1                    94.0             18.504292             50543   \n",
       "2                     7.0             16.835669             50703   \n",
       "3                    17.0             13.020983             50469   \n",
       "4                     3.0             16.062136             52172   \n",
       "\n",
       "   Volume Sold (Liters) sum  Volume Sold (Liters) mean  Margin mean  \n",
       "0                   9731.85                  18.466509     5.166319  \n",
       "1                    659.85                   4.488776     5.445102  \n",
       "2                   6891.37                  17.580026     4.925842  \n",
       "3                    633.37                   4.491986     4.322624  \n",
       "4                   1917.12                   8.089114     4.868861  "
      ]
     },
     "execution_count": 23,
     "metadata": {},
     "output_type": "execute_result"
    }
   ],
   "source": [
    "# Sales per store, 2015. Only includes stores that were open for all of 2015.\n",
    "\n",
    "# Filter by our start and end dates\n",
    "df.sort_values(by=[\"Store Number\", \"Date\"], inplace=True)\n",
    "start_date = pd.Timestamp(\"20150101\")\n",
    "end_date = pd.Timestamp(\"20151231\")\n",
    "mask = (df['Date'] >= start_date) & (df['Date'] <= end_date)\n",
    "sales = df[mask]\n",
    "\n",
    "# Group by store name\n",
    "sales = sales.groupby(by=[\"Store Number\"], as_index=False)\n",
    "# Compute sums, means\n",
    "sales = sales.agg({\"Sale (Dollars)\": [np.sum, np.mean],\n",
    "                   \"Volume Sold (Liters)\": [np.sum, np.mean],\n",
    "                   \"Margin\": np.mean,\n",
    "                   \"Price per Liter\": np.mean,\n",
    "                   \"Zip Code\": lambda x: x.iloc[0], # just extract once, should be the same\n",
    "                   \"City\": lambda x: x.iloc[0],\n",
    "                   \"County Number\": lambda x: x.iloc[0]})\n",
    "# Collapse the column indices\n",
    "sales.columns = [' '.join(col).strip() for col in sales.columns.values]\n",
    "# Rename columns\n",
    "\n",
    "# Quick check\n",
    "sales.head()"
   ]
  },
  {
   "cell_type": "code",
   "execution_count": 31,
   "metadata": {
    "collapsed": false,
    "focus": false,
    "id": "f050cf91-295e-4992-92bb-061b1f335b58"
   },
   "outputs": [
    {
     "name": "stdout",
     "output_type": "stream",
     "text": [
      "Index([u'Store Number', u'City <lambda>', u'Sale (Dollars) sum',\n",
      "       u'Sale (Dollars) mean', u'County Number <lambda>',\n",
      "       u'Price per Liter mean', u'Zip Code <lambda>',\n",
      "       u'Volume Sold (Liters) sum', u'Volume Sold (Liters) mean',\n",
      "       u'Margin mean'],\n",
      "      dtype='object')\n"
     ]
    },
    {
     "data": {
      "text/html": [
       "<div>\n",
       "<table border=\"1\" class=\"dataframe\">\n",
       "  <thead>\n",
       "    <tr style=\"text-align: right;\">\n",
       "      <th></th>\n",
       "      <th>Store Number</th>\n",
       "      <th>City</th>\n",
       "      <th>Sale (Dollars) sum</th>\n",
       "      <th>Sale (Dollars) mean</th>\n",
       "      <th>County Number</th>\n",
       "      <th>Price per Liter mean</th>\n",
       "      <th>Zip Code</th>\n",
       "      <th>Volume Sold (Liters) sum</th>\n",
       "      <th>Volume Sold (Liters) mean</th>\n",
       "      <th>Margin mean</th>\n",
       "    </tr>\n",
       "  </thead>\n",
       "  <tbody>\n",
       "    <tr>\n",
       "      <th>0</th>\n",
       "      <td>2106</td>\n",
       "      <td>CEDAR FALLS</td>\n",
       "      <td>39287.29</td>\n",
       "      <td>304.552636</td>\n",
       "      <td>7.0</td>\n",
       "      <td>17.846608</td>\n",
       "      <td>50613</td>\n",
       "      <td>2526.10</td>\n",
       "      <td>19.582171</td>\n",
       "      <td>5.033721</td>\n",
       "    </tr>\n",
       "    <tr>\n",
       "      <th>1</th>\n",
       "      <td>2113</td>\n",
       "      <td>GOWRIE</td>\n",
       "      <td>2833.25</td>\n",
       "      <td>67.458333</td>\n",
       "      <td>94.0</td>\n",
       "      <td>19.358141</td>\n",
       "      <td>50543</td>\n",
       "      <td>177.11</td>\n",
       "      <td>4.216905</td>\n",
       "      <td>5.275000</td>\n",
       "    </tr>\n",
       "    <tr>\n",
       "      <th>2</th>\n",
       "      <td>2130</td>\n",
       "      <td>WATERLOO</td>\n",
       "      <td>24272.57</td>\n",
       "      <td>278.995057</td>\n",
       "      <td>7.0</td>\n",
       "      <td>17.565430</td>\n",
       "      <td>50703</td>\n",
       "      <td>1447.25</td>\n",
       "      <td>16.635057</td>\n",
       "      <td>5.140920</td>\n",
       "    </tr>\n",
       "    <tr>\n",
       "      <th>3</th>\n",
       "      <td>2152</td>\n",
       "      <td>ROCKWELL</td>\n",
       "      <td>2003.46</td>\n",
       "      <td>62.608125</td>\n",
       "      <td>17.0</td>\n",
       "      <td>13.991012</td>\n",
       "      <td>50469</td>\n",
       "      <td>151.74</td>\n",
       "      <td>4.741875</td>\n",
       "      <td>4.836875</td>\n",
       "    </tr>\n",
       "    <tr>\n",
       "      <th>4</th>\n",
       "      <td>2178</td>\n",
       "      <td>WAUKON</td>\n",
       "      <td>5856.41</td>\n",
       "      <td>122.008542</td>\n",
       "      <td>3.0</td>\n",
       "      <td>16.724712</td>\n",
       "      <td>52172</td>\n",
       "      <td>409.81</td>\n",
       "      <td>8.537708</td>\n",
       "      <td>4.932083</td>\n",
       "    </tr>\n",
       "  </tbody>\n",
       "</table>\n",
       "</div>"
      ],
      "text/plain": [
       "   Store Number         City  Sale (Dollars) sum  Sale (Dollars) mean  \\\n",
       "0          2106  CEDAR FALLS            39287.29           304.552636   \n",
       "1          2113       GOWRIE             2833.25            67.458333   \n",
       "2          2130     WATERLOO            24272.57           278.995057   \n",
       "3          2152     ROCKWELL             2003.46            62.608125   \n",
       "4          2178       WAUKON             5856.41           122.008542   \n",
       "\n",
       "   County Number  Price per Liter mean Zip Code  Volume Sold (Liters) sum  \\\n",
       "0            7.0             17.846608    50613                   2526.10   \n",
       "1           94.0             19.358141    50543                    177.11   \n",
       "2            7.0             17.565430    50703                   1447.25   \n",
       "3           17.0             13.991012    50469                    151.74   \n",
       "4            3.0             16.724712    52172                    409.81   \n",
       "\n",
       "   Volume Sold (Liters) mean  Margin mean  \n",
       "0                  19.582171     5.033721  \n",
       "1                   4.216905     5.275000  \n",
       "2                  16.635057     5.140920  \n",
       "3                   4.741875     4.836875  \n",
       "4                   8.537708     4.932083  "
      ]
     },
     "execution_count": 31,
     "metadata": {},
     "output_type": "execute_result"
    }
   ],
   "source": [
    "# Q1 sales, may want to also use aggregate as above to have more columns (means, etc.)\n",
    "\n",
    "# Sales 2015  Q1\n",
    "df.sort_values(by=[\"Store Number\", \"Date\"], inplace=True)\n",
    "start_date2 = pd.Timestamp(\"20150101\")\n",
    "end_date2 = pd.Timestamp(\"20150331\")\n",
    "mask2 = (df['Date'] >= start_date2) & (df['Date'] <= end_date2)\n",
    "sales2015Q1 = df[mask2]\n",
    "\n",
    "sales2015Q1 = sales2015Q1.groupby(by=[\"Store Number\"], as_index=False)\n",
    "\n",
    "sales2015Q1 = sales2015Q1.agg({\"Sale (Dollars)\": [np.sum, np.mean],\n",
    "                   \"Volume Sold (Liters)\": [np.sum, np.mean],\n",
    "                   \"Margin\": np.mean,\n",
    "                   \"Price per Liter\": np.mean,\n",
    "                   \"Zip Code\": lambda x: x.iloc[0], # just extract once, should be the same\n",
    "                   \"City\": lambda x: x.iloc[0],\n",
    "                   \"County Number\": lambda x: x.iloc[0]})\n",
    "\n",
    "sales2015Q1.columns = [' '.join(col).strip() for col in sales2015Q1.columns.values]\n",
    "\n",
    "sales2015Q1.columns = [u'Store Number', u'City', u'Sale (Dollars) sum',\n",
    "       u'Sale (Dollars) mean', u'County Number',\n",
    "       u'Price per Liter mean', u'Zip Code',\n",
    "       u'Volume Sold (Liters) sum', u'Volume Sold (Liters) mean',\n",
    "       u'Margin mean']\n",
    "\n",
    "sales2015Q1.head()\n",
    "# Sales 2016 Q1"
   ]
  },
  {
   "cell_type": "markdown",
   "metadata": {
    "focus": false,
    "id": "09b1e858-47a1-463d-8e6b-7404b7d2f192"
   },
   "source": [
    "Proceed with any calculations that you need for your models, such as grouping\n",
    "sales by zip code, most common vendor number per store, etc. Once you have finished adding columns, be sure to save the dataframe."
   ]
  },
  {
   "cell_type": "code",
   "execution_count": 25,
   "metadata": {
    "collapsed": true,
    "focus": false,
    "id": "4507c673-76d5-40b8-bc95-c92209089d6c"
   },
   "outputs": [],
   "source": [
    "# Compute more things\n",
    "# ..."
   ]
  },
  {
   "cell_type": "code",
   "execution_count": 26,
   "metadata": {
    "collapsed": false,
    "focus": false,
    "id": "9f503de5-0cb6-473b-adab-c690cf0c0839"
   },
   "outputs": [],
   "source": [
    "# Save this dataframe\n",
    "\n",
    "# Let's add the dates computed above to this data.\n",
    "#sales[\"First Date\"] = dates['Date amin']\n",
    "#sales[\"Last Date\"] = dates['Date amax']\n",
    "\n",
    "#sales.to_csv(\"sales.csv\")"
   ]
  },
  {
   "cell_type": "code",
   "execution_count": null,
   "metadata": {
    "collapsed": true
   },
   "outputs": [],
   "source": []
  }
 ],
 "metadata": {
  "kernelspec": {
   "display_name": "Python 2",
   "language": "python",
   "name": "python2"
  },
  "language_info": {
   "codemirror_mode": {
    "name": "ipython",
    "version": 2
   },
   "file_extension": ".py",
   "mimetype": "text/x-python",
   "name": "python",
   "nbconvert_exporter": "python",
   "pygments_lexer": "ipython2",
   "version": "2.7.11"
  }
 },
 "nbformat": 4,
 "nbformat_minor": 0
}
