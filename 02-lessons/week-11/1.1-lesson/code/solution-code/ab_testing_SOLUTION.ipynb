{
 "cells": [
  {
   "cell_type": "code",
   "execution_count": 11,
   "metadata": {
    "collapsed": false
   },
   "outputs": [],
   "source": [
    "import numpy as np\n",
    "import scipy.stats as stats\n",
    "import pylab as pl\n",
    "import pandas as pd\n",
    "%matplotlib inline"
   ]
  },
  {
   "cell_type": "markdown",
   "metadata": {},
   "source": [
    "# Running a T-Test"
   ]
  },
  {
   "cell_type": "code",
   "execution_count": 8,
   "metadata": {
    "collapsed": false
   },
   "outputs": [
    {
     "data": {
      "image/png": "[encoded data removed]",
      "text/plain": [
       "<matplotlib.figure.Figure at 0x10e0a2490>"
      ]
     },
     "metadata": {},
     "output_type": "display_data"
    },
    {
     "data": {
      "image/png": "[encoded data removed]",
      "text/plain": [
       "<matplotlib.figure.Figure at 0x108e54c50>"
      ]
     },
     "metadata": {},
     "output_type": "display_data"
    },
    {
     "data": {
      "text/plain": [
       "Ttest_indResult(statistic=0.69880516511943469, pvalue=0.48558583698269486)"
      ]
     },
     "execution_count": 8,
     "metadata": {},
     "output_type": "execute_result"
    }
   ],
   "source": [
    "# Generate data\n",
    "a = sorted(np.random.randn(100)) \n",
    "\n",
    "# We do have more than 30 samples, but we don't know the standard deviation, so we need to do a t-test\n",
    "\n",
    "b = sorted(np.random.randn(1) * np.random.randn(80))\n",
    "\n",
    "# Plot distribution of A\n",
    "fit = stats.norm.pdf(a, np.mean(a), np.std(a))\n",
    "pl.plot(a,fit,'-o')\n",
    "pl.hist(a,normed=True) \n",
    "pl.title('Group A')\n",
    "pl.show()\n",
    "\n",
    "# Plot distribution of B\n",
    "fit = stats.norm.pdf(b, np.mean(b), np.std(b))\n",
    "pl.plot(b,fit,'-o')\n",
    "pl.hist(b,normed=True) \n",
    "pl.title('Group B')\n",
    "pl.show()\n",
    "\n",
    "# Perform T-test\n",
    "stats.ttest_ind(a, b)\n"
   ]
  },
  {
   "cell_type": "markdown",
   "metadata": {
    "collapsed": false
   },
   "source": [
    "# Running a Z-Test"
   ]
  },
  {
   "cell_type": "code",
   "execution_count": 9,
   "metadata": {
    "collapsed": false
   },
   "outputs": [],
   "source": [
    "def ztest(x1, n1, x2, n2, one_tailed=False):\n",
    "    \"\"\"\n",
    "    One- or Two-Tailed Z-test for two samples\n",
    "    \n",
    "    Args:\n",
    "        x1 = # of successes in Sample 1\n",
    "        n1 = # of observations in Sample 1\n",
    "        x2 = # of successes in Sample 2\n",
    "        n2 = # of observations in Sample 2\n",
    "        one_tailed = Boolean, whether or not the test should be One-Tailed\n",
    "        \n",
    "    Return:\n",
    "        z = Z-stat\n",
    "    \"\"\"\n",
    "    p1 = x1 / n1\n",
    "    p2 = x2 / n2    \n",
    " \n",
    "    p = (x1 + x2) / (n1 + n2)\n",
    "    se = p * (1 - p) * ((1 / n1) + (1/ n2))\n",
    "    sse = np.sqrt(se)\n",
    "    \n",
    "    z = (p1 - p2) / sse\n",
    "    p = 1 - stats.norm.cdf(abs(z))\n",
    "    \n",
    "    if not one_tailed:\n",
    "        p *= 2\n",
    "        \n",
    "    return z, p"
   ]
  },
  {
   "cell_type": "code",
   "execution_count": 33,
   "metadata": {
    "collapsed": false
   },
   "outputs": [
    {
     "data": {
      "text/plain": [
       "(-4.3299120715441166, 1.4916889162330804e-05)"
      ]
     },
     "execution_count": 33,
     "metadata": {},
     "output_type": "execute_result"
    }
   ],
   "source": [
    "# Do a test with fake data:\n",
    "\n",
    "control_observations = 3141.0 #n1\n",
    "control_successes = 1904.0 # x1\n",
    "test_observations = 3241.0 #n2\n",
    "test_successes = 2134.0 #x2\n",
    "\n",
    "ztest(control_successes, control_observations, test_successes, test_observations, one_tailed=False)"
   ]
  },
  {
   "cell_type": "code",
   "execution_count": 13,
   "metadata": {
    "collapsed": true
   },
   "outputs": [],
   "source": [
    "data = pd.read_csv('../../../../week-08/4.2-lab/assets/datasets/CTR_sim.csv')"
   ]
  },
  {
   "cell_type": "code",
   "execution_count": 14,
   "metadata": {
    "collapsed": false
   },
   "outputs": [
    {
     "data": {
      "text/html": [
       "<div>\n",
       "<table border=\"1\" class=\"dataframe\">\n",
       "  <thead>\n",
       "    <tr style=\"text-align: right;\">\n",
       "      <th></th>\n",
       "      <th>Clicks Conv</th>\n",
       "      <th>Clicks</th>\n",
       "      <th>Weekend</th>\n",
       "    </tr>\n",
       "  </thead>\n",
       "  <tbody>\n",
       "    <tr>\n",
       "      <th>0</th>\n",
       "      <td>11</td>\n",
       "      <td>19</td>\n",
       "      <td>0</td>\n",
       "    </tr>\n",
       "    <tr>\n",
       "      <th>1</th>\n",
       "      <td>10</td>\n",
       "      <td>20</td>\n",
       "      <td>0</td>\n",
       "    </tr>\n",
       "    <tr>\n",
       "      <th>2</th>\n",
       "      <td>11</td>\n",
       "      <td>17</td>\n",
       "      <td>0</td>\n",
       "    </tr>\n",
       "    <tr>\n",
       "      <th>3</th>\n",
       "      <td>15</td>\n",
       "      <td>14</td>\n",
       "      <td>0</td>\n",
       "    </tr>\n",
       "    <tr>\n",
       "      <th>4</th>\n",
       "      <td>11</td>\n",
       "      <td>18</td>\n",
       "      <td>0</td>\n",
       "    </tr>\n",
       "  </tbody>\n",
       "</table>\n",
       "</div>"
      ],
      "text/plain": [
       "   Clicks Conv  Clicks  Weekend\n",
       "0           11      19        0\n",
       "1           10      20        0\n",
       "2           11      17        0\n",
       "3           15      14        0\n",
       "4           11      18        0"
      ]
     },
     "execution_count": 14,
     "metadata": {},
     "output_type": "execute_result"
    }
   ],
   "source": [
    "data.head()"
   ]
  },
  {
   "cell_type": "code",
   "execution_count": 15,
   "metadata": {
    "collapsed": false
   },
   "outputs": [
    {
     "data": {
      "text/plain": [
       "(1000, 3)"
      ]
     },
     "execution_count": 15,
     "metadata": {},
     "output_type": "execute_result"
    }
   ],
   "source": [
    "data.shape"
   ]
  },
  {
   "cell_type": "code",
   "execution_count": 24,
   "metadata": {
    "collapsed": false
   },
   "outputs": [],
   "source": [
    "weekend = data[data['Weekend'] ==1]\n",
    "weekday = data[data['Weekend'] ==0]"
   ]
  },
  {
   "cell_type": "code",
   "execution_count": 28,
   "metadata": {
    "collapsed": false
   },
   "outputs": [
    {
     "name": "stdout",
     "output_type": "stream",
     "text": [
      "Ttest_indResult(statistic=0.79435748920170013, pvalue=0.42717619123792239)\n"
     ]
    }
   ],
   "source": [
    "# Perform T-test since we don't know the standard deviation\n",
    "print stats.ttest_ind(weekend.Clicks, weekday.Clicks) # No significant difference between clicks on weekday or weekend"
   ]
  },
  {
   "cell_type": "code",
   "execution_count": 29,
   "metadata": {
    "collapsed": false
   },
   "outputs": [
    {
     "name": "stdout",
     "output_type": "stream",
     "text": [
      "Ttest_indResult(statistic=36.188754454063677, pvalue=7.4394925319067849e-184)\n"
     ]
    }
   ],
   "source": [
    "print stats.ttest_ind(weekend['Clicks Conv'], weekday['Clicks Conv']) # Major difference between the "
   ]
  },
  {
   "cell_type": "code",
   "execution_count": 31,
   "metadata": {
    "collapsed": true
   },
   "outputs": [],
   "source": [
    "import statsmodels.stats.weightstats as ws"
   ]
  },
  {
   "cell_type": "code",
   "execution_count": 32,
   "metadata": {
    "collapsed": false
   },
   "outputs": [
    {
     "name": "stdout",
     "output_type": "stream",
     "text": [
      "(36.188754454063684, 7.4394925319067849e-184, 998.0)\n"
     ]
    }
   ],
   "source": [
    "print ws.ttest_ind(weekend['Clicks Conv'], weekday['Clicks Conv']) # Major difference between the "
   ]
  },
  {
   "cell_type": "code",
   "execution_count": null,
   "metadata": {
    "collapsed": true
   },
   "outputs": [],
   "source": []
  }
 ],
 "metadata": {
  "kernelspec": {
   "display_name": "Python 2",
   "language": "python",
   "name": "python2"
  },
  "language_info": {
   "codemirror_mode": {
    "name": "ipython",
    "version": 2
   },
   "file_extension": ".py",
   "mimetype": "text/x-python",
   "name": "python",
   "nbconvert_exporter": "python",
   "pygments_lexer": "ipython2",
   "version": "2.7.12"
  }
 },
 "nbformat": 4,
 "nbformat_minor": 0
}
