{
 "cells": [
  {
   "cell_type": "markdown",
   "metadata": {},
   "source": [
    "## Lesson 2.2: Guided Practice"
   ]
  },
  {
   "cell_type": "code",
   "execution_count": 2,
   "metadata": {
    "collapsed": true
   },
   "outputs": [],
   "source": [
    "import pandas as pd\n",
    "import numpy as np\n",
    "import os\n",
    "from matplotlib import pyplot as plt\n",
    "%matplotlib inline\n",
    "import numpy as np\n",
    "import math\n",
    "from sklearn.preprocessing import StandardScaler\n",
    "from sklearn.decomposition import PCA "
   ]
  },
  {
   "cell_type": "markdown",
   "metadata": {},
   "source": [
    "First, let's import our data. We'll be using *Iris* again for this exercise. "
   ]
  },
  {
   "cell_type": "code",
   "execution_count": 3,
   "metadata": {
    "collapsed": false
   },
   "outputs": [
    {
     "name": "stdout",
     "output_type": "stream",
     "text": [
      "/Users/michaelmainzer/Documents/GA/DSI/mike1/02-lessons/week-07/2.2-lesson/code/starter-code\r\n"
     ]
    }
   ],
   "source": [
    "!pwd"
   ]
  },
  {
   "cell_type": "code",
   "execution_count": 4,
   "metadata": {
    "collapsed": false
   },
   "outputs": [],
   "source": [
    "iris = pd.read_csv('../../assets/datasets/iris.csv')"
   ]
  },
  {
   "cell_type": "code",
   "execution_count": 5,
   "metadata": {
    "collapsed": false
   },
   "outputs": [
    {
     "data": {
      "text/html": [
       "<div>\n",
       "<table border=\"1\" class=\"dataframe\">\n",
       "  <thead>\n",
       "    <tr style=\"text-align: right;\">\n",
       "      <th></th>\n",
       "      <th>SepalLength</th>\n",
       "      <th>SepalWidth</th>\n",
       "      <th>PetalLength</th>\n",
       "      <th>PetalWidth</th>\n",
       "      <th>Name</th>\n",
       "    </tr>\n",
       "  </thead>\n",
       "  <tbody>\n",
       "    <tr>\n",
       "      <th>0</th>\n",
       "      <td>5.1</td>\n",
       "      <td>3.5</td>\n",
       "      <td>1.4</td>\n",
       "      <td>0.2</td>\n",
       "      <td>Iris-setosa</td>\n",
       "    </tr>\n",
       "    <tr>\n",
       "      <th>1</th>\n",
       "      <td>4.9</td>\n",
       "      <td>3.0</td>\n",
       "      <td>1.4</td>\n",
       "      <td>0.2</td>\n",
       "      <td>Iris-setosa</td>\n",
       "    </tr>\n",
       "    <tr>\n",
       "      <th>2</th>\n",
       "      <td>4.7</td>\n",
       "      <td>3.2</td>\n",
       "      <td>1.3</td>\n",
       "      <td>0.2</td>\n",
       "      <td>Iris-setosa</td>\n",
       "    </tr>\n",
       "    <tr>\n",
       "      <th>3</th>\n",
       "      <td>4.6</td>\n",
       "      <td>3.1</td>\n",
       "      <td>1.5</td>\n",
       "      <td>0.2</td>\n",
       "      <td>Iris-setosa</td>\n",
       "    </tr>\n",
       "    <tr>\n",
       "      <th>4</th>\n",
       "      <td>5.0</td>\n",
       "      <td>3.6</td>\n",
       "      <td>1.4</td>\n",
       "      <td>0.2</td>\n",
       "      <td>Iris-setosa</td>\n",
       "    </tr>\n",
       "  </tbody>\n",
       "</table>\n",
       "</div>"
      ],
      "text/plain": [
       "   SepalLength  SepalWidth  PetalLength  PetalWidth         Name\n",
       "0          5.1         3.5          1.4         0.2  Iris-setosa\n",
       "1          4.9         3.0          1.4         0.2  Iris-setosa\n",
       "2          4.7         3.2          1.3         0.2  Iris-setosa\n",
       "3          4.6         3.1          1.5         0.2  Iris-setosa\n",
       "4          5.0         3.6          1.4         0.2  Iris-setosa"
      ]
     },
     "execution_count": 5,
     "metadata": {},
     "output_type": "execute_result"
    }
   ],
   "source": [
    "iris.head()"
   ]
  },
  {
   "cell_type": "markdown",
   "metadata": {},
   "source": [
    "## Step 1: Split the set into two sets"
   ]
  },
  {
   "cell_type": "markdown",
   "metadata": {},
   "source": [
    "As in 2.1, let's split the set into two parts. \"X\" will be the data and \"Y\" will be the class labels."
   ]
  },
  {
   "cell_type": "code",
   "execution_count": 6,
   "metadata": {
    "collapsed": true
   },
   "outputs": [],
   "source": [
    "features = iris.iloc[:,0:4]"
   ]
  },
  {
   "cell_type": "code",
   "execution_count": 7,
   "metadata": {
    "collapsed": false
   },
   "outputs": [],
   "source": [
    "X = iris.ix[:,0:4].values\n",
    "y = iris.ix[:,4].values"
   ]
  },
  {
   "cell_type": "markdown",
   "metadata": {},
   "source": [
    "## Step 2: Explore the Data"
   ]
  },
  {
   "cell_type": "markdown",
   "metadata": {},
   "source": [
    "Next - Let's plot! You can use any plotting library of your choice, but be sure to explore all of the data. "
   ]
  },
  {
   "cell_type": "code",
   "execution_count": 8,
   "metadata": {
    "collapsed": false
   },
   "outputs": [
    {
     "data": {
      "text/plain": [
       "<seaborn.axisgrid.PairGrid at 0x1174b65d0>"
      ]
     },
     "execution_count": 8,
     "metadata": {},
     "output_type": "execute_result"
    },
    {
     "data": {
      "image/png": "[encoded data removed]",
      "text/plain": [
       "<matplotlib.figure.Figure at 0x117696990>"
      ]
     },
     "metadata": {},
     "output_type": "display_data"
    }
   ],
   "source": [
    "import seaborn as sns\n",
    "sns.pairplot(iris)"
   ]
  },
  {
   "cell_type": "markdown",
   "metadata": {},
   "source": [
    "## Step 3: Covariance Matrix"
   ]
  },
  {
   "cell_type": "markdown",
   "metadata": {},
   "source": [
    "First, standarize the data. While the Iris data attributes are all measured in the same units (cm), this is a worthwhile step for optimization and good practice for more unruly datasets!"
   ]
  },
  {
   "cell_type": "code",
   "execution_count": 9,
   "metadata": {
    "collapsed": false
   },
   "outputs": [],
   "source": [
    "x = iris.ix[:,0:4].values\n",
    "y = iris.ix[:,4].values\n",
    "xStandardized = pd.DataFrame(StandardScaler().fit_transform(x))"
   ]
  },
  {
   "cell_type": "code",
   "execution_count": 10,
   "metadata": {
    "collapsed": false
   },
   "outputs": [
    {
     "data": {
      "text/html": [
       "<div>\n",
       "<table border=\"1\" class=\"dataframe\">\n",
       "  <thead>\n",
       "    <tr style=\"text-align: right;\">\n",
       "      <th></th>\n",
       "      <th>0</th>\n",
       "      <th>1</th>\n",
       "      <th>2</th>\n",
       "      <th>3</th>\n",
       "    </tr>\n",
       "  </thead>\n",
       "  <tbody>\n",
       "    <tr>\n",
       "      <th>0</th>\n",
       "      <td>-0.900681</td>\n",
       "      <td>1.032057</td>\n",
       "      <td>-1.341272</td>\n",
       "      <td>-1.312977</td>\n",
       "    </tr>\n",
       "    <tr>\n",
       "      <th>1</th>\n",
       "      <td>-1.143017</td>\n",
       "      <td>-0.124958</td>\n",
       "      <td>-1.341272</td>\n",
       "      <td>-1.312977</td>\n",
       "    </tr>\n",
       "    <tr>\n",
       "      <th>2</th>\n",
       "      <td>-1.385353</td>\n",
       "      <td>0.337848</td>\n",
       "      <td>-1.398138</td>\n",
       "      <td>-1.312977</td>\n",
       "    </tr>\n",
       "    <tr>\n",
       "      <th>3</th>\n",
       "      <td>-1.506521</td>\n",
       "      <td>0.106445</td>\n",
       "      <td>-1.284407</td>\n",
       "      <td>-1.312977</td>\n",
       "    </tr>\n",
       "    <tr>\n",
       "      <th>4</th>\n",
       "      <td>-1.021849</td>\n",
       "      <td>1.263460</td>\n",
       "      <td>-1.341272</td>\n",
       "      <td>-1.312977</td>\n",
       "    </tr>\n",
       "    <tr>\n",
       "      <th>5</th>\n",
       "      <td>-0.537178</td>\n",
       "      <td>1.957669</td>\n",
       "      <td>-1.170675</td>\n",
       "      <td>-1.050031</td>\n",
       "    </tr>\n",
       "    <tr>\n",
       "      <th>6</th>\n",
       "      <td>-1.506521</td>\n",
       "      <td>0.800654</td>\n",
       "      <td>-1.341272</td>\n",
       "      <td>-1.181504</td>\n",
       "    </tr>\n",
       "    <tr>\n",
       "      <th>7</th>\n",
       "      <td>-1.021849</td>\n",
       "      <td>0.800654</td>\n",
       "      <td>-1.284407</td>\n",
       "      <td>-1.312977</td>\n",
       "    </tr>\n",
       "    <tr>\n",
       "      <th>8</th>\n",
       "      <td>-1.748856</td>\n",
       "      <td>-0.356361</td>\n",
       "      <td>-1.341272</td>\n",
       "      <td>-1.312977</td>\n",
       "    </tr>\n",
       "    <tr>\n",
       "      <th>9</th>\n",
       "      <td>-1.143017</td>\n",
       "      <td>0.106445</td>\n",
       "      <td>-1.284407</td>\n",
       "      <td>-1.444450</td>\n",
       "    </tr>\n",
       "    <tr>\n",
       "      <th>10</th>\n",
       "      <td>-0.537178</td>\n",
       "      <td>1.494863</td>\n",
       "      <td>-1.284407</td>\n",
       "      <td>-1.312977</td>\n",
       "    </tr>\n",
       "    <tr>\n",
       "      <th>11</th>\n",
       "      <td>-1.264185</td>\n",
       "      <td>0.800654</td>\n",
       "      <td>-1.227541</td>\n",
       "      <td>-1.312977</td>\n",
       "    </tr>\n",
       "    <tr>\n",
       "      <th>12</th>\n",
       "      <td>-1.264185</td>\n",
       "      <td>-0.124958</td>\n",
       "      <td>-1.341272</td>\n",
       "      <td>-1.444450</td>\n",
       "    </tr>\n",
       "    <tr>\n",
       "      <th>13</th>\n",
       "      <td>-1.870024</td>\n",
       "      <td>-0.124958</td>\n",
       "      <td>-1.511870</td>\n",
       "      <td>-1.444450</td>\n",
       "    </tr>\n",
       "    <tr>\n",
       "      <th>14</th>\n",
       "      <td>-0.052506</td>\n",
       "      <td>2.189072</td>\n",
       "      <td>-1.455004</td>\n",
       "      <td>-1.312977</td>\n",
       "    </tr>\n",
       "    <tr>\n",
       "      <th>15</th>\n",
       "      <td>-0.173674</td>\n",
       "      <td>3.114684</td>\n",
       "      <td>-1.284407</td>\n",
       "      <td>-1.050031</td>\n",
       "    </tr>\n",
       "    <tr>\n",
       "      <th>16</th>\n",
       "      <td>-0.537178</td>\n",
       "      <td>1.957669</td>\n",
       "      <td>-1.398138</td>\n",
       "      <td>-1.050031</td>\n",
       "    </tr>\n",
       "    <tr>\n",
       "      <th>17</th>\n",
       "      <td>-0.900681</td>\n",
       "      <td>1.032057</td>\n",
       "      <td>-1.341272</td>\n",
       "      <td>-1.181504</td>\n",
       "    </tr>\n",
       "    <tr>\n",
       "      <th>18</th>\n",
       "      <td>-0.173674</td>\n",
       "      <td>1.726266</td>\n",
       "      <td>-1.170675</td>\n",
       "      <td>-1.181504</td>\n",
       "    </tr>\n",
       "    <tr>\n",
       "      <th>19</th>\n",
       "      <td>-0.900681</td>\n",
       "      <td>1.726266</td>\n",
       "      <td>-1.284407</td>\n",
       "      <td>-1.181504</td>\n",
       "    </tr>\n",
       "    <tr>\n",
       "      <th>20</th>\n",
       "      <td>-0.537178</td>\n",
       "      <td>0.800654</td>\n",
       "      <td>-1.170675</td>\n",
       "      <td>-1.312977</td>\n",
       "    </tr>\n",
       "    <tr>\n",
       "      <th>21</th>\n",
       "      <td>-0.900681</td>\n",
       "      <td>1.494863</td>\n",
       "      <td>-1.284407</td>\n",
       "      <td>-1.050031</td>\n",
       "    </tr>\n",
       "    <tr>\n",
       "      <th>22</th>\n",
       "      <td>-1.506521</td>\n",
       "      <td>1.263460</td>\n",
       "      <td>-1.568735</td>\n",
       "      <td>-1.312977</td>\n",
       "    </tr>\n",
       "    <tr>\n",
       "      <th>23</th>\n",
       "      <td>-0.900681</td>\n",
       "      <td>0.569251</td>\n",
       "      <td>-1.170675</td>\n",
       "      <td>-0.918558</td>\n",
       "    </tr>\n",
       "    <tr>\n",
       "      <th>24</th>\n",
       "      <td>-1.264185</td>\n",
       "      <td>0.800654</td>\n",
       "      <td>-1.056944</td>\n",
       "      <td>-1.312977</td>\n",
       "    </tr>\n",
       "    <tr>\n",
       "      <th>25</th>\n",
       "      <td>-1.021849</td>\n",
       "      <td>-0.124958</td>\n",
       "      <td>-1.227541</td>\n",
       "      <td>-1.312977</td>\n",
       "    </tr>\n",
       "    <tr>\n",
       "      <th>26</th>\n",
       "      <td>-1.021849</td>\n",
       "      <td>0.800654</td>\n",
       "      <td>-1.227541</td>\n",
       "      <td>-1.050031</td>\n",
       "    </tr>\n",
       "    <tr>\n",
       "      <th>27</th>\n",
       "      <td>-0.779513</td>\n",
       "      <td>1.032057</td>\n",
       "      <td>-1.284407</td>\n",
       "      <td>-1.312977</td>\n",
       "    </tr>\n",
       "    <tr>\n",
       "      <th>28</th>\n",
       "      <td>-0.779513</td>\n",
       "      <td>0.800654</td>\n",
       "      <td>-1.341272</td>\n",
       "      <td>-1.312977</td>\n",
       "    </tr>\n",
       "    <tr>\n",
       "      <th>29</th>\n",
       "      <td>-1.385353</td>\n",
       "      <td>0.337848</td>\n",
       "      <td>-1.227541</td>\n",
       "      <td>-1.312977</td>\n",
       "    </tr>\n",
       "    <tr>\n",
       "      <th>...</th>\n",
       "      <td>...</td>\n",
       "      <td>...</td>\n",
       "      <td>...</td>\n",
       "      <td>...</td>\n",
       "    </tr>\n",
       "    <tr>\n",
       "      <th>120</th>\n",
       "      <td>1.280340</td>\n",
       "      <td>0.337848</td>\n",
       "      <td>1.103953</td>\n",
       "      <td>1.447956</td>\n",
       "    </tr>\n",
       "    <tr>\n",
       "      <th>121</th>\n",
       "      <td>-0.294842</td>\n",
       "      <td>-0.587764</td>\n",
       "      <td>0.649027</td>\n",
       "      <td>1.053537</td>\n",
       "    </tr>\n",
       "    <tr>\n",
       "      <th>122</th>\n",
       "      <td>2.249683</td>\n",
       "      <td>-0.587764</td>\n",
       "      <td>1.672610</td>\n",
       "      <td>1.053537</td>\n",
       "    </tr>\n",
       "    <tr>\n",
       "      <th>123</th>\n",
       "      <td>0.553333</td>\n",
       "      <td>-0.819166</td>\n",
       "      <td>0.649027</td>\n",
       "      <td>0.790591</td>\n",
       "    </tr>\n",
       "    <tr>\n",
       "      <th>124</th>\n",
       "      <td>1.038005</td>\n",
       "      <td>0.569251</td>\n",
       "      <td>1.103953</td>\n",
       "      <td>1.185010</td>\n",
       "    </tr>\n",
       "    <tr>\n",
       "      <th>125</th>\n",
       "      <td>1.643844</td>\n",
       "      <td>0.337848</td>\n",
       "      <td>1.274550</td>\n",
       "      <td>0.790591</td>\n",
       "    </tr>\n",
       "    <tr>\n",
       "      <th>126</th>\n",
       "      <td>0.432165</td>\n",
       "      <td>-0.587764</td>\n",
       "      <td>0.592162</td>\n",
       "      <td>0.790591</td>\n",
       "    </tr>\n",
       "    <tr>\n",
       "      <th>127</th>\n",
       "      <td>0.310998</td>\n",
       "      <td>-0.124958</td>\n",
       "      <td>0.649027</td>\n",
       "      <td>0.790591</td>\n",
       "    </tr>\n",
       "    <tr>\n",
       "      <th>128</th>\n",
       "      <td>0.674501</td>\n",
       "      <td>-0.587764</td>\n",
       "      <td>1.047087</td>\n",
       "      <td>1.185010</td>\n",
       "    </tr>\n",
       "    <tr>\n",
       "      <th>129</th>\n",
       "      <td>1.643844</td>\n",
       "      <td>-0.124958</td>\n",
       "      <td>1.160819</td>\n",
       "      <td>0.527645</td>\n",
       "    </tr>\n",
       "    <tr>\n",
       "      <th>130</th>\n",
       "      <td>1.886180</td>\n",
       "      <td>-0.587764</td>\n",
       "      <td>1.331416</td>\n",
       "      <td>0.922064</td>\n",
       "    </tr>\n",
       "    <tr>\n",
       "      <th>131</th>\n",
       "      <td>2.492019</td>\n",
       "      <td>1.726266</td>\n",
       "      <td>1.502013</td>\n",
       "      <td>1.053537</td>\n",
       "    </tr>\n",
       "    <tr>\n",
       "      <th>132</th>\n",
       "      <td>0.674501</td>\n",
       "      <td>-0.587764</td>\n",
       "      <td>1.047087</td>\n",
       "      <td>1.316483</td>\n",
       "    </tr>\n",
       "    <tr>\n",
       "      <th>133</th>\n",
       "      <td>0.553333</td>\n",
       "      <td>-0.587764</td>\n",
       "      <td>0.762759</td>\n",
       "      <td>0.396172</td>\n",
       "    </tr>\n",
       "    <tr>\n",
       "      <th>134</th>\n",
       "      <td>0.310998</td>\n",
       "      <td>-1.050569</td>\n",
       "      <td>1.047087</td>\n",
       "      <td>0.264699</td>\n",
       "    </tr>\n",
       "    <tr>\n",
       "      <th>135</th>\n",
       "      <td>2.249683</td>\n",
       "      <td>-0.124958</td>\n",
       "      <td>1.331416</td>\n",
       "      <td>1.447956</td>\n",
       "    </tr>\n",
       "    <tr>\n",
       "      <th>136</th>\n",
       "      <td>0.553333</td>\n",
       "      <td>0.800654</td>\n",
       "      <td>1.047087</td>\n",
       "      <td>1.579429</td>\n",
       "    </tr>\n",
       "    <tr>\n",
       "      <th>137</th>\n",
       "      <td>0.674501</td>\n",
       "      <td>0.106445</td>\n",
       "      <td>0.990221</td>\n",
       "      <td>0.790591</td>\n",
       "    </tr>\n",
       "    <tr>\n",
       "      <th>138</th>\n",
       "      <td>0.189830</td>\n",
       "      <td>-0.124958</td>\n",
       "      <td>0.592162</td>\n",
       "      <td>0.790591</td>\n",
       "    </tr>\n",
       "    <tr>\n",
       "      <th>139</th>\n",
       "      <td>1.280340</td>\n",
       "      <td>0.106445</td>\n",
       "      <td>0.933356</td>\n",
       "      <td>1.185010</td>\n",
       "    </tr>\n",
       "    <tr>\n",
       "      <th>140</th>\n",
       "      <td>1.038005</td>\n",
       "      <td>0.106445</td>\n",
       "      <td>1.047087</td>\n",
       "      <td>1.579429</td>\n",
       "    </tr>\n",
       "    <tr>\n",
       "      <th>141</th>\n",
       "      <td>1.280340</td>\n",
       "      <td>0.106445</td>\n",
       "      <td>0.762759</td>\n",
       "      <td>1.447956</td>\n",
       "    </tr>\n",
       "    <tr>\n",
       "      <th>142</th>\n",
       "      <td>-0.052506</td>\n",
       "      <td>-0.819166</td>\n",
       "      <td>0.762759</td>\n",
       "      <td>0.922064</td>\n",
       "    </tr>\n",
       "    <tr>\n",
       "      <th>143</th>\n",
       "      <td>1.159173</td>\n",
       "      <td>0.337848</td>\n",
       "      <td>1.217684</td>\n",
       "      <td>1.447956</td>\n",
       "    </tr>\n",
       "    <tr>\n",
       "      <th>144</th>\n",
       "      <td>1.038005</td>\n",
       "      <td>0.569251</td>\n",
       "      <td>1.103953</td>\n",
       "      <td>1.710902</td>\n",
       "    </tr>\n",
       "    <tr>\n",
       "      <th>145</th>\n",
       "      <td>1.038005</td>\n",
       "      <td>-0.124958</td>\n",
       "      <td>0.819624</td>\n",
       "      <td>1.447956</td>\n",
       "    </tr>\n",
       "    <tr>\n",
       "      <th>146</th>\n",
       "      <td>0.553333</td>\n",
       "      <td>-1.281972</td>\n",
       "      <td>0.705893</td>\n",
       "      <td>0.922064</td>\n",
       "    </tr>\n",
       "    <tr>\n",
       "      <th>147</th>\n",
       "      <td>0.795669</td>\n",
       "      <td>-0.124958</td>\n",
       "      <td>0.819624</td>\n",
       "      <td>1.053537</td>\n",
       "    </tr>\n",
       "    <tr>\n",
       "      <th>148</th>\n",
       "      <td>0.432165</td>\n",
       "      <td>0.800654</td>\n",
       "      <td>0.933356</td>\n",
       "      <td>1.447956</td>\n",
       "    </tr>\n",
       "    <tr>\n",
       "      <th>149</th>\n",
       "      <td>0.068662</td>\n",
       "      <td>-0.124958</td>\n",
       "      <td>0.762759</td>\n",
       "      <td>0.790591</td>\n",
       "    </tr>\n",
       "  </tbody>\n",
       "</table>\n",
       "<p>150 rows × 4 columns</p>\n",
       "</div>"
      ],
      "text/plain": [
       "            0         1         2         3\n",
       "0   -0.900681  1.032057 -1.341272 -1.312977\n",
       "1   -1.143017 -0.124958 -1.341272 -1.312977\n",
       "2   -1.385353  0.337848 -1.398138 -1.312977\n",
       "3   -1.506521  0.106445 -1.284407 -1.312977\n",
       "4   -1.021849  1.263460 -1.341272 -1.312977\n",
       "5   -0.537178  1.957669 -1.170675 -1.050031\n",
       "6   -1.506521  0.800654 -1.341272 -1.181504\n",
       "7   -1.021849  0.800654 -1.284407 -1.312977\n",
       "8   -1.748856 -0.356361 -1.341272 -1.312977\n",
       "9   -1.143017  0.106445 -1.284407 -1.444450\n",
       "10  -0.537178  1.494863 -1.284407 -1.312977\n",
       "11  -1.264185  0.800654 -1.227541 -1.312977\n",
       "12  -1.264185 -0.124958 -1.341272 -1.444450\n",
       "13  -1.870024 -0.124958 -1.511870 -1.444450\n",
       "14  -0.052506  2.189072 -1.455004 -1.312977\n",
       "15  -0.173674  3.114684 -1.284407 -1.050031\n",
       "16  -0.537178  1.957669 -1.398138 -1.050031\n",
       "17  -0.900681  1.032057 -1.341272 -1.181504\n",
       "18  -0.173674  1.726266 -1.170675 -1.181504\n",
       "19  -0.900681  1.726266 -1.284407 -1.181504\n",
       "20  -0.537178  0.800654 -1.170675 -1.312977\n",
       "21  -0.900681  1.494863 -1.284407 -1.050031\n",
       "22  -1.506521  1.263460 -1.568735 -1.312977\n",
       "23  -0.900681  0.569251 -1.170675 -0.918558\n",
       "24  -1.264185  0.800654 -1.056944 -1.312977\n",
       "25  -1.021849 -0.124958 -1.227541 -1.312977\n",
       "26  -1.021849  0.800654 -1.227541 -1.050031\n",
       "27  -0.779513  1.032057 -1.284407 -1.312977\n",
       "28  -0.779513  0.800654 -1.341272 -1.312977\n",
       "29  -1.385353  0.337848 -1.227541 -1.312977\n",
       "..        ...       ...       ...       ...\n",
       "120  1.280340  0.337848  1.103953  1.447956\n",
       "121 -0.294842 -0.587764  0.649027  1.053537\n",
       "122  2.249683 -0.587764  1.672610  1.053537\n",
       "123  0.553333 -0.819166  0.649027  0.790591\n",
       "124  1.038005  0.569251  1.103953  1.185010\n",
       "125  1.643844  0.337848  1.274550  0.790591\n",
       "126  0.432165 -0.587764  0.592162  0.790591\n",
       "127  0.310998 -0.124958  0.649027  0.790591\n",
       "128  0.674501 -0.587764  1.047087  1.185010\n",
       "129  1.643844 -0.124958  1.160819  0.527645\n",
       "130  1.886180 -0.587764  1.331416  0.922064\n",
       "131  2.492019  1.726266  1.502013  1.053537\n",
       "132  0.674501 -0.587764  1.047087  1.316483\n",
       "133  0.553333 -0.587764  0.762759  0.396172\n",
       "134  0.310998 -1.050569  1.047087  0.264699\n",
       "135  2.249683 -0.124958  1.331416  1.447956\n",
       "136  0.553333  0.800654  1.047087  1.579429\n",
       "137  0.674501  0.106445  0.990221  0.790591\n",
       "138  0.189830 -0.124958  0.592162  0.790591\n",
       "139  1.280340  0.106445  0.933356  1.185010\n",
       "140  1.038005  0.106445  1.047087  1.579429\n",
       "141  1.280340  0.106445  0.762759  1.447956\n",
       "142 -0.052506 -0.819166  0.762759  0.922064\n",
       "143  1.159173  0.337848  1.217684  1.447956\n",
       "144  1.038005  0.569251  1.103953  1.710902\n",
       "145  1.038005 -0.124958  0.819624  1.447956\n",
       "146  0.553333 -1.281972  0.705893  0.922064\n",
       "147  0.795669 -0.124958  0.819624  1.053537\n",
       "148  0.432165  0.800654  0.933356  1.447956\n",
       "149  0.068662 -0.124958  0.762759  0.790591\n",
       "\n",
       "[150 rows x 4 columns]"
      ]
     },
     "execution_count": 10,
     "metadata": {},
     "output_type": "execute_result"
    }
   ],
   "source": [
    "xStandardized"
   ]
  },
  {
   "cell_type": "markdown",
   "metadata": {},
   "source": [
    "Now, let's set up our data for decomposition by creating a covariance matrix"
   ]
  },
  {
   "cell_type": "code",
   "execution_count": 11,
   "metadata": {
    "collapsed": false
   },
   "outputs": [
    {
     "data": {
      "text/plain": [
       "array([[ 1.00671141, -0.11010327,  0.87760486,  0.82344326],\n",
       "       [-0.11010327,  1.00671141, -0.42333835, -0.358937  ],\n",
       "       [ 0.87760486, -0.42333835,  1.00671141,  0.96921855],\n",
       "       [ 0.82344326, -0.358937  ,  0.96921855,  1.00671141]])"
      ]
     },
     "execution_count": 11,
     "metadata": {},
     "output_type": "execute_result"
    }
   ],
   "source": [
    "cov_mat = np.cov(xStandardized.T)\n",
    "cov_mat"
   ]
  },
  {
   "cell_type": "markdown",
   "metadata": {},
   "source": [
    "Decompose the the covariance matrix to find the eigenvalues"
   ]
  },
  {
   "cell_type": "markdown",
   "metadata": {},
   "source": [
    "## Step 4. Eigenvalues and Eigenvectors"
   ]
  },
  {
   "cell_type": "code",
   "execution_count": 12,
   "metadata": {
    "collapsed": false
   },
   "outputs": [],
   "source": [
    "eigenValues, eigenVectors = np.linalg.eig(cov_mat)"
   ]
  },
  {
   "cell_type": "code",
   "execution_count": 13,
   "metadata": {
    "collapsed": false
   },
   "outputs": [
    {
     "name": "stdout",
     "output_type": "stream",
     "text": [
      "[ 2.93035378  0.92740362  0.14834223  0.02074601]\n"
     ]
    }
   ],
   "source": [
    "print eigenValues"
   ]
  },
  {
   "cell_type": "code",
   "execution_count": 14,
   "metadata": {
    "collapsed": false
   },
   "outputs": [
    {
     "name": "stdout",
     "output_type": "stream",
     "text": [
      "[[ 0.52237162 -0.37231836 -0.72101681  0.26199559]\n",
      " [-0.26335492 -0.92555649  0.24203288 -0.12413481]\n",
      " [ 0.58125401 -0.02109478  0.14089226 -0.80115427]\n",
      " [ 0.56561105 -0.06541577  0.6338014   0.52354627]]\n"
     ]
    }
   ],
   "source": [
    "print eigenVectors"
   ]
  },
  {
   "cell_type": "markdown",
   "metadata": {},
   "source": [
    "**Question**: What is the relationship between these eigenvectors/values and the covariance matrix? "
   ]
  },
  {
   "cell_type": "markdown",
   "metadata": {},
   "source": [
    "Calculate the Eigen Pairs using the method we just learned"
   ]
  },
  {
   "cell_type": "code",
   "execution_count": 15,
   "metadata": {
    "collapsed": false
   },
   "outputs": [
    {
     "data": {
      "text/plain": [
       "(array([ 2.93035378,  0.92740362,  0.14834223,  0.02074601]),\n",
       " array([[ 0.52237162, -0.37231836, -0.72101681,  0.26199559],\n",
       "        [-0.26335492, -0.92555649,  0.24203288, -0.12413481],\n",
       "        [ 0.58125401, -0.02109478,  0.14089226, -0.80115427],\n",
       "        [ 0.56561105, -0.06541577,  0.6338014 ,  0.52354627]]))"
      ]
     },
     "execution_count": 15,
     "metadata": {},
     "output_type": "execute_result"
    }
   ],
   "source": [
    "eigenValues, eigenVectors"
   ]
  },
  {
   "cell_type": "markdown",
   "metadata": {},
   "source": [
    "Now, sort the eigenpairs from highest to lowest"
   ]
  },
  {
   "cell_type": "code",
   "execution_count": 16,
   "metadata": {
    "collapsed": false
   },
   "outputs": [],
   "source": [
    "eigenPairs = [(np.abs(eigenValues[i]), eigenVectors[:,i]) for i in range(len(eigenValues))]"
   ]
  },
  {
   "cell_type": "code",
   "execution_count": 17,
   "metadata": {
    "collapsed": false
   },
   "outputs": [
    {
     "data": {
      "text/plain": [
       "[(2.930353775589317,\n",
       "  array([ 0.52237162, -0.26335492,  0.58125401,  0.56561105])),\n",
       " (0.92740362151734101,\n",
       "  array([-0.37231836, -0.92555649, -0.02109478, -0.06541577])),\n",
       " (0.14834222648163989,\n",
       "  array([-0.72101681,  0.24203288,  0.14089226,  0.6338014 ])),\n",
       " (0.020746013995596078,\n",
       "  array([ 0.26199559, -0.12413481, -0.80115427,  0.52354627]))]"
      ]
     },
     "execution_count": 17,
     "metadata": {},
     "output_type": "execute_result"
    }
   ],
   "source": [
    "eigenPairs"
   ]
  },
  {
   "cell_type": "code",
   "execution_count": 18,
   "metadata": {
    "collapsed": false
   },
   "outputs": [
    {
     "name": "stdout",
     "output_type": "stream",
     "text": [
      "2.93035377559\n",
      "0.927403621517\n",
      "0.148342226482\n",
      "0.0207460139956\n"
     ]
    }
   ],
   "source": [
    "eigenPairs.sort()\n",
    "eigenPairs.reverse()\n",
    "for i in eigenPairs:\n",
    "    print (i[0])"
   ]
  },
  {
   "cell_type": "markdown",
   "metadata": {},
   "source": [
    "## Explained Variance"
   ]
  },
  {
   "cell_type": "code",
   "execution_count": 19,
   "metadata": {
    "collapsed": false
   },
   "outputs": [],
   "source": [
    "eigenValSum = sum(eigenValues)\n"
   ]
  },
  {
   "cell_type": "code",
   "execution_count": 20,
   "metadata": {
    "collapsed": false
   },
   "outputs": [
    {
     "data": {
      "text/plain": [
       "4.0268456375838939"
      ]
     },
     "execution_count": 20,
     "metadata": {},
     "output_type": "execute_result"
    }
   ],
   "source": [
    "eigenValSum"
   ]
  },
  {
   "cell_type": "markdown",
   "metadata": {},
   "source": [
    "Now, calculate the explained variance and the Cumulative explained variance"
   ]
  },
  {
   "cell_type": "code",
   "execution_count": 21,
   "metadata": {
    "collapsed": false
   },
   "outputs": [],
   "source": [
    "varianceExplained = [(i / eigenValSum)*100 for i in sorted(eigenValues, reverse=True)]\n",
    "cumulativeVarianceexplained = np.cumsum(varianceExplained)"
   ]
  },
  {
   "cell_type": "code",
   "execution_count": 22,
   "metadata": {
    "collapsed": false
   },
   "outputs": [
    {
     "data": {
      "text/plain": [
       "[72.770452093801353,\n",
       " 23.030523267680628,\n",
       " 3.683831957627389,\n",
       " 0.51519268089063575]"
      ]
     },
     "execution_count": 22,
     "metadata": {},
     "output_type": "execute_result"
    }
   ],
   "source": [
    "varianceExplained"
   ]
  },
  {
   "cell_type": "code",
   "execution_count": 23,
   "metadata": {
    "collapsed": false
   },
   "outputs": [
    {
     "data": {
      "text/plain": [
       "array([  72.77045209,   95.80097536,   99.48480732,  100.        ])"
      ]
     },
     "execution_count": 23,
     "metadata": {},
     "output_type": "execute_result"
    }
   ],
   "source": [
    "cumulativeVarianceexplained"
   ]
  },
  {
   "cell_type": "code",
   "execution_count": 24,
   "metadata": {
    "collapsed": false
   },
   "outputs": [
    {
     "data": {
      "image/png": "[encoded data removed]",
      "text/plain": [
       "<matplotlib.figure.Figure at 0x11c0dfe10>"
      ]
     },
     "metadata": {},
     "output_type": "display_data"
    }
   ],
   "source": [
    "with plt.style.context('seaborn-whitegrid'):\n",
    "    plt.figure(figsize=(6, 4))\n",
    "\n",
    "    plt.bar(range(4), varianceExplained, alpha=0.5, align='center',\n",
    "            label='individual explained variance')\n",
    "    plt.step(range(4), cumulativeVarianceexplained, where='mid',\n",
    "             label='cumulative explained variance')\n",
    "    plt.ylabel('Explained variance ratio')\n",
    "    plt.xlabel('Principal components')\n",
    "    plt.legend(loc='best')\n",
    "    plt.tight_layout()"
   ]
  },
  {
   "cell_type": "markdown",
   "metadata": {
    "collapsed": true
   },
   "source": [
    "## Projection Matrix"
   ]
  },
  {
   "cell_type": "markdown",
   "metadata": {},
   "source": [
    "Create the projection Matrix - Note: when calling \"reshape,\" the x length \"4\" corresponds to the length of the data attributes"
   ]
  },
  {
   "cell_type": "code",
   "execution_count": 25,
   "metadata": {
    "collapsed": false
   },
   "outputs": [],
   "source": [
    "Pmatrix = np.hstack((eigenPairs[0][1].reshape(4,1), eigenPairs[1][1].reshape(4,1)))"
   ]
  },
  {
   "cell_type": "markdown",
   "metadata": {},
   "source": [
    "Calculate the dot product for the projection"
   ]
  },
  {
   "cell_type": "code",
   "execution_count": 26,
   "metadata": {
    "collapsed": false
   },
   "outputs": [
    {
     "data": {
      "text/plain": [
       "array([[ 0.52237162, -0.37231836],\n",
       "       [-0.26335492, -0.92555649],\n",
       "       [ 0.58125401, -0.02109478],\n",
       "       [ 0.56561105, -0.06541577]])"
      ]
     },
     "execution_count": 26,
     "metadata": {},
     "output_type": "execute_result"
    }
   ],
   "source": [
    "Pmatrix"
   ]
  },
  {
   "cell_type": "code",
   "execution_count": 27,
   "metadata": {
    "collapsed": true
   },
   "outputs": [],
   "source": [
    "Y = xStandardized.dot(Pmatrix)"
   ]
  },
  {
   "cell_type": "code",
   "execution_count": 28,
   "metadata": {
    "collapsed": false
   },
   "outputs": [
    {
     "data": {
      "text/html": [
       "<div>\n",
       "<table border=\"1\" class=\"dataframe\">\n",
       "  <thead>\n",
       "    <tr style=\"text-align: right;\">\n",
       "      <th></th>\n",
       "      <th>0</th>\n",
       "      <th>1</th>\n",
       "    </tr>\n",
       "  </thead>\n",
       "  <tbody>\n",
       "    <tr>\n",
       "      <th>0</th>\n",
       "      <td>-2.264542</td>\n",
       "      <td>-0.505704</td>\n",
       "    </tr>\n",
       "    <tr>\n",
       "      <th>1</th>\n",
       "      <td>-2.086426</td>\n",
       "      <td>0.655405</td>\n",
       "    </tr>\n",
       "    <tr>\n",
       "      <th>2</th>\n",
       "      <td>-2.367950</td>\n",
       "      <td>0.318477</td>\n",
       "    </tr>\n",
       "    <tr>\n",
       "      <th>3</th>\n",
       "      <td>-2.304197</td>\n",
       "      <td>0.575368</td>\n",
       "    </tr>\n",
       "    <tr>\n",
       "      <th>4</th>\n",
       "      <td>-2.388777</td>\n",
       "      <td>-0.674767</td>\n",
       "    </tr>\n",
       "    <tr>\n",
       "      <th>5</th>\n",
       "      <td>-2.070537</td>\n",
       "      <td>-1.518549</td>\n",
       "    </tr>\n",
       "    <tr>\n",
       "      <th>6</th>\n",
       "      <td>-2.445711</td>\n",
       "      <td>-0.074563</td>\n",
       "    </tr>\n",
       "    <tr>\n",
       "      <th>7</th>\n",
       "      <td>-2.233842</td>\n",
       "      <td>-0.247614</td>\n",
       "    </tr>\n",
       "    <tr>\n",
       "      <th>8</th>\n",
       "      <td>-2.341958</td>\n",
       "      <td>1.095146</td>\n",
       "    </tr>\n",
       "    <tr>\n",
       "      <th>9</th>\n",
       "      <td>-2.188676</td>\n",
       "      <td>0.448629</td>\n",
       "    </tr>\n",
       "    <tr>\n",
       "      <th>10</th>\n",
       "      <td>-2.163487</td>\n",
       "      <td>-1.070596</td>\n",
       "    </tr>\n",
       "    <tr>\n",
       "      <th>11</th>\n",
       "      <td>-2.327378</td>\n",
       "      <td>-0.158587</td>\n",
       "    </tr>\n",
       "    <tr>\n",
       "      <th>12</th>\n",
       "      <td>-2.224083</td>\n",
       "      <td>0.709118</td>\n",
       "    </tr>\n",
       "    <tr>\n",
       "      <th>13</th>\n",
       "      <td>-2.639716</td>\n",
       "      <td>0.938282</td>\n",
       "    </tr>\n",
       "    <tr>\n",
       "      <th>14</th>\n",
       "      <td>-2.192292</td>\n",
       "      <td>-1.889979</td>\n",
       "    </tr>\n",
       "    <tr>\n",
       "      <th>15</th>\n",
       "      <td>-2.251465</td>\n",
       "      <td>-2.722371</td>\n",
       "    </tr>\n",
       "    <tr>\n",
       "      <th>16</th>\n",
       "      <td>-2.202750</td>\n",
       "      <td>-1.513750</td>\n",
       "    </tr>\n",
       "    <tr>\n",
       "      <th>17</th>\n",
       "      <td>-2.190179</td>\n",
       "      <td>-0.514304</td>\n",
       "    </tr>\n",
       "    <tr>\n",
       "      <th>18</th>\n",
       "      <td>-1.894074</td>\n",
       "      <td>-1.431111</td>\n",
       "    </tr>\n",
       "    <tr>\n",
       "      <th>19</th>\n",
       "      <td>-2.339949</td>\n",
       "      <td>-1.158033</td>\n",
       "    </tr>\n",
       "    <tr>\n",
       "      <th>20</th>\n",
       "      <td>-1.914556</td>\n",
       "      <td>-0.430465</td>\n",
       "    </tr>\n",
       "    <tr>\n",
       "      <th>21</th>\n",
       "      <td>-2.204645</td>\n",
       "      <td>-0.952457</td>\n",
       "    </tr>\n",
       "    <tr>\n",
       "      <th>22</th>\n",
       "      <td>-2.774170</td>\n",
       "      <td>-0.489517</td>\n",
       "    </tr>\n",
       "    <tr>\n",
       "      <th>23</th>\n",
       "      <td>-1.820412</td>\n",
       "      <td>-0.106751</td>\n",
       "    </tr>\n",
       "    <tr>\n",
       "      <th>24</th>\n",
       "      <td>-2.228217</td>\n",
       "      <td>-0.162186</td>\n",
       "    </tr>\n",
       "    <tr>\n",
       "      <th>25</th>\n",
       "      <td>-1.957024</td>\n",
       "      <td>0.607893</td>\n",
       "    </tr>\n",
       "    <tr>\n",
       "      <th>26</th>\n",
       "      <td>-2.052063</td>\n",
       "      <td>-0.266014</td>\n",
       "    </tr>\n",
       "    <tr>\n",
       "      <th>27</th>\n",
       "      <td>-2.168194</td>\n",
       "      <td>-0.552016</td>\n",
       "    </tr>\n",
       "    <tr>\n",
       "      <th>28</th>\n",
       "      <td>-2.140306</td>\n",
       "      <td>-0.336640</td>\n",
       "    </tr>\n",
       "    <tr>\n",
       "      <th>29</th>\n",
       "      <td>-2.268790</td>\n",
       "      <td>0.314879</td>\n",
       "    </tr>\n",
       "    <tr>\n",
       "      <th>...</th>\n",
       "      <td>...</td>\n",
       "      <td>...</td>\n",
       "    </tr>\n",
       "    <tr>\n",
       "      <th>120</th>\n",
       "      <td>2.040496</td>\n",
       "      <td>-0.907399</td>\n",
       "    </tr>\n",
       "    <tr>\n",
       "      <th>121</th>\n",
       "      <td>0.973915</td>\n",
       "      <td>0.571174</td>\n",
       "    </tr>\n",
       "    <tr>\n",
       "      <th>122</th>\n",
       "      <td>2.898064</td>\n",
       "      <td>-0.397791</td>\n",
       "    </tr>\n",
       "    <tr>\n",
       "      <th>123</th>\n",
       "      <td>1.329194</td>\n",
       "      <td>0.486761</td>\n",
       "    </tr>\n",
       "    <tr>\n",
       "      <th>124</th>\n",
       "      <td>1.704241</td>\n",
       "      <td>-1.014148</td>\n",
       "    </tr>\n",
       "    <tr>\n",
       "      <th>125</th>\n",
       "      <td>1.957728</td>\n",
       "      <td>-1.003335</td>\n",
       "    </tr>\n",
       "    <tr>\n",
       "      <th>126</th>\n",
       "      <td>1.171905</td>\n",
       "      <td>0.318897</td>\n",
       "    </tr>\n",
       "    <tr>\n",
       "      <th>127</th>\n",
       "      <td>1.019781</td>\n",
       "      <td>-0.065543</td>\n",
       "    </tr>\n",
       "    <tr>\n",
       "      <th>128</th>\n",
       "      <td>1.786009</td>\n",
       "      <td>0.193273</td>\n",
       "    </tr>\n",
       "    <tr>\n",
       "      <th>129</th>\n",
       "      <td>1.864778</td>\n",
       "      <td>-0.555382</td>\n",
       "    </tr>\n",
       "    <tr>\n",
       "      <th>130</th>\n",
       "      <td>2.435497</td>\n",
       "      <td>-0.246654</td>\n",
       "    </tr>\n",
       "    <tr>\n",
       "      <th>131</th>\n",
       "      <td>2.316082</td>\n",
       "      <td>-2.626184</td>\n",
       "    </tr>\n",
       "    <tr>\n",
       "      <th>132</th>\n",
       "      <td>1.860371</td>\n",
       "      <td>0.184672</td>\n",
       "    </tr>\n",
       "    <tr>\n",
       "      <th>133</th>\n",
       "      <td>1.111272</td>\n",
       "      <td>0.295986</td>\n",
       "    </tr>\n",
       "    <tr>\n",
       "      <th>134</th>\n",
       "      <td>1.197469</td>\n",
       "      <td>0.817168</td>\n",
       "    </tr>\n",
       "    <tr>\n",
       "      <th>135</th>\n",
       "      <td>2.800949</td>\n",
       "      <td>-0.844748</td>\n",
       "    </tr>\n",
       "    <tr>\n",
       "      <th>136</th>\n",
       "      <td>1.580155</td>\n",
       "      <td>-1.072474</td>\n",
       "    </tr>\n",
       "    <tr>\n",
       "      <th>137</th>\n",
       "      <td>1.347044</td>\n",
       "      <td>-0.422256</td>\n",
       "    </tr>\n",
       "    <tr>\n",
       "      <th>138</th>\n",
       "      <td>0.923433</td>\n",
       "      <td>-0.019230</td>\n",
       "    </tr>\n",
       "    <tr>\n",
       "      <th>139</th>\n",
       "      <td>1.853552</td>\n",
       "      <td>-0.672423</td>\n",
       "    </tr>\n",
       "    <tr>\n",
       "      <th>140</th>\n",
       "      <td>2.016157</td>\n",
       "      <td>-0.610397</td>\n",
       "    </tr>\n",
       "    <tr>\n",
       "      <th>141</th>\n",
       "      <td>1.903117</td>\n",
       "      <td>-0.686025</td>\n",
       "    </tr>\n",
       "    <tr>\n",
       "      <th>142</th>\n",
       "      <td>1.153190</td>\n",
       "      <td>0.701326</td>\n",
       "    </tr>\n",
       "    <tr>\n",
       "      <th>143</th>\n",
       "      <td>2.043308</td>\n",
       "      <td>-0.864685</td>\n",
       "    </tr>\n",
       "    <tr>\n",
       "      <th>144</th>\n",
       "      <td>2.001691</td>\n",
       "      <td>-1.048550</td>\n",
       "    </tr>\n",
       "    <tr>\n",
       "      <th>145</th>\n",
       "      <td>1.870522</td>\n",
       "      <td>-0.382822</td>\n",
       "    </tr>\n",
       "    <tr>\n",
       "      <th>146</th>\n",
       "      <td>1.558492</td>\n",
       "      <td>0.905314</td>\n",
       "    </tr>\n",
       "    <tr>\n",
       "      <th>147</th>\n",
       "      <td>1.520845</td>\n",
       "      <td>-0.266795</td>\n",
       "    </tr>\n",
       "    <tr>\n",
       "      <th>148</th>\n",
       "      <td>1.376391</td>\n",
       "      <td>-1.016362</td>\n",
       "    </tr>\n",
       "    <tr>\n",
       "      <th>149</th>\n",
       "      <td>0.959299</td>\n",
       "      <td>0.022284</td>\n",
       "    </tr>\n",
       "  </tbody>\n",
       "</table>\n",
       "<p>150 rows × 2 columns</p>\n",
       "</div>"
      ],
      "text/plain": [
       "            0         1\n",
       "0   -2.264542 -0.505704\n",
       "1   -2.086426  0.655405\n",
       "2   -2.367950  0.318477\n",
       "3   -2.304197  0.575368\n",
       "4   -2.388777 -0.674767\n",
       "5   -2.070537 -1.518549\n",
       "6   -2.445711 -0.074563\n",
       "7   -2.233842 -0.247614\n",
       "8   -2.341958  1.095146\n",
       "9   -2.188676  0.448629\n",
       "10  -2.163487 -1.070596\n",
       "11  -2.327378 -0.158587\n",
       "12  -2.224083  0.709118\n",
       "13  -2.639716  0.938282\n",
       "14  -2.192292 -1.889979\n",
       "15  -2.251465 -2.722371\n",
       "16  -2.202750 -1.513750\n",
       "17  -2.190179 -0.514304\n",
       "18  -1.894074 -1.431111\n",
       "19  -2.339949 -1.158033\n",
       "20  -1.914556 -0.430465\n",
       "21  -2.204645 -0.952457\n",
       "22  -2.774170 -0.489517\n",
       "23  -1.820412 -0.106751\n",
       "24  -2.228217 -0.162186\n",
       "25  -1.957024  0.607893\n",
       "26  -2.052063 -0.266014\n",
       "27  -2.168194 -0.552016\n",
       "28  -2.140306 -0.336640\n",
       "29  -2.268790  0.314879\n",
       "..        ...       ...\n",
       "120  2.040496 -0.907399\n",
       "121  0.973915  0.571174\n",
       "122  2.898064 -0.397791\n",
       "123  1.329194  0.486761\n",
       "124  1.704241 -1.014148\n",
       "125  1.957728 -1.003335\n",
       "126  1.171905  0.318897\n",
       "127  1.019781 -0.065543\n",
       "128  1.786009  0.193273\n",
       "129  1.864778 -0.555382\n",
       "130  2.435497 -0.246654\n",
       "131  2.316082 -2.626184\n",
       "132  1.860371  0.184672\n",
       "133  1.111272  0.295986\n",
       "134  1.197469  0.817168\n",
       "135  2.800949 -0.844748\n",
       "136  1.580155 -1.072474\n",
       "137  1.347044 -0.422256\n",
       "138  0.923433 -0.019230\n",
       "139  1.853552 -0.672423\n",
       "140  2.016157 -0.610397\n",
       "141  1.903117 -0.686025\n",
       "142  1.153190  0.701326\n",
       "143  2.043308 -0.864685\n",
       "144  2.001691 -1.048550\n",
       "145  1.870522 -0.382822\n",
       "146  1.558492  0.905314\n",
       "147  1.520845 -0.266795\n",
       "148  1.376391 -1.016362\n",
       "149  0.959299  0.022284\n",
       "\n",
       "[150 rows x 2 columns]"
      ]
     },
     "execution_count": 28,
     "metadata": {},
     "output_type": "execute_result"
    }
   ],
   "source": [
    "Y"
   ]
  },
  {
   "cell_type": "markdown",
   "metadata": {},
   "source": [
    "## Scitkit Alternative"
   ]
  },
  {
   "cell_type": "code",
   "execution_count": 29,
   "metadata": {
    "collapsed": false
   },
   "outputs": [
    {
     "data": {
      "text/plain": [
       "array([[ -2.26454173e+00,  -5.05703903e-01],\n",
       "       [ -2.08642550e+00,   6.55404729e-01],\n",
       "       [ -2.36795045e+00,   3.18477311e-01],\n",
       "       [ -2.30419716e+00,   5.75367713e-01],\n",
       "       [ -2.38877749e+00,  -6.74767397e-01],\n",
       "       [ -2.07053681e+00,  -1.51854856e+00],\n",
       "       [ -2.44571134e+00,  -7.45626750e-02],\n",
       "       [ -2.23384186e+00,  -2.47613932e-01],\n",
       "       [ -2.34195768e+00,   1.09514636e+00],\n",
       "       [ -2.18867576e+00,   4.48629048e-01],\n",
       "       [ -2.16348656e+00,  -1.07059558e+00],\n",
       "       [ -2.32737775e+00,  -1.58587455e-01],\n",
       "       [ -2.22408272e+00,   7.09118158e-01],\n",
       "       [ -2.63971626e+00,   9.38281982e-01],\n",
       "       [ -2.19229151e+00,  -1.88997851e+00],\n",
       "       [ -2.25146521e+00,  -2.72237108e+00],\n",
       "       [ -2.20275048e+00,  -1.51375028e+00],\n",
       "       [ -2.19017916e+00,  -5.14304308e-01],\n",
       "       [ -1.89407429e+00,  -1.43111071e+00],\n",
       "       [ -2.33994907e+00,  -1.15803343e+00],\n",
       "       [ -1.91455639e+00,  -4.30465163e-01],\n",
       "       [ -2.20464540e+00,  -9.52457317e-01],\n",
       "       [ -2.77416979e+00,  -4.89517027e-01],\n",
       "       [ -1.82041156e+00,  -1.06750793e-01],\n",
       "       [ -2.22821750e+00,  -1.62186163e-01],\n",
       "       [ -1.95702401e+00,   6.07892567e-01],\n",
       "       [ -2.05206331e+00,  -2.66014312e-01],\n",
       "       [ -2.16819365e+00,  -5.52016495e-01],\n",
       "       [ -2.14030596e+00,  -3.36640409e-01],\n",
       "       [ -2.26879019e+00,   3.14878603e-01],\n",
       "       [ -2.14455443e+00,   4.83942097e-01],\n",
       "       [ -1.83193810e+00,  -4.45266836e-01],\n",
       "       [ -2.60820287e+00,  -1.82847519e+00],\n",
       "       [ -2.43795086e+00,  -2.18539162e+00],\n",
       "       [ -2.18867576e+00,   4.48629048e-01],\n",
       "       [ -2.21111990e+00,   1.84337811e-01],\n",
       "       [ -2.04441652e+00,  -6.84956426e-01],\n",
       "       [ -2.18867576e+00,   4.48629048e-01],\n",
       "       [ -2.43595220e+00,   8.82169415e-01],\n",
       "       [ -2.17054720e+00,  -2.92726955e-01],\n",
       "       [ -2.28652724e+00,  -4.67991716e-01],\n",
       "       [ -1.87170722e+00,   2.32769161e+00],\n",
       "       [ -2.55783442e+00,   4.53816380e-01],\n",
       "       [ -1.96427929e+00,  -4.97391640e-01],\n",
       "       [ -2.13337283e+00,  -1.17143211e+00],\n",
       "       [ -2.07535759e+00,   6.91917347e-01],\n",
       "       [ -2.38125822e+00,  -1.15063259e+00],\n",
       "       [ -2.39819169e+00,   3.62390765e-01],\n",
       "       [ -2.22678121e+00,  -1.02548255e+00],\n",
       "       [ -2.20595417e+00,  -3.22378453e-02],\n",
       "       [  1.10399365e+00,  -8.63112446e-01],\n",
       "       [  7.32481440e-01,  -5.98635573e-01],\n",
       "       [  1.24210951e+00,  -6.14822450e-01],\n",
       "       [  3.97307283e-01,   1.75816895e+00],\n",
       "       [  1.07259395e+00,   2.11757903e-01],\n",
       "       [  3.84458146e-01,   5.91062469e-01],\n",
       "       [  7.48715076e-01,  -7.78698611e-01],\n",
       "       [ -4.97863388e-01,   1.84886877e+00],\n",
       "       [  9.26222368e-01,  -3.03308268e-02],\n",
       "       [  4.96802558e-03,   1.02940111e+00],\n",
       "       [ -1.24697461e-01,   2.65806268e+00],\n",
       "       [  4.38730118e-01,   5.88812850e-02],\n",
       "       [  5.51633981e-01,   1.77258156e+00],\n",
       "       [  7.17165066e-01,   1.85434315e-01],\n",
       "       [ -3.72583830e-02,   4.32795099e-01],\n",
       "       [  8.75890536e-01,  -5.09998151e-01],\n",
       "       [  3.48006402e-01,   1.90621647e-01],\n",
       "       [  1.53392545e-01,   7.90725456e-01],\n",
       "       [  1.21530321e+00,   1.63335564e+00],\n",
       "       [  1.56941176e-01,   1.30310327e+00],\n",
       "       [  7.38256104e-01,  -4.02470382e-01],\n",
       "       [  4.72369682e-01,   4.16608222e-01],\n",
       "       [  1.22798821e+00,   9.40914793e-01],\n",
       "       [  6.29381045e-01,   4.16811643e-01],\n",
       "       [  7.00472799e-01,   6.34939277e-02],\n",
       "       [  8.73536987e-01,  -2.50708611e-01],\n",
       "       [  1.25422219e+00,   8.26200998e-02],\n",
       "       [  1.35823985e+00,  -3.28820266e-01],\n",
       "       [  6.62126138e-01,   2.24346071e-01],\n",
       "       [ -4.72815133e-02,   1.05721241e+00],\n",
       "       [  1.21534209e-01,   1.56359238e+00],\n",
       "       [  1.41182261e-02,   1.57339235e+00],\n",
       "       [  2.36010837e-01,   7.75923784e-01],\n",
       "       [  1.05669143e+00,   6.36901284e-01],\n",
       "       [  2.21417088e-01,   2.80847693e-01],\n",
       "       [  4.31783161e-01,  -8.55136920e-01],\n",
       "       [  1.04941336e+00,  -5.22197265e-01],\n",
       "       [  1.03587821e+00,   1.39246648e+00],\n",
       "       [  6.70675999e-02,   2.12620735e-01],\n",
       "       [  2.75425066e-01,   1.32981591e+00],\n",
       "       [  2.72335066e-01,   1.11944152e+00],\n",
       "       [  6.23170540e-01,  -2.75426333e-02],\n",
       "       [  3.30005364e-01,   9.88900732e-01],\n",
       "       [ -3.73627623e-01,   2.01793227e+00],\n",
       "       [  2.82944343e-01,   8.53950717e-01],\n",
       "       [  8.90531103e-02,   1.74908548e-01],\n",
       "       [  2.24356783e-01,   3.80484659e-01],\n",
       "       [  5.73883486e-01,   1.53719974e-01],\n",
       "       [ -4.57012873e-01,   1.53946451e+00],\n",
       "       [  2.52244473e-01,   5.95860746e-01],\n",
       "       [  1.84767259e+00,  -8.71696662e-01],\n",
       "       [  1.15318981e+00,   7.01326114e-01],\n",
       "       [  2.20634950e+00,  -5.54470105e-01],\n",
       "       [  1.43868540e+00,   5.00105223e-02],\n",
       "       [  1.86789070e+00,  -2.91192802e-01],\n",
       "       [  2.75419671e+00,  -7.88432206e-01],\n",
       "       [  3.58374475e-01,   1.56009458e+00],\n",
       "       [  2.30300590e+00,  -4.09516695e-01],\n",
       "       [  2.00173530e+00,   7.23865359e-01],\n",
       "       [  2.26755460e+00,  -1.92144299e+00],\n",
       "       [  1.36590943e+00,  -6.93948040e-01],\n",
       "       [  1.59906459e+00,   4.28248836e-01],\n",
       "       [  1.88425185e+00,  -4.14332758e-01],\n",
       "       [  1.25308651e+00,   1.16739134e+00],\n",
       "       [  1.46406152e+00,   4.44147569e-01],\n",
       "       [  1.59180930e+00,  -6.77035372e-01],\n",
       "       [  1.47128019e+00,  -2.53192472e-01],\n",
       "       [  2.43737848e+00,  -2.55675734e+00],\n",
       "       [  3.30914118e+00,   2.36132010e-03],\n",
       "       [  1.25398099e+00,   1.71758384e+00],\n",
       "       [  2.04049626e+00,  -9.07398765e-01],\n",
       "       [  9.73915114e-01,   5.71174376e-01],\n",
       "       [  2.89806444e+00,  -3.97791359e-01],\n",
       "       [  1.32919369e+00,   4.86760542e-01],\n",
       "       [  1.70424071e+00,  -1.01414842e+00],\n",
       "       [  1.95772766e+00,  -1.00333452e+00],\n",
       "       [  1.17190451e+00,   3.18896617e-01],\n",
       "       [  1.01978105e+00,  -6.55429631e-02],\n",
       "       [  1.78600886e+00,   1.93272800e-01],\n",
       "       [  1.86477791e+00,  -5.55381532e-01],\n",
       "       [  2.43549739e+00,  -2.46654468e-01],\n",
       "       [  2.31608241e+00,  -2.62618387e+00],\n",
       "       [  1.86037143e+00,   1.84672394e-01],\n",
       "       [  1.11127173e+00,   2.95986102e-01],\n",
       "       [  1.19746916e+00,   8.17167742e-01],\n",
       "       [  2.80094940e+00,  -8.44748194e-01],\n",
       "       [  1.58015525e+00,  -1.07247450e+00],\n",
       "       [  1.34704442e+00,  -4.22255966e-01],\n",
       "       [  9.23432978e-01,  -1.92303705e-02],\n",
       "       [  1.85355198e+00,  -6.72422729e-01],\n",
       "       [  2.01615720e+00,  -6.10397038e-01],\n",
       "       [  1.90311686e+00,  -6.86024832e-01],\n",
       "       [  1.15318981e+00,   7.01326114e-01],\n",
       "       [  2.04330844e+00,  -8.64684880e-01],\n",
       "       [  2.00169097e+00,  -1.04855005e+00],\n",
       "       [  1.87052207e+00,  -3.82821838e-01],\n",
       "       [  1.55849189e+00,   9.05313601e-01],\n",
       "       [  1.52084506e+00,  -2.66794575e-01],\n",
       "       [  1.37639119e+00,  -1.01636193e+00],\n",
       "       [  9.59298576e-01,   2.22839447e-02]])"
      ]
     },
     "execution_count": 29,
     "metadata": {},
     "output_type": "execute_result"
    }
   ],
   "source": [
    "pca = PCA(n_components=2)\n",
    "pca.fit_transform(xStandardized)"
   ]
  },
  {
   "cell_type": "code",
   "execution_count": 31,
   "metadata": {
    "collapsed": false
   },
   "outputs": [],
   "source": [
    "pcaFeatureCorr = pd.DataFrame(pca.components_,columns=features.columns,index = ['PC-1','PC-2'])"
   ]
  },
  {
   "cell_type": "code",
   "execution_count": 32,
   "metadata": {
    "collapsed": false
   },
   "outputs": [
    {
     "data": {
      "text/html": [
       "<div>\n",
       "<table border=\"1\" class=\"dataframe\">\n",
       "  <thead>\n",
       "    <tr style=\"text-align: right;\">\n",
       "      <th></th>\n",
       "      <th>SepalLength</th>\n",
       "      <th>SepalWidth</th>\n",
       "      <th>PetalLength</th>\n",
       "      <th>PetalWidth</th>\n",
       "    </tr>\n",
       "  </thead>\n",
       "  <tbody>\n",
       "    <tr>\n",
       "      <th>PC-1</th>\n",
       "      <td>0.522372</td>\n",
       "      <td>-0.263355</td>\n",
       "      <td>0.581254</td>\n",
       "      <td>0.565611</td>\n",
       "    </tr>\n",
       "    <tr>\n",
       "      <th>PC-2</th>\n",
       "      <td>-0.372318</td>\n",
       "      <td>-0.925556</td>\n",
       "      <td>-0.021095</td>\n",
       "      <td>-0.065416</td>\n",
       "    </tr>\n",
       "  </tbody>\n",
       "</table>\n",
       "</div>"
      ],
      "text/plain": [
       "      SepalLength  SepalWidth  PetalLength  PetalWidth\n",
       "PC-1     0.522372   -0.263355     0.581254    0.565611\n",
       "PC-2    -0.372318   -0.925556    -0.021095   -0.065416"
      ]
     },
     "execution_count": 32,
     "metadata": {},
     "output_type": "execute_result"
    }
   ],
   "source": [
    "pcaFeatureCorr"
   ]
  },
  {
   "cell_type": "code",
   "execution_count": null,
   "metadata": {
    "collapsed": true
   },
   "outputs": [],
   "source": []
  }
 ],
 "metadata": {
  "kernelspec": {
   "display_name": "Python 2",
   "language": "python",
   "name": "python2"
  },
  "language_info": {
   "codemirror_mode": {
    "name": "ipython",
    "version": 2
   },
   "file_extension": ".py",
   "mimetype": "text/x-python",
   "name": "python",
   "nbconvert_exporter": "python",
   "pygments_lexer": "ipython2",
   "version": "2.7.12"
  }
 },
 "nbformat": 4,
 "nbformat_minor": 0
}
