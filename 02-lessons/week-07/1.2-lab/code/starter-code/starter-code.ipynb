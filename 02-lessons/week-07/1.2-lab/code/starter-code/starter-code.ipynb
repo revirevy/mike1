{
 "cells": [
  {
   "cell_type": "markdown",
   "metadata": {},
   "source": [
    "**Section I: Import the Data**"
   ]
  },
  {
   "cell_type": "markdown",
   "metadata": {},
   "source": [
    "Imports and Read in File"
   ]
  },
  {
   "cell_type": "code",
   "execution_count": 1,
   "metadata": {
    "collapsed": false
   },
   "outputs": [],
   "source": [
    "%matplotlib inline \n",
    "\n",
    "import pandas as pd\n",
    "import numpy as np\n",
    "from sklearn import cluster\n",
    "from sklearn import metrics\n",
    "from sklearn.metrics import pairwise_distances\n",
    "\n",
    "import seaborn as sns\n",
    "import matplotlib.pyplot as plt\n",
    "import matplotlib\n",
    "matplotlib.style.use('ggplot') "
   ]
  },
  {
   "cell_type": "code",
   "execution_count": 2,
   "metadata": {
    "collapsed": false
   },
   "outputs": [
    {
     "name": "stdout",
     "output_type": "stream",
     "text": [
      "/Users/michaelmainzer/Documents/GA/DSI/mike1/02-lessons/week-07/1.2-lab/code/starter-code\r\n"
     ]
    }
   ],
   "source": [
    "!pwd"
   ]
  },
  {
   "cell_type": "code",
   "execution_count": 3,
   "metadata": {
    "collapsed": true
   },
   "outputs": [],
   "source": [
    "adult = pd.read_csv('../../assets/datasets/adult.csv')"
   ]
  },
  {
   "cell_type": "code",
   "execution_count": 4,
   "metadata": {
    "collapsed": false
   },
   "outputs": [],
   "source": [
    "adult.dropna(inplace=True)"
   ]
  },
  {
   "cell_type": "markdown",
   "metadata": {},
   "source": [
    "**Section II: Format the Data**"
   ]
  },
  {
   "cell_type": "markdown",
   "metadata": {},
   "source": [
    "Convert the data to a Pandas dataframe to work with the data:"
   ]
  },
  {
   "cell_type": "markdown",
   "metadata": {},
   "source": [
    "Convert the categorical Data to numeric for our analysis. **HINT:** Refer to lesson 1.1 for writing a function of this sort"
   ]
  },
  {
   "cell_type": "code",
   "execution_count": 5,
   "metadata": {
    "collapsed": false
   },
   "outputs": [
    {
     "data": {
      "text/html": [
       "<div>\n",
       "<table border=\"1\" class=\"dataframe\">\n",
       "  <thead>\n",
       "    <tr style=\"text-align: right;\">\n",
       "      <th></th>\n",
       "      <th>age</th>\n",
       "      <th>workclass</th>\n",
       "      <th>fnlwgt</th>\n",
       "      <th>education</th>\n",
       "      <th>education-num</th>\n",
       "      <th>marital-status</th>\n",
       "      <th>occupation</th>\n",
       "      <th>relationship</th>\n",
       "      <th>race</th>\n",
       "      <th>sex</th>\n",
       "      <th>capital-gain</th>\n",
       "      <th>capital-loss</th>\n",
       "      <th>hours-per-week</th>\n",
       "      <th>native-country</th>\n",
       "      <th>income</th>\n",
       "    </tr>\n",
       "  </thead>\n",
       "  <tbody>\n",
       "    <tr>\n",
       "      <th>0</th>\n",
       "      <td>39</td>\n",
       "      <td>State-gov</td>\n",
       "      <td>77516</td>\n",
       "      <td>Bachelors</td>\n",
       "      <td>13</td>\n",
       "      <td>Never-married</td>\n",
       "      <td>Adm-clerical</td>\n",
       "      <td>Not-in-family</td>\n",
       "      <td>White</td>\n",
       "      <td>Male</td>\n",
       "      <td>2174</td>\n",
       "      <td>0</td>\n",
       "      <td>40</td>\n",
       "      <td>United-States</td>\n",
       "      <td>small</td>\n",
       "    </tr>\n",
       "    <tr>\n",
       "      <th>1</th>\n",
       "      <td>50</td>\n",
       "      <td>Self-emp-not-inc</td>\n",
       "      <td>83311</td>\n",
       "      <td>Bachelors</td>\n",
       "      <td>13</td>\n",
       "      <td>Married-civ-spouse</td>\n",
       "      <td>Exec-managerial</td>\n",
       "      <td>Husband</td>\n",
       "      <td>White</td>\n",
       "      <td>Male</td>\n",
       "      <td>0</td>\n",
       "      <td>0</td>\n",
       "      <td>13</td>\n",
       "      <td>United-States</td>\n",
       "      <td>small</td>\n",
       "    </tr>\n",
       "    <tr>\n",
       "      <th>2</th>\n",
       "      <td>38</td>\n",
       "      <td>Private</td>\n",
       "      <td>215646</td>\n",
       "      <td>HS-grad</td>\n",
       "      <td>9</td>\n",
       "      <td>Divorced</td>\n",
       "      <td>Handlers-cleaners</td>\n",
       "      <td>Not-in-family</td>\n",
       "      <td>White</td>\n",
       "      <td>Male</td>\n",
       "      <td>0</td>\n",
       "      <td>0</td>\n",
       "      <td>40</td>\n",
       "      <td>United-States</td>\n",
       "      <td>small</td>\n",
       "    </tr>\n",
       "    <tr>\n",
       "      <th>3</th>\n",
       "      <td>53</td>\n",
       "      <td>Private</td>\n",
       "      <td>234721</td>\n",
       "      <td>11th</td>\n",
       "      <td>7</td>\n",
       "      <td>Married-civ-spouse</td>\n",
       "      <td>Handlers-cleaners</td>\n",
       "      <td>Husband</td>\n",
       "      <td>Black</td>\n",
       "      <td>Male</td>\n",
       "      <td>0</td>\n",
       "      <td>0</td>\n",
       "      <td>40</td>\n",
       "      <td>United-States</td>\n",
       "      <td>small</td>\n",
       "    </tr>\n",
       "    <tr>\n",
       "      <th>4</th>\n",
       "      <td>28</td>\n",
       "      <td>Private</td>\n",
       "      <td>338409</td>\n",
       "      <td>Bachelors</td>\n",
       "      <td>13</td>\n",
       "      <td>Married-civ-spouse</td>\n",
       "      <td>Prof-specialty</td>\n",
       "      <td>Wife</td>\n",
       "      <td>Black</td>\n",
       "      <td>Female</td>\n",
       "      <td>0</td>\n",
       "      <td>0</td>\n",
       "      <td>40</td>\n",
       "      <td>Cuba</td>\n",
       "      <td>small</td>\n",
       "    </tr>\n",
       "  </tbody>\n",
       "</table>\n",
       "</div>"
      ],
      "text/plain": [
       "   age         workclass  fnlwgt  education  education-num  \\\n",
       "0   39         State-gov   77516  Bachelors             13   \n",
       "1   50  Self-emp-not-inc   83311  Bachelors             13   \n",
       "2   38           Private  215646    HS-grad              9   \n",
       "3   53           Private  234721       11th              7   \n",
       "4   28           Private  338409  Bachelors             13   \n",
       "\n",
       "       marital-status         occupation   relationship   race     sex  \\\n",
       "0       Never-married       Adm-clerical  Not-in-family  White    Male   \n",
       "1  Married-civ-spouse    Exec-managerial        Husband  White    Male   \n",
       "2            Divorced  Handlers-cleaners  Not-in-family  White    Male   \n",
       "3  Married-civ-spouse  Handlers-cleaners        Husband  Black    Male   \n",
       "4  Married-civ-spouse     Prof-specialty           Wife  Black  Female   \n",
       "\n",
       "   capital-gain  capital-loss  hours-per-week native-country income  \n",
       "0          2174             0              40  United-States  small  \n",
       "1             0             0              13  United-States  small  \n",
       "2             0             0              40  United-States  small  \n",
       "3             0             0              40  United-States  small  \n",
       "4             0             0              40           Cuba  small  "
      ]
     },
     "execution_count": 5,
     "metadata": {},
     "output_type": "execute_result"
    }
   ],
   "source": [
    "adult.head()"
   ]
  },
  {
   "cell_type": "code",
   "execution_count": 6,
   "metadata": {
    "collapsed": false
   },
   "outputs": [],
   "source": [
    "adult['workClass'] = adult['workclass'].map({'State-gov': 1, 'Self-emp-not-inc': 2, 'Private': 3, 'Federal-gov': 4,\n",
    "       'Local-gov': 5, 'Self-emp-inc': 6, 'Without-pay': 7, 'Never-worked': 8})\n",
    "\n",
    "adult['maritalStatus'] = adult['marital-status'].map({'Never-married': 1, 'Married-civ-spouse': 2, 'Divorced': 3,\n",
    "       'Married-spouse-absent': 4, 'Separated': 5, 'Married-AF-spouse': 6, 'Widowed': 7})\n",
    "\n",
    "adult['occ'] = adult['occupation'].map({'Adm-clerical': 1, 'Exec-managerial': 2, 'Handlers-cleaners': 3,\n",
    "       'Prof-specialty': 4, 'Other-service': 5, 'Sales': 6, 'Transport-moving': 7,\n",
    "       'Farming-fishing': 8, 'Machine-op-inspct': 9, 'Tech-support': 10,\n",
    "       'Craft-repair': 11, 'Protective-serv': 12, 'Armed-Forces': 13, 'Priv-house-serv': 14})\n",
    "\n",
    "adult['relat'] = adult['relationship'].map({'Not-in-family':1, 'Husband': 2, 'Wife': 3, 'Own-child': 4, 'Unmarried': 5,\n",
    "       'Other-relative': 6})\n",
    "\n",
    "adult['raceClass'] = adult['race'].map({'White': 1, 'Black': 2, 'Asian-Pac-Islander': 3, 'Amer-Indian-Eskimo': 4,\n",
    "       'Other': 5})\n",
    "\n",
    "adult['sexClass'] = adult['sex'].map({'Male': 1, 'Female': 2})\n",
    "\n",
    "adult['nativeCountry'] = adult['native-country'].map({'United-States': 1, 'Cuba': 2, 'Jamaica': 3, 'India': 4, \n",
    "                                                      'Mexico': 5,'Puerto-Rico': 6, 'Honduras': 7, 'England': 8, 'Canada': 9, \n",
    "                                                      'Germany': 10, 'Iran': 11, 'Philippines': 12, 'Poland': 13, 'Columbia': 14, \n",
    "                                                      'Cambodia': 15, 'Thailand': 16, 'Ecuador': 17, 'Laos': 18, 'Taiwan': 19, \n",
    "                                                      'Haiti': 20, 'Portugal': 21, 'Dominican-Republic': 22, 'El-Salvador': 23, \n",
    "                                                      'France': 24, 'Guatemala': 25, 'Italy': 26, 'China': 27, 'South': 28, \n",
    "                                                      'Japan': 29, 'Yugoslavia': 30, 'Peru': 31, 'Outlying-US(Guam-USVI-etc)': 32, \n",
    "                                                      'Scotland': 33, 'Trinadad&Tobago': 34, 'Greece': 35, 'Nicaragua': 36, \n",
    "                                                      'Vietnam': 37, 'Hong': 38, 'Ireland': 39, 'Hungary': 40, \n",
    "                                                      'Holand-Netherlands': 41})\n",
    "\n",
    "adult['incomeClass'] = adult['income'].map({'small': 1, 'large': 2})\n",
    "\n"
   ]
  },
  {
   "cell_type": "markdown",
   "metadata": {},
   "source": [
    "Apply the functions you just wrote and append the results to the dataframe"
   ]
  },
  {
   "cell_type": "code",
   "execution_count": 7,
   "metadata": {
    "collapsed": true
   },
   "outputs": [],
   "source": [
    "adult.drop(['workclass', 'marital-status', 'occupation', 'relationship', 'race', 'sex', 'native-country', 'income'], axis=1, inplace=True)"
   ]
  },
  {
   "cell_type": "markdown",
   "metadata": {},
   "source": [
    "**Section III: Examine the Data**"
   ]
  },
  {
   "cell_type": "markdown",
   "metadata": {},
   "source": [
    "Plot the Data to see the distributions our our target markets; plot multiple indicators to see the relationships *IE: Education and Income*"
   ]
  },
  {
   "cell_type": "code",
   "execution_count": 8,
   "metadata": {
    "collapsed": false
   },
   "outputs": [
    {
     "data": {
      "text/html": [
       "<div>\n",
       "<table border=\"1\" class=\"dataframe\">\n",
       "  <thead>\n",
       "    <tr style=\"text-align: right;\">\n",
       "      <th></th>\n",
       "      <th>age</th>\n",
       "      <th>fnlwgt</th>\n",
       "      <th>education</th>\n",
       "      <th>education-num</th>\n",
       "      <th>capital-gain</th>\n",
       "      <th>capital-loss</th>\n",
       "      <th>hours-per-week</th>\n",
       "      <th>workClass</th>\n",
       "      <th>maritalStatus</th>\n",
       "      <th>occ</th>\n",
       "      <th>relat</th>\n",
       "      <th>raceClass</th>\n",
       "      <th>sexClass</th>\n",
       "      <th>nativeCountry</th>\n",
       "      <th>incomeClass</th>\n",
       "    </tr>\n",
       "  </thead>\n",
       "  <tbody>\n",
       "    <tr>\n",
       "      <th>0</th>\n",
       "      <td>39</td>\n",
       "      <td>77516</td>\n",
       "      <td>Bachelors</td>\n",
       "      <td>13</td>\n",
       "      <td>2174</td>\n",
       "      <td>0</td>\n",
       "      <td>40</td>\n",
       "      <td>1</td>\n",
       "      <td>1</td>\n",
       "      <td>1</td>\n",
       "      <td>1</td>\n",
       "      <td>1</td>\n",
       "      <td>1</td>\n",
       "      <td>1</td>\n",
       "      <td>1</td>\n",
       "    </tr>\n",
       "    <tr>\n",
       "      <th>1</th>\n",
       "      <td>50</td>\n",
       "      <td>83311</td>\n",
       "      <td>Bachelors</td>\n",
       "      <td>13</td>\n",
       "      <td>0</td>\n",
       "      <td>0</td>\n",
       "      <td>13</td>\n",
       "      <td>2</td>\n",
       "      <td>2</td>\n",
       "      <td>2</td>\n",
       "      <td>2</td>\n",
       "      <td>1</td>\n",
       "      <td>1</td>\n",
       "      <td>1</td>\n",
       "      <td>1</td>\n",
       "    </tr>\n",
       "    <tr>\n",
       "      <th>2</th>\n",
       "      <td>38</td>\n",
       "      <td>215646</td>\n",
       "      <td>HS-grad</td>\n",
       "      <td>9</td>\n",
       "      <td>0</td>\n",
       "      <td>0</td>\n",
       "      <td>40</td>\n",
       "      <td>3</td>\n",
       "      <td>3</td>\n",
       "      <td>3</td>\n",
       "      <td>1</td>\n",
       "      <td>1</td>\n",
       "      <td>1</td>\n",
       "      <td>1</td>\n",
       "      <td>1</td>\n",
       "    </tr>\n",
       "    <tr>\n",
       "      <th>3</th>\n",
       "      <td>53</td>\n",
       "      <td>234721</td>\n",
       "      <td>11th</td>\n",
       "      <td>7</td>\n",
       "      <td>0</td>\n",
       "      <td>0</td>\n",
       "      <td>40</td>\n",
       "      <td>3</td>\n",
       "      <td>2</td>\n",
       "      <td>3</td>\n",
       "      <td>2</td>\n",
       "      <td>2</td>\n",
       "      <td>1</td>\n",
       "      <td>1</td>\n",
       "      <td>1</td>\n",
       "    </tr>\n",
       "    <tr>\n",
       "      <th>4</th>\n",
       "      <td>28</td>\n",
       "      <td>338409</td>\n",
       "      <td>Bachelors</td>\n",
       "      <td>13</td>\n",
       "      <td>0</td>\n",
       "      <td>0</td>\n",
       "      <td>40</td>\n",
       "      <td>3</td>\n",
       "      <td>2</td>\n",
       "      <td>4</td>\n",
       "      <td>3</td>\n",
       "      <td>2</td>\n",
       "      <td>2</td>\n",
       "      <td>2</td>\n",
       "      <td>1</td>\n",
       "    </tr>\n",
       "  </tbody>\n",
       "</table>\n",
       "</div>"
      ],
      "text/plain": [
       "   age  fnlwgt  education  education-num  capital-gain  capital-loss  \\\n",
       "0   39   77516  Bachelors             13          2174             0   \n",
       "1   50   83311  Bachelors             13             0             0   \n",
       "2   38  215646    HS-grad              9             0             0   \n",
       "3   53  234721       11th              7             0             0   \n",
       "4   28  338409  Bachelors             13             0             0   \n",
       "\n",
       "   hours-per-week  workClass  maritalStatus  occ  relat  raceClass  sexClass  \\\n",
       "0              40          1              1    1      1          1         1   \n",
       "1              13          2              2    2      2          1         1   \n",
       "2              40          3              3    3      1          1         1   \n",
       "3              40          3              2    3      2          2         1   \n",
       "4              40          3              2    4      3          2         2   \n",
       "\n",
       "   nativeCountry  incomeClass  \n",
       "0              1            1  \n",
       "1              1            1  \n",
       "2              1            1  \n",
       "3              1            1  \n",
       "4              2            1  "
      ]
     },
     "execution_count": 8,
     "metadata": {},
     "output_type": "execute_result"
    }
   ],
   "source": [
    "adult.head()"
   ]
  },
  {
   "cell_type": "code",
   "execution_count": 9,
   "metadata": {
    "collapsed": false
   },
   "outputs": [
    {
     "data": {
      "text/plain": [
       "<seaborn.axisgrid.FacetGrid at 0x114d03c50>"
      ]
     },
     "execution_count": 9,
     "metadata": {},
     "output_type": "execute_result"
    },
    {
     "data": {
      "image/png": "[encoded data removed]",
      "text/plain": [
       "<matplotlib.figure.Figure at 0x114d03cd0>"
      ]
     },
     "metadata": {},
     "output_type": "display_data"
    }
   ],
   "source": [
    "sns.lmplot('education-num','incomeClass', data=adult)"
   ]
  },
  {
   "cell_type": "code",
   "execution_count": 10,
   "metadata": {
    "collapsed": false
   },
   "outputs": [
    {
     "data": {
      "text/html": [
       "<div>\n",
       "<table border=\"1\" class=\"dataframe\">\n",
       "  <thead>\n",
       "    <tr style=\"text-align: right;\">\n",
       "      <th></th>\n",
       "      <th>age</th>\n",
       "      <th>fnlwgt</th>\n",
       "      <th>education-num</th>\n",
       "      <th>capital-gain</th>\n",
       "      <th>capital-loss</th>\n",
       "      <th>hours-per-week</th>\n",
       "      <th>workClass</th>\n",
       "      <th>maritalStatus</th>\n",
       "      <th>occ</th>\n",
       "      <th>relat</th>\n",
       "      <th>raceClass</th>\n",
       "      <th>sexClass</th>\n",
       "      <th>nativeCountry</th>\n",
       "      <th>incomeClass</th>\n",
       "    </tr>\n",
       "  </thead>\n",
       "  <tbody>\n",
       "    <tr>\n",
       "      <th>age</th>\n",
       "      <td>1.000000</td>\n",
       "      <td>-0.076511</td>\n",
       "      <td>0.043526</td>\n",
       "      <td>0.080154</td>\n",
       "      <td>0.060165</td>\n",
       "      <td>0.101599</td>\n",
       "      <td>0.064147</td>\n",
       "      <td>0.412606</td>\n",
       "      <td>0.002072</td>\n",
       "      <td>-0.198226</td>\n",
       "      <td>-0.035019</td>\n",
       "      <td>-0.081993</td>\n",
       "      <td>-0.005066</td>\n",
       "      <td>0.241998</td>\n",
       "    </tr>\n",
       "    <tr>\n",
       "      <th>fnlwgt</th>\n",
       "      <td>-0.076511</td>\n",
       "      <td>1.000000</td>\n",
       "      <td>-0.044992</td>\n",
       "      <td>0.000422</td>\n",
       "      <td>-0.009750</td>\n",
       "      <td>-0.022886</td>\n",
       "      <td>-0.001827</td>\n",
       "      <td>-0.021061</td>\n",
       "      <td>0.013240</td>\n",
       "      <td>0.016246</td>\n",
       "      <td>0.002060</td>\n",
       "      <td>-0.025362</td>\n",
       "      <td>0.030210</td>\n",
       "      <td>-0.008957</td>\n",
       "    </tr>\n",
       "    <tr>\n",
       "      <th>education-num</th>\n",
       "      <td>0.043526</td>\n",
       "      <td>-0.044992</td>\n",
       "      <td>1.000000</td>\n",
       "      <td>0.124416</td>\n",
       "      <td>0.079646</td>\n",
       "      <td>0.152522</td>\n",
       "      <td>0.062729</td>\n",
       "      <td>-0.061656</td>\n",
       "      <td>-0.254908</td>\n",
       "      <td>-0.142719</td>\n",
       "      <td>-0.043076</td>\n",
       "      <td>-0.006157</td>\n",
       "      <td>-0.063337</td>\n",
       "      <td>0.335286</td>\n",
       "    </tr>\n",
       "    <tr>\n",
       "      <th>capital-gain</th>\n",
       "      <td>0.080154</td>\n",
       "      <td>0.000422</td>\n",
       "      <td>0.124416</td>\n",
       "      <td>1.000000</td>\n",
       "      <td>-0.032229</td>\n",
       "      <td>0.080432</td>\n",
       "      <td>0.046010</td>\n",
       "      <td>0.005618</td>\n",
       "      <td>-0.042283</td>\n",
       "      <td>-0.043716</td>\n",
       "      <td>-0.010174</td>\n",
       "      <td>-0.048814</td>\n",
       "      <td>-0.010744</td>\n",
       "      <td>0.221196</td>\n",
       "    </tr>\n",
       "    <tr>\n",
       "      <th>capital-loss</th>\n",
       "      <td>0.060165</td>\n",
       "      <td>-0.009750</td>\n",
       "      <td>0.079646</td>\n",
       "      <td>-0.032229</td>\n",
       "      <td>1.000000</td>\n",
       "      <td>0.052417</td>\n",
       "      <td>0.023528</td>\n",
       "      <td>0.006925</td>\n",
       "      <td>-0.015952</td>\n",
       "      <td>-0.050718</td>\n",
       "      <td>-0.021910</td>\n",
       "      <td>-0.047011</td>\n",
       "      <td>-0.003800</td>\n",
       "      <td>0.150053</td>\n",
       "    </tr>\n",
       "    <tr>\n",
       "      <th>hours-per-week</th>\n",
       "      <td>0.101599</td>\n",
       "      <td>-0.022886</td>\n",
       "      <td>0.152522</td>\n",
       "      <td>0.080432</td>\n",
       "      <td>0.052417</td>\n",
       "      <td>1.000000</td>\n",
       "      <td>0.063884</td>\n",
       "      <td>0.017179</td>\n",
       "      <td>0.045238</td>\n",
       "      <td>-0.194521</td>\n",
       "      <td>-0.037586</td>\n",
       "      <td>-0.231268</td>\n",
       "      <td>-0.008613</td>\n",
       "      <td>0.229480</td>\n",
       "    </tr>\n",
       "    <tr>\n",
       "      <th>workClass</th>\n",
       "      <td>0.064147</td>\n",
       "      <td>-0.001827</td>\n",
       "      <td>0.062729</td>\n",
       "      <td>0.046010</td>\n",
       "      <td>0.023528</td>\n",
       "      <td>0.063884</td>\n",
       "      <td>1.000000</td>\n",
       "      <td>0.025007</td>\n",
       "      <td>-0.046620</td>\n",
       "      <td>-0.007209</td>\n",
       "      <td>0.001414</td>\n",
       "      <td>-0.005652</td>\n",
       "      <td>-0.012075</td>\n",
       "      <td>0.095157</td>\n",
       "    </tr>\n",
       "    <tr>\n",
       "      <th>maritalStatus</th>\n",
       "      <td>0.412606</td>\n",
       "      <td>-0.021061</td>\n",
       "      <td>-0.061656</td>\n",
       "      <td>0.005618</td>\n",
       "      <td>0.006925</td>\n",
       "      <td>0.017179</td>\n",
       "      <td>0.025007</td>\n",
       "      <td>1.000000</td>\n",
       "      <td>-0.011716</td>\n",
       "      <td>0.049913</td>\n",
       "      <td>0.017226</td>\n",
       "      <td>0.178045</td>\n",
       "      <td>0.003796</td>\n",
       "      <td>0.007459</td>\n",
       "    </tr>\n",
       "    <tr>\n",
       "      <th>occ</th>\n",
       "      <td>0.002072</td>\n",
       "      <td>0.013240</td>\n",
       "      <td>-0.254908</td>\n",
       "      <td>-0.042283</td>\n",
       "      <td>-0.015952</td>\n",
       "      <td>0.045238</td>\n",
       "      <td>-0.046620</td>\n",
       "      <td>-0.011716</td>\n",
       "      <td>1.000000</td>\n",
       "      <td>-0.066185</td>\n",
       "      <td>-0.009103</td>\n",
       "      <td>-0.263619</td>\n",
       "      <td>0.018083</td>\n",
       "      <td>-0.070240</td>\n",
       "    </tr>\n",
       "    <tr>\n",
       "      <th>relat</th>\n",
       "      <td>-0.198226</td>\n",
       "      <td>0.016246</td>\n",
       "      <td>-0.142719</td>\n",
       "      <td>-0.043716</td>\n",
       "      <td>-0.050718</td>\n",
       "      <td>-0.194521</td>\n",
       "      <td>-0.007209</td>\n",
       "      <td>0.049913</td>\n",
       "      <td>-0.066185</td>\n",
       "      <td>1.000000</td>\n",
       "      <td>0.099665</td>\n",
       "      <td>0.275419</td>\n",
       "      <td>0.043329</td>\n",
       "      <td>-0.168993</td>\n",
       "    </tr>\n",
       "    <tr>\n",
       "      <th>raceClass</th>\n",
       "      <td>-0.035019</td>\n",
       "      <td>0.002060</td>\n",
       "      <td>-0.043076</td>\n",
       "      <td>-0.010174</td>\n",
       "      <td>-0.021910</td>\n",
       "      <td>-0.037586</td>\n",
       "      <td>0.001414</td>\n",
       "      <td>0.017226</td>\n",
       "      <td>-0.009103</td>\n",
       "      <td>0.099665</td>\n",
       "      <td>1.000000</td>\n",
       "      <td>0.067529</td>\n",
       "      <td>0.255060</td>\n",
       "      <td>-0.067903</td>\n",
       "    </tr>\n",
       "    <tr>\n",
       "      <th>sexClass</th>\n",
       "      <td>-0.081993</td>\n",
       "      <td>-0.025362</td>\n",
       "      <td>-0.006157</td>\n",
       "      <td>-0.048814</td>\n",
       "      <td>-0.047011</td>\n",
       "      <td>-0.231268</td>\n",
       "      <td>-0.005652</td>\n",
       "      <td>0.178045</td>\n",
       "      <td>-0.263619</td>\n",
       "      <td>0.275419</td>\n",
       "      <td>0.067529</td>\n",
       "      <td>1.000000</td>\n",
       "      <td>0.006269</td>\n",
       "      <td>-0.216699</td>\n",
       "    </tr>\n",
       "    <tr>\n",
       "      <th>nativeCountry</th>\n",
       "      <td>-0.005066</td>\n",
       "      <td>0.030210</td>\n",
       "      <td>-0.063337</td>\n",
       "      <td>-0.010744</td>\n",
       "      <td>-0.003800</td>\n",
       "      <td>-0.008613</td>\n",
       "      <td>-0.012075</td>\n",
       "      <td>0.003796</td>\n",
       "      <td>0.018083</td>\n",
       "      <td>0.043329</td>\n",
       "      <td>0.255060</td>\n",
       "      <td>0.006269</td>\n",
       "      <td>1.000000</td>\n",
       "      <td>-0.027075</td>\n",
       "    </tr>\n",
       "    <tr>\n",
       "      <th>incomeClass</th>\n",
       "      <td>0.241998</td>\n",
       "      <td>-0.008957</td>\n",
       "      <td>0.335286</td>\n",
       "      <td>0.221196</td>\n",
       "      <td>0.150053</td>\n",
       "      <td>0.229480</td>\n",
       "      <td>0.095157</td>\n",
       "      <td>0.007459</td>\n",
       "      <td>-0.070240</td>\n",
       "      <td>-0.168993</td>\n",
       "      <td>-0.067903</td>\n",
       "      <td>-0.216699</td>\n",
       "      <td>-0.027075</td>\n",
       "      <td>1.000000</td>\n",
       "    </tr>\n",
       "  </tbody>\n",
       "</table>\n",
       "</div>"
      ],
      "text/plain": [
       "                     age    fnlwgt  education-num  capital-gain  capital-loss  \\\n",
       "age             1.000000 -0.076511       0.043526      0.080154      0.060165   \n",
       "fnlwgt         -0.076511  1.000000      -0.044992      0.000422     -0.009750   \n",
       "education-num   0.043526 -0.044992       1.000000      0.124416      0.079646   \n",
       "capital-gain    0.080154  0.000422       0.124416      1.000000     -0.032229   \n",
       "capital-loss    0.060165 -0.009750       0.079646     -0.032229      1.000000   \n",
       "hours-per-week  0.101599 -0.022886       0.152522      0.080432      0.052417   \n",
       "workClass       0.064147 -0.001827       0.062729      0.046010      0.023528   \n",
       "maritalStatus   0.412606 -0.021061      -0.061656      0.005618      0.006925   \n",
       "occ             0.002072  0.013240      -0.254908     -0.042283     -0.015952   \n",
       "relat          -0.198226  0.016246      -0.142719     -0.043716     -0.050718   \n",
       "raceClass      -0.035019  0.002060      -0.043076     -0.010174     -0.021910   \n",
       "sexClass       -0.081993 -0.025362      -0.006157     -0.048814     -0.047011   \n",
       "nativeCountry  -0.005066  0.030210      -0.063337     -0.010744     -0.003800   \n",
       "incomeClass     0.241998 -0.008957       0.335286      0.221196      0.150053   \n",
       "\n",
       "                hours-per-week  workClass  maritalStatus       occ     relat  \\\n",
       "age                   0.101599   0.064147       0.412606  0.002072 -0.198226   \n",
       "fnlwgt               -0.022886  -0.001827      -0.021061  0.013240  0.016246   \n",
       "education-num         0.152522   0.062729      -0.061656 -0.254908 -0.142719   \n",
       "capital-gain          0.080432   0.046010       0.005618 -0.042283 -0.043716   \n",
       "capital-loss          0.052417   0.023528       0.006925 -0.015952 -0.050718   \n",
       "hours-per-week        1.000000   0.063884       0.017179  0.045238 -0.194521   \n",
       "workClass             0.063884   1.000000       0.025007 -0.046620 -0.007209   \n",
       "maritalStatus         0.017179   0.025007       1.000000 -0.011716  0.049913   \n",
       "occ                   0.045238  -0.046620      -0.011716  1.000000 -0.066185   \n",
       "relat                -0.194521  -0.007209       0.049913 -0.066185  1.000000   \n",
       "raceClass            -0.037586   0.001414       0.017226 -0.009103  0.099665   \n",
       "sexClass             -0.231268  -0.005652       0.178045 -0.263619  0.275419   \n",
       "nativeCountry        -0.008613  -0.012075       0.003796  0.018083  0.043329   \n",
       "incomeClass           0.229480   0.095157       0.007459 -0.070240 -0.168993   \n",
       "\n",
       "                raceClass  sexClass  nativeCountry  incomeClass  \n",
       "age             -0.035019 -0.081993      -0.005066     0.241998  \n",
       "fnlwgt           0.002060 -0.025362       0.030210    -0.008957  \n",
       "education-num   -0.043076 -0.006157      -0.063337     0.335286  \n",
       "capital-gain    -0.010174 -0.048814      -0.010744     0.221196  \n",
       "capital-loss    -0.021910 -0.047011      -0.003800     0.150053  \n",
       "hours-per-week  -0.037586 -0.231268      -0.008613     0.229480  \n",
       "workClass        0.001414 -0.005652      -0.012075     0.095157  \n",
       "maritalStatus    0.017226  0.178045       0.003796     0.007459  \n",
       "occ             -0.009103 -0.263619       0.018083    -0.070240  \n",
       "relat            0.099665  0.275419       0.043329    -0.168993  \n",
       "raceClass        1.000000  0.067529       0.255060    -0.067903  \n",
       "sexClass         0.067529  1.000000       0.006269    -0.216699  \n",
       "nativeCountry    0.255060  0.006269       1.000000    -0.027075  \n",
       "incomeClass     -0.067903 -0.216699      -0.027075     1.000000  "
      ]
     },
     "execution_count": 10,
     "metadata": {},
     "output_type": "execute_result"
    }
   ],
   "source": [
    "adult.corr()"
   ]
  },
  {
   "cell_type": "code",
   "execution_count": 11,
   "metadata": {
    "collapsed": false
   },
   "outputs": [
    {
     "data": {
      "text/plain": [
       "<matplotlib.axes._subplots.AxesSubplot at 0x114f02050>"
      ]
     },
     "execution_count": 11,
     "metadata": {},
     "output_type": "execute_result"
    },
    {
     "data": {
      "image/png": "[encoded data removed]",
      "text/plain": [
       "<matplotlib.figure.Figure at 0x114d7e590>"
      ]
     },
     "metadata": {},
     "output_type": "display_data"
    }
   ],
   "source": [
    "sns.heatmap(adult.corr())"
   ]
  },
  {
   "cell_type": "markdown",
   "metadata": {},
   "source": [
    "**Section IV: Prepare for Clustering**"
   ]
  },
  {
   "cell_type": "markdown",
   "metadata": {},
   "source": [
    "Create a New Dataframe with just numerical data for the analysis"
   ]
  },
  {
   "cell_type": "markdown",
   "metadata": {},
   "source": [
    "Check for NaN and Infinite Numbers - Our data is messy!"
   ]
  },
  {
   "cell_type": "code",
   "execution_count": 12,
   "metadata": {
    "collapsed": true
   },
   "outputs": [],
   "source": [
    "#specify which variables you want to use based on your EDA above\n",
    "adultMat = adult.as_matrix(['incomeClass','age'])"
   ]
  },
  {
   "cell_type": "markdown",
   "metadata": {},
   "source": [
    "**Section V: Clustering Analysis**"
   ]
  },
  {
   "cell_type": "markdown",
   "metadata": {
    "collapsed": true
   },
   "source": [
    "Cluster the Data to our our target groups. **BONUS**: Perform multiple clustering tests on various indicator variables"
   ]
  },
  {
   "cell_type": "code",
   "execution_count": 13,
   "metadata": {
    "collapsed": false
   },
   "outputs": [
    {
     "data": {
      "text/plain": [
       "KMeans(copy_x=True, init='k-means++', max_iter=300, n_clusters=2, n_init=10,\n",
       "    n_jobs=1, precompute_distances='auto', random_state=None, tol=0.0001,\n",
       "    verbose=0)"
      ]
     },
     "execution_count": 13,
     "metadata": {},
     "output_type": "execute_result"
    }
   ],
   "source": [
    "k = 2\n",
    "kmeans = cluster.KMeans(n_clusters=k)\n",
    "kmeans.fit(adultMat)"
   ]
  },
  {
   "cell_type": "code",
   "execution_count": 14,
   "metadata": {
    "collapsed": false
   },
   "outputs": [],
   "source": [
    "labels = kmeans.labels_\n",
    "centroids = kmeans.cluster_centers_"
   ]
  },
  {
   "cell_type": "code",
   "execution_count": null,
   "metadata": {
    "collapsed": false
   },
   "outputs": [],
   "source": [
    "metrics.silhouette_score(adultMat, labels, metric='euclidean')"
   ]
  },
  {
   "cell_type": "code",
   "execution_count": 17,
   "metadata": {
    "collapsed": false
   },
   "outputs": [
    {
     "ename": "AttributeError",
     "evalue": "'KMeans' object has no attribute 'labels_'",
     "output_type": "error",
     "traceback": [
      "\u001b[0;31m---------------------------------------------------------------------------\u001b[0m",
      "\u001b[0;31mAttributeError\u001b[0m                            Traceback (most recent call last)",
      "\u001b[0;32m<ipython-input-17-853f9a9c5a88>\u001b[0m in \u001b[0;36m<module>\u001b[0;34m()\u001b[0m\n\u001b[1;32m     17\u001b[0m     \u001b[0;31m# seed of 10 for reproducibility.\u001b[0m\u001b[0;34m\u001b[0m\u001b[0;34m\u001b[0m\u001b[0m\n\u001b[1;32m     18\u001b[0m     \u001b[0mclusterer\u001b[0m \u001b[0;34m=\u001b[0m \u001b[0mcluster\u001b[0m\u001b[0;34m.\u001b[0m\u001b[0mKMeans\u001b[0m\u001b[0;34m(\u001b[0m\u001b[0mn_clusters\u001b[0m\u001b[0;34m=\u001b[0m\u001b[0mn_clusters\u001b[0m\u001b[0;34m,\u001b[0m \u001b[0mrandom_state\u001b[0m\u001b[0;34m=\u001b[0m\u001b[0;36m10\u001b[0m\u001b[0;34m)\u001b[0m\u001b[0;34m\u001b[0m\u001b[0m\n\u001b[0;32m---> 19\u001b[0;31m     \u001b[0mlabels2\u001b[0m \u001b[0;34m=\u001b[0m \u001b[0mclusterer\u001b[0m\u001b[0;34m.\u001b[0m\u001b[0mlabels_\u001b[0m\u001b[0;34m\u001b[0m\u001b[0m\n\u001b[0m\u001b[1;32m     20\u001b[0m \u001b[0;34m\u001b[0m\u001b[0m\n\u001b[1;32m     21\u001b[0m     \u001b[0;31m# The silhouette_score gives the average value for all the samples.\u001b[0m\u001b[0;34m\u001b[0m\u001b[0;34m\u001b[0m\u001b[0m\n",
      "\u001b[0;31mAttributeError\u001b[0m: 'KMeans' object has no attribute 'labels_'"
     ]
    },
    {
     "data": {
      "image/png": "[encoded data removed]",
      "text/plain": [
       "<matplotlib.figure.Figure at 0x1169df710>"
      ]
     },
     "metadata": {},
     "output_type": "display_data"
    }
   ],
   "source": [
    "range_n_clusters = [2, 3, 4, 5, 6]\n",
    "\n",
    "for n_clusters in range_n_clusters:\n",
    "    # Create a subplot with 1 row and 2 columns\n",
    "    fig, (ax1, ax2) = plt.subplots(1, 2)\n",
    "    fig.set_size_inches(18, 7)\n",
    "\n",
    "    # The 1st subplot is the silhouette plot\n",
    "    # The silhouette coefficient can range from -1, 1 but in this example all\n",
    "    # lie within [-0.1, 1]\n",
    "    ax1.set_xlim([-0.1, 1])\n",
    "    # The (n_clusters+1)*10 is for inserting blank space between silhouette\n",
    "    # plots of individual clusters, to demarcate them clearly.\n",
    "    ax1.set_ylim([0, len(adultMat) + (n_clusters + 1) * 10])\n",
    "\n",
    "    # Initialize the clusterer with n_clusters value and a random generator\n",
    "    # seed of 10 for reproducibility.\n",
    "    clusterer = cluster.KMeans(n_clusters=n_clusters, random_state=10)\n",
    "    labels2 = clusterer.labels_\n",
    "\n",
    "    # The silhouette_score gives the average value for all the samples.\n",
    "    # This gives a perspective into the density and separation of the formed\n",
    "    # clusters\n",
    "    silhouette_avg = metrics.silhouette_score(adultMat, labels2)\n",
    "    print(\"For n_clusters =\", n_clusters,\n",
    "          \"The average silhouette_score is :\", silhouette_avg)\n",
    "\n",
    "    # Compute the silhouette scores for each sample\n",
    "    sample_silhouette_values = silhouette_samples(adultMat, labels2)\n",
    "\n",
    "    y_lower = 10\n",
    "    for i in range(n_clusters):\n",
    "        # Aggregate the silhouette scores for samples belonging to\n",
    "        # cluster i, and sort them\n",
    "        ith_cluster_silhouette_values = \\\n",
    "            sample_silhouette_values[labels == i]\n",
    "\n",
    "        ith_cluster_silhouette_values.sort()\n",
    "\n",
    "        size_cluster_i = ith_cluster_silhouette_values.shape[0]\n",
    "        y_upper = y_lower + size_cluster_i\n",
    "\n",
    "        color = cm.spectral(float(i) / n_clusters)\n",
    "        ax1.fill_betweenx(np.arange(y_lower, y_upper),\n",
    "                          0, ith_cluster_silhouette_values,\n",
    "                          facecolor=color, edgecolor=color, alpha=0.7)\n",
    "\n",
    "        # Label the silhouette plots with their cluster numbers at the middle\n",
    "        ax1.text(-0.05, y_lower + 0.5 * size_cluster_i, str(i))\n",
    "\n",
    "        # Compute the new y_lower for next plot\n",
    "        y_lower = y_upper + 10  # 10 for the 0 samples\n",
    "\n",
    "    ax1.set_title(\"The silhouette plot for the various clusters.\")\n",
    "    ax1.set_xlabel(\"The silhouette coefficient values\")\n",
    "    ax1.set_ylabel(\"Cluster label\")\n",
    "\n",
    "    # The vertical line for average silhoutte score of all the values\n",
    "    ax1.axvline(x=silhouette_avg, color=\"red\", linestyle=\"--\")\n",
    "\n",
    "    ax1.set_yticks([])  # Clear the yaxis labels / ticks\n",
    "    ax1.set_xticks([-0.1, 0, 0.2, 0.4, 0.6, 0.8, 1])\n",
    "\n",
    "    # 2nd Plot showing the actual clusters formed\n",
    "    colors = cm.spectral(labels2.astype(float) / n_clusters)\n",
    "    ax2.scatter(adultMat[:, 0], adultMat[:, 1], marker='.', s=30, lw=0, alpha=0.7,\n",
    "                c=colors)\n",
    "\n",
    "    # Labeling the clusters\n",
    "    centers = clusterer.cluster_centers_\n",
    "    # Draw white circles at cluster centers\n",
    "    ax2.scatter(centers[:, 0], centers[:, 1],\n",
    "                marker='o', c=\"white\", alpha=1, s=200)\n",
    "\n",
    "    for i, c in enumerate(centers):\n",
    "        ax2.scatter(c[0], c[1], marker='$%d$' % i, alpha=1, s=50)\n",
    "\n",
    "    ax2.set_title(\"The visualization of the clustered data.\")\n",
    "    ax2.set_xlabel(\"Feature space for the 1st feature\")\n",
    "    ax2.set_ylabel(\"Feature space for the 2nd feature\")\n",
    "\n",
    "    plt.suptitle((\"Silhouette analysis for KMeans clustering on sample data \"\n",
    "                  \"with n_clusters = %d\" % n_clusters),\n",
    "                 fontsize=14, fontweight='bold')\n",
    "\n",
    "    plt.show()"
   ]
  },
  {
   "cell_type": "markdown",
   "metadata": {
    "collapsed": true
   },
   "source": [
    "Compute the Silhoutte Score to measure your analysis"
   ]
  }
 ],
 "metadata": {
  "kernelspec": {
   "display_name": "Python 2",
   "language": "python",
   "name": "python2"
  },
  "language_info": {
   "codemirror_mode": {
    "name": "ipython",
    "version": 2
   },
   "file_extension": ".py",
   "mimetype": "text/x-python",
   "name": "python",
   "nbconvert_exporter": "python",
   "pygments_lexer": "ipython2",
   "version": "2.7.12"
  }
 },
 "nbformat": 4,
 "nbformat_minor": 0
}
