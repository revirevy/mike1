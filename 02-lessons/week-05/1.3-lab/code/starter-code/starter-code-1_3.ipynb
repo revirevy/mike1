{
 "cells": [
  {
   "cell_type": "markdown",
   "metadata": {},
   "source": [
    "# Multi-table Datasets - ENRON Archive"
   ]
  },
  {
   "cell_type": "markdown",
   "metadata": {},
   "source": [
    "## 1. Data import\n",
    "\n",
    "Connect to the file 'assets/datasets/enron.db' using one of these methods:\n",
    "\n",
    "- sqlite3 python package\n",
    "- pandas.read_sql\n",
    "- SQLite Manager Firefox extension\n",
    "\n",
    "Take a look at the database and query the master table. How many Tables are there in the db?\n",
    "\n",
    "> Answer:\n",
    "There are 3 tables:\n",
    "- MessageBase\n",
    "- RecipientBase\n",
    "- EmployeeBase"
   ]
  },
  {
   "cell_type": "code",
   "execution_count": 10,
   "metadata": {
    "collapsed": false
   },
   "outputs": [
    {
     "data": {
      "text/plain": [
       "[(u'MessageBase',), (u'RecipientBase',), (u'EmployeeBase',)]"
      ]
     },
     "execution_count": 10,
     "metadata": {},
     "output_type": "execute_result"
    }
   ],
   "source": [
    "import pandas as pd\n",
    "import sqlite3 as sql\n",
    "conn = sql.connect(\"../../assets/datasets/enron.db\")\n",
    "c = conn.cursor()\n",
    "c.execute(\"SELECT name FROM sqlite_master WHERE type='table';\").fetchall()"
   ]
  },
  {
   "cell_type": "code",
   "execution_count": 11,
   "metadata": {
    "collapsed": false
   },
   "outputs": [],
   "source": [
    "#import pandas as pd\n",
    "#import sqlite3 as sql\n",
    "\n",
    "#con = sql.connect(\"../../assets/datasets/enron.db\")\n",
    "\n",
    "#employeeBase = pd.read_sql_query(\"SELECT * from EmployeeBase\", con)\n",
    "#messageBase = pd.read_sql_query(\"SELECT * from MessageBase\", con)\n",
    "#recipientBase = pd.read_sql_query(\"SELECT * from RecipientBase\", con)\n",
    "# verify that result of SQL query is stored in the dataframe\n",
    "#employeeBase.head()"
   ]
  },
  {
   "cell_type": "markdown",
   "metadata": {},
   "source": [
    "Query the `sqlite_master` table to retrieve the schema of the `EmployeeBase` table.\n",
    "\n",
    "1. What fields are there?\n",
    "1. What's the type of each of them?"
   ]
  },
  {
   "cell_type": "code",
   "execution_count": 12,
   "metadata": {
    "collapsed": false
   },
   "outputs": [
    {
     "name": "stdout",
     "output_type": "stream",
     "text": [
      "CREATE TABLE EmployeeBase (\n",
      "                  [eid] INTEGER,\n",
      "  [name] TEXT,\n",
      "  [department] TEXT,\n",
      "  [longdepartment] TEXT,\n",
      "  [title] TEXT,\n",
      "  [gender] TEXT,\n",
      "  [seniority] TEXT\n",
      "                  \n",
      "                  )\n",
      "CREATE TABLE RecipientBase (\n",
      "    mid INTEGER,\n",
      "    rno INTEGER,\n",
      "    to_eid INTEGER,\n",
      "    \n",
      "    PRIMARY KEY(mid ASC, rno ASC)\n",
      "    FOREIGN KEY(mid) REFERENCES Message(mid)\n",
      "    FOREIGN KEY(to_eid) REFERENCES Employee(eid)\n",
      ")\n",
      "CREATE TABLE MessageBase (\n",
      "    mid INTEGER,\n",
      "    filename TEXT,\n",
      "    unix_time INTEGER,\n",
      "    subject TEXT,\n",
      "    from_eid INTEGER,\n",
      "    \n",
      "    PRIMARY KEY(mid ASC),\n",
      "    FOREIGN KEY(from_eid) REFERENCES Employee(eid)\n",
      ")\n"
     ]
    }
   ],
   "source": [
    "fields = c.execute(\"SELECT sql FROM sqlite_master WHERE type='table' and name = 'EmployeeBase';\").fetchall()\n",
    "print ''.join(fields[0])\n",
    "\n",
    "fields = c.execute(\"SELECT sql FROM sqlite_master WHERE type='table' and name = 'RecipientBase';\").fetchall()\n",
    "print ''.join(fields[0])\n",
    "\n",
    "fields = c.execute(\"SELECT sql FROM sqlite_master WHERE type='table' and name = 'MessageBase';\").fetchall()\n",
    "print ''.join(fields[0])"
   ]
  },
  {
   "cell_type": "markdown",
   "metadata": {},
   "source": [
    "1. Print the first 5 rows of EmployeeBase table\n",
    "1. Print the first 5 rows of MessageBase table\n",
    "1. Print the first 5 rows of RecipientBase table\n",
    "\n",
    "**Hint**  use `SELECT` and `LIMIT`."
   ]
  },
  {
   "cell_type": "code",
   "execution_count": 13,
   "metadata": {
    "collapsed": false
   },
   "outputs": [
    {
     "name": "stdout",
     "output_type": "stream",
     "text": [
      "EmployeeBase\n",
      "(1, u'John Arnold', u'Forestry', u'ENA Gas Financial', u'VP Trading', u'Male', u'Senior')\n",
      "(2, u'Harry Arora', u'Forestry', u'ENA East Power', u'VP Trading', u'Male', u'Senior')\n",
      "(3, u'Robert Badeer', u'Forestry', u'ENA West Power', u'Mgr Trading', u'Male', u'Junior')\n",
      "(4, u'Susan Bailey', u'Legal', u'ENA Legal', u'Specialist Legal', u'Female', u'Junior')\n",
      "(5, u'Eric Bass', u'Forestry', u'ENA Gas Texas', u'Trader', u'Male', u'Junior')\n",
      "\n",
      "MessageBase\n",
      "(1, u'taylor-m/sent/11', 910930020, u'Cd$ CME letter', 138)\n",
      "(2, u'taylor-m/sent/17', 911459940, u'Indemnification', 138)\n",
      "(3, u'taylor-m/sent/18', 911463840, u'Re: Indemnification', 138)\n",
      "(4, u'taylor-m/sent/23', 911874180, u'Re: Coral Energy, L.P.', 138)\n",
      "(5, u'taylor-m/sent/27', 912396120, u'Bankruptcy Code revisions', 138)\n",
      "\n",
      "RecipientBase\n",
      "(1, 1, 59)\n",
      "(2, 1, 15)\n",
      "(3, 1, 15)\n",
      "(4, 1, 109)\n",
      "(4, 2, 49)\n"
     ]
    }
   ],
   "source": [
    "print 'EmployeeBase'\n",
    "top5EB=c.execute(\"SELECT * FROM 'EmployeeBase' LIMIT 5;\").fetchall()\n",
    "for row in top5EB:\n",
    "    print row\n",
    "print ''\n",
    "print 'MessageBase'\n",
    "top5MB=c.execute(\"SELECT * FROM 'MessageBase' LIMIT 5;\").fetchall()\n",
    "for row in top5MB:\n",
    "    print row\n",
    "print ''\n",
    "print 'RecipientBase'\n",
    "top5RB=c.execute(\"SELECT * FROM 'RecipientBase' LIMIT 5;\").fetchall()\n",
    "for row in top5RB:\n",
    "    print row"
   ]
  },
  {
   "cell_type": "markdown",
   "metadata": {},
   "source": [
    "Import each of the 3 tables to a Pandas Dataframes"
   ]
  },
  {
   "cell_type": "code",
   "execution_count": 14,
   "metadata": {
    "collapsed": false
   },
   "outputs": [],
   "source": [
    "employeeBase = pd.read_sql_query(\"SELECT * from EmployeeBase\", conn)\n",
    "messageBase = pd.read_sql_query(\"SELECT * from MessageBase\", conn)\n",
    "recipientBase = pd.read_sql_query(\"SELECT * from RecipientBase\", conn)"
   ]
  },
  {
   "cell_type": "code",
   "execution_count": 15,
   "metadata": {
    "collapsed": false,
    "scrolled": true
   },
   "outputs": [
    {
     "data": {
      "text/html": [
       "<div>\n",
       "<table border=\"1\" class=\"dataframe\">\n",
       "  <thead>\n",
       "    <tr style=\"text-align: right;\">\n",
       "      <th></th>\n",
       "      <th>eid</th>\n",
       "      <th>name</th>\n",
       "      <th>department</th>\n",
       "      <th>longdepartment</th>\n",
       "      <th>title</th>\n",
       "      <th>gender</th>\n",
       "      <th>seniority</th>\n",
       "    </tr>\n",
       "  </thead>\n",
       "  <tbody>\n",
       "    <tr>\n",
       "      <th>0</th>\n",
       "      <td>1</td>\n",
       "      <td>John Arnold</td>\n",
       "      <td>Forestry</td>\n",
       "      <td>ENA Gas Financial</td>\n",
       "      <td>VP Trading</td>\n",
       "      <td>Male</td>\n",
       "      <td>Senior</td>\n",
       "    </tr>\n",
       "    <tr>\n",
       "      <th>1</th>\n",
       "      <td>2</td>\n",
       "      <td>Harry Arora</td>\n",
       "      <td>Forestry</td>\n",
       "      <td>ENA East Power</td>\n",
       "      <td>VP Trading</td>\n",
       "      <td>Male</td>\n",
       "      <td>Senior</td>\n",
       "    </tr>\n",
       "    <tr>\n",
       "      <th>2</th>\n",
       "      <td>3</td>\n",
       "      <td>Robert Badeer</td>\n",
       "      <td>Forestry</td>\n",
       "      <td>ENA West Power</td>\n",
       "      <td>Mgr Trading</td>\n",
       "      <td>Male</td>\n",
       "      <td>Junior</td>\n",
       "    </tr>\n",
       "    <tr>\n",
       "      <th>3</th>\n",
       "      <td>4</td>\n",
       "      <td>Susan Bailey</td>\n",
       "      <td>Legal</td>\n",
       "      <td>ENA Legal</td>\n",
       "      <td>Specialist Legal</td>\n",
       "      <td>Female</td>\n",
       "      <td>Junior</td>\n",
       "    </tr>\n",
       "    <tr>\n",
       "      <th>4</th>\n",
       "      <td>5</td>\n",
       "      <td>Eric Bass</td>\n",
       "      <td>Forestry</td>\n",
       "      <td>ENA Gas Texas</td>\n",
       "      <td>Trader</td>\n",
       "      <td>Male</td>\n",
       "      <td>Junior</td>\n",
       "    </tr>\n",
       "  </tbody>\n",
       "</table>\n",
       "</div>"
      ],
      "text/plain": [
       "   eid           name department     longdepartment             title  gender  \\\n",
       "0    1    John Arnold   Forestry  ENA Gas Financial        VP Trading    Male   \n",
       "1    2    Harry Arora   Forestry     ENA East Power        VP Trading    Male   \n",
       "2    3  Robert Badeer   Forestry     ENA West Power       Mgr Trading    Male   \n",
       "3    4   Susan Bailey      Legal          ENA Legal  Specialist Legal  Female   \n",
       "4    5      Eric Bass   Forestry      ENA Gas Texas            Trader    Male   \n",
       "\n",
       "  seniority  \n",
       "0    Senior  \n",
       "1    Senior  \n",
       "2    Junior  \n",
       "3    Junior  \n",
       "4    Junior  "
      ]
     },
     "execution_count": 15,
     "metadata": {},
     "output_type": "execute_result"
    }
   ],
   "source": [
    "employeeBase.head()"
   ]
  },
  {
   "cell_type": "code",
   "execution_count": 16,
   "metadata": {
    "collapsed": false
   },
   "outputs": [
    {
     "data": {
      "text/html": [
       "<div>\n",
       "<table border=\"1\" class=\"dataframe\">\n",
       "  <thead>\n",
       "    <tr style=\"text-align: right;\">\n",
       "      <th></th>\n",
       "      <th>mid</th>\n",
       "      <th>filename</th>\n",
       "      <th>unix_time</th>\n",
       "      <th>subject</th>\n",
       "      <th>from_eid</th>\n",
       "    </tr>\n",
       "  </thead>\n",
       "  <tbody>\n",
       "    <tr>\n",
       "      <th>0</th>\n",
       "      <td>1</td>\n",
       "      <td>taylor-m/sent/11</td>\n",
       "      <td>910930020</td>\n",
       "      <td>Cd$ CME letter</td>\n",
       "      <td>138</td>\n",
       "    </tr>\n",
       "    <tr>\n",
       "      <th>1</th>\n",
       "      <td>2</td>\n",
       "      <td>taylor-m/sent/17</td>\n",
       "      <td>911459940</td>\n",
       "      <td>Indemnification</td>\n",
       "      <td>138</td>\n",
       "    </tr>\n",
       "    <tr>\n",
       "      <th>2</th>\n",
       "      <td>3</td>\n",
       "      <td>taylor-m/sent/18</td>\n",
       "      <td>911463840</td>\n",
       "      <td>Re: Indemnification</td>\n",
       "      <td>138</td>\n",
       "    </tr>\n",
       "    <tr>\n",
       "      <th>3</th>\n",
       "      <td>4</td>\n",
       "      <td>taylor-m/sent/23</td>\n",
       "      <td>911874180</td>\n",
       "      <td>Re: Coral Energy, L.P.</td>\n",
       "      <td>138</td>\n",
       "    </tr>\n",
       "    <tr>\n",
       "      <th>4</th>\n",
       "      <td>5</td>\n",
       "      <td>taylor-m/sent/27</td>\n",
       "      <td>912396120</td>\n",
       "      <td>Bankruptcy Code revisions</td>\n",
       "      <td>138</td>\n",
       "    </tr>\n",
       "  </tbody>\n",
       "</table>\n",
       "</div>"
      ],
      "text/plain": [
       "   mid          filename  unix_time                    subject  from_eid\n",
       "0    1  taylor-m/sent/11  910930020             Cd$ CME letter       138\n",
       "1    2  taylor-m/sent/17  911459940            Indemnification       138\n",
       "2    3  taylor-m/sent/18  911463840        Re: Indemnification       138\n",
       "3    4  taylor-m/sent/23  911874180     Re: Coral Energy, L.P.       138\n",
       "4    5  taylor-m/sent/27  912396120  Bankruptcy Code revisions       138"
      ]
     },
     "execution_count": 16,
     "metadata": {},
     "output_type": "execute_result"
    }
   ],
   "source": [
    "messageBase.head()"
   ]
  },
  {
   "cell_type": "code",
   "execution_count": 17,
   "metadata": {
    "collapsed": false
   },
   "outputs": [
    {
     "data": {
      "text/html": [
       "<div>\n",
       "<table border=\"1\" class=\"dataframe\">\n",
       "  <thead>\n",
       "    <tr style=\"text-align: right;\">\n",
       "      <th></th>\n",
       "      <th>mid</th>\n",
       "      <th>rno</th>\n",
       "      <th>to_eid</th>\n",
       "    </tr>\n",
       "  </thead>\n",
       "  <tbody>\n",
       "    <tr>\n",
       "      <th>0</th>\n",
       "      <td>1</td>\n",
       "      <td>1</td>\n",
       "      <td>59</td>\n",
       "    </tr>\n",
       "    <tr>\n",
       "      <th>1</th>\n",
       "      <td>2</td>\n",
       "      <td>1</td>\n",
       "      <td>15</td>\n",
       "    </tr>\n",
       "    <tr>\n",
       "      <th>2</th>\n",
       "      <td>3</td>\n",
       "      <td>1</td>\n",
       "      <td>15</td>\n",
       "    </tr>\n",
       "    <tr>\n",
       "      <th>3</th>\n",
       "      <td>4</td>\n",
       "      <td>1</td>\n",
       "      <td>109</td>\n",
       "    </tr>\n",
       "    <tr>\n",
       "      <th>4</th>\n",
       "      <td>4</td>\n",
       "      <td>2</td>\n",
       "      <td>49</td>\n",
       "    </tr>\n",
       "  </tbody>\n",
       "</table>\n",
       "</div>"
      ],
      "text/plain": [
       "   mid  rno  to_eid\n",
       "0    1    1      59\n",
       "1    2    1      15\n",
       "2    3    1      15\n",
       "3    4    1     109\n",
       "4    4    2      49"
      ]
     },
     "execution_count": 17,
     "metadata": {},
     "output_type": "execute_result"
    }
   ],
   "source": [
    "recipientBase.head()"
   ]
  },
  {
   "cell_type": "markdown",
   "metadata": {},
   "source": [
    "## 2. Data Exploration\n",
    "\n",
    "Use the 3 dataframes to answer the following questions:\n",
    "\n",
    "1. How many employees are there in the company? **156 employees**\n",
    "- How many messages are there in the database? **21,635 messages**\n",
    "- Convert the timestamp column in the messages. When was the oldest message sent? And the newest? **The oldest was sent November 13th, 1998 at 4:07am. The most recent message was sent June 21st, 2002 at 1:37:34pm**\n",
    "- Some messages are sent to more than one recipient. Group the messages by message_id and count the number of recepients. Then look at the distribution of recepient numbers.\n",
    "    - How many messages have only one recepient?\n",
    "    - How many messages have >= 5 recepients?\n",
    "    - What's the highest number of recepients?\n",
    "    - Who sent the message with the highest number of recepients?\n",
    "- Plot the distribution of recepient numbers using Bokeh."
   ]
  },
  {
   "cell_type": "code",
   "execution_count": 18,
   "metadata": {
    "collapsed": false
   },
   "outputs": [
    {
     "data": {
      "text/plain": [
       "156"
      ]
     },
     "execution_count": 18,
     "metadata": {},
     "output_type": "execute_result"
    }
   ],
   "source": [
    "len(employeeBase)"
   ]
  },
  {
   "cell_type": "code",
   "execution_count": 22,
   "metadata": {
    "collapsed": false
   },
   "outputs": [
    {
     "data": {
      "text/plain": [
       "21635"
      ]
     },
     "execution_count": 22,
     "metadata": {},
     "output_type": "execute_result"
    }
   ],
   "source": [
    "len(messageBase)"
   ]
  },
  {
   "cell_type": "code",
   "execution_count": 19,
   "metadata": {
    "collapsed": false
   },
   "outputs": [],
   "source": [
    "messageBase['unix_time'] = pd.to_datetime(messageBase['unix_time'],unit='s')"
   ]
  },
  {
   "cell_type": "code",
   "execution_count": 20,
   "metadata": {
    "collapsed": true
   },
   "outputs": [
    {
     "data": {
      "text/html": [
       "<div>\n",
       "<table border=\"1\" class=\"dataframe\">\n",
       "  <thead>\n",
       "    <tr style=\"text-align: right;\">\n",
       "      <th></th>\n",
       "      <th>mid</th>\n",
       "      <th>filename</th>\n",
       "      <th>unix_time</th>\n",
       "      <th>subject</th>\n",
       "      <th>from_eid</th>\n",
       "    </tr>\n",
       "  </thead>\n",
       "  <tbody>\n",
       "    <tr>\n",
       "      <th>21634</th>\n",
       "      <td>21635</td>\n",
       "      <td>germany-c/inbox/23</td>\n",
       "      <td>2002-06-21 13:37:34</td>\n",
       "      <td>Master Termination Log</td>\n",
       "      <td>92</td>\n",
       "    </tr>\n",
       "    <tr>\n",
       "      <th>21633</th>\n",
       "      <td>21634</td>\n",
       "      <td>germany-c/inbox/42</td>\n",
       "      <td>2002-06-13 12:16:11</td>\n",
       "      <td>Netting Agreement Materials</td>\n",
       "      <td>4</td>\n",
       "    </tr>\n",
       "    <tr>\n",
       "      <th>21632</th>\n",
       "      <td>21633</td>\n",
       "      <td>germany-c/personal/1</td>\n",
       "      <td>2002-06-12 09:21:36</td>\n",
       "      <td>RE: Job Ops</td>\n",
       "      <td>57</td>\n",
       "    </tr>\n",
       "    <tr>\n",
       "      <th>21631</th>\n",
       "      <td>21632</td>\n",
       "      <td>germany-c/sent_items/74</td>\n",
       "      <td>2002-06-12 09:20:33</td>\n",
       "      <td>Job Ops</td>\n",
       "      <td>39</td>\n",
       "    </tr>\n",
       "    <tr>\n",
       "      <th>21630</th>\n",
       "      <td>21631</td>\n",
       "      <td>germany-c/inbox/49</td>\n",
       "      <td>2002-06-10 11:28:51</td>\n",
       "      <td>NNG Deals</td>\n",
       "      <td>39</td>\n",
       "    </tr>\n",
       "    <tr>\n",
       "      <th>21629</th>\n",
       "      <td>21630</td>\n",
       "      <td>germany-c/calendar/5</td>\n",
       "      <td>2002-05-28 15:02:28</td>\n",
       "      <td>Updated: Meeting regarding transport and storage</td>\n",
       "      <td>77</td>\n",
       "    </tr>\n",
       "    <tr>\n",
       "      <th>21628</th>\n",
       "      <td>21629</td>\n",
       "      <td>germany-c/inbox/66</td>\n",
       "      <td>2002-05-27 20:32:34</td>\n",
       "      <td>Re: Update</td>\n",
       "      <td>94</td>\n",
       "    </tr>\n",
       "    <tr>\n",
       "      <th>21627</th>\n",
       "      <td>21628</td>\n",
       "      <td>germany-c/personal/3</td>\n",
       "      <td>2002-05-22 10:43:37</td>\n",
       "      <td>Sorry for the blank email...here's the real deal</td>\n",
       "      <td>118</td>\n",
       "    </tr>\n",
       "    <tr>\n",
       "      <th>21626</th>\n",
       "      <td>21627</td>\n",
       "      <td>germany-c/bankrupt/transport/national_fuel/4</td>\n",
       "      <td>2002-05-20 08:09:45</td>\n",
       "      <td>RE: Nation Fuel Gas Supply Corporation  ---  E...</td>\n",
       "      <td>77</td>\n",
       "    </tr>\n",
       "    <tr>\n",
       "      <th>21625</th>\n",
       "      <td>21626</td>\n",
       "      <td>germany-c/bankrupt/12</td>\n",
       "      <td>2002-05-10 11:40:40</td>\n",
       "      <td>Information Tools Memo</td>\n",
       "      <td>4</td>\n",
       "    </tr>\n",
       "    <tr>\n",
       "      <th>21624</th>\n",
       "      <td>21625</td>\n",
       "      <td>germany-c/bankrupt/13</td>\n",
       "      <td>2002-05-09 14:34:03</td>\n",
       "      <td>Master Termination Log</td>\n",
       "      <td>92</td>\n",
       "    </tr>\n",
       "    <tr>\n",
       "      <th>21623</th>\n",
       "      <td>21624</td>\n",
       "      <td>germany-c/bankrupt/14</td>\n",
       "      <td>2002-05-09 06:34:03</td>\n",
       "      <td>Master Termination Log</td>\n",
       "      <td>92</td>\n",
       "    </tr>\n",
       "    <tr>\n",
       "      <th>21622</th>\n",
       "      <td>21623</td>\n",
       "      <td>germany-c/bankrupt/16</td>\n",
       "      <td>2002-05-07 13:54:49</td>\n",
       "      <td>Master Termination Log</td>\n",
       "      <td>92</td>\n",
       "    </tr>\n",
       "    <tr>\n",
       "      <th>21621</th>\n",
       "      <td>21622</td>\n",
       "      <td>germany-c/sent_items/201</td>\n",
       "      <td>2002-05-02 14:12:54</td>\n",
       "      <td>RE: Activity</td>\n",
       "      <td>39</td>\n",
       "    </tr>\n",
       "    <tr>\n",
       "      <th>21620</th>\n",
       "      <td>21621</td>\n",
       "      <td>parks-j/sent_items/78</td>\n",
       "      <td>2002-05-02 14:12:13</td>\n",
       "      <td>RE: Activity</td>\n",
       "      <td>93</td>\n",
       "    </tr>\n",
       "    <tr>\n",
       "      <th>21619</th>\n",
       "      <td>21620</td>\n",
       "      <td>germany-c/sent_items/202</td>\n",
       "      <td>2002-05-02 14:10:59</td>\n",
       "      <td>Activity</td>\n",
       "      <td>39</td>\n",
       "    </tr>\n",
       "    <tr>\n",
       "      <th>21618</th>\n",
       "      <td>21619</td>\n",
       "      <td>germany-c/bankrupt/transport/el_paso/2</td>\n",
       "      <td>2002-05-01 13:36:52</td>\n",
       "      <td>Re: URGENT  --  BTRC for the El Paso and Tenne...</td>\n",
       "      <td>77</td>\n",
       "    </tr>\n",
       "    <tr>\n",
       "      <th>21617</th>\n",
       "      <td>21618</td>\n",
       "      <td>germany-c/bankrupt/transport/el_paso/4</td>\n",
       "      <td>2002-04-30 10:09:53</td>\n",
       "      <td>RE: EPNG Stipulation -- Rejection of ROFR Cont...</td>\n",
       "      <td>77</td>\n",
       "    </tr>\n",
       "    <tr>\n",
       "      <th>21616</th>\n",
       "      <td>21617</td>\n",
       "      <td>germany-c/bankrupt/transport/el_paso/6</td>\n",
       "      <td>2002-04-30 09:07:24</td>\n",
       "      <td>RE: EPNG Stipulation -- Rejection of ROFR Cont...</td>\n",
       "      <td>77</td>\n",
       "    </tr>\n",
       "    <tr>\n",
       "      <th>21615</th>\n",
       "      <td>21616</td>\n",
       "      <td>germany-c/sent_items/285</td>\n",
       "      <td>2002-04-23 10:22:07</td>\n",
       "      <td></td>\n",
       "      <td>39</td>\n",
       "    </tr>\n",
       "    <tr>\n",
       "      <th>21614</th>\n",
       "      <td>21615</td>\n",
       "      <td>germany-c/sent_items/290</td>\n",
       "      <td>2002-04-23 08:28:08</td>\n",
       "      <td>Midland Cogeneration for May 2002</td>\n",
       "      <td>39</td>\n",
       "    </tr>\n",
       "    <tr>\n",
       "      <th>21613</th>\n",
       "      <td>21614</td>\n",
       "      <td>germany-c/sent_items/350</td>\n",
       "      <td>2002-04-15 07:48:14</td>\n",
       "      <td>Transco scoop</td>\n",
       "      <td>39</td>\n",
       "    </tr>\n",
       "    <tr>\n",
       "      <th>21612</th>\n",
       "      <td>21613</td>\n",
       "      <td>gang-l/deleted_items/387</td>\n",
       "      <td>2002-04-15 07:26:31</td>\n",
       "      <td>FW: Tag's that EPE did not have</td>\n",
       "      <td>151</td>\n",
       "    </tr>\n",
       "    <tr>\n",
       "      <th>21611</th>\n",
       "      <td>21612</td>\n",
       "      <td>germany-c/sent_items/364</td>\n",
       "      <td>2002-04-12 07:23:39</td>\n",
       "      <td>RE: email addresses</td>\n",
       "      <td>39</td>\n",
       "    </tr>\n",
       "    <tr>\n",
       "      <th>21610</th>\n",
       "      <td>21611</td>\n",
       "      <td>germany-c/personal/14</td>\n",
       "      <td>2002-04-11 14:29:52</td>\n",
       "      <td>Re: Hey</td>\n",
       "      <td>94</td>\n",
       "    </tr>\n",
       "    <tr>\n",
       "      <th>21609</th>\n",
       "      <td>21610</td>\n",
       "      <td>germany-c/personal/15</td>\n",
       "      <td>2002-04-09 18:42:46</td>\n",
       "      <td>Re: Hey</td>\n",
       "      <td>94</td>\n",
       "    </tr>\n",
       "    <tr>\n",
       "      <th>21608</th>\n",
       "      <td>21609</td>\n",
       "      <td>germany-c/bankrupt/transport/sonat/3</td>\n",
       "      <td>2002-04-09 08:56:21</td>\n",
       "      <td>RE: Sonat Park &amp; Loan</td>\n",
       "      <td>39</td>\n",
       "    </tr>\n",
       "    <tr>\n",
       "      <th>21607</th>\n",
       "      <td>21608</td>\n",
       "      <td>germany-c/personal/16</td>\n",
       "      <td>2002-04-08 20:46:15</td>\n",
       "      <td>Re: Hey</td>\n",
       "      <td>94</td>\n",
       "    </tr>\n",
       "    <tr>\n",
       "      <th>21606</th>\n",
       "      <td>21607</td>\n",
       "      <td>germany-c/sent_items/410</td>\n",
       "      <td>2002-04-08 08:35:51</td>\n",
       "      <td>Hey</td>\n",
       "      <td>39</td>\n",
       "    </tr>\n",
       "    <tr>\n",
       "      <th>21605</th>\n",
       "      <td>21606</td>\n",
       "      <td>germany-c/bankrupt/enron_compressor_services/8</td>\n",
       "      <td>2002-04-02 13:33:17</td>\n",
       "      <td>FW: ADDENDUM</td>\n",
       "      <td>39</td>\n",
       "    </tr>\n",
       "    <tr>\n",
       "      <th>...</th>\n",
       "      <td>...</td>\n",
       "      <td>...</td>\n",
       "      <td>...</td>\n",
       "      <td>...</td>\n",
       "      <td>...</td>\n",
       "    </tr>\n",
       "    <tr>\n",
       "      <th>29</th>\n",
       "      <td>30</td>\n",
       "      <td>taylor-m/sent/110</td>\n",
       "      <td>1999-01-15 07:22:00</td>\n",
       "      <td>Financial Trading Documentation</td>\n",
       "      <td>138</td>\n",
       "    </tr>\n",
       "    <tr>\n",
       "      <th>28</th>\n",
       "      <td>29</td>\n",
       "      <td>taylor-m/sent/105</td>\n",
       "      <td>1999-01-15 01:20:00</td>\n",
       "      <td>Thursday - Option Investor Newsletter 2 of 2</td>\n",
       "      <td>138</td>\n",
       "    </tr>\n",
       "    <tr>\n",
       "      <th>27</th>\n",
       "      <td>28</td>\n",
       "      <td>taylor-m/sent/96</td>\n",
       "      <td>1999-01-13 06:41:00</td>\n",
       "      <td>Paralegal Position</td>\n",
       "      <td>138</td>\n",
       "    </tr>\n",
       "    <tr>\n",
       "      <th>26</th>\n",
       "      <td>27</td>\n",
       "      <td>taylor-m/sent/95</td>\n",
       "      <td>1999-01-13 03:39:00</td>\n",
       "      <td>Re: UK Courts vs. Arbitration for UK Swap Agre...</td>\n",
       "      <td>138</td>\n",
       "    </tr>\n",
       "    <tr>\n",
       "      <th>25</th>\n",
       "      <td>26</td>\n",
       "      <td>taylor-m/sent/90</td>\n",
       "      <td>1999-01-12 01:25:00</td>\n",
       "      <td>Houston</td>\n",
       "      <td>138</td>\n",
       "    </tr>\n",
       "    <tr>\n",
       "      <th>24</th>\n",
       "      <td>25</td>\n",
       "      <td>taylor-m/sent/88</td>\n",
       "      <td>1999-01-08 08:54:00</td>\n",
       "      <td>UK Courts vs. Arbitration for UK Swap Agreements</td>\n",
       "      <td>138</td>\n",
       "    </tr>\n",
       "    <tr>\n",
       "      <th>23</th>\n",
       "      <td>24</td>\n",
       "      <td>taylor-m/sent/87</td>\n",
       "      <td>1999-01-08 08:15:00</td>\n",
       "      <td>Taking cash collateral in Canada</td>\n",
       "      <td>138</td>\n",
       "    </tr>\n",
       "    <tr>\n",
       "      <th>22</th>\n",
       "      <td>23</td>\n",
       "      <td>taylor-m/sent/86</td>\n",
       "      <td>1999-01-08 03:38:00</td>\n",
       "      <td>Re: JEDI II</td>\n",
       "      <td>138</td>\n",
       "    </tr>\n",
       "    <tr>\n",
       "      <th>21</th>\n",
       "      <td>22</td>\n",
       "      <td>taylor-m/sent/84</td>\n",
       "      <td>1999-01-07 08:59:00</td>\n",
       "      <td>Re: Master Swap Agreement for HL&amp;P</td>\n",
       "      <td>138</td>\n",
       "    </tr>\n",
       "    <tr>\n",
       "      <th>20</th>\n",
       "      <td>21</td>\n",
       "      <td>taylor-m/sent/83</td>\n",
       "      <td>1999-01-07 08:46:00</td>\n",
       "      <td>JEDI II</td>\n",
       "      <td>138</td>\n",
       "    </tr>\n",
       "    <tr>\n",
       "      <th>19</th>\n",
       "      <td>20</td>\n",
       "      <td>taylor-m/sent/82</td>\n",
       "      <td>1999-01-07 08:42:00</td>\n",
       "      <td>Friday telephone call</td>\n",
       "      <td>138</td>\n",
       "    </tr>\n",
       "    <tr>\n",
       "      <th>18</th>\n",
       "      <td>19</td>\n",
       "      <td>taylor-m/sent/78</td>\n",
       "      <td>1999-01-04 04:11:00</td>\n",
       "      <td>Ormet</td>\n",
       "      <td>138</td>\n",
       "    </tr>\n",
       "    <tr>\n",
       "      <th>17</th>\n",
       "      <td>18</td>\n",
       "      <td>taylor-m/sent/77</td>\n",
       "      <td>1999-01-04 02:21:00</td>\n",
       "      <td>Ormet</td>\n",
       "      <td>138</td>\n",
       "    </tr>\n",
       "    <tr>\n",
       "      <th>16</th>\n",
       "      <td>17</td>\n",
       "      <td>taylor-m/all_documents/8545</td>\n",
       "      <td>1998-12-30 05:57:00</td>\n",
       "      <td>1998 Bonus &amp; 1999 Merit Year-End Process Infor...</td>\n",
       "      <td>45</td>\n",
       "    </tr>\n",
       "    <tr>\n",
       "      <th>15</th>\n",
       "      <td>16</td>\n",
       "      <td>taylor-m/sent/71</td>\n",
       "      <td>1998-12-22 03:44:00</td>\n",
       "      <td>Re: ECT SA Legal Team Meeting</td>\n",
       "      <td>138</td>\n",
       "    </tr>\n",
       "    <tr>\n",
       "      <th>14</th>\n",
       "      <td>15</td>\n",
       "      <td>taylor-m/all_documents/73</td>\n",
       "      <td>1998-12-21 05:29:00</td>\n",
       "      <td>Indemnification Agreement</td>\n",
       "      <td>15</td>\n",
       "    </tr>\n",
       "    <tr>\n",
       "      <th>13</th>\n",
       "      <td>14</td>\n",
       "      <td>taylor-m/sent/62</td>\n",
       "      <td>1998-12-18 03:02:00</td>\n",
       "      <td>Re: Waste Managment Inc.</td>\n",
       "      <td>138</td>\n",
       "    </tr>\n",
       "    <tr>\n",
       "      <th>12</th>\n",
       "      <td>13</td>\n",
       "      <td>taylor-m/sent/57</td>\n",
       "      <td>1998-12-16 08:35:00</td>\n",
       "      <td>HL&amp;P</td>\n",
       "      <td>138</td>\n",
       "    </tr>\n",
       "    <tr>\n",
       "      <th>11</th>\n",
       "      <td>12</td>\n",
       "      <td>taylor-m/sent/52</td>\n",
       "      <td>1998-12-16 01:03:00</td>\n",
       "      <td>Cancellation of Swap Group Meeting</td>\n",
       "      <td>138</td>\n",
       "    </tr>\n",
       "    <tr>\n",
       "      <th>10</th>\n",
       "      <td>11</td>\n",
       "      <td>taylor-m/sent/45</td>\n",
       "      <td>1998-12-09 01:17:00</td>\n",
       "      <td>Trading Documentation - Reminder</td>\n",
       "      <td>138</td>\n",
       "    </tr>\n",
       "    <tr>\n",
       "      <th>9</th>\n",
       "      <td>10</td>\n",
       "      <td>taylor-m/sent/44</td>\n",
       "      <td>1998-12-09 01:14:00</td>\n",
       "      <td>Re: Last Message</td>\n",
       "      <td>138</td>\n",
       "    </tr>\n",
       "    <tr>\n",
       "      <th>8</th>\n",
       "      <td>9</td>\n",
       "      <td>taylor-m/sent/41</td>\n",
       "      <td>1998-12-04 01:15:00</td>\n",
       "      <td>Re: Vacation Request</td>\n",
       "      <td>138</td>\n",
       "    </tr>\n",
       "    <tr>\n",
       "      <th>7</th>\n",
       "      <td>8</td>\n",
       "      <td>taylor-m/sent/40</td>\n",
       "      <td>1998-12-03 11:38:00</td>\n",
       "      <td>Re: Time to Celebrate!</td>\n",
       "      <td>138</td>\n",
       "    </tr>\n",
       "    <tr>\n",
       "      <th>6</th>\n",
       "      <td>7</td>\n",
       "      <td>taylor-m/sent/33</td>\n",
       "      <td>1998-12-02 05:24:00</td>\n",
       "      <td>Koch</td>\n",
       "      <td>138</td>\n",
       "    </tr>\n",
       "    <tr>\n",
       "      <th>5</th>\n",
       "      <td>6</td>\n",
       "      <td>taylor-m/sent/31</td>\n",
       "      <td>1998-12-02 03:47:00</td>\n",
       "      <td>Re: Position Description</td>\n",
       "      <td>138</td>\n",
       "    </tr>\n",
       "    <tr>\n",
       "      <th>4</th>\n",
       "      <td>5</td>\n",
       "      <td>taylor-m/sent/27</td>\n",
       "      <td>1998-11-30 03:22:00</td>\n",
       "      <td>Bankruptcy Code revisions</td>\n",
       "      <td>138</td>\n",
       "    </tr>\n",
       "    <tr>\n",
       "      <th>3</th>\n",
       "      <td>4</td>\n",
       "      <td>taylor-m/sent/23</td>\n",
       "      <td>1998-11-24 02:23:00</td>\n",
       "      <td>Re: Coral Energy, L.P.</td>\n",
       "      <td>138</td>\n",
       "    </tr>\n",
       "    <tr>\n",
       "      <th>2</th>\n",
       "      <td>3</td>\n",
       "      <td>taylor-m/sent/18</td>\n",
       "      <td>1998-11-19 08:24:00</td>\n",
       "      <td>Re: Indemnification</td>\n",
       "      <td>138</td>\n",
       "    </tr>\n",
       "    <tr>\n",
       "      <th>1</th>\n",
       "      <td>2</td>\n",
       "      <td>taylor-m/sent/17</td>\n",
       "      <td>1998-11-19 07:19:00</td>\n",
       "      <td>Indemnification</td>\n",
       "      <td>138</td>\n",
       "    </tr>\n",
       "    <tr>\n",
       "      <th>0</th>\n",
       "      <td>1</td>\n",
       "      <td>taylor-m/sent/11</td>\n",
       "      <td>1998-11-13 04:07:00</td>\n",
       "      <td>Cd$ CME letter</td>\n",
       "      <td>138</td>\n",
       "    </tr>\n",
       "  </tbody>\n",
       "</table>\n",
       "<p>21635 rows × 5 columns</p>\n",
       "</div>"
      ],
      "text/plain": [
       "         mid                                        filename  \\\n",
       "21634  21635                              germany-c/inbox/23   \n",
       "21633  21634                              germany-c/inbox/42   \n",
       "21632  21633                            germany-c/personal/1   \n",
       "21631  21632                         germany-c/sent_items/74   \n",
       "21630  21631                              germany-c/inbox/49   \n",
       "21629  21630                            germany-c/calendar/5   \n",
       "21628  21629                              germany-c/inbox/66   \n",
       "21627  21628                            germany-c/personal/3   \n",
       "21626  21627    germany-c/bankrupt/transport/national_fuel/4   \n",
       "21625  21626                           germany-c/bankrupt/12   \n",
       "21624  21625                           germany-c/bankrupt/13   \n",
       "21623  21624                           germany-c/bankrupt/14   \n",
       "21622  21623                           germany-c/bankrupt/16   \n",
       "21621  21622                        germany-c/sent_items/201   \n",
       "21620  21621                           parks-j/sent_items/78   \n",
       "21619  21620                        germany-c/sent_items/202   \n",
       "21618  21619          germany-c/bankrupt/transport/el_paso/2   \n",
       "21617  21618          germany-c/bankrupt/transport/el_paso/4   \n",
       "21616  21617          germany-c/bankrupt/transport/el_paso/6   \n",
       "21615  21616                        germany-c/sent_items/285   \n",
       "21614  21615                        germany-c/sent_items/290   \n",
       "21613  21614                        germany-c/sent_items/350   \n",
       "21612  21613                        gang-l/deleted_items/387   \n",
       "21611  21612                        germany-c/sent_items/364   \n",
       "21610  21611                           germany-c/personal/14   \n",
       "21609  21610                           germany-c/personal/15   \n",
       "21608  21609            germany-c/bankrupt/transport/sonat/3   \n",
       "21607  21608                           germany-c/personal/16   \n",
       "21606  21607                        germany-c/sent_items/410   \n",
       "21605  21606  germany-c/bankrupt/enron_compressor_services/8   \n",
       "...      ...                                             ...   \n",
       "29        30                               taylor-m/sent/110   \n",
       "28        29                               taylor-m/sent/105   \n",
       "27        28                                taylor-m/sent/96   \n",
       "26        27                                taylor-m/sent/95   \n",
       "25        26                                taylor-m/sent/90   \n",
       "24        25                                taylor-m/sent/88   \n",
       "23        24                                taylor-m/sent/87   \n",
       "22        23                                taylor-m/sent/86   \n",
       "21        22                                taylor-m/sent/84   \n",
       "20        21                                taylor-m/sent/83   \n",
       "19        20                                taylor-m/sent/82   \n",
       "18        19                                taylor-m/sent/78   \n",
       "17        18                                taylor-m/sent/77   \n",
       "16        17                     taylor-m/all_documents/8545   \n",
       "15        16                                taylor-m/sent/71   \n",
       "14        15                       taylor-m/all_documents/73   \n",
       "13        14                                taylor-m/sent/62   \n",
       "12        13                                taylor-m/sent/57   \n",
       "11        12                                taylor-m/sent/52   \n",
       "10        11                                taylor-m/sent/45   \n",
       "9         10                                taylor-m/sent/44   \n",
       "8          9                                taylor-m/sent/41   \n",
       "7          8                                taylor-m/sent/40   \n",
       "6          7                                taylor-m/sent/33   \n",
       "5          6                                taylor-m/sent/31   \n",
       "4          5                                taylor-m/sent/27   \n",
       "3          4                                taylor-m/sent/23   \n",
       "2          3                                taylor-m/sent/18   \n",
       "1          2                                taylor-m/sent/17   \n",
       "0          1                                taylor-m/sent/11   \n",
       "\n",
       "                unix_time                                            subject  \\\n",
       "21634 2002-06-21 13:37:34                             Master Termination Log   \n",
       "21633 2002-06-13 12:16:11                        Netting Agreement Materials   \n",
       "21632 2002-06-12 09:21:36                                        RE: Job Ops   \n",
       "21631 2002-06-12 09:20:33                                            Job Ops   \n",
       "21630 2002-06-10 11:28:51                                          NNG Deals   \n",
       "21629 2002-05-28 15:02:28   Updated: Meeting regarding transport and storage   \n",
       "21628 2002-05-27 20:32:34                                         Re: Update   \n",
       "21627 2002-05-22 10:43:37   Sorry for the blank email...here's the real deal   \n",
       "21626 2002-05-20 08:09:45  RE: Nation Fuel Gas Supply Corporation  ---  E...   \n",
       "21625 2002-05-10 11:40:40                             Information Tools Memo   \n",
       "21624 2002-05-09 14:34:03                             Master Termination Log   \n",
       "21623 2002-05-09 06:34:03                             Master Termination Log   \n",
       "21622 2002-05-07 13:54:49                             Master Termination Log   \n",
       "21621 2002-05-02 14:12:54                                       RE: Activity   \n",
       "21620 2002-05-02 14:12:13                                       RE: Activity   \n",
       "21619 2002-05-02 14:10:59                                           Activity   \n",
       "21618 2002-05-01 13:36:52  Re: URGENT  --  BTRC for the El Paso and Tenne...   \n",
       "21617 2002-04-30 10:09:53  RE: EPNG Stipulation -- Rejection of ROFR Cont...   \n",
       "21616 2002-04-30 09:07:24  RE: EPNG Stipulation -- Rejection of ROFR Cont...   \n",
       "21615 2002-04-23 10:22:07                                                      \n",
       "21614 2002-04-23 08:28:08                  Midland Cogeneration for May 2002   \n",
       "21613 2002-04-15 07:48:14                                      Transco scoop   \n",
       "21612 2002-04-15 07:26:31                    FW: Tag's that EPE did not have   \n",
       "21611 2002-04-12 07:23:39                                RE: email addresses   \n",
       "21610 2002-04-11 14:29:52                                            Re: Hey   \n",
       "21609 2002-04-09 18:42:46                                            Re: Hey   \n",
       "21608 2002-04-09 08:56:21                              RE: Sonat Park & Loan   \n",
       "21607 2002-04-08 20:46:15                                            Re: Hey   \n",
       "21606 2002-04-08 08:35:51                                                Hey   \n",
       "21605 2002-04-02 13:33:17                                       FW: ADDENDUM   \n",
       "...                   ...                                                ...   \n",
       "29    1999-01-15 07:22:00                    Financial Trading Documentation   \n",
       "28    1999-01-15 01:20:00       Thursday - Option Investor Newsletter 2 of 2   \n",
       "27    1999-01-13 06:41:00                                 Paralegal Position   \n",
       "26    1999-01-13 03:39:00  Re: UK Courts vs. Arbitration for UK Swap Agre...   \n",
       "25    1999-01-12 01:25:00                                            Houston   \n",
       "24    1999-01-08 08:54:00   UK Courts vs. Arbitration for UK Swap Agreements   \n",
       "23    1999-01-08 08:15:00                   Taking cash collateral in Canada   \n",
       "22    1999-01-08 03:38:00                                        Re: JEDI II   \n",
       "21    1999-01-07 08:59:00                 Re: Master Swap Agreement for HL&P   \n",
       "20    1999-01-07 08:46:00                                            JEDI II   \n",
       "19    1999-01-07 08:42:00                              Friday telephone call   \n",
       "18    1999-01-04 04:11:00                                              Ormet   \n",
       "17    1999-01-04 02:21:00                                              Ormet   \n",
       "16    1998-12-30 05:57:00  1998 Bonus & 1999 Merit Year-End Process Infor...   \n",
       "15    1998-12-22 03:44:00                      Re: ECT SA Legal Team Meeting   \n",
       "14    1998-12-21 05:29:00                          Indemnification Agreement   \n",
       "13    1998-12-18 03:02:00                           Re: Waste Managment Inc.   \n",
       "12    1998-12-16 08:35:00                                               HL&P   \n",
       "11    1998-12-16 01:03:00                 Cancellation of Swap Group Meeting   \n",
       "10    1998-12-09 01:17:00                   Trading Documentation - Reminder   \n",
       "9     1998-12-09 01:14:00                                   Re: Last Message   \n",
       "8     1998-12-04 01:15:00                               Re: Vacation Request   \n",
       "7     1998-12-03 11:38:00                             Re: Time to Celebrate!   \n",
       "6     1998-12-02 05:24:00                                               Koch   \n",
       "5     1998-12-02 03:47:00                           Re: Position Description   \n",
       "4     1998-11-30 03:22:00                          Bankruptcy Code revisions   \n",
       "3     1998-11-24 02:23:00                             Re: Coral Energy, L.P.   \n",
       "2     1998-11-19 08:24:00                                Re: Indemnification   \n",
       "1     1998-11-19 07:19:00                                    Indemnification   \n",
       "0     1998-11-13 04:07:00                                     Cd$ CME letter   \n",
       "\n",
       "       from_eid  \n",
       "21634        92  \n",
       "21633         4  \n",
       "21632        57  \n",
       "21631        39  \n",
       "21630        39  \n",
       "21629        77  \n",
       "21628        94  \n",
       "21627       118  \n",
       "21626        77  \n",
       "21625         4  \n",
       "21624        92  \n",
       "21623        92  \n",
       "21622        92  \n",
       "21621        39  \n",
       "21620        93  \n",
       "21619        39  \n",
       "21618        77  \n",
       "21617        77  \n",
       "21616        77  \n",
       "21615        39  \n",
       "21614        39  \n",
       "21613        39  \n",
       "21612       151  \n",
       "21611        39  \n",
       "21610        94  \n",
       "21609        94  \n",
       "21608        39  \n",
       "21607        94  \n",
       "21606        39  \n",
       "21605        39  \n",
       "...         ...  \n",
       "29          138  \n",
       "28          138  \n",
       "27          138  \n",
       "26          138  \n",
       "25          138  \n",
       "24          138  \n",
       "23          138  \n",
       "22          138  \n",
       "21          138  \n",
       "20          138  \n",
       "19          138  \n",
       "18          138  \n",
       "17          138  \n",
       "16           45  \n",
       "15          138  \n",
       "14           15  \n",
       "13          138  \n",
       "12          138  \n",
       "11          138  \n",
       "10          138  \n",
       "9           138  \n",
       "8           138  \n",
       "7           138  \n",
       "6           138  \n",
       "5           138  \n",
       "4           138  \n",
       "3           138  \n",
       "2           138  \n",
       "1           138  \n",
       "0           138  \n",
       "\n",
       "[21635 rows x 5 columns]"
      ]
     },
     "execution_count": 20,
     "metadata": {},
     "output_type": "execute_result"
    }
   ],
   "source": [
    "messageBase.sort_values(by='unix_time', ascending=False)"
   ]
  },
  {
   "cell_type": "code",
   "execution_count": 25,
   "metadata": {
    "collapsed": false
   },
   "outputs": [
    {
     "name": "stdout",
     "output_type": "stream",
     "text": [
      "first msg was sent on: _\n",
      "last msg was sent on: x\n"
     ]
    }
   ],
   "source": [
    "#datetimes = messageBase['unix_time'].apply(pd.datetime.fromtimestamp)\n",
    "#print \"first msg was sent on:\", min(datetimes)\n",
    "#print \"last msg was sent on:\", max(datetimes)"
   ]
  },
  {
   "cell_type": "code",
   "execution_count": 21,
   "metadata": {
    "collapsed": false
   },
   "outputs": [
    {
     "data": {
      "text/html": [
       "<div>\n",
       "<table border=\"1\" class=\"dataframe\">\n",
       "  <thead>\n",
       "    <tr style=\"text-align: right;\">\n",
       "      <th></th>\n",
       "      <th>mid</th>\n",
       "      <th>filename</th>\n",
       "      <th>unix_time</th>\n",
       "      <th>subject</th>\n",
       "      <th>from_eid</th>\n",
       "    </tr>\n",
       "  </thead>\n",
       "  <tbody>\n",
       "    <tr>\n",
       "      <th>0</th>\n",
       "      <td>1</td>\n",
       "      <td>taylor-m/sent/11</td>\n",
       "      <td>1998-11-13 04:07:00</td>\n",
       "      <td>Cd$ CME letter</td>\n",
       "      <td>138</td>\n",
       "    </tr>\n",
       "    <tr>\n",
       "      <th>1</th>\n",
       "      <td>2</td>\n",
       "      <td>taylor-m/sent/17</td>\n",
       "      <td>1998-11-19 07:19:00</td>\n",
       "      <td>Indemnification</td>\n",
       "      <td>138</td>\n",
       "    </tr>\n",
       "    <tr>\n",
       "      <th>2</th>\n",
       "      <td>3</td>\n",
       "      <td>taylor-m/sent/18</td>\n",
       "      <td>1998-11-19 08:24:00</td>\n",
       "      <td>Re: Indemnification</td>\n",
       "      <td>138</td>\n",
       "    </tr>\n",
       "    <tr>\n",
       "      <th>3</th>\n",
       "      <td>4</td>\n",
       "      <td>taylor-m/sent/23</td>\n",
       "      <td>1998-11-24 02:23:00</td>\n",
       "      <td>Re: Coral Energy, L.P.</td>\n",
       "      <td>138</td>\n",
       "    </tr>\n",
       "    <tr>\n",
       "      <th>4</th>\n",
       "      <td>5</td>\n",
       "      <td>taylor-m/sent/27</td>\n",
       "      <td>1998-11-30 03:22:00</td>\n",
       "      <td>Bankruptcy Code revisions</td>\n",
       "      <td>138</td>\n",
       "    </tr>\n",
       "  </tbody>\n",
       "</table>\n",
       "</div>"
      ],
      "text/plain": [
       "   mid          filename           unix_time                    subject  \\\n",
       "0    1  taylor-m/sent/11 1998-11-13 04:07:00             Cd$ CME letter   \n",
       "1    2  taylor-m/sent/17 1998-11-19 07:19:00            Indemnification   \n",
       "2    3  taylor-m/sent/18 1998-11-19 08:24:00        Re: Indemnification   \n",
       "3    4  taylor-m/sent/23 1998-11-24 02:23:00     Re: Coral Energy, L.P.   \n",
       "4    5  taylor-m/sent/27 1998-11-30 03:22:00  Bankruptcy Code revisions   \n",
       "\n",
       "   from_eid  \n",
       "0       138  \n",
       "1       138  \n",
       "2       138  \n",
       "3       138  \n",
       "4       138  "
      ]
     },
     "execution_count": 21,
     "metadata": {},
     "output_type": "execute_result"
    }
   ],
   "source": [
    "messageBase.head()"
   ]
  },
  {
   "cell_type": "markdown",
   "metadata": {},
   "source": [
    "Rescale to investigate the tail of the curve"
   ]
  },
  {
   "cell_type": "code",
   "execution_count": 26,
   "metadata": {
    "collapsed": false
   },
   "outputs": [],
   "source": [
    "from collections import Counter"
   ]
  },
  {
   "cell_type": "code",
   "execution_count": 28,
   "metadata": {
    "collapsed": true
   },
   "outputs": [
    {
     "data": {
      "text/plain": [
       "Counter({1: 14985,\n",
       "         2: 2962,\n",
       "         3: 1435,\n",
       "         4: 873,\n",
       "         5: 711,\n",
       "         6: 180,\n",
       "         7: 176,\n",
       "         8: 61,\n",
       "         9: 24,\n",
       "         10: 29,\n",
       "         11: 47,\n",
       "         12: 33,\n",
       "         13: 57,\n",
       "         14: 11,\n",
       "         15: 28,\n",
       "         16: 9,\n",
       "         17: 2,\n",
       "         18: 1,\n",
       "         19: 1,\n",
       "         20: 1,\n",
       "         21: 2,\n",
       "         22: 1,\n",
       "         24: 1,\n",
       "         49: 1,\n",
       "         52: 1,\n",
       "         55: 1,\n",
       "         57: 2})"
      ]
     },
     "execution_count": 28,
     "metadata": {},
     "output_type": "execute_result"
    }
   ],
   "source": [
    "#counts = recipients.groupby('mid')['to_eid'].count().value_counts()\n",
    "counts = Counter(recipientBase.groupby('mid')['to_eid'].count())\n",
    "counts"
   ]
  },
  {
   "cell_type": "code",
   "execution_count": 29,
   "metadata": {
    "collapsed": false
   },
   "outputs": [
    {
     "data": {
      "text/html": [
       "\n",
       "    <div class=\"bk-banner\">\n",
       "        <a href=\"http://bokeh.pydata.org\" target=\"_blank\" class=\"bk-logo bk-logo-small bk-logo-notebook\"></a>\n",
       "        <span id=\"6d9b1277-5782-482c-a2d0-093ec38a1bbc\">Loading BokehJS ...</span>\n",
       "    </div>"
      ]
     },
     "metadata": {},
     "output_type": "display_data"
    },
    {
     "data": {
      "application/javascript": [
       "\n",
       "(function(global) {\n",
       "  function now() {\n",
       "    return new Date();\n",
       "  }\n",
       "\n",
       "  if (typeof (window._bokeh_onload_callbacks) === \"undefined\") {\n",
       "    window._bokeh_onload_callbacks = [];\n",
       "  }\n",
       "\n",
       "  function run_callbacks() {\n",
       "    window._bokeh_onload_callbacks.forEach(function(callback) { callback() });\n",
       "    delete window._bokeh_onload_callbacks\n",
       "    console.info(\"Bokeh: all callbacks have finished\");\n",
       "  }\n",
       "\n",
       "  function load_libs(js_urls, callback) {\n",
       "    window._bokeh_onload_callbacks.push(callback);\n",
       "    if (window._bokeh_is_loading > 0) {\n",
       "      console.log(\"Bokeh: BokehJS is being loaded, scheduling callback at\", now());\n",
       "      return null;\n",
       "    }\n",
       "    if (js_urls == null || js_urls.length === 0) {\n",
       "      run_callbacks();\n",
       "      return null;\n",
       "    }\n",
       "    console.log(\"Bokeh: BokehJS not loaded, scheduling load and callback at\", now());\n",
       "    window._bokeh_is_loading = js_urls.length;\n",
       "    for (var i = 0; i < js_urls.length; i++) {\n",
       "      var url = js_urls[i];\n",
       "      var s = document.createElement('script');\n",
       "      s.src = url;\n",
       "      s.async = false;\n",
       "      s.onreadystatechange = s.onload = function() {\n",
       "        window._bokeh_is_loading--;\n",
       "        if (window._bokeh_is_loading === 0) {\n",
       "          console.log(\"Bokeh: all BokehJS libraries loaded\");\n",
       "          run_callbacks()\n",
       "        }\n",
       "      };\n",
       "      s.onerror = function() {\n",
       "        console.warn(\"failed to load library \" + url);\n",
       "      };\n",
       "      console.log(\"Bokeh: injecting script tag for BokehJS library: \", url);\n",
       "      document.getElementsByTagName(\"head\")[0].appendChild(s);\n",
       "    }\n",
       "  };\n",
       "\n",
       "  var js_urls = ['https://cdn.pydata.org/bokeh/release/bokeh-0.11.1.min.js', 'https://cdn.pydata.org/bokeh/release/bokeh-widgets-0.11.1.min.js', 'https://cdn.pydata.org/bokeh/release/bokeh-compiler-0.11.1.min.js'];\n",
       "\n",
       "  var inline_js = [\n",
       "    function(Bokeh) {\n",
       "      Bokeh.set_log_level(\"info\");\n",
       "    },\n",
       "    \n",
       "    function(Bokeh) {\n",
       "      Bokeh.$(\"#6d9b1277-5782-482c-a2d0-093ec38a1bbc\").text(\"BokehJS successfully loaded\");\n",
       "    },\n",
       "    function(Bokeh) {\n",
       "      console.log(\"Bokeh: injecting CSS: https://cdn.pydata.org/bokeh/release/bokeh-0.11.1.min.css\");\n",
       "      Bokeh.embed.inject_css(\"https://cdn.pydata.org/bokeh/release/bokeh-0.11.1.min.css\");\n",
       "      console.log(\"Bokeh: injecting CSS: https://cdn.pydata.org/bokeh/release/bokeh-widgets-0.11.1.min.css\");\n",
       "      Bokeh.embed.inject_css(\"https://cdn.pydata.org/bokeh/release/bokeh-widgets-0.11.1.min.css\");\n",
       "    }\n",
       "  ];\n",
       "\n",
       "  function run_inline_js() {\n",
       "    for (var i = 0; i < inline_js.length; i++) {\n",
       "      inline_js[i](window.Bokeh);\n",
       "    }\n",
       "  }\n",
       "\n",
       "  if (window._bokeh_is_loading === 0) {\n",
       "    console.log(\"Bokeh: BokehJS loaded, going straight to plotting\");\n",
       "    run_inline_js();\n",
       "  } else {\n",
       "    load_libs(js_urls, function() {\n",
       "      console.log(\"Bokeh: BokehJS plotting callback run at\", now());\n",
       "      run_inline_js();\n",
       "    });\n",
       "  }\n",
       "}(this));"
      ]
     },
     "metadata": {},
     "output_type": "display_data"
    }
   ],
   "source": [
    "from bokeh.plotting import figure,show,output_notebook\n",
    "output_notebook()"
   ]
  },
  {
   "cell_type": "code",
   "execution_count": 30,
   "metadata": {
    "collapsed": false,
    "scrolled": false
   },
   "outputs": [
    {
     "data": {
      "text/html": [
       "\n",
       "\n",
       "    <div class=\"plotdiv\" id=\"00b93c35-9f52-49e9-9b5b-edcdc11c6e66\"></div>\n",
       "<script type=\"text/javascript\">\n",
       "  \n",
       "  (function(global) {\n",
       "    function now() {\n",
       "      return new Date();\n",
       "    }\n",
       "  \n",
       "    if (typeof (window._bokeh_onload_callbacks) === \"undefined\") {\n",
       "      window._bokeh_onload_callbacks = [];\n",
       "    }\n",
       "  \n",
       "    function run_callbacks() {\n",
       "      window._bokeh_onload_callbacks.forEach(function(callback) { callback() });\n",
       "      delete window._bokeh_onload_callbacks\n",
       "      console.info(\"Bokeh: all callbacks have finished\");\n",
       "    }\n",
       "  \n",
       "    function load_libs(js_urls, callback) {\n",
       "      window._bokeh_onload_callbacks.push(callback);\n",
       "      if (window._bokeh_is_loading > 0) {\n",
       "        console.log(\"Bokeh: BokehJS is being loaded, scheduling callback at\", now());\n",
       "        return null;\n",
       "      }\n",
       "      if (js_urls == null || js_urls.length === 0) {\n",
       "        run_callbacks();\n",
       "        return null;\n",
       "      }\n",
       "      console.log(\"Bokeh: BokehJS not loaded, scheduling load and callback at\", now());\n",
       "      window._bokeh_is_loading = js_urls.length;\n",
       "      for (var i = 0; i < js_urls.length; i++) {\n",
       "        var url = js_urls[i];\n",
       "        var s = document.createElement('script');\n",
       "        s.src = url;\n",
       "        s.async = false;\n",
       "        s.onreadystatechange = s.onload = function() {\n",
       "          window._bokeh_is_loading--;\n",
       "          if (window._bokeh_is_loading === 0) {\n",
       "            console.log(\"Bokeh: all BokehJS libraries loaded\");\n",
       "            run_callbacks()\n",
       "          }\n",
       "        };\n",
       "        s.onerror = function() {\n",
       "          console.warn(\"failed to load library \" + url);\n",
       "        };\n",
       "        console.log(\"Bokeh: injecting script tag for BokehJS library: \", url);\n",
       "        document.getElementsByTagName(\"head\")[0].appendChild(s);\n",
       "      }\n",
       "    };var element = document.getElementById(\"00b93c35-9f52-49e9-9b5b-edcdc11c6e66\");\n",
       "    if (element == null) {\n",
       "      console.log(\"Bokeh: ERROR: autoload.js configured with elementid '00b93c35-9f52-49e9-9b5b-edcdc11c6e66' but no matching script tag was found. \")\n",
       "      return false;\n",
       "    }\n",
       "  \n",
       "    var js_urls = [];\n",
       "  \n",
       "    var inline_js = [\n",
       "      function(Bokeh) {\n",
       "        Bokeh.$(function() {\n",
       "            var docs_json = {\"274f42fb-7d42-445b-83f1-9bd884dead7d\":{\"roots\":{\"references\":[{\"attributes\":{\"axis_label\":\"# of recipients\",\"formatter\":{\"id\":\"386f902d-af9c-42d8-9a88-e260a87395b6\",\"type\":\"BasicTickFormatter\"},\"plot\":{\"id\":\"762bdac3-072b-4d99-ac36-615df75c0435\",\"subtype\":\"Figure\",\"type\":\"Plot\"},\"ticker\":{\"id\":\"ed6bc217-a3bc-41b5-b524-a5db9d0e433d\",\"type\":\"BasicTicker\"}},\"id\":\"09714bbf-2c6c-4083-a465-bef48ff31866\",\"type\":\"LinearAxis\"},{\"attributes\":{\"below\":[{\"id\":\"09714bbf-2c6c-4083-a465-bef48ff31866\",\"type\":\"LinearAxis\"}],\"left\":[{\"id\":\"a56ecbf6-7dfc-4c24-82a2-cea3453dbd9c\",\"type\":\"LinearAxis\"}],\"renderers\":[{\"id\":\"09714bbf-2c6c-4083-a465-bef48ff31866\",\"type\":\"LinearAxis\"},{\"id\":\"28200d01-f2ab-43a1-98e1-bdee52739e1d\",\"type\":\"Grid\"},{\"id\":\"a56ecbf6-7dfc-4c24-82a2-cea3453dbd9c\",\"type\":\"LinearAxis\"},{\"id\":\"ce27a62d-842c-4771-9320-ff14c77e9a72\",\"type\":\"Grid\"},{\"id\":\"46a87d4f-39ec-4e00-aea6-e75937ac3e75\",\"type\":\"GlyphRenderer\"}],\"title\":\"Message Recipients\",\"tool_events\":{\"id\":\"b3dde0d4-d07c-41de-a5ef-ba8e7c01212f\",\"type\":\"ToolEvents\"},\"x_range\":{\"id\":\"de727c60-514c-4b6a-8ab8-740d233078e9\",\"type\":\"DataRange1d\"},\"y_range\":{\"id\":\"6ff81bc8-0594-44eb-833f-a70116bd15a6\",\"type\":\"DataRange1d\"}},\"id\":\"762bdac3-072b-4d99-ac36-615df75c0435\",\"subtype\":\"Figure\",\"type\":\"Plot\"},{\"attributes\":{\"data_source\":{\"id\":\"10ee9b68-8cdd-46af-8221-ff4677cdfa18\",\"type\":\"ColumnDataSource\"},\"glyph\":{\"id\":\"08c0e0f4-750d-4a24-b5a4-bc2dceefc972\",\"type\":\"Quad\"},\"hover_glyph\":null,\"nonselection_glyph\":{\"id\":\"9d27ba49-24b0-43a5-9022-3640f8978d9f\",\"type\":\"Quad\"},\"selection_glyph\":null},\"id\":\"46a87d4f-39ec-4e00-aea6-e75937ac3e75\",\"type\":\"GlyphRenderer\"},{\"attributes\":{\"axis_label\":\"Counts\",\"formatter\":{\"id\":\"aa26de51-aa99-43fe-b032-31026e14e368\",\"type\":\"BasicTickFormatter\"},\"plot\":{\"id\":\"762bdac3-072b-4d99-ac36-615df75c0435\",\"subtype\":\"Figure\",\"type\":\"Plot\"},\"ticker\":{\"id\":\"1ce12ff8-7250-40ca-81ec-d8c0e0ebfc8b\",\"type\":\"BasicTicker\"}},\"id\":\"a56ecbf6-7dfc-4c24-82a2-cea3453dbd9c\",\"type\":\"LinearAxis\"},{\"attributes\":{},\"id\":\"1ce12ff8-7250-40ca-81ec-d8c0e0ebfc8b\",\"type\":\"BasicTicker\"},{\"attributes\":{},\"id\":\"aa26de51-aa99-43fe-b032-31026e14e368\",\"type\":\"BasicTickFormatter\"},{\"attributes\":{\"callback\":null},\"id\":\"6ff81bc8-0594-44eb-833f-a70116bd15a6\",\"type\":\"DataRange1d\"},{\"attributes\":{\"callback\":null,\"column_names\":[\"top\",\"right\",\"left\"],\"data\":{\"left\":[0.5,1.5,2.5,3.5,4.5,5.5,6.5,7.5,12.5,10.5,11.5,9.5,14.5,8.5,13.5,15.5,16.5,20.5,56.5,17.5,18.5,19.5,21.5,23.5,48.5,51.5,54.5],\"right\":[1.5,2.5,3.5,4.5,5.5,6.5,7.5,8.5,13.5,11.5,12.5,10.5,15.5,9.5,14.5,16.5,17.5,21.5,57.5,18.5,19.5,20.5,22.5,24.5,49.5,52.5,55.5],\"top\":[14985,2962,1435,873,711,180,176,61,57,47,33,29,28,24,11,9,2,2,2,1,1,1,1,1,1,1,1]}},\"id\":\"10ee9b68-8cdd-46af-8221-ff4677cdfa18\",\"type\":\"ColumnDataSource\"},{\"attributes\":{},\"id\":\"386f902d-af9c-42d8-9a88-e260a87395b6\",\"type\":\"BasicTickFormatter\"},{\"attributes\":{\"dimension\":1,\"plot\":{\"id\":\"762bdac3-072b-4d99-ac36-615df75c0435\",\"subtype\":\"Figure\",\"type\":\"Plot\"},\"ticker\":{\"id\":\"1ce12ff8-7250-40ca-81ec-d8c0e0ebfc8b\",\"type\":\"BasicTicker\"}},\"id\":\"ce27a62d-842c-4771-9320-ff14c77e9a72\",\"type\":\"Grid\"},{\"attributes\":{},\"id\":\"ed6bc217-a3bc-41b5-b524-a5db9d0e433d\",\"type\":\"BasicTicker\"},{\"attributes\":{},\"id\":\"b3dde0d4-d07c-41de-a5ef-ba8e7c01212f\",\"type\":\"ToolEvents\"},{\"attributes\":{\"bottom\":{\"value\":0},\"fill_alpha\":{\"value\":0.1},\"fill_color\":{\"value\":\"#1f77b4\"},\"left\":{\"field\":\"left\"},\"line_alpha\":{\"value\":0.1},\"line_color\":{\"value\":\"#1f77b4\"},\"right\":{\"field\":\"right\"},\"top\":{\"field\":\"top\"}},\"id\":\"9d27ba49-24b0-43a5-9022-3640f8978d9f\",\"type\":\"Quad\"},{\"attributes\":{\"bottom\":{\"value\":0},\"fill_color\":{\"value\":\"#1f77b4\"},\"left\":{\"field\":\"left\"},\"right\":{\"field\":\"right\"},\"top\":{\"field\":\"top\"}},\"id\":\"08c0e0f4-750d-4a24-b5a4-bc2dceefc972\",\"type\":\"Quad\"},{\"attributes\":{\"plot\":{\"id\":\"762bdac3-072b-4d99-ac36-615df75c0435\",\"subtype\":\"Figure\",\"type\":\"Plot\"},\"ticker\":{\"id\":\"ed6bc217-a3bc-41b5-b524-a5db9d0e433d\",\"type\":\"BasicTicker\"}},\"id\":\"28200d01-f2ab-43a1-98e1-bdee52739e1d\",\"type\":\"Grid\"},{\"attributes\":{\"callback\":null},\"id\":\"de727c60-514c-4b6a-8ab8-740d233078e9\",\"type\":\"DataRange1d\"}],\"root_ids\":[\"762bdac3-072b-4d99-ac36-615df75c0435\"]},\"title\":\"Bokeh Application\",\"version\":\"0.11.1\"}};\n",
       "            var render_items = [{\"docid\":\"274f42fb-7d42-445b-83f1-9bd884dead7d\",\"elementid\":\"00b93c35-9f52-49e9-9b5b-edcdc11c6e66\",\"modelid\":\"762bdac3-072b-4d99-ac36-615df75c0435\",\"notebook_comms_target\":\"bfca2d04-2adb-4d54-86f5-9e13d18f83d4\"}];\n",
       "            \n",
       "            Bokeh.embed.embed_items(docs_json, render_items);\n",
       "        });\n",
       "      },\n",
       "      function(Bokeh) {\n",
       "      }\n",
       "    ];\n",
       "  \n",
       "    function run_inline_js() {\n",
       "      for (var i = 0; i < inline_js.length; i++) {\n",
       "        inline_js[i](window.Bokeh);\n",
       "      }\n",
       "    }\n",
       "  \n",
       "    if (window._bokeh_is_loading === 0) {\n",
       "      console.log(\"Bokeh: BokehJS loaded, going straight to plotting\");\n",
       "      run_inline_js();\n",
       "    } else {\n",
       "      load_libs(js_urls, function() {\n",
       "        console.log(\"Bokeh: BokehJS plotting callback run at\", now());\n",
       "        run_inline_js();\n",
       "      });\n",
       "    }\n",
       "  }(this));\n",
       "</script>"
      ]
     },
     "metadata": {},
     "output_type": "display_data"
    },
    {
     "data": {
      "text/html": [
       "<p><code>&lt;Bokeh Notebook handle for <strong>In[30]</strong>&gt;</code></p>"
      ],
      "text/plain": [
       "<bokeh.io._CommsHandle at 0x112f13690>"
      ]
     },
     "execution_count": 30,
     "metadata": {},
     "output_type": "execute_result"
    }
   ],
   "source": [
    "x = [i[0] for i in counts.most_common()]\n",
    "y = [i[1] for i in counts.most_common()]\n",
    "left_border = [val-0.5 for val in x]\n",
    "right_border = [val+0.5 for val in x]\n",
    "\n",
    "\n",
    "p= figure(title=\"Message Recipients\",tools='',x_axis_label='# of recipients',y_axis_label='Counts')\n",
    "p.quad(top=y,left=left_border,right=right_border,bottom=0,line_color='black')\n",
    "show(p)"
   ]
  },
  {
   "cell_type": "code",
   "execution_count": 31,
   "metadata": {
    "collapsed": false
   },
   "outputs": [
    {
     "data": {
      "text/html": [
       "\n",
       "\n",
       "    <div class=\"plotdiv\" id=\"d6545a0c-10bb-436a-bb0a-7da289d17f70\"></div>\n",
       "<script type=\"text/javascript\">\n",
       "  \n",
       "  (function(global) {\n",
       "    function now() {\n",
       "      return new Date();\n",
       "    }\n",
       "  \n",
       "    if (typeof (window._bokeh_onload_callbacks) === \"undefined\") {\n",
       "      window._bokeh_onload_callbacks = [];\n",
       "    }\n",
       "  \n",
       "    function run_callbacks() {\n",
       "      window._bokeh_onload_callbacks.forEach(function(callback) { callback() });\n",
       "      delete window._bokeh_onload_callbacks\n",
       "      console.info(\"Bokeh: all callbacks have finished\");\n",
       "    }\n",
       "  \n",
       "    function load_libs(js_urls, callback) {\n",
       "      window._bokeh_onload_callbacks.push(callback);\n",
       "      if (window._bokeh_is_loading > 0) {\n",
       "        console.log(\"Bokeh: BokehJS is being loaded, scheduling callback at\", now());\n",
       "        return null;\n",
       "      }\n",
       "      if (js_urls == null || js_urls.length === 0) {\n",
       "        run_callbacks();\n",
       "        return null;\n",
       "      }\n",
       "      console.log(\"Bokeh: BokehJS not loaded, scheduling load and callback at\", now());\n",
       "      window._bokeh_is_loading = js_urls.length;\n",
       "      for (var i = 0; i < js_urls.length; i++) {\n",
       "        var url = js_urls[i];\n",
       "        var s = document.createElement('script');\n",
       "        s.src = url;\n",
       "        s.async = false;\n",
       "        s.onreadystatechange = s.onload = function() {\n",
       "          window._bokeh_is_loading--;\n",
       "          if (window._bokeh_is_loading === 0) {\n",
       "            console.log(\"Bokeh: all BokehJS libraries loaded\");\n",
       "            run_callbacks()\n",
       "          }\n",
       "        };\n",
       "        s.onerror = function() {\n",
       "          console.warn(\"failed to load library \" + url);\n",
       "        };\n",
       "        console.log(\"Bokeh: injecting script tag for BokehJS library: \", url);\n",
       "        document.getElementsByTagName(\"head\")[0].appendChild(s);\n",
       "      }\n",
       "    };var element = document.getElementById(\"d6545a0c-10bb-436a-bb0a-7da289d17f70\");\n",
       "    if (element == null) {\n",
       "      console.log(\"Bokeh: ERROR: autoload.js configured with elementid 'd6545a0c-10bb-436a-bb0a-7da289d17f70' but no matching script tag was found. \")\n",
       "      return false;\n",
       "    }\n",
       "  \n",
       "    var js_urls = [];\n",
       "  \n",
       "    var inline_js = [\n",
       "      function(Bokeh) {\n",
       "        Bokeh.$(function() {\n",
       "            var docs_json = {\"3a6340f7-c07c-42ea-a4b5-76eb2e3ed537\":{\"roots\":{\"references\":[{\"attributes\":{},\"id\":\"3253cf2a-9cc7-4348-8db7-1d3b592921a5\",\"type\":\"BasicTicker\"},{\"attributes\":{\"below\":[{\"id\":\"09714bbf-2c6c-4083-a465-bef48ff31866\",\"type\":\"LinearAxis\"}],\"left\":[{\"id\":\"a56ecbf6-7dfc-4c24-82a2-cea3453dbd9c\",\"type\":\"LinearAxis\"}],\"renderers\":[{\"id\":\"09714bbf-2c6c-4083-a465-bef48ff31866\",\"type\":\"LinearAxis\"},{\"id\":\"28200d01-f2ab-43a1-98e1-bdee52739e1d\",\"type\":\"Grid\"},{\"id\":\"a56ecbf6-7dfc-4c24-82a2-cea3453dbd9c\",\"type\":\"LinearAxis\"},{\"id\":\"ce27a62d-842c-4771-9320-ff14c77e9a72\",\"type\":\"Grid\"},{\"id\":\"46a87d4f-39ec-4e00-aea6-e75937ac3e75\",\"type\":\"GlyphRenderer\"}],\"title\":\"Message Recipients\",\"tool_events\":{\"id\":\"b3dde0d4-d07c-41de-a5ef-ba8e7c01212f\",\"type\":\"ToolEvents\"},\"x_range\":{\"id\":\"de727c60-514c-4b6a-8ab8-740d233078e9\",\"type\":\"DataRange1d\"},\"y_range\":{\"id\":\"6ff81bc8-0594-44eb-833f-a70116bd15a6\",\"type\":\"DataRange1d\"}},\"id\":\"762bdac3-072b-4d99-ac36-615df75c0435\",\"subtype\":\"Figure\",\"type\":\"Plot\"},{\"attributes\":{\"dimension\":1,\"plot\":{\"id\":\"c96eed28-e8f3-4c65-8f6c-7b0d429d600f\",\"subtype\":\"Figure\",\"type\":\"Plot\"},\"ticker\":{\"id\":\"3253cf2a-9cc7-4348-8db7-1d3b592921a5\",\"type\":\"BasicTicker\"}},\"id\":\"5f19aaf0-c00b-47db-9a0b-07512f530bd0\",\"type\":\"Grid\"},{\"attributes\":{},\"id\":\"aa26de51-aa99-43fe-b032-31026e14e368\",\"type\":\"BasicTickFormatter\"},{\"attributes\":{},\"id\":\"eab5bda7-aa77-4d38-a019-bf78a8a1d0e4\",\"type\":\"ToolEvents\"},{\"attributes\":{\"data_source\":{\"id\":\"10ee9b68-8cdd-46af-8221-ff4677cdfa18\",\"type\":\"ColumnDataSource\"},\"glyph\":{\"id\":\"08c0e0f4-750d-4a24-b5a4-bc2dceefc972\",\"type\":\"Quad\"},\"hover_glyph\":null,\"nonselection_glyph\":{\"id\":\"9d27ba49-24b0-43a5-9022-3640f8978d9f\",\"type\":\"Quad\"},\"selection_glyph\":null},\"id\":\"46a87d4f-39ec-4e00-aea6-e75937ac3e75\",\"type\":\"GlyphRenderer\"},{\"attributes\":{},\"id\":\"33b6a942-4674-4970-b31b-a0a5b92c386d\",\"type\":\"BasicTicker\"},{\"attributes\":{\"plot\":{\"id\":\"762bdac3-072b-4d99-ac36-615df75c0435\",\"subtype\":\"Figure\",\"type\":\"Plot\"},\"ticker\":{\"id\":\"ed6bc217-a3bc-41b5-b524-a5db9d0e433d\",\"type\":\"BasicTicker\"}},\"id\":\"28200d01-f2ab-43a1-98e1-bdee52739e1d\",\"type\":\"Grid\"},{\"attributes\":{\"axis_label\":\"# of recipients\",\"formatter\":{\"id\":\"386f902d-af9c-42d8-9a88-e260a87395b6\",\"type\":\"BasicTickFormatter\"},\"plot\":{\"id\":\"762bdac3-072b-4d99-ac36-615df75c0435\",\"subtype\":\"Figure\",\"type\":\"Plot\"},\"ticker\":{\"id\":\"ed6bc217-a3bc-41b5-b524-a5db9d0e433d\",\"type\":\"BasicTicker\"}},\"id\":\"09714bbf-2c6c-4083-a465-bef48ff31866\",\"type\":\"LinearAxis\"},{\"attributes\":{\"callback\":null},\"id\":\"6ff81bc8-0594-44eb-833f-a70116bd15a6\",\"type\":\"DataRange1d\"},{\"attributes\":{},\"id\":\"386f902d-af9c-42d8-9a88-e260a87395b6\",\"type\":\"BasicTickFormatter\"},{\"attributes\":{\"bottom\":{\"value\":0},\"fill_color\":{\"value\":\"#1f77b4\"},\"left\":{\"field\":\"left\"},\"right\":{\"field\":\"right\"},\"top\":{\"field\":\"top\"}},\"id\":\"08c0e0f4-750d-4a24-b5a4-bc2dceefc972\",\"type\":\"Quad\"},{\"attributes\":{\"callback\":null},\"id\":\"de727c60-514c-4b6a-8ab8-740d233078e9\",\"type\":\"DataRange1d\"},{\"attributes\":{\"callback\":null,\"column_names\":[\"top\",\"right\",\"left\"],\"data\":{\"left\":[5.5,6.5,7.5,12.5,10.5,11.5,9.5,14.5,8.5,13.5,15.5,16.5,20.5,56.5,17.5,18.5,19.5,21.5,23.5,48.5,51.5,54.5],\"right\":[6.5,7.5,8.5,13.5,11.5,12.5,10.5,15.5,9.5,14.5,16.5,17.5,21.5,57.5,18.5,19.5,20.5,22.5,24.5,49.5,52.5,55.5],\"top\":[180,176,61,57,47,33,29,28,24,11,9,2,2,2,1,1,1,1,1,1,1,1]}},\"id\":\"755de4d1-d9b6-4fff-9227-ca3df67de0b3\",\"type\":\"ColumnDataSource\"},{\"attributes\":{\"below\":[{\"id\":\"d88854b1-29d3-4ac7-8ab9-274d75b66260\",\"type\":\"LinearAxis\"}],\"left\":[{\"id\":\"473b0fe6-9758-4045-9171-6e5ebcb4e0b0\",\"type\":\"LinearAxis\"}],\"renderers\":[{\"id\":\"d88854b1-29d3-4ac7-8ab9-274d75b66260\",\"type\":\"LinearAxis\"},{\"id\":\"1f94f192-1ff4-4dfd-99bb-45ef174cc378\",\"type\":\"Grid\"},{\"id\":\"473b0fe6-9758-4045-9171-6e5ebcb4e0b0\",\"type\":\"LinearAxis\"},{\"id\":\"5f19aaf0-c00b-47db-9a0b-07512f530bd0\",\"type\":\"Grid\"},{\"id\":\"76a2caaf-eaff-4076-8b84-1a9b6310e7db\",\"type\":\"GlyphRenderer\"}],\"title\":\"Message Recipients\",\"tool_events\":{\"id\":\"eab5bda7-aa77-4d38-a019-bf78a8a1d0e4\",\"type\":\"ToolEvents\"},\"x_range\":{\"id\":\"f5747565-a98e-4bba-a4c3-7bf021597228\",\"type\":\"DataRange1d\"},\"y_range\":{\"id\":\"cd847f0e-76d6-4cda-b49d-f3adf3064091\",\"type\":\"DataRange1d\"}},\"id\":\"c96eed28-e8f3-4c65-8f6c-7b0d429d600f\",\"subtype\":\"Figure\",\"type\":\"Plot\"},{\"attributes\":{\"axis_label\":\"Counts\",\"formatter\":{\"id\":\"aa26de51-aa99-43fe-b032-31026e14e368\",\"type\":\"BasicTickFormatter\"},\"plot\":{\"id\":\"762bdac3-072b-4d99-ac36-615df75c0435\",\"subtype\":\"Figure\",\"type\":\"Plot\"},\"ticker\":{\"id\":\"1ce12ff8-7250-40ca-81ec-d8c0e0ebfc8b\",\"type\":\"BasicTicker\"}},\"id\":\"a56ecbf6-7dfc-4c24-82a2-cea3453dbd9c\",\"type\":\"LinearAxis\"},{\"attributes\":{\"callback\":null},\"id\":\"cd847f0e-76d6-4cda-b49d-f3adf3064091\",\"type\":\"DataRange1d\"},{\"attributes\":{\"callback\":null},\"id\":\"f5747565-a98e-4bba-a4c3-7bf021597228\",\"type\":\"DataRange1d\"},{\"attributes\":{\"plot\":{\"id\":\"c96eed28-e8f3-4c65-8f6c-7b0d429d600f\",\"subtype\":\"Figure\",\"type\":\"Plot\"},\"ticker\":{\"id\":\"33b6a942-4674-4970-b31b-a0a5b92c386d\",\"type\":\"BasicTicker\"}},\"id\":\"1f94f192-1ff4-4dfd-99bb-45ef174cc378\",\"type\":\"Grid\"},{\"attributes\":{\"dimension\":1,\"plot\":{\"id\":\"762bdac3-072b-4d99-ac36-615df75c0435\",\"subtype\":\"Figure\",\"type\":\"Plot\"},\"ticker\":{\"id\":\"1ce12ff8-7250-40ca-81ec-d8c0e0ebfc8b\",\"type\":\"BasicTicker\"}},\"id\":\"ce27a62d-842c-4771-9320-ff14c77e9a72\",\"type\":\"Grid\"},{\"attributes\":{},\"id\":\"ed6bc217-a3bc-41b5-b524-a5db9d0e433d\",\"type\":\"BasicTicker\"},{\"attributes\":{\"bottom\":{\"value\":0},\"fill_alpha\":{\"value\":0.1},\"fill_color\":{\"value\":\"#1f77b4\"},\"left\":{\"field\":\"left\"},\"line_alpha\":{\"value\":0.1},\"line_color\":{\"value\":\"#1f77b4\"},\"right\":{\"field\":\"right\"},\"top\":{\"field\":\"top\"}},\"id\":\"1584f3d5-fb36-4feb-855e-a3c9247344db\",\"type\":\"Quad\"},{\"attributes\":{\"bottom\":{\"value\":0},\"fill_alpha\":{\"value\":0.1},\"fill_color\":{\"value\":\"#1f77b4\"},\"left\":{\"field\":\"left\"},\"line_alpha\":{\"value\":0.1},\"line_color\":{\"value\":\"#1f77b4\"},\"right\":{\"field\":\"right\"},\"top\":{\"field\":\"top\"}},\"id\":\"9d27ba49-24b0-43a5-9022-3640f8978d9f\",\"type\":\"Quad\"},{\"attributes\":{},\"id\":\"f7d2a5f6-07c8-4869-ae72-497dc2468168\",\"type\":\"BasicTickFormatter\"},{\"attributes\":{\"callback\":null,\"column_names\":[\"top\",\"right\",\"left\"],\"data\":{\"left\":[0.5,1.5,2.5,3.5,4.5,5.5,6.5,7.5,12.5,10.5,11.5,9.5,14.5,8.5,13.5,15.5,16.5,20.5,56.5,17.5,18.5,19.5,21.5,23.5,48.5,51.5,54.5],\"right\":[1.5,2.5,3.5,4.5,5.5,6.5,7.5,8.5,13.5,11.5,12.5,10.5,15.5,9.5,14.5,16.5,17.5,21.5,57.5,18.5,19.5,20.5,22.5,24.5,49.5,52.5,55.5],\"top\":[14985,2962,1435,873,711,180,176,61,57,47,33,29,28,24,11,9,2,2,2,1,1,1,1,1,1,1,1]}},\"id\":\"10ee9b68-8cdd-46af-8221-ff4677cdfa18\",\"type\":\"ColumnDataSource\"},{\"attributes\":{},\"id\":\"b3dde0d4-d07c-41de-a5ef-ba8e7c01212f\",\"type\":\"ToolEvents\"},{\"attributes\":{\"axis_label\":\"# of recipients\",\"formatter\":{\"id\":\"a571c7ce-981c-4055-ad9b-da0aba04bec4\",\"type\":\"BasicTickFormatter\"},\"plot\":{\"id\":\"c96eed28-e8f3-4c65-8f6c-7b0d429d600f\",\"subtype\":\"Figure\",\"type\":\"Plot\"},\"ticker\":{\"id\":\"33b6a942-4674-4970-b31b-a0a5b92c386d\",\"type\":\"BasicTicker\"}},\"id\":\"d88854b1-29d3-4ac7-8ab9-274d75b66260\",\"type\":\"LinearAxis\"},{\"attributes\":{\"axis_label\":\"Counts\",\"formatter\":{\"id\":\"f7d2a5f6-07c8-4869-ae72-497dc2468168\",\"type\":\"BasicTickFormatter\"},\"plot\":{\"id\":\"c96eed28-e8f3-4c65-8f6c-7b0d429d600f\",\"subtype\":\"Figure\",\"type\":\"Plot\"},\"ticker\":{\"id\":\"3253cf2a-9cc7-4348-8db7-1d3b592921a5\",\"type\":\"BasicTicker\"}},\"id\":\"473b0fe6-9758-4045-9171-6e5ebcb4e0b0\",\"type\":\"LinearAxis\"},{\"attributes\":{},\"id\":\"1ce12ff8-7250-40ca-81ec-d8c0e0ebfc8b\",\"type\":\"BasicTicker\"},{\"attributes\":{},\"id\":\"a571c7ce-981c-4055-ad9b-da0aba04bec4\",\"type\":\"BasicTickFormatter\"},{\"attributes\":{\"data_source\":{\"id\":\"755de4d1-d9b6-4fff-9227-ca3df67de0b3\",\"type\":\"ColumnDataSource\"},\"glyph\":{\"id\":\"a351df5e-dab4-4515-86c4-96044d6e1d63\",\"type\":\"Quad\"},\"hover_glyph\":null,\"nonselection_glyph\":{\"id\":\"1584f3d5-fb36-4feb-855e-a3c9247344db\",\"type\":\"Quad\"},\"selection_glyph\":null},\"id\":\"76a2caaf-eaff-4076-8b84-1a9b6310e7db\",\"type\":\"GlyphRenderer\"},{\"attributes\":{\"bottom\":{\"value\":0},\"fill_color\":{\"value\":\"#1f77b4\"},\"left\":{\"field\":\"left\"},\"right\":{\"field\":\"right\"},\"top\":{\"field\":\"top\"}},\"id\":\"a351df5e-dab4-4515-86c4-96044d6e1d63\",\"type\":\"Quad\"}],\"root_ids\":[\"762bdac3-072b-4d99-ac36-615df75c0435\",\"c96eed28-e8f3-4c65-8f6c-7b0d429d600f\"]},\"title\":\"Bokeh Application\",\"version\":\"0.11.1\"}};\n",
       "            var render_items = [{\"docid\":\"3a6340f7-c07c-42ea-a4b5-76eb2e3ed537\",\"elementid\":\"d6545a0c-10bb-436a-bb0a-7da289d17f70\",\"modelid\":\"c96eed28-e8f3-4c65-8f6c-7b0d429d600f\",\"notebook_comms_target\":\"d02cdee7-f637-442f-bc6e-380d3522a13c\"}];\n",
       "            \n",
       "            Bokeh.embed.embed_items(docs_json, render_items);\n",
       "        });\n",
       "      },\n",
       "      function(Bokeh) {\n",
       "      }\n",
       "    ];\n",
       "  \n",
       "    function run_inline_js() {\n",
       "      for (var i = 0; i < inline_js.length; i++) {\n",
       "        inline_js[i](window.Bokeh);\n",
       "      }\n",
       "    }\n",
       "  \n",
       "    if (window._bokeh_is_loading === 0) {\n",
       "      console.log(\"Bokeh: BokehJS loaded, going straight to plotting\");\n",
       "      run_inline_js();\n",
       "    } else {\n",
       "      load_libs(js_urls, function() {\n",
       "        console.log(\"Bokeh: BokehJS plotting callback run at\", now());\n",
       "        run_inline_js();\n",
       "      });\n",
       "    }\n",
       "  }(this));\n",
       "</script>"
      ]
     },
     "metadata": {},
     "output_type": "display_data"
    },
    {
     "data": {
      "text/html": [
       "<p><code>&lt;Bokeh Notebook handle for <strong>In[31]</strong>&gt;</code></p>"
      ],
      "text/plain": [
       "<bokeh.io._CommsHandle at 0x112f13590>"
      ]
     },
     "execution_count": 31,
     "metadata": {},
     "output_type": "execute_result"
    }
   ],
   "source": [
    "x = [i[0] for i in counts.most_common()[5:]]  # chop off the first 5\n",
    "y = [i[1] for i in counts.most_common()[5:]]  # chop off the first 5\n",
    "left_border = [val-0.5 for val in x]\n",
    "right_border = [val+0.5 for val in x]\n",
    "\n",
    "\n",
    "p= figure(title=\"Message Recipients\",tools='',x_axis_label='# of recipients',y_axis_label='Counts')\n",
    "p.quad(top=y,left=left_border,right=right_border,bottom=0,line_color='black')\n",
    "show(p)"
   ]
  },
  {
   "cell_type": "markdown",
   "metadata": {},
   "source": [
    "## 3. Data Merging\n",
    "\n",
    "Use the pandas merge function to combine the information in the 3 dataframes to answer the following questions:\n",
    "\n",
    "1. Are there more Men or Women employees?\n",
    "- How is gender distributed across departments?\n",
    "- Who is sending more emails? Men or Women?\n",
    "- What's the average number of emails sent by each gender?\n",
    "- Are there more Juniors or Seniors?\n",
    "- Who is sending more emails? Juniors or Seniors?\n",
    "- Which department is sending more emails? How does that relate with the number of employees in the department?\n",
    "- Who are the top 3 senders of emails? (people who sent out the most emails)"
   ]
  },
  {
   "cell_type": "markdown",
   "metadata": {},
   "source": [
    "Answer the following questions regarding received messages:\n",
    "\n",
    "- Who is receiving more emails? Men or Women?\n",
    "- Who is receiving more emails? Juniors or Seniors?\n",
    "- Which department is receiving more emails? How does that relate with the number of employees in the department?\n",
    "- Who are the top 5 receivers of emails? (people who received the most emails)"
   ]
  },
  {
   "cell_type": "code",
   "execution_count": 32,
   "metadata": {
    "collapsed": false
   },
   "outputs": [
    {
     "data": {
      "text/plain": [
       "Male      113\n",
       "Female     43\n",
       "Name: gender, dtype: int64"
      ]
     },
     "execution_count": 32,
     "metadata": {},
     "output_type": "execute_result"
    }
   ],
   "source": [
    "employeeBase.gender.value_counts()"
   ]
  },
  {
   "cell_type": "markdown",
   "metadata": {},
   "source": [
    "Which employees sent the most 'mass' emails?"
   ]
  },
  {
   "cell_type": "code",
   "execution_count": 34,
   "metadata": {
    "collapsed": false
   },
   "outputs": [
    {
     "data": {
      "text/plain": [
       "Male      0.724359\n",
       "Female    0.275641\n",
       "Name: gender, dtype: float64"
      ]
     },
     "execution_count": 34,
     "metadata": {},
     "output_type": "execute_result"
    }
   ],
   "source": [
    "employeeBase.gender.value_counts() / employeeBase.gender.count()"
   ]
  },
  {
   "cell_type": "code",
   "execution_count": 36,
   "metadata": {
    "collapsed": false
   },
   "outputs": [
    {
     "data": {
      "text/plain": [
       "department  gender\n",
       "Forestry    Male      0.833333\n",
       "            Female    0.166667\n",
       "Legal       Female    0.520000\n",
       "            Male      0.480000\n",
       "Other       Male      0.718310\n",
       "            Female    0.281690\n",
       "dtype: float64"
      ]
     },
     "execution_count": 36,
     "metadata": {},
     "output_type": "execute_result"
    }
   ],
   "source": [
    "# How is gender distributed across departments?\n",
    "employeeBase.groupby('department')['gender'].value_counts() / employeeBase.groupby('department')['gender'].count()"
   ]
  },
  {
   "cell_type": "code",
   "execution_count": 40,
   "metadata": {
    "collapsed": false
   },
   "outputs": [
    {
     "data": {
      "text/plain": [
       "Male      0.593529\n",
       "Female    0.406471\n",
       "Name: gender, dtype: float64"
      ]
     },
     "execution_count": 40,
     "metadata": {},
     "output_type": "execute_result"
    }
   ],
   "source": [
    "# Who is sending more emails? Men or Women?\n",
    "df = pd.merge(employeeBase, messageBase, left_on='eid', right_on='from_eid')\n",
    "df.gender.value_counts() / df.gender.count()"
   ]
  },
  {
   "cell_type": "code",
   "execution_count": 41,
   "metadata": {
    "collapsed": false
   },
   "outputs": [
    {
     "data": {
      "text/plain": [
       "Male      113.637168\n",
       "Female    204.511628\n",
       "Name: gender, dtype: float64"
      ]
     },
     "execution_count": 41,
     "metadata": {},
     "output_type": "execute_result"
    }
   ],
   "source": [
    "# What's the average number of emails sent by each gender?\n",
    "df.gender.value_counts() / employeeBase.gender.value_counts()"
   ]
  },
  {
   "cell_type": "code",
   "execution_count": 43,
   "metadata": {
    "collapsed": false
   },
   "outputs": [
    {
     "data": {
      "text/plain": [
       "Junior    82\n",
       "Senior    74\n",
       "Name: seniority, dtype: int64"
      ]
     },
     "execution_count": 43,
     "metadata": {},
     "output_type": "execute_result"
    }
   ],
   "source": [
    "employeeBase.seniority.value_counts()"
   ]
  },
  {
   "cell_type": "code",
   "execution_count": 44,
   "metadata": {
    "collapsed": false
   },
   "outputs": [
    {
     "data": {
      "text/plain": [
       "Senior    12439\n",
       "Junior     9196\n",
       "Name: seniority, dtype: int64"
      ]
     },
     "execution_count": 44,
     "metadata": {},
     "output_type": "execute_result"
    }
   ],
   "source": [
    "df.seniority.value_counts()"
   ]
  },
  {
   "cell_type": "code",
   "execution_count": 46,
   "metadata": {
    "collapsed": false
   },
   "outputs": [
    {
     "data": {
      "text/plain": [
       "Junior    112.146341\n",
       "Senior    168.094595\n",
       "Name: seniority, dtype: float64"
      ]
     },
     "execution_count": 46,
     "metadata": {},
     "output_type": "execute_result"
    }
   ],
   "source": [
    "df.seniority.value_counts() / employeeBase.seniority.value_counts()"
   ]
  },
  {
   "cell_type": "code",
   "execution_count": 47,
   "metadata": {
    "collapsed": false
   },
   "outputs": [
    {
     "data": {
      "text/plain": [
       "Legal       10396\n",
       "Other        6852\n",
       "Forestry     4387\n",
       "Name: department, dtype: int64"
      ]
     },
     "execution_count": 47,
     "metadata": {},
     "output_type": "execute_result"
    }
   ],
   "source": [
    "# Which department is sending more emails? How does that relate with the number of employees in the department?\n",
    "df.department.value_counts()"
   ]
  },
  {
   "cell_type": "code",
   "execution_count": 49,
   "metadata": {
    "collapsed": false
   },
   "outputs": [
    {
     "data": {
      "text/plain": [
       "Forestry     73.116667\n",
       "Legal       415.840000\n",
       "Other        96.507042\n",
       "Name: department, dtype: float64"
      ]
     },
     "execution_count": 49,
     "metadata": {},
     "output_type": "execute_result"
    }
   ],
   "source": [
    "df.department.value_counts() / employeeBase.department.value_counts()"
   ]
  },
  {
   "cell_type": "code",
   "execution_count": 50,
   "metadata": {
    "collapsed": false
   },
   "outputs": [
    {
     "data": {
      "text/html": [
       "<div>\n",
       "<table border=\"1\" class=\"dataframe\">\n",
       "  <thead>\n",
       "    <tr style=\"text-align: right;\">\n",
       "      <th></th>\n",
       "      <th>eid</th>\n",
       "      <th>msgs_sent</th>\n",
       "    </tr>\n",
       "  </thead>\n",
       "  <tbody>\n",
       "    <tr>\n",
       "      <th>0</th>\n",
       "      <td>20</td>\n",
       "      <td>1597</td>\n",
       "    </tr>\n",
       "    <tr>\n",
       "      <th>1</th>\n",
       "      <td>59</td>\n",
       "      <td>1379</td>\n",
       "    </tr>\n",
       "    <tr>\n",
       "      <th>2</th>\n",
       "      <td>120</td>\n",
       "      <td>1142</td>\n",
       "    </tr>\n",
       "    <tr>\n",
       "      <th>3</th>\n",
       "      <td>131</td>\n",
       "      <td>859</td>\n",
       "    </tr>\n",
       "    <tr>\n",
       "      <th>4</th>\n",
       "      <td>138</td>\n",
       "      <td>658</td>\n",
       "    </tr>\n",
       "  </tbody>\n",
       "</table>\n",
       "</div>"
      ],
      "text/plain": [
       "   eid  msgs_sent\n",
       "0   20       1597\n",
       "1   59       1379\n",
       "2  120       1142\n",
       "3  131        859\n",
       "4  138        658"
      ]
     },
     "execution_count": 50,
     "metadata": {},
     "output_type": "execute_result"
    }
   ],
   "source": [
    "# Who are the top 5 senders of emails? (people who sent out the most emails)\n",
    "top5senders = df.eid.value_counts().head().reset_index()\n",
    "top5senders.columns = ['eid', 'msgs_sent']\n",
    "top5senders"
   ]
  },
  {
   "cell_type": "code",
   "execution_count": 52,
   "metadata": {
    "collapsed": false
   },
   "outputs": [
    {
     "data": {
      "text/html": [
       "<div>\n",
       "<table border=\"1\" class=\"dataframe\">\n",
       "  <thead>\n",
       "    <tr style=\"text-align: right;\">\n",
       "      <th></th>\n",
       "      <th>eid</th>\n",
       "      <th>name</th>\n",
       "      <th>department</th>\n",
       "      <th>longdepartment</th>\n",
       "      <th>title</th>\n",
       "      <th>gender</th>\n",
       "      <th>seniority</th>\n",
       "      <th>msgs_sent</th>\n",
       "    </tr>\n",
       "  </thead>\n",
       "  <tbody>\n",
       "    <tr>\n",
       "      <th>0</th>\n",
       "      <td>20</td>\n",
       "      <td>Jeff Dasovich</td>\n",
       "      <td>Legal</td>\n",
       "      <td>Regulatory and Government Affairs</td>\n",
       "      <td>Director</td>\n",
       "      <td>Male</td>\n",
       "      <td>Senior</td>\n",
       "      <td>1597</td>\n",
       "    </tr>\n",
       "    <tr>\n",
       "      <th>1</th>\n",
       "      <td>59</td>\n",
       "      <td>Tana Jones</td>\n",
       "      <td>Legal</td>\n",
       "      <td>ENA Legal</td>\n",
       "      <td>Specialist Legal</td>\n",
       "      <td>Female</td>\n",
       "      <td>Junior</td>\n",
       "      <td>1379</td>\n",
       "    </tr>\n",
       "    <tr>\n",
       "      <th>2</th>\n",
       "      <td>120</td>\n",
       "      <td>Sara Shackleton</td>\n",
       "      <td>Legal</td>\n",
       "      <td>ENA Legal</td>\n",
       "      <td>Gen Cnsl Asst</td>\n",
       "      <td>Female</td>\n",
       "      <td>Junior</td>\n",
       "      <td>1142</td>\n",
       "    </tr>\n",
       "    <tr>\n",
       "      <th>3</th>\n",
       "      <td>131</td>\n",
       "      <td>James D. Steffes</td>\n",
       "      <td>Legal</td>\n",
       "      <td>Regulatory and Government Affairs</td>\n",
       "      <td>VP of Government Affairs</td>\n",
       "      <td>Male</td>\n",
       "      <td>Senior</td>\n",
       "      <td>859</td>\n",
       "    </tr>\n",
       "    <tr>\n",
       "      <th>4</th>\n",
       "      <td>138</td>\n",
       "      <td>Mark E. Taylor</td>\n",
       "      <td>Legal</td>\n",
       "      <td>ENA Legal</td>\n",
       "      <td>VP &amp; Gen Cnsl</td>\n",
       "      <td>Male</td>\n",
       "      <td>Senior</td>\n",
       "      <td>658</td>\n",
       "    </tr>\n",
       "  </tbody>\n",
       "</table>\n",
       "</div>"
      ],
      "text/plain": [
       "   eid              name department                     longdepartment  \\\n",
       "0   20     Jeff Dasovich      Legal  Regulatory and Government Affairs   \n",
       "1   59        Tana Jones      Legal                          ENA Legal   \n",
       "2  120   Sara Shackleton      Legal                          ENA Legal   \n",
       "3  131  James D. Steffes      Legal  Regulatory and Government Affairs   \n",
       "4  138    Mark E. Taylor      Legal                          ENA Legal   \n",
       "\n",
       "                      title  gender seniority  msgs_sent  \n",
       "0                  Director    Male    Senior       1597  \n",
       "1          Specialist Legal  Female    Junior       1379  \n",
       "2             Gen Cnsl Asst  Female    Junior       1142  \n",
       "3  VP of Government Affairs    Male    Senior        859  \n",
       "4             VP & Gen Cnsl    Male    Senior        658  "
      ]
     },
     "execution_count": 52,
     "metadata": {},
     "output_type": "execute_result"
    }
   ],
   "source": [
    "pd.merge(employeeBase, top5senders, on='eid')"
   ]
  },
  {
   "cell_type": "code",
   "execution_count": null,
   "metadata": {
    "collapsed": true
   },
   "outputs": [],
   "source": []
  },
  {
   "cell_type": "code",
   "execution_count": null,
   "metadata": {
    "collapsed": true
   },
   "outputs": [],
   "source": []
  },
  {
   "cell_type": "code",
   "execution_count": null,
   "metadata": {
    "collapsed": true
   },
   "outputs": [],
   "source": []
  },
  {
   "cell_type": "markdown",
   "metadata": {},
   "source": [
    "Keep exploring the dataset, which other questions would you ask?\n",
    "\n",
    "Work in pairs. Give each other a challenge and try to solve it."
   ]
  }
 ],
 "metadata": {
  "kernelspec": {
   "display_name": "Python 2",
   "language": "python",
   "name": "python2"
  },
  "language_info": {
   "codemirror_mode": {
    "name": "ipython",
    "version": 2
   },
   "file_extension": ".py",
   "mimetype": "text/x-python",
   "name": "python",
   "nbconvert_exporter": "python",
   "pygments_lexer": "ipython2",
   "version": "2.7.11"
  }
 },
 "nbformat": 4,
 "nbformat_minor": 0
}
