{
 "cells": [
  {
   "cell_type": "markdown",
   "metadata": {},
   "source": [
    "# More on autocorrelation\n",
    "First, rewrite your Durbin-Watson statistic calculator function.  Use [the Wikipedia article](https://en.wikipedia.org/wiki/Durbin%E2%80%93Watson_statistic) as reference, but don't just copy and paste the code from yesterday.  As a data scientist, it's important that you be able to translate mathematical formulas into code.  The function should take as input the residuals (just a 1d array of numbers) and output the Durbin-Watson statistic, which is used to determine the presence or absense of first order serial correlation."
   ]
  },
  {
   "cell_type": "code",
   "execution_count": 18,
   "metadata": {
    "collapsed": true
   },
   "outputs": [],
   "source": [
    "import numpy as np\n",
    "from sklearn.linear_model import LinearRegression\n",
    "import matplotlib.pyplot as plt\n",
    "%matplotlib inline"
   ]
  },
  {
   "cell_type": "code",
   "execution_count": 19,
   "metadata": {
    "collapsed": true
   },
   "outputs": [],
   "source": [
    "def myDurbinWatson(residuals):\n",
    "    d = 0.0\n",
    "    for i in range(len(residuals)-1):\n",
    "        d += (residuals[i] - residuals[i+1])**2\n",
    "    divisor = sum([x**2 for x in residuals])\n",
    "    d /= divisor\n",
    "    return d"
   ]
  },
  {
   "cell_type": "markdown",
   "metadata": {},
   "source": [
    "## Linear model with noise\n",
    "Now, reproduce the linear model with noise that we created yesterday.  Again, don't copy and paste from yesterday.  Think about what we're trying to produce: simply a line of the form $y = mx + b + \\epsilon$, where $\\epsilon$ is a white noise error term (a sequence of random draws from a normal distribution is an example of a white noise error term)."
   ]
  },
  {
   "cell_type": "code",
   "execution_count": 20,
   "metadata": {
    "collapsed": true
   },
   "outputs": [],
   "source": [
    "x = np.linspace(0,10)\n",
    "y = 2.0 * x + np.random.normal(loc=0.0,scale=0.1,size=len(x))\n",
    "\n",
    "x = x.reshape(-1,1)"
   ]
  },
  {
   "cell_type": "code",
   "execution_count": 21,
   "metadata": {
    "collapsed": false
   },
   "outputs": [
    {
     "data": {
      "text/plain": [
       "LinearRegression(copy_X=True, fit_intercept=True, n_jobs=1, normalize=False)"
      ]
     },
     "execution_count": 21,
     "metadata": {},
     "output_type": "execute_result"
    }
   ],
   "source": [
    "lr = LinearRegression()\n",
    "lr.fit(x,y)"
   ]
  },
  {
   "cell_type": "code",
   "execution_count": 22,
   "metadata": {
    "collapsed": true
   },
   "outputs": [],
   "source": [
    "yHat = lr.predict(x)"
   ]
  },
  {
   "cell_type": "markdown",
   "metadata": {},
   "source": [
    "Plot the residuals"
   ]
  },
  {
   "cell_type": "code",
   "execution_count": 23,
   "metadata": {
    "collapsed": false
   },
   "outputs": [
    {
     "data": {
      "text/plain": [
       "[<matplotlib.lines.Line2D at 0x111c34dd0>]"
      ]
     },
     "execution_count": 23,
     "metadata": {},
     "output_type": "execute_result"
    },
    {
     "data": {
      "image/png": "[encoded data removed]",
      "text/plain": [
       "<matplotlib.figure.Figure at 0x111c34d90>"
      ]
     },
     "metadata": {},
     "output_type": "display_data"
    }
   ],
   "source": [
    "plt.scatter(x,y)\n",
    "plt.plot(x,yHat)"
   ]
  },
  {
   "cell_type": "code",
   "execution_count": 24,
   "metadata": {
    "collapsed": false
   },
   "outputs": [
    {
     "data": {
      "text/plain": [
       "2.4387415372693999"
      ]
     },
     "execution_count": 24,
     "metadata": {},
     "output_type": "execute_result"
    }
   ],
   "source": [
    "residuals = y - yHat\n",
    "d = myDurbinWatson(residuals)\n",
    "d"
   ]
  },
  {
   "cell_type": "markdown",
   "metadata": {},
   "source": [
    "You should notice that the plot above doesn't show much of a pattern, if any.  In fact, the Durbin-Watson statistic calculated above, which is close to 2.0, indicates that there is no first-order serial correlation in the residuals.\n",
    "\n",
    "What happens if we calculate the Durbin-Watson statistic on y?"
   ]
  },
  {
   "cell_type": "code",
   "execution_count": 25,
   "metadata": {
    "collapsed": false
   },
   "outputs": [
    {
     "data": {
      "text/plain": [
       "0.001330957838661963"
      ]
     },
     "execution_count": 25,
     "metadata": {},
     "output_type": "execute_result"
    }
   ],
   "source": [
    "yDW = myDurbinWatson(y)\n",
    "yDW"
   ]
  },
  {
   "cell_type": "markdown",
   "metadata": {},
   "source": [
    "It's pretty close to 0.  This is because the value of $y_i$ is very close to the value of $y_{i-1}$, for all $y$ in the series.\n",
    "\n",
    "How do you think the Durbin-Watson statistic for $y$ will compare to the Durbin-Watson statistic for $\\hat{y}$?"
   ]
  },
  {
   "cell_type": "code",
   "execution_count": 26,
   "metadata": {
    "collapsed": false
   },
   "outputs": [
    {
     "data": {
      "text/plain": [
       "0.0012095737265461625"
      ]
     },
     "execution_count": 26,
     "metadata": {},
     "output_type": "execute_result"
    }
   ],
   "source": [
    "yHatDW = myDurbinWatson(yHat)\n",
    "yHatDW"
   ]
  },
  {
   "cell_type": "markdown",
   "metadata": {},
   "source": [
    "It's a little smaller, because there is no noise in this variable.\n",
    "\n",
    "## Introduction to autoregression\n",
    "When we are trying to model time series data, we are working off of one fundamental assumption: the present is related to the past; hence the future is related to the present, and we can extrapolate our current data to PREDICT THE FUTURE!!!\n",
    "\n",
    "Autoregression is when we regress $y$ on past values of itself.  Here, we are going to generate artificial data to mimic this process that does occur with real data.\n",
    "\n",
    "Generate a series of 50 y values that follow the formula $y_t = 0.9y_{t-1}$, and initialize your $y_0$ to be 10.  Plot the resulting series."
   ]
  },
  {
   "cell_type": "code",
   "execution_count": 29,
   "metadata": {
    "collapsed": false
   },
   "outputs": [
    {
     "data": {
      "text/plain": [
       "[10,\n",
       " 9.0,\n",
       " 8.1,\n",
       " 7.29,\n",
       " 6.561,\n",
       " 5.9049000000000005,\n",
       " 5.3144100000000005,\n",
       " 4.7829690000000005,\n",
       " 4.3046721,\n",
       " 3.8742048900000006,\n",
       " 3.4867844010000004,\n",
       " 3.1381059609000004,\n",
       " 2.82429536481,\n",
       " 2.541865828329,\n",
       " 2.2876792454961,\n",
       " 2.05891132094649,\n",
       " 1.853020188851841,\n",
       " 1.6677181699666568,\n",
       " 1.5009463529699911,\n",
       " 1.350851717672992,\n",
       " 1.2157665459056928,\n",
       " 1.0941898913151236,\n",
       " 0.9847709021836112,\n",
       " 0.88629381196525,\n",
       " 0.7976644307687251,\n",
       " 0.7178979876918525,\n",
       " 0.6461081889226673,\n",
       " 0.5814973700304006,\n",
       " 0.5233476330273605,\n",
       " 0.47101286972462447,\n",
       " 0.423911582752162,\n",
       " 0.38152042447694584,\n",
       " 0.34336838202925124,\n",
       " 0.30903154382632614,\n",
       " 0.27812838944369356,\n",
       " 0.2503155504993242,\n",
       " 0.2252839954493918,\n",
       " 0.2027555959044526,\n",
       " 0.18248003631400736,\n",
       " 0.16423203268260664,\n",
       " 0.14780882941434598,\n",
       " 0.13302794647291138,\n",
       " 0.11972515182562025,\n",
       " 0.10775263664305823,\n",
       " 0.0969773729787524,\n",
       " 0.08727963568087717,\n",
       " 0.07855167211278945,\n",
       " 0.0706965049015105,\n",
       " 0.06362685441135946,\n",
       " 0.05726416897022351]"
      ]
     },
     "execution_count": 29,
     "metadata": {},
     "output_type": "execute_result"
    }
   ],
   "source": [
    "y = [10]\n",
    "\n",
    "for i in range(49):\n",
    "    y.append(y[i]*0.9)\n",
    "\n",
    "y"
   ]
  },
  {
   "cell_type": "markdown",
   "metadata": {},
   "source": [
    "So you see a series of exponential decay.\n",
    "\n",
    "Now what happens if you add a white noise error term to your model, so that $y_t = 0.9y_{t-1} + \\epsilon$ ?\n",
    "\n",
    "Play around with different values for the scale parameter of `np.random.normal`.  For example, try 0.1, 1.0, and 10.0."
   ]
  },
  {
   "cell_type": "code",
   "execution_count": 30,
   "metadata": {
    "collapsed": false
   },
   "outputs": [
    {
     "data": {
      "text/plain": [
       "[<matplotlib.lines.Line2D at 0x111e27e10>]"
      ]
     },
     "execution_count": 30,
     "metadata": {},
     "output_type": "execute_result"
    },
    {
     "data": {
      "image/png": "[encoded data removed]",
      "text/plain": [
       "<matplotlib.figure.Figure at 0x111cbb190>"
      ]
     },
     "metadata": {},
     "output_type": "display_data"
    }
   ],
   "source": [
    "plt.plot(y)"
   ]
  },
  {
   "cell_type": "code",
   "execution_count": 34,
   "metadata": {
    "collapsed": false
   },
   "outputs": [
    {
     "data": {
      "text/plain": [
       "[<matplotlib.lines.Line2D at 0x112040c90>]"
      ]
     },
     "execution_count": 34,
     "metadata": {},
     "output_type": "execute_result"
    },
    {
     "data": {
      "image/png": "[encoded data removed]",
      "text/plain": [
       "<matplotlib.figure.Figure at 0x111c34890>"
      ]
     },
     "metadata": {},
     "output_type": "display_data"
    }
   ],
   "source": [
    "z = [10]\n",
    "\n",
    "for i in range(49):\n",
    "    z.append(z[i]*0.9 + np.random.normal(loc=0.0, scale=10.0))\n",
    "\n",
    "plt.plot(z)"
   ]
  },
  {
   "cell_type": "markdown",
   "metadata": {},
   "source": [
    "You have just created an autoregressive model of order 1, or AR(1).  Congrats!  This is how econometricians model many time series, after taking into account seasonality."
   ]
  },
  {
   "cell_type": "markdown",
   "metadata": {},
   "source": [
    "## But what about negative serial correlation?\n",
    "We talked about how no serial correlation is associated with Durbin-Watson values around 2.0, positive serial correlation is associated with values close to 0.0, but what about the side that is above 2.0, close to 4.0?  This corresponds to negative serial correlation.  Negative serial correlation is when subsequent values tend to be the opposite of each other.\n",
    "\n",
    "Simulate this by re-initializing y as we first did, but add the noise in the following way: at t=0, make it positive noise; at t=1, make it negative noise; at t=2, make it positive noise; at t=3, make it negative noise; etc.  Then refit a line to this new data, and calculate the Durbin-Watson statistic."
   ]
  },
  {
   "cell_type": "code",
   "execution_count": null,
   "metadata": {
    "collapsed": false
   },
   "outputs": [],
   "source": []
  },
  {
   "cell_type": "markdown",
   "metadata": {},
   "source": [
    "Plot the residuals"
   ]
  },
  {
   "cell_type": "code",
   "execution_count": null,
   "metadata": {
    "collapsed": false
   },
   "outputs": [],
   "source": []
  },
  {
   "cell_type": "markdown",
   "metadata": {},
   "source": [
    "Though it may be hard to tell, there is a more systematic pattern to the residuals plotted above: positive, negative, positive, negative, etc."
   ]
  }
 ],
 "metadata": {
  "kernelspec": {
   "display_name": "Python 2",
   "language": "python",
   "name": "python2"
  },
  "language_info": {
   "codemirror_mode": {
    "name": "ipython",
    "version": 2
   },
   "file_extension": ".py",
   "mimetype": "text/x-python",
   "name": "python",
   "nbconvert_exporter": "python",
   "pygments_lexer": "ipython2",
   "version": "2.7.12"
  }
 },
 "nbformat": 4,
 "nbformat_minor": 0
}
