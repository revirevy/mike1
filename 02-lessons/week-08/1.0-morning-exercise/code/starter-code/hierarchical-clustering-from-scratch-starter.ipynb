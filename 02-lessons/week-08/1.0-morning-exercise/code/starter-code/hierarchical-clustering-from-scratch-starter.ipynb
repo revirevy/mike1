{
 "cells": [
  {
   "cell_type": "markdown",
   "metadata": {},
   "source": [
    "# hierarchical clustering from scratch!\n",
    "Writing your own hierarchical clustering algorithm will reinforce your understanding of how it works, improve your Python skills, and it's not as hard as you think.\n",
    "## Refresher on how (agglomerative) hierarchical clustering works\n",
    "Start off by treating each point as its own cluster.  The two closest points get joined into a cluster.  Repeat, but now a \"point\" can be a point or a cluster.\n",
    "## Initialize the clusters\n",
    "We will start out with two big clusters, as in the k-means-from-scratch exercise."
   ]
  },
  {
   "cell_type": "code",
   "execution_count": 1,
   "metadata": {
    "collapsed": true
   },
   "outputs": [],
   "source": [
    "import random\n",
    "import numpy as np\n",
    "from matplotlib import pyplot as plt\n",
    "import pandas as pd\n",
    "from scipy.spatial import distance\n",
    "%matplotlib inline"
   ]
  },
  {
   "cell_type": "code",
   "execution_count": 2,
   "metadata": {
    "collapsed": false
   },
   "outputs": [
    {
     "data": {
      "image/png": "[encoded data removed]",
      "text/plain": [
       "<matplotlib.figure.Figure at 0x115ec5910>"
      ]
     },
     "metadata": {},
     "output_type": "display_data"
    }
   ],
   "source": [
    "# Create points\n",
    "sizeOfClusters = 5\n",
    "\n",
    "cluster1 = pd.DataFrame(columns=[\"x\",\"y\",\"cluster\",\"color\",\"centroid\"])\n",
    "for i in range(sizeOfClusters):\n",
    "    # This will make a cluster of points centered around (0,0), with sd = 1\n",
    "    x = random.gauss(0,1) # gauss(mean, sd) (guassian distribution <=> normal distribution)\n",
    "    y = random.gauss(0,1)\n",
    "    cluster1.loc[i] = [x,y,1,'bo',np.array([x,y])]\n",
    "    \n",
    "cluster2 = pd.DataFrame(columns=[\"x\",\"y\",\"cluster\",\"color\",\"centroid\"])\n",
    "for i in range(sizeOfClusters):\n",
    "    # This will make a cluster of points centered around (5,5), with sd = 1\n",
    "    x = random.gauss(5,1)\n",
    "    y = random.gauss(5,1)\n",
    "    cluster2.loc[i] = [x,y,2,'r+',np.array([x,y])]\n",
    "\n",
    "plt.plot(cluster1.x,cluster1.y,'bo')\n",
    "plt.plot(cluster2.x,cluster2.y,'r+')\n",
    "plt.show()"
   ]
  },
  {
   "cell_type": "code",
   "execution_count": 3,
   "metadata": {
    "collapsed": false
   },
   "outputs": [
    {
     "data": {
      "image/png": "[encoded data removed]",
      "text/plain": [
       "<matplotlib.figure.Figure at 0x115f21350>"
      ]
     },
     "metadata": {},
     "output_type": "display_data"
    }
   ],
   "source": [
    "# Now we combine the datasets, and you have to hierarchically cluster them.\n",
    "clusterF = pd.concat([cluster1,cluster2]).reset_index(drop=True)\n",
    "clusterF.cluster = range(len(clusterF)) # Each starts out as its own cluster.\n",
    "# We give them all distinct colors so we can distinguish between the clusters.\n",
    "colors = ['bo', 'go', 'ro', 'co', 'mo', 'b+', 'g+', 'r+', 'c+', 'm+']\n",
    "clusterF[\"color\"] = colors\n",
    "for i in range(len(clusterF)):\n",
    "    plt.plot(clusterF.loc[i,\"x\"],clusterF.loc[i,\"y\"],clusterF.loc[i,\"color\"])\n",
    "plt.show()"
   ]
  },
  {
   "cell_type": "code",
   "execution_count": 4,
   "metadata": {
    "collapsed": false
   },
   "outputs": [
    {
     "data": {
      "text/html": [
       "<div>\n",
       "<table border=\"1\" class=\"dataframe\">\n",
       "  <thead>\n",
       "    <tr style=\"text-align: right;\">\n",
       "      <th></th>\n",
       "      <th>x</th>\n",
       "      <th>y</th>\n",
       "      <th>cluster</th>\n",
       "      <th>color</th>\n",
       "      <th>centroid</th>\n",
       "    </tr>\n",
       "  </thead>\n",
       "  <tbody>\n",
       "    <tr>\n",
       "      <th>0</th>\n",
       "      <td>0.789727</td>\n",
       "      <td>-0.700872</td>\n",
       "      <td>0</td>\n",
       "      <td>bo</td>\n",
       "      <td>[0.789727017325, -0.700872371347]</td>\n",
       "    </tr>\n",
       "    <tr>\n",
       "      <th>1</th>\n",
       "      <td>-2.931299</td>\n",
       "      <td>0.584390</td>\n",
       "      <td>1</td>\n",
       "      <td>go</td>\n",
       "      <td>[-2.93129926358, 0.584389639424]</td>\n",
       "    </tr>\n",
       "    <tr>\n",
       "      <th>2</th>\n",
       "      <td>-1.332260</td>\n",
       "      <td>-0.657727</td>\n",
       "      <td>2</td>\n",
       "      <td>ro</td>\n",
       "      <td>[-1.33226002722, -0.657727278029]</td>\n",
       "    </tr>\n",
       "    <tr>\n",
       "      <th>3</th>\n",
       "      <td>-0.819812</td>\n",
       "      <td>-0.019283</td>\n",
       "      <td>3</td>\n",
       "      <td>co</td>\n",
       "      <td>[-0.819812258038, -0.0192832152202]</td>\n",
       "    </tr>\n",
       "    <tr>\n",
       "      <th>4</th>\n",
       "      <td>-0.464390</td>\n",
       "      <td>-1.197181</td>\n",
       "      <td>4</td>\n",
       "      <td>mo</td>\n",
       "      <td>[-0.46439031729, -1.19718134335]</td>\n",
       "    </tr>\n",
       "    <tr>\n",
       "      <th>5</th>\n",
       "      <td>3.723277</td>\n",
       "      <td>3.872092</td>\n",
       "      <td>5</td>\n",
       "      <td>b+</td>\n",
       "      <td>[3.72327704219, 3.87209245178]</td>\n",
       "    </tr>\n",
       "    <tr>\n",
       "      <th>6</th>\n",
       "      <td>6.069773</td>\n",
       "      <td>5.503988</td>\n",
       "      <td>6</td>\n",
       "      <td>g+</td>\n",
       "      <td>[6.06977344685, 5.5039880911]</td>\n",
       "    </tr>\n",
       "    <tr>\n",
       "      <th>7</th>\n",
       "      <td>3.880855</td>\n",
       "      <td>4.707051</td>\n",
       "      <td>7</td>\n",
       "      <td>r+</td>\n",
       "      <td>[3.88085509651, 4.70705052283]</td>\n",
       "    </tr>\n",
       "    <tr>\n",
       "      <th>8</th>\n",
       "      <td>6.065821</td>\n",
       "      <td>7.509867</td>\n",
       "      <td>8</td>\n",
       "      <td>c+</td>\n",
       "      <td>[6.06582117871, 7.509867339]</td>\n",
       "    </tr>\n",
       "    <tr>\n",
       "      <th>9</th>\n",
       "      <td>5.013237</td>\n",
       "      <td>4.088535</td>\n",
       "      <td>9</td>\n",
       "      <td>m+</td>\n",
       "      <td>[5.0132370132, 4.0885350147]</td>\n",
       "    </tr>\n",
       "  </tbody>\n",
       "</table>\n",
       "</div>"
      ],
      "text/plain": [
       "          x         y  cluster color                             centroid\n",
       "0  0.789727 -0.700872        0    bo    [0.789727017325, -0.700872371347]\n",
       "1 -2.931299  0.584390        1    go     [-2.93129926358, 0.584389639424]\n",
       "2 -1.332260 -0.657727        2    ro    [-1.33226002722, -0.657727278029]\n",
       "3 -0.819812 -0.019283        3    co  [-0.819812258038, -0.0192832152202]\n",
       "4 -0.464390 -1.197181        4    mo     [-0.46439031729, -1.19718134335]\n",
       "5  3.723277  3.872092        5    b+       [3.72327704219, 3.87209245178]\n",
       "6  6.069773  5.503988        6    g+        [6.06977344685, 5.5039880911]\n",
       "7  3.880855  4.707051        7    r+       [3.88085509651, 4.70705052283]\n",
       "8  6.065821  7.509867        8    c+         [6.06582117871, 7.509867339]\n",
       "9  5.013237  4.088535        9    m+         [5.0132370132, 4.0885350147]"
      ]
     },
     "execution_count": 4,
     "metadata": {},
     "output_type": "execute_result"
    }
   ],
   "source": [
    "clusterF"
   ]
  },
  {
   "cell_type": "markdown",
   "metadata": {},
   "source": [
    "## Let's write some pseudo-code\n",
    "#### For an extra challenge to yourself, don't read the pseudo-code; just go off of your understanding of agglomerative hierarchical clustering.\n",
    "1. Begin with each point being its own cluster.\n",
    "2. Calculate the distances between all clusters (remember, a cluster can be one or more points, but initially, will be only one).\n",
    "3. Merge the two closest clusters. (Update the cluster column and the centroids for the newly merged clusters; also, update the color column, for the sake of the plot.)\n",
    "4. Repeat steps 2 and 3 until you have one big cluster.\n",
    "\n",
    "Note: we will use centroid linkage clustering.  That is to say, the distance between cluster `a` and cluster `b` will be defined as the distance between the centroids of the points in `a` and the points in `b` (the centroid of a set of points is just the average of the points).\n",
    "\n",
    "## Now, let's write some real code!"
   ]
  },
  {
   "cell_type": "code",
   "execution_count": 5,
   "metadata": {
    "collapsed": true
   },
   "outputs": [],
   "source": [
    "def notOneCluster(clusterF):\n",
    "    clusterRow0 = clusterF.loc[0,\"cluster\"]\n",
    "    for i in range(len(clusterF)):\n",
    "        if (clusterF.loc[i,\"cluster\"] != clusterRow0):\n",
    "            return True\n",
    "    return False"
   ]
  },
  {
   "cell_type": "code",
   "execution_count": 6,
   "metadata": {
    "collapsed": false,
    "scrolled": false
   },
   "outputs": [
    {
     "name": "stdout",
     "output_type": "stream",
     "text": [
      "          x         y  cluster color                             centroid\n",
      "0  0.789727 -0.700872        0    bo    [0.789727017325, -0.700872371347]\n",
      "1 -2.931299  0.584390        1    go     [-2.93129926358, 0.584389639424]\n",
      "2 -1.332260 -0.657727        2    ro    [-1.33226002722, -0.657727278029]\n",
      "3 -0.819812 -0.019283        3    co  [-0.819812258038, -0.0192832152202]\n",
      "4 -0.464390 -1.197181        4    mo     [-0.46439031729, -1.19718134335]\n",
      "5  3.723277  3.872092        5    b+       [3.72327704219, 3.87209245178]\n",
      "6  6.069773  5.503988        6    g+        [6.06977344685, 5.5039880911]\n",
      "7  3.880855  4.707051        7    r+       [3.88085509651, 4.70705052283]\n",
      "8  6.065821  7.509867        8    c+         [6.06582117871, 7.509867339]\n",
      "9  5.013237  4.088535        9    m+         [5.0132370132, 4.0885350147]\n"
     ]
    },
    {
     "data": {
      "image/png": "[encoded data removed]",
      "text/plain": [
       "<matplotlib.figure.Figure at 0x118717090>"
      ]
     },
     "metadata": {},
     "output_type": "display_data"
    },
    {
     "name": "stdout",
     "output_type": "stream",
     "text": [
      "          x         y  cluster color                           centroid\n",
      "0  0.789727 -0.700872        0    bo  [0.789727017325, -0.700872371347]\n",
      "1 -2.931299  0.584390        1    go   [-2.93129926358, 0.584389639424]\n",
      "2 -1.332260 -0.657727        2    ro   [-2.15207228526, -0.67701049325]\n",
      "3 -0.819812 -0.019283        2    ro   [-2.15207228526, -0.67701049325]\n",
      "4 -0.464390 -1.197181        4    mo   [-0.46439031729, -1.19718134335]\n",
      "5  3.723277  3.872092        5    b+     [3.72327704219, 3.87209245178]\n",
      "6  6.069773  5.503988        6    g+      [6.06977344685, 5.5039880911]\n",
      "7  3.880855  4.707051        7    r+     [3.88085509651, 4.70705052283]\n",
      "8  6.065821  7.509867        8    c+       [6.06582117871, 7.509867339]\n",
      "9  5.013237  4.088535        9    m+       [5.0132370132, 4.0885350147]\n"
     ]
    },
    {
     "data": {
      "image/png": "[encoded data removed]",
      "text/plain": [
       "<matplotlib.figure.Figure at 0x118718750>"
      ]
     },
     "metadata": {},
     "output_type": "display_data"
    },
    {
     "name": "stdout",
     "output_type": "stream",
     "text": [
      "          x         y  cluster color                           centroid\n",
      "0  0.789727 -0.700872        0    bo  [0.789727017325, -0.700872371347]\n",
      "1 -2.931299  0.584390        1    go   [-2.93129926358, 0.584389639424]\n",
      "2 -1.332260 -0.657727        2    ro   [-2.15207228526, -0.67701049325]\n",
      "3 -0.819812 -0.019283        2    ro   [-2.15207228526, -0.67701049325]\n",
      "4 -0.464390 -1.197181        4    mo   [-0.46439031729, -1.19718134335]\n",
      "5  3.723277  3.872092        5    b+      [7.6041321387, 8.57914297461]\n",
      "6  6.069773  5.503988        6    g+      [6.06977344685, 5.5039880911]\n",
      "7  3.880855  4.707051        5    b+      [7.6041321387, 8.57914297461]\n",
      "8  6.065821  7.509867        8    c+       [6.06582117871, 7.509867339]\n",
      "9  5.013237  4.088535        9    m+       [5.0132370132, 4.0885350147]\n"
     ]
    },
    {
     "data": {
      "image/png": "[encoded data removed]",
      "text/plain": [
       "<matplotlib.figure.Figure at 0x118675e10>"
      ]
     },
     "metadata": {},
     "output_type": "display_data"
    },
    {
     "name": "stdout",
     "output_type": "stream",
     "text": [
      "          x         y  cluster color                          centroid\n",
      "0  0.789727 -0.700872        0    bo   [0.325336700035, -1.8980537147]\n",
      "1 -2.931299  0.584390        1    go  [-2.93129926358, 0.584389639424]\n",
      "2 -1.332260 -0.657727        2    ro  [-2.15207228526, -0.67701049325]\n",
      "3 -0.819812 -0.019283        2    ro  [-2.15207228526, -0.67701049325]\n",
      "4 -0.464390 -1.197181        0    bo   [0.325336700035, -1.8980537147]\n",
      "5  3.723277  3.872092        5    b+     [7.6041321387, 8.57914297461]\n",
      "6  6.069773  5.503988        6    g+     [6.06977344685, 5.5039880911]\n",
      "7  3.880855  4.707051        5    b+     [7.6041321387, 8.57914297461]\n",
      "8  6.065821  7.509867        8    c+      [6.06582117871, 7.509867339]\n",
      "9  5.013237  4.088535        9    m+      [5.0132370132, 4.0885350147]\n"
     ]
    },
    {
     "data": {
      "image/png": "[encoded data removed]",
      "text/plain": [
       "<matplotlib.figure.Figure at 0x118a5fb90>"
      ]
     },
     "metadata": {},
     "output_type": "display_data"
    },
    {
     "name": "stdout",
     "output_type": "stream",
     "text": [
      "          x         y  cluster color                            centroid\n",
      "0  0.789727 -0.700872        0    bo     [0.325336700035, -1.8980537147]\n",
      "1 -2.931299  0.584390        1    go  [-5.08337154883, -0.0926208538256]\n",
      "2 -1.332260 -0.657727        1    go  [-5.08337154883, -0.0926208538256]\n",
      "3 -0.819812 -0.019283        1    go  [-5.08337154883, -0.0926208538256]\n",
      "4 -0.464390 -1.197181        0    bo     [0.325336700035, -1.8980537147]\n",
      "5  3.723277  3.872092        5    b+       [7.6041321387, 8.57914297461]\n",
      "6  6.069773  5.503988        6    g+       [6.06977344685, 5.5039880911]\n",
      "7  3.880855  4.707051        5    b+       [7.6041321387, 8.57914297461]\n",
      "8  6.065821  7.509867        8    c+        [6.06582117871, 7.509867339]\n",
      "9  5.013237  4.088535        9    m+        [5.0132370132, 4.0885350147]\n"
     ]
    },
    {
     "data": {
      "image/png": "[encoded data removed]",
      "text/plain": [
       "<matplotlib.figure.Figure at 0x118d96850>"
      ]
     },
     "metadata": {},
     "output_type": "display_data"
    },
    {
     "name": "stdout",
     "output_type": "stream",
     "text": [
      "          x         y  cluster color                            centroid\n",
      "0  0.789727 -0.700872        0    bo     [0.325336700035, -1.8980537147]\n",
      "1 -2.931299  0.584390        1    go  [-5.08337154883, -0.0926208538256]\n",
      "2 -1.332260 -0.657727        1    go  [-5.08337154883, -0.0926208538256]\n",
      "3 -0.819812 -0.019283        1    go  [-5.08337154883, -0.0926208538256]\n",
      "4 -0.464390 -1.197181        0    bo     [0.325336700035, -1.8980537147]\n",
      "5  3.723277  3.872092        5    b+       [7.6041321387, 8.57914297461]\n",
      "6  6.069773  5.503988        6    g+       [11.0830104601, 9.5925231058]\n",
      "7  3.880855  4.707051        5    b+       [7.6041321387, 8.57914297461]\n",
      "8  6.065821  7.509867        8    c+        [6.06582117871, 7.509867339]\n",
      "9  5.013237  4.088535        6    g+       [11.0830104601, 9.5925231058]\n"
     ]
    },
    {
     "data": {
      "image/png": "[encoded data removed]",
      "text/plain": [
       "<matplotlib.figure.Figure at 0x118f06f10>"
      ]
     },
     "metadata": {},
     "output_type": "display_data"
    },
    {
     "name": "stdout",
     "output_type": "stream",
     "text": [
      "          x         y  cluster color                            centroid\n",
      "0  0.789727 -0.700872        0    bo     [0.325336700035, -1.8980537147]\n",
      "1 -2.931299  0.584390        1    go  [-5.08337154883, -0.0926208538256]\n",
      "2 -1.332260 -0.657727        1    go  [-5.08337154883, -0.0926208538256]\n",
      "3 -0.819812 -0.019283        1    go  [-5.08337154883, -0.0926208538256]\n",
      "4 -0.464390 -1.197181        0    bo     [0.325336700035, -1.8980537147]\n",
      "5  3.723277  3.872092        5    b+      [13.6699533174, 16.0890103136]\n",
      "6  6.069773  5.503988        6    g+       [11.0830104601, 9.5925231058]\n",
      "7  3.880855  4.707051        5    b+      [13.6699533174, 16.0890103136]\n",
      "8  6.065821  7.509867        5    b+      [13.6699533174, 16.0890103136]\n",
      "9  5.013237  4.088535        6    g+       [11.0830104601, 9.5925231058]\n"
     ]
    },
    {
     "data": {
      "image/png": "[encoded data removed]",
      "text/plain": [
       "<matplotlib.figure.Figure at 0x118ef5dd0>"
      ]
     },
     "metadata": {},
     "output_type": "display_data"
    },
    {
     "name": "stdout",
     "output_type": "stream",
     "text": [
      "          x         y  cluster color                         centroid\n",
      "0  0.789727 -0.700872        0    bo  [-4.7580348488, -1.99067456853]\n",
      "1 -2.931299  0.584390        0    bo  [-4.7580348488, -1.99067456853]\n",
      "2 -1.332260 -0.657727        0    bo  [-4.7580348488, -1.99067456853]\n",
      "3 -0.819812 -0.019283        0    bo  [-4.7580348488, -1.99067456853]\n",
      "4 -0.464390 -1.197181        0    bo  [-4.7580348488, -1.99067456853]\n",
      "5  3.723277  3.872092        5    b+   [13.6699533174, 16.0890103136]\n",
      "6  6.069773  5.503988        6    g+    [11.0830104601, 9.5925231058]\n",
      "7  3.880855  4.707051        5    b+   [13.6699533174, 16.0890103136]\n",
      "8  6.065821  7.509867        5    b+   [13.6699533174, 16.0890103136]\n",
      "9  5.013237  4.088535        6    g+    [11.0830104601, 9.5925231058]\n"
     ]
    },
    {
     "data": {
      "image/png": "[encoded data removed]",
      "text/plain": [
       "<matplotlib.figure.Figure at 0x118dad450>"
      ]
     },
     "metadata": {},
     "output_type": "display_data"
    },
    {
     "name": "stdout",
     "output_type": "stream",
     "text": [
      "          x         y  cluster color                         centroid\n",
      "0  0.789727 -0.700872        0    bo  [-4.7580348488, -1.99067456853]\n",
      "1 -2.931299  0.584390        0    bo  [-4.7580348488, -1.99067456853]\n",
      "2 -1.332260 -0.657727        0    bo  [-4.7580348488, -1.99067456853]\n",
      "3 -0.819812 -0.019283        0    bo  [-4.7580348488, -1.99067456853]\n",
      "4 -0.464390 -1.197181        0    bo  [-4.7580348488, -1.99067456853]\n",
      "5  3.723277  3.872092        5    b+   [24.7529637775, 25.6815334194]\n",
      "6  6.069773  5.503988        5    b+   [24.7529637775, 25.6815334194]\n",
      "7  3.880855  4.707051        5    b+   [24.7529637775, 25.6815334194]\n",
      "8  6.065821  7.509867        5    b+   [24.7529637775, 25.6815334194]\n",
      "9  5.013237  4.088535        5    b+   [24.7529637775, 25.6815334194]\n"
     ]
    },
    {
     "data": {
      "image/png": "[encoded data removed]",
      "text/plain": [
       "<matplotlib.figure.Figure at 0x1187eedd0>"
      ]
     },
     "metadata": {},
     "output_type": "display_data"
    }
   ],
   "source": [
    "while (notOneCluster(clusterF)):\n",
    "    # Plot within the loop so you can see the progress\n",
    "    print(clusterF)\n",
    "    for i in range(len(clusterF)):\n",
    "        plt.plot(clusterF.loc[i,\"x\"],clusterF.loc[i,\"y\"],clusterF.loc[i,\"color\"])\n",
    "    plt.show()\n",
    "    # Find the minimum distance clusters\n",
    "    minimumDistance = 1000\n",
    "    iCluster = -1\n",
    "    jCluster = -1\n",
    "    iMin = -1\n",
    "    for i in range(len(clusterF)):\n",
    "        for j in range(i+1, len(clusterF)):\n",
    "            if (clusterF.loc[i,\"cluster\"] == clusterF.loc[j,\"cluster\"]):\n",
    "                continue\n",
    "            distanceIJ = distance.euclidean(clusterF.loc[i, \"centroid\"],clusterF.loc[j,\"centroid\"])\n",
    "            if (distanceIJ < minimumDistance):\n",
    "                minimumDistance = distanceIJ\n",
    "                iCluster = clusterF.loc[i,\"cluster\"]\n",
    "                jCluster = clusterF.loc[j,\"cluster\"]\n",
    "                iMin = i\n",
    "    # Merge the minimum distance clusters: jCluster's become iCluster's.\n",
    "    for i in range(len(clusterF)):\n",
    "        if (clusterF.loc[i,\"cluster\"] == jCluster):\n",
    "            clusterF.loc[i,\"cluster\"] = iCluster\n",
    "            clusterF.loc[i,\"color\"] = clusterF.loc[iMin,\"color\"]\n",
    "    # Recalculate the centroids for the newly merged clusters\n",
    "    newCentroid = np.array([0.0,0.0])\n",
    "    for i in range(len(clusterF)):\n",
    "        if (clusterF.loc[i,\"cluster\"] == iCluster):\n",
    "            newCentroid += np.array([clusterF.loc[i,\"x\"],clusterF.loc[i,\"y\"]])\n",
    "            count=0\n",
    "            count +=1\n",
    "    newCentroid /= count\n",
    "    for i in range(len(clusterF)):\n",
    "        if (clusterF.loc[i,\"cluster\"] == iCluster):\n",
    "            clusterF.set_value(i,\"centroid\",newCentroid)\n"
   ]
  },
  {
   "cell_type": "code",
   "execution_count": null,
   "metadata": {
    "collapsed": true
   },
   "outputs": [],
   "source": []
  }
 ],
 "metadata": {
  "kernelspec": {
   "display_name": "Python 2",
   "language": "python",
   "name": "python2"
  },
  "language_info": {
   "codemirror_mode": {
    "name": "ipython",
    "version": 2
   },
   "file_extension": ".py",
   "mimetype": "text/x-python",
   "name": "python",
   "nbconvert_exporter": "python",
   "pygments_lexer": "ipython2",
   "version": "2.7.12"
  }
 },
 "nbformat": 4,
 "nbformat_minor": 0
}
