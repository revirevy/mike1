{
 "cells": [
  {
   "cell_type": "markdown",
   "metadata": {},
   "source": [
    "# Let's make a deal!\n",
    "So, we saw yesterday an interesting paradox delivered in the context of a game show.  Now, let's write code to confirm our paradox.\n",
    "\n",
    "Write code to simulate the game show (with three doors).\n",
    "\n",
    "You will need to use the Python function `raw_input` to get input from the user (the player of the game) and `random.randint` to initialize the door with the car behind it.  Print the results to the user like:\n",
    "\n",
    "Unopened doors:\n",
    "```\n",
    "***\n",
    "123\n",
    "```\n",
    "\n",
    "Door number two opened:\n",
    "```\n",
    "*G*\n",
    "123\n",
    "```"
   ]
  },
  {
   "cell_type": "code",
   "execution_count": 21,
   "metadata": {
    "collapsed": false
   },
   "outputs": [],
   "source": [
    "from random import randint"
   ]
  },
  {
   "cell_type": "code",
   "execution_count": 22,
   "metadata": {
    "collapsed": false
   },
   "outputs": [
    {
     "name": "stdout",
     "output_type": "stream",
     "text": [
      "Our winning door is Door Number 2.\n"
     ]
    }
   ],
   "source": [
    "# winningDoor = randint(1,3)\n",
    "# print \"Our winning door is Door Number %s.\" % winningDoor"
   ]
  },
  {
   "cell_type": "code",
   "execution_count": 23,
   "metadata": {
    "collapsed": false
   },
   "outputs": [
    {
     "name": "stdout",
     "output_type": "stream",
     "text": [
      "What is your name? Mike\n",
      "Hello, Mike.\n"
     ]
    }
   ],
   "source": [
    "# name = raw_input(\"What is your name? \")\n",
    "# print \"Hello, %s.\" % name"
   ]
  },
  {
   "cell_type": "code",
   "execution_count": 24,
   "metadata": {
    "collapsed": false
   },
   "outputs": [
    {
     "name": "stdout",
     "output_type": "stream",
     "text": [
      "Which of the three doors do you choose?3\n",
      "Now opening door 3.\n"
     ]
    }
   ],
   "source": [
    "# userChoice = raw_input(\"Which of the three doors do you choose? \")\n",
    "# print \"Now opening door %s.\" % userChoice"
   ]
  },
  {
   "cell_type": "code",
   "execution_count": 31,
   "metadata": {
    "collapsed": false
   },
   "outputs": [
    {
     "name": "stdout",
     "output_type": "stream",
     "text": [
      "You opened Door Number 3.\n",
      "Would you like to choose a different door? Yes\n"
     ]
    }
   ],
   "source": [
    "# if userChoice == winningDoor:\n",
    "#     print \"Congratulations, you win!\"\n",
    "# elif userChoice != winningDoor:\n",
    "#     print \"You opened Door Number %s.\" % userChoice\n",
    "#     newChoice = raw_input(\"Would you like to choose a different door? \")"
   ]
  },
  {
   "cell_type": "code",
   "execution_count": 36,
   "metadata": {
    "collapsed": false
   },
   "outputs": [
    {
     "name": "stdout",
     "output_type": "stream",
     "text": [
      "Opening Door Number 3 \n"
     ]
    }
   ],
   "source": [
    "# if newChoice == 'Yes':\n",
    "#     remainingDoor = randint(1,3) != winningDoor or userChoice\n",
    "#     print \"Opening Door Number %s \" % remainingDoor"
   ]
  },
  {
   "cell_type": "code",
   "execution_count": 38,
   "metadata": {
    "collapsed": false
   },
   "outputs": [],
   "source": [
    "numDoors = 3\n",
    "\n",
    "def printDoors(numDoors, underTheDoors, uncovered):\n",
    "    for i in range(numDoors):\n",
    "        if (uncovered[i]):\n",
    "            print underTheDoors[i],\n",
    "        else:\n",
    "                print \"*\",\n",
    "        print\n",
    "        for i in range(numDoors):\n",
    "            print i+1,\n",
    "        print"
   ]
  },
  {
   "cell_type": "code",
   "execution_count": 39,
   "metadata": {
    "collapsed": false
   },
   "outputs": [
    {
     "name": "stdout",
     "output_type": "stream",
     "text": [
      "*\n",
      "1 2 3\n",
      "*\n",
      "1 2 3\n",
      "*\n",
      "1 2 3\n"
     ]
    }
   ],
   "source": [
    "selection=-1\n",
    "door = randint(0,numDoors-1)\n",
    "underTheDoors = [\"G for x in range9numDoors\"]\n",
    "underTheDoors[door] = \"C\"\n",
    "uncovered = [False for x in range(numDoors)]\n",
    "printDoors(numDoors,underTheDoors,uncovered)"
   ]
  },
  {
   "cell_type": "code",
   "execution_count": null,
   "metadata": {
    "collapsed": true
   },
   "outputs": [],
   "source": []
  }
 ],
 "metadata": {
  "kernelspec": {
   "display_name": "Python 2",
   "language": "python",
   "name": "python2"
  },
  "language_info": {
   "codemirror_mode": {
    "name": "ipython",
    "version": 2
   },
   "file_extension": ".py",
   "mimetype": "text/x-python",
   "name": "python",
   "nbconvert_exporter": "python",
   "pygments_lexer": "ipython2",
   "version": "2.7.12"
  }
 },
 "nbformat": 4,
 "nbformat_minor": 0
}
