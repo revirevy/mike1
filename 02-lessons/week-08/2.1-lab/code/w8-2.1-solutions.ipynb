{
 "cells": [
  {
   "cell_type": "markdown",
   "metadata": {},
   "source": [
    "# Introduction - Let me tell you about a guy named Stan..."
   ]
  },
  {
   "cell_type": "code",
   "execution_count": 2,
   "metadata": {
    "collapsed": false
   },
   "outputs": [
    {
     "data": {
      "text/html": [
       "<img src=\"https://upload.wikimedia.org/wikipedia/commons/8/8a/STAN_ULAM_HOLDING_THE_FERMIAC.jpg\"/>"
      ],
      "text/plain": [
       "<IPython.core.display.Image object>"
      ]
     },
     "execution_count": 2,
     "metadata": {},
     "output_type": "execute_result"
    }
   ],
   "source": [
    "from IPython.display import Image\n",
    "Image(url='https://upload.wikimedia.org/wikipedia/commons/8/8a/STAN_ULAM_HOLDING_THE_FERMIAC.jpg')"
   ]
  },
  {
   "cell_type": "markdown",
   "metadata": {},
   "source": [
    "Picture of Stan Ulam - One of the pioneers of Bayesian analysis - he built Bayesian models to understand particle interactions that led to the successful implementation of the atomic bomb"
   ]
  },
  {
   "cell_type": "markdown",
   "metadata": {},
   "source": [
    "# The Bayesian Approach to the Simple Linear Model (SLR) and Multi-Linear Regression (MLR)"
   ]
  },
  {
   "cell_type": "markdown",
   "metadata": {
    "collapsed": true
   },
   "source": [
    "So although the basic idea of Bayesian regressions is not much different from what you saw when doing linear regressions. There will be a major difference in how they are implemented in code. Whereas one simply pushed in columns of data and a target into a regression to get output, the actual \"specification\" of the model is a bit more involved in the Bayesian variety. In particular, you will have to specify priors, likelihoods etc. However, fear not, we are not going to write any of these posterior distributions and their associated ingredients manually. We're going to introduce a dedicated software packages this week, PyStan, that not only gives you leverage in the specification side, but includes a whole lot of really efficient C++ code to do the parameter estimation. Unlike what you did earlier in the week, we won't use MLE to estimate the parameters utilizing the Monte-Carlo Markov Chain (MCMC). \n",
    "\n",
    "Although this topic is in itself not the point of our lecture, it will be a tool we leverage over-and-over again to estimate our models. For those of you who are interested in reading more, check out the following link: \n",
    "\n",
    "- Hardcore primer (requires Calculus, and strong mathematical maturity: http://www4.stat.ncsu.edu/~sghosh/TEACHING/st790/lectures/GillMCMC.pdf\n",
    "- Not as Hardcore: http://statwww.epfl.ch/teaching/3eCycleRomand/printemps-2005/EG.lectures.villars05.pdf\n",
    "\n",
    "Sorry, there's just no way around a lot of mathematics when dealing with MCMC. \n"
   ]
  },
  {
   "cell_type": "markdown",
   "metadata": {},
   "source": [
    "# Bayesian Regression vs Classical Regressions"
   ]
  },
  {
   "cell_type": "markdown",
   "metadata": {},
   "source": [
    "\n",
    "Getting back to our previous discussion, the difference between classical and Bayesian regression can be thought of as thus: \n",
    "-   Classical regression is a special case of the Bayesian perspective whereby we have a non-informative prior. \n",
    "\n",
    "I'm sure you recall what 'non-informative' refers to uniform priors (i.e. no prior information assumed to bias things one way or another). \n",
    "\n",
    "The Bayesian approach also relaxes a few assumptions, we no longer have to assume homoscedasticity etc. \n",
    "\n",
    "(Just in case you need to review this homoskedasticity: https://www.youtube.com/watch?v=zRklTsY9w9c).\n",
    "\n",
    "You can remember what it means by just breaking the word down to it's component parts - homo : same, skedastic : variation, the later word can be thought of as being related to \"skew\" i.e. how much your line \"skews\" from the \"true\" trend-line.\n",
    "\n",
    "However, as previously stated, the Bayesian approach is fundamentally the \"inverse\" trick (i.e f(X|$\\theta$) to f($\\theta$|X)), and is primarily concerned with estimating parameters. In the case of Regressions, estimating $\\beta$'s and estimating $\\sigma$'s (and thus $\\sigma^2$'s).\n",
    "\n",
    "Why does this matter? Bayesian regressions give you, the modeler/data scientist a lot more control over your model. You can specify priors for each of the parameters in your regression (the $\\beta$'s), the error term, and even the constant (as well as the target). Therefore, it's worth to learn, and will give you more latitude to fit your model to the data you \n",
    "\n",
    "So we know that the joint of $\\beta$ and $\\sigma^2$ is proportional to the precision, defined as $\\frac{1}{\\sigma^2}$. Further, $$p(\\beta, \\sigma^2|{y}) = p(\\beta|{y}, \\sigma^2)p(\\sigma^2|{y})$$\n",
    "\n",
    "As we mentioned previously, we have check that this is not a pathological probability (proper) blah blah, but this ins't a mathematics course, so we'll again be blissfully ignorant of these complexities. \n",
    "\n",
    "If we had a procedural step-wise perspective of the procedure, here's what it would be: \n",
    "\n",
    "1. Determine $\\beta$, $\\sigma$ using posterior distributions\n",
    "2. Construct $y_{i+1}, y_{i+2}, ... y_{i+n}$ from a distribution using the parameters from step 1"
   ]
  },
  {
   "cell_type": "markdown",
   "metadata": {},
   "source": [
    "# Introduction to PyStan"
   ]
  },
  {
   "cell_type": "markdown",
   "metadata": {},
   "source": [
    "The most critical element of the PyStan interface is the model specification module. This is also possibly the most tricky, since it's going to be passed in as a bulk-string from Python's perspective, any snytax issues won't immediately be caught by an error-checking feature from your IDE.\n",
    "\n",
    "So what's going on? Basically to get PyStan to work, you need to pass a string (from Python's perspective, into the PyStan library, which than \"hits\" the C++ compiler, which then interprets yours string as actual code in C++. The computation is executed (within C++), and then the results are passed back to you. It's sort of like working with an API, but everything is internal to your machine. I've created a simple diagram to explain what's going on below.\n",
    "\n",
    "\n"
   ]
  },
  {
   "cell_type": "code",
   "execution_count": 3,
   "metadata": {
    "collapsed": false
   },
   "outputs": [
    {
     "data": {
      "image/png": "[encoded data removed]",
      "text/plain": [
       "<IPython.core.display.Image object>"
      ]
     },
     "execution_count": 3,
     "metadata": {},
     "output_type": "execute_result"
    }
   ],
   "source": [
    "Image('../assets/images/PyStan Diagram.PNG')"
   ]
  },
  {
   "cell_type": "markdown",
   "metadata": {},
   "source": [
    "\n",
    "But, the we all got to remove the training wheels at some point! (at some point in your career you'll end up mareling your co-workers by writing script directly to notepad or wordpad(+) )"
   ]
  },
  {
   "cell_type": "markdown",
   "metadata": {},
   "source": [
    "I've provided a template of how PyStan model code should be pushed into the PyStan library. Note, that "
   ]
  },
  {
   "cell_type": "code",
   "execution_count": 4,
   "metadata": {
    "collapsed": false
   },
   "outputs": [
    {
     "data": {
      "text/plain": [
       "\"\\ndata {\\n// Defining your data \\n}\\ntransformed data{}\\n\\nparameters {\\n// Defining the name of your parameter and it's numerical parameters\\n// Explicitly required \\n}\\n\\ntransformed parameters{}\\n\\nmodel {\\n// Specifying your model parameters\\n// Explicitly required\\n}\\n\\ngenerated quantities{}\\n\""
      ]
     },
     "execution_count": 4,
     "metadata": {},
     "output_type": "execute_result"
    }
   ],
   "source": [
    "# This is a critical string that we need to pass from our main interface (Python) to the Stan interpretor \n",
    "\n",
    "'''\n",
    "data {\n",
    "// Defining your data \n",
    "}\n",
    "transformed data{}\n",
    "\n",
    "parameters {\n",
    "// Defining the name of your parameter and it's numerical parameters\n",
    "// Explicitly required \n",
    "}\n",
    "\n",
    "transformed parameters{}\n",
    "\n",
    "model {\n",
    "// Specifying your model parameters\n",
    "// Explicitly required\n",
    "}\n",
    "\n",
    "generated quantities{}\n",
    "'''"
   ]
  },
  {
   "cell_type": "markdown",
   "metadata": {},
   "source": [
    "# Description of components "
   ]
  },
  {
   "cell_type": "markdown",
   "metadata": {},
   "source": [
    "#### Data component (Optional)"
   ]
  },
  {
   "cell_type": "markdown",
   "metadata": {},
   "source": [
    "This is where you will define your major parameters and targets (variables or columns in data-speak), so if you have a regression equation, you need to define the target/dependent variable ('y') and the feature/independent/predictor variables (why are there so many different words that describe the same thing?) \n",
    "\n",
    "In the process of defining the variables, you will need also define where the variable ranges and it's type (for those of you who have coded before in C++ or Java, this will be familiar to you). Lastly, each line needs to end with a semi-colon. If you haven't guessed it, you're basically sending small snippets of C-code into the Stan interface from Python!"
   ]
  },
  {
   "cell_type": "markdown",
   "metadata": {},
   "source": [
    "#### Transformed Data Component (Optional)"
   ]
  },
  {
   "cell_type": "markdown",
   "metadata": {},
   "source": [
    "This is as it sounds, it's basically any data that can be derived from other data (think sample means, standard errors etc.) "
   ]
  },
  {
   "cell_type": "markdown",
   "metadata": {},
   "source": [
    "#### Parameters Component "
   ]
  },
  {
   "cell_type": "markdown",
   "metadata": {},
   "source": [
    "This is where you will define any population parameters to do Bayesian inference on, these can include mean, medians, variance etc., like the data  component, you need also specify the range and the type of the listed parameters"
   ]
  },
  {
   "cell_type": "markdown",
   "metadata": {},
   "source": [
    "#### Transformed Parameters Component (Optional)"
   ]
  },
  {
   "cell_type": "markdown",
   "metadata": {},
   "source": [
    "This is where you deposit any transformed parameters, think log-transform. Of course, you won't have to specify the range or type of the variables since you're merely transforming parameters (variables/columns) you've already defined in the data component of the structure"
   ]
  },
  {
   "cell_type": "markdown",
   "metadata": {},
   "source": [
    "#### Model Component "
   ]
  },
  {
   "cell_type": "markdown",
   "metadata": {},
   "source": [
    "This is where you will specify your model, so in the context of Bayesian computation/inference you will have to define your priors, likelihood etc. Unlike the above, you will not specify ranges of these models, you will however use the ~ symbol (tilde) as the assignment symbol."
   ]
  },
  {
   "cell_type": "markdown",
   "metadata": {},
   "source": [
    "#### Generated Quantities Component (Optional)"
   ]
  },
  {
   "cell_type": "markdown",
   "metadata": {},
   "source": [
    "This is the \"everything else\" category, any parameters or data that do not share a direct functional relationship with the estimation process. "
   ]
  },
  {
   "cell_type": "markdown",
   "metadata": {},
   "source": [
    "#### Simple Example of a single paramter Bayesian inference"
   ]
  },
  {
   "cell_type": "markdown",
   "metadata": {},
   "source": [
    "Let's now take a look at a simple C-code snippet for Stan model definition. Notice we're using a bulk string ''' stuff ''' format here to pass multi-line strings into PyStan. Also note the way the PyStan string is written with semi-colons after each line, this is basically C++ syntax. \n",
    "\n",
    "Look above at the description of each component and what's written in the code box below. Once you understand how/why everything is where it is, please move forward. If you need more details (or just curious), check out the PyStan docs. "
   ]
  },
  {
   "cell_type": "code",
   "execution_count": 5,
   "metadata": {
    "collapsed": false,
    "scrolled": true
   },
   "outputs": [
    {
     "data": {
      "text/plain": [
       "'\\ndata {\\nint<lower=0> n; \\nint<lower=0, upper=1> y[n]; \\n}\\nparameters {\\nreal<lower=0, upper=1> theta; \\n}\\nmodel {\\ntheta ~ beta(1, 1); \\ny ~ bernoulli(theta); \\n}\\n'"
      ]
     },
     "execution_count": 5,
     "metadata": {},
     "output_type": "execute_result"
    }
   ],
   "source": [
    "'''\n",
    "data {\n",
    "int<lower=0> n; \n",
    "int<lower=0, upper=1> y[n]; \n",
    "}\n",
    "parameters {\n",
    "real<lower=0, upper=1> theta; \n",
    "}\n",
    "model {\n",
    "theta ~ beta(1, 1); \n",
    "y ~ bernoulli(theta); \n",
    "}\n",
    "'''"
   ]
  },
  {
   "cell_type": "markdown",
   "metadata": {},
   "source": [
    "# Practicing Model Specification in Stan"
   ]
  },
  {
   "cell_type": "markdown",
   "metadata": {
    "collapsed": true
   },
   "source": [
    "#### 1.1 Coin toss with Stan"
   ]
  },
  {
   "cell_type": "markdown",
   "metadata": {},
   "source": [
    "Like previously, we go from the bernoulli scheme to the binomial"
   ]
  },
  {
   "cell_type": "code",
   "execution_count": 6,
   "metadata": {
    "collapsed": false
   },
   "outputs": [
    {
     "data": {
      "text/plain": [
       "'\\ndata {\\n    int<lower=0> n; \\n    int<lower=0> heads; \\n}\\nparameters {\\n    real<lower=0, upper=1> param;\\n}\\nmodel {\\n    param ~ beta(2, 2);\\n    heads ~ binomial(n, param);\\n}\\n\\n'"
      ]
     },
     "execution_count": 6,
     "metadata": {},
     "output_type": "execute_result"
    }
   ],
   "source": [
    "'Note - this is a lab answer'\n",
    "\n",
    "\n",
    "'''\n",
    "data {\n",
    "    int<lower=0> n; \n",
    "    int<lower=0> heads; \n",
    "}\n",
    "parameters {\n",
    "    real<lower=0, upper=1> param;\n",
    "}\n",
    "model {\n",
    "    param ~ beta(2, 2);\n",
    "    heads ~ binomial(n, param);\n",
    "}\n",
    "\n",
    "'''"
   ]
  },
  {
   "cell_type": "markdown",
   "metadata": {},
   "source": [
    "#### Problem 1 :  Bayesian SLR for 1 Parameter with Stan"
   ]
  },
  {
   "cell_type": "markdown",
   "metadata": {},
   "source": [
    "Write a Stan model for a SLR, using the simple example given and the previous exercise as a template "
   ]
  },
  {
   "cell_type": "code",
   "execution_count": 7,
   "metadata": {
    "collapsed": false
   },
   "outputs": [
    {
     "data": {
      "text/plain": [
       "'\\n\\ndata {\\n int<lower = 0> n; // number of observations\\n real y[n]; // response variable\\n real x[n]; // predictor variable\\n}\\n\\nparameters {\\n// Remember from high school y = ax + b\\n real a; real b; \\n real<lower=0> sd; // standard deviation\\n}\\n\\ntransformed parameters {\\n real target[n]; \\n \\nfor(i in 1:n)\\n target[i] <- a*x[i] + b;\\n}\\n\\nmodel {\\n y ~ normal(mu, sd);\\n}\\n\\n'"
      ]
     },
     "execution_count": 7,
     "metadata": {},
     "output_type": "execute_result"
    }
   ],
   "source": [
    "'Note - this is the lab answer '\n",
    "\n",
    "'''\n",
    "\n",
    "data {\n",
    " int<lower = 0> n; // number of observations\n",
    " real y[n]; // response variable\n",
    " real x[n]; // predictor variable\n",
    "}\n",
    "\n",
    "parameters {\n",
    "// Remember from high school y = ax + b\n",
    " real a; real b; \n",
    " real<lower=0> sd; // standard deviation\n",
    "}\n",
    "\n",
    "transformed parameters {\n",
    " real target[n]; \n",
    " \n",
    "for(i in 1:n)\n",
    " target[i] <- a*x[i] + b;\n",
    "}\n",
    "\n",
    "model {\n",
    " y ~ normal(mu, sd);\n",
    "}\n",
    "\n",
    "'''"
   ]
  },
  {
   "cell_type": "markdown",
   "metadata": {},
   "source": [
    "# The Boston Housing Market Data Set"
   ]
  },
  {
   "cell_type": "markdown",
   "metadata": {
    "collapsed": true
   },
   "source": [
    "#### Problem 2 - Loading Data and running a STAN model"
   ]
  },
  {
   "cell_type": "markdown",
   "metadata": {},
   "source": [
    "Today we're going to be studying a standard UCI Machine Learning data (an oldie but a goodie as they say), https://archive.ics.uci.edu/ml/datasets/Housing\n",
    "\n",
    "The data contains information that are possibly related to housing values in the Boston suburb (think Zip Realty -maybe not). Here's a brief summary of the data found on the website: \n",
    "\n",
    "    - CRIM      per capita crime rate by town\n",
    "    - ZN        proportion of residential land zoned for lots over \n",
    "                 25,000 sq.ft.\n",
    "    - INDUS     proportion of non-retail business acres per town\n",
    "    - CHAS      Charles River dummy variable (= 1 if tract bounds \n",
    "                 river; 0 otherwise)\n",
    "    - NOX       nitric oxides concentration (parts per 10 million)\n",
    "    - RM        average number of rooms per dwelling\n",
    "    - AGE       proportion of owner-occupied units built prior to 1940\n",
    "    - DIS       weighted distances to five Boston employment centres\n",
    "    - RAD       index of accessibility to radial highways\n",
    "    - TAX       full-value property-tax rate per 10,000 USD\n",
    "    - PTRATIO   pupil-teacher ratio by town\n",
    "    - B        1000(Bk - 0.63)^2 where Bk is the proportion of blacks \n",
    "                 by town\n",
    "    - LSTAT    % lower status of the population\n",
    "    - MEDV     Median value of owner-occupied homes in 1000 USDs\n",
    "\n",
    "\n",
    "Load the data and list the first 5 observations to get a feel for the data"
   ]
  },
  {
   "cell_type": "code",
   "execution_count": 8,
   "metadata": {
    "collapsed": false
   },
   "outputs": [
    {
     "data": {
      "text/html": [
       "<div>\n",
       "<table border=\"1\" class=\"dataframe\">\n",
       "  <thead>\n",
       "    <tr style=\"text-align: right;\">\n",
       "      <th></th>\n",
       "      <th>Unnamed: 0</th>\n",
       "      <th>CRIM</th>\n",
       "      <th>ZN</th>\n",
       "      <th>INDUS</th>\n",
       "      <th>CHAS</th>\n",
       "      <th>NOX</th>\n",
       "      <th>RM</th>\n",
       "      <th>AGE</th>\n",
       "      <th>DIS</th>\n",
       "      <th>RAD</th>\n",
       "      <th>TAX</th>\n",
       "      <th>PTRATIO</th>\n",
       "      <th>B</th>\n",
       "      <th>LSTAT</th>\n",
       "      <th>MEDV</th>\n",
       "    </tr>\n",
       "  </thead>\n",
       "  <tbody>\n",
       "    <tr>\n",
       "      <th>0</th>\n",
       "      <td>1</td>\n",
       "      <td>0.00632</td>\n",
       "      <td>18.0</td>\n",
       "      <td>2.31</td>\n",
       "      <td>0</td>\n",
       "      <td>0.538</td>\n",
       "      <td>6.575</td>\n",
       "      <td>65.2</td>\n",
       "      <td>4.0900</td>\n",
       "      <td>1</td>\n",
       "      <td>296</td>\n",
       "      <td>15.3</td>\n",
       "      <td>396.90</td>\n",
       "      <td>4.98</td>\n",
       "      <td>24.0</td>\n",
       "    </tr>\n",
       "    <tr>\n",
       "      <th>1</th>\n",
       "      <td>2</td>\n",
       "      <td>0.02731</td>\n",
       "      <td>0.0</td>\n",
       "      <td>7.07</td>\n",
       "      <td>0</td>\n",
       "      <td>0.469</td>\n",
       "      <td>6.421</td>\n",
       "      <td>78.9</td>\n",
       "      <td>4.9671</td>\n",
       "      <td>2</td>\n",
       "      <td>242</td>\n",
       "      <td>17.8</td>\n",
       "      <td>396.90</td>\n",
       "      <td>9.14</td>\n",
       "      <td>21.6</td>\n",
       "    </tr>\n",
       "    <tr>\n",
       "      <th>2</th>\n",
       "      <td>3</td>\n",
       "      <td>0.02729</td>\n",
       "      <td>0.0</td>\n",
       "      <td>7.07</td>\n",
       "      <td>0</td>\n",
       "      <td>0.469</td>\n",
       "      <td>7.185</td>\n",
       "      <td>61.1</td>\n",
       "      <td>4.9671</td>\n",
       "      <td>2</td>\n",
       "      <td>242</td>\n",
       "      <td>17.8</td>\n",
       "      <td>392.83</td>\n",
       "      <td>4.03</td>\n",
       "      <td>34.7</td>\n",
       "    </tr>\n",
       "    <tr>\n",
       "      <th>3</th>\n",
       "      <td>4</td>\n",
       "      <td>0.03237</td>\n",
       "      <td>0.0</td>\n",
       "      <td>2.18</td>\n",
       "      <td>0</td>\n",
       "      <td>0.458</td>\n",
       "      <td>6.998</td>\n",
       "      <td>45.8</td>\n",
       "      <td>6.0622</td>\n",
       "      <td>3</td>\n",
       "      <td>222</td>\n",
       "      <td>18.7</td>\n",
       "      <td>394.63</td>\n",
       "      <td>2.94</td>\n",
       "      <td>33.4</td>\n",
       "    </tr>\n",
       "    <tr>\n",
       "      <th>4</th>\n",
       "      <td>5</td>\n",
       "      <td>0.06905</td>\n",
       "      <td>0.0</td>\n",
       "      <td>2.18</td>\n",
       "      <td>0</td>\n",
       "      <td>0.458</td>\n",
       "      <td>7.147</td>\n",
       "      <td>54.2</td>\n",
       "      <td>6.0622</td>\n",
       "      <td>3</td>\n",
       "      <td>222</td>\n",
       "      <td>18.7</td>\n",
       "      <td>396.90</td>\n",
       "      <td>5.33</td>\n",
       "      <td>36.2</td>\n",
       "    </tr>\n",
       "  </tbody>\n",
       "</table>\n",
       "</div>"
      ],
      "text/plain": [
       "   Unnamed: 0     CRIM    ZN  INDUS  CHAS    NOX     RM   AGE     DIS  RAD  \\\n",
       "0           1  0.00632  18.0   2.31     0  0.538  6.575  65.2  4.0900    1   \n",
       "1           2  0.02731   0.0   7.07     0  0.469  6.421  78.9  4.9671    2   \n",
       "2           3  0.02729   0.0   7.07     0  0.469  7.185  61.1  4.9671    2   \n",
       "3           4  0.03237   0.0   2.18     0  0.458  6.998  45.8  6.0622    3   \n",
       "4           5  0.06905   0.0   2.18     0  0.458  7.147  54.2  6.0622    3   \n",
       "\n",
       "   TAX  PTRATIO       B  LSTAT  MEDV  \n",
       "0  296     15.3  396.90   4.98  24.0  \n",
       "1  242     17.8  396.90   9.14  21.6  \n",
       "2  242     17.8  392.83   4.03  34.7  \n",
       "3  222     18.7  394.63   2.94  33.4  \n",
       "4  222     18.7  396.90   5.33  36.2  "
      ]
     },
     "execution_count": 8,
     "metadata": {},
     "output_type": "execute_result"
    }
   ],
   "source": [
    "from __future__ import division\n",
    "import pystan\n",
    "import os\n",
    "import pylab as py\n",
    "import sys\n",
    "import glob\n",
    "import matplotlib.pyplot as plt\n",
    "import numpy as np\n",
    "import pandas as pd\n",
    "%matplotlib inline\n",
    "%precision 4\n",
    "plt.style.use('ggplot')\n",
    "\n",
    "# Load the data\n",
    "\n",
    "housing = pd.read_csv('../assets/datasets/housing.csv'); housing.head(5)"
   ]
  },
  {
   "cell_type": "markdown",
   "metadata": {},
   "source": [
    "Create a dictionary with the target (dependent variable), the feature, (dependent variable), and the size of data (the row number)"
   ]
  },
  {
   "cell_type": "code",
   "execution_count": 9,
   "metadata": {
    "collapsed": false
   },
   "outputs": [],
   "source": [
    "# Build a dictionary for Stan model processing\n",
    "#You need to passit a number of samples. In this case it's all of the houses\n",
    "#You specify the features at x(in this case we only use one), and your y (median value of a home)\n",
    "dat = {'n': len(housing), 'x': housing.CRIM, 'y': housing.MEDV}\n"
   ]
  },
  {
   "cell_type": "markdown",
   "metadata": {},
   "source": [
    "Create a bivariate plot for the target and feature"
   ]
  },
  {
   "cell_type": "code",
   "execution_count": 10,
   "metadata": {
    "collapsed": false
   },
   "outputs": [
    {
     "data": {
      "image/png": "[encoded data removed]",
      "text/plain": [
       "<matplotlib.figure.Figure at 0x1040ab190>"
      ]
     },
     "metadata": {},
     "output_type": "display_data"
    }
   ],
   "source": [
    "# Output the data to get a view of \n",
    "\n",
    "py.plot(housing.CRIM, housing.MEDV, 'o')\n",
    "py.show()\n",
    "\n",
    "#As crime increases, the median value of a home decreases"
   ]
  },
  {
   "cell_type": "markdown",
   "metadata": {},
   "source": [
    "Construct the STAN model"
   ]
  },
  {
   "cell_type": "code",
   "execution_count": 11,
   "metadata": {
    "collapsed": false
   },
   "outputs": [],
   "source": [
    "# Load the STAN model \n",
    "\n",
    "reg_model = '''\n",
    "data {\n",
    "    int<lower=0> n;\n",
    "    real x[n];\n",
    "    real y[n];\n",
    "}\n",
    "parameters {\n",
    "    real a;\n",
    "    real b;\n",
    "    real sigma;\n",
    "}\n",
    "transformed parameters {\n",
    "    real mu[n];\n",
    "    for (i in 1:n) {\n",
    "        mu[i] <- a*x[i] + b;\n",
    "        }\n",
    "}\n",
    "model {\n",
    "    sigma ~ uniform(0, 20);  //Remember step 1?\n",
    "    y ~ normal(mu, sigma); // Remember step 2?\n",
    "}\n",
    "\n",
    "'''\n",
    "fit = pystan.stan(model_code=reg_model, data=dat, iter=1000, chains=1)"
   ]
  },
  {
   "cell_type": "markdown",
   "metadata": {},
   "source": [
    "#### Bonus Exercise "
   ]
  },
  {
   "cell_type": "markdown",
   "metadata": {},
   "source": [
    "A brief detour bonus exercise - Vectorize the regression model in STAN"
   ]
  },
  {
   "cell_type": "code",
   "execution_count": 12,
   "metadata": {
    "collapsed": false
   },
   "outputs": [],
   "source": [
    "# Note - This is a lab answer\n",
    "# Vectorize the reg model in STAN\n",
    "\n",
    "vectorize_reg = '''\n",
    "data {\n",
    "    int<lower=0> n;\n",
    "    int<lower=0> m;\n",
    "    matrix[n, m] x;\n",
    "    vector[n] y;\n",
    "}\n",
    "transformed data {\n",
    "    vector[n] cons;\n",
    "    matrix[n, m+1] x;\n",
    "\n",
    "    cons <- rep_vector(1, n);\n",
    "    x <- append_col(cons, xi);\n",
    "}\n",
    "parameters {\n",
    "    vector[k] beta;\n",
    "    real<lower=0> sigma;\n",
    "}\n",
    "model {\n",
    "    y ~ normal(xi * beta, sigma);\n",
    "}\n",
    "'''"
   ]
  },
  {
   "cell_type": "markdown",
   "metadata": {},
   "source": [
    "Now back to the original exercise, initialize your Stan model in PySTan "
   ]
  },
  {
   "cell_type": "code",
   "execution_count": 13,
   "metadata": {
    "collapsed": false
   },
   "outputs": [],
   "source": [
    "model = pystan.stan(model_code = reg_model, n_jobs = 1, data = dat, iter=1000, chains=1) \n",
    "\n",
    "# Remember n_jobs = 1 is for Windows user \n"
   ]
  },
  {
   "cell_type": "markdown",
   "metadata": {},
   "source": [
    "We're going to build our first trace plot. What's a trace plot? It's a diagnostic tool to understand how well our \"mixing\" is occuring while implementing the MCMC estimation. In general we want our traceplots to be devoid of 'jump' (see picture below - thanks Harvard: http://www.people.fas.harvard.edu/~plam/teaching/methods/convergence/convergence_print.pdf)\n",
    "\n"
   ]
  },
  {
   "cell_type": "code",
   "execution_count": 14,
   "metadata": {
    "collapsed": false
   },
   "outputs": [
    {
     "data": {
      "image/png": "[encoded data removed]",
      "text/plain": [
       "<IPython.core.display.Image object>"
      ]
     },
     "execution_count": 14,
     "metadata": {},
     "output_type": "execute_result"
    }
   ],
   "source": [
    "Image('../assets/images/traceplot examples.PNG')"
   ]
  },
  {
   "cell_type": "markdown",
   "metadata": {
    "collapsed": true
   },
   "source": [
    "Make a trace plot for the estimated parameter, using histogram, and **NOT** the traceplot method in PyStan. Please read through the docs and look up the .extract() method. Remember, do things the hard way first, then we can do it the easy way. "
   ]
  },
  {
   "cell_type": "code",
   "execution_count": 15,
   "metadata": {
    "collapsed": false
   },
   "outputs": [
    {
     "name": "stderr",
     "output_type": "stream",
     "text": [
      "/Users/michaelmainzer/anaconda/lib/python2.7/site-packages/matplotlib/axes/_axes.py:5907: UserWarning: 2D hist input should be nsamples x nvariables;\n",
      " this looks transposed (shape is 500 x 506)\n",
      "  '(shape is %d x %d)' % inp.shape[::-1])\n"
     ]
    },
    {
     "data": {
      "image/png": "[encoded data removed]",
      "text/plain": [
       "<matplotlib.figure.Figure at 0x1251d4ed0>"
      ]
     },
     "metadata": {},
     "output_type": "display_data"
    }
   ],
   "source": [
    "# Visualize the mean, and variance convergence using matplotlib\n",
    "\n",
    "trace = model.extract()\n",
    "plt.figure(figsize=(10,4))\n",
    "plt.subplot(1,2,1);\n",
    "plt.hist(trace['mu'][:], 25, histtype='step');\n",
    "plt.subplot(1,2,2);\n",
    "\n",
    "plt.hist(trace['sigma'][:], 25, histtype='step');"
   ]
  },
  {
   "cell_type": "markdown",
   "metadata": {},
   "source": [
    "Build a Trace plot of the model and all parameters using the trace plot method, and print the model"
   ]
  },
  {
   "cell_type": "code",
   "execution_count": 16,
   "metadata": {
    "collapsed": false
   },
   "outputs": [
    {
     "data": {
      "image/png": "[encoded data removed]",
      "text/plain": [
       "<matplotlib.figure.Figure at 0x123621850>"
      ]
     },
     "metadata": {},
     "output_type": "display_data"
    }
   ],
   "source": [
    "# Use the traceplot method from pystan to output the graph ... much easier than constructing from a histogram don't you think? \n",
    "\n",
    "model.traceplot()\n",
    "py.show()"
   ]
  },
  {
   "cell_type": "code",
   "execution_count": 17,
   "metadata": {
    "collapsed": false
   },
   "outputs": [
    {
     "name": "stdout",
     "output_type": "stream",
     "text": [
      "Inference for Stan model: anon_model_6b049365deacf02d599e5c1c3fb14fb9.\n",
      "1 chains, each with iter=1000; warmup=500; thin=1; \n",
      "post-warmup draws per chain=500, total post-warmup draws=500.\n",
      "\n",
      "          mean se_mean     sd   2.5%    25%    50%    75%  97.5%  n_eff   Rhat\n",
      "a        -0.41  3.5e-3   0.04   -0.5  -0.44  -0.41  -0.38  -0.32  149.0    1.0\n",
      "b        24.05    0.04   0.42  23.27  23.73  24.05  24.32  24.89  138.0    1.0\n",
      "sigma     8.52    0.02    0.3   7.88   8.33   8.52   8.73   9.14  149.0   1.01\n",
      "mu[0]    24.04    0.04   0.42  23.27  23.73  24.05  24.32  24.89  138.0    1.0\n",
      "mu[1]    24.03    0.04   0.42  23.26  23.72  24.04  24.31  24.88  138.0    1.0\n",
      "mu[2]    24.03    0.04   0.42  23.26  23.72  24.04  24.31  24.88  138.0    1.0\n",
      "mu[3]    24.03    0.04   0.42  23.25  23.72  24.03  24.31  24.88  138.0    1.0\n",
      "mu[4]    24.02    0.04   0.42  23.24  23.71  24.02  24.29  24.86  138.0    1.0\n",
      "mu[5]    24.03    0.04   0.42  23.26  23.72  24.04  24.31  24.88  138.0    1.0\n",
      "mu[6]    24.01    0.04   0.42  23.23   23.7  24.01  24.28  24.85  138.0    1.0\n",
      "mu[7]    23.99    0.04   0.42  23.21  23.67  23.99  24.26  24.83  138.0    1.0\n",
      "mu[8]    23.96    0.04   0.42  23.18  23.64  23.96  24.23  24.79  138.0    1.0\n",
      "mu[9]    23.98    0.04   0.42  23.19  23.66  23.98  24.25  24.82  138.0    1.0\n",
      "mu[10]   23.95    0.04   0.42  23.17  23.64  23.96  24.22  24.79  138.0    1.0\n",
      "mu[11]    24.0    0.04   0.42  23.22  23.68   24.0  24.27  24.84  138.0    1.0\n",
      "mu[12]   24.01    0.04   0.42  23.23  23.69  24.01  24.28  24.85  138.0    1.0\n",
      "mu[13]   23.79    0.04   0.41   23.0  23.47  23.79  24.05  24.63  139.0    1.0\n",
      "mu[14]   23.78    0.04   0.41   23.0  23.47  23.79  24.04  24.62  139.0    1.0\n",
      "mu[15]   23.79    0.04   0.41   23.0  23.47  23.79  24.05  24.63  139.0    1.0\n",
      "mu[16]   23.61    0.03   0.41  22.84   23.3  23.61  23.87  24.45  140.0    1.0\n",
      "mu[17]   23.72    0.03   0.41  22.94  23.41  23.73  23.98  24.55  140.0    1.0\n",
      "mu[18]   23.71    0.03   0.41  22.94   23.4  23.72  23.98  24.55  140.0    1.0\n",
      "mu[19]   23.75    0.04   0.41  22.97  23.44  23.75  24.01  24.58  139.0    1.0\n",
      "mu[20]   23.53    0.03   0.41  22.77  23.22  23.53  23.78  24.38  141.0    1.0\n",
      "mu[21]   23.69    0.03   0.41  22.92  23.38   23.7  23.96  24.53  140.0    1.0\n",
      "mu[22]   23.54    0.03   0.41  22.78  23.23  23.54  23.79  24.38  141.0    1.0\n",
      "mu[23]   23.64    0.03   0.41  22.87  23.33  23.64   23.9  24.48  140.0    1.0\n",
      "mu[24]   23.74    0.03   0.41  22.96  23.43  23.74   24.0  24.57  140.0    1.0\n",
      "mu[25]    23.7    0.03   0.41  22.92  23.39   23.7  23.96  24.53  140.0    1.0\n",
      "mu[26]   23.77    0.04   0.41  22.99  23.46  23.77  24.03  24.61  139.0    1.0\n",
      "mu[27]   23.65    0.03   0.41  22.88  23.34  23.65  23.91  24.49  140.0    1.0\n",
      "mu[28]   23.73    0.03   0.41  22.95  23.42  23.73  23.99  24.56  140.0    1.0\n",
      "mu[29]   23.63    0.03   0.41  22.86  23.32  23.63  23.89  24.47  140.0    1.0\n",
      "mu[30]   23.58    0.03   0.41  22.82  23.27  23.58  23.83  24.42  141.0    1.0\n",
      "mu[31]   23.49    0.03   0.41  22.73  23.18  23.49  23.74  24.34  141.0    1.0\n",
      "mu[32]   23.47    0.03   0.41  22.72  23.17  23.47  23.72  24.32  141.0    1.0\n",
      "mu[33]   23.57    0.03   0.41  22.81  23.26  23.57  23.82  24.41  141.0    1.0\n",
      "mu[34]   23.38    0.03   0.41  22.62  23.07  23.38  23.62  24.23  142.0    1.0\n",
      "mu[35]   24.02    0.04   0.42  23.24  23.71  24.02  24.29  24.86  138.0    1.0\n",
      "mu[36]   24.01    0.04   0.42  23.23  23.69  24.01  24.28  24.85  138.0    1.0\n",
      "mu[37]   24.01    0.04   0.42  23.23   23.7  24.02  24.29  24.86  138.0    1.0\n",
      "mu[38]   23.97    0.04   0.42  23.19  23.66  23.98  24.24  24.81  138.0    1.0\n",
      "mu[39]   24.03    0.04   0.42  23.26  23.72  24.04  24.31  24.88  138.0    1.0\n",
      "mu[40]   24.03    0.04   0.42  23.25  23.72  24.03  24.31  24.88  138.0    1.0\n",
      "mu[41]   23.99    0.04   0.42  23.21  23.68   24.0  24.26  24.84  138.0    1.0\n",
      "mu[42]   23.99    0.04   0.42  23.21  23.67  23.99  24.26  24.83  138.0    1.0\n",
      "mu[43]   23.98    0.04   0.42   23.2  23.67  23.98  24.25  24.82  138.0    1.0\n",
      "mu[44]    24.0    0.04   0.42  23.22  23.68   24.0  24.27  24.84  138.0    1.0\n",
      "mu[45]   23.97    0.04   0.42  23.19  23.66  23.98  24.25  24.81  138.0    1.0\n",
      "mu[46]   23.97    0.04   0.42  23.19  23.65  23.97  24.24  24.81  138.0    1.0\n",
      "mu[47]   23.95    0.04   0.42  23.17  23.64  23.96  24.22  24.79  138.0    1.0\n",
      "mu[48]   23.94    0.04   0.42  23.16  23.62  23.95  24.21  24.77  138.0    1.0\n",
      "mu[49]   23.95    0.04   0.42  23.17  23.64  23.96  24.23  24.79  138.0    1.0\n",
      "mu[50]   24.01    0.04   0.42  23.23   23.7  24.01  24.28  24.85  138.0    1.0\n",
      "mu[51]   24.03    0.04   0.42  23.25  23.72  24.03   24.3  24.87  138.0    1.0\n",
      "mu[52]   24.02    0.04   0.42  23.25  23.71  24.03   24.3  24.87  138.0    1.0\n",
      "mu[53]   24.03    0.04   0.42  23.25  23.71  24.03   24.3  24.87  138.0    1.0\n",
      "mu[54]   24.04    0.04   0.42  23.26  23.73  24.04  24.31  24.88  138.0    1.0\n",
      "mu[55]   24.04    0.04   0.42  23.26  23.73  24.04  24.31  24.88  138.0    1.0\n",
      "mu[56]   24.04    0.04   0.42  23.26  23.73  24.04  24.31  24.88  138.0    1.0\n",
      "mu[57]   24.04    0.04   0.42  23.26  23.73  24.04  24.31  24.88  138.0    1.0\n",
      "mu[58]   23.98    0.04   0.42   23.2  23.67  23.99  24.25  24.82  138.0    1.0\n",
      "mu[59]    24.0    0.04   0.42  23.22  23.69  24.01  24.28  24.85  138.0    1.0\n",
      "mu[60]   23.98    0.04   0.42   23.2  23.67  23.99  24.26  24.83  138.0    1.0\n",
      "mu[61]   23.97    0.04   0.42  23.19  23.66  23.98  24.25  24.81  138.0    1.0\n",
      "mu[62]    24.0    0.04   0.42  23.22  23.69   24.0  24.27  24.84  138.0    1.0\n",
      "mu[63]   23.99    0.04   0.42  23.21  23.68   24.0  24.27  24.84  138.0    1.0\n",
      "mu[64]   24.04    0.04   0.42  23.26  23.73  24.04  24.31  24.88  138.0    1.0\n",
      "mu[65]   24.03    0.04   0.42  23.25  23.72  24.03   24.3  24.87  138.0    1.0\n",
      "mu[66]   24.03    0.04   0.42  23.25  23.72  24.03   24.3  24.87  138.0    1.0\n",
      "mu[67]   24.02    0.04   0.42  23.24  23.71  24.02  24.29  24.87  138.0    1.0\n",
      "mu[68]   23.99    0.04   0.42  23.21  23.68  23.99  24.26  24.83  138.0    1.0\n",
      "mu[69]   23.99    0.04   0.42  23.21  23.68   24.0  24.26  24.84  138.0    1.0\n",
      "mu[70]   24.01    0.04   0.42  23.23   23.7  24.01  24.28  24.85  138.0    1.0\n",
      "mu[71]   23.98    0.04   0.42   23.2  23.67  23.98  24.25  24.82  138.0    1.0\n",
      "mu[72]   24.01    0.04   0.42  23.23  23.69  24.01  24.28  24.85  138.0    1.0\n",
      "mu[73]   23.96    0.04   0.42  23.18  23.65  23.97  24.24   24.8  138.0    1.0\n",
      "mu[74]   24.01    0.04   0.42  23.23   23.7  24.02  24.29  24.86  138.0    1.0\n",
      "mu[75]   24.01    0.04   0.42  23.23  23.69  24.01  24.28  24.85  138.0    1.0\n",
      "mu[76]    24.0    0.04   0.42  23.22  23.69  24.01  24.28  24.85  138.0    1.0\n",
      "mu[77]   24.01    0.04   0.42  23.23   23.7  24.01  24.28  24.85  138.0    1.0\n",
      "mu[78]   24.02    0.04   0.42  23.24  23.71  24.02   24.3  24.87  138.0    1.0\n",
      "mu[79]   24.01    0.04   0.42  23.23   23.7  24.01  24.28  24.85  138.0    1.0\n",
      "mu[80]   24.03    0.04   0.42  23.25  23.72  24.03   24.3  24.87  138.0    1.0\n",
      "mu[81]   24.03    0.04   0.42  23.25  23.72  24.03   24.3  24.87  138.0    1.0\n",
      "mu[82]   24.03    0.04   0.42  23.25  23.72  24.03   24.3  24.87  138.0    1.0\n",
      "mu[83]   24.03    0.04   0.42  23.25  23.72  24.03   24.3  24.87  138.0    1.0\n",
      "mu[84]   24.02    0.04   0.42  23.25  23.71  24.03   24.3  24.87  138.0    1.0\n",
      "mu[85]   24.02    0.04   0.42  23.24  23.71  24.02   24.3  24.87  138.0    1.0\n",
      "mu[86]   24.02    0.04   0.42  23.25  23.71  24.03   24.3  24.87  138.0    1.0\n",
      "mu[87]   24.02    0.04   0.42  23.24   23.7  24.02  24.29  24.86  138.0    1.0\n",
      "mu[88]   24.02    0.04   0.42  23.24  23.71  24.02   24.3  24.87  138.0    1.0\n",
      "mu[89]   24.02    0.04   0.42  23.25  23.71  24.03   24.3  24.87  138.0    1.0\n",
      "mu[90]   24.03    0.04   0.42  23.25  23.72  24.03   24.3  24.87  138.0    1.0\n",
      "mu[91]   24.03    0.04   0.42  23.25  23.72  24.03   24.3  24.87  138.0    1.0\n",
      "mu[92]   24.03    0.04   0.42  23.25  23.72  24.03   24.3  24.87  138.0    1.0\n",
      "mu[93]   24.03    0.04   0.42  23.26  23.72  24.04  24.31  24.88  138.0    1.0\n",
      "mu[94]   24.03    0.04   0.42  23.25  23.72  24.03   24.3  24.87  138.0    1.0\n",
      "mu[95]    24.0    0.04   0.42  23.22  23.68   24.0  24.27  24.84  138.0    1.0\n",
      "mu[96]    24.0    0.04   0.42  23.22  23.69   24.0  24.27  24.84  138.0    1.0\n",
      "mu[97]    24.0    0.04   0.42  23.22  23.68   24.0  24.27  24.84  138.0    1.0\n",
      "mu[98]   24.01    0.04   0.42  23.23   23.7  24.01  24.28  24.86  138.0    1.0\n",
      "mu[99]   24.02    0.04   0.42  23.24  23.71  24.02  24.29  24.86  138.0    1.0\n",
      "mu[100]  23.98    0.04   0.42   23.2  23.67  23.99  24.26  24.83  138.0    1.0\n",
      "mu[101]   24.0    0.04   0.42  23.22  23.69   24.0  24.27  24.84  138.0    1.0\n",
      "mu[102]  23.95    0.04   0.42  23.17  23.64  23.96  24.22  24.79  138.0    1.0\n",
      "mu[103]  23.96    0.04   0.42  23.18  23.64  23.96  24.23  24.79  138.0    1.0\n",
      "mu[104]  23.99    0.04   0.42  23.21  23.68  23.99  24.26  24.83  138.0    1.0\n",
      "mu[105]  23.99    0.04   0.42  23.21  23.68  23.99  24.26  24.83  138.0    1.0\n",
      "mu[106]  23.98    0.04   0.42  23.19  23.66  23.98  24.25  24.81  138.0    1.0\n",
      "mu[107]  23.99    0.04   0.42  23.21  23.68  23.99  24.26  24.83  138.0    1.0\n",
      "mu[108]  23.99    0.04   0.42  23.21  23.68   24.0  24.26  24.84  138.0    1.0\n",
      "mu[109]  23.94    0.04   0.42  23.15  23.62  23.94  24.21  24.77  138.0    1.0\n",
      "mu[110]   24.0    0.04   0.42  23.22  23.69   24.0  24.27  24.84  138.0    1.0\n",
      "mu[111]   24.0    0.04   0.42  23.23  23.69  24.01  24.28  24.85  138.0    1.0\n",
      "mu[112]  23.99    0.04   0.42  23.22  23.68   24.0  24.27  24.84  138.0    1.0\n",
      "mu[113]  23.95    0.04   0.42  23.17  23.64  23.96  24.22  24.79  138.0    1.0\n",
      "mu[114]  23.99    0.04   0.42  23.21  23.67  23.99  24.26  24.83  138.0    1.0\n",
      "mu[115]  23.97    0.04   0.42  23.19  23.66  23.98  24.25  24.81  138.0    1.0\n",
      "mu[116]  23.99    0.04   0.42  23.21  23.68  23.99  24.26  24.83  138.0    1.0\n",
      "mu[117]  23.98    0.04   0.42   23.2  23.67  23.99  24.25  24.82  138.0    1.0\n",
      "mu[118]  23.99    0.04   0.42  23.21  23.68  23.99  24.26  24.83  138.0    1.0\n",
      "mu[119]  23.99    0.04   0.42  23.21  23.67  23.99  24.26  24.83  138.0    1.0\n",
      "mu[120]  24.02    0.04   0.42  23.24  23.71  24.02  24.29  24.86  138.0    1.0\n",
      "mu[121]  24.02    0.04   0.42  23.24   23.7  24.02  24.29  24.86  138.0    1.0\n",
      "mu[122]  24.01    0.04   0.42  23.23  23.69  24.01  24.28  24.85  138.0    1.0\n",
      "mu[123]  23.98    0.04   0.42   23.2  23.67  23.99  24.26  24.82  138.0    1.0\n",
      "mu[124]  24.01    0.04   0.42  23.23  23.69  24.01  24.28  24.85  138.0    1.0\n",
      "mu[125]  23.98    0.04   0.42   23.2  23.66  23.98  24.25  24.82  138.0    1.0\n",
      "mu[126]  23.89    0.04   0.42   23.1  23.57  23.89  24.15  24.72  139.0    1.0\n",
      "mu[127]  23.94    0.04   0.42  23.16  23.62  23.95  24.21  24.77  138.0    1.0\n",
      "mu[128]  23.91    0.04   0.42  23.13   23.6  23.92  24.18  24.74  138.0    1.0\n",
      "mu[129]  23.68    0.03   0.41  22.91  23.37  23.68  23.94  24.52  140.0    1.0\n",
      "mu[130]  23.91    0.04   0.42  23.12  23.59  23.91  24.17  24.74  138.0    1.0\n",
      "mu[131]  23.55    0.03   0.41  22.79  23.24  23.55  23.81   24.4  141.0    1.0\n",
      "mu[132]   23.8    0.04   0.42  23.02  23.49  23.81  24.07  24.65  139.0    1.0\n",
      "mu[133]  23.91    0.04   0.42  23.12  23.59  23.92  24.18  24.74  138.0    1.0\n",
      "mu[134]  23.64    0.03   0.41  22.87  23.33  23.64   23.9  24.48  140.0    1.0\n",
      "mu[135]  23.82    0.04   0.42  23.03   23.5  23.82  24.08  24.66  139.0    1.0\n",
      "mu[136]  23.91    0.04   0.42  23.13   23.6  23.92  24.18  24.74  138.0    1.0\n",
      "mu[137]   23.9    0.04   0.42  23.11  23.58  23.91  24.17  24.73  138.0    1.0\n",
      "mu[138]  23.94    0.04   0.42  23.16  23.63  23.95  24.21  24.78  138.0    1.0\n",
      "mu[139]  23.82    0.04   0.42  23.04   23.5  23.83  24.09  24.66  139.0    1.0\n",
      "mu[140]  23.93    0.04   0.42  23.14  23.61  23.93   24.2  24.76  138.0    1.0\n",
      "mu[141]  23.37    0.03   0.41  22.61  23.06  23.37  23.62  24.22  142.0    1.0\n",
      "mu[142]  22.67    0.03   0.41  21.94  22.37  22.65  22.93  23.54  148.0    1.0\n",
      "mu[143]  22.35    0.03   0.41  21.61  22.04  22.33  22.62  23.23  151.0    1.0\n",
      "mu[144]   22.9    0.03   0.41  22.16  22.59  22.88  23.14  23.76  146.0    1.0\n",
      "mu[145]  23.06    0.03   0.41  22.31  22.76  23.05  23.31  23.91  145.0    1.0\n",
      "mu[146]  23.15    0.03   0.41   22.4  22.84  23.15  23.39   24.0  144.0    1.0\n",
      "mu[147]  23.07    0.03   0.41  22.31  22.76  23.05  23.31  23.92  145.0    1.0\n",
      "mu[148]  23.08    0.03   0.41  22.33  22.78  23.07  23.32  23.93  145.0    1.0\n",
      "mu[149]  22.91    0.03   0.41  22.18  22.61   22.9  23.16  23.77  146.0    1.0\n",
      "mu[150]  23.36    0.03   0.41   22.6  23.05  23.36   23.6  24.21  142.0    1.0\n",
      "mu[151]  23.43    0.03   0.41  22.67  23.12  23.43  23.67  24.28  142.0    1.0\n",
      "mu[152]  23.58    0.03   0.41  22.82  23.27  23.58  23.83  24.42  141.0    1.0\n",
      "mu[153]  23.16    0.03   0.41  22.41  22.85  23.15   23.4  24.01  144.0    1.0\n",
      "mu[154]  23.46    0.03   0.41  22.71  23.16  23.46  23.71  24.31  142.0    1.0\n",
      "mu[155]  22.58    0.03   0.41  21.85  22.28  22.56  22.85  23.46  149.0    1.0\n",
      "mu[156]  23.03    0.03   0.41  22.28  22.73  23.02  23.28  23.89  145.0    1.0\n",
      "mu[157]  23.54    0.03   0.41  22.78  23.23  23.54  23.79  24.39  141.0    1.0\n",
      "mu[158]  23.49    0.03   0.41  22.74  23.19  23.49  23.74  24.34  141.0    1.0\n",
      "mu[159]  23.46    0.03   0.41  22.71  23.15  23.46  23.71  24.31  142.0    1.0\n",
      "mu[160]  23.52    0.03   0.41  22.76  23.21  23.52  23.77  24.37  141.0    1.0\n",
      "mu[161]  23.44    0.03   0.41  22.69  23.14  23.44  23.69   24.3  142.0    1.0\n",
      "mu[162]  23.29    0.03   0.41  22.53  22.97  23.28  23.53  24.13  143.0    1.0\n",
      "mu[163]  23.42    0.03   0.41  22.66  23.11  23.42  23.66  24.27  142.0    1.0\n",
      "mu[164]  23.12    0.03   0.41  22.37  22.81  23.11  23.36  23.97  144.0    1.0\n",
      "mu[165]  22.84    0.03   0.41  22.09  22.53  22.82  23.09   23.7  147.0    1.0\n",
      "mu[166]  23.21    0.03   0.41  22.46   22.9  23.21  23.46  24.06  144.0    1.0\n",
      "mu[167]   23.3    0.03   0.41  22.54  22.99   23.3  23.54  24.15  143.0    1.0\n",
      "mu[168]  23.09    0.03   0.41  22.34  22.79  23.08  23.34  23.95  145.0    1.0\n",
      "mu[169]  23.03    0.03   0.41  22.27  22.73  23.02  23.28  23.89  145.0    1.0\n",
      "mu[170]  23.55    0.03   0.41  22.79  23.24  23.55   23.8  24.39  141.0    1.0\n",
      "mu[171]  23.09    0.03   0.41  22.34  22.79  23.08  23.33  23.94  145.0    1.0\n",
      "mu[172]  23.99    0.04   0.42  23.21  23.68  23.99  24.26  24.83  138.0    1.0\n",
      "mu[173]  24.01    0.04   0.42  23.23  23.69  24.01  24.28  24.85  138.0    1.0\n",
      "mu[174]  24.01    0.04   0.42  23.23   23.7  24.01  24.28  24.85  138.0    1.0\n",
      "mu[175]  24.02    0.04   0.42  23.24  23.71  24.02  24.29  24.86  138.0    1.0\n",
      "mu[176]  24.02    0.04   0.42  23.24   23.7  24.02  24.29  24.86  138.0    1.0\n",
      "mu[177]  24.02    0.04   0.42  23.25  23.71  24.03   24.3  24.87  138.0    1.0\n",
      "mu[178]  24.02    0.04   0.42  23.24  23.71  24.02  24.29  24.86  138.0    1.0\n",
      "mu[179]  24.02    0.04   0.42  23.24  23.71  24.02  24.29  24.87  138.0    1.0\n",
      "mu[180]  24.02    0.04   0.42  23.24  23.71  24.02  24.29  24.86  138.0    1.0\n",
      "mu[181]  24.02    0.04   0.42  23.24  23.71  24.02  24.29  24.86  138.0    1.0\n",
      "mu[182]  24.01    0.04   0.42  23.23   23.7  24.01  24.28  24.85  138.0    1.0\n",
      "mu[183]   24.0    0.04   0.42  23.23  23.69  24.01  24.28  24.85  138.0    1.0\n",
      "mu[184]  24.01    0.04   0.42  23.23   23.7  24.01  24.28  24.86  138.0    1.0\n",
      "mu[185]  24.02    0.04   0.42  23.24  23.71  24.02  24.29  24.86  138.0    1.0\n",
      "mu[186]  24.02    0.04   0.42  23.24  23.71  24.02   24.3  24.87  138.0    1.0\n",
      "mu[187]  24.01    0.04   0.42  23.23   23.7  24.02  24.29  24.86  138.0    1.0\n",
      "mu[188]  23.99    0.04   0.42  23.21  23.68   24.0  24.27  24.84  138.0    1.0\n",
      "mu[189]  24.01    0.04   0.42  23.23   23.7  24.01  24.28  24.85  138.0    1.0\n",
      "mu[190]  24.01    0.04   0.42  23.23   23.7  24.01  24.28  24.85  138.0    1.0\n",
      "mu[191]  24.02    0.04   0.42  23.24  23.71  24.02  24.29  24.86  138.0    1.0\n",
      "mu[192]  24.01    0.04   0.42  23.23   23.7  24.01  24.28  24.85  138.0    1.0\n",
      "mu[193]  24.04    0.04   0.42  23.26  23.72  24.04  24.31  24.88  138.0    1.0\n",
      "mu[194]  24.04    0.04   0.42  23.26  23.73  24.04  24.31  24.88  138.0    1.0\n",
      "mu[195]  24.04    0.04   0.42  23.26  23.73  24.04  24.31  24.88  138.0    1.0\n",
      "mu[196]  24.03    0.04   0.42  23.25  23.72  24.03   24.3  24.87  138.0    1.0\n",
      "mu[197]  24.03    0.04   0.42  23.25  23.72  24.03   24.3  24.87  138.0    1.0\n",
      "mu[198]  24.03    0.04   0.42  23.25  23.72  24.03   24.3  24.87  138.0    1.0\n",
      "mu[199]  24.03    0.04   0.42  23.25  23.72  24.03  24.31  24.88  138.0    1.0\n",
      "mu[200]  24.04    0.04   0.42  23.26  23.73  24.04  24.31  24.88  138.0    1.0\n",
      "mu[201]  24.03    0.04   0.42  23.25  23.72  24.03   24.3  24.87  138.0    1.0\n",
      "mu[202]  24.04    0.04   0.42  23.26  23.72  24.04  24.31  24.88  138.0    1.0\n",
      "mu[203]  24.03    0.04   0.42  23.25  23.72  24.03   24.3  24.87  138.0    1.0\n",
      "mu[204]  24.04    0.04   0.42  23.26  23.73  24.04  24.31  24.88  138.0    1.0\n",
      "mu[205]  23.99    0.04   0.42  23.21  23.68  23.99  24.26  24.83  138.0    1.0\n",
      "mu[206]  23.95    0.04   0.42  23.17  23.64  23.96  24.22  24.79  138.0    1.0\n",
      "mu[207]  23.94    0.04   0.42  23.16  23.63  23.95  24.21  24.77  138.0    1.0\n",
      "mu[208]  23.99    0.04   0.42  23.21  23.68  23.99  24.26  24.83  138.0    1.0\n",
      "mu[209]  23.87    0.04   0.42  23.08  23.55  23.87  24.13   24.7  139.0    1.0\n",
      "mu[210]  23.97    0.04   0.42  23.19  23.66  23.98  24.24  24.81  138.0    1.0\n",
      "mu[211]  23.89    0.04   0.42   23.1  23.57   23.9  24.16  24.72  139.0    1.0\n",
      "mu[212]  23.96    0.04   0.42  23.17  23.64  23.96  24.23  24.79  138.0    1.0\n",
      "mu[213]  23.99    0.04   0.42  23.21  23.68  23.99  24.26  24.83  138.0    1.0\n",
      "mu[214]  23.93    0.04   0.42  23.14  23.61  23.93   24.2  24.76  138.0    1.0\n",
      "mu[215]  23.96    0.04   0.42  23.18  23.65  23.97  24.23   24.8  138.0    1.0\n",
      "mu[216]  24.03    0.04   0.42  23.25  23.72  24.03   24.3  24.87  138.0    1.0\n",
      "mu[217]  24.02    0.04   0.42  23.24   23.7  24.02  24.29  24.86  138.0    1.0\n",
      "mu[218]   24.0    0.04   0.42  23.22  23.69   24.0  24.27  24.84  138.0    1.0\n",
      "mu[219]   24.0    0.04   0.42  23.22  23.69   24.0  24.27  24.84  138.0    1.0\n",
      "mu[220]   23.9    0.04   0.42  23.11  23.58   23.9  24.17  24.73  138.0    1.0\n",
      "mu[221]  23.88    0.04   0.42  23.09  23.56  23.88  24.15  24.71  139.0    1.0\n",
      "mu[222]  23.79    0.04   0.41  23.01  23.48   23.8  24.05  24.63  139.0    1.0\n",
      "mu[223]  23.79    0.04   0.41  23.01  23.48   23.8  24.05  24.63  139.0    1.0\n",
      "mu[224]  23.92    0.04   0.42  23.13   23.6  23.92  24.19  24.75  138.0    1.0\n",
      "mu[225]  23.83    0.04   0.42  23.04  23.51  23.84  24.09  24.67  139.0    1.0\n",
      "mu[226]  23.89    0.04   0.42   23.1  23.57  23.89  24.16  24.72  139.0    1.0\n",
      "mu[227]  23.88    0.04   0.42  23.09  23.56  23.88  24.14  24.71  139.0    1.0\n",
      "mu[228]  23.92    0.04   0.42  23.14  23.61  23.93  24.19  24.75  138.0    1.0\n",
      "mu[229]  23.86    0.04   0.42  23.07  23.55  23.87  24.13   24.7  139.0    1.0\n",
      "mu[230]  23.82    0.04   0.42  23.04  23.51  23.83  24.09  24.67  139.0    1.0\n",
      "mu[231]  23.85    0.04   0.42  23.07  23.54  23.86  24.12  24.69  139.0    1.0\n",
      "mu[232]  23.81    0.04   0.42  23.02  23.49  23.82  24.07  24.65  139.0    1.0\n",
      "mu[233]  23.91    0.04   0.42  23.12  23.59  23.92  24.18  24.74  138.0    1.0\n",
      "mu[234]  23.86    0.04   0.42  23.07  23.54  23.87  24.13   24.7  139.0    1.0\n",
      "mu[235]  23.91    0.04   0.42  23.12  23.59  23.92  24.18  24.74  138.0    1.0\n",
      "mu[236]  23.83    0.04   0.42  23.04  23.51  23.84   24.1  24.67  139.0    1.0\n",
      "mu[237]  23.83    0.04   0.42  23.05  23.52  23.84   24.1  24.68  139.0    1.0\n",
      "mu[238]  24.01    0.04   0.42  23.23   23.7  24.01  24.28  24.86  138.0    1.0\n",
      "mu[239]  24.01    0.04   0.42  23.23  23.69  24.01  24.28  24.85  138.0    1.0\n",
      "mu[240]   24.0    0.04   0.42  23.22  23.69   24.0  24.27  24.84  138.0    1.0\n",
      "mu[241]   24.0    0.04   0.42  23.22  23.69   24.0  24.27  24.85  138.0    1.0\n",
      "mu[242]   24.0    0.04   0.42  23.22  23.69  24.01  24.28  24.85  138.0    1.0\n",
      "mu[243]  23.99    0.04   0.42  23.21  23.68   24.0  24.26  24.84  138.0    1.0\n",
      "mu[244]  23.96    0.04   0.42  23.18  23.65  23.97  24.23   24.8  138.0    1.0\n",
      "mu[245]  23.97    0.04   0.42  23.19  23.65  23.97  24.24   24.8  138.0    1.0\n",
      "mu[246]  23.91    0.04   0.42  23.12  23.59  23.91  24.17  24.74  138.0    1.0\n",
      "mu[247]  23.96    0.04   0.42  23.18  23.65  23.97  24.24   24.8  138.0    1.0\n",
      "mu[248]  23.98    0.04   0.42   23.2  23.66  23.98  24.25  24.82  138.0    1.0\n",
      "mu[249]  23.97    0.04   0.42  23.19  23.65  23.97  24.24   24.8  138.0    1.0\n",
      "mu[250]  23.99    0.04   0.42  23.21  23.68  23.99  24.26  24.83  138.0    1.0\n",
      "mu[251]  23.96    0.04   0.42  23.18  23.64  23.96  24.23  24.79  138.0    1.0\n",
      "mu[252]  24.01    0.04   0.42  23.23   23.7  24.01  24.28  24.86  138.0    1.0\n",
      "mu[253]  23.89    0.04   0.42  23.11  23.58   23.9  24.16  24.73  139.0    1.0\n",
      "mu[254]  24.03    0.04   0.42  23.25  23.71  24.03   24.3  24.87  138.0    1.0\n",
      "mu[255]  24.03    0.04   0.42  23.25  23.72  24.03   24.3  24.87  138.0    1.0\n",
      "mu[256]  24.04    0.04   0.42  23.26  23.73  24.04  24.31  24.88  138.0    1.0\n",
      "mu[257]  23.79    0.04   0.41  23.01  23.48   23.8  24.06  24.64  139.0    1.0\n",
      "mu[258]  23.77    0.04   0.41  22.99  23.46  23.78  24.03  24.61  139.0    1.0\n",
      "mu[259]  23.77    0.04   0.41  22.99  23.46  23.78  24.04  24.61  139.0    1.0\n",
      "mu[260]  23.82    0.04   0.42  23.04  23.51  23.83  24.09  24.67  139.0    1.0\n",
      "mu[261]  23.82    0.04   0.42  23.04  23.51  23.83  24.09  24.67  139.0    1.0\n",
      "mu[262]  23.83    0.04   0.42  23.04  23.51  23.84   24.1  24.67  139.0    1.0\n",
      "mu[263]   23.7    0.03   0.41  22.93  23.39  23.71  23.97  24.54  140.0    1.0\n",
      "mu[264]  23.82    0.04   0.42  23.03   23.5  23.83  24.08  24.66  139.0    1.0\n",
      "mu[265]  23.73    0.03   0.41  22.95  23.42  23.74  23.99  24.56  140.0    1.0\n",
      "mu[266]  23.72    0.03   0.41  22.94  23.41  23.73  23.98  24.55  140.0    1.0\n",
      "mu[267]  23.81    0.04   0.42  23.02  23.49  23.81  24.07  24.65  139.0    1.0\n",
      "mu[268]  23.82    0.04   0.42  23.04  23.51  23.83  24.09  24.67  139.0    1.0\n",
      "mu[269]  24.01    0.04   0.42  23.23   23.7  24.01  24.28  24.85  138.0    1.0\n",
      "mu[270]  23.92    0.04   0.42  23.14  23.61  23.93  24.19  24.75  138.0    1.0\n",
      "mu[271]  23.98    0.04   0.42   23.2  23.67  23.98  24.25  24.82  138.0    1.0\n",
      "mu[272]   24.0    0.04   0.42  23.22  23.69   24.0  24.27  24.84  138.0    1.0\n",
      "mu[273]  23.95    0.04   0.42  23.17  23.64  23.96  24.22  24.79  138.0    1.0\n",
      "mu[274]  24.02    0.04   0.42  23.24  23.71  24.02   24.3  24.87  138.0    1.0\n",
      "mu[275]  24.01    0.04   0.42  23.23  23.69  24.01  24.28  24.85  138.0    1.0\n",
      "mu[276]   24.0    0.04   0.42  23.22  23.69  24.01  24.27  24.85  138.0    1.0\n",
      "mu[277]  24.02    0.04   0.42  23.24  23.71  24.02  24.29  24.86  138.0    1.0\n",
      "mu[278]  24.01    0.04   0.42  23.23   23.7  24.02  24.29  24.86  138.0    1.0\n",
      "mu[279]  23.96    0.04   0.42  23.18  23.64  23.96  24.23  24.79  138.0    1.0\n",
      "mu[280]  24.03    0.04   0.42  23.25  23.72  24.03   24.3  24.87  138.0    1.0\n",
      "mu[281]  24.03    0.04   0.42  23.25  23.72  24.03   24.3  24.87  138.0    1.0\n",
      "mu[282]  24.02    0.04   0.42  23.24  23.71  24.02  24.29  24.86  138.0    1.0\n",
      "mu[283]  24.04    0.04   0.42  23.26  23.73  24.04  24.31  24.88  138.0    1.0\n",
      "mu[284]  24.04    0.04   0.42  23.26  23.73  24.04  24.32  24.89  138.0    1.0\n",
      "mu[285]  24.04    0.04   0.42  23.26  23.73  24.04  24.32  24.88  138.0    1.0\n",
      "mu[286]  24.04    0.04   0.42  23.26  23.73  24.04  24.31  24.88  138.0    1.0\n",
      "mu[287]  24.03    0.04   0.42  23.25  23.72  24.03   24.3  24.87  138.0    1.0\n",
      "mu[288]  24.03    0.04   0.42  23.25  23.72  24.03   24.3  24.87  138.0    1.0\n",
      "mu[289]  24.03    0.04   0.42  23.25  23.72  24.03   24.3  24.87  138.0    1.0\n",
      "mu[290]  24.03    0.04   0.42  23.25  23.72  24.03   24.3  24.87  138.0    1.0\n",
      "mu[291]  24.01    0.04   0.42  23.23   23.7  24.02  24.29  24.86  138.0    1.0\n",
      "mu[292]  24.03    0.04   0.42  23.25  23.72  24.03   24.3  24.87  138.0    1.0\n",
      "mu[293]  24.01    0.04   0.42  23.23   23.7  24.01  24.28  24.86  138.0    1.0\n",
      "mu[294]  24.01    0.04   0.42  23.23   23.7  24.01  24.28  24.86  138.0    1.0\n",
      "mu[295]  23.99    0.04   0.42  23.21  23.68   24.0  24.26  24.84  138.0    1.0\n",
      "mu[296]  24.02    0.04   0.42  23.25  23.71  24.03   24.3  24.87  138.0    1.0\n",
      "mu[297]  23.99    0.04   0.42  23.21  23.67  23.99  24.26  24.83  138.0    1.0\n",
      "mu[298]  24.02    0.04   0.42  23.24  23.71  24.02  24.29  24.86  138.0    1.0\n",
      "mu[299]  24.02    0.04   0.42  23.24  23.71  24.02   24.3  24.87  138.0    1.0\n",
      "mu[300]  24.03    0.04   0.42  23.25  23.72  24.03   24.3  24.87  138.0    1.0\n",
      "mu[301]  24.03    0.04   0.42  23.25  23.72  24.03   24.3  24.87  138.0    1.0\n",
      "mu[302]  24.01    0.04   0.42  23.23  23.69  24.01  24.28  24.85  138.0    1.0\n",
      "mu[303]   24.0    0.04   0.42  23.23  23.69  24.01  24.28  24.85  138.0    1.0\n",
      "mu[304]  24.02    0.04   0.42  23.24  23.71  24.03   24.3  24.87  138.0    1.0\n",
      "mu[305]  24.02    0.04   0.42  23.25  23.71  24.03   24.3  24.87  138.0    1.0\n",
      "mu[306]  24.01    0.04   0.42  23.24   23.7  24.02  24.29  24.86  138.0    1.0\n",
      "mu[307]  24.03    0.04   0.42  23.25  23.71  24.03   24.3  24.87  138.0    1.0\n",
      "mu[308]  23.84    0.04   0.42  23.05  23.52  23.85  24.11  24.68  139.0    1.0\n",
      "mu[309]   23.9    0.04   0.42  23.12  23.58  23.91  24.17  24.73  138.0    1.0\n",
      "mu[310]  22.96    0.03   0.41  22.22  22.65  22.94   23.2  23.81  146.0    1.0\n",
      "mu[311]  23.72    0.03   0.41  22.94  23.41  23.73  23.98  24.55  140.0    1.0\n",
      "mu[312]  23.94    0.04   0.42  23.15  23.62  23.94  24.21  24.77  138.0    1.0\n",
      "mu[313]  23.93    0.04   0.42  23.15  23.62  23.94   24.2  24.77  138.0    1.0\n",
      "mu[314]  23.89    0.04   0.42  23.11  23.58   23.9  24.16  24.73  139.0    1.0\n",
      "mu[315]  23.94    0.04   0.42  23.16  23.62  23.95  24.21  24.77  138.0    1.0\n",
      "mu[316]  23.91    0.04   0.42  23.13   23.6  23.92  24.18  24.75  138.0    1.0\n",
      "mu[317]  23.94    0.04   0.42  23.16  23.63  23.95  24.21  24.78  138.0    1.0\n",
      "mu[318]  23.88    0.04   0.42  23.09  23.56  23.89  24.15  24.72  139.0    1.0\n",
      "mu[319]  23.85    0.04   0.42  23.06  23.53  23.86  24.11  24.69  139.0    1.0\n",
      "mu[320]  23.98    0.04   0.42   23.2  23.66  23.98  24.25  24.82  138.0    1.0\n",
      "mu[321]  23.97    0.04   0.42  23.19  23.66  23.98  24.24  24.81  138.0    1.0\n",
      "mu[322]   23.9    0.04   0.42  23.11  23.58  23.91  24.17  24.73  138.0    1.0\n",
      "mu[323]  23.93    0.04   0.42  23.14  23.61  23.94   24.2  24.76  138.0    1.0\n",
      "mu[324]   23.9    0.04   0.42  23.12  23.59  23.91  24.17  24.74  138.0    1.0\n",
      "mu[325]  23.97    0.04   0.42  23.19  23.65  23.97  24.24   24.8  138.0    1.0\n",
      "mu[326]  23.92    0.04   0.42  23.14   23.6  23.93  24.19  24.75  138.0    1.0\n",
      "mu[327]  23.95    0.04   0.42  23.16  23.63  23.95  24.22  24.78  138.0    1.0\n",
      "mu[328]  24.02    0.04   0.42  23.24  23.71  24.02  24.29  24.86  138.0    1.0\n",
      "mu[329]  24.02    0.04   0.42  23.24  23.71  24.02  24.29  24.86  138.0    1.0\n",
      "mu[330]  24.03    0.04   0.42  23.25  23.72  24.03   24.3  24.87  138.0    1.0\n",
      "mu[331]  24.03    0.04   0.42  23.25  23.71  24.03   24.3  24.87  138.0    1.0\n",
      "mu[332]  24.03    0.04   0.42  23.25  23.72  24.03   24.3  24.87  138.0    1.0\n",
      "mu[333]  24.02    0.04   0.42  23.25  23.71  24.03   24.3  24.87  138.0    1.0\n",
      "mu[334]  24.03    0.04   0.42  23.25  23.72  24.03   24.3  24.87  138.0    1.0\n",
      "mu[335]  24.03    0.04   0.42  23.25  23.72  24.03   24.3  24.87  138.0    1.0\n",
      "mu[336]  24.03    0.04   0.42  23.25  23.72  24.03  24.31  24.88  138.0    1.0\n",
      "mu[337]  24.03    0.04   0.42  23.26  23.72  24.03  24.31  24.88  138.0    1.0\n",
      "mu[338]  24.03    0.04   0.42  23.25  23.72  24.03  24.31  24.88  138.0    1.0\n",
      "mu[339]  24.02    0.04   0.42  23.24  23.71  24.03   24.3  24.87  138.0    1.0\n",
      "mu[340]  24.02    0.04   0.42  23.24  23.71  24.02  24.29  24.86  138.0    1.0\n",
      "mu[341]  24.04    0.04   0.42  23.26  23.73  24.04  24.31  24.88  138.0    1.0\n",
      "mu[342]  24.04    0.04   0.42  23.26  23.72  24.04  24.31  24.88  138.0    1.0\n",
      "mu[343]  24.04    0.04   0.42  23.26  23.72  24.04  24.31  24.88  138.0    1.0\n",
      "mu[344]  24.03    0.04   0.42  23.26  23.72  24.03  24.31  24.88  138.0    1.0\n",
      "mu[345]  24.03    0.04   0.42  23.25  23.72  24.03  24.31  24.88  138.0    1.0\n",
      "mu[346]  24.02    0.04   0.42  23.24  23.71  24.02  24.29  24.86  138.0    1.0\n",
      "mu[347]  24.04    0.04   0.42  23.26  23.73  24.04  24.31  24.88  138.0    1.0\n",
      "mu[348]  24.04    0.04   0.42  23.26  23.73  24.04  24.31  24.88  138.0    1.0\n",
      "mu[349]  24.03    0.04   0.42  23.26  23.72  24.04  24.31  24.88  138.0    1.0\n",
      "mu[350]  24.02    0.04   0.42  23.24  23.71  24.02  24.29  24.86  138.0    1.0\n",
      "mu[351]  24.01    0.04   0.42  23.23   23.7  24.02  24.29  24.86  138.0    1.0\n",
      "mu[352]  24.02    0.04   0.42  23.24   23.7  24.02  24.29  24.86  138.0    1.0\n",
      "mu[353]  24.04    0.04   0.42  23.26  23.73  24.04  24.31  24.88  138.0    1.0\n",
      "mu[354]  24.03    0.04   0.42  23.25  23.72  24.03   24.3  24.87  138.0    1.0\n",
      "mu[355]   24.0    0.04   0.42  23.22  23.69   24.0  24.27  24.85  138.0    1.0\n",
      "mu[356]  20.33    0.04   0.49  19.38  19.98  20.31  20.65  21.35  163.0    1.0\n",
      "mu[357]  22.45    0.03   0.41  21.72  22.15  22.43  22.72  23.33  150.0    1.0\n",
      "mu[358]  21.89    0.03   0.42  21.13  21.58  21.86  22.15   22.8  155.0    1.0\n",
      "mu[359]  22.28    0.03   0.41  21.54  21.97  22.26  22.55  23.17  152.0    1.0\n",
      "mu[360]  22.17    0.03   0.41  21.42  21.86  22.14  22.43  23.06  153.0    1.0\n",
      "mu[361]  22.46    0.03   0.41  21.73  22.15  22.44  22.72  23.34  150.0    1.0\n",
      "mu[362]  22.52    0.03   0.41  21.79  22.22   22.5  22.79   23.4  150.0    1.0\n",
      "mu[363]   22.3    0.03   0.41  21.56  21.99  22.28  22.56  23.18  152.0    1.0\n",
      "mu[364]  22.61    0.03   0.41  21.87   22.3  22.59  22.87  23.48  149.0    1.0\n",
      "mu[365]  22.16    0.03   0.41  21.41  21.85  22.13  22.42  23.05  153.0    1.0\n",
      "mu[366]  22.52    0.03   0.41  21.78  22.21  22.49  22.78  23.39  150.0    1.0\n",
      "mu[367]  18.45    0.05   0.62  17.32  18.06  18.44  18.87   19.7  164.0    1.0\n",
      "mu[368]  22.02    0.03   0.42  21.26   21.7  21.99  22.28  22.92  154.0    1.0\n",
      "mu[369]   21.7    0.03   0.43  20.91  21.37  21.66  21.95  22.61  156.0    1.0\n",
      "mu[370]  21.34    0.03   0.44  20.52  21.01   21.3   21.6  22.26  161.0    1.0\n",
      "mu[371]  20.23    0.04   0.49  19.27  19.87  20.21  20.55  21.26  163.0    1.0\n",
      "mu[372]  20.62    0.04   0.47   19.7  20.27  20.59  20.94   21.6  163.0    1.0\n",
      "mu[373]  19.45    0.04   0.54  18.44  19.08  19.42  19.83  20.55  164.0    1.0\n",
      "mu[374]  16.39    0.06   0.79  14.88  15.87  16.36  16.92  18.07  163.0    1.0\n",
      "mu[375]  15.93    0.07   0.83  14.34  15.39  15.92  16.48  17.72  162.0    1.0\n",
      "mu[376]  17.72    0.05   0.67  16.46   17.3  17.69  18.16  19.12  164.0    1.0\n",
      "mu[377]  19.98    0.04   0.51   19.0  19.62  19.97  20.32  21.03  164.0    1.0\n",
      "mu[378]  14.26    0.08   0.98  12.35   13.6  14.27  14.94  16.32  161.0    1.0\n",
      "mu[379]  16.65    0.06   0.77  15.19  16.14  16.63  17.17  18.29  163.0    1.0\n",
      "mu[380] -12.77     0.3    3.7 -20.21 -15.18 -12.71 -10.29  -4.94  152.0    1.0\n",
      "mu[381]  17.48    0.05   0.69  16.17  17.04  17.44  17.92  18.94  163.0    1.0\n",
      "mu[382]  20.24    0.04   0.49  19.29  19.89  20.23  20.57  21.28  163.0    1.0\n",
      "mu[383]  20.74    0.04   0.47  19.83  20.39  20.69  21.04  21.71  162.0    1.0\n",
      "mu[384]  15.73    0.07   0.85   14.1  15.18  15.72  16.29  17.57  162.0    1.0\n",
      "mu[385]  17.09    0.06   0.73  15.72  16.62  17.06  17.58  18.63  163.0    1.0\n",
      "mu[386]  13.95    0.08   1.01  11.98  13.27  13.96  14.65  16.07  161.0    1.0\n",
      "mu[387]  14.69    0.07   0.94  12.87  14.07   14.7  15.34  16.67  162.0    1.0\n",
      "mu[388]  18.11    0.05   0.64  16.93  17.71  18.09  18.54  19.43  164.0    1.0\n",
      "mu[389]  20.67    0.04   0.47  19.75  20.32  20.63  20.98  21.64  163.0    1.0\n",
      "mu[390]  21.16    0.04   0.45   20.3  20.84  21.13  21.44   22.1  161.0    1.0\n",
      "mu[391]  21.86    0.03   0.42  21.09  21.54  21.82  22.12  22.76  155.0    1.0\n",
      "mu[392]  19.25    0.04   0.56  18.22  18.88  19.22  19.64  20.38  164.0    1.0\n",
      "mu[393]  20.47    0.04   0.48  19.53  20.12  20.44  20.78  21.47  163.0    1.0\n",
      "mu[394]  18.52    0.05   0.61  17.41  18.13   18.5  18.93  19.76  164.0    1.0\n",
      "mu[395]  20.44    0.04   0.48   19.5  20.09  20.41  20.75  21.44  163.0    1.0\n",
      "mu[396]  21.62    0.03   0.43  20.82  21.29  21.57  21.87  22.53  157.0    1.0\n",
      "mu[397]  20.87    0.04   0.46  19.97  20.52  20.83  21.16  21.83  162.0    1.0\n",
      "mu[398]   8.18    0.12   1.57    5.1   7.12   8.23   9.24  11.43  159.0    1.0\n",
      "mu[399]  19.94    0.04   0.51  18.96  19.58  19.93  20.29   21.0  164.0    1.0\n",
      "mu[400]  13.68    0.08   1.04  11.66  12.98  13.68  14.41  15.86  161.0    1.0\n",
      "mu[401]  18.15    0.05   0.64  16.98  17.75  18.13  18.58  19.46  164.0    1.0\n",
      "mu[402]  20.07    0.04    0.5  19.11  19.72  20.06  20.41  21.12  163.0    1.0\n",
      "mu[403]  13.78    0.08   1.03  11.78  13.09  13.78   14.5  15.94  161.0    1.0\n",
      "mu[404]   6.86    0.14   1.71   3.51    5.7    6.9   8.02  10.41  158.0    1.0\n",
      "mu[405]  -4.06    0.23   2.81  -9.69  -5.92  -4.09  -2.13   1.91  154.0    1.0\n",
      "mu[406]  15.47    0.07   0.87  13.79   14.9  15.46  16.05  17.34  162.0    1.0\n",
      "mu[407]   19.1    0.04   0.57  18.04  18.73  19.07  19.49  20.26  164.0    1.0\n",
      "mu[408]  20.98    0.04   0.45  20.09  20.65  20.95  21.26  21.92  162.0    1.0\n",
      "mu[409]  18.07    0.05   0.65  16.88  17.66  18.05   18.5   19.4  164.0    1.0\n",
      "mu[410]   2.88    0.17    2.1   -1.3   1.44    2.9   4.29   7.32  155.0    1.0\n",
      "mu[411]  18.23    0.05   0.63  17.07  17.83  18.21  18.66  19.52  164.0    1.0\n",
      "mu[412]  16.26    0.06    0.8  14.73  15.73  16.24   16.8  17.97  163.0    1.0\n",
      "mu[413]  12.19    0.09   1.18   9.89   11.4  12.21  13.01  14.66  160.0    1.0\n",
      "mu[414]   5.12    0.15   1.88   1.39   3.82   5.13   6.37   9.05  156.0    1.0\n",
      "mu[415]  16.56    0.06   0.77  15.09  16.04  16.54  17.08  18.21  163.0    1.0\n",
      "mu[416]  19.56    0.04   0.54  18.56   19.2  19.53  19.93  20.66  164.0    1.0\n",
      "mu[417]  13.31    0.08   1.07  11.22  12.59  13.31  14.07  15.57  161.0    1.0\n",
      "mu[418]  -6.38    0.25   3.05 -12.49  -8.38  -6.39  -4.32   0.08  153.0    1.0\n",
      "mu[419]  19.16    0.04   0.56   18.1  18.78  19.13  19.55  20.31  164.0    1.0\n",
      "mu[420]  19.46    0.04   0.54  18.45  19.09  19.42  19.84  20.56  164.0    1.0\n",
      "mu[421]  21.14    0.04   0.45  20.28  20.81  21.11  21.41  22.07  161.0    1.0\n",
      "mu[422]  19.06    0.04   0.57   18.0  18.69  19.04  19.45  20.23  164.0    1.0\n",
      "mu[423]  21.13    0.04   0.45  20.26   20.8   21.1   21.4  22.06  161.0    1.0\n",
      "mu[424]  20.41    0.04   0.48  19.46  20.06  20.38  20.72  21.42  163.0    1.0\n",
      "mu[425]  17.48    0.05   0.69  16.18  17.05  17.45  17.93  18.94  163.0    1.0\n",
      "mu[426]  18.98    0.05   0.58  17.91  18.59  18.96  19.37  20.17  164.0    1.0\n",
      "mu[427]   8.46    0.12   1.55   5.45   7.43   8.52    9.5  11.65  159.0    1.0\n",
      "mu[428]   21.0    0.04   0.45  20.11  20.67  20.97  21.28  21.94  162.0    1.0\n",
      "mu[429]  20.18    0.04    0.5  19.22  19.83  20.16  20.51  21.22  163.0    1.0\n",
      "mu[430]  20.53    0.04   0.48   19.6  20.18   20.5  20.85  21.52  163.0    1.0\n",
      "mu[431]  19.88    0.04   0.51   18.9  19.52  19.87  20.23  20.94  164.0    1.0\n",
      "mu[432]  21.38    0.03   0.44  20.56  21.04  21.34  21.64   22.3  161.0    1.0\n",
      "mu[433]  21.74    0.03   0.42  20.95  21.41  21.69  21.99  22.65  156.0    1.0\n",
      "mu[434]  18.29    0.05   0.63  17.13  17.89  18.27  18.71  19.56  164.0    1.0\n",
      "mu[435]  19.43    0.04   0.54  18.41  19.06  19.39  19.81  20.53  164.0    1.0\n",
      "mu[436]  18.08    0.05   0.65  16.89  17.67  18.06  18.51   19.4  164.0    1.0\n",
      "mu[437]  17.77    0.05   0.67  16.51  17.35  17.74  18.21  19.16  164.0    1.0\n",
      "mu[438]  18.39    0.05   0.62  17.24  17.99  18.37  18.81  19.65  164.0    1.0\n",
      "mu[439]  20.16    0.04    0.5   19.2   19.8  20.14  20.49   21.2  163.0    1.0\n",
      "mu[440]  14.92    0.07   0.92  13.13  14.31  14.92  15.54  16.86  162.0    1.0\n",
      "mu[441]  20.02    0.04   0.51  19.05  19.66  20.01  20.36  21.08  163.0    1.0\n",
      "mu[442]   21.7    0.03   0.43  20.91  21.38  21.66  21.96  22.61  156.0    1.0\n",
      "mu[443]  19.92    0.04   0.51  18.94  19.56  19.91  20.27  20.98  164.0    1.0\n",
      "mu[444]  18.75    0.05   0.59  17.66  18.36  18.73  19.15  19.97  164.0    1.0\n",
      "mu[445]  19.63    0.04   0.53  18.63  19.26   19.6   20.0  20.72  164.0    1.0\n",
      "mu[446]  21.44    0.03   0.43  20.64  21.11  21.41   21.7  22.36  158.0    1.0\n",
      "mu[447]  19.94    0.04   0.51  18.96  19.58  19.93  20.28   21.0  164.0    1.0\n",
      "mu[448]  20.19    0.04    0.5  19.22  19.83  20.17  20.51  21.23  163.0    1.0\n",
      "mu[449]  20.93    0.04   0.46  20.03  20.59   20.9  21.22  21.88  162.0    1.0\n",
      "mu[450]  21.27    0.03   0.44  20.42  20.93  21.23  21.53  22.19  161.0    1.0\n",
      "mu[451]  21.79    0.03   0.42  21.02  21.47  21.75  22.05   22.7  156.0    1.0\n",
      "mu[452]  21.94    0.03   0.42  21.18  21.63  21.91   22.2  22.84  155.0    1.0\n",
      "mu[453]  20.63    0.04   0.47   19.7  20.28   20.6  20.94   21.6  163.0    1.0\n",
      "mu[454]  20.11    0.04    0.5  19.14  19.75  20.09  20.44  21.15  163.0    1.0\n",
      "mu[455]  22.08    0.03   0.42  21.32  21.76  22.05  22.34  22.97  154.0    1.0\n",
      "mu[456]  22.11    0.03   0.41  21.36   21.8  22.09  22.37  23.01  153.0    1.0\n",
      "mu[457]  20.65    0.04   0.47  19.73   20.3  20.62  20.96  21.62  163.0    1.0\n",
      "mu[458]  20.84    0.04   0.46  19.93  20.49  20.79  21.13   21.8  162.0    1.0\n",
      "mu[459]  21.23    0.03   0.44  20.38   20.9   21.2   21.5  22.16  161.0    1.0\n",
      "mu[460]  22.05    0.03   0.42   21.3  21.74  22.03  22.32  22.95  154.0    1.0\n",
      "mu[461]  22.52    0.03   0.41  21.79  22.21   22.5  22.78  23.39  150.0    1.0\n",
      "mu[462]  21.29    0.03   0.44  20.46  20.96  21.26  21.56  22.22  161.0    1.0\n",
      "mu[463]  21.64    0.03   0.43  20.84  21.31  21.59  21.89  22.55  157.0    1.0\n",
      "mu[464]   20.8    0.04   0.46  19.89  20.45  20.76   21.1  21.77  162.0    1.0\n",
      "mu[465]  22.74    0.03   0.41  21.99  22.43  22.71  22.99   23.6  148.0    1.0\n",
      "mu[466]  22.48    0.03   0.41  21.75  22.18  22.46  22.75  23.36  150.0    1.0\n",
      "mu[467]  22.22    0.03   0.41  21.47   21.9   22.2  22.48   23.1  152.0    1.0\n",
      "mu[468]   17.6    0.05   0.68  16.32  17.18  17.57  18.05  19.03  163.0    1.0\n",
      "mu[469]  18.64    0.05    0.6  17.54  18.25  18.61  19.04  19.87  164.0    1.0\n",
      "mu[470]  22.25    0.03   0.41   21.5  21.94  22.22  22.51  23.13  152.0    1.0\n",
      "mu[471]  22.37    0.03   0.41  21.64  22.06  22.35  22.64  23.26  151.0    1.0\n",
      "mu[472]  22.57    0.03   0.41  21.83  22.26  22.55  22.83  23.44  149.0    1.0\n",
      "mu[473]  22.12    0.03   0.41  21.37  21.81  22.09  22.38  23.01  153.0    1.0\n",
      "mu[474]  20.71    0.04   0.47  19.79  20.36  20.67  21.02  21.68  162.0    1.0\n",
      "mu[475]   21.4    0.03   0.44  20.59  21.06  21.36  21.66  22.32  161.0    1.0\n",
      "mu[476]  22.03    0.03   0.42  21.27  21.71   22.0   22.3  22.93  154.0    1.0\n",
      "mu[477]  17.83    0.05   0.67  16.59  17.41   17.8  18.27  19.21  164.0    1.0\n",
      "mu[478]  19.81    0.04   0.52  18.82  19.45   19.8  20.17  20.88  164.0    1.0\n",
      "mu[479]  18.11    0.05   0.64  16.93  17.71  18.09  18.54  19.43  164.0    1.0\n",
      "mu[480]  21.64    0.03   0.43  20.84  21.31  21.59  21.89  22.55  157.0    1.0\n",
      "mu[481]  21.68    0.03   0.43  20.89  21.36  21.64  21.94  22.59  156.0    1.0\n",
      "mu[482]  21.67    0.03   0.43  20.88  21.35  21.63  21.93  22.59  157.0    1.0\n",
      "mu[483]  22.88    0.03   0.41  22.14  22.57  22.86  23.13  23.74  146.0    1.0\n",
      "mu[484]  23.06    0.03   0.41  22.31  22.76  23.05  23.31  23.91  145.0    1.0\n",
      "mu[485]  22.53    0.03   0.41  21.79  22.22   22.5  22.79   23.4  150.0    1.0\n",
      "mu[486]  21.69    0.03   0.43   20.9  21.36  21.65  21.95   22.6  156.0    1.0\n",
      "mu[487]  22.04    0.03   0.42  21.29  21.73  22.02  22.31  22.94  154.0    1.0\n",
      "mu[488]  23.98    0.04   0.42   23.2  23.67  23.99  24.25  24.82  138.0    1.0\n",
      "mu[489]  23.97    0.04   0.42  23.19  23.66  23.97  24.24  24.81  138.0    1.0\n",
      "mu[490]  23.96    0.04   0.42  23.18  23.65  23.97  24.23   24.8  138.0    1.0\n",
      "mu[491]   24.0    0.04   0.42  23.22  23.69   24.0  24.27  24.85  138.0    1.0\n",
      "mu[492]   24.0    0.04   0.42  23.22  23.69   24.0  24.27  24.84  138.0    1.0\n",
      "mu[493]  23.97    0.04   0.42  23.19  23.66  23.98  24.25  24.81  138.0    1.0\n",
      "mu[494]  23.93    0.04   0.42  23.15  23.61  23.94   24.2  24.76  138.0    1.0\n",
      "mu[495]  23.97    0.04   0.42  23.19  23.66  23.98  24.24  24.81  138.0    1.0\n",
      "mu[496]  23.93    0.04   0.42  23.14  23.61  23.93   24.2  24.76  138.0    1.0\n",
      "mu[497]  23.93    0.04   0.42  23.15  23.62  23.94  24.21  24.77  138.0    1.0\n",
      "mu[498]  23.95    0.04   0.42  23.16  23.63  23.95  24.22  24.78  138.0    1.0\n",
      "mu[499]  23.97    0.04   0.42  23.19  23.66  23.98  24.24  24.81  138.0    1.0\n",
      "mu[500]  23.95    0.04   0.42  23.17  23.64  23.96  24.22  24.79  138.0    1.0\n",
      "mu[501]  24.02    0.04   0.42  23.24  23.71  24.02  24.29  24.86  138.0    1.0\n",
      "mu[502]  24.03    0.04   0.42  23.25  23.72  24.03   24.3  24.87  138.0    1.0\n",
      "mu[503]  24.02    0.04   0.42  23.24  23.71  24.02  24.29  24.86  138.0    1.0\n",
      "mu[504]   24.0    0.04   0.42  23.22  23.69   24.0  24.27  24.84  138.0    1.0\n",
      "mu[505]  24.03    0.04   0.42  23.25  23.71  24.03   24.3  24.87  138.0    1.0\n",
      "lp__     -1335    0.11   1.33  -1339  -1336  -1335  -1334  -1334  141.0    1.0\n",
      "\n",
      "Samples were drawn using NUTS at Wed Jul 27 12:29:33 2016.\n",
      "For each parameter, n_eff is a crude measure of effective sample size,\n",
      "and Rhat is the potential scale reduction factor on split chains (at \n",
      "convergence, Rhat=1).\n"
     ]
    }
   ],
   "source": [
    "#Print your model here\n",
    "\n",
    "print(model)\n"
   ]
  },
  {
   "cell_type": "code",
   "execution_count": null,
   "metadata": {
    "collapsed": true
   },
   "outputs": [],
   "source": []
  }
 ],
 "metadata": {
  "kernelspec": {
   "display_name": "Python 2",
   "language": "python",
   "name": "python2"
  },
  "language_info": {
   "codemirror_mode": {
    "name": "ipython",
    "version": 2
   },
   "file_extension": ".py",
   "mimetype": "text/x-python",
   "name": "python",
   "nbconvert_exporter": "python",
   "pygments_lexer": "ipython2",
   "version": "2.7.12"
  }
 },
 "nbformat": 4,
 "nbformat_minor": 0
}
