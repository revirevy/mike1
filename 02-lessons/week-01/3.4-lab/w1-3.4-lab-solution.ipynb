{
 "cells": [
  {
   "cell_type": "code",
   "execution_count": 17,
   "metadata": {
    "collapsed": false
   },
   "outputs": [],
   "source": [
    "import numpy as np\n",
    "import pandas as pd\n",
    "import scipy.stats as stats\n",
    "import csv\n",
    "import seaborn as sns\n",
    "%matplotlib inline"
   ]
  },
  {
   "cell_type": "markdown",
   "metadata": {},
   "source": [
    "## Lab 3.4: csvs, functions, numpy, and distributions\n",
    "\n",
    "Run the cell below to load the required packages and set up plotting in the notebook!"
   ]
  },
  {
   "cell_type": "markdown",
   "metadata": {},
   "source": [
    "### Sales data\n",
    "\n",
    "For this lab we will be using a truncated version of some sales data that we will be looking at further down the line in more detail. \n",
    "\n",
    "The csv has about 200 rows of data and 4 columns. The relative path to the csv ```sales_info.csv``` is provided below. If you copied files over and moved them around, this might be different for you and you will have to figure out the correct relative path to enter."
   ]
  },
  {
   "cell_type": "code",
   "execution_count": 18,
   "metadata": {
    "collapsed": true
   },
   "outputs": [],
   "source": [
    "sales_csv_path = '/Users/michaelmainzer/Documents/GA/DSI/DSI-ATL-1/curriculum/03-lessons/week-01/3.4-lab/assets/datasets/sales_info.csv'"
   ]
  },
  {
   "cell_type": "code",
   "execution_count": 24,
   "metadata": {
    "collapsed": false
   },
   "outputs": [
    {
     "data": {
      "text/html": [
       "<div>\n",
       "<table border=\"1\" class=\"dataframe\">\n",
       "  <thead>\n",
       "    <tr style=\"text-align: right;\">\n",
       "      <th></th>\n",
       "      <th>volume_sold</th>\n",
       "      <th>2015_margin</th>\n",
       "      <th>2015_q1_sales</th>\n",
       "      <th>2016_q1_sales</th>\n",
       "    </tr>\n",
       "  </thead>\n",
       "  <tbody>\n",
       "    <tr>\n",
       "      <th>0</th>\n",
       "      <td>18.420760</td>\n",
       "      <td>93.802281</td>\n",
       "      <td>337166.53</td>\n",
       "      <td>337804.05</td>\n",
       "    </tr>\n",
       "    <tr>\n",
       "      <th>1</th>\n",
       "      <td>4.776510</td>\n",
       "      <td>21.082425</td>\n",
       "      <td>22351.86</td>\n",
       "      <td>21736.63</td>\n",
       "    </tr>\n",
       "    <tr>\n",
       "      <th>2</th>\n",
       "      <td>16.602401</td>\n",
       "      <td>93.612494</td>\n",
       "      <td>277764.46</td>\n",
       "      <td>306942.27</td>\n",
       "    </tr>\n",
       "    <tr>\n",
       "      <th>3</th>\n",
       "      <td>4.296111</td>\n",
       "      <td>16.824704</td>\n",
       "      <td>16805.11</td>\n",
       "      <td>9307.75</td>\n",
       "    </tr>\n",
       "    <tr>\n",
       "      <th>4</th>\n",
       "      <td>8.156023</td>\n",
       "      <td>35.011457</td>\n",
       "      <td>54411.42</td>\n",
       "      <td>58939.90</td>\n",
       "    </tr>\n",
       "    <tr>\n",
       "      <th>5</th>\n",
       "      <td>5.005122</td>\n",
       "      <td>31.877437</td>\n",
       "      <td>255939.81</td>\n",
       "      <td>332979.03</td>\n",
       "    </tr>\n",
       "    <tr>\n",
       "      <th>6</th>\n",
       "      <td>14.606750</td>\n",
       "      <td>76.518973</td>\n",
       "      <td>319020.69</td>\n",
       "      <td>302592.88</td>\n",
       "    </tr>\n",
       "    <tr>\n",
       "      <th>7</th>\n",
       "      <td>4.456466</td>\n",
       "      <td>19.337345</td>\n",
       "      <td>45340.33</td>\n",
       "      <td>55315.23</td>\n",
       "    </tr>\n",
       "    <tr>\n",
       "      <th>8</th>\n",
       "      <td>5.047530</td>\n",
       "      <td>26.142470</td>\n",
       "      <td>57849.23</td>\n",
       "      <td>42398.57</td>\n",
       "    </tr>\n",
       "    <tr>\n",
       "      <th>9</th>\n",
       "      <td>5.388070</td>\n",
       "      <td>22.427024</td>\n",
       "      <td>51031.04</td>\n",
       "      <td>56241.57</td>\n",
       "    </tr>\n",
       "    <tr>\n",
       "      <th>10</th>\n",
       "      <td>9.347349</td>\n",
       "      <td>41.892133</td>\n",
       "      <td>68657.91</td>\n",
       "      <td>3536.14</td>\n",
       "    </tr>\n",
       "    <tr>\n",
       "      <th>11</th>\n",
       "      <td>10.930398</td>\n",
       "      <td>66.403049</td>\n",
       "      <td>4151.93</td>\n",
       "      <td>137416.93</td>\n",
       "    </tr>\n",
       "    <tr>\n",
       "      <th>12</th>\n",
       "      <td>6.270209</td>\n",
       "      <td>47.869324</td>\n",
       "      <td>121837.56</td>\n",
       "      <td>158476.55</td>\n",
       "    </tr>\n",
       "    <tr>\n",
       "      <th>13</th>\n",
       "      <td>12.395919</td>\n",
       "      <td>86.760150</td>\n",
       "      <td>146725.31</td>\n",
       "      <td>125731.51</td>\n",
       "    </tr>\n",
       "    <tr>\n",
       "      <th>14</th>\n",
       "      <td>4.557712</td>\n",
       "      <td>22.948176</td>\n",
       "      <td>119287.76</td>\n",
       "      <td>21834.49</td>\n",
       "    </tr>\n",
       "    <tr>\n",
       "      <th>15</th>\n",
       "      <td>4.200122</td>\n",
       "      <td>18.706055</td>\n",
       "      <td>20335.03</td>\n",
       "      <td>39609.55</td>\n",
       "    </tr>\n",
       "    <tr>\n",
       "      <th>16</th>\n",
       "      <td>10.252870</td>\n",
       "      <td>44.041177</td>\n",
       "      <td>110552.94</td>\n",
       "      <td>204038.87</td>\n",
       "    </tr>\n",
       "    <tr>\n",
       "      <th>17</th>\n",
       "      <td>12.076785</td>\n",
       "      <td>62.199004</td>\n",
       "      <td>204237.78</td>\n",
       "      <td>15689.80</td>\n",
       "    </tr>\n",
       "    <tr>\n",
       "      <th>18</th>\n",
       "      <td>3.725095</td>\n",
       "      <td>14.251810</td>\n",
       "      <td>16939.15</td>\n",
       "      <td>48545.69</td>\n",
       "    </tr>\n",
       "    <tr>\n",
       "      <th>19</th>\n",
       "      <td>3.210727</td>\n",
       "      <td>16.043269</td>\n",
       "      <td>55498.12</td>\n",
       "      <td>16320.74</td>\n",
       "    </tr>\n",
       "    <tr>\n",
       "      <th>20</th>\n",
       "      <td>6.290971</td>\n",
       "      <td>25.191171</td>\n",
       "      <td>15983.98</td>\n",
       "      <td>53182.55</td>\n",
       "    </tr>\n",
       "    <tr>\n",
       "      <th>21</th>\n",
       "      <td>7.434821</td>\n",
       "      <td>31.753066</td>\n",
       "      <td>71758.66</td>\n",
       "      <td>30402.43</td>\n",
       "    </tr>\n",
       "    <tr>\n",
       "      <th>22</th>\n",
       "      <td>4.376225</td>\n",
       "      <td>23.161451</td>\n",
       "      <td>62988.17</td>\n",
       "      <td>47217.40</td>\n",
       "    </tr>\n",
       "    <tr>\n",
       "      <th>23</th>\n",
       "      <td>12.988913</td>\n",
       "      <td>48.820741</td>\n",
       "      <td>29637.75</td>\n",
       "      <td>6367.76</td>\n",
       "    </tr>\n",
       "    <tr>\n",
       "      <th>24</th>\n",
       "      <td>11.697456</td>\n",
       "      <td>73.231504</td>\n",
       "      <td>48759.71</td>\n",
       "      <td>329252.09</td>\n",
       "    </tr>\n",
       "    <tr>\n",
       "      <th>25</th>\n",
       "      <td>5.965175</td>\n",
       "      <td>23.450334</td>\n",
       "      <td>89736.70</td>\n",
       "      <td>332976.05</td>\n",
       "    </tr>\n",
       "    <tr>\n",
       "      <th>26</th>\n",
       "      <td>3.945223</td>\n",
       "      <td>14.144793</td>\n",
       "      <td>5577.61</td>\n",
       "      <td>234926.02</td>\n",
       "    </tr>\n",
       "    <tr>\n",
       "      <th>27</th>\n",
       "      <td>7.369585</td>\n",
       "      <td>36.408528</td>\n",
       "      <td>310035.66</td>\n",
       "      <td>151934.45</td>\n",
       "    </tr>\n",
       "    <tr>\n",
       "      <th>28</th>\n",
       "      <td>7.343509</td>\n",
       "      <td>36.171862</td>\n",
       "      <td>310718.21</td>\n",
       "      <td>314068.92</td>\n",
       "    </tr>\n",
       "    <tr>\n",
       "      <th>29</th>\n",
       "      <td>12.350027</td>\n",
       "      <td>59.893478</td>\n",
       "      <td>258284.84</td>\n",
       "      <td>61847.52</td>\n",
       "    </tr>\n",
       "    <tr>\n",
       "      <th>...</th>\n",
       "      <td>...</td>\n",
       "      <td>...</td>\n",
       "      <td>...</td>\n",
       "      <td>...</td>\n",
       "    </tr>\n",
       "    <tr>\n",
       "      <th>170</th>\n",
       "      <td>8.443932</td>\n",
       "      <td>37.407112</td>\n",
       "      <td>17232.45</td>\n",
       "      <td>19203.82</td>\n",
       "    </tr>\n",
       "    <tr>\n",
       "      <th>171</th>\n",
       "      <td>5.151964</td>\n",
       "      <td>20.698042</td>\n",
       "      <td>21340.78</td>\n",
       "      <td>25302.92</td>\n",
       "    </tr>\n",
       "    <tr>\n",
       "      <th>172</th>\n",
       "      <td>6.537069</td>\n",
       "      <td>22.888219</td>\n",
       "      <td>16617.85</td>\n",
       "      <td>18650.96</td>\n",
       "    </tr>\n",
       "    <tr>\n",
       "      <th>173</th>\n",
       "      <td>8.500445</td>\n",
       "      <td>27.507729</td>\n",
       "      <td>21711.71</td>\n",
       "      <td>14626.29</td>\n",
       "    </tr>\n",
       "    <tr>\n",
       "      <th>174</th>\n",
       "      <td>3.931543</td>\n",
       "      <td>21.811659</td>\n",
       "      <td>28128.95</td>\n",
       "      <td>46323.73</td>\n",
       "    </tr>\n",
       "    <tr>\n",
       "      <th>175</th>\n",
       "      <td>6.163689</td>\n",
       "      <td>25.428521</td>\n",
       "      <td>21803.20</td>\n",
       "      <td>535381.86</td>\n",
       "    </tr>\n",
       "    <tr>\n",
       "      <th>176</th>\n",
       "      <td>4.904447</td>\n",
       "      <td>19.568317</td>\n",
       "      <td>12517.29</td>\n",
       "      <td>812011.78</td>\n",
       "    </tr>\n",
       "    <tr>\n",
       "      <th>177</th>\n",
       "      <td>7.402413</td>\n",
       "      <td>26.935335</td>\n",
       "      <td>53988.92</td>\n",
       "      <td>206247.57</td>\n",
       "    </tr>\n",
       "    <tr>\n",
       "      <th>178</th>\n",
       "      <td>47.503269</td>\n",
       "      <td>235.730678</td>\n",
       "      <td>555707.40</td>\n",
       "      <td>6402.78</td>\n",
       "    </tr>\n",
       "    <tr>\n",
       "      <th>179</th>\n",
       "      <td>55.739180</td>\n",
       "      <td>268.869600</td>\n",
       "      <td>1082136.01</td>\n",
       "      <td>100765.67</td>\n",
       "    </tr>\n",
       "    <tr>\n",
       "      <th>180</th>\n",
       "      <td>11.840780</td>\n",
       "      <td>56.433388</td>\n",
       "      <td>192089.46</td>\n",
       "      <td>20098.61</td>\n",
       "    </tr>\n",
       "    <tr>\n",
       "      <th>181</th>\n",
       "      <td>7.002294</td>\n",
       "      <td>26.440917</td>\n",
       "      <td>5574.99</td>\n",
       "      <td>68230.36</td>\n",
       "    </tr>\n",
       "    <tr>\n",
       "      <th>182</th>\n",
       "      <td>8.753142</td>\n",
       "      <td>45.293847</td>\n",
       "      <td>80241.27</td>\n",
       "      <td>596063.00</td>\n",
       "    </tr>\n",
       "    <tr>\n",
       "      <th>183</th>\n",
       "      <td>3.147741</td>\n",
       "      <td>15.594552</td>\n",
       "      <td>27043.54</td>\n",
       "      <td>87471.43</td>\n",
       "    </tr>\n",
       "    <tr>\n",
       "      <th>184</th>\n",
       "      <td>7.196779</td>\n",
       "      <td>27.288652</td>\n",
       "      <td>61977.54</td>\n",
       "      <td>431990.70</td>\n",
       "    </tr>\n",
       "    <tr>\n",
       "      <th>185</th>\n",
       "      <td>76.203692</td>\n",
       "      <td>367.225653</td>\n",
       "      <td>977772.62</td>\n",
       "      <td>136717.57</td>\n",
       "    </tr>\n",
       "    <tr>\n",
       "      <th>186</th>\n",
       "      <td>10.804337</td>\n",
       "      <td>42.031199</td>\n",
       "      <td>41905.18</td>\n",
       "      <td>30008.81</td>\n",
       "    </tr>\n",
       "    <tr>\n",
       "      <th>187</th>\n",
       "      <td>10.705327</td>\n",
       "      <td>45.891477</td>\n",
       "      <td>87839.45</td>\n",
       "      <td>19420.34</td>\n",
       "    </tr>\n",
       "    <tr>\n",
       "      <th>188</th>\n",
       "      <td>51.800686</td>\n",
       "      <td>255.153235</td>\n",
       "      <td>445058.32</td>\n",
       "      <td>274752.60</td>\n",
       "    </tr>\n",
       "    <tr>\n",
       "      <th>189</th>\n",
       "      <td>5.882779</td>\n",
       "      <td>27.512271</td>\n",
       "      <td>127495.18</td>\n",
       "      <td>10315.35</td>\n",
       "    </tr>\n",
       "    <tr>\n",
       "      <th>190</th>\n",
       "      <td>6.686406</td>\n",
       "      <td>26.103097</td>\n",
       "      <td>23874.67</td>\n",
       "      <td>45252.42</td>\n",
       "    </tr>\n",
       "    <tr>\n",
       "      <th>191</th>\n",
       "      <td>5.833355</td>\n",
       "      <td>23.741603</td>\n",
       "      <td>21535.87</td>\n",
       "      <td>433832.28</td>\n",
       "    </tr>\n",
       "    <tr>\n",
       "      <th>192</th>\n",
       "      <td>45.556096</td>\n",
       "      <td>218.008350</td>\n",
       "      <td>276096.18</td>\n",
       "      <td>74215.43</td>\n",
       "    </tr>\n",
       "    <tr>\n",
       "      <th>193</th>\n",
       "      <td>5.172606</td>\n",
       "      <td>21.548782</td>\n",
       "      <td>8506.79</td>\n",
       "      <td>78137.29</td>\n",
       "    </tr>\n",
       "    <tr>\n",
       "      <th>194</th>\n",
       "      <td>10.118018</td>\n",
       "      <td>46.700709</td>\n",
       "      <td>49163.01</td>\n",
       "      <td>83915.72</td>\n",
       "    </tr>\n",
       "    <tr>\n",
       "      <th>195</th>\n",
       "      <td>51.675537</td>\n",
       "      <td>233.533189</td>\n",
       "      <td>434110.57</td>\n",
       "      <td>372240.72</td>\n",
       "    </tr>\n",
       "    <tr>\n",
       "      <th>196</th>\n",
       "      <td>2.794631</td>\n",
       "      <td>11.996118</td>\n",
       "      <td>73789.38</td>\n",
       "      <td>148021.90</td>\n",
       "    </tr>\n",
       "    <tr>\n",
       "      <th>197</th>\n",
       "      <td>7.611698</td>\n",
       "      <td>38.809973</td>\n",
       "      <td>88006.84</td>\n",
       "      <td>31184.18</td>\n",
       "    </tr>\n",
       "    <tr>\n",
       "      <th>198</th>\n",
       "      <td>15.697651</td>\n",
       "      <td>105.035207</td>\n",
       "      <td>117958.96</td>\n",
       "      <td>33324.36</td>\n",
       "    </tr>\n",
       "    <tr>\n",
       "      <th>199</th>\n",
       "      <td>50.275893</td>\n",
       "      <td>225.055138</td>\n",
       "      <td>407738.79</td>\n",
       "      <td>32079.13</td>\n",
       "    </tr>\n",
       "  </tbody>\n",
       "</table>\n",
       "<p>200 rows × 4 columns</p>\n",
       "</div>"
      ],
      "text/plain": [
       "     volume_sold  2015_margin  2015_q1_sales  2016_q1_sales\n",
       "0      18.420760    93.802281      337166.53      337804.05\n",
       "1       4.776510    21.082425       22351.86       21736.63\n",
       "2      16.602401    93.612494      277764.46      306942.27\n",
       "3       4.296111    16.824704       16805.11        9307.75\n",
       "4       8.156023    35.011457       54411.42       58939.90\n",
       "5       5.005122    31.877437      255939.81      332979.03\n",
       "6      14.606750    76.518973      319020.69      302592.88\n",
       "7       4.456466    19.337345       45340.33       55315.23\n",
       "8       5.047530    26.142470       57849.23       42398.57\n",
       "9       5.388070    22.427024       51031.04       56241.57\n",
       "10      9.347349    41.892133       68657.91        3536.14\n",
       "11     10.930398    66.403049        4151.93      137416.93\n",
       "12      6.270209    47.869324      121837.56      158476.55\n",
       "13     12.395919    86.760150      146725.31      125731.51\n",
       "14      4.557712    22.948176      119287.76       21834.49\n",
       "15      4.200122    18.706055       20335.03       39609.55\n",
       "16     10.252870    44.041177      110552.94      204038.87\n",
       "17     12.076785    62.199004      204237.78       15689.80\n",
       "18      3.725095    14.251810       16939.15       48545.69\n",
       "19      3.210727    16.043269       55498.12       16320.74\n",
       "20      6.290971    25.191171       15983.98       53182.55\n",
       "21      7.434821    31.753066       71758.66       30402.43\n",
       "22      4.376225    23.161451       62988.17       47217.40\n",
       "23     12.988913    48.820741       29637.75        6367.76\n",
       "24     11.697456    73.231504       48759.71      329252.09\n",
       "25      5.965175    23.450334       89736.70      332976.05\n",
       "26      3.945223    14.144793        5577.61      234926.02\n",
       "27      7.369585    36.408528      310035.66      151934.45\n",
       "28      7.343509    36.171862      310718.21      314068.92\n",
       "29     12.350027    59.893478      258284.84       61847.52\n",
       "..           ...          ...            ...            ...\n",
       "170     8.443932    37.407112       17232.45       19203.82\n",
       "171     5.151964    20.698042       21340.78       25302.92\n",
       "172     6.537069    22.888219       16617.85       18650.96\n",
       "173     8.500445    27.507729       21711.71       14626.29\n",
       "174     3.931543    21.811659       28128.95       46323.73\n",
       "175     6.163689    25.428521       21803.20      535381.86\n",
       "176     4.904447    19.568317       12517.29      812011.78\n",
       "177     7.402413    26.935335       53988.92      206247.57\n",
       "178    47.503269   235.730678      555707.40        6402.78\n",
       "179    55.739180   268.869600     1082136.01      100765.67\n",
       "180    11.840780    56.433388      192089.46       20098.61\n",
       "181     7.002294    26.440917        5574.99       68230.36\n",
       "182     8.753142    45.293847       80241.27      596063.00\n",
       "183     3.147741    15.594552       27043.54       87471.43\n",
       "184     7.196779    27.288652       61977.54      431990.70\n",
       "185    76.203692   367.225653      977772.62      136717.57\n",
       "186    10.804337    42.031199       41905.18       30008.81\n",
       "187    10.705327    45.891477       87839.45       19420.34\n",
       "188    51.800686   255.153235      445058.32      274752.60\n",
       "189     5.882779    27.512271      127495.18       10315.35\n",
       "190     6.686406    26.103097       23874.67       45252.42\n",
       "191     5.833355    23.741603       21535.87      433832.28\n",
       "192    45.556096   218.008350      276096.18       74215.43\n",
       "193     5.172606    21.548782        8506.79       78137.29\n",
       "194    10.118018    46.700709       49163.01       83915.72\n",
       "195    51.675537   233.533189      434110.57      372240.72\n",
       "196     2.794631    11.996118       73789.38      148021.90\n",
       "197     7.611698    38.809973       88006.84       31184.18\n",
       "198    15.697651   105.035207      117958.96       33324.36\n",
       "199    50.275893   225.055138      407738.79       32079.13\n",
       "\n",
       "[200 rows x 4 columns]"
      ]
     },
     "execution_count": 24,
     "metadata": {},
     "output_type": "execute_result"
    }
   ],
   "source": [
    "db = pd.read_csv('/Users/michaelmainzer/Documents/GA/DSI/DSI-ATL-1/curriculum/03-lessons/week-01/3.4-lab/assets/datasets/sales_info.csv',nrows=None)\n",
    "db\n",
    "\n",
    "#db.head()\n",
    "#db.shape\n",
    "#db.ix[:5,:2]"
   ]
  },
  {
   "cell_type": "code",
   "execution_count": 25,
   "metadata": {
    "collapsed": false
   },
   "outputs": [],
   "source": [
    "db2 = db.set_index('volume_sold').to_dict()['2015_margin']\n"
   ]
  },
  {
   "cell_type": "markdown",
   "metadata": {},
   "source": [
    "#### 1. Loading the data\n",
    "\n",
    "Set up an empty list called ```rows```.\n",
    "\n",
    "Using the pattern for loading csvs we learned earlier, add all of the rows in the csv file to the rows list.\n",
    "\n",
    "For your reference, the pattern is:\n",
    "```python\n",
    "with open(my_csv_path, 'r') as f:\n",
    "    reader = csv.reader(f)\n",
    "    ...\n",
    "```\n",
    "\n",
    "Beyond this, adding the rows in the csv file to the ```rows``` variable is up to you."
   ]
  },
  {
   "cell_type": "code",
   "execution_count": null,
   "metadata": {
    "collapsed": false
   },
   "outputs": [],
   "source": [
    "rows = []\n",
    "\n",
    "with open(sales_csv_path, 'r') as f:\n",
    "    reader = csv.reader(f)\n",
    "    for row in reader:\n",
    "        rows.append(row)"
   ]
  },
  {
   "cell_type": "markdown",
   "metadata": {},
   "source": [
    "##### 2. Separate header and data\n",
    "\n",
    "The header of the csv is contained in the first index of the ```rows``` variable, as it is the first row in the csv file. \n",
    "\n",
    "Use python indexing to create two new variables: ```header``` which contains the 4 column names, and ```data``` which contains the list of lists, each sub-list representing a row from the csv.\n",
    "\n",
    "Lastly, print ```header``` to see the names of the columns."
   ]
  },
  {
   "cell_type": "code",
   "execution_count": null,
   "metadata": {
    "collapsed": false
   },
   "outputs": [],
   "source": [
    "header = rows[0]\n",
    "data = rows[1:]\n",
    "print(header)"
   ]
  },
  {
   "cell_type": "markdown",
   "metadata": {},
   "source": [
    "#### 3. Create a dictionary with the data\n",
    "\n",
    "Use loops or list comprehensions to create a dictionary called ```sales_data```, where the keys of the dictionary are the column names, and the values of the dictionary are lists of the data points of the column corresponding to that column name."
   ]
  },
  {
   "cell_type": "code",
   "execution_count": null,
   "metadata": {
    "collapsed": false
   },
   "outputs": [],
   "source": [
    "sales_data = {}\n",
    "\n",
    "for index, column_name in enumerate(header):\n",
    "    sales_data[column_name] = []\n",
    "    for row in data:\n",
    "        sales_data[column_name].append(row[index])\n",
    "print sales_data"
   ]
  },
  {
   "cell_type": "markdown",
   "metadata": {},
   "source": [
    "**3.A** Print out the first 10 items of the 'volume_sold' column."
   ]
  },
  {
   "cell_type": "code",
   "execution_count": null,
   "metadata": {
    "collapsed": false
   },
   "outputs": [],
   "source": [
    "sales_data['volume_sold'][0:10]"
   ]
  },
  {
   "cell_type": "markdown",
   "metadata": {},
   "source": [
    "#### 4. Convert data from string to float\n",
    "\n",
    "As you can see, the data is still in string format (which is how it is read in from the csv). For each key:value pair in our ```sales_data``` dictionary, convert the values (column data) from string values to float values."
   ]
  },
  {
   "cell_type": "code",
   "execution_count": null,
   "metadata": {
    "collapsed": false
   },
   "outputs": [],
   "source": [
    "for name, col in sales_data.items():\n",
    "    col = [float(x) for x in col]\n",
    "    sales_data[name] = col\n",
    "    "
   ]
  },
  {
   "cell_type": "markdown",
   "metadata": {},
   "source": [
    "#### 5. Write function to print summary statistics\n",
    "\n",
    "Now write a function to print out summary statistics for the data.\n",
    "\n",
    "Your function should:\n",
    "\n",
    "- Accept two arguments: the column name and the data associated with that column\n",
    "- Print out information, clearly labeling each item when you print it:\n",
    "    1. Print out the column name\n",
    "    2. Print the mean of the data using ```np.mean()```\n",
    "    3. Print out the median of the data using ```np.median()```\n",
    "    4. Print out the mode of the **rounded data** using ```stats.mode()```\n",
    "    5. Print out the variance of the data using ```np.var()```\n",
    "    6. Print out the standard deviation of the data using ```np.std()```\n",
    "    \n",
    "Remember that you will need to convert the numeric data from these function to strings by wrapping them in the ```str()``` function."
   ]
  },
  {
   "cell_type": "code",
   "execution_count": 29,
   "metadata": {
    "collapsed": false,
    "scrolled": true
   },
   "outputs": [],
   "source": [
    "def summary_statistics(column, data):\n",
    "    print 'COLUMN: ' + column\n",
    "    print 'mean: ' + str(np.mean(data))\n",
    "    print 'median: ' + str(np.median(data))\n",
    "    print 'mode: ' + str(stats.mode([round(d) for d in data]))\n",
    "    print 'variance: ' + str(np.var(data))\n",
    "    print 'standard deviation: ' + str(np.std(data))"
   ]
  },
  {
   "cell_type": "markdown",
   "metadata": {},
   "source": [
    "**5.A** Using your function, print the summary statistics for 'volume_sold'"
   ]
  },
  {
   "cell_type": "code",
   "execution_count": 30,
   "metadata": {
    "collapsed": false
   },
   "outputs": [
    {
     "ename": "KeyError",
     "evalue": "'volume_sold'",
     "output_type": "error",
     "traceback": [
      "\u001b[0;31m---------------------------------------------------------------------------\u001b[0m",
      "\u001b[0;31mKeyError\u001b[0m                                  Traceback (most recent call last)",
      "\u001b[0;32m<ipython-input-30-3b67d54d50a1>\u001b[0m in \u001b[0;36m<module>\u001b[0;34m()\u001b[0m\n\u001b[0;32m----> 1\u001b[0;31m \u001b[0;32mprint\u001b[0m \u001b[0msummary_statistics\u001b[0m\u001b[0;34m(\u001b[0m\u001b[0;34m'volume_sold'\u001b[0m\u001b[0;34m,\u001b[0m \u001b[0msales_data\u001b[0m\u001b[0;34m[\u001b[0m\u001b[0;34m'volume_sold'\u001b[0m\u001b[0;34m]\u001b[0m\u001b[0;34m)\u001b[0m\u001b[0;34m\u001b[0m\u001b[0m\n\u001b[0m",
      "\u001b[0;31mKeyError\u001b[0m: 'volume_sold'"
     ]
    }
   ],
   "source": [
    "print summary_statistics('volume_sold', sales_data['volume_sold'])"
   ]
  },
  {
   "cell_type": "markdown",
   "metadata": {},
   "source": [
    "**5.B** Using your function, print the summary statistics for '2015_margin'"
   ]
  },
  {
   "cell_type": "code",
   "execution_count": null,
   "metadata": {
    "collapsed": false
   },
   "outputs": [],
   "source": [
    "summary_statistics('2015_margin', sales_data['2015_margin'])"
   ]
  },
  {
   "cell_type": "markdown",
   "metadata": {},
   "source": [
    "**5.C** Using your function, print the summary statistics for '2015_q1_sales'"
   ]
  },
  {
   "cell_type": "code",
   "execution_count": null,
   "metadata": {
    "collapsed": false
   },
   "outputs": [],
   "source": [
    "summary_statistics('2015_q1_sales', sales_data['2015_q1_sales'])"
   ]
  },
  {
   "cell_type": "markdown",
   "metadata": {},
   "source": [
    "**5.D** Using your function, print the summary statistics for '2016_q1_sales'"
   ]
  },
  {
   "cell_type": "code",
   "execution_count": null,
   "metadata": {
    "collapsed": false
   },
   "outputs": [],
   "source": [
    "summary_statistics('2016_q1_sales', sales_data['2016_q1_sales'])"
   ]
  },
  {
   "cell_type": "markdown",
   "metadata": {},
   "source": [
    "#### 6. Plot the distributions\n",
    "\n",
    "We've provided a plotting function below called ```distribution_plotter()```. It takes two arguments, the name of the column and the data associated with that column.\n",
    "\n",
    "In individual cells, plot the distributions for each of the 4 columns. Do the data appear skewed? Symmetrical? If skewed, what would be your hypothesis for why?"
   ]
  },
  {
   "cell_type": "code",
   "execution_count": null,
   "metadata": {
    "collapsed": true
   },
   "outputs": [],
   "source": [
    "def distribution_plotter(column, data):\n",
    "    sns.set(rc={\"figure.figsize\": (10, 7)})\n",
    "    sns.set_style(\"white\")\n",
    "    dist = sns.distplot(data, hist_kws={'alpha':0.2}, kde_kws={'linewidth':5})\n",
    "    dist.set_title('Distribution of ' + column + '\\n', fontsize=16)"
   ]
  },
  {
   "cell_type": "code",
   "execution_count": null,
   "metadata": {
    "collapsed": false
   },
   "outputs": [],
   "source": [
    "distribution_plotter('volume_sold', sales_data['volume_sold'])"
   ]
  },
  {
   "cell_type": "code",
   "execution_count": null,
   "metadata": {
    "collapsed": false
   },
   "outputs": [],
   "source": [
    "distribution_plotter('2015_margin', sales_data['2015_margin'])"
   ]
  },
  {
   "cell_type": "code",
   "execution_count": null,
   "metadata": {
    "collapsed": false
   },
   "outputs": [],
   "source": [
    "distribution_plotter('2015_q1_sales', sales_data['2015_q1_sales'])"
   ]
  },
  {
   "cell_type": "code",
   "execution_count": null,
   "metadata": {
    "collapsed": false
   },
   "outputs": [],
   "source": [
    "distribution_plotter('2016_q1_sales', sales_data['2016_q1_sales'])"
   ]
  }
 ],
 "metadata": {
  "kernelspec": {
   "display_name": "Python 2",
   "language": "python",
   "name": "python2"
  },
  "language_info": {
   "codemirror_mode": {
    "name": "ipython",
    "version": 2
   },
   "file_extension": ".py",
   "mimetype": "text/x-python",
   "name": "python",
   "nbconvert_exporter": "python",
   "pygments_lexer": "ipython2",
   "version": "2.7.11"
  }
 },
 "nbformat": 4,
 "nbformat_minor": 0
}
